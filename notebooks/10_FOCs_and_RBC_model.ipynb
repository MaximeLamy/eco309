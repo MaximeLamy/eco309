{
 "cells": [
  {
   "cell_type": "markdown",
   "metadata": {},
   "source": [
    "# First order conditions and RBC model"
   ]
  },
  {
   "cell_type": "markdown",
   "metadata": {},
   "source": [
    "## Perturbation of Neoclassical Growth model and Blanchard-Kahn conditions\n",
    "\n",
    "\n",
    "A representative agent uses capital $k_t$ to produce $y_t$ using the following production function:\n",
    "\n",
    "$$y_t = k_t^{\\alpha}$$\n",
    "\n",
    "He chooses to consume an amount $c_t \\in ]0, y_t]$ and invests what remains:\n",
    "\n",
    "$$i_t = y_t - c_t$$.\n",
    "\n",
    "He accumulates capital $k_t$ according to:\n",
    "\n",
    "$$k_{t+1} = \\left( 1-\\delta \\right) k_{t} + i_{t}$$\n",
    "\n",
    "where $\\delta$ is the depreciation rate and $i_t$ is the amount invested.\n",
    "\n",
    "The goal of the representative agent is to maximize:\n",
    "\n",
    "$$\\sum_{t\\geq 0} \\beta^t U(c_t)$$\n",
    "\n",
    "where $U(x)=\\frac{x^{1-\\gamma}}{1-\\gamma}$ and $\\beta<1$ is the discount factor.\n"
   ]
  },
  {
   "cell_type": "markdown",
   "metadata": {},
   "source": [
    "__Compute the first order conditions and the steady-state__"
   ]
  },
  {
   "cell_type": "code",
   "execution_count": null,
   "metadata": {},
   "outputs": [],
   "source": []
  },
  {
   "cell_type": "markdown",
   "metadata": {},
   "source": [
    "__We'll assume the decision rule is $k_{t+1} = \\varphi(k_t)$ where $\\varphi$ is a function to be determined. What is the functional equation satisfied by $\\varphi$?__"
   ]
  },
  {
   "cell_type": "code",
   "execution_count": null,
   "metadata": {},
   "outputs": [],
   "source": []
  },
  {
   "cell_type": "markdown",
   "metadata": {},
   "source": [
    "__At the steady-state $\\overline{k} = \\varphi(\\overline{k})$. We want to characterize the first order coefficient: $\\varphi_0$ such that $\\varphi(k) = \\overlin{k} + \\varphi_0 (k-\\overline{k}) + o(k-\\overline{k})$. Show that $\\varphi_0$ satisfies a second order equation.__"
   ]
  },
  {
   "cell_type": "code",
   "execution_count": null,
   "metadata": {},
   "outputs": [],
   "source": []
  },
  {
   "cell_type": "markdown",
   "metadata": {},
   "source": [
    "__Find the roots of these equations and discuss stability ($|\\varphi_0|<1$) and unicity. By definition, a linear model satisfies the \"Blanchard-Kahn\" condition if there is a unique stable solution.__"
   ]
  },
  {
   "cell_type": "code",
   "execution_count": null,
   "metadata": {},
   "outputs": [],
   "source": []
  },
  {
   "cell_type": "markdown",
   "metadata": {},
   "source": [
    "## RBC and Business Cycles"
   ]
  },
  {
   "cell_type": "markdown",
   "metadata": {},
   "source": [
    "__Using US data until 2007, measure the business cycle covariances between investment, consumption, production. Data should be detrended using the HP filter.__"
   ]
  },
  {
   "cell_type": "code",
   "execution_count": null,
   "metadata": {},
   "outputs": [],
   "source": []
  },
  {
   "cell_type": "markdown",
   "metadata": {},
   "source": [
    "__Use Dolo and the `rbc_iid.yaml` model to solve the RBC model. Simulate the model and compare the moments to the data.__"
   ]
  },
  {
   "cell_type": "code",
   "execution_count": null,
   "metadata": {},
   "outputs": [],
   "source": []
  }
 ],
 "metadata": {
  "kernelspec": {
   "display_name": "Julia 1.4.2",
   "language": "julia",
   "name": "julia-1.4"
  },
  "language_info": {
   "file_extension": ".jl",
   "mimetype": "application/julia",
   "name": "julia",
   "version": "1.4.2"
  }
 },
 "nbformat": 4,
 "nbformat_minor": 4
}
