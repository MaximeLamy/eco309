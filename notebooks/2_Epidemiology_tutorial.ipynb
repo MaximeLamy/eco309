{
 "cells": [
  {
   "cell_type": "markdown",
   "metadata": {},
   "source": [
    "# Computational Economics  (ECO288)\n",
    "\n",
    "## Tutorial: Epidemiology Models\n",
    "\n",
    "\n",
    "H.W. Heathcote: epidemiologic models are *deterministic models for infectious diseases which are spread by direct person-to-person contact in a population*.\n",
    "\n",
    "This kind of models has been used since by a few decades by economist, for matters that have nothing to do with health.\n",
    "\n",
    "- diffusion of information, or opinions on social medias\n",
    "- asset prices and fads\n",
    "- expectation formation for macroeconomic outcomes (ex: *The Epidemiology of Macroeconomic Expectations* by Chris Carroll)\n",
    "\n",
    "Epidemiologic models have two features that depart from standard economic models:\n",
    "\n",
    "- Agent's behaviour does not take the full system into account, an is irrational in the sense that it isn't forwards looking. Instead, an agent is given a behavioural heuristic.\n",
    "- The transitions of the whole system can be determined without solving for complex interactions first.\n",
    "\n",
    "Understanding why these two assumptions are very costly for economists will keep us busy during a big part of the course. Here we just consider two simple models as small programming exercises."
   ]
  },
  {
   "cell_type": "markdown",
   "metadata": {},
   "source": [
    "### Simple SIR model\n",
    "\n",
    "There is a continuum of agents of mass $1$. Each agent can be either \"Susceptible\" (S), \"Infected\" (I) or \"Recovered\" (R).\n",
    "In each period, one agent meets another agent drawn randomly.\n",
    "During a meeting Susceptible agents who meet an infected agent, will always catch the disease (or the fad) but are not contagious. Infected agents, have a probability $\\pi$ of being recovered. Nothing happens to Recovered agents who meet other people. No distinction is made between recovering as a healthy or a dead person.\n",
    "\n",
    "We're interested in the evolution in the number infected persons, both the speed of infection and the total amount of infected people in every period."
   ]
  },
  {
   "cell_type": "markdown",
   "metadata": {},
   "source": [
    "__Write down the transition equations for $n_I$, the number of infected people, for $n_R$ the number of recovered people and $n_S$ the number of susceptible people.__\n",
    "\n"
   ]
  },
  {
   "cell_type": "markdown",
   "metadata": {},
   "source": [
    "$n_{R,t} =  n_{R,t-1} + n_{I,t-1}*\\pi$\n",
    "\n",
    "$n_{I,t} = n_{I,t-1} \\underbrace{- n_{I,t-1}*\\pi}_{\\text{those who have recovered}} + \\underbrace{ {n_{S,t-1} \\frac{  n_{I,t-1} } {1}}}_{\\text{those who are just infected}} $\n",
    "\n",
    "$n_{S,t} = n_{S,t-1} - n_{S,t-1}   \\frac{  n_{I,t-1} } {1} - \\underbrace{ {n_{S,t-1} \\frac{  n_{I,t-1} } {1}}}_{\\text{those who are just infected}}$\n",
    "\n",
    "(recall that $ 1= n_I+n_S+n_R$)"
   ]
  },
  {
   "cell_type": "markdown",
   "metadata": {},
   "source": [
    "__Compute the transition function `f` for the vector state $s_t$ returning $s_{t+1}$__\n",
    "\n"
   ]
  },
  {
   "cell_type": "code",
   "execution_count": null,
   "metadata": {},
   "outputs": [],
   "source": [
    "Π = 0.10"
   ]
  },
  {
   "cell_type": "code",
   "execution_count": null,
   "metadata": {},
   "outputs": [],
   "source": [
    "function f(s)\n",
    "    n_S, n_I, n_R = s\n",
    "    new_recovered = n_I*Π\n",
    "    new_infected = n_S*n_I\n",
    "    nn_R = n_R + new_recovered\n",
    "    nn_S = n_S - new_infected\n",
    "    nn_I = n_I + new_infected - new_recovered\n",
    "    # nn_R + nn_S + nn_I sums to  n_R + n_S + n_I = 1\n",
    "    return [nn_S, nn_I, nn_R]\n",
    "end"
   ]
  },
  {
   "cell_type": "code",
   "execution_count": null,
   "metadata": {},
   "outputs": [],
   "source": [
    "f([0.3, 0.4, 0.3])"
   ]
  },
  {
   "cell_type": "markdown",
   "metadata": {},
   "source": [
    "__Compute the transitions over $T$ periods. Plot the result using Plots.jl. (bonus: check against closed form solution)__\n",
    "\n"
   ]
  },
  {
   "cell_type": "code",
   "execution_count": null,
   "metadata": {},
   "outputs": [],
   "source": [
    "T = 100\n",
    "v0 = [0.9, 0.1, 0.0]\n",
    "sim  = Vector{Float64}[]\n",
    "for t=1:T\n",
    "    push!(sim, v0)\n",
    "    v1 = f(v0)\n",
    "    v0 = v1\n",
    "end"
   ]
  },
  {
   "cell_type": "code",
   "execution_count": null,
   "metadata": {},
   "outputs": [],
   "source": [
    "using Plots"
   ]
  },
  {
   "cell_type": "code",
   "execution_count": null,
   "metadata": {},
   "outputs": [],
   "source": [
    "pl = plot(x=1:T, [el[1] for el in sim], label=\"Suceptible\" )\n",
    "plot!(pl, x=1:T, [el[2] for el in sim], label=\"Infected\" )\n",
    "plot!(pl, x=1:T, [el[3] for el in sim], label=\"Recovered\" )"
   ]
  },
  {
   "cell_type": "markdown",
   "metadata": {},
   "source": [
    "__We now assume a Susceptible person who meets an infected one has a probability $\\mu$ of catching the disease. Update the transition function. Update function $f$ and write a function of $\\mu$, $\\pi$ which returns the simulation. Compare different values of the parameters. How would you interpret \"social distancing\"? How would you choose parameters $\\Pi$ and $\\mu$__ "
   ]
  },
  {
   "cell_type": "markdown",
   "metadata": {},
   "source": [
    "Here we essentially refactor our former experiments. The updated equations are:\n",
    "\n",
    "$$n_{R,t}  =  n_{R,t-1} + n_{I,t-1}*\\pi$$\n",
    "$$n_{I,t}  =  n_{I,t-1} \\underbrace{- n_{I,t-1}*\\pi}_{\\text{those who have recovered}} + \\underbrace{ {n_{S,t-1} \\frac{  n_{I,t-1} } {1}}}_{\\text{those who are just infected}}$$\n",
    "\n",
    "$$n_{S,t} =  n_{S,t-1} - n_{S,t-1}   \\frac{  n_{I,t-1} } {1} + \\underbrace{ {n_{S,t-1} \\frac{  n_{I,t-1} } {1}}}_{\\text{those who are just infected}}$$\n",
    "\n",
    "\n"
   ]
  },
  {
   "cell_type": "code",
   "execution_count": null,
   "metadata": {},
   "outputs": [],
   "source": [
    "function f(s; μ=1.0, Π=0.1)\n",
    "    # note: there exist several types of arguments:\n",
    "    # - positional : s\n",
    "    # - positional and optional (with default value): not existent\n",
    "    # - keyword arguments with default values after the semi-colon: μ and Π \n",
    "    n_S, n_I, n_R = s\n",
    "    new_recovered = n_I*Π\n",
    "    new_infected = n_S*n_I*μ\n",
    "    nn_R = n_R + new_recovered\n",
    "    nn_S = n_S - new_infected\n",
    "    nn_I = n_I + new_infected - new_recovered\n",
    "    # nn_R + nn_S + nn_I sums to  n_R + n_S + n_I = 1\n",
    "    return [nn_S, nn_I, nn_R]\n",
    "end\n",
    "function simulate(;v0=[1.0,0.0,0.0], T=100, μ=1.0, Π=0.1)\n",
    "    T = 100\n",
    "    v0 = [0.9, 0.1, 0.0]\n",
    "    sim  = Vector{Float64}[]\n",
    "    for t=1:T\n",
    "        push!(sim, v0)\n",
    "        v1 = f(v0; μ=μ, Π=Π)\n",
    "        v0 = v1\n",
    "    end\n",
    "    return hcat(sim...)\n",
    "end"
   ]
  },
  {
   "cell_type": "code",
   "execution_count": null,
   "metadata": {},
   "outputs": [],
   "source": [
    "sim1 = simulate(μ=0.5)\n",
    "pl1 = plot(x=1:T, sim1[1,:], label=\"Suceptible\", title=\"mu=0.5\" )\n",
    "plot!(pl1, x=1:T, sim1[2,:], label=\"Infected\" )\n",
    "plot!(pl1, x=1:T, sim1[3,:], label=\"Recovered\" )\n",
    "sim2 = simulate(μ=1.0)\n",
    "pl2 = plot(x=1:T, sim2[1,:], label=\"Suceptible\", title=\"mu=1.0\" )\n",
    "plot!(pl2, x=1:T, sim2[2,:], label=\"Infected\" )\n",
    "plot!(pl2, x=1:T, sim2[3,:], label=\"Recovered\" )\n",
    "plot(pl1,pl2)"
   ]
  },
  {
   "cell_type": "markdown",
   "metadata": {},
   "source": [
    "### A Spatial SIR model\n",
    "\n",
    "We now consider another version of the model where agents evolve in the space $\\mathcal{S}=[0,1]\\times[0,1]$. There are $N\\in\\mathbb{N}$ agent. At any date, each agent $n \\in [0,1]$  is located at $(x_n,y_n)\\in \\mathcal{S}$.\n",
    "\n",
    "Each agent moves follows a random walk bounded by $\\mathcal{S}$:\n",
    "$$x_t = \\min(\\max( x_{t-1} + \\epsilon_t, 0), 1)$$\n",
    "$$y_t = \\min(\\max( y_{t-1} + \\eta_t, 0), 1)$$\n",
    "where $\\epsilon_t$ and $\\eta_t$ are both normally distributed with standard deviation $\\sigma$.\n",
    "\n",
    "At any date, the individual state of an agent is $s_t=(x_t, y_t, h_t)$ where $h_t$ is either \"S\", \"I\" or \"R\". $v_t$ denotes the states of all agents (for instance $v_t=(s_{n,t})_n$. The health status of each agent is updated in the following way:\n",
    "\n",
    "- Agents $R$ stay $R$.\n",
    "- Agents $I$ have probability $\\pi$ to become $R$. They stay $I$ otherwise.\n",
    "- An agent of type $S$ in position $(x,y)$ has a probability $prob(x,y,S)$ to be infected that is $\\mu$ if there is another infected agent within a radius $r>0$.\n"
   ]
  },
  {
   "cell_type": "markdown",
   "metadata": {},
   "source": [
    "__Define a type `Agent`, which holds the type of an agent. The state of the whole system will be held in a `Vector[Agent]` type.__\n",
    "\n"
   ]
  },
  {
   "cell_type": "code",
   "execution_count": null,
   "metadata": {},
   "outputs": [],
   "source": [
    "struct Agent\n",
    "    x::Float64\n",
    "    y::Float64\n",
    "    h::Int64    # 0 if susceptible, 1 if infected, 2 if recovered\n",
    "\n",
    "end"
   ]
  },
  {
   "cell_type": "code",
   "execution_count": null,
   "metadata": {},
   "outputs": [],
   "source": [
    "# optional: we define a default constructor so that initial position is random by default.\n",
    "Agent() = Agent(rand(), rand(), 0)"
   ]
  },
  {
   "cell_type": "code",
   "execution_count": null,
   "metadata": {},
   "outputs": [],
   "source": [
    "susceptible(agent::Agent) = (agent.h==0)\n",
    "infected(agent::Agent) = (agent.h==1)\n",
    "recovered(agent::Agent) = (agent.h==2)"
   ]
  },
  {
   "cell_type": "markdown",
   "metadata": {},
   "source": [
    "__Write a function `spatial_transition(S::Vector[Agent])::Vector[Agent]` to compute the transition of the positions. Write another function `random_guess(T=100)` which simulates for $T$ periods in order to find a good initial guess.__\n",
    "\n"
   ]
  },
  {
   "cell_type": "markdown",
   "metadata": {},
   "source": [
    "We need to be able to draw numbers form a gaussian distribution. The base library contains the `randn` function for that (function `rand` draws uniformly from [0,1])).\n",
    "The function we use to compute the maximum (resp minimum) of two numbers is called `max` (resp `min`)\n",
    "\n",
    "We'll write first the function to compute the movement of one agent.\n"
   ]
  },
  {
   "cell_type": "code",
   "execution_count": null,
   "metadata": {},
   "outputs": [],
   "source": [
    "function spatial_transition(s::Agent; σ=0.1)\n",
    "    x = s.x + randn()*σ :: Float64 # type annotations are not mandatory\n",
    "    y = s.y + randn()*σ :: Float64 # they can be used to document the code or to implement a type check\n",
    "    x = max(min(x, 1.0), 0.0)\n",
    "    y = max(min(y, 1.0), 0.0)\n",
    "    return Agent(x,y,s.h)\n",
    "end"
   ]
  },
  {
   "cell_type": "code",
   "execution_count": null,
   "metadata": {},
   "outputs": [],
   "source": [
    "# let's try\n",
    "a = Agent()\n",
    "a1 = spatial_transition(a)\n",
    "(a, a1)"
   ]
  },
  {
   "cell_type": "code",
   "execution_count": null,
   "metadata": {},
   "outputs": [],
   "source": [
    "population = [Agent() for i=1:5]"
   ]
  },
  {
   "cell_type": "markdown",
   "metadata": {},
   "source": [
    "The function spatial_transition has been defined for one single agent\n",
    "we could define `spatial_transition(agents::Vector{Agent})=[spatial_transition(agent) for agent in agents]`\n",
    "but we can also directly use the vectorization syntax `.`. (take a mental note of how beautiful that is)"
   ]
  },
  {
   "cell_type": "code",
   "execution_count": null,
   "metadata": {},
   "outputs": [],
   "source": [
    "spatial_transition.(population)"
   ]
  },
  {
   "cell_type": "markdown",
   "metadata": {},
   "source": [
    "__Write a function `show_population` to plot all agents with different colors for different health status.__\n",
    "\n"
   ]
  },
  {
   "cell_type": "code",
   "execution_count": null,
   "metadata": {},
   "outputs": [],
   "source": [
    "using Plots"
   ]
  },
  {
   "cell_type": "code",
   "execution_count": null,
   "metadata": {},
   "outputs": [],
   "source": [
    "function show_population(agents::Vector{Agent})\n",
    "    pl = plot(xlim=(0,1), ylim=(0,1))\n",
    "    x = [agent.x for agent in agents if susceptible(agent)]\n",
    "    y = [agent.y for agent in agents if susceptible(agent)]\n",
    "    scatter!(pl, x, y, color=\"blue\", label=\"Susceptible\")\n",
    "    x = [agent.x for agent in agents if infected(agent)]\n",
    "    y = [agent.y for agent in agents if infected(agent)]\n",
    "    scatter!(pl, x, y, color=\"red\", label=\"Infected\")\n",
    "    x = [agent.x for agent in agents if recovered(agent)]\n",
    "    y = [agent.y for agent in agents if recovered(agent)]\n",
    "    scatter!(pl, x, y, color=\"green\", label=\"Recovered\")\n",
    "end"
   ]
  },
  {
   "cell_type": "code",
   "execution_count": null,
   "metadata": {},
   "outputs": [],
   "source": [
    "show_population(population)"
   ]
  },
  {
   "cell_type": "markdown",
   "metadata": {},
   "source": [
    "__Write a function `evolve(S::Vector[Agent])::Vector[Agent]` which takes the population in a given state and returns the same population with updated health status.__\n",
    "\n"
   ]
  },
  {
   "cell_type": "code",
   "execution_count": null,
   "metadata": {},
   "outputs": [],
   "source": [
    "function prob(agent::Agent, agents::Vector{Agent}; μ=1.0, r=0.1)\n",
    "    # count number of agents within r radius\n",
    "    c = 0\n",
    "    for agent2 in agents\n",
    "        if agent.x==agent2.x && agent2.y==agent.y\n",
    "            # same agent: ignore\n",
    "        else\n",
    "            d = sqrt( sqrt((agent.x-agent2.x)^2 + (agent.y-agent2.y)^2) )\n",
    "            if d<r\n",
    "                c += 1\n",
    "            end\n",
    "        end\n",
    "    end\n",
    "    if c>0\n",
    "        return μ\n",
    "    else\n",
    "        return 0.0\n",
    "    end\n",
    "    \n",
    "end"
   ]
  },
  {
   "cell_type": "code",
   "execution_count": null,
   "metadata": {},
   "outputs": [],
   "source": [
    "function evolve(agents::Vector{Agent};Π=0.1, )\n",
    "    new_agents = Agent[]\n",
    "    for agent in agents\n",
    "        if recovered(agent)\n",
    "            # nothing to do\n",
    "            push!(new_agents, agent)\n",
    "        elseif infected(agent)\n",
    "            # with probability Π this agent recovers\n",
    "            # let's draw a uniform distribution between 0 and 1\n",
    "            # and compare it with Π\n",
    "            if rand()<Π\n",
    "               push!(new_agents, Agent(agent.x, agent.y, 2))\n",
    "            else\n",
    "                push!(new_agents, agent)\n",
    "            end\n",
    "        elseif susceptible(agent)\n",
    "            # compute the probability of being infected\n",
    "            p = prob(agent, agents)\n",
    "            if rand()<p\n",
    "                push!(new_agents, Agent(agent.x, agent.y, 1))\n",
    "            else\n",
    "                push!(new_agents, agent)\n",
    "            end\n",
    "        end\n",
    "    end\n",
    "    return new_agents\n",
    "end\n"
   ]
  },
  {
   "cell_type": "code",
   "execution_count": null,
   "metadata": {},
   "outputs": [],
   "source": [
    "infect(agent::Agent) = Agent(agent.x, agent.y, 1)"
   ]
  },
  {
   "cell_type": "markdown",
   "metadata": {},
   "source": [
    "__Write a function `simulate(S0::Vector[Agent], k=1)` to simulate the economy starting from an initially random position with `k` infected individuals. The returned object should be of type `Vector[Vector[Agent]]`.__\n",
    "\n"
   ]
  },
  {
   "cell_type": "code",
   "execution_count": null,
   "metadata": {},
   "outputs": [],
   "source": [
    "N = 50\n",
    "population_0 = [Agent() for i=1:N]\n",
    "population_0[1] = infect(population_0[1])"
   ]
  },
  {
   "cell_type": "code",
   "execution_count": null,
   "metadata": {},
   "outputs": [],
   "source": [
    "show_population(population_0)"
   ]
  },
  {
   "cell_type": "code",
   "execution_count": null,
   "metadata": {},
   "outputs": [],
   "source": [
    "function simulate(population_0; T=100)\n",
    "    simulation = []\n",
    "    push!(simulation, population_0)\n",
    "    for t=1:T\n",
    "        pop = simulation[end]\n",
    "        pop = spatial_transition.(pop)\n",
    "        pop = evolve(pop)\n",
    "        push!(simulation, pop)\n",
    "        \n",
    "    end\n",
    "    return simulation\n",
    "    \n",
    "end"
   ]
  },
  {
   "cell_type": "code",
   "execution_count": null,
   "metadata": {},
   "outputs": [],
   "source": [
    "sims = simulate(population_0);"
   ]
  },
  {
   "cell_type": "code",
   "execution_count": null,
   "metadata": {},
   "outputs": [],
   "source": [
    "show_population(sims[30])"
   ]
  },
  {
   "cell_type": "markdown",
   "metadata": {},
   "source": [
    "__Compute statistics along a simulated path for $n_I$, $n_S$, $n_R$. Plot and compare with the basic SIR model__"
   ]
  },
  {
   "cell_type": "code",
   "execution_count": null,
   "metadata": {},
   "outputs": [],
   "source": [
    "n_S_vec = [length([ag for ag in pop if susceptible(ag)]) for pop in sims] / length(sims);\n",
    "n_I_vec = [length([ag for ag in pop if infected(ag)]) for pop in sims] / length(sims);\n",
    "n_R_vec = [length([ag for ag in pop if recovered(ag)]) for pop in sims] / length(sims);"
   ]
  },
  {
   "cell_type": "code",
   "execution_count": null,
   "metadata": {},
   "outputs": [],
   "source": [
    "pl = plot()\n",
    "plot!(pl, n_S_vec, label=\"Susceptible\")\n",
    "plot!(pl, n_I_vec, label=\"Infected\")\n",
    "plot!(pl, n_R_vec, label=\"Recovered\")"
   ]
  },
  {
   "cell_type": "markdown",
   "metadata": {},
   "source": [
    "### Additional questions\n",
    "\n",
    "Have fun by trying to answer one of these questions:\n",
    "- change probability of infection so that it depends on the number of infected people in the vincinity (with some suitable functional formulation for)\n",
    "- compute an animation of the transition\n",
    "- compute an interactive visualisation (with `Interact.jl` if available)"
   ]
  },
  {
   "cell_type": "code",
   "execution_count": null,
   "metadata": {},
   "outputs": [],
   "source": [
    "anim = @animate for i ∈ 1:length(sims)\n",
    "    show_population(sims[i])\n",
    "end"
   ]
  },
  {
   "cell_type": "code",
   "execution_count": null,
   "metadata": {},
   "outputs": [],
   "source": [
    "gif(anim, fps=2)"
   ]
  }
 ],
 "metadata": {
  "kernelspec": {
   "display_name": "Julia 1.4.0",
   "language": "julia",
   "name": "julia-1.4"
  }
 },
 "nbformat": 4,
 "nbformat_minor": 4
}
