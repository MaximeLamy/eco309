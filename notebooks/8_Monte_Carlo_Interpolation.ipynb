{
 "cells": [
  {
   "cell_type": "markdown",
   "metadata": {},
   "source": [
    "## Computing expected consumption\n",
    "\n",
    "Assume consumption is given by $C(\\epsilon)=U(e^{\\epsilon})$ with $\\epsilon$ is a random variable with standard deviation ${\\sigma}_{\\epsilon}=0.05$.\n",
    "\n",
    "Set utility of consumption to be: $U(x)=\\frac{x^{-\\gamma}}{-\\gamma}$.\n",
    "\n",
    "Goal is to compare several ways to compute $E_{\\epsilon}(C(\\epsilon))$ .\n",
    "\n",
    "We'll use the calibration $\\gamma=40$ and ${\\sigma}_{\\epsilon}=0.05$. "
   ]
  },
  {
   "cell_type": "markdown",
   "metadata": {},
   "source": [
    "__(optional) Compute the result in closed form__\n",
    "\n",
    "Hint: $$\\int_{-\\infty}^{\\infty}e^{-a x^2+bx +c} dx = \\sqrt{\\frac{\\pi}{a}} e^{\\frac{b^2}{4a}+c}$$"
   ]
  },
  {
   "cell_type": "code",
   "execution_count": null,
   "metadata": {},
   "outputs": [],
   "source": []
  },
  {
   "cell_type": "markdown",
   "metadata": {},
   "source": [
    "__Compute the result by approximating an integral with `QuadGK`__"
   ]
  },
  {
   "cell_type": "code",
   "execution_count": null,
   "metadata": {},
   "outputs": [],
   "source": []
  },
  {
   "cell_type": "markdown",
   "metadata": {},
   "source": [
    "__Compute the result using Monte-Carlo simulations. Evaluate the variance of the estimation.__"
   ]
  },
  {
   "cell_type": "code",
   "execution_count": null,
   "metadata": {},
   "outputs": [],
   "source": []
  },
  {
   "cell_type": "markdown",
   "metadata": {},
   "source": [
    "__Compute the result using Gauss-Hermite quadrature__"
   ]
  },
  {
   "cell_type": "code",
   "execution_count": null,
   "metadata": {},
   "outputs": [],
   "source": []
  },
  {
   "cell_type": "code",
   "execution_count": null,
   "metadata": {},
   "outputs": [],
   "source": []
  },
  {
   "cell_type": "markdown",
   "metadata": {},
   "source": [
    "## Cournot model\n",
    "\n",
    "In Cournot competition, and oligopolistic firm equates marginal cost to marginal\n",
    "revenue: $p + q dp/dq$.\n",
    "\n",
    "Pricing decision will depend on the demand elasticity: $$dp/dq = 1/D'(p)$$\n",
    "\n",
    "Our goal is to find the effective supply function $S(p)$.\n",
    "\n",
    "It satisfies the functional equation:\n",
    "    \n",
    "$$p + S(p)/D'(p) - MC(S(p)) = 0$$\n",
    "\n",
    "Assume \n",
    "    \n",
    "$$D(p) = p^{-\\eta}$$\n",
    "$$MC(q) = \\alpha \\sqrt{q} + q^2$$\n",
    "\n",
    "Use the calibration $\\alpha=1$, $\\eta=1.5$.\n"
   ]
  },
  {
   "cell_type": "markdown",
   "metadata": {},
   "source": [
    "__Direct approach:__\n",
    "\n",
    "- write a routine which solves $S(p)$ for given $p$\n",
    "- write a routine which solves $S(p)$ for a vector of $p$"
   ]
  },
  {
   "cell_type": "code",
   "execution_count": null,
   "metadata": {},
   "outputs": [],
   "source": []
  },
  {
   "cell_type": "markdown",
   "metadata": {},
   "source": [
    "__Collocation__\n",
    "\n",
    "- construct a Chebychev functional space using BasisMatrices, with matching chebychev nodes\n",
    "- inspect the Basis matrix and plot the various basis polynomials\n",
    "- solve the above problem with collocation\n",
    "- plot the result"
   ]
  },
  {
   "cell_type": "code",
   "execution_count": null,
   "metadata": {},
   "outputs": [],
   "source": []
  }
 ],
 "metadata": {
  "kernelspec": {
   "display_name": "Julia 1.4.1",
   "language": "julia",
   "name": "julia-1.4"
  },
  "language_info": {
   "file_extension": ".jl",
   "mimetype": "application/julia",
   "name": "julia",
   "version": "1.4.1"
  }
 },
 "nbformat": 4,
 "nbformat_minor": 4
}
