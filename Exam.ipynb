{
 "cells": [
  {
   "cell_type": "markdown",
   "metadata": {},
   "source": [
    "# Final Exam\n",
    "\n",
    "Student name: \n",
    "\n",
    "Exams is supposed to be completed and sent by 10:15. Send the filled notebook by email to `pwinant@escp.edu` with subject `eco309 - final`. Don't forget to fill your student name above.\n",
    "\n",
    "Exercises are independent from each other. If not specified otherwise, it is permitted (and encouraged) to use any relevant library."
   ]
  },
  {
   "cell_type": "markdown",
   "metadata": {},
   "source": [
    "## Linear Regression\n",
    "\n",
    "1. __For $N=100$, compute a sample $(x_i, y_i)$ where $$y_i=0.4+2.5 x_i + \\epsilon_i$$ where $\\epsilon_i$ is drawn from a normal distribution with standard deviation 0.5.__"
   ]
  },
  {
   "cell_type": "code",
   "execution_count": null,
   "metadata": {},
   "outputs": [],
   "source": []
  },
  {
   "cell_type": "markdown",
   "metadata": {},
   "source": [
    "2. __Define the model $f(x;a,b)=a+b x$. Find the parameters $a$ and $b$ which minimize the objective $\\xi(a,b)=\\sum_i (f(x_i;a,b)-y_i)^2$ by using a numerical optimization algorithm (not the formula for the regression). Plot.__"
   ]
  },
  {
   "cell_type": "code",
   "execution_count": null,
   "metadata": {},
   "outputs": [],
   "source": []
  },
  {
   "cell_type": "markdown",
   "metadata": {},
   "source": [
    "## Simulation\n",
    "\n",
    "Consider the following process: \n",
    "\n",
    "$$x_t = sin(x_{t-1}) + \\epsilon_t$$\n",
    "\n",
    "where $\\epsilon_t$ is an iid shock, normally distributed with variance $\\sigma=0.1$"
   ]
  },
  {
   "cell_type": "markdown",
   "metadata": {},
   "source": [
    "1. __Simulate the process once for T=200 periods, starting with $x_0=0$ and plot the result.__"
   ]
  },
  {
   "cell_type": "code",
   "execution_count": null,
   "metadata": {},
   "outputs": [],
   "source": []
  },
  {
   "cell_type": "markdown",
   "metadata": {},
   "source": [
    "2. __Use Hodrick-Prescott to detrend the resulting series. Plot original series with the trend, and the cyclical component separately. What is the standard deviation of the latter?__"
   ]
  },
  {
   "cell_type": "code",
   "execution_count": null,
   "metadata": {},
   "outputs": [],
   "source": []
  },
  {
   "cell_type": "markdown",
   "metadata": {},
   "source": [
    "3. __Plot for T=20000 periods and use the generated data to plot the ergodic distribution, for instance using Seaborn.jl.__"
   ]
  },
  {
   "cell_type": "code",
   "execution_count": null,
   "metadata": {},
   "outputs": [],
   "source": []
  },
  {
   "cell_type": "markdown",
   "metadata": {},
   "source": [
    "## Dividend Pricing\n",
    "\n",
    "A dividend process is described by $d_t=\\exp(\\epsilon) (d_{t-1})^\\rho$ with $\\rho=0.9$ and $\\epsilon$ a normal i.i.d. process with mean 0 and standard deviation 0.05.\n",
    "Given discount rate $\\beta=0.95$ our ultimate goal is to evaluate the price of a right to the dividend, which satisfies:\n",
    "\n",
    "$$p_t=d_t + \\beta E_t \\left[ p_{t+1} \\right]$$\n",
    "\n",
    "In functional form, we look for a function $p()$ such that\n",
    "\n",
    "$$\\forall d, p(d)=d+\\beta E_{\\epsilon} \\left[ p\\left( \\exp(\\epsilon) (d)^\\rho \\right)\\right]$$\n",
    "\n",
    "The general algorithm, will consist in updating the price function on the left as a function of the price function on the right. It raises two challenges:\n",
    "- integrate the term within the square brackets (we'll use quadrature)\n",
    "- interpolate the price function so that it can be evaluated at any realisation of $\\exp(\\epsilon) (d)^\\rho$"
   ]
  },
  {
   "cell_type": "markdown",
   "metadata": {},
   "source": [
    "\n",
    "1. __Integration: discretize random shock $\\epsilon_t$ with $K=5$ nodes and weights $(w_i, \\epsilon_i)$ by using an appropriate method.\n",
    "As an example, use this discretization to evaluate $E\\left[ \\exp(\\epsilon)\\right]$.__"
   ]
  },
  {
   "cell_type": "code",
   "execution_count": null,
   "metadata": {},
   "outputs": [],
   "source": []
  },
  {
   "cell_type": "markdown",
   "metadata": {},
   "source": [
    "2. __Interpolation: for $N=20$, propose a regular grid $(d_1, ... d_N)$ for $d$ that is large enough to contain a large fraction of of the realizations of $d_t$. Function $p()$ will be represented by an $N$-components vector `p`. Linear interpolation will be used to evaluate `p` outside of the grid points. Choose an initial guess for $p$, for instance $p(d)=d^2$ and plot the interpolated function.__"
   ]
  },
  {
   "cell_type": "code",
   "execution_count": null,
   "metadata": {},
   "outputs": [],
   "source": []
  },
  {
   "cell_type": "markdown",
   "metadata": {},
   "source": [
    "3. __Assuming vector `p0` represents the $p()$ function on the right, compute `p1` vector which represents the $p()$ function on the left. Call `T()` the function which map `p0` to `p1`. Find the equilibrium price `p` by iterating on `T()`.__"
   ]
  },
  {
   "cell_type": "code",
   "execution_count": null,
   "metadata": {},
   "outputs": [],
   "source": []
  },
  {
   "cell_type": "markdown",
   "metadata": {},
   "source": [
    "## Linear Time Iteration\n",
    "\n",
    "A deterministic one-dimensional linear model for inflation is written in the form:\n",
    "\n",
    "$\\$pi_{t+1} - (\\lambda_1 + \\lambda_2) \\pi_t + \\lambda_1 \\lambda_2 \\pi_{t-1}$$\n",
    "\n",
    "with $0<\\lambda_1<\\lambda_2$\n",
    "Here, inflation is backward looking in the sense that inflation $\\pi_t$ will depend on past inflation $\\pi_{t-1}$.\n",
    "The solution takes the form $\\forall t, \\space \\pi_t = \\lambda \\pi_{t-1}$ where $\\lambda$ is a constant to be determined.\n",
    "\n",
    "1. __(Theory) Write down the second order equation $P(\\lambda)=0$, which characterizes $\\lambda$. What are the roots of polynomial $P$ ?__\n",
    "    "
   ]
  },
  {
   "cell_type": "code",
   "execution_count": null,
   "metadata": {},
   "outputs": [],
   "source": []
  },
  {
   "cell_type": "markdown",
   "metadata": {},
   "source": [
    "2. __(Theory 2) Justify that $T(x) = \\frac{-\\lambda_1\\lambda_2}{x-\\lambda_1-\\lambda_2}$ is the time iteration operator. Show that it admits two fixed points, but that only one of them is stable by computing $|T^{\\prime}|$.__"
   ]
  },
  {
   "cell_type": "code",
   "execution_count": null,
   "metadata": {},
   "outputs": [],
   "source": []
  },
  {
   "cell_type": "markdown",
   "metadata": {},
   "source": [
    "It is actually possible (and easy) to show that the series $(x_n)$ defined recursively by $x_n = T(x_{n-1})$ converges to $\\lambda_1$ starting from any initial point $x_0$, except from $\\lambda_2$. This method of computing a solution is called *linear time iteration*.\n",
    "\n",
    "3. __Implement the linear time iteration and illustrate its convergence graphically by plotting,  sarting from various levels of $x_0$. Show one case with $\\lambda_1<\\lambda_2<1$, one with $\\lambda_1<1<\\lambda_2$ and one with $1<\\lambda_1<\\lambda_2$.__"
   ]
  },
  {
   "cell_type": "code",
   "execution_count": null,
   "metadata": {},
   "outputs": [],
   "source": []
  },
  {
   "cell_type": "markdown",
   "metadata": {},
   "source": [
    "4. __A model is well specified if admits a unique non-diverging solution. What method would you propose to check that the solution obtained by linear time-iteration is convergent and unique?__"
   ]
  },
  {
   "cell_type": "code",
   "execution_count": null,
   "metadata": {},
   "outputs": [],
   "source": []
  },
  {
   "cell_type": "markdown",
   "metadata": {},
   "source": [
    "5. __(Bonus) Implement an *improved* linear time iteration algorithm, that is a Newton descent applied to $x-T(x)$ and discuss its convergence.__"
   ]
  },
  {
   "cell_type": "code",
   "execution_count": null,
   "metadata": {},
   "outputs": [],
   "source": []
  }
 ],
 "metadata": {
  "kernelspec": {
   "display_name": "Julia 1.4.1",
   "language": "julia",
   "name": "julia-1.4"
  },
  "language_info": {
   "file_extension": ".jl",
   "mimetype": "application/julia",
   "name": "julia",
   "version": "1.4.1"
  }
 },
 "nbformat": 4,
 "nbformat_minor": 4
}
