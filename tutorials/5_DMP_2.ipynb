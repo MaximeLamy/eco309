{
 "cells": [
  {
   "cell_type": "markdown",
   "id": "89d94436",
   "metadata": {},
   "source": [
    "# Tutorial: Discrete Dynamic Programming (2)\n",
    "\n",
    "## Computational Economics  (ECO309)"
   ]
  },
  {
   "cell_type": "markdown",
   "id": "6218a562",
   "metadata": {},
   "source": [
    "### Job-Search Model\n",
    "\n",
    "- When unemployed in date, a job-seeker\n",
    "  - consumes unemployment benefit $c_t = \\underline{c}$\n",
    "  - receives in every date $t$ a job offer $w_t$\n",
    "    - $w_t$ is i.i.d., \n",
    "    - takes values $w_1, w_2, w_3$ with probabilities $p_1, p_2, p_3$\n",
    "  - if job-seeker accepts, becomes employed at rate $w_t$ in the next period\n",
    "  - else he stays unemployed\n",
    "  \n",
    "- When employed at rate $w$\n",
    "  - worker consumes salary $c_t = w$\n",
    "  - with small probability $\\lambda>0$ looses his job:\n",
    "    - starts next period unemployed\n",
    "  - otherwise stays employed at same rate\n",
    "- Objective: $\\max E_0 \\left\\{ \\sum \\beta^t \\log(w_t) \\right\\}$\n"
   ]
  },
  {
   "cell_type": "markdown",
   "id": "eec3e072",
   "metadata": {},
   "source": [
    "__What are the states, the controls, the reward of this problem ? Write down the Bellman equation.__"
   ]
  },
  {
   "cell_type": "code",
   "execution_count": null,
   "id": "e98472f5",
   "metadata": {},
   "outputs": [],
   "source": []
  },
  {
   "cell_type": "markdown",
   "id": "21b3118b",
   "metadata": {},
   "source": [
    "__Define a parameter structure for the model.__"
   ]
  },
  {
   "cell_type": "code",
   "execution_count": null,
   "id": "26efdba4",
   "metadata": {},
   "outputs": [],
   "source": []
  },
  {
   "cell_type": "markdown",
   "id": "36d26eae",
   "metadata": {},
   "source": [
    "__Define a function  `value_update(V_U::Vector{Float64}, V_E::Vector{Float64}, x::Vector{Bool}, p::Parameters)::Tuple{Vector, Vector}`, which takes in value functions tomorrow and a policy vector and return updated values for today.__"
   ]
  },
  {
   "cell_type": "code",
   "execution_count": null,
   "id": "f08980cc",
   "metadata": {},
   "outputs": [],
   "source": []
  },
  {
   "cell_type": "markdown",
   "id": "c14a1636",
   "metadata": {},
   "source": [
    "__Define a function `policy_eval(x::Vector{Bool}, p::Parameter)::Tuple{Vector, Vector}` which takes in a policy vector and returns the value(s) of following this policies forever. You can add relevant arguments to the function.__ which takes in a policy vector and returns the value(s) of following this policies forever. You can add relevant arguments to the function.__"
   ]
  },
  {
   "cell_type": "code",
   "execution_count": null,
   "id": "e7b334c6",
   "metadata": {},
   "outputs": [],
   "source": []
  },
  {
   "cell_type": "markdown",
   "id": "4ad5ca32",
   "metadata": {},
   "source": [
    "__Define a function `bellman_step(V_E::Vector, V_U::Vector, p::Parameters)::Tuple{Vector, Vector, Vector}` which returns updated values, together with improved policy rules.__"
   ]
  },
  {
   "cell_type": "code",
   "execution_count": null,
   "id": "992029e2",
   "metadata": {},
   "outputs": [],
   "source": []
  },
  {
   "cell_type": "markdown",
   "id": "2e135a95",
   "metadata": {},
   "source": [
    "__Implement Value Function__"
   ]
  },
  {
   "cell_type": "code",
   "execution_count": null,
   "id": "27913b6e",
   "metadata": {},
   "outputs": [],
   "source": []
  },
  {
   "cell_type": "markdown",
   "id": "c38ee93f",
   "metadata": {},
   "source": [
    "__Implement Policy Iteration and compare rates of convergence.__"
   ]
  },
  {
   "cell_type": "code",
   "execution_count": null,
   "id": "8bcd2bfd",
   "metadata": {},
   "outputs": [],
   "source": []
  },
  {
   "cell_type": "markdown",
   "id": "03383f96",
   "metadata": {},
   "source": [
    "__Discuss the Effects of the Parameters__"
   ]
  },
  {
   "cell_type": "code",
   "execution_count": null,
   "id": "f43b4513",
   "metadata": {},
   "outputs": [],
   "source": []
  },
  {
   "cell_type": "markdown",
   "id": "6cc4f3d3",
   "metadata": {},
   "source": [
    "### Brock-Mirman Stochastic Growth model"
   ]
  },
  {
   "cell_type": "markdown",
   "id": "0da6655d",
   "metadata": {},
   "source": [
    "This is a neoclassical growth model with unpredictable shocks on productivity."
   ]
  },
  {
   "cell_type": "markdown",
   "id": "eeaf86f3",
   "metadata": {},
   "source": [
    "Social planner tries to solve:\n",
    "\n",
    "$$\\max E_t \\left[ \\sum_{n=0}^{\\infty} \\beta^n \\log C_{t+n} \\right]$$\n",
    "\n",
    "s.t.\n",
    "\n",
    "$$K_{t+1} = Y_t - C_t$$\n",
    "$$Y_{t+1} = A_{t+1}K_{t+1}^\\alpha$$\n",
    "\n",
    "where $A_t$ is the level of productivity in period $t$. \n",
    "It can take  values $A^h=1.05$ and $A^l=0.95$. The transition between these two states are given by the matrix:\n",
    "$$P = \\begin{bmatrix}\n",
    "0.9, 0.1\\\\\n",
    "0.1, 0.9\n",
    "\\end{bmatrix}$$"
   ]
  },
  {
   "cell_type": "markdown",
   "id": "3a4ab3b6",
   "metadata": {},
   "source": [
    "__What are the states? What are the controls? Is it possible to bound them in a natural way? Propose a discretization scheme.__"
   ]
  },
  {
   "cell_type": "code",
   "execution_count": null,
   "id": "c4e16a08",
   "metadata": {},
   "outputs": [],
   "source": []
  },
  {
   "cell_type": "markdown",
   "id": "fb6dc2e7",
   "metadata": {},
   "source": [
    "__Implement the Value Function Algorithm__"
   ]
  },
  {
   "cell_type": "code",
   "execution_count": null,
   "id": "bc500774",
   "metadata": {},
   "outputs": [],
   "source": []
  },
  {
   "cell_type": "markdown",
   "id": "4dfccb18",
   "metadata": {},
   "source": [
    "__Bonus: Propose some ideas to improve performances.__"
   ]
  },
  {
   "cell_type": "code",
   "execution_count": null,
   "id": "d68f7712",
   "metadata": {},
   "outputs": [],
   "source": []
  },
  {
   "cell_type": "markdown",
   "id": "f16f3763",
   "metadata": {},
   "source": [
    "__Policy iteration__"
   ]
  },
  {
   "cell_type": "code",
   "execution_count": null,
   "id": "b57837a2",
   "metadata": {},
   "outputs": [],
   "source": []
  }
 ],
 "metadata": {
  "kernelspec": {
   "display_name": "Julia 1.5.3",
   "language": "julia",
   "name": "julia-1.5"
  },
  "language_info": {
   "file_extension": ".jl",
   "mimetype": "application/julia",
   "name": "julia",
   "version": "1.5.3"
  }
 },
 "nbformat": 4,
 "nbformat_minor": 5
}
