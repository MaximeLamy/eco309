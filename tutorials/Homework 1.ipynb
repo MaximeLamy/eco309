{
 "cells": [
  {
   "cell_type": "markdown",
   "id": "f513fb83",
   "metadata": {},
   "source": [
    "# Homework 1\n",
    "\n",
    "First name:\n",
    "\n",
    "Last name:\n",
    "\n",
    "\n",
    "---\n",
    "\n",
    "The two exercises follow each other.\n",
    "\n",
    "You will probably need to use an optimization library (like `Optim.jl`) and a differentiation library (`Forward.jl` or `Zygote.jl`) as well as a plotting library (`Plots.jl` or `SimplePlots.jl`) but feel free to install other libraries you might find useful.\n",
    "\n",
    "You must send me your work before May 16th. You can send it on zulip or to `pwinant@escp.eu` with subject starting by `[eco309]`.\n",
    "\n",
    "Don't hesitate to ask questions or help each other. Copying/pasting code is forbidden though.\n",
    "\n",
    "---"
   ]
  },
  {
   "cell_type": "markdown",
   "id": "708a5d3f",
   "metadata": {
    "tags": []
   },
   "source": [
    "## Solow model\n",
    "\n",
    "This model tries to explain long-term growth, its relation to productivity, population growth and the speed of convergence.\n",
    "\n",
    "The setup is the following:\n",
    "\n",
    "- a country accumulates capital $k_t$\n",
    "- population $n_t$ grows at rate $g$ (so that $n_{t+1}=g n_t$)\n",
    "- capital and labour are combined to produce $y_t = A F(k_t, n_t)$ where $A>0$ is total factor productivity.\n",
    "- capital depreciates at rate $\\delta \\in ]0,1[$. Its law of motion is $k_{t+1}=(1-\\delta)k_{t}+i_{t}$ where $i_t$ is the amount invested at time $t$\n",
    "- production is either consumed or invested: $y_t = c_t + i_t$\n",
    "\n",
    "We choose a Cobb-Douglas specification with constant returns to scale $F(k_t, n_t) = k_t^{\\alpha} n_t^{1-\\alpha}$.\n",
    "\n",
    "\n",
    "Here we follow the Solow-Swan specification and make the simplifying assumption that there is a fixed fraction $s\\in[0,1[$ of income, which is saved and invested in every period. In other words investment (or savings) is given by:\n",
    "\n",
    "$$i_t = s y_t$$\n",
    "\n",
    "As a result, the dynamic of capital and all other variables will be backward looking and can be simulated easily."
   ]
  },
  {
   "cell_type": "markdown",
   "id": "f348f3ab",
   "metadata": {},
   "source": [
    "__Create a dictionary to hold parameter values.__\n",
    "\n",
    " (note: such a dictionary can be defined as `p = Dict(:a=>0.9, :b=>4)` and accessed with brackets `p[:a]` or `p[:b]`) (note2: symbols like `:a` or `:b` are lightweight string. The content must be a valid julia identifier so that it is valid to write `a=p[:a]`)"
   ]
  },
  {
   "cell_type": "code",
   "execution_count": null,
   "id": "cac215e7",
   "metadata": {},
   "outputs": [],
   "source": [
    "# We'll create a dictionary of parameters\n",
    "p = Dict(\n",
    "    :α=>0.3,\n",
    "    :β=>0.96,\n",
    "    :δ=>0.1,\n",
    "    :g=>1.01,\n",
    "    :s=>0.2\n",
    ")"
   ]
  },
  {
   "cell_type": "markdown",
   "id": "fbdc0676",
   "metadata": {},
   "source": [
    "__Detrend the equations of the model w.r.t. population growth. Denote the detrended variables with a hat (in the code we assume all variables are detrended and ignore the hat).__"
   ]
  },
  {
   "cell_type": "markdown",
   "id": "097bca17",
   "metadata": {},
   "source": []
  },
  {
   "cell_type": "markdown",
   "id": "42cd2f77",
   "metadata": {},
   "source": [
    "Our goal is to compute the steady-state and assess its stability.\n",
    "\n",
    "__Compute a function `f` which returns the capital $\\hat{k}_{t+1}$ as a function of $\\hat{k_t}$. It is suggested to define `f(k::Float64, p::Dict{Symbol, Float64})` where `p` is a dictionary of parameters.__"
   ]
  },
  {
   "cell_type": "markdown",
   "id": "8bb3885d",
   "metadata": {},
   "source": []
  },
  {
   "cell_type": "markdown",
   "id": "c0f9ae18",
   "metadata": {},
   "source": [
    "__Starting from an initial level $\\hat{k}_0$ compute successive iterates of `f` to find the long-run level $\\overline{k}$ of capital per capita. (Bonus: produce a nice plot of the convergence)__"
   ]
  },
  {
   "cell_type": "code",
   "execution_count": 73,
   "id": "164af01c",
   "metadata": {},
   "outputs": [
    {
     "data": {
      "text/plain": [
       "simulate (generic function with 4 methods)"
      ]
     },
     "execution_count": 73,
     "metadata": {},
     "output_type": "execute_result"
    }
   ],
   "source": []
  },
  {
   "cell_type": "markdown",
   "id": "7f5ec020",
   "metadata": {},
   "source": [
    "__Propose and implement a way to accelerate convergence__"
   ]
  },
  {
   "cell_type": "code",
   "execution_count": null,
   "id": "61f72b64",
   "metadata": {},
   "outputs": [],
   "source": []
  },
  {
   "cell_type": "markdown",
   "id": "e3f7676c",
   "metadata": {},
   "source": [
    "__What factors affect the steady-state level of capital?__"
   ]
  },
  {
   "cell_type": "code",
   "execution_count": null,
   "id": "2b1bd736",
   "metadata": {},
   "outputs": [],
   "source": []
  },
  {
   "cell_type": "markdown",
   "id": "a3b7934d",
   "metadata": {},
   "source": [
    "__Study the stability of $f$ around $\\overline{k}$ (hint: compute the right derivative). Which factors affect the speed of convergence towards the steady-state?__"
   ]
  },
  {
   "cell_type": "code",
   "execution_count": null,
   "id": "016e1bbc",
   "metadata": {},
   "outputs": [],
   "source": []
  },
  {
   "cell_type": "markdown",
   "id": "d053ec75",
   "metadata": {},
   "source": [
    "__Compute the steady-state directly using a Newton method and compare convergence speed.__"
   ]
  },
  {
   "cell_type": "code",
   "execution_count": null,
   "id": "4e5d1d2d",
   "metadata": {},
   "outputs": [],
   "source": []
  },
  {
   "cell_type": "markdown",
   "id": "7ee92379",
   "metadata": {},
   "source": [
    "__Suppose one tries to maximize steady-state consumption by choosing saving rate $s$. Which value would one choose?__"
   ]
  },
  {
   "cell_type": "code",
   "execution_count": null,
   "id": "c3d11a1e",
   "metadata": {},
   "outputs": [],
   "source": []
  },
  {
   "cell_type": "markdown",
   "id": "dab78d98",
   "metadata": {},
   "source": [
    "__(Bonus) Suppose an agent is given the intertemporal utility from the Ramsey–Cass–Koopmans model see exercise 2) but chooses saving rate once for all. Which saving rate would one choose to maximize intertemporal utility? Is it the same for all initial levels of capital?__\n",
    "\n"
   ]
  },
  {
   "cell_type": "code",
   "execution_count": null,
   "id": "e520ef14",
   "metadata": {},
   "outputs": [],
   "source": []
  },
  {
   "cell_type": "markdown",
   "id": "d84f1662",
   "metadata": {},
   "source": [
    "## Deterministic Neoclassical Model: bruteforce"
   ]
  },
  {
   "cell_type": "markdown",
   "id": "3184364c",
   "metadata": {},
   "source": [
    "In the Ramsey–Cass–Koopmans  model (also called neoclassical growth model), a representative agent chooses $c_t$ in every period so as to maximize an intertemporal utility like $\\sum_{t \\geq 0} \\beta^t U(c_t)$ where $\\beta \\in [0,1[$ is a time discount and $U(x)=\\frac{x^{1-\\gamma}}{1-\\gamma}$ is the instantaneous felicity."
   ]
  },
  {
   "cell_type": "markdown",
   "id": "7511f861",
   "metadata": {},
   "source": [
    "The setup is exactly the same as in the the Solow model form session 3, but now we look for a time-dependent saving rule, that is a different $s_t \\in [0,1[$ for each date. We will try to choose $s_t$ to maximize\n",
    "\n",
    "$$\\sum_{t = 0}^T \\beta^t U(c_t) + \\sum_{t = T+1}^{\\infty} \\beta^t U(c_T) $$\n",
    "\n",
    "\n",
    "We need to choose vector $\\mathbf{s} = (s_0, s_1, ... s_T)$ to maximize intertemporal utility. We can assume $\\forall t>T s_t= s_T$\n",
    "\n",
    "\n",
    "In this exercise, we want to define a function `objective(s::AbstractVector)` and maximize objective numerically using a numerical optimization algorithm.\n",
    "\n",
    "\n",
    "__Explain why the second term is important__"
   ]
  },
  {
   "cell_type": "code",
   "execution_count": null,
   "id": "0f3569cd",
   "metadata": {},
   "outputs": [],
   "source": []
  },
  {
   "cell_type": "markdown",
   "id": "c313a514",
   "metadata": {},
   "source": [
    "__Choose an horizon $T$ and write a function `objective(s::AbstractVector, k0::Float64, T::Int, p::Dict{Symbol, Float64})` to compute the objective approximated with $T$ periods as a function of initial state `k0::Float64` and of the vector of saving rates `s::Vector` representing $(s_0, s_1, \\cdots s_{T})$. Note that argument type of `s` is left unspecified to make it compatible with automatic differentiation.__"
   ]
  },
  {
   "cell_type": "code",
   "execution_count": null,
   "id": "26431467",
   "metadata": {},
   "outputs": [],
   "source": []
  },
  {
   "cell_type": "markdown",
   "id": "076a7b6f",
   "metadata": {},
   "source": [
    "__Use library `Optim.jl` to maximize the utility function. If possible, find a way to specify exact derivatives of the objective function.__"
   ]
  },
  {
   "cell_type": "code",
   "execution_count": null,
   "id": "2b7ee1e1",
   "metadata": {},
   "outputs": [],
   "source": []
  }
 ],
 "metadata": {
  "kernelspec": {
   "display_name": "Julia 1.6.1",
   "language": "julia",
   "name": "julia-1.6"
  },
  "language_info": {
   "file_extension": ".jl",
   "mimetype": "application/julia",
   "name": "julia",
   "version": "1.6.1"
  }
 },
 "nbformat": 4,
 "nbformat_minor": 5
}
