{
 "cells": [
  {
   "cell_type": "markdown",
   "id": "f513fb83",
   "metadata": {},
   "source": [
    "# Homework 1\n",
    "\n",
    "First name:\n",
    "\n",
    "Last name:\n",
    "\n",
    "\n",
    "---\n",
    "\n",
    "The two exercises follow each other.\n",
    "\n",
    "You will probably need to use an optimization library (like `Optim.jl`) and a differentiation library (`Forward.jl` or `Zygote.jl`) as well as a plotting library (`Plots.jl` or `SimplePlots.jl`) but feel free to install other libraries you might find useful.\n",
    "\n",
    "You must send me your work before May 16th. You can send it on zulip or to `pwinant@escp.eu` with subject starting by `[eco309]`.\n",
    "\n",
    "Don't hesitate to ask questions or help each other. Copying/pasting code is forbidden though.\n",
    "\n",
    "---"
   ]
  },
  {
   "cell_type": "markdown",
   "id": "708a5d3f",
   "metadata": {
    "tags": []
   },
   "source": [
    "## Solow model\n",
    "\n",
    "This model tries to explain long-term growth, its relation to productivity, population growth and the speed of convergence.\n",
    "\n",
    "The setup is the following:\n",
    "\n",
    "- a country accumulates capital $k_t$\n",
    "- population $n_t$ grows at rate $g$ (so that $n_{t+1}=g n_t$)\n",
    "- capital and labour are combined to produce $y_t = A F(k_t, n_t)$ where $A>0$ is total factor productivity.\n",
    "- capital depreciates at rate $\\delta \\in ]0,1[$. Its law of motion is $k_{t+1}=(1-\\delta)k_{t}+i_{t}$ where $i_t$ is the amount invested at time $t$\n",
    "- production is either consumed or invested: $y_t = c_t + i_t$\n",
    "\n",
    "We choose a Cobb-Douglas specification with constant returns to scale $F(k_t, n_t) = k_t^{\\alpha} n_t^{1-\\alpha}$.\n",
    "\n",
    "\n",
    "Here we follow the Solow-Swan specification and make the simplifying assumption that there is a fixed fraction $s\\in[0,1[$ of income, which is saved and invested in every period. In other words investment (or savings) is given by:\n",
    "\n",
    "$$i_t = s y_t$$\n",
    "\n",
    "As a result, the dynamic of capital and all other variables will be backward looking and can be simulated easily."
   ]
  },
  {
   "cell_type": "markdown",
   "id": "f348f3ab",
   "metadata": {},
   "source": [
    "__Create a dictionary to hold parameter values.__\n",
    "\n",
    " (note: such a dictionary can be defined as `p = Dict(:a=>0.9, :b=>4)` and accessed with brackets `p[:a]` or `p[:b]`) (note2: symbols like `:a` or `:b` are lightweight string. The content must be a valid julia identifier so that it is valid to write `a=p[:a]`)"
   ]
  },
  {
   "cell_type": "code",
   "execution_count": 1,
   "id": "cac215e7",
   "metadata": {},
   "outputs": [
    {
     "data": {
      "text/plain": [
       "Dict{Symbol, Float64} with 6 entries:\n",
       "  :α => 0.3\n",
       "  :A => 1.0\n",
       "  :s => 0.2\n",
       "  :δ => 0.1\n",
       "  :g => 1.01\n",
       "  :β => 0.96"
      ]
     },
     "execution_count": 1,
     "metadata": {},
     "output_type": "execute_result"
    }
   ],
   "source": [
    "# We'll create a dictionary of parameters\n",
    "p = Dict(\n",
    "    :A=> 1.0,\n",
    "    :α=>0.3, # capital share (30%)\n",
    "    :β=>0.96, # (1/r): 1/1.04\n",
    "    :δ=>0.1,  # depreciation rate of capital: literature\n",
    "    :g=>1.01, # growth rate of population: Census\n",
    "    :s=>0.2   # saving rate from national accounts (Y-C)/Y\n",
    ")"
   ]
  },
  {
   "cell_type": "markdown",
   "id": "fbdc0676",
   "metadata": {},
   "source": [
    "__Detrend the equations of the model w.r.t. population growth. Denote the detrended variables with a hat (in the code we assume all variables are detrended and ignore the hat).__"
   ]
  },
  {
   "cell_type": "markdown",
   "id": "097bca17",
   "metadata": {},
   "source": []
  },
  {
   "cell_type": "markdown",
   "id": "42cd2f77",
   "metadata": {},
   "source": [
    "Our goal is to compute the steady-state and assess its stability.\n",
    "\n",
    "__Compute a function `f` which returns the capital $\\hat{k}_{t+1}$ as a function of $\\hat{k_t}$. It is suggested to define `f(k::Float64, p::Dict{Symbol, Float64})` where `p` is a dictionary of parameters.__"
   ]
  },
  {
   "cell_type": "code",
   "execution_count": 37,
   "id": "2e98c88d-765b-4b92-9e07-b2b23381e2f1",
   "metadata": {},
   "outputs": [
    {
     "data": {
      "text/plain": [
       "f (generic function with 1 method)"
      ]
     },
     "execution_count": 37,
     "metadata": {},
     "output_type": "execute_result"
    }
   ],
   "source": [
    "function f(k  ; p::Dict{Symbol, Float64})\n",
    "    y = p[:A]*k^(p[:α])\n",
    "    i = p[:s]*y\n",
    "    K = ((1-p[:δ])*k + i)/p[:g]\n",
    "    return K\n",
    "end"
   ]
  },
  {
   "cell_type": "code",
   "execution_count": 39,
   "id": "22fb2808-d90e-4dea-b71f-9215d1bbe694",
   "metadata": {},
   "outputs": [
    {
     "data": {
      "text/plain": [
       "4.776367642909458"
      ]
     },
     "execution_count": 39,
     "metadata": {},
     "output_type": "execute_result"
    }
   ],
   "source": [
    "f(5; p=p)"
   ]
  },
  {
   "cell_type": "markdown",
   "id": "c0f9ae18",
   "metadata": {},
   "source": [
    "__Starting from an initial level $\\hat{k}_0$ compute successive iterates of `f` to find the long-run level $\\overline{k}$ of capital per capita. (Bonus: produce a nice plot of the convergence)__"
   ]
  },
  {
   "cell_type": "code",
   "execution_count": 40,
   "id": "164af01c",
   "metadata": {},
   "outputs": [
    {
     "data": {
      "text/plain": [
       "simulate (generic function with 2 methods)"
      ]
     },
     "execution_count": 40,
     "metadata": {},
     "output_type": "execute_result"
    }
   ],
   "source": [
    "function simulate(k0, p, T=100)\n",
    "    ksim = [k0]\n",
    "    for t=1:T\n",
    "        k = ksim[end]\n",
    "        K = f(k; p=p)\n",
    "        push!(ksim, K)\n",
    "    end\n",
    "    return ksim\n",
    "end\n"
   ]
  },
  {
   "cell_type": "code",
   "execution_count": 41,
   "id": "1f81e68d-efc6-415c-a024-346ace199679",
   "metadata": {},
   "outputs": [],
   "source": [
    "sim = simulate(0.5, p, 100);"
   ]
  },
  {
   "cell_type": "code",
   "execution_count": 42,
   "id": "2e9e94ba-de0c-4e61-90a9-1c7ca5d60c6d",
   "metadata": {},
   "outputs": [],
   "source": [
    "using Plots"
   ]
  },
  {
   "cell_type": "code",
   "execution_count": 43,
   "id": "b0c307e2-6ef8-488a-9074-87c8de99a61a",
   "metadata": {},
   "outputs": [],
   "source": [
    "kvec = range(0.0, 6; length=100)\n",
    "fvec = f.(kvec; p);"
   ]
  },
  {
   "cell_type": "code",
   "execution_count": 44,
   "id": "679fc187-22d8-4d77-9680-9f6e215e9d7a",
   "metadata": {},
   "outputs": [],
   "source": [
    "hz_segments = [ ( (a, b)) for (a,b) in zip(sim[1:end-1], sim[2:end])];"
   ]
  },
  {
   "cell_type": "code",
   "execution_count": 45,
   "id": "c425e734-e213-41d3-95a8-e03a5e675e87",
   "metadata": {},
   "outputs": [
    {
     "data": {
      "image/svg+xml": [
       "<?xml version=\"1.0\" encoding=\"utf-8\"?>\n",
       "<svg xmlns=\"http://www.w3.org/2000/svg\" xmlns:xlink=\"http://www.w3.org/1999/xlink\" width=\"600\" height=\"400\" viewBox=\"0 0 2400 1600\">\n",
       "<defs>\n",
       "  <clipPath id=\"clip950\">\n",
       "    <rect x=\"0\" y=\"0\" width=\"2400\" height=\"1600\"/>\n",
       "  </clipPath>\n",
       "</defs>\n",
       "<path clip-path=\"url(#clip950)\" d=\"\n",
       "M0 1600 L2400 1600 L2400 0 L0 0  Z\n",
       "  \" fill=\"#ffffff\" fill-rule=\"evenodd\" fill-opacity=\"1\"/>\n",
       "<defs>\n",
       "  <clipPath id=\"clip951\">\n",
       "    <rect x=\"480\" y=\"0\" width=\"1681\" height=\"1600\"/>\n",
       "  </clipPath>\n",
       "</defs>\n",
       "<path clip-path=\"url(#clip950)\" d=\"\n",
       "M112.177 1486.45 L2352.76 1486.45 L2352.76 47.2441 L112.177 47.2441  Z\n",
       "  \" fill=\"#ffffff\" fill-rule=\"evenodd\" fill-opacity=\"1\"/>\n",
       "<defs>\n",
       "  <clipPath id=\"clip952\">\n",
       "    <rect x=\"112\" y=\"47\" width=\"2242\" height=\"1440\"/>\n",
       "  </clipPath>\n",
       "</defs>\n",
       "<polyline clip-path=\"url(#clip952)\" style=\"stroke:#000000; stroke-width:2; stroke-opacity:0.1; fill:none\" points=\"\n",
       "  175.59,1486.45 175.59,47.2441 \n",
       "  \"/>\n",
       "<polyline clip-path=\"url(#clip952)\" style=\"stroke:#000000; stroke-width:2; stroke-opacity:0.1; fill:none\" points=\"\n",
       "  527.882,1486.45 527.882,47.2441 \n",
       "  \"/>\n",
       "<polyline clip-path=\"url(#clip952)\" style=\"stroke:#000000; stroke-width:2; stroke-opacity:0.1; fill:none\" points=\"\n",
       "  880.174,1486.45 880.174,47.2441 \n",
       "  \"/>\n",
       "<polyline clip-path=\"url(#clip952)\" style=\"stroke:#000000; stroke-width:2; stroke-opacity:0.1; fill:none\" points=\"\n",
       "  1232.47,1486.45 1232.47,47.2441 \n",
       "  \"/>\n",
       "<polyline clip-path=\"url(#clip952)\" style=\"stroke:#000000; stroke-width:2; stroke-opacity:0.1; fill:none\" points=\"\n",
       "  1584.76,1486.45 1584.76,47.2441 \n",
       "  \"/>\n",
       "<polyline clip-path=\"url(#clip952)\" style=\"stroke:#000000; stroke-width:2; stroke-opacity:0.1; fill:none\" points=\"\n",
       "  1937.05,1486.45 1937.05,47.2441 \n",
       "  \"/>\n",
       "<polyline clip-path=\"url(#clip952)\" style=\"stroke:#000000; stroke-width:2; stroke-opacity:0.1; fill:none\" points=\"\n",
       "  2289.34,1486.45 2289.34,47.2441 \n",
       "  \"/>\n",
       "<polyline clip-path=\"url(#clip950)\" style=\"stroke:#000000; stroke-width:4; stroke-opacity:1; fill:none\" points=\"\n",
       "  112.177,1486.45 2352.76,1486.45 \n",
       "  \"/>\n",
       "<polyline clip-path=\"url(#clip950)\" style=\"stroke:#000000; stroke-width:4; stroke-opacity:1; fill:none\" points=\"\n",
       "  175.59,1486.45 175.59,1469.18 \n",
       "  \"/>\n",
       "<polyline clip-path=\"url(#clip950)\" style=\"stroke:#000000; stroke-width:4; stroke-opacity:1; fill:none\" points=\"\n",
       "  527.882,1486.45 527.882,1469.18 \n",
       "  \"/>\n",
       "<polyline clip-path=\"url(#clip950)\" style=\"stroke:#000000; stroke-width:4; stroke-opacity:1; fill:none\" points=\"\n",
       "  880.174,1486.45 880.174,1469.18 \n",
       "  \"/>\n",
       "<polyline clip-path=\"url(#clip950)\" style=\"stroke:#000000; stroke-width:4; stroke-opacity:1; fill:none\" points=\"\n",
       "  1232.47,1486.45 1232.47,1469.18 \n",
       "  \"/>\n",
       "<polyline clip-path=\"url(#clip950)\" style=\"stroke:#000000; stroke-width:4; stroke-opacity:1; fill:none\" points=\"\n",
       "  1584.76,1486.45 1584.76,1469.18 \n",
       "  \"/>\n",
       "<polyline clip-path=\"url(#clip950)\" style=\"stroke:#000000; stroke-width:4; stroke-opacity:1; fill:none\" points=\"\n",
       "  1937.05,1486.45 1937.05,1469.18 \n",
       "  \"/>\n",
       "<polyline clip-path=\"url(#clip950)\" style=\"stroke:#000000; stroke-width:4; stroke-opacity:1; fill:none\" points=\"\n",
       "  2289.34,1486.45 2289.34,1469.18 \n",
       "  \"/>\n",
       "<path clip-path=\"url(#clip950)\" d=\"M 0 0 M175.59 1515.64 Q171.979 1515.64 170.15 1519.2 Q168.344 1522.75 168.344 1529.87 Q168.344 1536.98 170.15 1540.55 Q171.979 1544.09 175.59 1544.09 Q179.224 1544.09 181.03 1540.55 Q182.858 1536.98 182.858 1529.87 Q182.858 1522.75 181.03 1519.2 Q179.224 1515.64 175.59 1515.64 M175.59 1511.93 Q181.4 1511.93 184.455 1516.54 Q187.534 1521.12 187.534 1529.87 Q187.534 1538.6 184.455 1543.21 Q181.4 1547.79 175.59 1547.79 Q169.78 1547.79 166.701 1543.21 Q163.645 1538.6 163.645 1529.87 Q163.645 1521.12 166.701 1516.54 Q169.78 1511.93 175.59 1511.93 Z\" fill=\"#000000\" fill-rule=\"evenodd\" fill-opacity=\"1\" /><path clip-path=\"url(#clip950)\" d=\"M 0 0 M518.264 1543.18 L525.903 1543.18 L525.903 1516.82 L517.593 1518.49 L517.593 1514.23 L525.857 1512.56 L530.532 1512.56 L530.532 1543.18 L538.171 1543.18 L538.171 1547.12 L518.264 1547.12 L518.264 1543.18 Z\" fill=\"#000000\" fill-rule=\"evenodd\" fill-opacity=\"1\" /><path clip-path=\"url(#clip950)\" d=\"M 0 0 M874.827 1543.18 L891.146 1543.18 L891.146 1547.12 L869.202 1547.12 L869.202 1543.18 Q871.864 1540.43 876.447 1535.8 Q881.054 1531.15 882.234 1529.81 Q884.48 1527.28 885.359 1525.55 Q886.262 1523.79 886.262 1522.1 Q886.262 1519.34 884.318 1517.61 Q882.396 1515.87 879.295 1515.87 Q877.096 1515.87 874.642 1516.63 Q872.211 1517.4 869.434 1518.95 L869.434 1514.23 Q872.258 1513.09 874.711 1512.51 Q877.165 1511.93 879.202 1511.93 Q884.572 1511.93 887.767 1514.62 Q890.961 1517.31 890.961 1521.8 Q890.961 1523.93 890.151 1525.85 Q889.364 1527.74 887.258 1530.34 Q886.679 1531.01 883.577 1534.23 Q880.475 1537.42 874.827 1543.18 Z\" fill=\"#000000\" fill-rule=\"evenodd\" fill-opacity=\"1\" /><path clip-path=\"url(#clip950)\" d=\"M 0 0 M1236.71 1528.49 Q1240.07 1529.2 1241.95 1531.47 Q1243.84 1533.74 1243.84 1537.07 Q1243.84 1542.19 1240.33 1544.99 Q1236.81 1547.79 1230.33 1547.79 Q1228.15 1547.79 1225.83 1547.35 Q1223.54 1546.93 1221.09 1546.08 L1221.09 1541.56 Q1223.03 1542.7 1225.35 1543.28 Q1227.66 1543.86 1230.19 1543.86 Q1234.58 1543.86 1236.88 1542.12 Q1239.19 1540.38 1239.19 1537.07 Q1239.19 1534.02 1237.04 1532.31 Q1234.91 1530.57 1231.09 1530.57 L1227.06 1530.57 L1227.06 1526.73 L1231.27 1526.73 Q1234.72 1526.73 1236.55 1525.36 Q1238.38 1523.97 1238.38 1521.38 Q1238.38 1518.72 1236.48 1517.31 Q1234.61 1515.87 1231.09 1515.87 Q1229.17 1515.87 1226.97 1516.29 Q1224.77 1516.7 1222.13 1517.58 L1222.13 1513.42 Q1224.79 1512.68 1227.11 1512.31 Q1229.45 1511.93 1231.51 1511.93 Q1236.83 1511.93 1239.93 1514.37 Q1243.03 1516.77 1243.03 1520.89 Q1243.03 1523.76 1241.39 1525.75 Q1239.75 1527.72 1236.71 1528.49 Z\" fill=\"#000000\" fill-rule=\"evenodd\" fill-opacity=\"1\" /><path clip-path=\"url(#clip950)\" d=\"M 0 0 M1587.77 1516.63 L1575.96 1535.08 L1587.77 1535.08 L1587.77 1516.63 M1586.54 1512.56 L1592.42 1512.56 L1592.42 1535.08 L1597.35 1535.08 L1597.35 1538.97 L1592.42 1538.97 L1592.42 1547.12 L1587.77 1547.12 L1587.77 1538.97 L1572.17 1538.97 L1572.17 1534.46 L1586.54 1512.56 Z\" fill=\"#000000\" fill-rule=\"evenodd\" fill-opacity=\"1\" /><path clip-path=\"url(#clip950)\" d=\"M 0 0 M1927.33 1512.56 L1945.69 1512.56 L1945.69 1516.5 L1931.61 1516.5 L1931.61 1524.97 Q1932.63 1524.62 1933.65 1524.46 Q1934.67 1524.27 1935.69 1524.27 Q1941.47 1524.27 1944.85 1527.44 Q1948.23 1530.62 1948.23 1536.03 Q1948.23 1541.61 1944.76 1544.71 Q1941.29 1547.79 1934.97 1547.79 Q1932.79 1547.79 1930.52 1547.42 Q1928.28 1547.05 1925.87 1546.31 L1925.87 1541.61 Q1927.95 1542.74 1930.18 1543.3 Q1932.4 1543.86 1934.88 1543.86 Q1938.88 1543.86 1941.22 1541.75 Q1943.56 1539.64 1943.56 1536.03 Q1943.56 1532.42 1941.22 1530.31 Q1938.88 1528.21 1934.88 1528.21 Q1933 1528.21 1931.13 1528.62 Q1929.27 1529.04 1927.33 1529.92 L1927.33 1512.56 Z\" fill=\"#000000\" fill-rule=\"evenodd\" fill-opacity=\"1\" /><path clip-path=\"url(#clip950)\" d=\"M 0 0 M2289.75 1527.98 Q2286.6 1527.98 2284.75 1530.13 Q2282.92 1532.28 2282.92 1536.03 Q2282.92 1539.76 2284.75 1541.93 Q2286.6 1544.09 2289.75 1544.09 Q2292.9 1544.09 2294.73 1541.93 Q2296.58 1539.76 2296.58 1536.03 Q2296.58 1532.28 2294.73 1530.13 Q2292.9 1527.98 2289.75 1527.98 M2299.03 1513.32 L2299.03 1517.58 Q2297.27 1516.75 2295.47 1516.31 Q2293.68 1515.87 2291.92 1515.87 Q2287.29 1515.87 2284.84 1519 Q2282.41 1522.12 2282.06 1528.44 Q2283.43 1526.43 2285.49 1525.36 Q2287.55 1524.27 2290.03 1524.27 Q2295.23 1524.27 2298.24 1527.44 Q2301.28 1530.59 2301.28 1536.03 Q2301.28 1541.36 2298.13 1544.57 Q2294.98 1547.79 2289.75 1547.79 Q2283.75 1547.79 2280.58 1543.21 Q2277.41 1538.6 2277.41 1529.87 Q2277.41 1521.68 2281.3 1516.82 Q2285.19 1511.93 2291.74 1511.93 Q2293.5 1511.93 2295.28 1512.28 Q2297.09 1512.63 2299.03 1513.32 Z\" fill=\"#000000\" fill-rule=\"evenodd\" fill-opacity=\"1\" /><polyline clip-path=\"url(#clip952)\" style=\"stroke:#000000; stroke-width:2; stroke-opacity:0.1; fill:none\" points=\"\n",
       "  112.177,1445.72 2352.76,1445.72 \n",
       "  \"/>\n",
       "<polyline clip-path=\"url(#clip952)\" style=\"stroke:#000000; stroke-width:2; stroke-opacity:0.1; fill:none\" points=\"\n",
       "  112.177,1219.43 2352.76,1219.43 \n",
       "  \"/>\n",
       "<polyline clip-path=\"url(#clip952)\" style=\"stroke:#000000; stroke-width:2; stroke-opacity:0.1; fill:none\" points=\"\n",
       "  112.177,993.136 2352.76,993.136 \n",
       "  \"/>\n",
       "<polyline clip-path=\"url(#clip952)\" style=\"stroke:#000000; stroke-width:2; stroke-opacity:0.1; fill:none\" points=\"\n",
       "  112.177,766.846 2352.76,766.846 \n",
       "  \"/>\n",
       "<polyline clip-path=\"url(#clip952)\" style=\"stroke:#000000; stroke-width:2; stroke-opacity:0.1; fill:none\" points=\"\n",
       "  112.177,540.556 2352.76,540.556 \n",
       "  \"/>\n",
       "<polyline clip-path=\"url(#clip952)\" style=\"stroke:#000000; stroke-width:2; stroke-opacity:0.1; fill:none\" points=\"\n",
       "  112.177,314.266 2352.76,314.266 \n",
       "  \"/>\n",
       "<polyline clip-path=\"url(#clip952)\" style=\"stroke:#000000; stroke-width:2; stroke-opacity:0.1; fill:none\" points=\"\n",
       "  112.177,87.9763 2352.76,87.9763 \n",
       "  \"/>\n",
       "<polyline clip-path=\"url(#clip950)\" style=\"stroke:#000000; stroke-width:4; stroke-opacity:1; fill:none\" points=\"\n",
       "  112.177,1486.45 112.177,47.2441 \n",
       "  \"/>\n",
       "<polyline clip-path=\"url(#clip950)\" style=\"stroke:#000000; stroke-width:4; stroke-opacity:1; fill:none\" points=\"\n",
       "  112.177,1445.72 139.064,1445.72 \n",
       "  \"/>\n",
       "<polyline clip-path=\"url(#clip950)\" style=\"stroke:#000000; stroke-width:4; stroke-opacity:1; fill:none\" points=\"\n",
       "  112.177,1219.43 139.064,1219.43 \n",
       "  \"/>\n",
       "<polyline clip-path=\"url(#clip950)\" style=\"stroke:#000000; stroke-width:4; stroke-opacity:1; fill:none\" points=\"\n",
       "  112.177,993.136 139.064,993.136 \n",
       "  \"/>\n",
       "<polyline clip-path=\"url(#clip950)\" style=\"stroke:#000000; stroke-width:4; stroke-opacity:1; fill:none\" points=\"\n",
       "  112.177,766.846 139.064,766.846 \n",
       "  \"/>\n",
       "<polyline clip-path=\"url(#clip950)\" style=\"stroke:#000000; stroke-width:4; stroke-opacity:1; fill:none\" points=\"\n",
       "  112.177,540.556 139.064,540.556 \n",
       "  \"/>\n",
       "<polyline clip-path=\"url(#clip950)\" style=\"stroke:#000000; stroke-width:4; stroke-opacity:1; fill:none\" points=\"\n",
       "  112.177,314.266 139.064,314.266 \n",
       "  \"/>\n",
       "<polyline clip-path=\"url(#clip950)\" style=\"stroke:#000000; stroke-width:4; stroke-opacity:1; fill:none\" points=\"\n",
       "  112.177,87.9763 139.064,87.9763 \n",
       "  \"/>\n",
       "<path clip-path=\"url(#clip950)\" d=\"M 0 0 M64.2328 1431.51 Q60.6217 1431.51 58.793 1435.08 Q56.9875 1438.62 56.9875 1445.75 Q56.9875 1452.86 58.793 1456.42 Q60.6217 1459.96 64.2328 1459.96 Q67.867 1459.96 69.6726 1456.42 Q71.5013 1452.86 71.5013 1445.75 Q71.5013 1438.62 69.6726 1435.08 Q67.867 1431.51 64.2328 1431.51 M64.2328 1427.81 Q70.0429 1427.81 73.0985 1432.42 Q76.1772 1437 76.1772 1445.75 Q76.1772 1454.48 73.0985 1459.08 Q70.0429 1463.67 64.2328 1463.67 Q58.4226 1463.67 55.344 1459.08 Q52.2884 1454.48 52.2884 1445.75 Q52.2884 1437 55.344 1432.42 Q58.4226 1427.81 64.2328 1427.81 Z\" fill=\"#000000\" fill-rule=\"evenodd\" fill-opacity=\"1\" /><path clip-path=\"url(#clip950)\" d=\"M 0 0 M56.2699 1232.77 L63.9087 1232.77 L63.9087 1206.41 L55.5986 1208.07 L55.5986 1203.81 L63.8624 1202.15 L68.5383 1202.15 L68.5383 1232.77 L76.1772 1232.77 L76.1772 1236.71 L56.2699 1236.71 L56.2699 1232.77 Z\" fill=\"#000000\" fill-rule=\"evenodd\" fill-opacity=\"1\" /><path clip-path=\"url(#clip950)\" d=\"M 0 0 M59.8578 1006.48 L76.1772 1006.48 L76.1772 1010.42 L54.2328 1010.42 L54.2328 1006.48 Q56.8949 1003.73 61.4782 999.097 Q66.0846 994.444 67.2652 993.101 Q69.5105 990.578 70.3902 988.842 Q71.2929 987.083 71.2929 985.393 Q71.2929 982.638 69.3485 980.902 Q67.4272 979.166 64.3254 979.166 Q62.1263 979.166 59.6726 979.93 Q57.2421 980.694 54.4643 982.245 L54.4643 977.523 Q57.2884 976.388 59.7421 975.81 Q62.1958 975.231 64.2328 975.231 Q69.6031 975.231 72.7976 977.916 Q75.992 980.601 75.992 985.092 Q75.992 987.222 75.1818 989.143 Q74.3948 991.041 72.2883 993.634 Q71.7096 994.305 68.6078 997.522 Q65.5059 1000.72 59.8578 1006.48 Z\" fill=\"#000000\" fill-rule=\"evenodd\" fill-opacity=\"1\" /><path clip-path=\"url(#clip950)\" d=\"M 0 0 M69.0476 765.492 Q72.404 766.209 74.279 768.478 Q76.1772 770.746 76.1772 774.08 Q76.1772 779.195 72.6587 781.996 Q69.1402 784.797 62.6587 784.797 Q60.4828 784.797 58.168 784.357 Q55.8764 783.941 53.4227 783.084 L53.4227 778.57 Q55.3671 779.705 57.6819 780.283 Q59.9967 780.862 62.5198 780.862 Q66.918 780.862 69.2096 779.126 Q71.5244 777.39 71.5244 774.08 Q71.5244 771.024 69.3717 769.311 Q67.242 767.575 63.4226 767.575 L59.3949 767.575 L59.3949 763.733 L63.6078 763.733 Q67.0569 763.733 68.8855 762.367 Q70.7142 760.978 70.7142 758.385 Q70.7142 755.723 68.8161 754.311 Q66.9411 752.876 63.4226 752.876 Q61.5013 752.876 59.3023 753.293 Q57.1032 753.709 54.4643 754.589 L54.4643 750.422 Q57.1264 749.682 59.4412 749.311 Q61.7791 748.941 63.8393 748.941 Q69.1633 748.941 72.2652 751.372 Q75.367 753.779 75.367 757.899 Q75.367 760.77 73.7235 762.76 Q72.08 764.728 69.0476 765.492 Z\" fill=\"#000000\" fill-rule=\"evenodd\" fill-opacity=\"1\" /><path clip-path=\"url(#clip950)\" d=\"M 0 0 M66.5939 527.35 L54.7884 545.799 L66.5939 545.799 L66.5939 527.35 M65.367 523.276 L71.2466 523.276 L71.2466 545.799 L76.1772 545.799 L76.1772 549.688 L71.2466 549.688 L71.2466 557.836 L66.5939 557.836 L66.5939 549.688 L50.9921 549.688 L50.9921 545.174 L65.367 523.276 Z\" fill=\"#000000\" fill-rule=\"evenodd\" fill-opacity=\"1\" /><path clip-path=\"url(#clip950)\" d=\"M 0 0 M55.2745 296.986 L73.6309 296.986 L73.6309 300.921 L59.5569 300.921 L59.5569 309.394 Q60.5754 309.046 61.5939 308.884 Q62.6124 308.699 63.6309 308.699 Q69.418 308.699 72.7976 311.87 Q76.1772 315.042 76.1772 320.458 Q76.1772 326.037 72.705 329.139 Q69.2328 332.217 62.9134 332.217 Q60.7374 332.217 58.4689 331.847 Q56.2236 331.477 53.8162 330.736 L53.8162 326.037 Q55.8995 327.171 58.1217 327.727 Q60.3439 328.282 62.8208 328.282 Q66.8254 328.282 69.1633 326.176 Q71.5013 324.069 71.5013 320.458 Q71.5013 316.847 69.1633 314.741 Q66.8254 312.634 62.8208 312.634 Q60.9458 312.634 59.0708 313.051 Q57.2189 313.468 55.2745 314.347 L55.2745 296.986 Z\" fill=\"#000000\" fill-rule=\"evenodd\" fill-opacity=\"1\" /><path clip-path=\"url(#clip950)\" d=\"M 0 0 M64.6495 86.1129 Q61.5013 86.1129 59.6495 88.2656 Q57.8208 90.4184 57.8208 94.1684 Q57.8208 97.8952 59.6495 100.071 Q61.5013 102.224 64.6495 102.224 Q67.7976 102.224 69.6263 100.071 Q71.4781 97.8952 71.4781 94.1684 Q71.4781 90.4184 69.6263 88.2656 Q67.7976 86.1129 64.6495 86.1129 M73.9318 71.4602 L73.9318 75.7194 Q72.1726 74.8861 70.367 74.4463 Q68.5846 74.0064 66.8254 74.0064 Q62.1958 74.0064 59.7421 77.1314 Q57.3115 80.2564 56.9643 86.5758 Q58.33 84.5619 60.3902 83.4971 Q62.4504 82.4092 64.9272 82.4092 Q70.1355 82.4092 73.1448 85.5805 Q76.1772 88.7286 76.1772 94.1684 Q76.1772 99.4924 73.029 102.71 Q69.8809 105.928 64.6495 105.928 Q58.6541 105.928 55.4828 101.344 Q52.3116 96.7378 52.3116 88.011 Q52.3116 79.8166 56.2004 74.9555 Q60.0893 70.0713 66.6402 70.0713 Q68.3994 70.0713 70.1818 70.4185 Q71.9874 70.7657 73.9318 71.4602 Z\" fill=\"#000000\" fill-rule=\"evenodd\" fill-opacity=\"1\" /><polyline clip-path=\"url(#clip952)\" style=\"stroke:#009af9; stroke-width:4; stroke-opacity:1; fill:none\" points=\"\n",
       "  175.59,1445.72 196.941,1432 218.292,1418.29 239.643,1404.57 260.994,1390.86 282.345,1377.14 303.696,1363.43 325.047,1349.71 346.398,1336 367.749,1322.28 \n",
       "  389.1,1308.57 410.451,1294.86 431.802,1281.14 453.153,1267.43 474.504,1253.71 495.855,1240 517.207,1226.28 538.558,1212.57 559.909,1198.85 581.26,1185.14 \n",
       "  602.611,1171.42 623.962,1157.71 645.313,1144 666.664,1130.28 688.015,1116.57 709.366,1102.85 730.717,1089.14 752.068,1075.42 773.419,1061.71 794.77,1047.99 \n",
       "  816.121,1034.28 837.472,1020.56 858.823,1006.85 880.174,993.136 901.525,979.421 922.876,965.707 944.227,951.992 965.578,938.278 986.93,924.563 1008.28,910.849 \n",
       "  1029.63,897.134 1050.98,883.42 1072.33,869.705 1093.68,855.99 1115.04,842.276 1136.39,828.561 1157.74,814.847 1179.09,801.132 1200.44,787.418 1221.79,773.703 \n",
       "  1243.14,759.989 1264.49,746.274 1285.84,732.56 1307.2,718.845 1328.55,705.131 1349.9,691.416 1371.25,677.701 1392.6,663.987 1413.95,650.272 1435.3,636.558 \n",
       "  1456.65,622.843 1478,609.129 1499.35,595.414 1520.71,581.7 1542.06,567.985 1563.41,554.271 1584.76,540.556 1606.11,526.842 1627.46,513.127 1648.81,499.412 \n",
       "  1670.16,485.698 1691.51,471.983 1712.87,458.269 1734.22,444.554 1755.57,430.84 1776.92,417.125 1798.27,403.411 1819.62,389.696 1840.97,375.982 1862.32,362.267 \n",
       "  1883.67,348.553 1905.02,334.838 1926.38,321.123 1947.73,307.409 1969.08,293.694 1990.43,279.98 2011.78,266.265 2033.13,252.551 2054.48,238.836 2075.83,225.122 \n",
       "  2097.18,211.407 2118.53,197.693 2139.89,183.978 2161.24,170.264 2182.59,156.549 2203.94,142.834 2225.29,129.12 2246.64,115.405 2267.99,101.691 2289.34,87.9763 \n",
       "  \n",
       "  \"/>\n",
       "<polyline clip-path=\"url(#clip952)\" style=\"stroke:#e26f46; stroke-width:4; stroke-opacity:1; fill:none\" points=\"\n",
       "  175.59,1445.72 196.941,1414.17 218.292,1397.48 239.643,1382.18 260.994,1367.54 282.345,1353.29 303.696,1339.31 325.047,1325.52 346.398,1311.89 367.749,1298.37 \n",
       "  389.1,1284.95 410.451,1271.61 431.802,1258.34 453.153,1245.13 474.504,1231.97 495.855,1218.86 517.207,1205.78 538.558,1192.75 559.909,1179.74 581.26,1166.77 \n",
       "  602.611,1153.83 623.962,1140.91 645.313,1128.01 666.664,1115.13 688.015,1102.27 709.366,1089.44 730.717,1076.61 752.068,1063.81 773.419,1051.02 794.77,1038.24 \n",
       "  816.121,1025.48 837.472,1012.73 858.823,999.987 880.174,987.259 901.525,974.542 922.876,961.835 944.227,949.138 965.578,936.449 986.93,923.77 1008.28,911.099 \n",
       "  1029.63,898.436 1050.98,885.78 1072.33,873.132 1093.68,860.491 1115.04,847.857 1136.39,835.229 1157.74,822.608 1179.09,809.992 1200.44,797.383 1221.79,784.779 \n",
       "  1243.14,772.181 1264.49,759.587 1285.84,746.999 1307.2,734.416 1328.55,721.837 1349.9,709.264 1371.25,696.694 1392.6,684.129 1413.95,671.568 1435.3,659.011 \n",
       "  1456.65,646.459 1478,633.91 1499.35,621.364 1520.71,608.823 1542.06,596.285 1563.41,583.75 1584.76,571.219 1606.11,558.691 1627.46,546.166 1648.81,533.644 \n",
       "  1670.16,521.126 1691.51,508.61 1712.87,496.097 1734.22,483.587 1755.57,471.08 1776.92,458.576 1798.27,446.074 1819.62,433.574 1840.97,421.078 1862.32,408.583 \n",
       "  1883.67,396.091 1905.02,383.602 1926.38,371.115 1947.73,358.63 1969.08,346.147 1990.43,333.666 2011.78,321.188 2033.13,308.712 2054.48,296.237 2075.83,283.765 \n",
       "  2097.18,271.295 2118.53,258.826 2139.89,246.36 2161.24,233.895 2182.59,221.432 2203.94,208.971 2225.29,196.512 2246.64,184.055 2267.99,171.599 2289.34,159.145 \n",
       "  \n",
       "  \"/>\n",
       "<polyline clip-path=\"url(#clip952)\" style=\"stroke:#ff0000; stroke-width:4; stroke-opacity:1; fill:none\" points=\"\n",
       "  351.736,1308.5 389.215,1308.5 \n",
       "  \"/>\n",
       "<polyline clip-path=\"url(#clip952)\" style=\"stroke:#ff0000; stroke-width:4; stroke-opacity:1; fill:none\" points=\"\n",
       "  389.215,1284.88 425.988,1284.88 \n",
       "  \"/>\n",
       "<polyline clip-path=\"url(#clip952)\" style=\"stroke:#ff0000; stroke-width:4; stroke-opacity:1; fill:none\" points=\"\n",
       "  425.988,1261.95 461.687,1261.95 \n",
       "  \"/>\n",
       "<polyline clip-path=\"url(#clip952)\" style=\"stroke:#ff0000; stroke-width:4; stroke-opacity:1; fill:none\" points=\"\n",
       "  461.687,1239.86 496.066,1239.86 \n",
       "  \"/>\n",
       "<polyline clip-path=\"url(#clip952)\" style=\"stroke:#ff0000; stroke-width:4; stroke-opacity:1; fill:none\" points=\"\n",
       "  496.066,1218.73 528.97,1218.73 \n",
       "  \"/>\n",
       "<polyline clip-path=\"url(#clip952)\" style=\"stroke:#ff0000; stroke-width:4; stroke-opacity:1; fill:none\" points=\"\n",
       "  528.97,1198.6 560.309,1198.6 \n",
       "  \"/>\n",
       "<polyline clip-path=\"url(#clip952)\" style=\"stroke:#ff0000; stroke-width:4; stroke-opacity:1; fill:none\" points=\"\n",
       "  560.309,1179.5 590.037,1179.5 \n",
       "  \"/>\n",
       "<polyline clip-path=\"url(#clip952)\" style=\"stroke:#ff0000; stroke-width:4; stroke-opacity:1; fill:none\" points=\"\n",
       "  590.037,1161.45 618.145,1161.45 \n",
       "  \"/>\n",
       "<polyline clip-path=\"url(#clip952)\" style=\"stroke:#ff0000; stroke-width:4; stroke-opacity:1; fill:none\" points=\"\n",
       "  618.145,1144.42 644.647,1144.42 \n",
       "  \"/>\n",
       "<polyline clip-path=\"url(#clip952)\" style=\"stroke:#ff0000; stroke-width:4; stroke-opacity:1; fill:none\" points=\"\n",
       "  644.647,1128.41 669.579,1128.41 \n",
       "  \"/>\n",
       "<polyline clip-path=\"url(#clip952)\" style=\"stroke:#ff0000; stroke-width:4; stroke-opacity:1; fill:none\" points=\"\n",
       "  669.579,1113.37 692.985,1113.37 \n",
       "  \"/>\n",
       "<polyline clip-path=\"url(#clip952)\" style=\"stroke:#ff0000; stroke-width:4; stroke-opacity:1; fill:none\" points=\"\n",
       "  692.985,1099.28 714.921,1099.28 \n",
       "  \"/>\n",
       "<polyline clip-path=\"url(#clip952)\" style=\"stroke:#ff0000; stroke-width:4; stroke-opacity:1; fill:none\" points=\"\n",
       "  714.921,1086.1 735.45,1086.1 \n",
       "  \"/>\n",
       "<polyline clip-path=\"url(#clip952)\" style=\"stroke:#ff0000; stroke-width:4; stroke-opacity:1; fill:none\" points=\"\n",
       "  735.45,1073.77 754.637,1073.77 \n",
       "  \"/>\n",
       "<polyline clip-path=\"url(#clip952)\" style=\"stroke:#ff0000; stroke-width:4; stroke-opacity:1; fill:none\" points=\"\n",
       "  754.637,1062.27 772.548,1062.27 \n",
       "  \"/>\n",
       "<polyline clip-path=\"url(#clip952)\" style=\"stroke:#ff0000; stroke-width:4; stroke-opacity:1; fill:none\" points=\"\n",
       "  772.548,1051.54 789.252,1051.54 \n",
       "  \"/>\n",
       "<polyline clip-path=\"url(#clip952)\" style=\"stroke:#ff0000; stroke-width:4; stroke-opacity:1; fill:none\" points=\"\n",
       "  789.252,1041.54 804.816,1041.54 \n",
       "  \"/>\n",
       "<polyline clip-path=\"url(#clip952)\" style=\"stroke:#ff0000; stroke-width:4; stroke-opacity:1; fill:none\" points=\"\n",
       "  804.816,1032.23 819.306,1032.23 \n",
       "  \"/>\n",
       "<polyline clip-path=\"url(#clip952)\" style=\"stroke:#ff0000; stroke-width:4; stroke-opacity:1; fill:none\" points=\"\n",
       "  819.306,1023.57 832.788,1023.57 \n",
       "  \"/>\n",
       "<polyline clip-path=\"url(#clip952)\" style=\"stroke:#ff0000; stroke-width:4; stroke-opacity:1; fill:none\" points=\"\n",
       "  832.788,1015.52 845.322,1015.52 \n",
       "  \"/>\n",
       "<polyline clip-path=\"url(#clip952)\" style=\"stroke:#ff0000; stroke-width:4; stroke-opacity:1; fill:none\" points=\"\n",
       "  845.322,1008.04 856.969,1008.04 \n",
       "  \"/>\n",
       "<polyline clip-path=\"url(#clip952)\" style=\"stroke:#ff0000; stroke-width:4; stroke-opacity:1; fill:none\" points=\"\n",
       "  856.969,1001.09 867.787,1001.09 \n",
       "  \"/>\n",
       "<polyline clip-path=\"url(#clip952)\" style=\"stroke:#ff0000; stroke-width:4; stroke-opacity:1; fill:none\" points=\"\n",
       "  867.787,994.642 877.829,994.642 \n",
       "  \"/>\n",
       "<polyline clip-path=\"url(#clip952)\" style=\"stroke:#ff0000; stroke-width:4; stroke-opacity:1; fill:none\" points=\"\n",
       "  877.829,988.657 887.147,988.657 \n",
       "  \"/>\n",
       "<polyline clip-path=\"url(#clip952)\" style=\"stroke:#ff0000; stroke-width:4; stroke-opacity:1; fill:none\" points=\"\n",
       "  887.147,983.105 895.791,983.105 \n",
       "  \"/>\n",
       "<polyline clip-path=\"url(#clip952)\" style=\"stroke:#ff0000; stroke-width:4; stroke-opacity:1; fill:none\" points=\"\n",
       "  895.791,977.957 903.805,977.957 \n",
       "  \"/>\n",
       "<polyline clip-path=\"url(#clip952)\" style=\"stroke:#ff0000; stroke-width:4; stroke-opacity:1; fill:none\" points=\"\n",
       "  903.805,973.185 911.234,973.185 \n",
       "  \"/>\n",
       "<polyline clip-path=\"url(#clip952)\" style=\"stroke:#ff0000; stroke-width:4; stroke-opacity:1; fill:none\" points=\"\n",
       "  911.234,968.763 918.119,968.763 \n",
       "  \"/>\n",
       "<polyline clip-path=\"url(#clip952)\" style=\"stroke:#ff0000; stroke-width:4; stroke-opacity:1; fill:none\" points=\"\n",
       "  918.119,964.665 924.498,964.665 \n",
       "  \"/>\n",
       "<polyline clip-path=\"url(#clip952)\" style=\"stroke:#ff0000; stroke-width:4; stroke-opacity:1; fill:none\" points=\"\n",
       "  924.498,960.871 930.405,960.871 \n",
       "  \"/>\n",
       "<polyline clip-path=\"url(#clip952)\" style=\"stroke:#ff0000; stroke-width:4; stroke-opacity:1; fill:none\" points=\"\n",
       "  930.405,957.357 935.876,957.357 \n",
       "  \"/>\n",
       "<polyline clip-path=\"url(#clip952)\" style=\"stroke:#ff0000; stroke-width:4; stroke-opacity:1; fill:none\" points=\"\n",
       "  935.876,954.103 940.941,954.103 \n",
       "  \"/>\n",
       "<polyline clip-path=\"url(#clip952)\" style=\"stroke:#ff0000; stroke-width:4; stroke-opacity:1; fill:none\" points=\"\n",
       "  940.941,951.091 945.63,951.091 \n",
       "  \"/>\n",
       "<polyline clip-path=\"url(#clip952)\" style=\"stroke:#ff0000; stroke-width:4; stroke-opacity:1; fill:none\" points=\"\n",
       "  945.63,948.304 949.97,948.304 \n",
       "  \"/>\n",
       "<polyline clip-path=\"url(#clip952)\" style=\"stroke:#ff0000; stroke-width:4; stroke-opacity:1; fill:none\" points=\"\n",
       "  949.97,945.724 953.985,945.724 \n",
       "  \"/>\n",
       "<polyline clip-path=\"url(#clip952)\" style=\"stroke:#ff0000; stroke-width:4; stroke-opacity:1; fill:none\" points=\"\n",
       "  953.985,943.338 957.701,943.338 \n",
       "  \"/>\n",
       "<polyline clip-path=\"url(#clip952)\" style=\"stroke:#ff0000; stroke-width:4; stroke-opacity:1; fill:none\" points=\"\n",
       "  957.701,941.13 961.138,941.13 \n",
       "  \"/>\n",
       "<polyline clip-path=\"url(#clip952)\" style=\"stroke:#ff0000; stroke-width:4; stroke-opacity:1; fill:none\" points=\"\n",
       "  961.138,939.087 964.318,939.087 \n",
       "  \"/>\n",
       "<polyline clip-path=\"url(#clip952)\" style=\"stroke:#ff0000; stroke-width:4; stroke-opacity:1; fill:none\" points=\"\n",
       "  964.318,937.198 967.259,937.198 \n",
       "  \"/>\n",
       "<polyline clip-path=\"url(#clip952)\" style=\"stroke:#ff0000; stroke-width:4; stroke-opacity:1; fill:none\" points=\"\n",
       "  967.259,935.451 969.979,935.451 \n",
       "  \"/>\n",
       "<polyline clip-path=\"url(#clip952)\" style=\"stroke:#ff0000; stroke-width:4; stroke-opacity:1; fill:none\" points=\"\n",
       "  969.979,933.835 972.495,933.835 \n",
       "  \"/>\n",
       "<polyline clip-path=\"url(#clip952)\" style=\"stroke:#ff0000; stroke-width:4; stroke-opacity:1; fill:none\" points=\"\n",
       "  972.495,932.341 974.82,932.341 \n",
       "  \"/>\n",
       "<polyline clip-path=\"url(#clip952)\" style=\"stroke:#ff0000; stroke-width:4; stroke-opacity:1; fill:none\" points=\"\n",
       "  974.82,930.96 976.971,930.96 \n",
       "  \"/>\n",
       "<polyline clip-path=\"url(#clip952)\" style=\"stroke:#ff0000; stroke-width:4; stroke-opacity:1; fill:none\" points=\"\n",
       "  976.971,929.683 978.959,929.683 \n",
       "  \"/>\n",
       "<polyline clip-path=\"url(#clip952)\" style=\"stroke:#ff0000; stroke-width:4; stroke-opacity:1; fill:none\" points=\"\n",
       "  978.959,928.502 980.797,928.502 \n",
       "  \"/>\n",
       "<polyline clip-path=\"url(#clip952)\" style=\"stroke:#ff0000; stroke-width:4; stroke-opacity:1; fill:none\" points=\"\n",
       "  980.797,927.411 982.496,927.411 \n",
       "  \"/>\n",
       "<polyline clip-path=\"url(#clip952)\" style=\"stroke:#ff0000; stroke-width:4; stroke-opacity:1; fill:none\" points=\"\n",
       "  982.496,926.402 984.067,926.402 \n",
       "  \"/>\n",
       "<polyline clip-path=\"url(#clip952)\" style=\"stroke:#ff0000; stroke-width:4; stroke-opacity:1; fill:none\" points=\"\n",
       "  984.067,925.469 985.519,925.469 \n",
       "  \"/>\n",
       "<polyline clip-path=\"url(#clip952)\" style=\"stroke:#ff0000; stroke-width:4; stroke-opacity:1; fill:none\" points=\"\n",
       "  985.519,924.608 986.86,924.608 \n",
       "  \"/>\n",
       "<polyline clip-path=\"url(#clip952)\" style=\"stroke:#ff0000; stroke-width:4; stroke-opacity:1; fill:none\" points=\"\n",
       "  986.86,923.811 988.101,923.811 \n",
       "  \"/>\n",
       "<polyline clip-path=\"url(#clip952)\" style=\"stroke:#ff0000; stroke-width:4; stroke-opacity:1; fill:none\" points=\"\n",
       "  988.101,923.075 989.247,923.075 \n",
       "  \"/>\n",
       "<polyline clip-path=\"url(#clip952)\" style=\"stroke:#ff0000; stroke-width:4; stroke-opacity:1; fill:none\" points=\"\n",
       "  989.247,922.394 990.306,922.394 \n",
       "  \"/>\n",
       "<polyline clip-path=\"url(#clip952)\" style=\"stroke:#ff0000; stroke-width:4; stroke-opacity:1; fill:none\" points=\"\n",
       "  990.306,921.766 991.285,921.766 \n",
       "  \"/>\n",
       "<polyline clip-path=\"url(#clip952)\" style=\"stroke:#ff0000; stroke-width:4; stroke-opacity:1; fill:none\" points=\"\n",
       "  991.285,921.184 992.19,921.184 \n",
       "  \"/>\n",
       "<polyline clip-path=\"url(#clip952)\" style=\"stroke:#ff0000; stroke-width:4; stroke-opacity:1; fill:none\" points=\"\n",
       "  992.19,920.648 993.026,920.648 \n",
       "  \"/>\n",
       "<polyline clip-path=\"url(#clip952)\" style=\"stroke:#ff0000; stroke-width:4; stroke-opacity:1; fill:none\" points=\"\n",
       "  993.026,920.151 993.798,920.151 \n",
       "  \"/>\n",
       "<polyline clip-path=\"url(#clip952)\" style=\"stroke:#ff0000; stroke-width:4; stroke-opacity:1; fill:none\" points=\"\n",
       "  993.798,919.693 994.512,919.693 \n",
       "  \"/>\n",
       "<polyline clip-path=\"url(#clip952)\" style=\"stroke:#ff0000; stroke-width:4; stroke-opacity:1; fill:none\" points=\"\n",
       "  994.512,919.269 995.171,919.269 \n",
       "  \"/>\n",
       "<polyline clip-path=\"url(#clip952)\" style=\"stroke:#ff0000; stroke-width:4; stroke-opacity:1; fill:none\" points=\"\n",
       "  995.171,918.878 995.781,918.878 \n",
       "  \"/>\n",
       "<polyline clip-path=\"url(#clip952)\" style=\"stroke:#ff0000; stroke-width:4; stroke-opacity:1; fill:none\" points=\"\n",
       "  995.781,918.516 996.344,918.516 \n",
       "  \"/>\n",
       "<polyline clip-path=\"url(#clip952)\" style=\"stroke:#ff0000; stroke-width:4; stroke-opacity:1; fill:none\" points=\"\n",
       "  996.344,918.182 996.864,918.182 \n",
       "  \"/>\n",
       "<polyline clip-path=\"url(#clip952)\" style=\"stroke:#ff0000; stroke-width:4; stroke-opacity:1; fill:none\" points=\"\n",
       "  996.864,917.873 997.345,917.873 \n",
       "  \"/>\n",
       "<polyline clip-path=\"url(#clip952)\" style=\"stroke:#ff0000; stroke-width:4; stroke-opacity:1; fill:none\" points=\"\n",
       "  997.345,917.588 997.789,917.588 \n",
       "  \"/>\n",
       "<polyline clip-path=\"url(#clip952)\" style=\"stroke:#ff0000; stroke-width:4; stroke-opacity:1; fill:none\" points=\"\n",
       "  997.789,917.324 998.199,917.324 \n",
       "  \"/>\n",
       "<polyline clip-path=\"url(#clip952)\" style=\"stroke:#ff0000; stroke-width:4; stroke-opacity:1; fill:none\" points=\"\n",
       "  998.199,917.081 998.578,917.081 \n",
       "  \"/>\n",
       "<polyline clip-path=\"url(#clip952)\" style=\"stroke:#ff0000; stroke-width:4; stroke-opacity:1; fill:none\" points=\"\n",
       "  998.578,916.856 998.929,916.856 \n",
       "  \"/>\n",
       "<polyline clip-path=\"url(#clip952)\" style=\"stroke:#ff0000; stroke-width:4; stroke-opacity:1; fill:none\" points=\"\n",
       "  998.929,916.648 999.252,916.648 \n",
       "  \"/>\n",
       "<polyline clip-path=\"url(#clip952)\" style=\"stroke:#ff0000; stroke-width:4; stroke-opacity:1; fill:none\" points=\"\n",
       "  999.252,916.456 999.551,916.456 \n",
       "  \"/>\n",
       "<polyline clip-path=\"url(#clip952)\" style=\"stroke:#ff0000; stroke-width:4; stroke-opacity:1; fill:none\" points=\"\n",
       "  999.551,916.278 999.827,916.278 \n",
       "  \"/>\n",
       "<polyline clip-path=\"url(#clip952)\" style=\"stroke:#ff0000; stroke-width:4; stroke-opacity:1; fill:none\" points=\"\n",
       "  999.827,916.115 1000.08,916.115 \n",
       "  \"/>\n",
       "<polyline clip-path=\"url(#clip952)\" style=\"stroke:#ff0000; stroke-width:4; stroke-opacity:1; fill:none\" points=\"\n",
       "  1000.08,915.963 1000.32,915.963 \n",
       "  \"/>\n",
       "<polyline clip-path=\"url(#clip952)\" style=\"stroke:#ff0000; stroke-width:4; stroke-opacity:1; fill:none\" points=\"\n",
       "  1000.32,915.823 1000.54,915.823 \n",
       "  \"/>\n",
       "<polyline clip-path=\"url(#clip952)\" style=\"stroke:#ff0000; stroke-width:4; stroke-opacity:1; fill:none\" points=\"\n",
       "  1000.54,915.694 1000.74,915.694 \n",
       "  \"/>\n",
       "<polyline clip-path=\"url(#clip952)\" style=\"stroke:#ff0000; stroke-width:4; stroke-opacity:1; fill:none\" points=\"\n",
       "  1000.74,915.575 1000.92,915.575 \n",
       "  \"/>\n",
       "<polyline clip-path=\"url(#clip952)\" style=\"stroke:#ff0000; stroke-width:4; stroke-opacity:1; fill:none\" points=\"\n",
       "  1000.92,915.464 1001.09,915.464 \n",
       "  \"/>\n",
       "<polyline clip-path=\"url(#clip952)\" style=\"stroke:#ff0000; stroke-width:4; stroke-opacity:1; fill:none\" points=\"\n",
       "  1001.09,915.362 1001.25,915.362 \n",
       "  \"/>\n",
       "<polyline clip-path=\"url(#clip952)\" style=\"stroke:#ff0000; stroke-width:4; stroke-opacity:1; fill:none\" points=\"\n",
       "  1001.25,915.268 1001.4,915.268 \n",
       "  \"/>\n",
       "<polyline clip-path=\"url(#clip952)\" style=\"stroke:#ff0000; stroke-width:4; stroke-opacity:1; fill:none\" points=\"\n",
       "  1001.4,915.181 1001.54,915.181 \n",
       "  \"/>\n",
       "<polyline clip-path=\"url(#clip952)\" style=\"stroke:#ff0000; stroke-width:4; stroke-opacity:1; fill:none\" points=\"\n",
       "  1001.54,915.101 1001.66,915.101 \n",
       "  \"/>\n",
       "<polyline clip-path=\"url(#clip952)\" style=\"stroke:#ff0000; stroke-width:4; stroke-opacity:1; fill:none\" points=\"\n",
       "  1001.66,915.027 1001.78,915.027 \n",
       "  \"/>\n",
       "<polyline clip-path=\"url(#clip952)\" style=\"stroke:#ff0000; stroke-width:4; stroke-opacity:1; fill:none\" points=\"\n",
       "  1001.78,914.958 1001.88,914.958 \n",
       "  \"/>\n",
       "<polyline clip-path=\"url(#clip952)\" style=\"stroke:#ff0000; stroke-width:4; stroke-opacity:1; fill:none\" points=\"\n",
       "  1001.88,914.895 1001.98,914.895 \n",
       "  \"/>\n",
       "<polyline clip-path=\"url(#clip952)\" style=\"stroke:#ff0000; stroke-width:4; stroke-opacity:1; fill:none\" points=\"\n",
       "  1001.98,914.836 1002.07,914.836 \n",
       "  \"/>\n",
       "<polyline clip-path=\"url(#clip952)\" style=\"stroke:#ff0000; stroke-width:4; stroke-opacity:1; fill:none\" points=\"\n",
       "  1002.07,914.782 1002.16,914.782 \n",
       "  \"/>\n",
       "<polyline clip-path=\"url(#clip952)\" style=\"stroke:#ff0000; stroke-width:4; stroke-opacity:1; fill:none\" points=\"\n",
       "  1002.16,914.732 1002.23,914.732 \n",
       "  \"/>\n",
       "<polyline clip-path=\"url(#clip952)\" style=\"stroke:#ff0000; stroke-width:4; stroke-opacity:1; fill:none\" points=\"\n",
       "  1002.23,914.686 1002.31,914.686 \n",
       "  \"/>\n",
       "<polyline clip-path=\"url(#clip952)\" style=\"stroke:#ff0000; stroke-width:4; stroke-opacity:1; fill:none\" points=\"\n",
       "  1002.31,914.644 1002.37,914.644 \n",
       "  \"/>\n",
       "<polyline clip-path=\"url(#clip952)\" style=\"stroke:#ff0000; stroke-width:4; stroke-opacity:1; fill:none\" points=\"\n",
       "  1002.37,914.604 1002.43,914.604 \n",
       "  \"/>\n",
       "<polyline clip-path=\"url(#clip952)\" style=\"stroke:#ff0000; stroke-width:4; stroke-opacity:1; fill:none\" points=\"\n",
       "  1002.43,914.568 1002.49,914.568 \n",
       "  \"/>\n",
       "<polyline clip-path=\"url(#clip952)\" style=\"stroke:#ff0000; stroke-width:4; stroke-opacity:1; fill:none\" points=\"\n",
       "  1002.49,914.534 1002.54,914.534 \n",
       "  \"/>\n",
       "<polyline clip-path=\"url(#clip952)\" style=\"stroke:#ff0000; stroke-width:4; stroke-opacity:1; fill:none\" points=\"\n",
       "  1002.54,914.503 1002.59,914.503 \n",
       "  \"/>\n",
       "<polyline clip-path=\"url(#clip952)\" style=\"stroke:#ff0000; stroke-width:4; stroke-opacity:1; fill:none\" points=\"\n",
       "  1002.59,914.475 1002.64,914.475 \n",
       "  \"/>\n",
       "<polyline clip-path=\"url(#clip952)\" style=\"stroke:#ff0000; stroke-width:4; stroke-opacity:1; fill:none\" points=\"\n",
       "  1002.64,914.448 1002.68,914.448 \n",
       "  \"/>\n",
       "<polyline clip-path=\"url(#clip952)\" style=\"stroke:#ff0000; stroke-width:4; stroke-opacity:1; fill:none\" points=\"\n",
       "  1002.68,914.424 1002.72,914.424 \n",
       "  \"/>\n",
       "<polyline clip-path=\"url(#clip952)\" style=\"stroke:#ff0000; stroke-width:4; stroke-opacity:1; fill:none\" points=\"\n",
       "  1002.72,914.401 1002.75,914.401 \n",
       "  \"/>\n",
       "<polyline clip-path=\"url(#clip952)\" style=\"stroke:#ff0000; stroke-width:4; stroke-opacity:1; fill:none\" points=\"\n",
       "  1002.75,914.38 1002.78,914.38 \n",
       "  \"/>\n",
       "<polyline clip-path=\"url(#clip952)\" style=\"stroke:#ff0000; stroke-width:4; stroke-opacity:1; fill:none\" points=\"\n",
       "  1002.78,914.361 1002.81,914.361 \n",
       "  \"/>\n",
       "<polyline clip-path=\"url(#clip952)\" style=\"stroke:#ff0000; stroke-width:4; stroke-opacity:1; fill:none\" points=\"\n",
       "  1002.81,914.343 1002.84,914.343 \n",
       "  \"/>\n",
       "<polyline clip-path=\"url(#clip952)\" style=\"stroke:#ff0000; stroke-width:4; stroke-opacity:1; fill:none\" points=\"\n",
       "  1002.84,914.327 1002.87,914.327 \n",
       "  \"/>\n",
       "<polyline clip-path=\"url(#clip952)\" style=\"stroke:#ff0000; stroke-width:4; stroke-opacity:1; fill:none\" points=\"\n",
       "  1002.87,914.311 1002.89,914.311 \n",
       "  \"/>\n",
       "</svg>\n"
      ]
     },
     "execution_count": 45,
     "metadata": {},
     "output_type": "execute_result"
    }
   ],
   "source": [
    "pl = plot(kvec, kvec)\n",
    "plot!(pl, kvec, fvec)\n",
    "for (a,b) in hz_segments\n",
    "    plot!(pl, [a,b],[b,b], color=:red, legend=false)\n",
    "end\n",
    "pl"
   ]
  },
  {
   "cell_type": "markdown",
   "id": "7f5ec020",
   "metadata": {},
   "source": [
    "__Propose and implement a way to accelerate convergence__"
   ]
  },
  {
   "cell_type": "code",
   "execution_count": null,
   "id": "61f72b64",
   "metadata": {},
   "outputs": [],
   "source": [
    "#  Aitkens' extrapolation"
   ]
  },
  {
   "cell_type": "markdown",
   "id": "e3f7676c",
   "metadata": {},
   "source": [
    "__What factors affect the steady-state level of capital?__"
   ]
  },
  {
   "cell_type": "code",
   "execution_count": 53,
   "id": "2b1bd736",
   "metadata": {},
   "outputs": [
    {
     "data": {
      "text/plain": [
       "steady_state (generic function with 2 methods)"
      ]
     },
     "execution_count": 53,
     "metadata": {},
     "output_type": "execute_result"
    }
   ],
   "source": [
    "function steady_state(p::Dict{Symbol, Float64}, k0=1; T=100, tol_η=1e-6)\n",
    "    for t=1:T\n",
    "        K = f(k0; p=p)\n",
    "        if abs(K-k0)<tol_η\n",
    "            return K\n",
    "        end\n",
    "        k0 = K\n",
    "    end\n",
    "    return k0\n",
    "end"
   ]
  },
  {
   "cell_type": "code",
   "execution_count": 54,
   "id": "14865cdf-716b-42bc-b56d-f272e150aa5c",
   "metadata": {},
   "outputs": [
    {
     "data": {
      "text/plain": [
       "2.3485992665572386"
      ]
     },
     "execution_count": 54,
     "metadata": {},
     "output_type": "execute_result"
    }
   ],
   "source": [
    "steady_state(p, 1.0)"
   ]
  },
  {
   "cell_type": "code",
   "execution_count": 59,
   "id": "404146ed-e1f5-493d-a3b7-7d3212ca6ce4",
   "metadata": {},
   "outputs": [],
   "source": [
    "gvec = range(1.0, 1.05; length=6)\n",
    "kbar_g = []\n",
    "for g in gvec\n",
    "    p0 = copy(p)\n",
    "    p0[:g] = g\n",
    "    kbar = steady_state(p0, 1.0)\n",
    "    push!(kbar_g, kbar)\n",
    "    \n",
    "end\n",
    "plot(gvec, kbar_g, xlabel=\"g\", ylabel=\"k/n\")"
   ]
  },
  {
   "cell_type": "code",
   "execution_count": 64,
   "id": "dbb8a94b-9585-438d-8d7a-3e901a032dd2",
   "metadata": {},
   "outputs": [
    {
     "data": {
      "image/svg+xml": [
       "<?xml version=\"1.0\" encoding=\"utf-8\"?>\n",
       "<svg xmlns=\"http://www.w3.org/2000/svg\" xmlns:xlink=\"http://www.w3.org/1999/xlink\" width=\"600\" height=\"400\" viewBox=\"0 0 2400 1600\">\n",
       "<defs>\n",
       "  <clipPath id=\"clip150\">\n",
       "    <rect x=\"0\" y=\"0\" width=\"2400\" height=\"1600\"/>\n",
       "  </clipPath>\n",
       "</defs>\n",
       "<path clip-path=\"url(#clip150)\" d=\"\n",
       "M0 1600 L2400 1600 L2400 0 L0 0  Z\n",
       "  \" fill=\"#ffffff\" fill-rule=\"evenodd\" fill-opacity=\"1\"/>\n",
       "<defs>\n",
       "  <clipPath id=\"clip151\">\n",
       "    <rect x=\"480\" y=\"0\" width=\"1681\" height=\"1600\"/>\n",
       "  </clipPath>\n",
       "</defs>\n",
       "<path clip-path=\"url(#clip150)\" d=\"\n",
       "M175.445 1423.18 L2352.76 1423.18 L2352.76 47.2441 L175.445 47.2441  Z\n",
       "  \" fill=\"#ffffff\" fill-rule=\"evenodd\" fill-opacity=\"1\"/>\n",
       "<defs>\n",
       "  <clipPath id=\"clip152\">\n",
       "    <rect x=\"175\" y=\"47\" width=\"2178\" height=\"1377\"/>\n",
       "  </clipPath>\n",
       "</defs>\n",
       "<polyline clip-path=\"url(#clip152)\" style=\"stroke:#000000; stroke-width:2; stroke-opacity:0.1; fill:none\" points=\"\n",
       "  237.067,1423.18 237.067,47.2441 \n",
       "  \"/>\n",
       "<polyline clip-path=\"url(#clip152)\" style=\"stroke:#000000; stroke-width:2; stroke-opacity:0.1; fill:none\" points=\"\n",
       "  750.584,1423.18 750.584,47.2441 \n",
       "  \"/>\n",
       "<polyline clip-path=\"url(#clip152)\" style=\"stroke:#000000; stroke-width:2; stroke-opacity:0.1; fill:none\" points=\"\n",
       "  1264.1,1423.18 1264.1,47.2441 \n",
       "  \"/>\n",
       "<polyline clip-path=\"url(#clip152)\" style=\"stroke:#000000; stroke-width:2; stroke-opacity:0.1; fill:none\" points=\"\n",
       "  1777.62,1423.18 1777.62,47.2441 \n",
       "  \"/>\n",
       "<polyline clip-path=\"url(#clip152)\" style=\"stroke:#000000; stroke-width:2; stroke-opacity:0.1; fill:none\" points=\"\n",
       "  2291.13,1423.18 2291.13,47.2441 \n",
       "  \"/>\n",
       "<polyline clip-path=\"url(#clip150)\" style=\"stroke:#000000; stroke-width:4; stroke-opacity:1; fill:none\" points=\"\n",
       "  175.445,1423.18 2352.76,1423.18 \n",
       "  \"/>\n",
       "<polyline clip-path=\"url(#clip150)\" style=\"stroke:#000000; stroke-width:4; stroke-opacity:1; fill:none\" points=\"\n",
       "  237.067,1423.18 237.067,1406.67 \n",
       "  \"/>\n",
       "<polyline clip-path=\"url(#clip150)\" style=\"stroke:#000000; stroke-width:4; stroke-opacity:1; fill:none\" points=\"\n",
       "  750.584,1423.18 750.584,1406.67 \n",
       "  \"/>\n",
       "<polyline clip-path=\"url(#clip150)\" style=\"stroke:#000000; stroke-width:4; stroke-opacity:1; fill:none\" points=\"\n",
       "  1264.1,1423.18 1264.1,1406.67 \n",
       "  \"/>\n",
       "<polyline clip-path=\"url(#clip150)\" style=\"stroke:#000000; stroke-width:4; stroke-opacity:1; fill:none\" points=\"\n",
       "  1777.62,1423.18 1777.62,1406.67 \n",
       "  \"/>\n",
       "<polyline clip-path=\"url(#clip150)\" style=\"stroke:#000000; stroke-width:4; stroke-opacity:1; fill:none\" points=\"\n",
       "  2291.13,1423.18 2291.13,1406.67 \n",
       "  \"/>\n",
       "<path clip-path=\"url(#clip150)\" d=\"M 0 0 M215.065 1452.37 Q211.454 1452.37 209.625 1455.94 Q207.82 1459.48 207.82 1466.61 Q207.82 1473.71 209.625 1477.28 Q211.454 1480.82 215.065 1480.82 Q218.699 1480.82 220.505 1477.28 Q222.333 1473.71 222.333 1466.61 Q222.333 1459.48 220.505 1455.94 Q218.699 1452.37 215.065 1452.37 M215.065 1448.67 Q220.875 1448.67 223.931 1453.27 Q227.009 1457.86 227.009 1466.61 Q227.009 1475.33 223.931 1479.94 Q220.875 1484.52 215.065 1484.52 Q209.255 1484.52 206.176 1479.94 Q203.121 1475.33 203.121 1466.61 Q203.121 1457.86 206.176 1453.27 Q209.255 1448.67 215.065 1448.67 Z\" fill=\"#000000\" fill-rule=\"evenodd\" fill-opacity=\"1\" /><path clip-path=\"url(#clip150)\" d=\"M 0 0 M235.227 1477.97 L240.111 1477.97 L240.111 1483.85 L235.227 1483.85 L235.227 1477.97 Z\" fill=\"#000000\" fill-rule=\"evenodd\" fill-opacity=\"1\" /><path clip-path=\"url(#clip150)\" d=\"M 0 0 M251.106 1479.92 L258.745 1479.92 L258.745 1453.55 L250.435 1455.22 L250.435 1450.96 L258.699 1449.29 L263.375 1449.29 L263.375 1479.92 L271.014 1479.92 L271.014 1483.85 L251.106 1483.85 L251.106 1479.92 Z\" fill=\"#000000\" fill-rule=\"evenodd\" fill-opacity=\"1\" /><path clip-path=\"url(#clip150)\" d=\"M 0 0 M728.767 1452.37 Q725.156 1452.37 723.327 1455.94 Q721.522 1459.48 721.522 1466.61 Q721.522 1473.71 723.327 1477.28 Q725.156 1480.82 728.767 1480.82 Q732.401 1480.82 734.207 1477.28 Q736.035 1473.71 736.035 1466.61 Q736.035 1459.48 734.207 1455.94 Q732.401 1452.37 728.767 1452.37 M728.767 1448.67 Q734.577 1448.67 737.633 1453.27 Q740.711 1457.86 740.711 1466.61 Q740.711 1475.33 737.633 1479.94 Q734.577 1484.52 728.767 1484.52 Q722.957 1484.52 719.878 1479.94 Q716.822 1475.33 716.822 1466.61 Q716.822 1457.86 719.878 1453.27 Q722.957 1448.67 728.767 1448.67 Z\" fill=\"#000000\" fill-rule=\"evenodd\" fill-opacity=\"1\" /><path clip-path=\"url(#clip150)\" d=\"M 0 0 M748.929 1477.97 L753.813 1477.97 L753.813 1483.85 L748.929 1483.85 L748.929 1477.97 Z\" fill=\"#000000\" fill-rule=\"evenodd\" fill-opacity=\"1\" /><path clip-path=\"url(#clip150)\" d=\"M 0 0 M768.026 1479.92 L784.345 1479.92 L784.345 1483.85 L762.401 1483.85 L762.401 1479.92 Q765.063 1477.16 769.646 1472.53 Q774.253 1467.88 775.433 1466.54 Q777.679 1464.01 778.558 1462.28 Q779.461 1460.52 779.461 1458.83 Q779.461 1456.07 777.517 1454.34 Q775.595 1452.6 772.493 1452.6 Q770.294 1452.6 767.841 1453.37 Q765.41 1454.13 762.632 1455.68 L762.632 1450.96 Q765.456 1449.82 767.91 1449.25 Q770.364 1448.67 772.401 1448.67 Q777.771 1448.67 780.966 1451.35 Q784.16 1454.04 784.16 1458.53 Q784.16 1460.66 783.35 1462.58 Q782.563 1464.48 780.456 1467.07 Q779.878 1467.74 776.776 1470.96 Q773.674 1474.15 768.026 1479.92 Z\" fill=\"#000000\" fill-rule=\"evenodd\" fill-opacity=\"1\" /><path clip-path=\"url(#clip150)\" d=\"M 0 0 M1241.81 1452.37 Q1238.2 1452.37 1236.37 1455.94 Q1234.56 1459.48 1234.56 1466.61 Q1234.56 1473.71 1236.37 1477.28 Q1238.2 1480.82 1241.81 1480.82 Q1245.44 1480.82 1247.25 1477.28 Q1249.08 1473.71 1249.08 1466.61 Q1249.08 1459.48 1247.25 1455.94 Q1245.44 1452.37 1241.81 1452.37 M1241.81 1448.67 Q1247.62 1448.67 1250.67 1453.27 Q1253.75 1457.86 1253.75 1466.61 Q1253.75 1475.33 1250.67 1479.94 Q1247.62 1484.52 1241.81 1484.52 Q1236 1484.52 1232.92 1479.94 Q1229.86 1475.33 1229.86 1466.61 Q1229.86 1457.86 1232.92 1453.27 Q1236 1448.67 1241.81 1448.67 Z\" fill=\"#000000\" fill-rule=\"evenodd\" fill-opacity=\"1\" /><path clip-path=\"url(#clip150)\" d=\"M 0 0 M1261.97 1477.97 L1266.86 1477.97 L1266.86 1483.85 L1261.97 1483.85 L1261.97 1477.97 Z\" fill=\"#000000\" fill-rule=\"evenodd\" fill-opacity=\"1\" /><path clip-path=\"url(#clip150)\" d=\"M 0 0 M1291.21 1465.22 Q1294.56 1465.94 1296.44 1468.2 Q1298.34 1470.47 1298.34 1473.81 Q1298.34 1478.92 1294.82 1481.72 Q1291.3 1484.52 1284.82 1484.52 Q1282.64 1484.52 1280.33 1484.08 Q1278.04 1483.67 1275.58 1482.81 L1275.58 1478.3 Q1277.53 1479.43 1279.84 1480.01 Q1282.16 1480.59 1284.68 1480.59 Q1289.08 1480.59 1291.37 1478.85 Q1293.68 1477.12 1293.68 1473.81 Q1293.68 1470.75 1291.53 1469.04 Q1289.4 1467.3 1285.58 1467.3 L1281.55 1467.3 L1281.55 1463.46 L1285.77 1463.46 Q1289.22 1463.46 1291.04 1462.09 Q1292.87 1460.7 1292.87 1458.11 Q1292.87 1455.45 1290.98 1454.04 Q1289.1 1452.6 1285.58 1452.6 Q1283.66 1452.6 1281.46 1453.02 Q1279.26 1453.44 1276.62 1454.31 L1276.62 1450.15 Q1279.29 1449.41 1281.6 1449.04 Q1283.94 1448.67 1286 1448.67 Q1291.32 1448.67 1294.42 1451.1 Q1297.53 1453.5 1297.53 1457.63 Q1297.53 1460.5 1295.88 1462.49 Q1294.24 1464.45 1291.21 1465.22 Z\" fill=\"#000000\" fill-rule=\"evenodd\" fill-opacity=\"1\" /><path clip-path=\"url(#clip150)\" d=\"M 0 0 M1754.76 1452.37 Q1751.15 1452.37 1749.32 1455.94 Q1747.51 1459.48 1747.51 1466.61 Q1747.51 1473.71 1749.32 1477.28 Q1751.15 1480.82 1754.76 1480.82 Q1758.39 1480.82 1760.2 1477.28 Q1762.03 1473.71 1762.03 1466.61 Q1762.03 1459.48 1760.2 1455.94 Q1758.39 1452.37 1754.76 1452.37 M1754.76 1448.67 Q1760.57 1448.67 1763.62 1453.27 Q1766.7 1457.86 1766.7 1466.61 Q1766.7 1475.33 1763.62 1479.94 Q1760.57 1484.52 1754.76 1484.52 Q1748.95 1484.52 1745.87 1479.94 Q1742.81 1475.33 1742.81 1466.61 Q1742.81 1457.86 1745.87 1453.27 Q1748.95 1448.67 1754.76 1448.67 Z\" fill=\"#000000\" fill-rule=\"evenodd\" fill-opacity=\"1\" /><path clip-path=\"url(#clip150)\" d=\"M 0 0 M1774.92 1477.97 L1779.8 1477.97 L1779.8 1483.85 L1774.92 1483.85 L1774.92 1477.97 Z\" fill=\"#000000\" fill-rule=\"evenodd\" fill-opacity=\"1\" /><path clip-path=\"url(#clip150)\" d=\"M 0 0 M1802.84 1453.37 L1791.03 1471.81 L1802.84 1471.81 L1802.84 1453.37 M1801.61 1449.29 L1807.49 1449.29 L1807.49 1471.81 L1812.42 1471.81 L1812.42 1475.7 L1807.49 1475.7 L1807.49 1483.85 L1802.84 1483.85 L1802.84 1475.7 L1787.24 1475.7 L1787.24 1471.19 L1801.61 1449.29 Z\" fill=\"#000000\" fill-rule=\"evenodd\" fill-opacity=\"1\" /><path clip-path=\"url(#clip150)\" d=\"M 0 0 M2269.02 1452.37 Q2265.4 1452.37 2263.58 1455.94 Q2261.77 1459.48 2261.77 1466.61 Q2261.77 1473.71 2263.58 1477.28 Q2265.4 1480.82 2269.02 1480.82 Q2272.65 1480.82 2274.46 1477.28 Q2276.28 1473.71 2276.28 1466.61 Q2276.28 1459.48 2274.46 1455.94 Q2272.65 1452.37 2269.02 1452.37 M2269.02 1448.67 Q2274.83 1448.67 2277.88 1453.27 Q2280.96 1457.86 2280.96 1466.61 Q2280.96 1475.33 2277.88 1479.94 Q2274.83 1484.52 2269.02 1484.52 Q2263.21 1484.52 2260.13 1479.94 Q2257.07 1475.33 2257.07 1466.61 Q2257.07 1457.86 2260.13 1453.27 Q2263.21 1448.67 2269.02 1448.67 Z\" fill=\"#000000\" fill-rule=\"evenodd\" fill-opacity=\"1\" /><path clip-path=\"url(#clip150)\" d=\"M 0 0 M2289.18 1477.97 L2294.06 1477.97 L2294.06 1483.85 L2289.18 1483.85 L2289.18 1477.97 Z\" fill=\"#000000\" fill-rule=\"evenodd\" fill-opacity=\"1\" /><path clip-path=\"url(#clip150)\" d=\"M 0 0 M2304.29 1449.29 L2322.65 1449.29 L2322.65 1453.23 L2308.58 1453.23 L2308.58 1461.7 Q2309.59 1461.35 2310.61 1461.19 Q2311.63 1461 2312.65 1461 Q2318.44 1461 2321.82 1464.18 Q2325.2 1467.35 2325.2 1472.76 Q2325.2 1478.34 2321.72 1481.44 Q2318.25 1484.52 2311.93 1484.52 Q2309.76 1484.52 2307.49 1484.15 Q2305.24 1483.78 2302.84 1483.04 L2302.84 1478.34 Q2304.92 1479.48 2307.14 1480.03 Q2309.36 1480.59 2311.84 1480.59 Q2315.84 1480.59 2318.18 1478.48 Q2320.52 1476.38 2320.52 1472.76 Q2320.52 1469.15 2318.18 1467.05 Q2315.84 1464.94 2311.84 1464.94 Q2309.96 1464.94 2308.09 1465.36 Q2306.24 1465.77 2304.29 1466.65 L2304.29 1449.29 Z\" fill=\"#000000\" fill-rule=\"evenodd\" fill-opacity=\"1\" /><path clip-path=\"url(#clip150)\" d=\"M 0 0 M1275.81 1533.45 L1275.81 1538.98 Q1273.33 1537.71 1270.66 1537.07 Q1267.98 1536.44 1265.12 1536.44 Q1260.76 1536.44 1258.56 1537.77 Q1256.4 1539.11 1256.4 1541.79 Q1256.4 1543.82 1257.96 1545 Q1259.52 1546.15 1264.23 1547.2 L1266.23 1547.64 Q1272.47 1548.98 1275.08 1551.43 Q1277.72 1553.85 1277.72 1558.21 Q1277.72 1563.17 1273.78 1566.07 Q1269.86 1568.97 1262.99 1568.97 Q1260.12 1568.97 1257 1568.39 Q1253.92 1567.85 1250.48 1566.74 L1250.48 1560.69 Q1253.72 1562.38 1256.88 1563.24 Q1260.03 1564.07 1263.11 1564.07 Q1267.25 1564.07 1269.48 1562.66 Q1271.71 1561.23 1271.71 1558.65 Q1271.71 1556.27 1270.08 1554.99 Q1268.49 1553.72 1263.05 1552.54 L1261.01 1552.07 Q1255.57 1550.92 1253.15 1548.56 Q1250.73 1546.18 1250.73 1542.04 Q1250.73 1537.01 1254.3 1534.27 Q1257.86 1531.54 1264.42 1531.54 Q1267.67 1531.54 1270.53 1532.01 Q1273.39 1532.49 1275.81 1533.45 Z\" fill=\"#000000\" fill-rule=\"evenodd\" fill-opacity=\"1\" /><polyline clip-path=\"url(#clip152)\" style=\"stroke:#000000; stroke-width:2; stroke-opacity:0.1; fill:none\" points=\"\n",
       "  175.445,1197.15 2352.76,1197.15 \n",
       "  \"/>\n",
       "<polyline clip-path=\"url(#clip152)\" style=\"stroke:#000000; stroke-width:2; stroke-opacity:0.1; fill:none\" points=\"\n",
       "  175.445,865.222 2352.76,865.222 \n",
       "  \"/>\n",
       "<polyline clip-path=\"url(#clip152)\" style=\"stroke:#000000; stroke-width:2; stroke-opacity:0.1; fill:none\" points=\"\n",
       "  175.445,533.29 2352.76,533.29 \n",
       "  \"/>\n",
       "<polyline clip-path=\"url(#clip152)\" style=\"stroke:#000000; stroke-width:2; stroke-opacity:0.1; fill:none\" points=\"\n",
       "  175.445,201.358 2352.76,201.358 \n",
       "  \"/>\n",
       "<polyline clip-path=\"url(#clip150)\" style=\"stroke:#000000; stroke-width:4; stroke-opacity:1; fill:none\" points=\"\n",
       "  175.445,1423.18 175.445,47.2441 \n",
       "  \"/>\n",
       "<polyline clip-path=\"url(#clip150)\" style=\"stroke:#000000; stroke-width:4; stroke-opacity:1; fill:none\" points=\"\n",
       "  175.445,1197.15 201.573,1197.15 \n",
       "  \"/>\n",
       "<polyline clip-path=\"url(#clip150)\" style=\"stroke:#000000; stroke-width:4; stroke-opacity:1; fill:none\" points=\"\n",
       "  175.445,865.222 201.573,865.222 \n",
       "  \"/>\n",
       "<polyline clip-path=\"url(#clip150)\" style=\"stroke:#000000; stroke-width:4; stroke-opacity:1; fill:none\" points=\"\n",
       "  175.445,533.29 201.573,533.29 \n",
       "  \"/>\n",
       "<polyline clip-path=\"url(#clip150)\" style=\"stroke:#000000; stroke-width:4; stroke-opacity:1; fill:none\" points=\"\n",
       "  175.445,201.358 201.573,201.358 \n",
       "  \"/>\n",
       "<path clip-path=\"url(#clip150)\" d=\"M 0 0 M123.126 1210.5 L139.445 1210.5 L139.445 1214.43 L117.501 1214.43 L117.501 1210.5 Q120.163 1207.74 124.746 1203.11 Q129.353 1198.46 130.533 1197.12 Q132.779 1194.6 133.658 1192.86 Q134.561 1191.1 134.561 1189.41 Q134.561 1186.66 132.617 1184.92 Q130.695 1183.18 127.593 1183.18 Q125.394 1183.18 122.941 1183.95 Q120.51 1184.71 117.732 1186.26 L117.732 1181.54 Q120.556 1180.41 123.01 1179.83 Q125.464 1179.25 127.501 1179.25 Q132.871 1179.25 136.066 1181.93 Q139.26 1184.62 139.26 1189.11 Q139.26 1191.24 138.45 1193.16 Q137.663 1195.06 135.556 1197.65 Q134.978 1198.32 131.876 1201.54 Q128.774 1204.73 123.126 1210.5 Z\" fill=\"#000000\" fill-rule=\"evenodd\" fill-opacity=\"1\" /><path clip-path=\"url(#clip150)\" d=\"M 0 0 M129.862 852.016 L118.056 870.465 L129.862 870.465 L129.862 852.016 M128.635 847.942 L134.515 847.942 L134.515 870.465 L139.445 870.465 L139.445 874.353 L134.515 874.353 L134.515 882.502 L129.862 882.502 L129.862 874.353 L114.26 874.353 L114.26 869.84 L128.635 847.942 Z\" fill=\"#000000\" fill-rule=\"evenodd\" fill-opacity=\"1\" /><path clip-path=\"url(#clip150)\" d=\"M 0 0 M127.917 531.426 Q124.769 531.426 122.918 533.579 Q121.089 535.732 121.089 539.482 Q121.089 543.209 122.918 545.385 Q124.769 547.537 127.917 547.537 Q131.066 547.537 132.894 545.385 Q134.746 543.209 134.746 539.482 Q134.746 535.732 132.894 533.579 Q131.066 531.426 127.917 531.426 M137.2 516.774 L137.2 521.033 Q135.441 520.2 133.635 519.76 Q131.853 519.32 130.093 519.32 Q125.464 519.32 123.01 522.445 Q120.58 525.57 120.232 531.889 Q121.598 529.876 123.658 528.811 Q125.718 527.723 128.195 527.723 Q133.404 527.723 136.413 530.894 Q139.445 534.042 139.445 539.482 Q139.445 544.806 136.297 548.024 Q133.149 551.241 127.917 551.241 Q121.922 551.241 118.751 546.658 Q115.58 542.051 115.58 533.325 Q115.58 525.13 119.468 520.269 Q123.357 515.385 129.908 515.385 Q131.667 515.385 133.45 515.732 Q135.255 516.079 137.2 516.774 Z\" fill=\"#000000\" fill-rule=\"evenodd\" fill-opacity=\"1\" /><path clip-path=\"url(#clip150)\" d=\"M 0 0 M127.593 202.226 Q124.26 202.226 122.339 204.009 Q120.441 205.791 120.441 208.916 Q120.441 212.041 122.339 213.823 Q124.26 215.606 127.593 215.606 Q130.927 215.606 132.848 213.823 Q134.769 212.018 134.769 208.916 Q134.769 205.791 132.848 204.009 Q130.95 202.226 127.593 202.226 M122.918 200.235 Q119.908 199.495 118.218 197.435 Q116.552 195.374 116.552 192.411 Q116.552 188.268 119.492 185.861 Q122.455 183.453 127.593 183.453 Q132.755 183.453 135.695 185.861 Q138.635 188.268 138.635 192.411 Q138.635 195.374 136.945 197.435 Q135.279 199.495 132.292 200.235 Q135.672 201.022 137.547 203.314 Q139.445 205.606 139.445 208.916 Q139.445 213.939 136.367 216.624 Q133.311 219.309 127.593 219.309 Q121.876 219.309 118.797 216.624 Q115.742 213.939 115.742 208.916 Q115.742 205.606 117.64 203.314 Q119.538 201.022 122.918 200.235 M121.205 192.851 Q121.205 195.536 122.871 197.041 Q124.561 198.546 127.593 198.546 Q130.603 198.546 132.292 197.041 Q134.005 195.536 134.005 192.851 Q134.005 190.166 132.292 188.661 Q130.603 187.157 127.593 187.157 Q124.561 187.157 122.871 188.661 Q121.205 190.166 121.205 192.851 Z\" fill=\"#000000\" fill-rule=\"evenodd\" fill-opacity=\"1\" /><path clip-path=\"url(#clip150)\" d=\"M 0 0 M14.479 779.995 L14.479 774.106 L43.7294 774.106 L28.3562 756.633 L28.3562 749.153 L45.0344 768.059 L64.0042 748.357 L64.0042 755.996 L46.5939 774.106 L64.0042 774.106 L64.0042 779.995 L14.479 779.995 Z\" fill=\"#000000\" fill-rule=\"evenodd\" fill-opacity=\"1\" /><path clip-path=\"url(#clip150)\" d=\"M 0 0 M16.4842 731.615 L16.4842 726.204 L70.0516 742.755 L70.0516 748.166 L16.4842 731.615 Z\" fill=\"#000000\" fill-rule=\"evenodd\" fill-opacity=\"1\" /><path clip-path=\"url(#clip150)\" d=\"M 0 0 M42.4881 690.429 L64.0042 690.429 L64.0042 696.286 L42.679 696.286 Q37.6183 696.286 35.1038 698.259 Q32.5894 700.232 32.5894 704.179 Q32.5894 708.922 35.6131 711.659 Q38.6368 714.396 43.8567 714.396 L64.0042 714.396 L64.0042 720.284 L28.3562 720.284 L28.3562 714.396 L33.8944 714.396 Q30.6797 712.295 29.0883 709.463 Q27.4968 706.598 27.4968 702.874 Q27.4968 696.731 31.3163 693.58 Q35.1038 690.429 42.4881 690.429 Z\" fill=\"#000000\" fill-rule=\"evenodd\" fill-opacity=\"1\" /><polyline clip-path=\"url(#clip152)\" style=\"stroke:#009af9; stroke-width:4; stroke-opacity:1; fill:none\" points=\"\n",
       "  237.067,1384.24 647.881,1193.75 1058.69,962.096 1469.51,697.344 1880.32,404.289 2291.13,86.1857 \n",
       "  \"/>\n",
       "<path clip-path=\"url(#clip150)\" d=\"\n",
       "M1985.83 214.069 L2280.18 214.069 L2280.18 93.1086 L1985.83 93.1086  Z\n",
       "  \" fill=\"#ffffff\" fill-rule=\"evenodd\" fill-opacity=\"1\"/>\n",
       "<polyline clip-path=\"url(#clip150)\" style=\"stroke:#000000; stroke-width:4; stroke-opacity:1; fill:none\" points=\"\n",
       "  1985.83,214.069 2280.18,214.069 2280.18,93.1086 1985.83,93.1086 1985.83,214.069 \n",
       "  \"/>\n",
       "<polyline clip-path=\"url(#clip150)\" style=\"stroke:#009af9; stroke-width:4; stroke-opacity:1; fill:none\" points=\"\n",
       "  2010.02,153.589 2155.17,153.589 \n",
       "  \"/>\n",
       "<path clip-path=\"url(#clip150)\" d=\"M 0 0 M2193.21 173.276 Q2191.4 177.906 2189.69 179.318 Q2187.97 180.73 2185.1 180.73 L2181.7 180.73 L2181.7 177.165 L2184.2 177.165 Q2185.96 177.165 2186.93 176.332 Q2187.91 175.498 2189.09 172.396 L2189.85 170.452 L2179.36 144.943 L2183.88 144.943 L2191.98 165.221 L2200.08 144.943 L2204.6 144.943 L2193.21 173.276 Z\" fill=\"#000000\" fill-rule=\"evenodd\" fill-opacity=\"1\" /><path clip-path=\"url(#clip150)\" d=\"M 0 0 M2211.89 166.933 L2219.53 166.933 L2219.53 140.568 L2211.22 142.235 L2211.22 137.975 L2219.48 136.309 L2224.16 136.309 L2224.16 166.933 L2231.79 166.933 L2231.79 170.869 L2211.89 170.869 L2211.89 166.933 Z\" fill=\"#000000\" fill-rule=\"evenodd\" fill-opacity=\"1\" /></svg>\n"
      ]
     },
     "execution_count": 64,
     "metadata": {},
     "output_type": "execute_result"
    }
   ],
   "source": [
    "svec = range(0.1, 0.5; length=6)\n",
    "kbar_s = []\n",
    "for s in svec\n",
    "    p0 = copy(p)\n",
    "    p0[:s] = s\n",
    "    kbar = steady_state(p0, 1.0)\n",
    "    push!(kbar_s, kbar)\n",
    "    \n",
    "end\n",
    "plot(svec, kbar_s, xlabel=\"s\", ylabel=\"k/n\")"
   ]
  },
  {
   "cell_type": "markdown",
   "id": "a3b7934d",
   "metadata": {},
   "source": [
    "__Study the stability of $f$ around $\\overline{k}$ (hint: compute the right derivative). Which factors affect the speed of convergence towards the steady-state?__"
   ]
  },
  {
   "cell_type": "markdown",
   "id": "f0c8ae04-fda9-4a26-a3a5-11e2586646af",
   "metadata": {},
   "source": [
    "You study the sequence $k_t = f(k_{t-1})$ around steady state. Define $\\lambda=f^{\\prime}(\\overline{k}$).\n",
    "Convergence, is geometric with rate $\\lambda$. In particular, it converges if $|\\lambda|<1$\n"
   ]
  },
  {
   "cell_type": "code",
   "execution_count": 67,
   "id": "59468048-68ba-43bf-94ce-179d18cfaa86",
   "metadata": {},
   "outputs": [
    {
     "data": {
      "text/plain": [
       "f (generic function with 2 methods)"
      ]
     },
     "execution_count": 67,
     "metadata": {},
     "output_type": "execute_result"
    }
   ],
   "source": [
    "# we can differentiate automatically functions, whose arguments derive from Number\n",
    "\n",
    "function f(k::Number  ; p::Dict{Symbol, Float64})\n",
    "    y = p[:A]*k^(p[:α])\n",
    "    i = p[:s]*y\n",
    "    K = ((1-p[:δ])*k + i)/p[:g]\n",
    "    return K\n",
    "end"
   ]
  },
  {
   "cell_type": "code",
   "execution_count": 70,
   "id": "7bdd3e0e-1991-4123-b26a-459fb4ac78f4",
   "metadata": {},
   "outputs": [],
   "source": [
    "using ForwardDiff"
   ]
  },
  {
   "cell_type": "code",
   "execution_count": 75,
   "id": "9a900069-acb5-4a48-8f7e-6ba2d1c1d981",
   "metadata": {},
   "outputs": [
    {
     "data": {
      "text/plain": [
       "Dual{Nothing}(3.8644983300020592,0.9135997509877781)"
      ]
     },
     "execution_count": 75,
     "metadata": {},
     "output_type": "execute_result"
    }
   ],
   "source": [
    "# when arguements derive from Number\n",
    "# they can be replaced with Dual numbers\n",
    "# which allows for automatic differentiation\n",
    "k_dual = ForwardDiff.Dual(4., 1)\n",
    "f(k_dual; p=p)"
   ]
  },
  {
   "cell_type": "code",
   "execution_count": 83,
   "id": "a782b905-a863-42cb-b9af-aec96fcdb6a5",
   "metadata": {},
   "outputs": [
    {
     "data": {
      "text/plain": [
       "0.9103444348121912"
      ]
     },
     "execution_count": 83,
     "metadata": {},
     "output_type": "execute_result"
    }
   ],
   "source": [
    "ForwardDiff.derivative(u->f(u;p=p), 5.0)"
   ]
  },
  {
   "cell_type": "code",
   "execution_count": 84,
   "id": "32cec80b-ac74-4b5a-b763-3e48a853aa8a",
   "metadata": {},
   "outputs": [
    {
     "data": {
      "text/plain": [
       "λ (generic function with 2 methods)"
      ]
     },
     "execution_count": 84,
     "metadata": {},
     "output_type": "execute_result"
    }
   ],
   "source": [
    "# stability of the steady-state\n",
    "λ(p::Dict) = ForwardDiff.derivative(u->f(u;p=p), steady_state(p, 1.0))"
   ]
  },
  {
   "cell_type": "code",
   "execution_count": 85,
   "id": "96dae73d-8ec9-4760-8566-efe2c89be029",
   "metadata": {},
   "outputs": [
    {
     "data": {
      "text/plain": [
       "0.923767723171523"
      ]
     },
     "execution_count": 85,
     "metadata": {},
     "output_type": "execute_result"
    }
   ],
   "source": [
    "λ(p)"
   ]
  },
  {
   "cell_type": "code",
   "execution_count": 88,
   "id": "cd413086-e2cc-4178-a1d8-eed0775c6b2e",
   "metadata": {},
   "outputs": [
    {
     "data": {
      "image/svg+xml": [
       "<?xml version=\"1.0\" encoding=\"utf-8\"?>\n",
       "<svg xmlns=\"http://www.w3.org/2000/svg\" xmlns:xlink=\"http://www.w3.org/1999/xlink\" width=\"600\" height=\"400\" viewBox=\"0 0 2400 1600\">\n",
       "<defs>\n",
       "  <clipPath id=\"clip270\">\n",
       "    <rect x=\"0\" y=\"0\" width=\"2400\" height=\"1600\"/>\n",
       "  </clipPath>\n",
       "</defs>\n",
       "<path clip-path=\"url(#clip270)\" d=\"\n",
       "M0 1600 L2400 1600 L2400 0 L0 0  Z\n",
       "  \" fill=\"#ffffff\" fill-rule=\"evenodd\" fill-opacity=\"1\"/>\n",
       "<defs>\n",
       "  <clipPath id=\"clip271\">\n",
       "    <rect x=\"480\" y=\"0\" width=\"1681\" height=\"1600\"/>\n",
       "  </clipPath>\n",
       "</defs>\n",
       "<path clip-path=\"url(#clip270)\" d=\"\n",
       "M279.704 1423.18 L2352.76 1423.18 L2352.76 47.2441 L279.704 47.2441  Z\n",
       "  \" fill=\"#ffffff\" fill-rule=\"evenodd\" fill-opacity=\"1\"/>\n",
       "<defs>\n",
       "  <clipPath id=\"clip272\">\n",
       "    <rect x=\"279\" y=\"47\" width=\"2074\" height=\"1377\"/>\n",
       "  </clipPath>\n",
       "</defs>\n",
       "<polyline clip-path=\"url(#clip272)\" style=\"stroke:#000000; stroke-width:2; stroke-opacity:0.1; fill:none\" points=\"\n",
       "  338.375,1423.18 338.375,47.2441 \n",
       "  \"/>\n",
       "<polyline clip-path=\"url(#clip272)\" style=\"stroke:#000000; stroke-width:2; stroke-opacity:0.1; fill:none\" points=\"\n",
       "  827.303,1423.18 827.303,47.2441 \n",
       "  \"/>\n",
       "<polyline clip-path=\"url(#clip272)\" style=\"stroke:#000000; stroke-width:2; stroke-opacity:0.1; fill:none\" points=\"\n",
       "  1316.23,1423.18 1316.23,47.2441 \n",
       "  \"/>\n",
       "<polyline clip-path=\"url(#clip272)\" style=\"stroke:#000000; stroke-width:2; stroke-opacity:0.1; fill:none\" points=\"\n",
       "  1805.16,1423.18 1805.16,47.2441 \n",
       "  \"/>\n",
       "<polyline clip-path=\"url(#clip272)\" style=\"stroke:#000000; stroke-width:2; stroke-opacity:0.1; fill:none\" points=\"\n",
       "  2294.08,1423.18 2294.08,47.2441 \n",
       "  \"/>\n",
       "<polyline clip-path=\"url(#clip270)\" style=\"stroke:#000000; stroke-width:4; stroke-opacity:1; fill:none\" points=\"\n",
       "  279.704,1423.18 2352.76,1423.18 \n",
       "  \"/>\n",
       "<polyline clip-path=\"url(#clip270)\" style=\"stroke:#000000; stroke-width:4; stroke-opacity:1; fill:none\" points=\"\n",
       "  338.375,1423.18 338.375,1406.67 \n",
       "  \"/>\n",
       "<polyline clip-path=\"url(#clip270)\" style=\"stroke:#000000; stroke-width:4; stroke-opacity:1; fill:none\" points=\"\n",
       "  827.303,1423.18 827.303,1406.67 \n",
       "  \"/>\n",
       "<polyline clip-path=\"url(#clip270)\" style=\"stroke:#000000; stroke-width:4; stroke-opacity:1; fill:none\" points=\"\n",
       "  1316.23,1423.18 1316.23,1406.67 \n",
       "  \"/>\n",
       "<polyline clip-path=\"url(#clip270)\" style=\"stroke:#000000; stroke-width:4; stroke-opacity:1; fill:none\" points=\"\n",
       "  1805.16,1423.18 1805.16,1406.67 \n",
       "  \"/>\n",
       "<polyline clip-path=\"url(#clip270)\" style=\"stroke:#000000; stroke-width:4; stroke-opacity:1; fill:none\" points=\"\n",
       "  2294.08,1423.18 2294.08,1406.67 \n",
       "  \"/>\n",
       "<path clip-path=\"url(#clip270)\" d=\"M 0 0 M300.679 1452.37 Q297.068 1452.37 295.239 1455.94 Q293.433 1459.48 293.433 1466.61 Q293.433 1473.71 295.239 1477.28 Q297.068 1480.82 300.679 1480.82 Q304.313 1480.82 306.118 1477.28 Q307.947 1473.71 307.947 1466.61 Q307.947 1459.48 306.118 1455.94 Q304.313 1452.37 300.679 1452.37 M300.679 1448.67 Q306.489 1448.67 309.544 1453.27 Q312.623 1457.86 312.623 1466.61 Q312.623 1475.33 309.544 1479.94 Q306.489 1484.52 300.679 1484.52 Q294.868 1484.52 291.79 1479.94 Q288.734 1475.33 288.734 1466.61 Q288.734 1457.86 291.79 1453.27 Q294.868 1448.67 300.679 1448.67 Z\" fill=\"#000000\" fill-rule=\"evenodd\" fill-opacity=\"1\" /><path clip-path=\"url(#clip270)\" d=\"M 0 0 M320.841 1477.97 L325.725 1477.97 L325.725 1483.85 L320.841 1483.85 L320.841 1477.97 Z\" fill=\"#000000\" fill-rule=\"evenodd\" fill-opacity=\"1\" /><path clip-path=\"url(#clip270)\" d=\"M 0 0 M339.938 1479.92 L356.257 1479.92 L356.257 1483.85 L334.313 1483.85 L334.313 1479.92 Q336.975 1477.16 341.558 1472.53 Q346.165 1467.88 347.345 1466.54 Q349.59 1464.01 350.47 1462.28 Q351.373 1460.52 351.373 1458.83 Q351.373 1456.07 349.428 1454.34 Q347.507 1452.6 344.405 1452.6 Q342.206 1452.6 339.752 1453.37 Q337.322 1454.13 334.544 1455.68 L334.544 1450.96 Q337.368 1449.82 339.822 1449.25 Q342.276 1448.67 344.313 1448.67 Q349.683 1448.67 352.877 1451.35 Q356.072 1454.04 356.072 1458.53 Q356.072 1460.66 355.262 1462.58 Q354.475 1464.48 352.368 1467.07 Q351.789 1467.74 348.688 1470.96 Q345.586 1474.15 339.938 1479.92 Z\" fill=\"#000000\" fill-rule=\"evenodd\" fill-opacity=\"1\" /><path clip-path=\"url(#clip270)\" d=\"M 0 0 M376.072 1452.37 Q372.461 1452.37 370.632 1455.94 Q368.826 1459.48 368.826 1466.61 Q368.826 1473.71 370.632 1477.28 Q372.461 1480.82 376.072 1480.82 Q379.706 1480.82 381.512 1477.28 Q383.34 1473.71 383.34 1466.61 Q383.34 1459.48 381.512 1455.94 Q379.706 1452.37 376.072 1452.37 M376.072 1448.67 Q381.882 1448.67 384.937 1453.27 Q388.016 1457.86 388.016 1466.61 Q388.016 1475.33 384.937 1479.94 Q381.882 1484.52 376.072 1484.52 Q370.262 1484.52 367.183 1479.94 Q364.127 1475.33 364.127 1466.61 Q364.127 1457.86 367.183 1453.27 Q370.262 1448.67 376.072 1448.67 Z\" fill=\"#000000\" fill-rule=\"evenodd\" fill-opacity=\"1\" /><path clip-path=\"url(#clip270)\" d=\"M 0 0 M790.104 1452.37 Q786.493 1452.37 784.664 1455.94 Q782.858 1459.48 782.858 1466.61 Q782.858 1473.71 784.664 1477.28 Q786.493 1480.82 790.104 1480.82 Q793.738 1480.82 795.543 1477.28 Q797.372 1473.71 797.372 1466.61 Q797.372 1459.48 795.543 1455.94 Q793.738 1452.37 790.104 1452.37 M790.104 1448.67 Q795.914 1448.67 798.969 1453.27 Q802.048 1457.86 802.048 1466.61 Q802.048 1475.33 798.969 1479.94 Q795.914 1484.52 790.104 1484.52 Q784.294 1484.52 781.215 1479.94 Q778.159 1475.33 778.159 1466.61 Q778.159 1457.86 781.215 1453.27 Q784.294 1448.67 790.104 1448.67 Z\" fill=\"#000000\" fill-rule=\"evenodd\" fill-opacity=\"1\" /><path clip-path=\"url(#clip270)\" d=\"M 0 0 M810.266 1477.97 L815.15 1477.97 L815.15 1483.85 L810.266 1483.85 L810.266 1477.97 Z\" fill=\"#000000\" fill-rule=\"evenodd\" fill-opacity=\"1\" /><path clip-path=\"url(#clip270)\" d=\"M 0 0 M829.363 1479.92 L845.682 1479.92 L845.682 1483.85 L823.738 1483.85 L823.738 1479.92 Q826.4 1477.16 830.983 1472.53 Q835.59 1467.88 836.77 1466.54 Q839.015 1464.01 839.895 1462.28 Q840.798 1460.52 840.798 1458.83 Q840.798 1456.07 838.853 1454.34 Q836.932 1452.6 833.83 1452.6 Q831.631 1452.6 829.178 1453.37 Q826.747 1454.13 823.969 1455.68 L823.969 1450.96 Q826.793 1449.82 829.247 1449.25 Q831.701 1448.67 833.738 1448.67 Q839.108 1448.67 842.302 1451.35 Q845.497 1454.04 845.497 1458.53 Q845.497 1460.66 844.687 1462.58 Q843.9 1464.48 841.793 1467.07 Q841.215 1467.74 838.113 1470.96 Q835.011 1474.15 829.363 1479.92 Z\" fill=\"#000000\" fill-rule=\"evenodd\" fill-opacity=\"1\" /><path clip-path=\"url(#clip270)\" d=\"M 0 0 M855.543 1449.29 L873.9 1449.29 L873.9 1453.23 L859.826 1453.23 L859.826 1461.7 Q860.844 1461.35 861.863 1461.19 Q862.881 1461 863.9 1461 Q869.687 1461 873.066 1464.18 Q876.446 1467.35 876.446 1472.76 Q876.446 1478.34 872.974 1481.44 Q869.501 1484.52 863.182 1484.52 Q861.006 1484.52 858.738 1484.15 Q856.492 1483.78 854.085 1483.04 L854.085 1478.34 Q856.168 1479.48 858.39 1480.03 Q860.613 1480.59 863.089 1480.59 Q867.094 1480.59 869.432 1478.48 Q871.77 1476.38 871.77 1472.76 Q871.77 1469.15 869.432 1467.05 Q867.094 1464.94 863.089 1464.94 Q861.214 1464.94 859.339 1465.36 Q857.488 1465.77 855.543 1466.65 L855.543 1449.29 Z\" fill=\"#000000\" fill-rule=\"evenodd\" fill-opacity=\"1\" /><path clip-path=\"url(#clip270)\" d=\"M 0 0 M1278.53 1452.37 Q1274.92 1452.37 1273.09 1455.94 Q1271.29 1459.48 1271.29 1466.61 Q1271.29 1473.71 1273.09 1477.28 Q1274.92 1480.82 1278.53 1480.82 Q1282.17 1480.82 1283.97 1477.28 Q1285.8 1473.71 1285.8 1466.61 Q1285.8 1459.48 1283.97 1455.94 Q1282.17 1452.37 1278.53 1452.37 M1278.53 1448.67 Q1284.34 1448.67 1287.4 1453.27 Q1290.48 1457.86 1290.48 1466.61 Q1290.48 1475.33 1287.4 1479.94 Q1284.34 1484.52 1278.53 1484.52 Q1272.72 1484.52 1269.64 1479.94 Q1266.59 1475.33 1266.59 1466.61 Q1266.59 1457.86 1269.64 1453.27 Q1272.72 1448.67 1278.53 1448.67 Z\" fill=\"#000000\" fill-rule=\"evenodd\" fill-opacity=\"1\" /><path clip-path=\"url(#clip270)\" d=\"M 0 0 M1298.7 1477.97 L1303.58 1477.97 L1303.58 1483.85 L1298.7 1483.85 L1298.7 1477.97 Z\" fill=\"#000000\" fill-rule=\"evenodd\" fill-opacity=\"1\" /><path clip-path=\"url(#clip270)\" d=\"M 0 0 M1327.93 1465.22 Q1331.29 1465.94 1333.16 1468.2 Q1335.06 1470.47 1335.06 1473.81 Q1335.06 1478.92 1331.54 1481.72 Q1328.02 1484.52 1321.54 1484.52 Q1319.37 1484.52 1317.05 1484.08 Q1314.76 1483.67 1312.31 1482.81 L1312.31 1478.3 Q1314.25 1479.43 1316.57 1480.01 Q1318.88 1480.59 1321.4 1480.59 Q1325.8 1480.59 1328.09 1478.85 Q1330.41 1477.12 1330.41 1473.81 Q1330.41 1470.75 1328.26 1469.04 Q1326.13 1467.3 1322.31 1467.3 L1318.28 1467.3 L1318.28 1463.46 L1322.49 1463.46 Q1325.94 1463.46 1327.77 1462.09 Q1329.6 1460.7 1329.6 1458.11 Q1329.6 1455.45 1327.7 1454.04 Q1325.82 1452.6 1322.31 1452.6 Q1320.38 1452.6 1318.19 1453.02 Q1315.99 1453.44 1313.35 1454.31 L1313.35 1450.15 Q1316.01 1449.41 1318.32 1449.04 Q1320.66 1448.67 1322.72 1448.67 Q1328.05 1448.67 1331.15 1451.1 Q1334.25 1453.5 1334.25 1457.63 Q1334.25 1460.5 1332.61 1462.49 Q1330.96 1464.45 1327.93 1465.22 Z\" fill=\"#000000\" fill-rule=\"evenodd\" fill-opacity=\"1\" /><path clip-path=\"url(#clip270)\" d=\"M 0 0 M1353.93 1452.37 Q1350.32 1452.37 1348.49 1455.94 Q1346.68 1459.48 1346.68 1466.61 Q1346.68 1473.71 1348.49 1477.28 Q1350.32 1480.82 1353.93 1480.82 Q1357.56 1480.82 1359.37 1477.28 Q1361.19 1473.71 1361.19 1466.61 Q1361.19 1459.48 1359.37 1455.94 Q1357.56 1452.37 1353.93 1452.37 M1353.93 1448.67 Q1359.74 1448.67 1362.79 1453.27 Q1365.87 1457.86 1365.87 1466.61 Q1365.87 1475.33 1362.79 1479.94 Q1359.74 1484.52 1353.93 1484.52 Q1348.12 1484.52 1345.04 1479.94 Q1341.98 1475.33 1341.98 1466.61 Q1341.98 1457.86 1345.04 1453.27 Q1348.12 1448.67 1353.93 1448.67 Z\" fill=\"#000000\" fill-rule=\"evenodd\" fill-opacity=\"1\" /><path clip-path=\"url(#clip270)\" d=\"M 0 0 M1767.96 1452.37 Q1764.35 1452.37 1762.52 1455.94 Q1760.71 1459.48 1760.71 1466.61 Q1760.71 1473.71 1762.52 1477.28 Q1764.35 1480.82 1767.96 1480.82 Q1771.59 1480.82 1773.4 1477.28 Q1775.23 1473.71 1775.23 1466.61 Q1775.23 1459.48 1773.4 1455.94 Q1771.59 1452.37 1767.96 1452.37 M1767.96 1448.67 Q1773.77 1448.67 1776.82 1453.27 Q1779.9 1457.86 1779.9 1466.61 Q1779.9 1475.33 1776.82 1479.94 Q1773.77 1484.52 1767.96 1484.52 Q1762.15 1484.52 1759.07 1479.94 Q1756.01 1475.33 1756.01 1466.61 Q1756.01 1457.86 1759.07 1453.27 Q1762.15 1448.67 1767.96 1448.67 Z\" fill=\"#000000\" fill-rule=\"evenodd\" fill-opacity=\"1\" /><path clip-path=\"url(#clip270)\" d=\"M 0 0 M1788.12 1477.97 L1793 1477.97 L1793 1483.85 L1788.12 1483.85 L1788.12 1477.97 Z\" fill=\"#000000\" fill-rule=\"evenodd\" fill-opacity=\"1\" /><path clip-path=\"url(#clip270)\" d=\"M 0 0 M1817.36 1465.22 Q1820.71 1465.94 1822.59 1468.2 Q1824.49 1470.47 1824.49 1473.81 Q1824.49 1478.92 1820.97 1481.72 Q1817.45 1484.52 1810.97 1484.52 Q1808.79 1484.52 1806.48 1484.08 Q1804.19 1483.67 1801.73 1482.81 L1801.73 1478.3 Q1803.68 1479.43 1805.99 1480.01 Q1808.31 1480.59 1810.83 1480.59 Q1815.23 1480.59 1817.52 1478.85 Q1819.83 1477.12 1819.83 1473.81 Q1819.83 1470.75 1817.68 1469.04 Q1815.55 1467.3 1811.73 1467.3 L1807.7 1467.3 L1807.7 1463.46 L1811.92 1463.46 Q1815.37 1463.46 1817.19 1462.09 Q1819.02 1460.7 1819.02 1458.11 Q1819.02 1455.45 1817.12 1454.04 Q1815.25 1452.6 1811.73 1452.6 Q1809.81 1452.6 1807.61 1453.02 Q1805.41 1453.44 1802.77 1454.31 L1802.77 1450.15 Q1805.44 1449.41 1807.75 1449.04 Q1810.09 1448.67 1812.15 1448.67 Q1817.47 1448.67 1820.57 1451.1 Q1823.68 1453.5 1823.68 1457.63 Q1823.68 1460.5 1822.03 1462.49 Q1820.39 1464.45 1817.36 1465.22 Z\" fill=\"#000000\" fill-rule=\"evenodd\" fill-opacity=\"1\" /><path clip-path=\"url(#clip270)\" d=\"M 0 0 M1833.4 1449.29 L1851.75 1449.29 L1851.75 1453.23 L1837.68 1453.23 L1837.68 1461.7 Q1838.7 1461.35 1839.72 1461.19 Q1840.74 1461 1841.75 1461 Q1847.54 1461 1850.92 1464.18 Q1854.3 1467.35 1854.3 1472.76 Q1854.3 1478.34 1850.83 1481.44 Q1847.36 1484.52 1841.04 1484.52 Q1838.86 1484.52 1836.59 1484.15 Q1834.35 1483.78 1831.94 1483.04 L1831.94 1478.34 Q1834.02 1479.48 1836.25 1480.03 Q1838.47 1480.59 1840.94 1480.59 Q1844.95 1480.59 1847.29 1478.48 Q1849.62 1476.38 1849.62 1472.76 Q1849.62 1469.15 1847.29 1467.05 Q1844.95 1464.94 1840.94 1464.94 Q1839.07 1464.94 1837.19 1465.36 Q1835.34 1465.77 1833.4 1466.65 L1833.4 1449.29 Z\" fill=\"#000000\" fill-rule=\"evenodd\" fill-opacity=\"1\" /><path clip-path=\"url(#clip270)\" d=\"M 0 0 M2256.39 1452.37 Q2252.78 1452.37 2250.95 1455.94 Q2249.14 1459.48 2249.14 1466.61 Q2249.14 1473.71 2250.95 1477.28 Q2252.78 1480.82 2256.39 1480.82 Q2260.02 1480.82 2261.83 1477.28 Q2263.66 1473.71 2263.66 1466.61 Q2263.66 1459.48 2261.83 1455.94 Q2260.02 1452.37 2256.39 1452.37 M2256.39 1448.67 Q2262.2 1448.67 2265.25 1453.27 Q2268.33 1457.86 2268.33 1466.61 Q2268.33 1475.33 2265.25 1479.94 Q2262.2 1484.52 2256.39 1484.52 Q2250.58 1484.52 2247.5 1479.94 Q2244.44 1475.33 2244.44 1466.61 Q2244.44 1457.86 2247.5 1453.27 Q2250.58 1448.67 2256.39 1448.67 Z\" fill=\"#000000\" fill-rule=\"evenodd\" fill-opacity=\"1\" /><path clip-path=\"url(#clip270)\" d=\"M 0 0 M2276.55 1477.97 L2281.43 1477.97 L2281.43 1483.85 L2276.55 1483.85 L2276.55 1477.97 Z\" fill=\"#000000\" fill-rule=\"evenodd\" fill-opacity=\"1\" /><path clip-path=\"url(#clip270)\" d=\"M 0 0 M2304.47 1453.37 L2292.66 1471.81 L2304.47 1471.81 L2304.47 1453.37 M2303.24 1449.29 L2309.12 1449.29 L2309.12 1471.81 L2314.05 1471.81 L2314.05 1475.7 L2309.12 1475.7 L2309.12 1483.85 L2304.47 1483.85 L2304.47 1475.7 L2288.86 1475.7 L2288.86 1471.19 L2303.24 1449.29 Z\" fill=\"#000000\" fill-rule=\"evenodd\" fill-opacity=\"1\" /><path clip-path=\"url(#clip270)\" d=\"M 0 0 M2331.78 1452.37 Q2328.17 1452.37 2326.34 1455.94 Q2324.54 1459.48 2324.54 1466.61 Q2324.54 1473.71 2326.34 1477.28 Q2328.17 1480.82 2331.78 1480.82 Q2335.42 1480.82 2337.22 1477.28 Q2339.05 1473.71 2339.05 1466.61 Q2339.05 1459.48 2337.22 1455.94 Q2335.42 1452.37 2331.78 1452.37 M2331.78 1448.67 Q2337.59 1448.67 2340.65 1453.27 Q2343.73 1457.86 2343.73 1466.61 Q2343.73 1475.33 2340.65 1479.94 Q2337.59 1484.52 2331.78 1484.52 Q2325.97 1484.52 2322.89 1479.94 Q2319.84 1475.33 2319.84 1466.61 Q2319.84 1457.86 2322.89 1453.27 Q2325.97 1448.67 2331.78 1448.67 Z\" fill=\"#000000\" fill-rule=\"evenodd\" fill-opacity=\"1\" /><path clip-path=\"url(#clip270)\" d=\"M 0 0 M1321.43 1551.46 L1320.03 1544.11 Q1318.6 1536.57 1312.94 1536.57 Q1308.67 1536.57 1306.73 1540.07 Q1304.28 1544.46 1304.28 1550.25 Q1304.28 1557.25 1306.67 1560.6 Q1309.08 1564 1312.94 1564 Q1317.2 1564 1319.49 1557.22 L1321.43 1551.46 M1324.71 1541.72 L1327.86 1532.4 L1333.08 1532.4 L1326.56 1551.72 L1327.83 1558.69 Q1328.12 1560.25 1329.23 1561.55 Q1330.54 1563.08 1331.56 1563.08 L1334.36 1563.08 L1334.36 1568.04 L1330.86 1568.04 Q1327.86 1568.04 1325.19 1565.37 Q1323.88 1564.03 1323.34 1561.23 Q1321.88 1564.77 1318.89 1567.53 Q1317.49 1568.84 1312.94 1568.84 Q1305.46 1568.84 1301.83 1564 Q1298.1 1559 1298.1 1550.25 Q1298.1 1540.89 1302.15 1536.5 Q1306.63 1531.6 1312.94 1531.6 Q1322.83 1531.6 1324.71 1541.72 Z\" fill=\"#000000\" fill-rule=\"evenodd\" fill-opacity=\"1\" /><polyline clip-path=\"url(#clip272)\" style=\"stroke:#000000; stroke-width:2; stroke-opacity:0.1; fill:none\" points=\"\n",
       "  279.704,1257.58 2352.76,1257.58 \n",
       "  \"/>\n",
       "<polyline clip-path=\"url(#clip272)\" style=\"stroke:#000000; stroke-width:2; stroke-opacity:0.1; fill:none\" points=\"\n",
       "  279.704,959.915 2352.76,959.915 \n",
       "  \"/>\n",
       "<polyline clip-path=\"url(#clip272)\" style=\"stroke:#000000; stroke-width:2; stroke-opacity:0.1; fill:none\" points=\"\n",
       "  279.704,662.253 2352.76,662.253 \n",
       "  \"/>\n",
       "<polyline clip-path=\"url(#clip272)\" style=\"stroke:#000000; stroke-width:2; stroke-opacity:0.1; fill:none\" points=\"\n",
       "  279.704,364.592 2352.76,364.592 \n",
       "  \"/>\n",
       "<polyline clip-path=\"url(#clip272)\" style=\"stroke:#000000; stroke-width:2; stroke-opacity:0.1; fill:none\" points=\"\n",
       "  279.704,66.9311 2352.76,66.9311 \n",
       "  \"/>\n",
       "<polyline clip-path=\"url(#clip270)\" style=\"stroke:#000000; stroke-width:4; stroke-opacity:1; fill:none\" points=\"\n",
       "  279.704,1423.18 279.704,47.2441 \n",
       "  \"/>\n",
       "<polyline clip-path=\"url(#clip270)\" style=\"stroke:#000000; stroke-width:4; stroke-opacity:1; fill:none\" points=\"\n",
       "  279.704,1257.58 304.581,1257.58 \n",
       "  \"/>\n",
       "<polyline clip-path=\"url(#clip270)\" style=\"stroke:#000000; stroke-width:4; stroke-opacity:1; fill:none\" points=\"\n",
       "  279.704,959.915 304.581,959.915 \n",
       "  \"/>\n",
       "<polyline clip-path=\"url(#clip270)\" style=\"stroke:#000000; stroke-width:4; stroke-opacity:1; fill:none\" points=\"\n",
       "  279.704,662.253 304.581,662.253 \n",
       "  \"/>\n",
       "<polyline clip-path=\"url(#clip270)\" style=\"stroke:#000000; stroke-width:4; stroke-opacity:1; fill:none\" points=\"\n",
       "  279.704,364.592 304.581,364.592 \n",
       "  \"/>\n",
       "<polyline clip-path=\"url(#clip270)\" style=\"stroke:#000000; stroke-width:4; stroke-opacity:1; fill:none\" points=\"\n",
       "  279.704,66.9311 304.581,66.9311 \n",
       "  \"/>\n",
       "<path clip-path=\"url(#clip270)\" d=\"M 0 0 M127.2 1243.37 Q123.589 1243.37 121.76 1246.94 Q119.955 1250.48 119.955 1257.61 Q119.955 1264.72 121.76 1268.28 Q123.589 1271.82 127.2 1271.82 Q130.834 1271.82 132.64 1268.28 Q134.468 1264.72 134.468 1257.61 Q134.468 1250.48 132.64 1246.94 Q130.834 1243.37 127.2 1243.37 M127.2 1239.67 Q133.01 1239.67 136.066 1244.28 Q139.144 1248.86 139.144 1257.61 Q139.144 1266.34 136.066 1270.94 Q133.01 1275.53 127.2 1275.53 Q121.39 1275.53 118.311 1270.94 Q115.256 1266.34 115.256 1257.61 Q115.256 1248.86 118.311 1244.28 Q121.39 1239.67 127.2 1239.67 Z\" fill=\"#000000\" fill-rule=\"evenodd\" fill-opacity=\"1\" /><path clip-path=\"url(#clip270)\" d=\"M 0 0 M147.362 1268.98 L152.246 1268.98 L152.246 1274.86 L147.362 1274.86 L147.362 1268.98 Z\" fill=\"#000000\" fill-rule=\"evenodd\" fill-opacity=\"1\" /><path clip-path=\"url(#clip270)\" d=\"M 0 0 M162.57 1274.14 L162.57 1269.88 Q164.329 1270.71 166.135 1271.15 Q167.94 1271.59 169.677 1271.59 Q174.306 1271.59 176.737 1268.49 Q179.19 1265.37 179.538 1259.02 Q178.195 1261.01 176.135 1262.08 Q174.075 1263.14 171.575 1263.14 Q166.39 1263.14 163.357 1260.02 Q160.348 1256.87 160.348 1251.43 Q160.348 1246.11 163.496 1242.89 Q166.644 1239.67 171.876 1239.67 Q177.871 1239.67 181.019 1244.28 Q184.19 1248.86 184.19 1257.61 Q184.19 1265.78 180.301 1270.67 Q176.436 1275.53 169.885 1275.53 Q168.126 1275.53 166.32 1275.18 Q164.515 1274.83 162.57 1274.14 M171.876 1259.49 Q175.024 1259.49 176.852 1257.33 Q178.704 1255.18 178.704 1251.43 Q178.704 1247.7 176.852 1245.55 Q175.024 1243.37 171.876 1243.37 Q168.727 1243.37 166.876 1245.55 Q165.047 1247.7 165.047 1251.43 Q165.047 1255.18 166.876 1257.33 Q168.727 1259.49 171.876 1259.49 Z\" fill=\"#000000\" fill-rule=\"evenodd\" fill-opacity=\"1\" /><path clip-path=\"url(#clip270)\" d=\"M 0 0 M193.403 1270.92 L201.042 1270.92 L201.042 1244.56 L192.732 1246.22 L192.732 1241.96 L200.996 1240.3 L205.672 1240.3 L205.672 1270.92 L213.311 1270.92 L213.311 1274.86 L193.403 1274.86 L193.403 1270.92 Z\" fill=\"#000000\" fill-rule=\"evenodd\" fill-opacity=\"1\" /><path clip-path=\"url(#clip270)\" d=\"M 0 0 M222.801 1240.3 L241.158 1240.3 L241.158 1244.23 L227.084 1244.23 L227.084 1252.7 Q228.102 1252.36 229.121 1252.19 Q230.139 1252.01 231.158 1252.01 Q236.945 1252.01 240.324 1255.18 Q243.704 1258.35 243.704 1263.77 Q243.704 1269.35 240.232 1272.45 Q236.76 1275.53 230.44 1275.53 Q228.264 1275.53 225.996 1275.16 Q223.75 1274.79 221.343 1274.05 L221.343 1269.35 Q223.426 1270.48 225.648 1271.04 Q227.871 1271.59 230.347 1271.59 Q234.352 1271.59 236.69 1269.49 Q239.028 1267.38 239.028 1263.77 Q239.028 1260.16 236.69 1258.05 Q234.352 1255.94 230.347 1255.94 Q228.473 1255.94 226.598 1256.36 Q224.746 1256.78 222.801 1257.66 L222.801 1240.3 Z\" fill=\"#000000\" fill-rule=\"evenodd\" fill-opacity=\"1\" /><path clip-path=\"url(#clip270)\" d=\"M 0 0 M126.205 945.713 Q122.593 945.713 120.765 949.278 Q118.959 952.82 118.959 959.949 Q118.959 967.056 120.765 970.621 Q122.593 974.162 126.205 974.162 Q129.839 974.162 131.644 970.621 Q133.473 967.056 133.473 959.949 Q133.473 952.82 131.644 949.278 Q129.839 945.713 126.205 945.713 M126.205 942.01 Q132.015 942.01 135.07 946.616 Q138.149 951.199 138.149 959.949 Q138.149 968.676 135.07 973.283 Q132.015 977.866 126.205 977.866 Q120.394 977.866 117.316 973.283 Q114.26 968.676 114.26 959.949 Q114.26 951.199 117.316 946.616 Q120.394 942.01 126.205 942.01 Z\" fill=\"#000000\" fill-rule=\"evenodd\" fill-opacity=\"1\" /><path clip-path=\"url(#clip270)\" d=\"M 0 0 M146.366 971.315 L151.251 971.315 L151.251 977.195 L146.366 977.195 L146.366 971.315 Z\" fill=\"#000000\" fill-rule=\"evenodd\" fill-opacity=\"1\" /><path clip-path=\"url(#clip270)\" d=\"M 0 0 M161.575 976.477 L161.575 972.218 Q163.334 973.051 165.14 973.491 Q166.945 973.931 168.681 973.931 Q173.311 973.931 175.741 970.829 Q178.195 967.704 178.542 961.361 Q177.2 963.352 175.139 964.417 Q173.079 965.482 170.579 965.482 Q165.394 965.482 162.362 962.357 Q159.353 959.209 159.353 953.769 Q159.353 948.445 162.501 945.227 Q165.649 942.01 170.88 942.01 Q176.876 942.01 180.024 946.616 Q183.195 951.199 183.195 959.949 Q183.195 968.121 179.306 973.005 Q175.44 977.866 168.889 977.866 Q167.13 977.866 165.325 977.519 Q163.519 977.171 161.575 976.477 M170.88 961.824 Q174.028 961.824 175.857 959.672 Q177.709 957.519 177.709 953.769 Q177.709 950.042 175.857 947.889 Q174.028 945.713 170.88 945.713 Q167.732 945.713 165.88 947.889 Q164.052 950.042 164.052 953.769 Q164.052 957.519 165.88 959.672 Q167.732 961.824 170.88 961.824 Z\" fill=\"#000000\" fill-rule=\"evenodd\" fill-opacity=\"1\" /><path clip-path=\"url(#clip270)\" d=\"M 0 0 M195.625 973.259 L211.945 973.259 L211.945 977.195 L190 977.195 L190 973.259 Q192.663 970.505 197.246 965.875 Q201.852 961.223 203.033 959.88 Q205.278 957.357 206.158 955.621 Q207.061 953.861 207.061 952.172 Q207.061 949.417 205.116 947.681 Q203.195 945.945 200.093 945.945 Q197.894 945.945 195.44 946.709 Q193.01 947.473 190.232 949.023 L190.232 944.301 Q193.056 943.167 195.51 942.588 Q197.963 942.01 200 942.01 Q205.371 942.01 208.565 944.695 Q211.76 947.38 211.76 951.871 Q211.76 954 210.949 955.922 Q210.162 957.82 208.056 960.412 Q207.477 961.084 204.375 964.301 Q201.274 967.496 195.625 973.259 Z\" fill=\"#000000\" fill-rule=\"evenodd\" fill-opacity=\"1\" /><path clip-path=\"url(#clip270)\" d=\"M 0 0 M231.76 945.713 Q228.148 945.713 226.32 949.278 Q224.514 952.82 224.514 959.949 Q224.514 967.056 226.32 970.621 Q228.148 974.162 231.76 974.162 Q235.394 974.162 237.199 970.621 Q239.028 967.056 239.028 959.949 Q239.028 952.82 237.199 949.278 Q235.394 945.713 231.76 945.713 M231.76 942.01 Q237.57 942.01 240.625 946.616 Q243.704 951.199 243.704 959.949 Q243.704 968.676 240.625 973.283 Q237.57 977.866 231.76 977.866 Q225.949 977.866 222.871 973.283 Q219.815 968.676 219.815 959.949 Q219.815 951.199 222.871 946.616 Q225.949 942.01 231.76 942.01 Z\" fill=\"#000000\" fill-rule=\"evenodd\" fill-opacity=\"1\" /><path clip-path=\"url(#clip270)\" d=\"M 0 0 M127.2 648.052 Q123.589 648.052 121.76 651.617 Q119.955 655.159 119.955 662.288 Q119.955 669.395 121.76 672.959 Q123.589 676.501 127.2 676.501 Q130.834 676.501 132.64 672.959 Q134.468 669.395 134.468 662.288 Q134.468 655.159 132.64 651.617 Q130.834 648.052 127.2 648.052 M127.2 644.348 Q133.01 644.348 136.066 648.955 Q139.144 653.538 139.144 662.288 Q139.144 671.015 136.066 675.621 Q133.01 680.205 127.2 680.205 Q121.39 680.205 118.311 675.621 Q115.256 671.015 115.256 662.288 Q115.256 653.538 118.311 648.955 Q121.39 644.348 127.2 644.348 Z\" fill=\"#000000\" fill-rule=\"evenodd\" fill-opacity=\"1\" /><path clip-path=\"url(#clip270)\" d=\"M 0 0 M147.362 673.654 L152.246 673.654 L152.246 679.533 L147.362 679.533 L147.362 673.654 Z\" fill=\"#000000\" fill-rule=\"evenodd\" fill-opacity=\"1\" /><path clip-path=\"url(#clip270)\" d=\"M 0 0 M162.57 678.816 L162.57 674.557 Q164.329 675.39 166.135 675.83 Q167.94 676.27 169.677 676.27 Q174.306 676.27 176.737 673.168 Q179.19 670.043 179.538 663.7 Q178.195 665.691 176.135 666.756 Q174.075 667.821 171.575 667.821 Q166.39 667.821 163.357 664.696 Q160.348 661.547 160.348 656.108 Q160.348 650.784 163.496 647.566 Q166.644 644.348 171.876 644.348 Q177.871 644.348 181.019 648.955 Q184.19 653.538 184.19 662.288 Q184.19 670.459 180.301 675.344 Q176.436 680.205 169.885 680.205 Q168.126 680.205 166.32 679.858 Q164.515 679.51 162.57 678.816 M171.876 664.163 Q175.024 664.163 176.852 662.01 Q178.704 659.858 178.704 656.108 Q178.704 652.381 176.852 650.228 Q175.024 648.052 171.876 648.052 Q168.727 648.052 166.876 650.228 Q165.047 652.381 165.047 656.108 Q165.047 659.858 166.876 662.01 Q168.727 664.163 171.876 664.163 Z\" fill=\"#000000\" fill-rule=\"evenodd\" fill-opacity=\"1\" /><path clip-path=\"url(#clip270)\" d=\"M 0 0 M196.621 675.598 L212.94 675.598 L212.94 679.533 L190.996 679.533 L190.996 675.598 Q193.658 672.844 198.241 668.214 Q202.848 663.561 204.028 662.219 Q206.274 659.696 207.153 657.96 Q208.056 656.2 208.056 654.51 Q208.056 651.756 206.112 650.02 Q204.19 648.284 201.088 648.284 Q198.889 648.284 196.436 649.048 Q194.005 649.811 191.227 651.362 L191.227 646.64 Q194.051 645.506 196.505 644.927 Q198.959 644.348 200.996 644.348 Q206.366 644.348 209.561 647.034 Q212.755 649.719 212.755 654.21 Q212.755 656.339 211.945 658.26 Q211.158 660.159 209.051 662.751 Q208.473 663.422 205.371 666.64 Q202.269 669.834 196.621 675.598 Z\" fill=\"#000000\" fill-rule=\"evenodd\" fill-opacity=\"1\" /><path clip-path=\"url(#clip270)\" d=\"M 0 0 M222.801 644.973 L241.158 644.973 L241.158 648.909 L227.084 648.909 L227.084 657.381 Q228.102 657.034 229.121 656.872 Q230.139 656.686 231.158 656.686 Q236.945 656.686 240.324 659.858 Q243.704 663.029 243.704 668.446 Q243.704 674.024 240.232 677.126 Q236.76 680.205 230.44 680.205 Q228.264 680.205 225.996 679.834 Q223.75 679.464 221.343 678.723 L221.343 674.024 Q223.426 675.158 225.648 675.714 Q227.871 676.27 230.347 676.27 Q234.352 676.27 236.69 674.163 Q239.028 672.057 239.028 668.446 Q239.028 664.834 236.69 662.728 Q234.352 660.622 230.347 660.622 Q228.473 660.622 226.598 661.038 Q224.746 661.455 222.801 662.334 L222.801 644.973 Z\" fill=\"#000000\" fill-rule=\"evenodd\" fill-opacity=\"1\" /><path clip-path=\"url(#clip270)\" d=\"M 0 0 M126.205 350.391 Q122.593 350.391 120.765 353.956 Q118.959 357.497 118.959 364.627 Q118.959 371.733 120.765 375.298 Q122.593 378.84 126.205 378.84 Q129.839 378.84 131.644 375.298 Q133.473 371.733 133.473 364.627 Q133.473 357.497 131.644 353.956 Q129.839 350.391 126.205 350.391 M126.205 346.687 Q132.015 346.687 135.07 351.294 Q138.149 355.877 138.149 364.627 Q138.149 373.354 135.07 377.96 Q132.015 382.544 126.205 382.544 Q120.394 382.544 117.316 377.96 Q114.26 373.354 114.26 364.627 Q114.26 355.877 117.316 351.294 Q120.394 346.687 126.205 346.687 Z\" fill=\"#000000\" fill-rule=\"evenodd\" fill-opacity=\"1\" /><path clip-path=\"url(#clip270)\" d=\"M 0 0 M146.366 375.993 L151.251 375.993 L151.251 381.872 L146.366 381.872 L146.366 375.993 Z\" fill=\"#000000\" fill-rule=\"evenodd\" fill-opacity=\"1\" /><path clip-path=\"url(#clip270)\" d=\"M 0 0 M161.575 381.155 L161.575 376.895 Q163.334 377.729 165.14 378.169 Q166.945 378.608 168.681 378.608 Q173.311 378.608 175.741 375.507 Q178.195 372.382 178.542 366.039 Q177.2 368.03 175.139 369.095 Q173.079 370.159 170.579 370.159 Q165.394 370.159 162.362 367.034 Q159.353 363.886 159.353 358.446 Q159.353 353.122 162.501 349.905 Q165.649 346.687 170.88 346.687 Q176.876 346.687 180.024 351.294 Q183.195 355.877 183.195 364.627 Q183.195 372.798 179.306 377.683 Q175.44 382.544 168.889 382.544 Q167.13 382.544 165.325 382.196 Q163.519 381.849 161.575 381.155 M170.88 366.502 Q174.028 366.502 175.857 364.349 Q177.709 362.196 177.709 358.446 Q177.709 354.72 175.857 352.567 Q174.028 350.391 170.88 350.391 Q167.732 350.391 165.88 352.567 Q164.052 354.72 164.052 358.446 Q164.052 362.196 165.88 364.349 Q167.732 366.502 170.88 366.502 Z\" fill=\"#000000\" fill-rule=\"evenodd\" fill-opacity=\"1\" /><path clip-path=\"url(#clip270)\" d=\"M 0 0 M205.764 363.238 Q209.121 363.956 210.996 366.224 Q212.894 368.493 212.894 371.826 Q212.894 376.942 209.375 379.743 Q205.857 382.544 199.375 382.544 Q197.2 382.544 194.885 382.104 Q192.593 381.687 190.139 380.831 L190.139 376.317 Q192.084 377.451 194.399 378.03 Q196.713 378.608 199.237 378.608 Q203.635 378.608 205.926 376.872 Q208.241 375.136 208.241 371.826 Q208.241 368.771 206.088 367.058 Q203.959 365.321 200.139 365.321 L196.112 365.321 L196.112 361.479 L200.325 361.479 Q203.774 361.479 205.602 360.113 Q207.431 358.724 207.431 356.132 Q207.431 353.47 205.533 352.058 Q203.658 350.622 200.139 350.622 Q198.218 350.622 196.019 351.039 Q193.82 351.456 191.181 352.335 L191.181 348.169 Q193.843 347.428 196.158 347.058 Q198.496 346.687 200.556 346.687 Q205.88 346.687 208.982 349.118 Q212.084 351.525 212.084 355.646 Q212.084 358.516 210.44 360.507 Q208.797 362.474 205.764 363.238 Z\" fill=\"#000000\" fill-rule=\"evenodd\" fill-opacity=\"1\" /><path clip-path=\"url(#clip270)\" d=\"M 0 0 M231.76 350.391 Q228.148 350.391 226.32 353.956 Q224.514 357.497 224.514 364.627 Q224.514 371.733 226.32 375.298 Q228.148 378.84 231.76 378.84 Q235.394 378.84 237.199 375.298 Q239.028 371.733 239.028 364.627 Q239.028 357.497 237.199 353.956 Q235.394 350.391 231.76 350.391 M231.76 346.687 Q237.57 346.687 240.625 351.294 Q243.704 355.877 243.704 364.627 Q243.704 373.354 240.625 377.96 Q237.57 382.544 231.76 382.544 Q225.949 382.544 222.871 377.96 Q219.815 373.354 219.815 364.627 Q219.815 355.877 222.871 351.294 Q225.949 346.687 231.76 346.687 Z\" fill=\"#000000\" fill-rule=\"evenodd\" fill-opacity=\"1\" /><path clip-path=\"url(#clip270)\" d=\"M 0 0 M127.2 52.7298 Q123.589 52.7298 121.76 56.2946 Q119.955 59.8363 119.955 66.9658 Q119.955 74.0723 121.76 77.6371 Q123.589 81.1787 127.2 81.1787 Q130.834 81.1787 132.64 77.6371 Q134.468 74.0723 134.468 66.9658 Q134.468 59.8363 132.64 56.2946 Q130.834 52.7298 127.2 52.7298 M127.2 49.0261 Q133.01 49.0261 136.066 53.6326 Q139.144 58.2159 139.144 66.9658 Q139.144 75.6927 136.066 80.2991 Q133.01 84.8824 127.2 84.8824 Q121.39 84.8824 118.311 80.2991 Q115.256 75.6927 115.256 66.9658 Q115.256 58.2159 118.311 53.6326 Q121.39 49.0261 127.2 49.0261 Z\" fill=\"#000000\" fill-rule=\"evenodd\" fill-opacity=\"1\" /><path clip-path=\"url(#clip270)\" d=\"M 0 0 M147.362 78.3315 L152.246 78.3315 L152.246 84.2111 L147.362 84.2111 L147.362 78.3315 Z\" fill=\"#000000\" fill-rule=\"evenodd\" fill-opacity=\"1\" /><path clip-path=\"url(#clip270)\" d=\"M 0 0 M162.57 83.4935 L162.57 79.2343 Q164.329 80.0676 166.135 80.5074 Q167.94 80.9473 169.677 80.9473 Q174.306 80.9473 176.737 77.8454 Q179.19 74.7204 179.538 68.3779 Q178.195 70.3686 176.135 71.4334 Q174.075 72.4982 171.575 72.4982 Q166.39 72.4982 163.357 69.3732 Q160.348 66.2251 160.348 60.7853 Q160.348 55.4613 163.496 52.2437 Q166.644 49.0261 171.876 49.0261 Q177.871 49.0261 181.019 53.6326 Q184.19 58.2159 184.19 66.9658 Q184.19 75.1371 180.301 80.0213 Q176.436 84.8824 169.885 84.8824 Q168.126 84.8824 166.32 84.5352 Q164.515 84.188 162.57 83.4935 M171.876 68.8408 Q175.024 68.8408 176.852 66.6881 Q178.704 64.5353 178.704 60.7853 Q178.704 57.0585 176.852 54.9057 Q175.024 52.7298 171.876 52.7298 Q168.727 52.7298 166.876 54.9057 Q165.047 57.0585 165.047 60.7853 Q165.047 64.5353 166.876 66.6881 Q168.727 68.8408 171.876 68.8408 Z\" fill=\"#000000\" fill-rule=\"evenodd\" fill-opacity=\"1\" /><path clip-path=\"url(#clip270)\" d=\"M 0 0 M206.76 65.577 Q210.116 66.2946 211.991 68.5631 Q213.889 70.8316 213.889 74.1649 Q213.889 79.2806 210.371 82.0815 Q206.852 84.8824 200.371 84.8824 Q198.195 84.8824 195.88 84.4426 Q193.588 84.0259 191.135 83.1695 L191.135 78.6556 Q193.079 79.7899 195.394 80.3686 Q197.709 80.9473 200.232 80.9473 Q204.63 80.9473 206.922 79.2112 Q209.237 77.475 209.237 74.1649 Q209.237 71.1093 207.084 69.3964 Q204.954 67.6603 201.135 67.6603 L197.107 67.6603 L197.107 63.8177 L201.32 63.8177 Q204.769 63.8177 206.598 62.452 Q208.426 61.0631 208.426 58.4705 Q208.426 55.8085 206.528 54.3965 Q204.653 52.9613 201.135 52.9613 Q199.213 52.9613 197.014 53.378 Q194.815 53.7946 192.176 54.6742 L192.176 50.5076 Q194.838 49.7669 197.153 49.3965 Q199.491 49.0261 201.551 49.0261 Q206.875 49.0261 209.977 51.4567 Q213.079 53.8641 213.079 57.9844 Q213.079 60.8548 211.436 62.8455 Q209.792 64.8131 206.76 65.577 Z\" fill=\"#000000\" fill-rule=\"evenodd\" fill-opacity=\"1\" /><path clip-path=\"url(#clip270)\" d=\"M 0 0 M222.801 49.6511 L241.158 49.6511 L241.158 53.5863 L227.084 53.5863 L227.084 62.0585 Q228.102 61.7112 229.121 61.5492 Q230.139 61.364 231.158 61.364 Q236.945 61.364 240.324 64.5353 Q243.704 67.7066 243.704 73.1232 Q243.704 78.7019 240.232 81.8037 Q236.76 84.8824 230.44 84.8824 Q228.264 84.8824 225.996 84.512 Q223.75 84.1417 221.343 83.4009 L221.343 78.7019 Q223.426 79.8361 225.648 80.3917 Q227.871 80.9473 230.347 80.9473 Q234.352 80.9473 236.69 78.8408 Q239.028 76.7343 239.028 73.1232 Q239.028 69.5121 236.69 67.4057 Q234.352 65.2992 230.347 65.2992 Q228.473 65.2992 226.598 65.7159 Q224.746 66.1325 222.801 67.0121 L222.801 49.6511 Z\" fill=\"#000000\" fill-rule=\"evenodd\" fill-opacity=\"1\" /><path clip-path=\"url(#clip270)\" d=\"M 0 0 M14.479 779.995 L14.479 774.106 L43.7294 774.106 L28.3562 756.633 L28.3562 749.153 L45.0344 768.059 L64.0042 748.357 L64.0042 755.996 L46.5939 774.106 L64.0042 774.106 L64.0042 779.995 L14.479 779.995 Z\" fill=\"#000000\" fill-rule=\"evenodd\" fill-opacity=\"1\" /><path clip-path=\"url(#clip270)\" d=\"M 0 0 M16.4842 731.615 L16.4842 726.204 L70.0516 742.755 L70.0516 748.166 L16.4842 731.615 Z\" fill=\"#000000\" fill-rule=\"evenodd\" fill-opacity=\"1\" /><path clip-path=\"url(#clip270)\" d=\"M 0 0 M42.4881 690.429 L64.0042 690.429 L64.0042 696.286 L42.679 696.286 Q37.6183 696.286 35.1038 698.259 Q32.5894 700.232 32.5894 704.179 Q32.5894 708.922 35.6131 711.659 Q38.6368 714.396 43.8567 714.396 L64.0042 714.396 L64.0042 720.284 L28.3562 720.284 L28.3562 714.396 L33.8944 714.396 Q30.6797 712.295 29.0883 709.463 Q27.4968 706.598 27.4968 702.874 Q27.4968 696.731 31.3163 693.58 Q35.1038 690.429 42.4881 690.429 Z\" fill=\"#000000\" fill-rule=\"evenodd\" fill-opacity=\"1\" /><polyline clip-path=\"url(#clip272)\" style=\"stroke:#009af9; stroke-width:4; stroke-opacity:1; fill:none\" points=\"\n",
       "  338.375,1384.24 729.517,1124.83 1120.66,865.372 1511.8,605.828 1902.94,346.135 2294.08,86.1857 \n",
       "  \"/>\n",
       "<path clip-path=\"url(#clip270)\" d=\"\n",
       "M2000.88 214.069 L2283.65 214.069 L2283.65 93.1086 L2000.88 93.1086  Z\n",
       "  \" fill=\"#ffffff\" fill-rule=\"evenodd\" fill-opacity=\"1\"/>\n",
       "<polyline clip-path=\"url(#clip270)\" style=\"stroke:#000000; stroke-width:4; stroke-opacity:1; fill:none\" points=\"\n",
       "  2000.88,214.069 2283.65,214.069 2283.65,93.1086 2000.88,93.1086 2000.88,214.069 \n",
       "  \"/>\n",
       "<polyline clip-path=\"url(#clip270)\" style=\"stroke:#009af9; stroke-width:4; stroke-opacity:1; fill:none\" points=\"\n",
       "  2023.92,153.589 2162.12,153.589 \n",
       "  \"/>\n",
       "<path clip-path=\"url(#clip270)\" d=\"M 0 0 M2199 173.276 Q2197.19 177.906 2195.48 179.318 Q2193.77 180.73 2190.9 180.73 L2187.49 180.73 L2187.49 177.165 L2189.99 177.165 Q2191.75 177.165 2192.73 176.332 Q2193.7 175.498 2194.88 172.396 L2195.64 170.452 L2185.16 144.943 L2189.67 144.943 L2197.77 165.221 L2205.87 144.943 L2210.39 144.943 L2199 173.276 Z\" fill=\"#000000\" fill-rule=\"evenodd\" fill-opacity=\"1\" /><path clip-path=\"url(#clip270)\" d=\"M 0 0 M2217.68 166.933 L2225.32 166.933 L2225.32 140.568 L2217.01 142.235 L2217.01 137.975 L2225.27 136.309 L2229.95 136.309 L2229.95 166.933 L2237.59 166.933 L2237.59 170.869 L2217.68 170.869 L2217.68 166.933 Z\" fill=\"#000000\" fill-rule=\"evenodd\" fill-opacity=\"1\" /></svg>\n"
      ]
     },
     "execution_count": 88,
     "metadata": {},
     "output_type": "execute_result"
    }
   ],
   "source": [
    "# how does λ depend on the saving rate ?\n",
    "\n",
    "avec = range(0.2, 0.4; length=6)\n",
    "kbar_a = []\n",
    "λ_a = []\n",
    "for a in avec\n",
    "    p0 = copy(p)\n",
    "    p0[:α] = a\n",
    "    kbar = steady_state(p0, 1.0)\n",
    "    lam = λ(p0)\n",
    "    push!(kbar_a, kbar)\n",
    "    push!(λ_a, lam)\n",
    "    \n",
    "end\n",
    "plot(avec, λ_a, xlabel=\"α\", ylabel=\"k/n\")"
   ]
  },
  {
   "cell_type": "markdown",
   "id": "d053ec75",
   "metadata": {},
   "source": [
    "__Compute the steady-state directly using a Newton method and compare convergence speed.__"
   ]
  },
  {
   "cell_type": "code",
   "execution_count": 91,
   "id": "4e5d1d2d",
   "metadata": {},
   "outputs": [],
   "source": [
    "]add NLsolve"
   ]
  },
  {
   "cell_type": "code",
   "execution_count": 92,
   "id": "ce683225-11e5-468d-bb3f-7e63a68c4b35",
   "metadata": {},
   "outputs": [],
   "source": [
    "using NLsolve"
   ]
  },
  {
   "cell_type": "code",
   "execution_count": 97,
   "id": "76fc0f4b-dc24-47a4-a261-60428f554a34",
   "metadata": {},
   "outputs": [
    {
     "data": {
      "text/plain": [
       "Results of Nonlinear Solver Algorithm\n",
       " * Algorithm: Trust-region with dogleg and autoscaling\n",
       " * Starting Point: [1.0]\n",
       " * Zero: [2.3491483500161667]\n",
       " * Inf-norm of residuals: 0.000000\n",
       " * Iterations: 4\n",
       " * Convergence: true\n",
       "   * |x - x'| < 0.0e+00: false\n",
       "   * |f(x)| < 1.0e-08: true\n",
       " * Function Calls (f): 5\n",
       " * Jacobian Calls (df/dx): 5"
      ]
     },
     "execution_count": 97,
     "metadata": {},
     "output_type": "execute_result"
    }
   ],
   "source": [
    "res = NLsolve.nlsolve(u->[f(u[1];p)-u[1]], [1.0])"
   ]
  },
  {
   "cell_type": "markdown",
   "id": "7ee92379",
   "metadata": {},
   "source": [
    "__Suppose one tries to maximize steady-state consumption by choosing saving rate $s$. Which value would one choose?__"
   ]
  },
  {
   "cell_type": "code",
   "execution_count": 98,
   "id": "c3d11a1e",
   "metadata": {},
   "outputs": [
    {
     "data": {
      "text/plain": [
       "steady_state_consumption (generic function with 1 method)"
      ]
     },
     "execution_count": 98,
     "metadata": {},
     "output_type": "execute_result"
    }
   ],
   "source": [
    "function steady_state_consumption(p::Dict)\n",
    "    kbar = steady_state(p)\n",
    "    ybar = p[:A]*kbar^p[:α]\n",
    "    ibar = p[:s]*ybar\n",
    "    cbar = ybar - ibar\n",
    "    return cbar\n",
    "    \n",
    "end"
   ]
  },
  {
   "cell_type": "code",
   "execution_count": 115,
   "id": "814e6860-b71c-46bd-b216-ce2531e3d5bb",
   "metadata": {},
   "outputs": [
    {
     "data": {
      "text/plain": [
       "steady_state (generic function with 3 methods)"
      ]
     },
     "execution_count": 115,
     "metadata": {},
     "output_type": "execute_result"
    }
   ],
   "source": [
    "function steady_state_consumption(s::Float64; p=Dict())\n",
    "    p0 = copy(p)\n",
    "    p0[:s] = s\n",
    "    return steady_state_consumption(p0)\n",
    "end\n",
    "function steady_state(s::Float64; p=Dict())\n",
    "    p0 = copy(p)\n",
    "    p0[:s] = s\n",
    "    return steady_state(p0, 1.0)\n",
    "end"
   ]
  },
  {
   "cell_type": "code",
   "execution_count": 123,
   "id": "8ce4aebe-ea36-445c-b214-2b8f7caa2aa8",
   "metadata": {},
   "outputs": [],
   "source": [
    "\n",
    "svec = range(0.1, 0.5; length=100);\n",
    "cvec = [steady_state_consumption(e; p=p) for e in svec];\n",
    "ivec = [steady_state(e; p=p)*p[:δ]/p[:g] for e in svec];"
   ]
  },
  {
   "cell_type": "code",
   "execution_count": 124,
   "id": "272dbfd0-df56-417f-9124-51d012d19cf4",
   "metadata": {},
   "outputs": [
    {
     "data": {
      "image/svg+xml": [
       "<?xml version=\"1.0\" encoding=\"utf-8\"?>\n",
       "<svg xmlns=\"http://www.w3.org/2000/svg\" xmlns:xlink=\"http://www.w3.org/1999/xlink\" width=\"600\" height=\"400\" viewBox=\"0 0 2400 1600\">\n",
       "<defs>\n",
       "  <clipPath id=\"clip510\">\n",
       "    <rect x=\"0\" y=\"0\" width=\"2400\" height=\"1600\"/>\n",
       "  </clipPath>\n",
       "</defs>\n",
       "<path clip-path=\"url(#clip510)\" d=\"\n",
       "M0 1600 L2400 1600 L2400 0 L0 0  Z\n",
       "  \" fill=\"#ffffff\" fill-rule=\"evenodd\" fill-opacity=\"1\"/>\n",
       "<defs>\n",
       "  <clipPath id=\"clip511\">\n",
       "    <rect x=\"480\" y=\"0\" width=\"1681\" height=\"1600\"/>\n",
       "  </clipPath>\n",
       "</defs>\n",
       "<path clip-path=\"url(#clip510)\" d=\"\n",
       "M219.866 1423.18 L2352.76 1423.18 L2352.76 47.2441 L219.866 47.2441  Z\n",
       "  \" fill=\"#ffffff\" fill-rule=\"evenodd\" fill-opacity=\"1\"/>\n",
       "<defs>\n",
       "  <clipPath id=\"clip512\">\n",
       "    <rect x=\"219\" y=\"47\" width=\"2134\" height=\"1377\"/>\n",
       "  </clipPath>\n",
       "</defs>\n",
       "<polyline clip-path=\"url(#clip512)\" style=\"stroke:#000000; stroke-width:2; stroke-opacity:0.1; fill:none\" points=\"\n",
       "  280.231,1423.18 280.231,47.2441 \n",
       "  \"/>\n",
       "<polyline clip-path=\"url(#clip512)\" style=\"stroke:#000000; stroke-width:2; stroke-opacity:0.1; fill:none\" points=\"\n",
       "  783.271,1423.18 783.271,47.2441 \n",
       "  \"/>\n",
       "<polyline clip-path=\"url(#clip512)\" style=\"stroke:#000000; stroke-width:2; stroke-opacity:0.1; fill:none\" points=\"\n",
       "  1286.31,1423.18 1286.31,47.2441 \n",
       "  \"/>\n",
       "<polyline clip-path=\"url(#clip512)\" style=\"stroke:#000000; stroke-width:2; stroke-opacity:0.1; fill:none\" points=\"\n",
       "  1789.35,1423.18 1789.35,47.2441 \n",
       "  \"/>\n",
       "<polyline clip-path=\"url(#clip512)\" style=\"stroke:#000000; stroke-width:2; stroke-opacity:0.1; fill:none\" points=\"\n",
       "  2292.39,1423.18 2292.39,47.2441 \n",
       "  \"/>\n",
       "<polyline clip-path=\"url(#clip510)\" style=\"stroke:#000000; stroke-width:4; stroke-opacity:1; fill:none\" points=\"\n",
       "  219.866,1423.18 2352.76,1423.18 \n",
       "  \"/>\n",
       "<polyline clip-path=\"url(#clip510)\" style=\"stroke:#000000; stroke-width:4; stroke-opacity:1; fill:none\" points=\"\n",
       "  280.231,1423.18 280.231,1406.67 \n",
       "  \"/>\n",
       "<polyline clip-path=\"url(#clip510)\" style=\"stroke:#000000; stroke-width:4; stroke-opacity:1; fill:none\" points=\"\n",
       "  783.271,1423.18 783.271,1406.67 \n",
       "  \"/>\n",
       "<polyline clip-path=\"url(#clip510)\" style=\"stroke:#000000; stroke-width:4; stroke-opacity:1; fill:none\" points=\"\n",
       "  1286.31,1423.18 1286.31,1406.67 \n",
       "  \"/>\n",
       "<polyline clip-path=\"url(#clip510)\" style=\"stroke:#000000; stroke-width:4; stroke-opacity:1; fill:none\" points=\"\n",
       "  1789.35,1423.18 1789.35,1406.67 \n",
       "  \"/>\n",
       "<polyline clip-path=\"url(#clip510)\" style=\"stroke:#000000; stroke-width:4; stroke-opacity:1; fill:none\" points=\"\n",
       "  2292.39,1423.18 2292.39,1406.67 \n",
       "  \"/>\n",
       "<path clip-path=\"url(#clip510)\" d=\"M 0 0 M258.229 1452.37 Q254.618 1452.37 252.789 1455.94 Q250.984 1459.48 250.984 1466.61 Q250.984 1473.71 252.789 1477.28 Q254.618 1480.82 258.229 1480.82 Q261.863 1480.82 263.669 1477.28 Q265.497 1473.71 265.497 1466.61 Q265.497 1459.48 263.669 1455.94 Q261.863 1452.37 258.229 1452.37 M258.229 1448.67 Q264.039 1448.67 267.095 1453.27 Q270.173 1457.86 270.173 1466.61 Q270.173 1475.33 267.095 1479.94 Q264.039 1484.52 258.229 1484.52 Q252.419 1484.52 249.34 1479.94 Q246.284 1475.33 246.284 1466.61 Q246.284 1457.86 249.34 1453.27 Q252.419 1448.67 258.229 1448.67 Z\" fill=\"#000000\" fill-rule=\"evenodd\" fill-opacity=\"1\" /><path clip-path=\"url(#clip510)\" d=\"M 0 0 M278.391 1477.97 L283.275 1477.97 L283.275 1483.85 L278.391 1483.85 L278.391 1477.97 Z\" fill=\"#000000\" fill-rule=\"evenodd\" fill-opacity=\"1\" /><path clip-path=\"url(#clip510)\" d=\"M 0 0 M294.27 1479.92 L301.909 1479.92 L301.909 1453.55 L293.599 1455.22 L293.599 1450.96 L301.863 1449.29 L306.539 1449.29 L306.539 1479.92 L314.178 1479.92 L314.178 1483.85 L294.27 1483.85 L294.27 1479.92 Z\" fill=\"#000000\" fill-rule=\"evenodd\" fill-opacity=\"1\" /><path clip-path=\"url(#clip510)\" d=\"M 0 0 M761.454 1452.37 Q757.843 1452.37 756.014 1455.94 Q754.209 1459.48 754.209 1466.61 Q754.209 1473.71 756.014 1477.28 Q757.843 1480.82 761.454 1480.82 Q765.088 1480.82 766.894 1477.28 Q768.723 1473.71 768.723 1466.61 Q768.723 1459.48 766.894 1455.94 Q765.088 1452.37 761.454 1452.37 M761.454 1448.67 Q767.264 1448.67 770.32 1453.27 Q773.398 1457.86 773.398 1466.61 Q773.398 1475.33 770.32 1479.94 Q767.264 1484.52 761.454 1484.52 Q755.644 1484.52 752.565 1479.94 Q749.51 1475.33 749.51 1466.61 Q749.51 1457.86 752.565 1453.27 Q755.644 1448.67 761.454 1448.67 Z\" fill=\"#000000\" fill-rule=\"evenodd\" fill-opacity=\"1\" /><path clip-path=\"url(#clip510)\" d=\"M 0 0 M781.616 1477.97 L786.5 1477.97 L786.5 1483.85 L781.616 1483.85 L781.616 1477.97 Z\" fill=\"#000000\" fill-rule=\"evenodd\" fill-opacity=\"1\" /><path clip-path=\"url(#clip510)\" d=\"M 0 0 M800.713 1479.92 L817.032 1479.92 L817.032 1483.85 L795.088 1483.85 L795.088 1479.92 Q797.75 1477.16 802.333 1472.53 Q806.94 1467.88 808.12 1466.54 Q810.366 1464.01 811.245 1462.28 Q812.148 1460.52 812.148 1458.83 Q812.148 1456.07 810.204 1454.34 Q808.283 1452.6 805.181 1452.6 Q802.982 1452.6 800.528 1453.37 Q798.097 1454.13 795.32 1455.68 L795.32 1450.96 Q798.144 1449.82 800.597 1449.25 Q803.051 1448.67 805.088 1448.67 Q810.458 1448.67 813.653 1451.35 Q816.847 1454.04 816.847 1458.53 Q816.847 1460.66 816.037 1462.58 Q815.25 1464.48 813.144 1467.07 Q812.565 1467.74 809.463 1470.96 Q806.361 1474.15 800.713 1479.92 Z\" fill=\"#000000\" fill-rule=\"evenodd\" fill-opacity=\"1\" /><path clip-path=\"url(#clip510)\" d=\"M 0 0 M1264.02 1452.37 Q1260.41 1452.37 1258.58 1455.94 Q1256.77 1459.48 1256.77 1466.61 Q1256.77 1473.71 1258.58 1477.28 Q1260.41 1480.82 1264.02 1480.82 Q1267.65 1480.82 1269.46 1477.28 Q1271.29 1473.71 1271.29 1466.61 Q1271.29 1459.48 1269.46 1455.94 Q1267.65 1452.37 1264.02 1452.37 M1264.02 1448.67 Q1269.83 1448.67 1272.89 1453.27 Q1275.96 1457.86 1275.96 1466.61 Q1275.96 1475.33 1272.89 1479.94 Q1269.83 1484.52 1264.02 1484.52 Q1258.21 1484.52 1255.13 1479.94 Q1252.08 1475.33 1252.08 1466.61 Q1252.08 1457.86 1255.13 1453.27 Q1258.21 1448.67 1264.02 1448.67 Z\" fill=\"#000000\" fill-rule=\"evenodd\" fill-opacity=\"1\" /><path clip-path=\"url(#clip510)\" d=\"M 0 0 M1284.18 1477.97 L1289.07 1477.97 L1289.07 1483.85 L1284.18 1483.85 L1284.18 1477.97 Z\" fill=\"#000000\" fill-rule=\"evenodd\" fill-opacity=\"1\" /><path clip-path=\"url(#clip510)\" d=\"M 0 0 M1313.42 1465.22 Q1316.77 1465.94 1318.65 1468.2 Q1320.55 1470.47 1320.55 1473.81 Q1320.55 1478.92 1317.03 1481.72 Q1313.51 1484.52 1307.03 1484.52 Q1304.85 1484.52 1302.54 1484.08 Q1300.25 1483.67 1297.79 1482.81 L1297.79 1478.3 Q1299.74 1479.43 1302.05 1480.01 Q1304.37 1480.59 1306.89 1480.59 Q1311.29 1480.59 1313.58 1478.85 Q1315.89 1477.12 1315.89 1473.81 Q1315.89 1470.75 1313.74 1469.04 Q1311.61 1467.3 1307.79 1467.3 L1303.76 1467.3 L1303.76 1463.46 L1307.98 1463.46 Q1311.43 1463.46 1313.26 1462.09 Q1315.08 1460.7 1315.08 1458.11 Q1315.08 1455.45 1313.19 1454.04 Q1311.31 1452.6 1307.79 1452.6 Q1305.87 1452.6 1303.67 1453.02 Q1301.47 1453.44 1298.83 1454.31 L1298.83 1450.15 Q1301.5 1449.41 1303.81 1449.04 Q1306.15 1448.67 1308.21 1448.67 Q1313.53 1448.67 1316.63 1451.1 Q1319.74 1453.5 1319.74 1457.63 Q1319.74 1460.5 1318.09 1462.49 Q1316.45 1464.45 1313.42 1465.22 Z\" fill=\"#000000\" fill-rule=\"evenodd\" fill-opacity=\"1\" /><path clip-path=\"url(#clip510)\" d=\"M 0 0 M1766.49 1452.37 Q1762.88 1452.37 1761.05 1455.94 Q1759.25 1459.48 1759.25 1466.61 Q1759.25 1473.71 1761.05 1477.28 Q1762.88 1480.82 1766.49 1480.82 Q1770.13 1480.82 1771.93 1477.28 Q1773.76 1473.71 1773.76 1466.61 Q1773.76 1459.48 1771.93 1455.94 Q1770.13 1452.37 1766.49 1452.37 M1766.49 1448.67 Q1772.3 1448.67 1775.36 1453.27 Q1778.44 1457.86 1778.44 1466.61 Q1778.44 1475.33 1775.36 1479.94 Q1772.3 1484.52 1766.49 1484.52 Q1760.68 1484.52 1757.6 1479.94 Q1754.55 1475.33 1754.55 1466.61 Q1754.55 1457.86 1757.6 1453.27 Q1760.68 1448.67 1766.49 1448.67 Z\" fill=\"#000000\" fill-rule=\"evenodd\" fill-opacity=\"1\" /><path clip-path=\"url(#clip510)\" d=\"M 0 0 M1786.65 1477.97 L1791.54 1477.97 L1791.54 1483.85 L1786.65 1483.85 L1786.65 1477.97 Z\" fill=\"#000000\" fill-rule=\"evenodd\" fill-opacity=\"1\" /><path clip-path=\"url(#clip510)\" d=\"M 0 0 M1814.57 1453.37 L1802.77 1471.81 L1814.57 1471.81 L1814.57 1453.37 M1813.34 1449.29 L1819.22 1449.29 L1819.22 1471.81 L1824.15 1471.81 L1824.15 1475.7 L1819.22 1475.7 L1819.22 1483.85 L1814.57 1483.85 L1814.57 1475.7 L1798.97 1475.7 L1798.97 1471.19 L1813.34 1449.29 Z\" fill=\"#000000\" fill-rule=\"evenodd\" fill-opacity=\"1\" /><path clip-path=\"url(#clip510)\" d=\"M 0 0 M2270.27 1452.37 Q2266.66 1452.37 2264.83 1455.94 Q2263.03 1459.48 2263.03 1466.61 Q2263.03 1473.71 2264.83 1477.28 Q2266.66 1480.82 2270.27 1480.82 Q2273.91 1480.82 2275.71 1477.28 Q2277.54 1473.71 2277.54 1466.61 Q2277.54 1459.48 2275.71 1455.94 Q2273.91 1452.37 2270.27 1452.37 M2270.27 1448.67 Q2276.08 1448.67 2279.14 1453.27 Q2282.22 1457.86 2282.22 1466.61 Q2282.22 1475.33 2279.14 1479.94 Q2276.08 1484.52 2270.27 1484.52 Q2264.46 1484.52 2261.38 1479.94 Q2258.33 1475.33 2258.33 1466.61 Q2258.33 1457.86 2261.38 1453.27 Q2264.46 1448.67 2270.27 1448.67 Z\" fill=\"#000000\" fill-rule=\"evenodd\" fill-opacity=\"1\" /><path clip-path=\"url(#clip510)\" d=\"M 0 0 M2290.44 1477.97 L2295.32 1477.97 L2295.32 1483.85 L2290.44 1483.85 L2290.44 1477.97 Z\" fill=\"#000000\" fill-rule=\"evenodd\" fill-opacity=\"1\" /><path clip-path=\"url(#clip510)\" d=\"M 0 0 M2305.55 1449.29 L2323.91 1449.29 L2323.91 1453.23 L2309.83 1453.23 L2309.83 1461.7 Q2310.85 1461.35 2311.87 1461.19 Q2312.89 1461 2313.91 1461 Q2319.69 1461 2323.07 1464.18 Q2326.45 1467.35 2326.45 1472.76 Q2326.45 1478.34 2322.98 1481.44 Q2319.51 1484.52 2313.19 1484.52 Q2311.01 1484.52 2308.75 1484.15 Q2306.5 1483.78 2304.09 1483.04 L2304.09 1478.34 Q2306.18 1479.48 2308.4 1480.03 Q2310.62 1480.59 2313.1 1480.59 Q2317.1 1480.59 2319.44 1478.48 Q2321.78 1476.38 2321.78 1472.76 Q2321.78 1469.15 2319.44 1467.05 Q2317.1 1464.94 2313.1 1464.94 Q2311.22 1464.94 2309.35 1465.36 Q2307.5 1465.77 2305.55 1466.65 L2305.55 1449.29 Z\" fill=\"#000000\" fill-rule=\"evenodd\" fill-opacity=\"1\" /><path clip-path=\"url(#clip510)\" d=\"M 0 0 M1298.02 1533.45 L1298.02 1538.98 Q1295.54 1537.71 1292.87 1537.07 Q1290.19 1536.44 1287.33 1536.44 Q1282.97 1536.44 1280.77 1537.77 Q1278.61 1539.11 1278.61 1541.79 Q1278.61 1543.82 1280.17 1545 Q1281.73 1546.15 1286.44 1547.2 L1288.44 1547.64 Q1294.68 1548.98 1297.29 1551.43 Q1299.93 1553.85 1299.93 1558.21 Q1299.93 1563.17 1295.99 1566.07 Q1292.07 1568.97 1285.2 1568.97 Q1282.33 1568.97 1279.21 1568.39 Q1276.13 1567.85 1272.69 1566.74 L1272.69 1560.69 Q1275.93 1562.38 1279.09 1563.24 Q1282.24 1564.07 1285.32 1564.07 Q1289.46 1564.07 1291.69 1562.66 Q1293.92 1561.23 1293.92 1558.65 Q1293.92 1556.27 1292.29 1554.99 Q1290.7 1553.72 1285.26 1552.54 L1283.22 1552.07 Q1277.78 1550.92 1275.36 1548.56 Q1272.94 1546.18 1272.94 1542.04 Q1272.94 1537.01 1276.51 1534.27 Q1280.07 1531.54 1286.63 1531.54 Q1289.88 1531.54 1292.74 1532.01 Q1295.61 1532.49 1298.02 1533.45 Z\" fill=\"#000000\" fill-rule=\"evenodd\" fill-opacity=\"1\" /><polyline clip-path=\"url(#clip512)\" style=\"stroke:#000000; stroke-width:2; stroke-opacity:0.1; fill:none\" points=\"\n",
       "  219.866,1235.23 2352.76,1235.23 \n",
       "  \"/>\n",
       "<polyline clip-path=\"url(#clip512)\" style=\"stroke:#000000; stroke-width:2; stroke-opacity:0.1; fill:none\" points=\"\n",
       "  219.866,972.878 2352.76,972.878 \n",
       "  \"/>\n",
       "<polyline clip-path=\"url(#clip512)\" style=\"stroke:#000000; stroke-width:2; stroke-opacity:0.1; fill:none\" points=\"\n",
       "  219.866,710.521 2352.76,710.521 \n",
       "  \"/>\n",
       "<polyline clip-path=\"url(#clip512)\" style=\"stroke:#000000; stroke-width:2; stroke-opacity:0.1; fill:none\" points=\"\n",
       "  219.866,448.165 2352.76,448.165 \n",
       "  \"/>\n",
       "<polyline clip-path=\"url(#clip512)\" style=\"stroke:#000000; stroke-width:2; stroke-opacity:0.1; fill:none\" points=\"\n",
       "  219.866,185.808 2352.76,185.808 \n",
       "  \"/>\n",
       "<polyline clip-path=\"url(#clip510)\" style=\"stroke:#000000; stroke-width:4; stroke-opacity:1; fill:none\" points=\"\n",
       "  219.866,1423.18 219.866,47.2441 \n",
       "  \"/>\n",
       "<polyline clip-path=\"url(#clip510)\" style=\"stroke:#000000; stroke-width:4; stroke-opacity:1; fill:none\" points=\"\n",
       "  219.866,1235.23 245.461,1235.23 \n",
       "  \"/>\n",
       "<polyline clip-path=\"url(#clip510)\" style=\"stroke:#000000; stroke-width:4; stroke-opacity:1; fill:none\" points=\"\n",
       "  219.866,972.878 245.461,972.878 \n",
       "  \"/>\n",
       "<polyline clip-path=\"url(#clip510)\" style=\"stroke:#000000; stroke-width:4; stroke-opacity:1; fill:none\" points=\"\n",
       "  219.866,710.521 245.461,710.521 \n",
       "  \"/>\n",
       "<polyline clip-path=\"url(#clip510)\" style=\"stroke:#000000; stroke-width:4; stroke-opacity:1; fill:none\" points=\"\n",
       "  219.866,448.165 245.461,448.165 \n",
       "  \"/>\n",
       "<polyline clip-path=\"url(#clip510)\" style=\"stroke:#000000; stroke-width:4; stroke-opacity:1; fill:none\" points=\"\n",
       "  219.866,185.808 245.461,185.808 \n",
       "  \"/>\n",
       "<path clip-path=\"url(#clip510)\" d=\"M 0 0 M128.288 1221.03 Q124.677 1221.03 122.848 1224.6 Q121.043 1228.14 121.043 1235.27 Q121.043 1242.38 122.848 1245.94 Q124.677 1249.48 128.288 1249.48 Q131.922 1249.48 133.728 1245.94 Q135.556 1242.38 135.556 1235.27 Q135.556 1228.14 133.728 1224.6 Q131.922 1221.03 128.288 1221.03 M128.288 1217.33 Q134.098 1217.33 137.154 1221.94 Q140.232 1226.52 140.232 1235.27 Q140.232 1244 137.154 1248.6 Q134.098 1253.19 128.288 1253.19 Q122.478 1253.19 119.399 1248.6 Q116.343 1244 116.343 1235.27 Q116.343 1226.52 119.399 1221.94 Q122.478 1217.33 128.288 1217.33 Z\" fill=\"#000000\" fill-rule=\"evenodd\" fill-opacity=\"1\" /><path clip-path=\"url(#clip510)\" d=\"M 0 0 M148.45 1246.63 L153.334 1246.63 L153.334 1252.51 L148.45 1252.51 L148.45 1246.63 Z\" fill=\"#000000\" fill-rule=\"evenodd\" fill-opacity=\"1\" /><path clip-path=\"url(#clip510)\" d=\"M 0 0 M167.547 1248.58 L183.866 1248.58 L183.866 1252.51 L161.922 1252.51 L161.922 1248.58 Q164.584 1245.82 169.167 1241.19 Q173.774 1236.54 174.954 1235.2 Q177.2 1232.68 178.079 1230.94 Q178.982 1229.18 178.982 1227.49 Q178.982 1224.74 177.038 1223 Q175.116 1221.26 172.014 1221.26 Q169.815 1221.26 167.362 1222.03 Q164.931 1222.79 162.153 1224.34 L162.153 1219.62 Q164.977 1218.49 167.431 1217.91 Q169.885 1217.33 171.922 1217.33 Q177.292 1217.33 180.487 1220.01 Q183.681 1222.7 183.681 1227.19 Q183.681 1229.32 182.871 1231.24 Q182.084 1233.14 179.977 1235.73 Q179.399 1236.4 176.297 1239.62 Q173.195 1242.82 167.547 1248.58 Z\" fill=\"#000000\" fill-rule=\"evenodd\" fill-opacity=\"1\" /><path clip-path=\"url(#clip510)\" d=\"M 0 0 M126.205 958.676 Q122.593 958.676 120.765 962.241 Q118.959 965.783 118.959 972.912 Q118.959 980.019 120.765 983.584 Q122.593 987.125 126.205 987.125 Q129.839 987.125 131.644 983.584 Q133.473 980.019 133.473 972.912 Q133.473 965.783 131.644 962.241 Q129.839 958.676 126.205 958.676 M126.205 954.973 Q132.015 954.973 135.07 959.579 Q138.149 964.162 138.149 972.912 Q138.149 981.639 135.07 986.246 Q132.015 990.829 126.205 990.829 Q120.394 990.829 117.316 986.246 Q114.26 981.639 114.26 972.912 Q114.26 964.162 117.316 959.579 Q120.394 954.973 126.205 954.973 Z\" fill=\"#000000\" fill-rule=\"evenodd\" fill-opacity=\"1\" /><path clip-path=\"url(#clip510)\" d=\"M 0 0 M146.366 984.278 L151.251 984.278 L151.251 990.158 L146.366 990.158 L146.366 984.278 Z\" fill=\"#000000\" fill-rule=\"evenodd\" fill-opacity=\"1\" /><path clip-path=\"url(#clip510)\" d=\"M 0 0 M174.283 959.672 L162.477 978.121 L174.283 978.121 L174.283 959.672 M173.056 955.598 L178.936 955.598 L178.936 978.121 L183.866 978.121 L183.866 982.009 L178.936 982.009 L178.936 990.158 L174.283 990.158 L174.283 982.009 L158.681 982.009 L158.681 977.496 L173.056 955.598 Z\" fill=\"#000000\" fill-rule=\"evenodd\" fill-opacity=\"1\" /><path clip-path=\"url(#clip510)\" d=\"M 0 0 M126.529 696.32 Q122.918 696.32 121.089 699.885 Q119.283 703.426 119.283 710.556 Q119.283 717.662 121.089 721.227 Q122.918 724.769 126.529 724.769 Q130.163 724.769 131.968 721.227 Q133.797 717.662 133.797 710.556 Q133.797 703.426 131.968 699.885 Q130.163 696.32 126.529 696.32 M126.529 692.616 Q132.339 692.616 135.394 697.223 Q138.473 701.806 138.473 710.556 Q138.473 719.283 135.394 723.889 Q132.339 728.472 126.529 728.472 Q120.718 728.472 117.64 723.889 Q114.584 719.283 114.584 710.556 Q114.584 701.806 117.64 697.223 Q120.718 692.616 126.529 692.616 Z\" fill=\"#000000\" fill-rule=\"evenodd\" fill-opacity=\"1\" /><path clip-path=\"url(#clip510)\" d=\"M 0 0 M146.691 721.922 L151.575 721.922 L151.575 727.801 L146.691 727.801 L146.691 721.922 Z\" fill=\"#000000\" fill-rule=\"evenodd\" fill-opacity=\"1\" /><path clip-path=\"url(#clip510)\" d=\"M 0 0 M172.339 708.658 Q169.19 708.658 167.339 710.81 Q165.51 712.963 165.51 716.713 Q165.51 720.44 167.339 722.616 Q169.19 724.769 172.339 724.769 Q175.487 724.769 177.315 722.616 Q179.167 720.44 179.167 716.713 Q179.167 712.963 177.315 710.81 Q175.487 708.658 172.339 708.658 M181.621 694.005 L181.621 698.264 Q179.862 697.431 178.056 696.991 Q176.274 696.551 174.514 696.551 Q169.885 696.551 167.431 699.676 Q165.001 702.801 164.653 709.121 Q166.019 707.107 168.079 706.042 Q170.139 704.954 172.616 704.954 Q177.825 704.954 180.834 708.125 Q183.866 711.273 183.866 716.713 Q183.866 722.037 180.718 725.255 Q177.57 728.472 172.339 728.472 Q166.343 728.472 163.172 723.889 Q160.001 719.283 160.001 710.556 Q160.001 702.361 163.89 697.5 Q167.778 692.616 174.329 692.616 Q176.089 692.616 177.871 692.963 Q179.676 693.311 181.621 694.005 Z\" fill=\"#000000\" fill-rule=\"evenodd\" fill-opacity=\"1\" /><path clip-path=\"url(#clip510)\" d=\"M 0 0 M126.783 433.963 Q123.172 433.963 121.343 437.528 Q119.538 441.07 119.538 448.199 Q119.538 455.306 121.343 458.871 Q123.172 462.412 126.783 462.412 Q130.417 462.412 132.223 458.871 Q134.052 455.306 134.052 448.199 Q134.052 441.07 132.223 437.528 Q130.417 433.963 126.783 433.963 M126.783 430.26 Q132.593 430.26 135.649 434.866 Q138.728 439.449 138.728 448.199 Q138.728 456.926 135.649 461.533 Q132.593 466.116 126.783 466.116 Q120.973 466.116 117.894 461.533 Q114.839 456.926 114.839 448.199 Q114.839 439.449 117.894 434.866 Q120.973 430.26 126.783 430.26 Z\" fill=\"#000000\" fill-rule=\"evenodd\" fill-opacity=\"1\" /><path clip-path=\"url(#clip510)\" d=\"M 0 0 M146.945 459.565 L151.829 459.565 L151.829 465.445 L146.945 465.445 L146.945 459.565 Z\" fill=\"#000000\" fill-rule=\"evenodd\" fill-opacity=\"1\" /><path clip-path=\"url(#clip510)\" d=\"M 0 0 M172.014 449.033 Q168.681 449.033 166.76 450.815 Q164.862 452.597 164.862 455.722 Q164.862 458.847 166.76 460.63 Q168.681 462.412 172.014 462.412 Q175.348 462.412 177.269 460.63 Q179.19 458.824 179.19 455.722 Q179.19 452.597 177.269 450.815 Q175.371 449.033 172.014 449.033 M167.339 447.042 Q164.329 446.301 162.64 444.241 Q160.973 442.181 160.973 439.218 Q160.973 435.074 163.913 432.667 Q166.876 430.26 172.014 430.26 Q177.176 430.26 180.116 432.667 Q183.056 435.074 183.056 439.218 Q183.056 442.181 181.366 444.241 Q179.7 446.301 176.714 447.042 Q180.093 447.829 181.968 450.121 Q183.866 452.412 183.866 455.722 Q183.866 460.746 180.788 463.431 Q177.732 466.116 172.014 466.116 Q166.297 466.116 163.218 463.431 Q160.163 460.746 160.163 455.722 Q160.163 452.412 162.061 450.121 Q163.959 447.829 167.339 447.042 M165.626 439.658 Q165.626 442.343 167.292 443.848 Q168.982 445.352 172.014 445.352 Q175.024 445.352 176.714 443.848 Q178.426 442.343 178.426 439.658 Q178.426 436.973 176.714 435.468 Q175.024 433.963 172.014 433.963 Q168.982 433.963 167.292 435.468 Q165.626 436.973 165.626 439.658 Z\" fill=\"#000000\" fill-rule=\"evenodd\" fill-opacity=\"1\" /><path clip-path=\"url(#clip510)\" d=\"M 0 0 M117.501 199.153 L125.14 199.153 L125.14 172.787 L116.83 174.454 L116.83 170.195 L125.093 168.528 L129.769 168.528 L129.769 199.153 L137.408 199.153 L137.408 203.088 L117.501 203.088 L117.501 199.153 Z\" fill=\"#000000\" fill-rule=\"evenodd\" fill-opacity=\"1\" /><path clip-path=\"url(#clip510)\" d=\"M 0 0 M146.853 197.209 L151.737 197.209 L151.737 203.088 L146.853 203.088 L146.853 197.209 Z\" fill=\"#000000\" fill-rule=\"evenodd\" fill-opacity=\"1\" /><path clip-path=\"url(#clip510)\" d=\"M 0 0 M171.922 171.607 Q168.311 171.607 166.482 175.172 Q164.677 178.713 164.677 185.843 Q164.677 192.949 166.482 196.514 Q168.311 200.056 171.922 200.056 Q175.556 200.056 177.362 196.514 Q179.19 192.949 179.19 185.843 Q179.19 178.713 177.362 175.172 Q175.556 171.607 171.922 171.607 M171.922 167.903 Q177.732 167.903 180.788 172.51 Q183.866 177.093 183.866 185.843 Q183.866 194.57 180.788 199.176 Q177.732 203.759 171.922 203.759 Q166.112 203.759 163.033 199.176 Q159.978 194.57 159.978 185.843 Q159.978 177.093 163.033 172.51 Q166.112 167.903 171.922 167.903 Z\" fill=\"#000000\" fill-rule=\"evenodd\" fill-opacity=\"1\" /><path clip-path=\"url(#clip510)\" d=\"M 0 0 M14.479 751.031 L14.479 745.142 L43.7294 745.142 L28.3562 727.669 L28.3562 720.189 L45.0344 739.095 L64.0042 719.393 L64.0042 727.032 L46.5939 745.142 L64.0042 745.142 L64.0042 751.031 L14.479 751.031 Z\" fill=\"#000000\" fill-rule=\"evenodd\" fill-opacity=\"1\" /><polyline clip-path=\"url(#clip512)\" style=\"stroke:#009af9; stroke-width:4; stroke-opacity:1; fill:none\" points=\"\n",
       "  280.231,364.222 300.556,350.001 320.881,336.375 341.206,323.318 361.53,310.796 381.855,298.789 402.18,287.272 422.505,276.224 442.83,265.625 463.155,255.458 \n",
       "  483.48,245.705 503.804,236.351 524.129,227.382 544.454,218.783 564.779,210.543 585.104,202.648 605.429,195.089 625.753,187.854 646.078,180.934 666.403,174.32 \n",
       "  686.728,168.001 707.053,161.971 727.378,156.221 747.703,150.744 768.027,145.533 788.352,140.58 808.677,135.88 829.002,131.426 849.327,127.213 869.652,123.234 \n",
       "  889.977,119.485 910.301,115.961 930.626,112.656 950.951,109.566 971.276,106.687 991.601,104.013 1011.93,101.542 1032.25,99.269 1052.58,97.1902 1072.9,95.3019 \n",
       "  1093.23,93.6007 1113.55,92.0832 1133.87,90.7462 1154.2,89.5863 1174.52,88.6006 1194.85,87.7862 1215.17,87.1403 1235.5,86.6599 1255.82,86.3426 1276.15,86.1857 \n",
       "  1296.47,86.1867 1316.8,86.3433 1337.12,86.653 1357.45,87.1136 1377.77,87.723 1398.1,88.479 1418.42,89.3795 1438.75,90.4225 1459.07,91.6061 1479.4,92.9283 \n",
       "  1499.72,94.3874 1520.05,95.9814 1540.37,97.7088 1560.7,99.5677 1581.02,101.557 1601.35,103.674 1621.67,105.918 1642,108.287 1662.32,110.78 1682.65,113.395 \n",
       "  1702.97,116.131 1723.3,118.987 1743.62,121.96 1763.95,125.051 1784.27,128.257 1804.59,131.577 1824.92,135.01 1845.24,138.556 1865.57,142.212 1885.89,145.977 \n",
       "  1906.22,149.851 1926.54,153.832 1946.87,157.92 1967.19,162.112 1987.52,166.409 2007.84,170.809 2028.17,175.311 2048.49,179.915 2068.82,184.618 2089.14,189.421 \n",
       "  2109.47,194.323 2129.79,199.322 2150.12,204.418 2170.44,209.609 2190.77,214.896 2211.09,220.277 2231.42,225.751 2251.74,231.317 2272.07,236.976 2292.39,242.726 \n",
       "  \n",
       "  \"/>\n",
       "<polyline clip-path=\"url(#clip512)\" style=\"stroke:#e26f46; stroke-width:4; stroke-opacity:1; fill:none\" points=\"\n",
       "  280.231,1384.24 300.556,1377.64 320.881,1370.93 341.206,1364.12 361.53,1357.2 381.855,1350.17 402.18,1343.05 422.505,1335.82 442.83,1328.49 463.155,1321.07 \n",
       "  483.48,1313.55 503.804,1305.95 524.129,1298.24 544.454,1290.45 564.779,1282.57 585.104,1274.6 605.429,1266.55 625.753,1258.41 646.078,1250.18 666.403,1241.88 \n",
       "  686.728,1233.49 707.053,1225.02 727.378,1216.47 747.703,1207.84 768.027,1199.14 788.352,1190.35 808.677,1181.49 829.002,1172.56 849.327,1163.55 869.652,1154.47 \n",
       "  889.977,1145.32 910.301,1136.09 930.626,1126.8 950.951,1117.43 971.276,1107.99 991.601,1098.48 1011.93,1088.91 1032.25,1079.27 1052.58,1069.56 1072.9,1059.78 \n",
       "  1093.23,1049.94 1113.55,1040.03 1133.87,1030.06 1154.2,1020.02 1174.52,1009.92 1194.85,999.759 1215.17,989.533 1235.5,979.245 1255.82,968.895 1276.15,958.484 \n",
       "  1296.47,948.013 1316.8,937.481 1337.12,926.889 1357.45,916.239 1377.77,905.529 1398.1,894.761 1418.42,883.935 1438.75,873.051 1459.07,862.11 1479.4,851.113 \n",
       "  1499.72,840.058 1520.05,828.948 1540.37,817.782 1560.7,806.561 1581.02,795.285 1601.35,783.955 1621.67,772.57 1642,761.131 1662.32,749.639 1682.65,738.093 \n",
       "  1702.97,726.495 1723.3,714.844 1743.62,703.141 1763.95,691.386 1784.27,679.579 1804.59,667.721 1824.92,655.811 1845.24,643.851 1865.57,631.841 1885.89,619.78 \n",
       "  1906.22,607.67 1926.54,595.509 1946.87,583.3 1967.19,571.041 1987.52,558.734 2007.84,546.377 2028.17,533.973 2048.49,521.52 2068.82,509.02 2089.14,496.472 \n",
       "  2109.47,483.877 2129.79,471.234 2150.12,458.545 2170.44,445.809 2190.77,433.026 2211.09,420.197 2231.42,407.323 2251.74,394.402 2272.07,381.436 2292.39,368.425 \n",
       "  \n",
       "  \"/>\n",
       "<path clip-path=\"url(#clip510)\" d=\"\n",
       "M1992.24 274.549 L2281.66 274.549 L2281.66 93.1086 L1992.24 93.1086  Z\n",
       "  \" fill=\"#ffffff\" fill-rule=\"evenodd\" fill-opacity=\"1\"/>\n",
       "<polyline clip-path=\"url(#clip510)\" style=\"stroke:#000000; stroke-width:4; stroke-opacity:1; fill:none\" points=\"\n",
       "  1992.24,274.549 2281.66,274.549 2281.66,93.1086 1992.24,93.1086 1992.24,274.549 \n",
       "  \"/>\n",
       "<polyline clip-path=\"url(#clip510)\" style=\"stroke:#009af9; stroke-width:4; stroke-opacity:1; fill:none\" points=\"\n",
       "  2015.94,153.589 2158.13,153.589 \n",
       "  \"/>\n",
       "<path clip-path=\"url(#clip510)\" d=\"M 0 0 M2195.67 173.276 Q2193.87 177.906 2192.16 179.318 Q2190.44 180.73 2187.57 180.73 L2184.17 180.73 L2184.17 177.165 L2186.67 177.165 Q2188.43 177.165 2189.4 176.332 Q2190.37 175.498 2191.55 172.396 L2192.32 170.452 L2181.83 144.943 L2186.35 144.943 L2194.45 165.221 L2202.55 144.943 L2207.06 144.943 L2195.67 173.276 Z\" fill=\"#000000\" fill-rule=\"evenodd\" fill-opacity=\"1\" /><path clip-path=\"url(#clip510)\" d=\"M 0 0 M2214.35 166.933 L2221.99 166.933 L2221.99 140.568 L2213.68 142.235 L2213.68 137.975 L2221.95 136.309 L2226.62 136.309 L2226.62 166.933 L2234.26 166.933 L2234.26 170.869 L2214.35 170.869 L2214.35 166.933 Z\" fill=\"#000000\" fill-rule=\"evenodd\" fill-opacity=\"1\" /><polyline clip-path=\"url(#clip510)\" style=\"stroke:#e26f46; stroke-width:4; stroke-opacity:1; fill:none\" points=\"\n",
       "  2015.94,214.069 2158.13,214.069 \n",
       "  \"/>\n",
       "<path clip-path=\"url(#clip510)\" d=\"M 0 0 M2195.67 233.756 Q2193.87 238.386 2192.16 239.798 Q2190.44 241.21 2187.57 241.21 L2184.17 241.21 L2184.17 237.645 L2186.67 237.645 Q2188.43 237.645 2189.4 236.812 Q2190.37 235.978 2191.55 232.876 L2192.32 230.932 L2181.83 205.423 L2186.35 205.423 L2194.45 225.701 L2202.55 205.423 L2207.06 205.423 L2195.67 233.756 Z\" fill=\"#000000\" fill-rule=\"evenodd\" fill-opacity=\"1\" /><path clip-path=\"url(#clip510)\" d=\"M 0 0 M2217.57 227.413 L2233.89 227.413 L2233.89 231.349 L2211.95 231.349 L2211.95 227.413 Q2214.61 224.659 2219.19 220.029 Q2223.8 215.376 2224.98 214.034 Q2227.23 211.511 2228.1 209.775 Q2229.01 208.015 2229.01 206.326 Q2229.01 203.571 2227.06 201.835 Q2225.14 200.099 2222.04 200.099 Q2219.84 200.099 2217.39 200.863 Q2214.96 201.627 2212.18 203.177 L2212.18 198.455 Q2215 197.321 2217.46 196.742 Q2219.91 196.164 2221.95 196.164 Q2227.32 196.164 2230.51 198.849 Q2233.71 201.534 2233.71 206.025 Q2233.71 208.154 2232.9 210.076 Q2232.11 211.974 2230 214.566 Q2229.42 215.238 2226.32 218.455 Q2223.22 221.65 2217.57 227.413 Z\" fill=\"#000000\" fill-rule=\"evenodd\" fill-opacity=\"1\" /></svg>\n"
      ]
     },
     "execution_count": 124,
     "metadata": {},
     "output_type": "execute_result"
    }
   ],
   "source": [
    "pl = plot(svec, cvec;xlabel=\"s\", ylabel=\"c\")\n",
    "plot!(pl, svec, ivec;xlabel=\"s\", ylabel=\"k\")"
   ]
  },
  {
   "cell_type": "markdown",
   "id": "dab78d98",
   "metadata": {},
   "source": [
    "__(Bonus) Suppose an agent is given the intertemporal utility from the Ramsey–Cass–Koopmans model see exercise 2) but chooses saving rate once for all. Which saving rate would one choose to maximize intertemporal utility? Is it the same for all initial levels of capital?__\n",
    "\n"
   ]
  },
  {
   "cell_type": "code",
   "execution_count": null,
   "id": "e520ef14",
   "metadata": {},
   "outputs": [],
   "source": []
  },
  {
   "cell_type": "markdown",
   "id": "d84f1662",
   "metadata": {},
   "source": [
    "## Deterministic Neoclassical Model: bruteforce"
   ]
  },
  {
   "cell_type": "markdown",
   "id": "3184364c",
   "metadata": {},
   "source": [
    "In the Ramsey–Cass–Koopmans  model (also called neoclassical growth model), a representative agent chooses $c_t$ in every period so as to maximize an intertemporal utility like $\\sum_{t \\geq 0} \\beta^t U(c_t)$ where $\\beta \\in [0,1[$ is a time discount and $U(x)=\\frac{x^{1-\\gamma}}{1-\\gamma}$ is the instantaneous felicity."
   ]
  },
  {
   "cell_type": "markdown",
   "id": "7511f861",
   "metadata": {},
   "source": [
    "The setup is exactly the same as in the the Solow model form session 3, but now we look for a time-dependent saving rule, that is a different $s_t \\in [0,1[$ for each date. We will try to choose $s_t$ to maximize\n",
    "\n",
    "$$\\sum_{t = 0}^T \\beta^t U(c_t) + \\sum_{t = T+1}^{\\infty} \\beta^t U(c_T) $$\n",
    "\n",
    "\n",
    "We need to choose vector $\\mathbf{s} = (s_0, s_1, ... s_T)$ to maximize intertemporal utility. We can assume $\\forall t>T s_t= s_T$\n",
    "\n",
    "\n",
    "In this exercise, we want to define a function `objective(s::AbstractVector)` and maximize objective numerically using a numerical optimization algorithm.\n",
    "\n",
    "\n",
    "__Explain why the second term is important__"
   ]
  },
  {
   "cell_type": "code",
   "execution_count": null,
   "id": "0f3569cd",
   "metadata": {},
   "outputs": [],
   "source": []
  },
  {
   "cell_type": "markdown",
   "id": "c313a514",
   "metadata": {},
   "source": [
    "__Choose an horizon $T$ and write a function `objective(s::AbstractVector, k0::Float64, T::Int, p::Dict{Symbol, Float64})` to compute the objective approximated with $T$ periods as a function of initial state `k0::Float64` and of the vector of saving rates `s::Vector` representing $(s_0, s_1, \\cdots s_{T})$. Note that argument type of `s` is left unspecified to make it compatible with automatic differentiation.__"
   ]
  },
  {
   "cell_type": "code",
   "execution_count": null,
   "id": "26431467",
   "metadata": {},
   "outputs": [],
   "source": [
    "objective(s; k0, ....)\n",
    "G  = ForwardDiff.gradient(u->objective(u, k0, ....), )"
   ]
  },
  {
   "cell_type": "markdown",
   "id": "076a7b6f",
   "metadata": {},
   "source": [
    "__Use library `Optim.jl` to maximize the utility function. If possible, find a way to specify exact derivatives of the objective function.__"
   ]
  },
  {
   "cell_type": "code",
   "execution_count": null,
   "id": "2b7ee1e1",
   "metadata": {},
   "outputs": [],
   "source": []
  }
 ],
 "metadata": {
  "kernelspec": {
   "display_name": "Julia 1.6.1",
   "language": "julia",
   "name": "julia-1.6"
  },
  "language_info": {
   "file_extension": ".jl",
   "mimetype": "application/julia",
   "name": "julia",
   "version": "1.6.1"
  }
 },
 "nbformat": 4,
 "nbformat_minor": 5
}
