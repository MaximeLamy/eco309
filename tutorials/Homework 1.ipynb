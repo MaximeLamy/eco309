{
 "cells": [
  {
   "cell_type": "markdown",
   "id": "f513fb83",
   "metadata": {},
   "source": [
    "# Homework 1\n",
    "\n",
    "First name:\n",
    "\n",
    "Last name:\n",
    "\n",
    "\n",
    "---\n",
    "\n",
    "The two exercises follow each other.\n",
    "\n",
    "You will probably need to use an optimization library (like `Optim.jl`) and a differentiation library (`Forward.jl` or `Zygote.jl`) as well as a plotting library (`Plots.jl` or `SimplePlots.jl`) but feel free to install other libraries you might find useful.\n",
    "\n",
    "You must send me your work before May 16th. You can send it on zulip or to `pwinant@escp.eu` with subject starting by `[eco309]`.\n",
    "\n",
    "Don't hesitate to ask questions or help each other. Copying/pasting code is forbidden though.\n",
    "\n",
    "---"
   ]
  },
  {
   "cell_type": "code",
   "execution_count": 1,
   "id": "9fa8617d-4c2e-4741-8831-dc3e70a554c7",
   "metadata": {},
   "outputs": [],
   "source": [
    "using Plots"
   ]
  },
  {
   "cell_type": "markdown",
   "id": "708a5d3f",
   "metadata": {
    "tags": []
   },
   "source": [
    "## Solow model\n",
    "\n",
    "This model tries to explain long-term growth, its relation to productivity, population growth and the speed of convergence.\n",
    "\n",
    "The setup is the following:\n",
    "\n",
    "- a country accumulates capital $k_t$\n",
    "- population $n_t$ grows at rate $g$ (so that $n_{t+1}=g n_t$)\n",
    "- capital and labour are combined to produce $y_t = A F(k_t, n_t)$ where $A>0$ is total factor productivity.\n",
    "- capital depreciates at rate $\\delta \\in ]0,1[$. Its law of motion is $k_{t+1}=(1-\\delta)k_{t}+i_{t}$ where $i_t$ is the amount invested at time $t$\n",
    "- production is either consumed or invested: $y_t = c_t + i_t$\n",
    "\n",
    "We choose a Cobb-Douglas specification with constant returns to scale $F(k_t, n_t) = k_t^{\\alpha} n_t^{1-\\alpha}$.\n",
    "\n",
    "\n",
    "Here we follow the Solow-Swan specification and make the simplifying assumption that there is a fixed fraction $s\\in[0,1[$ of income, which is saved and invested in every period. In other words investment (or savings) is given by:\n",
    "\n",
    "$$i_t = s y_t$$\n",
    "\n",
    "As a result, the dynamic of capital and all other variables will be backward looking and can be simulated easily."
   ]
  },
  {
   "cell_type": "markdown",
   "id": "f348f3ab",
   "metadata": {},
   "source": [
    "__Create a dictionary to hold parameter values.__\n",
    "\n",
    " (note: such a dictionary can be defined as `p = Dict(:a=>0.9, :b=>4)` and accessed with brackets `p[:a]` or `p[:b]`) (note2: symbols like `:a` or `:b` are lightweight string. The content must be a valid julia identifier so that it is valid to write `a=p[:a]`)"
   ]
  },
  {
   "cell_type": "code",
   "execution_count": 613,
   "id": "cac215e7",
   "metadata": {},
   "outputs": [
    {
     "data": {
      "text/plain": [
       "Dict{Symbol, Float64} with 6 entries:\n",
       "  :α => 0.3\n",
       "  :A => 1.0\n",
       "  :s => 0.2\n",
       "  :δ => 0.1\n",
       "  :g => 1.0\n",
       "  :β => 0.96"
      ]
     },
     "execution_count": 613,
     "metadata": {},
     "output_type": "execute_result"
    }
   ],
   "source": [
    "# We'll create a dictionary of parameters\n",
    "p = Dict(\n",
    "    :A=> 1.0,\n",
    "    :α=>0.3, # capital share (30%)\n",
    "    :β=>0.96, # (1/r): 1/1.04\n",
    "    :δ=>0.1,  # depreciation rate of capital: literature\n",
    "    :g=>1.0, # growth rate of population: Census\n",
    "    :s=>0.2   # saving rate from national accounts (Y-C)/Y\n",
    ")"
   ]
  },
  {
   "cell_type": "markdown",
   "id": "fbdc0676",
   "metadata": {},
   "source": [
    "__Detrend the equations of the model w.r.t. population growth. Denote the detrended variables with a hat (in the code we assume all variables are detrended and ignore the hat).__"
   ]
  },
  {
   "cell_type": "markdown",
   "id": "097bca17",
   "metadata": {},
   "source": []
  },
  {
   "cell_type": "markdown",
   "id": "42cd2f77",
   "metadata": {},
   "source": [
    "Our goal is to compute the steady-state and assess its stability.\n",
    "\n",
    "__Compute a function `f` which returns the capital $\\hat{k}_{t+1}$ as a function of $\\hat{k_t}$. It is suggested to define `f(k::Float64, p::Dict{Symbol, Float64})` where `p` is a dictionary of parameters.__"
   ]
  },
  {
   "cell_type": "code",
   "execution_count": 614,
   "id": "2e98c88d-765b-4b92-9e07-b2b23381e2f1",
   "metadata": {},
   "outputs": [
    {
     "data": {
      "text/plain": [
       "f (generic function with 2 methods)"
      ]
     },
     "execution_count": 614,
     "metadata": {},
     "output_type": "execute_result"
    }
   ],
   "source": [
    "function f(k  ; p::Dict{Symbol, Float64})\n",
    "    y = p[:A]*k^(p[:α])\n",
    "    i = p[:s]*y\n",
    "    K = ((1-p[:δ])*k + i)/p[:g]\n",
    "    return K\n",
    "end"
   ]
  },
  {
   "cell_type": "code",
   "execution_count": 615,
   "id": "22fb2808-d90e-4dea-b71f-9215d1bbe694",
   "metadata": {},
   "outputs": [
    {
     "data": {
      "text/plain": [
       "4.824131319338552"
      ]
     },
     "execution_count": 615,
     "metadata": {},
     "output_type": "execute_result"
    }
   ],
   "source": [
    "f(5; p=p)"
   ]
  },
  {
   "cell_type": "markdown",
   "id": "c0f9ae18",
   "metadata": {},
   "source": [
    "__Starting from an initial level $\\hat{k}_0$ compute successive iterates of `f` to find the long-run level $\\overline{k}$ of capital per capita. (Bonus: produce a nice plot of the convergence)__"
   ]
  },
  {
   "cell_type": "code",
   "execution_count": 616,
   "id": "164af01c",
   "metadata": {},
   "outputs": [
    {
     "data": {
      "text/plain": [
       "simulate (generic function with 2 methods)"
      ]
     },
     "execution_count": 616,
     "metadata": {},
     "output_type": "execute_result"
    }
   ],
   "source": [
    "function simulate(k0, p, T=100)\n",
    "    ksim = [k0]\n",
    "    for t=1:T\n",
    "        k = ksim[end]\n",
    "        K = f(k; p=p)\n",
    "        push!(ksim, K)\n",
    "    end\n",
    "    return ksim\n",
    "end\n"
   ]
  },
  {
   "cell_type": "code",
   "execution_count": 617,
   "id": "1f81e68d-efc6-415c-a024-346ace199679",
   "metadata": {},
   "outputs": [],
   "source": [
    "sim = simulate(0.5, p, 100);"
   ]
  },
  {
   "cell_type": "code",
   "execution_count": 618,
   "id": "2e9e94ba-de0c-4e61-90a9-1c7ca5d60c6d",
   "metadata": {},
   "outputs": [],
   "source": [
    "using Plots"
   ]
  },
  {
   "cell_type": "code",
   "execution_count": 619,
   "id": "b0c307e2-6ef8-488a-9074-87c8de99a61a",
   "metadata": {},
   "outputs": [],
   "source": [
    "kvec = range(0.0, 6; length=100)\n",
    "fvec = f.(kvec; p);"
   ]
  },
  {
   "cell_type": "code",
   "execution_count": 620,
   "id": "679fc187-22d8-4d77-9680-9f6e215e9d7a",
   "metadata": {},
   "outputs": [],
   "source": [
    "hz_segments = [ ( (a, b)) for (a,b) in zip(sim[1:end-1], sim[2:end])];"
   ]
  },
  {
   "cell_type": "code",
   "execution_count": 621,
   "id": "c425e734-e213-41d3-95a8-e03a5e675e87",
   "metadata": {},
   "outputs": [
    {
     "data": {
      "image/svg+xml": [
       "<?xml version=\"1.0\" encoding=\"utf-8\"?>\n",
       "<svg xmlns=\"http://www.w3.org/2000/svg\" xmlns:xlink=\"http://www.w3.org/1999/xlink\" width=\"600\" height=\"400\" viewBox=\"0 0 2400 1600\">\n",
       "<defs>\n",
       "  <clipPath id=\"clip920\">\n",
       "    <rect x=\"0\" y=\"0\" width=\"2400\" height=\"1600\"/>\n",
       "  </clipPath>\n",
       "</defs>\n",
       "<path clip-path=\"url(#clip920)\" d=\"\n",
       "M0 1600 L2400 1600 L2400 0 L0 0  Z\n",
       "  \" fill=\"#ffffff\" fill-rule=\"evenodd\" fill-opacity=\"1\"/>\n",
       "<defs>\n",
       "  <clipPath id=\"clip921\">\n",
       "    <rect x=\"480\" y=\"0\" width=\"1681\" height=\"1600\"/>\n",
       "  </clipPath>\n",
       "</defs>\n",
       "<path clip-path=\"url(#clip920)\" d=\"\n",
       "M112.177 1486.45 L2352.76 1486.45 L2352.76 47.2441 L112.177 47.2441  Z\n",
       "  \" fill=\"#ffffff\" fill-rule=\"evenodd\" fill-opacity=\"1\"/>\n",
       "<defs>\n",
       "  <clipPath id=\"clip922\">\n",
       "    <rect x=\"112\" y=\"47\" width=\"2242\" height=\"1440\"/>\n",
       "  </clipPath>\n",
       "</defs>\n",
       "<polyline clip-path=\"url(#clip922)\" style=\"stroke:#000000; stroke-width:2; stroke-opacity:0.1; fill:none\" points=\"\n",
       "  175.59,1486.45 175.59,47.2441 \n",
       "  \"/>\n",
       "<polyline clip-path=\"url(#clip922)\" style=\"stroke:#000000; stroke-width:2; stroke-opacity:0.1; fill:none\" points=\"\n",
       "  527.882,1486.45 527.882,47.2441 \n",
       "  \"/>\n",
       "<polyline clip-path=\"url(#clip922)\" style=\"stroke:#000000; stroke-width:2; stroke-opacity:0.1; fill:none\" points=\"\n",
       "  880.174,1486.45 880.174,47.2441 \n",
       "  \"/>\n",
       "<polyline clip-path=\"url(#clip922)\" style=\"stroke:#000000; stroke-width:2; stroke-opacity:0.1; fill:none\" points=\"\n",
       "  1232.47,1486.45 1232.47,47.2441 \n",
       "  \"/>\n",
       "<polyline clip-path=\"url(#clip922)\" style=\"stroke:#000000; stroke-width:2; stroke-opacity:0.1; fill:none\" points=\"\n",
       "  1584.76,1486.45 1584.76,47.2441 \n",
       "  \"/>\n",
       "<polyline clip-path=\"url(#clip922)\" style=\"stroke:#000000; stroke-width:2; stroke-opacity:0.1; fill:none\" points=\"\n",
       "  1937.05,1486.45 1937.05,47.2441 \n",
       "  \"/>\n",
       "<polyline clip-path=\"url(#clip922)\" style=\"stroke:#000000; stroke-width:2; stroke-opacity:0.1; fill:none\" points=\"\n",
       "  2289.34,1486.45 2289.34,47.2441 \n",
       "  \"/>\n",
       "<polyline clip-path=\"url(#clip920)\" style=\"stroke:#000000; stroke-width:4; stroke-opacity:1; fill:none\" points=\"\n",
       "  112.177,1486.45 2352.76,1486.45 \n",
       "  \"/>\n",
       "<polyline clip-path=\"url(#clip920)\" style=\"stroke:#000000; stroke-width:4; stroke-opacity:1; fill:none\" points=\"\n",
       "  175.59,1486.45 175.59,1469.18 \n",
       "  \"/>\n",
       "<polyline clip-path=\"url(#clip920)\" style=\"stroke:#000000; stroke-width:4; stroke-opacity:1; fill:none\" points=\"\n",
       "  527.882,1486.45 527.882,1469.18 \n",
       "  \"/>\n",
       "<polyline clip-path=\"url(#clip920)\" style=\"stroke:#000000; stroke-width:4; stroke-opacity:1; fill:none\" points=\"\n",
       "  880.174,1486.45 880.174,1469.18 \n",
       "  \"/>\n",
       "<polyline clip-path=\"url(#clip920)\" style=\"stroke:#000000; stroke-width:4; stroke-opacity:1; fill:none\" points=\"\n",
       "  1232.47,1486.45 1232.47,1469.18 \n",
       "  \"/>\n",
       "<polyline clip-path=\"url(#clip920)\" style=\"stroke:#000000; stroke-width:4; stroke-opacity:1; fill:none\" points=\"\n",
       "  1584.76,1486.45 1584.76,1469.18 \n",
       "  \"/>\n",
       "<polyline clip-path=\"url(#clip920)\" style=\"stroke:#000000; stroke-width:4; stroke-opacity:1; fill:none\" points=\"\n",
       "  1937.05,1486.45 1937.05,1469.18 \n",
       "  \"/>\n",
       "<polyline clip-path=\"url(#clip920)\" style=\"stroke:#000000; stroke-width:4; stroke-opacity:1; fill:none\" points=\"\n",
       "  2289.34,1486.45 2289.34,1469.18 \n",
       "  \"/>\n",
       "<path clip-path=\"url(#clip920)\" d=\"M 0 0 M175.59 1515.64 Q171.979 1515.64 170.15 1519.2 Q168.344 1522.75 168.344 1529.87 Q168.344 1536.98 170.15 1540.55 Q171.979 1544.09 175.59 1544.09 Q179.224 1544.09 181.03 1540.55 Q182.858 1536.98 182.858 1529.87 Q182.858 1522.75 181.03 1519.2 Q179.224 1515.64 175.59 1515.64 M175.59 1511.93 Q181.4 1511.93 184.455 1516.54 Q187.534 1521.12 187.534 1529.87 Q187.534 1538.6 184.455 1543.21 Q181.4 1547.79 175.59 1547.79 Q169.78 1547.79 166.701 1543.21 Q163.645 1538.6 163.645 1529.87 Q163.645 1521.12 166.701 1516.54 Q169.78 1511.93 175.59 1511.93 Z\" fill=\"#000000\" fill-rule=\"evenodd\" fill-opacity=\"1\" /><path clip-path=\"url(#clip920)\" d=\"M 0 0 M518.264 1543.18 L525.903 1543.18 L525.903 1516.82 L517.593 1518.49 L517.593 1514.23 L525.857 1512.56 L530.532 1512.56 L530.532 1543.18 L538.171 1543.18 L538.171 1547.12 L518.264 1547.12 L518.264 1543.18 Z\" fill=\"#000000\" fill-rule=\"evenodd\" fill-opacity=\"1\" /><path clip-path=\"url(#clip920)\" d=\"M 0 0 M874.827 1543.18 L891.146 1543.18 L891.146 1547.12 L869.202 1547.12 L869.202 1543.18 Q871.864 1540.43 876.447 1535.8 Q881.054 1531.15 882.234 1529.81 Q884.48 1527.28 885.359 1525.55 Q886.262 1523.79 886.262 1522.1 Q886.262 1519.34 884.318 1517.61 Q882.396 1515.87 879.295 1515.87 Q877.096 1515.87 874.642 1516.63 Q872.211 1517.4 869.434 1518.95 L869.434 1514.23 Q872.258 1513.09 874.711 1512.51 Q877.165 1511.93 879.202 1511.93 Q884.572 1511.93 887.767 1514.62 Q890.961 1517.31 890.961 1521.8 Q890.961 1523.93 890.151 1525.85 Q889.364 1527.74 887.258 1530.34 Q886.679 1531.01 883.577 1534.23 Q880.475 1537.42 874.827 1543.18 Z\" fill=\"#000000\" fill-rule=\"evenodd\" fill-opacity=\"1\" /><path clip-path=\"url(#clip920)\" d=\"M 0 0 M1236.71 1528.49 Q1240.07 1529.2 1241.95 1531.47 Q1243.84 1533.74 1243.84 1537.07 Q1243.84 1542.19 1240.33 1544.99 Q1236.81 1547.79 1230.33 1547.79 Q1228.15 1547.79 1225.83 1547.35 Q1223.54 1546.93 1221.09 1546.08 L1221.09 1541.56 Q1223.03 1542.7 1225.35 1543.28 Q1227.66 1543.86 1230.19 1543.86 Q1234.58 1543.86 1236.88 1542.12 Q1239.19 1540.38 1239.19 1537.07 Q1239.19 1534.02 1237.04 1532.31 Q1234.91 1530.57 1231.09 1530.57 L1227.06 1530.57 L1227.06 1526.73 L1231.27 1526.73 Q1234.72 1526.73 1236.55 1525.36 Q1238.38 1523.97 1238.38 1521.38 Q1238.38 1518.72 1236.48 1517.31 Q1234.61 1515.87 1231.09 1515.87 Q1229.17 1515.87 1226.97 1516.29 Q1224.77 1516.7 1222.13 1517.58 L1222.13 1513.42 Q1224.79 1512.68 1227.11 1512.31 Q1229.45 1511.93 1231.51 1511.93 Q1236.83 1511.93 1239.93 1514.37 Q1243.03 1516.77 1243.03 1520.89 Q1243.03 1523.76 1241.39 1525.75 Q1239.75 1527.72 1236.71 1528.49 Z\" fill=\"#000000\" fill-rule=\"evenodd\" fill-opacity=\"1\" /><path clip-path=\"url(#clip920)\" d=\"M 0 0 M1587.77 1516.63 L1575.96 1535.08 L1587.77 1535.08 L1587.77 1516.63 M1586.54 1512.56 L1592.42 1512.56 L1592.42 1535.08 L1597.35 1535.08 L1597.35 1538.97 L1592.42 1538.97 L1592.42 1547.12 L1587.77 1547.12 L1587.77 1538.97 L1572.17 1538.97 L1572.17 1534.46 L1586.54 1512.56 Z\" fill=\"#000000\" fill-rule=\"evenodd\" fill-opacity=\"1\" /><path clip-path=\"url(#clip920)\" d=\"M 0 0 M1927.33 1512.56 L1945.69 1512.56 L1945.69 1516.5 L1931.61 1516.5 L1931.61 1524.97 Q1932.63 1524.62 1933.65 1524.46 Q1934.67 1524.27 1935.69 1524.27 Q1941.47 1524.27 1944.85 1527.44 Q1948.23 1530.62 1948.23 1536.03 Q1948.23 1541.61 1944.76 1544.71 Q1941.29 1547.79 1934.97 1547.79 Q1932.79 1547.79 1930.52 1547.42 Q1928.28 1547.05 1925.87 1546.31 L1925.87 1541.61 Q1927.95 1542.74 1930.18 1543.3 Q1932.4 1543.86 1934.88 1543.86 Q1938.88 1543.86 1941.22 1541.75 Q1943.56 1539.64 1943.56 1536.03 Q1943.56 1532.42 1941.22 1530.31 Q1938.88 1528.21 1934.88 1528.21 Q1933 1528.21 1931.13 1528.62 Q1929.27 1529.04 1927.33 1529.92 L1927.33 1512.56 Z\" fill=\"#000000\" fill-rule=\"evenodd\" fill-opacity=\"1\" /><path clip-path=\"url(#clip920)\" d=\"M 0 0 M2289.75 1527.98 Q2286.6 1527.98 2284.75 1530.13 Q2282.92 1532.28 2282.92 1536.03 Q2282.92 1539.76 2284.75 1541.93 Q2286.6 1544.09 2289.75 1544.09 Q2292.9 1544.09 2294.73 1541.93 Q2296.58 1539.76 2296.58 1536.03 Q2296.58 1532.28 2294.73 1530.13 Q2292.9 1527.98 2289.75 1527.98 M2299.03 1513.32 L2299.03 1517.58 Q2297.27 1516.75 2295.47 1516.31 Q2293.68 1515.87 2291.92 1515.87 Q2287.29 1515.87 2284.84 1519 Q2282.41 1522.12 2282.06 1528.44 Q2283.43 1526.43 2285.49 1525.36 Q2287.55 1524.27 2290.03 1524.27 Q2295.23 1524.27 2298.24 1527.44 Q2301.28 1530.59 2301.28 1536.03 Q2301.28 1541.36 2298.13 1544.57 Q2294.98 1547.79 2289.75 1547.79 Q2283.75 1547.79 2280.58 1543.21 Q2277.41 1538.6 2277.41 1529.87 Q2277.41 1521.68 2281.3 1516.82 Q2285.19 1511.93 2291.74 1511.93 Q2293.5 1511.93 2295.28 1512.28 Q2297.09 1512.63 2299.03 1513.32 Z\" fill=\"#000000\" fill-rule=\"evenodd\" fill-opacity=\"1\" /><polyline clip-path=\"url(#clip922)\" style=\"stroke:#000000; stroke-width:2; stroke-opacity:0.1; fill:none\" points=\"\n",
       "  112.177,1445.72 2352.76,1445.72 \n",
       "  \"/>\n",
       "<polyline clip-path=\"url(#clip922)\" style=\"stroke:#000000; stroke-width:2; stroke-opacity:0.1; fill:none\" points=\"\n",
       "  112.177,1219.43 2352.76,1219.43 \n",
       "  \"/>\n",
       "<polyline clip-path=\"url(#clip922)\" style=\"stroke:#000000; stroke-width:2; stroke-opacity:0.1; fill:none\" points=\"\n",
       "  112.177,993.136 2352.76,993.136 \n",
       "  \"/>\n",
       "<polyline clip-path=\"url(#clip922)\" style=\"stroke:#000000; stroke-width:2; stroke-opacity:0.1; fill:none\" points=\"\n",
       "  112.177,766.846 2352.76,766.846 \n",
       "  \"/>\n",
       "<polyline clip-path=\"url(#clip922)\" style=\"stroke:#000000; stroke-width:2; stroke-opacity:0.1; fill:none\" points=\"\n",
       "  112.177,540.556 2352.76,540.556 \n",
       "  \"/>\n",
       "<polyline clip-path=\"url(#clip922)\" style=\"stroke:#000000; stroke-width:2; stroke-opacity:0.1; fill:none\" points=\"\n",
       "  112.177,314.266 2352.76,314.266 \n",
       "  \"/>\n",
       "<polyline clip-path=\"url(#clip922)\" style=\"stroke:#000000; stroke-width:2; stroke-opacity:0.1; fill:none\" points=\"\n",
       "  112.177,87.9763 2352.76,87.9763 \n",
       "  \"/>\n",
       "<polyline clip-path=\"url(#clip920)\" style=\"stroke:#000000; stroke-width:4; stroke-opacity:1; fill:none\" points=\"\n",
       "  112.177,1486.45 112.177,47.2441 \n",
       "  \"/>\n",
       "<polyline clip-path=\"url(#clip920)\" style=\"stroke:#000000; stroke-width:4; stroke-opacity:1; fill:none\" points=\"\n",
       "  112.177,1445.72 139.064,1445.72 \n",
       "  \"/>\n",
       "<polyline clip-path=\"url(#clip920)\" style=\"stroke:#000000; stroke-width:4; stroke-opacity:1; fill:none\" points=\"\n",
       "  112.177,1219.43 139.064,1219.43 \n",
       "  \"/>\n",
       "<polyline clip-path=\"url(#clip920)\" style=\"stroke:#000000; stroke-width:4; stroke-opacity:1; fill:none\" points=\"\n",
       "  112.177,993.136 139.064,993.136 \n",
       "  \"/>\n",
       "<polyline clip-path=\"url(#clip920)\" style=\"stroke:#000000; stroke-width:4; stroke-opacity:1; fill:none\" points=\"\n",
       "  112.177,766.846 139.064,766.846 \n",
       "  \"/>\n",
       "<polyline clip-path=\"url(#clip920)\" style=\"stroke:#000000; stroke-width:4; stroke-opacity:1; fill:none\" points=\"\n",
       "  112.177,540.556 139.064,540.556 \n",
       "  \"/>\n",
       "<polyline clip-path=\"url(#clip920)\" style=\"stroke:#000000; stroke-width:4; stroke-opacity:1; fill:none\" points=\"\n",
       "  112.177,314.266 139.064,314.266 \n",
       "  \"/>\n",
       "<polyline clip-path=\"url(#clip920)\" style=\"stroke:#000000; stroke-width:4; stroke-opacity:1; fill:none\" points=\"\n",
       "  112.177,87.9763 139.064,87.9763 \n",
       "  \"/>\n",
       "<path clip-path=\"url(#clip920)\" d=\"M 0 0 M64.2328 1431.51 Q60.6217 1431.51 58.793 1435.08 Q56.9875 1438.62 56.9875 1445.75 Q56.9875 1452.86 58.793 1456.42 Q60.6217 1459.96 64.2328 1459.96 Q67.867 1459.96 69.6726 1456.42 Q71.5013 1452.86 71.5013 1445.75 Q71.5013 1438.62 69.6726 1435.08 Q67.867 1431.51 64.2328 1431.51 M64.2328 1427.81 Q70.0429 1427.81 73.0985 1432.42 Q76.1772 1437 76.1772 1445.75 Q76.1772 1454.48 73.0985 1459.08 Q70.0429 1463.67 64.2328 1463.67 Q58.4226 1463.67 55.344 1459.08 Q52.2884 1454.48 52.2884 1445.75 Q52.2884 1437 55.344 1432.42 Q58.4226 1427.81 64.2328 1427.81 Z\" fill=\"#000000\" fill-rule=\"evenodd\" fill-opacity=\"1\" /><path clip-path=\"url(#clip920)\" d=\"M 0 0 M56.2699 1232.77 L63.9087 1232.77 L63.9087 1206.41 L55.5986 1208.07 L55.5986 1203.81 L63.8624 1202.15 L68.5383 1202.15 L68.5383 1232.77 L76.1772 1232.77 L76.1772 1236.71 L56.2699 1236.71 L56.2699 1232.77 Z\" fill=\"#000000\" fill-rule=\"evenodd\" fill-opacity=\"1\" /><path clip-path=\"url(#clip920)\" d=\"M 0 0 M59.8578 1006.48 L76.1772 1006.48 L76.1772 1010.42 L54.2328 1010.42 L54.2328 1006.48 Q56.8949 1003.73 61.4782 999.097 Q66.0846 994.444 67.2652 993.101 Q69.5105 990.578 70.3902 988.842 Q71.2929 987.083 71.2929 985.393 Q71.2929 982.638 69.3485 980.902 Q67.4272 979.166 64.3254 979.166 Q62.1263 979.166 59.6726 979.93 Q57.2421 980.694 54.4643 982.245 L54.4643 977.523 Q57.2884 976.388 59.7421 975.81 Q62.1958 975.231 64.2328 975.231 Q69.6031 975.231 72.7976 977.916 Q75.992 980.601 75.992 985.092 Q75.992 987.222 75.1818 989.143 Q74.3948 991.041 72.2883 993.634 Q71.7096 994.305 68.6078 997.522 Q65.5059 1000.72 59.8578 1006.48 Z\" fill=\"#000000\" fill-rule=\"evenodd\" fill-opacity=\"1\" /><path clip-path=\"url(#clip920)\" d=\"M 0 0 M69.0476 765.492 Q72.404 766.209 74.279 768.478 Q76.1772 770.746 76.1772 774.08 Q76.1772 779.195 72.6587 781.996 Q69.1402 784.797 62.6587 784.797 Q60.4828 784.797 58.168 784.357 Q55.8764 783.941 53.4227 783.084 L53.4227 778.57 Q55.3671 779.705 57.6819 780.283 Q59.9967 780.862 62.5198 780.862 Q66.918 780.862 69.2096 779.126 Q71.5244 777.39 71.5244 774.08 Q71.5244 771.024 69.3717 769.311 Q67.242 767.575 63.4226 767.575 L59.3949 767.575 L59.3949 763.733 L63.6078 763.733 Q67.0569 763.733 68.8855 762.367 Q70.7142 760.978 70.7142 758.385 Q70.7142 755.723 68.8161 754.311 Q66.9411 752.876 63.4226 752.876 Q61.5013 752.876 59.3023 753.293 Q57.1032 753.709 54.4643 754.589 L54.4643 750.422 Q57.1264 749.682 59.4412 749.311 Q61.7791 748.941 63.8393 748.941 Q69.1633 748.941 72.2652 751.372 Q75.367 753.779 75.367 757.899 Q75.367 760.77 73.7235 762.76 Q72.08 764.728 69.0476 765.492 Z\" fill=\"#000000\" fill-rule=\"evenodd\" fill-opacity=\"1\" /><path clip-path=\"url(#clip920)\" d=\"M 0 0 M66.5939 527.35 L54.7884 545.799 L66.5939 545.799 L66.5939 527.35 M65.367 523.276 L71.2466 523.276 L71.2466 545.799 L76.1772 545.799 L76.1772 549.688 L71.2466 549.688 L71.2466 557.836 L66.5939 557.836 L66.5939 549.688 L50.9921 549.688 L50.9921 545.174 L65.367 523.276 Z\" fill=\"#000000\" fill-rule=\"evenodd\" fill-opacity=\"1\" /><path clip-path=\"url(#clip920)\" d=\"M 0 0 M55.2745 296.986 L73.6309 296.986 L73.6309 300.921 L59.5569 300.921 L59.5569 309.394 Q60.5754 309.046 61.5939 308.884 Q62.6124 308.699 63.6309 308.699 Q69.418 308.699 72.7976 311.87 Q76.1772 315.042 76.1772 320.458 Q76.1772 326.037 72.705 329.139 Q69.2328 332.217 62.9134 332.217 Q60.7374 332.217 58.4689 331.847 Q56.2236 331.477 53.8162 330.736 L53.8162 326.037 Q55.8995 327.171 58.1217 327.727 Q60.3439 328.282 62.8208 328.282 Q66.8254 328.282 69.1633 326.176 Q71.5013 324.069 71.5013 320.458 Q71.5013 316.847 69.1633 314.741 Q66.8254 312.634 62.8208 312.634 Q60.9458 312.634 59.0708 313.051 Q57.2189 313.468 55.2745 314.347 L55.2745 296.986 Z\" fill=\"#000000\" fill-rule=\"evenodd\" fill-opacity=\"1\" /><path clip-path=\"url(#clip920)\" d=\"M 0 0 M64.6495 86.1129 Q61.5013 86.1129 59.6495 88.2656 Q57.8208 90.4184 57.8208 94.1684 Q57.8208 97.8952 59.6495 100.071 Q61.5013 102.224 64.6495 102.224 Q67.7976 102.224 69.6263 100.071 Q71.4781 97.8952 71.4781 94.1684 Q71.4781 90.4184 69.6263 88.2656 Q67.7976 86.1129 64.6495 86.1129 M73.9318 71.4602 L73.9318 75.7194 Q72.1726 74.8861 70.367 74.4463 Q68.5846 74.0064 66.8254 74.0064 Q62.1958 74.0064 59.7421 77.1314 Q57.3115 80.2564 56.9643 86.5758 Q58.33 84.5619 60.3902 83.4971 Q62.4504 82.4092 64.9272 82.4092 Q70.1355 82.4092 73.1448 85.5805 Q76.1772 88.7286 76.1772 94.1684 Q76.1772 99.4924 73.029 102.71 Q69.8809 105.928 64.6495 105.928 Q58.6541 105.928 55.4828 101.344 Q52.3116 96.7378 52.3116 88.011 Q52.3116 79.8166 56.2004 74.9555 Q60.0893 70.0713 66.6402 70.0713 Q68.3994 70.0713 70.1818 70.4185 Q71.9874 70.7657 73.9318 71.4602 Z\" fill=\"#000000\" fill-rule=\"evenodd\" fill-opacity=\"1\" /><polyline clip-path=\"url(#clip922)\" style=\"stroke:#009af9; stroke-width:4; stroke-opacity:1; fill:none\" points=\"\n",
       "  175.59,1445.72 196.941,1432 218.292,1418.29 239.643,1404.57 260.994,1390.86 282.345,1377.14 303.696,1363.43 325.047,1349.71 346.398,1336 367.749,1322.28 \n",
       "  389.1,1308.57 410.451,1294.86 431.802,1281.14 453.153,1267.43 474.504,1253.71 495.855,1240 517.207,1226.28 538.558,1212.57 559.909,1198.85 581.26,1185.14 \n",
       "  602.611,1171.42 623.962,1157.71 645.313,1144 666.664,1130.28 688.015,1116.57 709.366,1102.85 730.717,1089.14 752.068,1075.42 773.419,1061.71 794.77,1047.99 \n",
       "  816.121,1034.28 837.472,1020.56 858.823,1006.85 880.174,993.136 901.525,979.421 922.876,965.707 944.227,951.992 965.578,938.278 986.93,924.563 1008.28,910.849 \n",
       "  1029.63,897.134 1050.98,883.42 1072.33,869.705 1093.68,855.99 1115.04,842.276 1136.39,828.561 1157.74,814.847 1179.09,801.132 1200.44,787.418 1221.79,773.703 \n",
       "  1243.14,759.989 1264.49,746.274 1285.84,732.56 1307.2,718.845 1328.55,705.131 1349.9,691.416 1371.25,677.701 1392.6,663.987 1413.95,650.272 1435.3,636.558 \n",
       "  1456.65,622.843 1478,609.129 1499.35,595.414 1520.71,581.7 1542.06,567.985 1563.41,554.271 1584.76,540.556 1606.11,526.842 1627.46,513.127 1648.81,499.412 \n",
       "  1670.16,485.698 1691.51,471.983 1712.87,458.269 1734.22,444.554 1755.57,430.84 1776.92,417.125 1798.27,403.411 1819.62,389.696 1840.97,375.982 1862.32,362.267 \n",
       "  1883.67,348.553 1905.02,334.838 1926.38,321.123 1947.73,307.409 1969.08,293.694 1990.43,279.98 2011.78,266.265 2033.13,252.551 2054.48,238.836 2075.83,225.122 \n",
       "  2097.18,211.407 2118.53,197.693 2139.89,183.978 2161.24,170.264 2182.59,156.549 2203.94,142.834 2225.29,129.12 2246.64,115.405 2267.99,101.691 2289.34,87.9763 \n",
       "  \n",
       "  \"/>\n",
       "<polyline clip-path=\"url(#clip922)\" style=\"stroke:#e26f46; stroke-width:4; stroke-opacity:1; fill:none\" points=\"\n",
       "  175.59,1445.72 196.941,1413.85 218.292,1397 239.643,1381.55 260.994,1366.76 282.345,1352.37 303.696,1338.25 325.047,1324.32 346.398,1310.55 367.749,1296.89 \n",
       "  389.1,1283.34 410.451,1269.87 431.802,1256.46 453.153,1243.12 474.504,1229.83 495.855,1216.59 517.207,1203.38 538.558,1190.22 559.909,1177.09 581.26,1163.98 \n",
       "  602.611,1150.91 623.962,1137.86 645.313,1124.83 666.664,1111.82 688.015,1098.84 709.366,1085.87 730.717,1072.92 752.068,1059.99 773.419,1047.07 794.77,1034.17 \n",
       "  816.121,1021.27 837.472,1008.4 858.823,995.53 880.174,982.675 901.525,969.83 922.876,956.996 944.227,944.172 965.578,931.357 986.93,918.55 1008.28,905.753 \n",
       "  1029.63,892.963 1050.98,880.181 1072.33,867.406 1093.68,854.639 1115.04,841.878 1136.39,829.124 1157.74,816.377 1179.09,803.635 1200.44,790.9 1221.79,778.17 \n",
       "  1243.14,765.445 1264.49,752.726 1285.84,740.012 1307.2,727.303 1328.55,714.599 1349.9,701.899 1371.25,689.204 1392.6,676.513 1413.95,663.827 1435.3,651.144 \n",
       "  1456.65,638.466 1478,625.791 1499.35,613.121 1520.71,600.454 1542.06,587.79 1563.41,575.13 1584.76,562.474 1606.11,549.821 1627.46,537.17 1648.81,524.524 \n",
       "  1670.16,511.88 1691.51,499.239 1712.87,486.601 1734.22,473.966 1755.57,461.334 1776.92,448.704 1798.27,436.077 1819.62,423.453 1840.97,410.831 1862.32,398.212 \n",
       "  1883.67,385.595 1905.02,372.981 1926.38,360.369 1947.73,347.759 1969.08,335.151 1990.43,322.546 2011.78,309.943 2033.13,297.342 2054.48,284.743 2075.83,272.146 \n",
       "  2097.18,259.551 2118.53,246.957 2139.89,234.366 2161.24,221.777 2182.59,209.19 2203.94,196.604 2225.29,184.02 2246.64,171.438 2267.99,158.858 2289.34,146.279 \n",
       "  \n",
       "  \"/>\n",
       "<polyline clip-path=\"url(#clip922)\" style=\"stroke:#ff0000; stroke-width:4; stroke-opacity:1; fill:none\" points=\"\n",
       "  351.736,1307.12 391.351,1307.12 \n",
       "  \"/>\n",
       "<polyline clip-path=\"url(#clip922)\" style=\"stroke:#ff0000; stroke-width:4; stroke-opacity:1; fill:none\" points=\"\n",
       "  391.351,1281.92 430.596,1281.92 \n",
       "  \"/>\n",
       "<polyline clip-path=\"url(#clip922)\" style=\"stroke:#ff0000; stroke-width:4; stroke-opacity:1; fill:none\" points=\"\n",
       "  430.596,1257.22 469.044,1257.22 \n",
       "  \"/>\n",
       "<polyline clip-path=\"url(#clip922)\" style=\"stroke:#ff0000; stroke-width:4; stroke-opacity:1; fill:none\" points=\"\n",
       "  469.044,1233.23 506.398,1233.23 \n",
       "  \"/>\n",
       "<polyline clip-path=\"url(#clip922)\" style=\"stroke:#ff0000; stroke-width:4; stroke-opacity:1; fill:none\" points=\"\n",
       "  506.398,1210.06 542.458,1210.06 \n",
       "  \"/>\n",
       "<polyline clip-path=\"url(#clip922)\" style=\"stroke:#ff0000; stroke-width:4; stroke-opacity:1; fill:none\" points=\"\n",
       "  542.458,1187.82 577.092,1187.82 \n",
       "  \"/>\n",
       "<polyline clip-path=\"url(#clip922)\" style=\"stroke:#ff0000; stroke-width:4; stroke-opacity:1; fill:none\" points=\"\n",
       "  577.092,1166.54 610.219,1166.54 \n",
       "  \"/>\n",
       "<polyline clip-path=\"url(#clip922)\" style=\"stroke:#ff0000; stroke-width:4; stroke-opacity:1; fill:none\" points=\"\n",
       "  610.219,1146.25 641.797,1146.25 \n",
       "  \"/>\n",
       "<polyline clip-path=\"url(#clip922)\" style=\"stroke:#ff0000; stroke-width:4; stroke-opacity:1; fill:none\" points=\"\n",
       "  641.797,1126.97 671.813,1126.97 \n",
       "  \"/>\n",
       "<polyline clip-path=\"url(#clip922)\" style=\"stroke:#ff0000; stroke-width:4; stroke-opacity:1; fill:none\" points=\"\n",
       "  671.813,1108.69 700.275,1108.69 \n",
       "  \"/>\n",
       "<polyline clip-path=\"url(#clip922)\" style=\"stroke:#ff0000; stroke-width:4; stroke-opacity:1; fill:none\" points=\"\n",
       "  700.275,1091.39 727.208,1091.39 \n",
       "  \"/>\n",
       "<polyline clip-path=\"url(#clip922)\" style=\"stroke:#ff0000; stroke-width:4; stroke-opacity:1; fill:none\" points=\"\n",
       "  727.208,1075.05 752.65,1075.05 \n",
       "  \"/>\n",
       "<polyline clip-path=\"url(#clip922)\" style=\"stroke:#ff0000; stroke-width:4; stroke-opacity:1; fill:none\" points=\"\n",
       "  752.65,1059.64 776.645,1059.64 \n",
       "  \"/>\n",
       "<polyline clip-path=\"url(#clip922)\" style=\"stroke:#ff0000; stroke-width:4; stroke-opacity:1; fill:none\" points=\"\n",
       "  776.645,1045.12 799.246,1045.12 \n",
       "  \"/>\n",
       "<polyline clip-path=\"url(#clip922)\" style=\"stroke:#ff0000; stroke-width:4; stroke-opacity:1; fill:none\" points=\"\n",
       "  799.246,1031.46 820.507,1031.46 \n",
       "  \"/>\n",
       "<polyline clip-path=\"url(#clip922)\" style=\"stroke:#ff0000; stroke-width:4; stroke-opacity:1; fill:none\" points=\"\n",
       "  820.507,1018.63 840.487,1018.63 \n",
       "  \"/>\n",
       "<polyline clip-path=\"url(#clip922)\" style=\"stroke:#ff0000; stroke-width:4; stroke-opacity:1; fill:none\" points=\"\n",
       "  840.487,1006.58 859.246,1006.58 \n",
       "  \"/>\n",
       "<polyline clip-path=\"url(#clip922)\" style=\"stroke:#ff0000; stroke-width:4; stroke-opacity:1; fill:none\" points=\"\n",
       "  859.246,995.275 876.844,995.275 \n",
       "  \"/>\n",
       "<polyline clip-path=\"url(#clip922)\" style=\"stroke:#ff0000; stroke-width:4; stroke-opacity:1; fill:none\" points=\"\n",
       "  876.844,984.679 893.34,984.679 \n",
       "  \"/>\n",
       "<polyline clip-path=\"url(#clip922)\" style=\"stroke:#ff0000; stroke-width:4; stroke-opacity:1; fill:none\" points=\"\n",
       "  893.34,974.753 908.793,974.753 \n",
       "  \"/>\n",
       "<polyline clip-path=\"url(#clip922)\" style=\"stroke:#ff0000; stroke-width:4; stroke-opacity:1; fill:none\" points=\"\n",
       "  908.793,965.461 923.259,965.461 \n",
       "  \"/>\n",
       "<polyline clip-path=\"url(#clip922)\" style=\"stroke:#ff0000; stroke-width:4; stroke-opacity:1; fill:none\" points=\"\n",
       "  923.259,956.766 936.795,956.766 \n",
       "  \"/>\n",
       "<polyline clip-path=\"url(#clip922)\" style=\"stroke:#ff0000; stroke-width:4; stroke-opacity:1; fill:none\" points=\"\n",
       "  936.795,948.635 949.454,948.635 \n",
       "  \"/>\n",
       "<polyline clip-path=\"url(#clip922)\" style=\"stroke:#ff0000; stroke-width:4; stroke-opacity:1; fill:none\" points=\"\n",
       "  949.454,941.034 961.288,941.034 \n",
       "  \"/>\n",
       "<polyline clip-path=\"url(#clip922)\" style=\"stroke:#ff0000; stroke-width:4; stroke-opacity:1; fill:none\" points=\"\n",
       "  961.288,933.931 972.345,933.931 \n",
       "  \"/>\n",
       "<polyline clip-path=\"url(#clip922)\" style=\"stroke:#ff0000; stroke-width:4; stroke-opacity:1; fill:none\" points=\"\n",
       "  972.345,927.297 982.673,927.297 \n",
       "  \"/>\n",
       "<polyline clip-path=\"url(#clip922)\" style=\"stroke:#ff0000; stroke-width:4; stroke-opacity:1; fill:none\" points=\"\n",
       "  982.673,921.103 992.317,921.103 \n",
       "  \"/>\n",
       "<polyline clip-path=\"url(#clip922)\" style=\"stroke:#ff0000; stroke-width:4; stroke-opacity:1; fill:none\" points=\"\n",
       "  992.317,915.321 1001.32,915.321 \n",
       "  \"/>\n",
       "<polyline clip-path=\"url(#clip922)\" style=\"stroke:#ff0000; stroke-width:4; stroke-opacity:1; fill:none\" points=\"\n",
       "  1001.32,909.925 1009.72,909.925 \n",
       "  \"/>\n",
       "<polyline clip-path=\"url(#clip922)\" style=\"stroke:#ff0000; stroke-width:4; stroke-opacity:1; fill:none\" points=\"\n",
       "  1009.72,904.891 1017.56,904.891 \n",
       "  \"/>\n",
       "<polyline clip-path=\"url(#clip922)\" style=\"stroke:#ff0000; stroke-width:4; stroke-opacity:1; fill:none\" points=\"\n",
       "  1017.56,900.196 1024.87,900.196 \n",
       "  \"/>\n",
       "<polyline clip-path=\"url(#clip922)\" style=\"stroke:#ff0000; stroke-width:4; stroke-opacity:1; fill:none\" points=\"\n",
       "  1024.87,895.817 1031.68,895.817 \n",
       "  \"/>\n",
       "<polyline clip-path=\"url(#clip922)\" style=\"stroke:#ff0000; stroke-width:4; stroke-opacity:1; fill:none\" points=\"\n",
       "  1031.68,891.735 1038.04,891.735 \n",
       "  \"/>\n",
       "<polyline clip-path=\"url(#clip922)\" style=\"stroke:#ff0000; stroke-width:4; stroke-opacity:1; fill:none\" points=\"\n",
       "  1038.04,887.93 1043.96,887.93 \n",
       "  \"/>\n",
       "<polyline clip-path=\"url(#clip922)\" style=\"stroke:#ff0000; stroke-width:4; stroke-opacity:1; fill:none\" points=\"\n",
       "  1043.96,884.384 1049.48,884.384 \n",
       "  \"/>\n",
       "<polyline clip-path=\"url(#clip922)\" style=\"stroke:#ff0000; stroke-width:4; stroke-opacity:1; fill:none\" points=\"\n",
       "  1049.48,881.08 1054.63,881.08 \n",
       "  \"/>\n",
       "<polyline clip-path=\"url(#clip922)\" style=\"stroke:#ff0000; stroke-width:4; stroke-opacity:1; fill:none\" points=\"\n",
       "  1054.63,878.001 1059.42,878.001 \n",
       "  \"/>\n",
       "<polyline clip-path=\"url(#clip922)\" style=\"stroke:#ff0000; stroke-width:4; stroke-opacity:1; fill:none\" points=\"\n",
       "  1059.42,875.133 1063.88,875.133 \n",
       "  \"/>\n",
       "<polyline clip-path=\"url(#clip922)\" style=\"stroke:#ff0000; stroke-width:4; stroke-opacity:1; fill:none\" points=\"\n",
       "  1063.88,872.461 1068.04,872.461 \n",
       "  \"/>\n",
       "<polyline clip-path=\"url(#clip922)\" style=\"stroke:#ff0000; stroke-width:4; stroke-opacity:1; fill:none\" points=\"\n",
       "  1068.04,869.973 1071.92,869.973 \n",
       "  \"/>\n",
       "<polyline clip-path=\"url(#clip922)\" style=\"stroke:#ff0000; stroke-width:4; stroke-opacity:1; fill:none\" points=\"\n",
       "  1071.92,867.656 1075.52,867.656 \n",
       "  \"/>\n",
       "<polyline clip-path=\"url(#clip922)\" style=\"stroke:#ff0000; stroke-width:4; stroke-opacity:1; fill:none\" points=\"\n",
       "  1075.52,865.498 1078.88,865.498 \n",
       "  \"/>\n",
       "<polyline clip-path=\"url(#clip922)\" style=\"stroke:#ff0000; stroke-width:4; stroke-opacity:1; fill:none\" points=\"\n",
       "  1078.88,863.49 1082.01,863.49 \n",
       "  \"/>\n",
       "<polyline clip-path=\"url(#clip922)\" style=\"stroke:#ff0000; stroke-width:4; stroke-opacity:1; fill:none\" points=\"\n",
       "  1082.01,861.619 1084.92,861.619 \n",
       "  \"/>\n",
       "<polyline clip-path=\"url(#clip922)\" style=\"stroke:#ff0000; stroke-width:4; stroke-opacity:1; fill:none\" points=\"\n",
       "  1084.92,859.878 1087.63,859.878 \n",
       "  \"/>\n",
       "<polyline clip-path=\"url(#clip922)\" style=\"stroke:#ff0000; stroke-width:4; stroke-opacity:1; fill:none\" points=\"\n",
       "  1087.63,858.257 1090.16,858.257 \n",
       "  \"/>\n",
       "<polyline clip-path=\"url(#clip922)\" style=\"stroke:#ff0000; stroke-width:4; stroke-opacity:1; fill:none\" points=\"\n",
       "  1090.16,856.749 1092.5,856.749 \n",
       "  \"/>\n",
       "<polyline clip-path=\"url(#clip922)\" style=\"stroke:#ff0000; stroke-width:4; stroke-opacity:1; fill:none\" points=\"\n",
       "  1092.5,855.345 1094.69,855.345 \n",
       "  \"/>\n",
       "<polyline clip-path=\"url(#clip922)\" style=\"stroke:#ff0000; stroke-width:4; stroke-opacity:1; fill:none\" points=\"\n",
       "  1094.69,854.038 1096.72,854.038 \n",
       "  \"/>\n",
       "<polyline clip-path=\"url(#clip922)\" style=\"stroke:#ff0000; stroke-width:4; stroke-opacity:1; fill:none\" points=\"\n",
       "  1096.72,852.822 1098.62,852.822 \n",
       "  \"/>\n",
       "<polyline clip-path=\"url(#clip922)\" style=\"stroke:#ff0000; stroke-width:4; stroke-opacity:1; fill:none\" points=\"\n",
       "  1098.62,851.69 1100.38,851.69 \n",
       "  \"/>\n",
       "<polyline clip-path=\"url(#clip922)\" style=\"stroke:#ff0000; stroke-width:4; stroke-opacity:1; fill:none\" points=\"\n",
       "  1100.38,850.637 1102.02,850.637 \n",
       "  \"/>\n",
       "<polyline clip-path=\"url(#clip922)\" style=\"stroke:#ff0000; stroke-width:4; stroke-opacity:1; fill:none\" points=\"\n",
       "  1102.02,849.657 1103.54,849.657 \n",
       "  \"/>\n",
       "<polyline clip-path=\"url(#clip922)\" style=\"stroke:#ff0000; stroke-width:4; stroke-opacity:1; fill:none\" points=\"\n",
       "  1103.54,848.745 1104.96,848.745 \n",
       "  \"/>\n",
       "<polyline clip-path=\"url(#clip922)\" style=\"stroke:#ff0000; stroke-width:4; stroke-opacity:1; fill:none\" points=\"\n",
       "  1104.96,847.897 1106.29,847.897 \n",
       "  \"/>\n",
       "<polyline clip-path=\"url(#clip922)\" style=\"stroke:#ff0000; stroke-width:4; stroke-opacity:1; fill:none\" points=\"\n",
       "  1106.29,847.107 1107.51,847.107 \n",
       "  \"/>\n",
       "<polyline clip-path=\"url(#clip922)\" style=\"stroke:#ff0000; stroke-width:4; stroke-opacity:1; fill:none\" points=\"\n",
       "  1107.51,846.373 1108.66,846.373 \n",
       "  \"/>\n",
       "<polyline clip-path=\"url(#clip922)\" style=\"stroke:#ff0000; stroke-width:4; stroke-opacity:1; fill:none\" points=\"\n",
       "  1108.66,845.69 1109.72,845.69 \n",
       "  \"/>\n",
       "<polyline clip-path=\"url(#clip922)\" style=\"stroke:#ff0000; stroke-width:4; stroke-opacity:1; fill:none\" points=\"\n",
       "  1109.72,845.054 1110.71,845.054 \n",
       "  \"/>\n",
       "<polyline clip-path=\"url(#clip922)\" style=\"stroke:#ff0000; stroke-width:4; stroke-opacity:1; fill:none\" points=\"\n",
       "  1110.71,844.463 1111.63,844.463 \n",
       "  \"/>\n",
       "<polyline clip-path=\"url(#clip922)\" style=\"stroke:#ff0000; stroke-width:4; stroke-opacity:1; fill:none\" points=\"\n",
       "  1111.63,843.913 1112.49,843.913 \n",
       "  \"/>\n",
       "<polyline clip-path=\"url(#clip922)\" style=\"stroke:#ff0000; stroke-width:4; stroke-opacity:1; fill:none\" points=\"\n",
       "  1112.49,843.401 1113.28,843.401 \n",
       "  \"/>\n",
       "<polyline clip-path=\"url(#clip922)\" style=\"stroke:#ff0000; stroke-width:4; stroke-opacity:1; fill:none\" points=\"\n",
       "  1113.28,842.925 1114.03,842.925 \n",
       "  \"/>\n",
       "<polyline clip-path=\"url(#clip922)\" style=\"stroke:#ff0000; stroke-width:4; stroke-opacity:1; fill:none\" points=\"\n",
       "  1114.03,842.482 1114.72,842.482 \n",
       "  \"/>\n",
       "<polyline clip-path=\"url(#clip922)\" style=\"stroke:#ff0000; stroke-width:4; stroke-opacity:1; fill:none\" points=\"\n",
       "  1114.72,842.07 1115.36,842.07 \n",
       "  \"/>\n",
       "<polyline clip-path=\"url(#clip922)\" style=\"stroke:#ff0000; stroke-width:4; stroke-opacity:1; fill:none\" points=\"\n",
       "  1115.36,841.687 1115.95,841.687 \n",
       "  \"/>\n",
       "<polyline clip-path=\"url(#clip922)\" style=\"stroke:#ff0000; stroke-width:4; stroke-opacity:1; fill:none\" points=\"\n",
       "  1115.95,841.33 1116.51,841.33 \n",
       "  \"/>\n",
       "<polyline clip-path=\"url(#clip922)\" style=\"stroke:#ff0000; stroke-width:4; stroke-opacity:1; fill:none\" points=\"\n",
       "  1116.51,840.999 1117.02,840.999 \n",
       "  \"/>\n",
       "<polyline clip-path=\"url(#clip922)\" style=\"stroke:#ff0000; stroke-width:4; stroke-opacity:1; fill:none\" points=\"\n",
       "  1117.02,840.69 1117.5,840.69 \n",
       "  \"/>\n",
       "<polyline clip-path=\"url(#clip922)\" style=\"stroke:#ff0000; stroke-width:4; stroke-opacity:1; fill:none\" points=\"\n",
       "  1117.5,840.404 1117.95,840.404 \n",
       "  \"/>\n",
       "<polyline clip-path=\"url(#clip922)\" style=\"stroke:#ff0000; stroke-width:4; stroke-opacity:1; fill:none\" points=\"\n",
       "  1117.95,840.137 1118.37,840.137 \n",
       "  \"/>\n",
       "<polyline clip-path=\"url(#clip922)\" style=\"stroke:#ff0000; stroke-width:4; stroke-opacity:1; fill:none\" points=\"\n",
       "  1118.37,839.889 1118.75,839.889 \n",
       "  \"/>\n",
       "<polyline clip-path=\"url(#clip922)\" style=\"stroke:#ff0000; stroke-width:4; stroke-opacity:1; fill:none\" points=\"\n",
       "  1118.75,839.658 1119.11,839.658 \n",
       "  \"/>\n",
       "<polyline clip-path=\"url(#clip922)\" style=\"stroke:#ff0000; stroke-width:4; stroke-opacity:1; fill:none\" points=\"\n",
       "  1119.11,839.443 1119.45,839.443 \n",
       "  \"/>\n",
       "<polyline clip-path=\"url(#clip922)\" style=\"stroke:#ff0000; stroke-width:4; stroke-opacity:1; fill:none\" points=\"\n",
       "  1119.45,839.243 1119.76,839.243 \n",
       "  \"/>\n",
       "<polyline clip-path=\"url(#clip922)\" style=\"stroke:#ff0000; stroke-width:4; stroke-opacity:1; fill:none\" points=\"\n",
       "  1119.76,839.058 1120.05,839.058 \n",
       "  \"/>\n",
       "<polyline clip-path=\"url(#clip922)\" style=\"stroke:#ff0000; stroke-width:4; stroke-opacity:1; fill:none\" points=\"\n",
       "  1120.05,838.885 1120.31,838.885 \n",
       "  \"/>\n",
       "<polyline clip-path=\"url(#clip922)\" style=\"stroke:#ff0000; stroke-width:4; stroke-opacity:1; fill:none\" points=\"\n",
       "  1120.31,838.724 1120.57,838.724 \n",
       "  \"/>\n",
       "<polyline clip-path=\"url(#clip922)\" style=\"stroke:#ff0000; stroke-width:4; stroke-opacity:1; fill:none\" points=\"\n",
       "  1120.57,838.575 1120.8,838.575 \n",
       "  \"/>\n",
       "<polyline clip-path=\"url(#clip922)\" style=\"stroke:#ff0000; stroke-width:4; stroke-opacity:1; fill:none\" points=\"\n",
       "  1120.8,838.436 1121.01,838.436 \n",
       "  \"/>\n",
       "<polyline clip-path=\"url(#clip922)\" style=\"stroke:#ff0000; stroke-width:4; stroke-opacity:1; fill:none\" points=\"\n",
       "  1121.01,838.307 1121.22,838.307 \n",
       "  \"/>\n",
       "<polyline clip-path=\"url(#clip922)\" style=\"stroke:#ff0000; stroke-width:4; stroke-opacity:1; fill:none\" points=\"\n",
       "  1121.22,838.186 1121.4,838.186 \n",
       "  \"/>\n",
       "<polyline clip-path=\"url(#clip922)\" style=\"stroke:#ff0000; stroke-width:4; stroke-opacity:1; fill:none\" points=\"\n",
       "  1121.4,838.075 1121.58,838.075 \n",
       "  \"/>\n",
       "<polyline clip-path=\"url(#clip922)\" style=\"stroke:#ff0000; stroke-width:4; stroke-opacity:1; fill:none\" points=\"\n",
       "  1121.58,837.971 1121.74,837.971 \n",
       "  \"/>\n",
       "<polyline clip-path=\"url(#clip922)\" style=\"stroke:#ff0000; stroke-width:4; stroke-opacity:1; fill:none\" points=\"\n",
       "  1121.74,837.874 1121.89,837.874 \n",
       "  \"/>\n",
       "<polyline clip-path=\"url(#clip922)\" style=\"stroke:#ff0000; stroke-width:4; stroke-opacity:1; fill:none\" points=\"\n",
       "  1121.89,837.784 1122.03,837.784 \n",
       "  \"/>\n",
       "<polyline clip-path=\"url(#clip922)\" style=\"stroke:#ff0000; stroke-width:4; stroke-opacity:1; fill:none\" points=\"\n",
       "  1122.03,837.7 1122.16,837.7 \n",
       "  \"/>\n",
       "<polyline clip-path=\"url(#clip922)\" style=\"stroke:#ff0000; stroke-width:4; stroke-opacity:1; fill:none\" points=\"\n",
       "  1122.16,837.622 1122.28,837.622 \n",
       "  \"/>\n",
       "<polyline clip-path=\"url(#clip922)\" style=\"stroke:#ff0000; stroke-width:4; stroke-opacity:1; fill:none\" points=\"\n",
       "  1122.28,837.55 1122.39,837.55 \n",
       "  \"/>\n",
       "<polyline clip-path=\"url(#clip922)\" style=\"stroke:#ff0000; stroke-width:4; stroke-opacity:1; fill:none\" points=\"\n",
       "  1122.39,837.483 1122.5,837.483 \n",
       "  \"/>\n",
       "<polyline clip-path=\"url(#clip922)\" style=\"stroke:#ff0000; stroke-width:4; stroke-opacity:1; fill:none\" points=\"\n",
       "  1122.5,837.42 1122.6,837.42 \n",
       "  \"/>\n",
       "<polyline clip-path=\"url(#clip922)\" style=\"stroke:#ff0000; stroke-width:4; stroke-opacity:1; fill:none\" points=\"\n",
       "  1122.6,837.362 1122.69,837.362 \n",
       "  \"/>\n",
       "<polyline clip-path=\"url(#clip922)\" style=\"stroke:#ff0000; stroke-width:4; stroke-opacity:1; fill:none\" points=\"\n",
       "  1122.69,837.308 1122.77,837.308 \n",
       "  \"/>\n",
       "<polyline clip-path=\"url(#clip922)\" style=\"stroke:#ff0000; stroke-width:4; stroke-opacity:1; fill:none\" points=\"\n",
       "  1122.77,837.258 1122.85,837.258 \n",
       "  \"/>\n",
       "<polyline clip-path=\"url(#clip922)\" style=\"stroke:#ff0000; stroke-width:4; stroke-opacity:1; fill:none\" points=\"\n",
       "  1122.85,837.211 1122.92,837.211 \n",
       "  \"/>\n",
       "<polyline clip-path=\"url(#clip922)\" style=\"stroke:#ff0000; stroke-width:4; stroke-opacity:1; fill:none\" points=\"\n",
       "  1122.92,837.167 1122.99,837.167 \n",
       "  \"/>\n",
       "<polyline clip-path=\"url(#clip922)\" style=\"stroke:#ff0000; stroke-width:4; stroke-opacity:1; fill:none\" points=\"\n",
       "  1122.99,837.127 1123.05,837.127 \n",
       "  \"/>\n",
       "<polyline clip-path=\"url(#clip922)\" style=\"stroke:#ff0000; stroke-width:4; stroke-opacity:1; fill:none\" points=\"\n",
       "  1123.05,837.089 1123.11,837.089 \n",
       "  \"/>\n",
       "<polyline clip-path=\"url(#clip922)\" style=\"stroke:#ff0000; stroke-width:4; stroke-opacity:1; fill:none\" points=\"\n",
       "  1123.11,837.054 1123.17,837.054 \n",
       "  \"/>\n",
       "<polyline clip-path=\"url(#clip922)\" style=\"stroke:#ff0000; stroke-width:4; stroke-opacity:1; fill:none\" points=\"\n",
       "  1123.17,837.021 1123.22,837.021 \n",
       "  \"/>\n",
       "</svg>\n"
      ]
     },
     "execution_count": 621,
     "metadata": {},
     "output_type": "execute_result"
    }
   ],
   "source": [
    "pl = plot(kvec, kvec)\n",
    "plot!(pl, kvec, fvec)\n",
    "for (a,b) in hz_segments\n",
    "    plot!(pl, [a,b],[b,b], color=:red, legend=false)\n",
    "end\n",
    "pl"
   ]
  },
  {
   "cell_type": "markdown",
   "id": "7f5ec020",
   "metadata": {},
   "source": [
    "__Propose and implement a way to accelerate convergence__"
   ]
  },
  {
   "cell_type": "code",
   "execution_count": 622,
   "id": "61f72b64",
   "metadata": {},
   "outputs": [],
   "source": [
    "#  Aitkens' extrapolation"
   ]
  },
  {
   "cell_type": "markdown",
   "id": "e3f7676c",
   "metadata": {},
   "source": [
    "__What factors affect the steady-state level of capital?__"
   ]
  },
  {
   "cell_type": "code",
   "execution_count": 623,
   "id": "2b1bd736",
   "metadata": {},
   "outputs": [
    {
     "data": {
      "text/plain": [
       "steady_state (generic function with 3 methods)"
      ]
     },
     "execution_count": 623,
     "metadata": {},
     "output_type": "execute_result"
    }
   ],
   "source": [
    "function steady_state(p::Dict{Symbol, Float64}, k0=1; T=100, tol_η=1e-6)\n",
    "    for t=1:T\n",
    "        K = f(k0; p=p)\n",
    "        if abs(K-k0)<tol_η\n",
    "            return K\n",
    "        end\n",
    "        k0 = K\n",
    "    end\n",
    "    return k0\n",
    "end"
   ]
  },
  {
   "cell_type": "code",
   "execution_count": 624,
   "id": "14865cdf-716b-42bc-b56d-f272e150aa5c",
   "metadata": {},
   "outputs": [
    {
     "data": {
      "text/plain": [
       "2.6904293693526475"
      ]
     },
     "execution_count": 624,
     "metadata": {},
     "output_type": "execute_result"
    }
   ],
   "source": [
    "steady_state(p, 1.0)"
   ]
  },
  {
   "cell_type": "code",
   "execution_count": 625,
   "id": "404146ed-e1f5-493d-a3b7-7d3212ca6ce4",
   "metadata": {},
   "outputs": [
    {
     "data": {
      "image/svg+xml": [
       "<?xml version=\"1.0\" encoding=\"utf-8\"?>\n",
       "<svg xmlns=\"http://www.w3.org/2000/svg\" xmlns:xlink=\"http://www.w3.org/1999/xlink\" width=\"600\" height=\"400\" viewBox=\"0 0 2400 1600\">\n",
       "<defs>\n",
       "  <clipPath id=\"clip960\">\n",
       "    <rect x=\"0\" y=\"0\" width=\"2400\" height=\"1600\"/>\n",
       "  </clipPath>\n",
       "</defs>\n",
       "<path clip-path=\"url(#clip960)\" d=\"\n",
       "M0 1600 L2400 1600 L2400 0 L0 0  Z\n",
       "  \" fill=\"#ffffff\" fill-rule=\"evenodd\" fill-opacity=\"1\"/>\n",
       "<defs>\n",
       "  <clipPath id=\"clip961\">\n",
       "    <rect x=\"480\" y=\"0\" width=\"1681\" height=\"1600\"/>\n",
       "  </clipPath>\n",
       "</defs>\n",
       "<path clip-path=\"url(#clip960)\" d=\"\n",
       "M249.195 1423.18 L2352.76 1423.18 L2352.76 47.2441 L249.195 47.2441  Z\n",
       "  \" fill=\"#ffffff\" fill-rule=\"evenodd\" fill-opacity=\"1\"/>\n",
       "<defs>\n",
       "  <clipPath id=\"clip962\">\n",
       "    <rect x=\"249\" y=\"47\" width=\"2105\" height=\"1377\"/>\n",
       "  </clipPath>\n",
       "</defs>\n",
       "<polyline clip-path=\"url(#clip962)\" style=\"stroke:#000000; stroke-width:2; stroke-opacity:0.1; fill:none\" points=\"\n",
       "  308.73,1423.18 308.73,47.2441 \n",
       "  \"/>\n",
       "<polyline clip-path=\"url(#clip962)\" style=\"stroke:#000000; stroke-width:2; stroke-opacity:0.1; fill:none\" points=\"\n",
       "  705.628,1423.18 705.628,47.2441 \n",
       "  \"/>\n",
       "<polyline clip-path=\"url(#clip962)\" style=\"stroke:#000000; stroke-width:2; stroke-opacity:0.1; fill:none\" points=\"\n",
       "  1102.53,1423.18 1102.53,47.2441 \n",
       "  \"/>\n",
       "<polyline clip-path=\"url(#clip962)\" style=\"stroke:#000000; stroke-width:2; stroke-opacity:0.1; fill:none\" points=\"\n",
       "  1499.42,1423.18 1499.42,47.2441 \n",
       "  \"/>\n",
       "<polyline clip-path=\"url(#clip962)\" style=\"stroke:#000000; stroke-width:2; stroke-opacity:0.1; fill:none\" points=\"\n",
       "  1896.32,1423.18 1896.32,47.2441 \n",
       "  \"/>\n",
       "<polyline clip-path=\"url(#clip962)\" style=\"stroke:#000000; stroke-width:2; stroke-opacity:0.1; fill:none\" points=\"\n",
       "  2293.22,1423.18 2293.22,47.2441 \n",
       "  \"/>\n",
       "<polyline clip-path=\"url(#clip960)\" style=\"stroke:#000000; stroke-width:4; stroke-opacity:1; fill:none\" points=\"\n",
       "  249.195,1423.18 2352.76,1423.18 \n",
       "  \"/>\n",
       "<polyline clip-path=\"url(#clip960)\" style=\"stroke:#000000; stroke-width:4; stroke-opacity:1; fill:none\" points=\"\n",
       "  308.73,1423.18 308.73,1406.67 \n",
       "  \"/>\n",
       "<polyline clip-path=\"url(#clip960)\" style=\"stroke:#000000; stroke-width:4; stroke-opacity:1; fill:none\" points=\"\n",
       "  705.628,1423.18 705.628,1406.67 \n",
       "  \"/>\n",
       "<polyline clip-path=\"url(#clip960)\" style=\"stroke:#000000; stroke-width:4; stroke-opacity:1; fill:none\" points=\"\n",
       "  1102.53,1423.18 1102.53,1406.67 \n",
       "  \"/>\n",
       "<polyline clip-path=\"url(#clip960)\" style=\"stroke:#000000; stroke-width:4; stroke-opacity:1; fill:none\" points=\"\n",
       "  1499.42,1423.18 1499.42,1406.67 \n",
       "  \"/>\n",
       "<polyline clip-path=\"url(#clip960)\" style=\"stroke:#000000; stroke-width:4; stroke-opacity:1; fill:none\" points=\"\n",
       "  1896.32,1423.18 1896.32,1406.67 \n",
       "  \"/>\n",
       "<polyline clip-path=\"url(#clip960)\" style=\"stroke:#000000; stroke-width:4; stroke-opacity:1; fill:none\" points=\"\n",
       "  2293.22,1423.18 2293.22,1406.67 \n",
       "  \"/>\n",
       "<path clip-path=\"url(#clip960)\" d=\"M 0 0 M260.802 1479.92 L268.44 1479.92 L268.44 1453.55 L260.13 1455.22 L260.13 1450.96 L268.394 1449.29 L273.07 1449.29 L273.07 1479.92 L280.709 1479.92 L280.709 1483.85 L260.802 1483.85 L260.802 1479.92 Z\" fill=\"#000000\" fill-rule=\"evenodd\" fill-opacity=\"1\" /><path clip-path=\"url(#clip960)\" d=\"M 0 0 M290.153 1477.97 L295.038 1477.97 L295.038 1483.85 L290.153 1483.85 L290.153 1477.97 Z\" fill=\"#000000\" fill-rule=\"evenodd\" fill-opacity=\"1\" /><path clip-path=\"url(#clip960)\" d=\"M 0 0 M315.223 1452.37 Q311.611 1452.37 309.783 1455.94 Q307.977 1459.48 307.977 1466.61 Q307.977 1473.71 309.783 1477.28 Q311.611 1480.82 315.223 1480.82 Q318.857 1480.82 320.662 1477.28 Q322.491 1473.71 322.491 1466.61 Q322.491 1459.48 320.662 1455.94 Q318.857 1452.37 315.223 1452.37 M315.223 1448.67 Q321.033 1448.67 324.088 1453.27 Q327.167 1457.86 327.167 1466.61 Q327.167 1475.33 324.088 1479.94 Q321.033 1484.52 315.223 1484.52 Q309.412 1484.52 306.334 1479.94 Q303.278 1475.33 303.278 1466.61 Q303.278 1457.86 306.334 1453.27 Q309.412 1448.67 315.223 1448.67 Z\" fill=\"#000000\" fill-rule=\"evenodd\" fill-opacity=\"1\" /><path clip-path=\"url(#clip960)\" d=\"M 0 0 M345.384 1452.37 Q341.773 1452.37 339.945 1455.94 Q338.139 1459.48 338.139 1466.61 Q338.139 1473.71 339.945 1477.28 Q341.773 1480.82 345.384 1480.82 Q349.019 1480.82 350.824 1477.28 Q352.653 1473.71 352.653 1466.61 Q352.653 1459.48 350.824 1455.94 Q349.019 1452.37 345.384 1452.37 M345.384 1448.67 Q351.195 1448.67 354.25 1453.27 Q357.329 1457.86 357.329 1466.61 Q357.329 1475.33 354.25 1479.94 Q351.195 1484.52 345.384 1484.52 Q339.574 1484.52 336.496 1479.94 Q333.44 1475.33 333.44 1466.61 Q333.44 1457.86 336.496 1453.27 Q339.574 1448.67 345.384 1448.67 Z\" fill=\"#000000\" fill-rule=\"evenodd\" fill-opacity=\"1\" /><path clip-path=\"url(#clip960)\" d=\"M 0 0 M658.313 1479.92 L665.952 1479.92 L665.952 1453.55 L657.642 1455.22 L657.642 1450.96 L665.906 1449.29 L670.582 1449.29 L670.582 1479.92 L678.221 1479.92 L678.221 1483.85 L658.313 1483.85 L658.313 1479.92 Z\" fill=\"#000000\" fill-rule=\"evenodd\" fill-opacity=\"1\" /><path clip-path=\"url(#clip960)\" d=\"M 0 0 M687.665 1477.97 L692.549 1477.97 L692.549 1483.85 L687.665 1483.85 L687.665 1477.97 Z\" fill=\"#000000\" fill-rule=\"evenodd\" fill-opacity=\"1\" /><path clip-path=\"url(#clip960)\" d=\"M 0 0 M712.734 1452.37 Q709.123 1452.37 707.295 1455.94 Q705.489 1459.48 705.489 1466.61 Q705.489 1473.71 707.295 1477.28 Q709.123 1480.82 712.734 1480.82 Q716.369 1480.82 718.174 1477.28 Q720.003 1473.71 720.003 1466.61 Q720.003 1459.48 718.174 1455.94 Q716.369 1452.37 712.734 1452.37 M712.734 1448.67 Q718.544 1448.67 721.6 1453.27 Q724.679 1457.86 724.679 1466.61 Q724.679 1475.33 721.6 1479.94 Q718.544 1484.52 712.734 1484.52 Q706.924 1484.52 703.845 1479.94 Q700.79 1475.33 700.79 1466.61 Q700.79 1457.86 703.845 1453.27 Q706.924 1448.67 712.734 1448.67 Z\" fill=\"#000000\" fill-rule=\"evenodd\" fill-opacity=\"1\" /><path clip-path=\"url(#clip960)\" d=\"M 0 0 M733.706 1479.92 L741.345 1479.92 L741.345 1453.55 L733.035 1455.22 L733.035 1450.96 L741.299 1449.29 L745.975 1449.29 L745.975 1479.92 L753.614 1479.92 L753.614 1483.85 L733.706 1483.85 L733.706 1479.92 Z\" fill=\"#000000\" fill-rule=\"evenodd\" fill-opacity=\"1\" /><path clip-path=\"url(#clip960)\" d=\"M 0 0 M1055.4 1479.92 L1063.04 1479.92 L1063.04 1453.55 L1054.73 1455.22 L1054.73 1450.96 L1062.99 1449.29 L1067.67 1449.29 L1067.67 1479.92 L1075.3 1479.92 L1075.3 1483.85 L1055.4 1483.85 L1055.4 1479.92 Z\" fill=\"#000000\" fill-rule=\"evenodd\" fill-opacity=\"1\" /><path clip-path=\"url(#clip960)\" d=\"M 0 0 M1084.75 1477.97 L1089.63 1477.97 L1089.63 1483.85 L1084.75 1483.85 L1084.75 1477.97 Z\" fill=\"#000000\" fill-rule=\"evenodd\" fill-opacity=\"1\" /><path clip-path=\"url(#clip960)\" d=\"M 0 0 M1109.82 1452.37 Q1106.21 1452.37 1104.38 1455.94 Q1102.57 1459.48 1102.57 1466.61 Q1102.57 1473.71 1104.38 1477.28 Q1106.21 1480.82 1109.82 1480.82 Q1113.45 1480.82 1115.26 1477.28 Q1117.09 1473.71 1117.09 1466.61 Q1117.09 1459.48 1115.26 1455.94 Q1113.45 1452.37 1109.82 1452.37 M1109.82 1448.67 Q1115.63 1448.67 1118.68 1453.27 Q1121.76 1457.86 1121.76 1466.61 Q1121.76 1475.33 1118.68 1479.94 Q1115.63 1484.52 1109.82 1484.52 Q1104.01 1484.52 1100.93 1479.94 Q1097.87 1475.33 1097.87 1466.61 Q1097.87 1457.86 1100.93 1453.27 Q1104.01 1448.67 1109.82 1448.67 Z\" fill=\"#000000\" fill-rule=\"evenodd\" fill-opacity=\"1\" /><path clip-path=\"url(#clip960)\" d=\"M 0 0 M1134.01 1479.92 L1150.33 1479.92 L1150.33 1483.85 L1128.38 1483.85 L1128.38 1479.92 Q1131.04 1477.16 1135.63 1472.53 Q1140.23 1467.88 1141.41 1466.54 Q1143.66 1464.01 1144.54 1462.28 Q1145.44 1460.52 1145.44 1458.83 Q1145.44 1456.07 1143.5 1454.34 Q1141.58 1452.6 1138.48 1452.6 Q1136.28 1452.6 1133.82 1453.37 Q1131.39 1454.13 1128.61 1455.68 L1128.61 1450.96 Q1131.44 1449.82 1133.89 1449.25 Q1136.35 1448.67 1138.38 1448.67 Q1143.75 1448.67 1146.95 1451.35 Q1150.14 1454.04 1150.14 1458.53 Q1150.14 1460.66 1149.33 1462.58 Q1148.54 1464.48 1146.44 1467.07 Q1145.86 1467.74 1142.76 1470.96 Q1139.66 1474.15 1134.01 1479.92 Z\" fill=\"#000000\" fill-rule=\"evenodd\" fill-opacity=\"1\" /><path clip-path=\"url(#clip960)\" d=\"M 0 0 M1451.82 1479.92 L1459.46 1479.92 L1459.46 1453.55 L1451.15 1455.22 L1451.15 1450.96 L1459.41 1449.29 L1464.09 1449.29 L1464.09 1479.92 L1471.73 1479.92 L1471.73 1483.85 L1451.82 1483.85 L1451.82 1479.92 Z\" fill=\"#000000\" fill-rule=\"evenodd\" fill-opacity=\"1\" /><path clip-path=\"url(#clip960)\" d=\"M 0 0 M1481.17 1477.97 L1486.06 1477.97 L1486.06 1483.85 L1481.17 1483.85 L1481.17 1477.97 Z\" fill=\"#000000\" fill-rule=\"evenodd\" fill-opacity=\"1\" /><path clip-path=\"url(#clip960)\" d=\"M 0 0 M1506.24 1452.37 Q1502.63 1452.37 1500.8 1455.94 Q1499 1459.48 1499 1466.61 Q1499 1473.71 1500.8 1477.28 Q1502.63 1480.82 1506.24 1480.82 Q1509.88 1480.82 1511.68 1477.28 Q1513.51 1473.71 1513.51 1466.61 Q1513.51 1459.48 1511.68 1455.94 Q1509.88 1452.37 1506.24 1452.37 M1506.24 1448.67 Q1512.05 1448.67 1515.11 1453.27 Q1518.19 1457.86 1518.19 1466.61 Q1518.19 1475.33 1515.11 1479.94 Q1512.05 1484.52 1506.24 1484.52 Q1500.43 1484.52 1497.35 1479.94 Q1494.3 1475.33 1494.3 1466.61 Q1494.3 1457.86 1497.35 1453.27 Q1500.43 1448.67 1506.24 1448.67 Z\" fill=\"#000000\" fill-rule=\"evenodd\" fill-opacity=\"1\" /><path clip-path=\"url(#clip960)\" d=\"M 0 0 M1540.57 1465.22 Q1543.93 1465.94 1545.8 1468.2 Q1547.7 1470.47 1547.7 1473.81 Q1547.7 1478.92 1544.18 1481.72 Q1540.66 1484.52 1534.18 1484.52 Q1532.01 1484.52 1529.69 1484.08 Q1527.4 1483.67 1524.95 1482.81 L1524.95 1478.3 Q1526.89 1479.43 1529.2 1480.01 Q1531.52 1480.59 1534.04 1480.59 Q1538.44 1480.59 1540.73 1478.85 Q1543.05 1477.12 1543.05 1473.81 Q1543.05 1470.75 1540.89 1469.04 Q1538.76 1467.3 1534.95 1467.3 L1530.92 1467.3 L1530.92 1463.46 L1535.13 1463.46 Q1538.58 1463.46 1540.41 1462.09 Q1542.24 1460.7 1542.24 1458.11 Q1542.24 1455.45 1540.34 1454.04 Q1538.46 1452.6 1534.95 1452.6 Q1533.02 1452.6 1530.82 1453.02 Q1528.63 1453.44 1525.99 1454.31 L1525.99 1450.15 Q1528.65 1449.41 1530.96 1449.04 Q1533.3 1448.67 1535.36 1448.67 Q1540.69 1448.67 1543.79 1451.1 Q1546.89 1453.5 1546.89 1457.63 Q1546.89 1460.5 1545.25 1462.49 Q1543.6 1464.45 1540.57 1465.22 Z\" fill=\"#000000\" fill-rule=\"evenodd\" fill-opacity=\"1\" /><path clip-path=\"url(#clip960)\" d=\"M 0 0 M1848.15 1479.92 L1855.79 1479.92 L1855.79 1453.55 L1847.48 1455.22 L1847.48 1450.96 L1855.74 1449.29 L1860.42 1449.29 L1860.42 1479.92 L1868.06 1479.92 L1868.06 1483.85 L1848.15 1483.85 L1848.15 1479.92 Z\" fill=\"#000000\" fill-rule=\"evenodd\" fill-opacity=\"1\" /><path clip-path=\"url(#clip960)\" d=\"M 0 0 M1877.5 1477.97 L1882.39 1477.97 L1882.39 1483.85 L1877.5 1483.85 L1877.5 1477.97 Z\" fill=\"#000000\" fill-rule=\"evenodd\" fill-opacity=\"1\" /><path clip-path=\"url(#clip960)\" d=\"M 0 0 M1902.57 1452.37 Q1898.96 1452.37 1897.13 1455.94 Q1895.33 1459.48 1895.33 1466.61 Q1895.33 1473.71 1897.13 1477.28 Q1898.96 1480.82 1902.57 1480.82 Q1906.21 1480.82 1908.01 1477.28 Q1909.84 1473.71 1909.84 1466.61 Q1909.84 1459.48 1908.01 1455.94 Q1906.21 1452.37 1902.57 1452.37 M1902.57 1448.67 Q1908.38 1448.67 1911.44 1453.27 Q1914.52 1457.86 1914.52 1466.61 Q1914.52 1475.33 1911.44 1479.94 Q1908.38 1484.52 1902.57 1484.52 Q1896.76 1484.52 1893.68 1479.94 Q1890.63 1475.33 1890.63 1466.61 Q1890.63 1457.86 1893.68 1453.27 Q1896.76 1448.67 1902.57 1448.67 Z\" fill=\"#000000\" fill-rule=\"evenodd\" fill-opacity=\"1\" /><path clip-path=\"url(#clip960)\" d=\"M 0 0 M1935.58 1453.37 L1923.78 1471.81 L1935.58 1471.81 L1935.58 1453.37 M1934.36 1449.29 L1940.23 1449.29 L1940.23 1471.81 L1945.17 1471.81 L1945.17 1475.7 L1940.23 1475.7 L1940.23 1483.85 L1935.58 1483.85 L1935.58 1475.7 L1919.98 1475.7 L1919.98 1471.19 L1934.36 1449.29 Z\" fill=\"#000000\" fill-rule=\"evenodd\" fill-opacity=\"1\" /><path clip-path=\"url(#clip960)\" d=\"M 0 0 M2245.79 1479.92 L2253.43 1479.92 L2253.43 1453.55 L2245.12 1455.22 L2245.12 1450.96 L2253.38 1449.29 L2258.06 1449.29 L2258.06 1479.92 L2265.7 1479.92 L2265.7 1483.85 L2245.79 1483.85 L2245.79 1479.92 Z\" fill=\"#000000\" fill-rule=\"evenodd\" fill-opacity=\"1\" /><path clip-path=\"url(#clip960)\" d=\"M 0 0 M2275.14 1477.97 L2280.03 1477.97 L2280.03 1483.85 L2275.14 1483.85 L2275.14 1477.97 Z\" fill=\"#000000\" fill-rule=\"evenodd\" fill-opacity=\"1\" /><path clip-path=\"url(#clip960)\" d=\"M 0 0 M2300.21 1452.37 Q2296.6 1452.37 2294.77 1455.94 Q2292.97 1459.48 2292.97 1466.61 Q2292.97 1473.71 2294.77 1477.28 Q2296.6 1480.82 2300.21 1480.82 Q2303.85 1480.82 2305.65 1477.28 Q2307.48 1473.71 2307.48 1466.61 Q2307.48 1459.48 2305.65 1455.94 Q2303.85 1452.37 2300.21 1452.37 M2300.21 1448.67 Q2306.02 1448.67 2309.08 1453.27 Q2312.16 1457.86 2312.16 1466.61 Q2312.16 1475.33 2309.08 1479.94 Q2306.02 1484.52 2300.21 1484.52 Q2294.4 1484.52 2291.32 1479.94 Q2288.27 1475.33 2288.27 1466.61 Q2288.27 1457.86 2291.32 1453.27 Q2294.4 1448.67 2300.21 1448.67 Z\" fill=\"#000000\" fill-rule=\"evenodd\" fill-opacity=\"1\" /><path clip-path=\"url(#clip960)\" d=\"M 0 0 M2320.42 1449.29 L2338.78 1449.29 L2338.78 1453.23 L2324.7 1453.23 L2324.7 1461.7 Q2325.72 1461.35 2326.74 1461.19 Q2327.76 1461 2328.78 1461 Q2334.56 1461 2337.94 1464.18 Q2341.32 1467.35 2341.32 1472.76 Q2341.32 1478.34 2337.85 1481.44 Q2334.38 1484.52 2328.06 1484.52 Q2325.88 1484.52 2323.61 1484.15 Q2321.37 1483.78 2318.96 1483.04 L2318.96 1478.34 Q2321.05 1479.48 2323.27 1480.03 Q2325.49 1480.59 2327.97 1480.59 Q2331.97 1480.59 2334.31 1478.48 Q2336.65 1476.38 2336.65 1472.76 Q2336.65 1469.15 2334.31 1467.05 Q2331.97 1464.94 2327.97 1464.94 Q2326.09 1464.94 2324.22 1465.36 Q2322.36 1465.77 2320.42 1466.65 L2320.42 1449.29 Z\" fill=\"#000000\" fill-rule=\"evenodd\" fill-opacity=\"1\" /><path clip-path=\"url(#clip960)\" d=\"M 0 0 M1311.05 1549.81 Q1311.05 1543.44 1308.41 1539.94 Q1305.8 1536.44 1301.05 1536.44 Q1296.34 1536.44 1293.7 1539.94 Q1291.09 1543.44 1291.09 1549.81 Q1291.09 1556.14 1293.7 1559.64 Q1296.34 1563.14 1301.05 1563.14 Q1305.8 1563.14 1308.41 1559.64 Q1311.05 1556.14 1311.05 1549.81 M1316.91 1563.62 Q1316.91 1572.72 1312.86 1577.15 Q1308.82 1581.6 1300.48 1581.6 Q1297.39 1581.6 1294.66 1581.13 Q1291.92 1580.68 1289.34 1579.72 L1289.34 1574.03 Q1291.92 1575.43 1294.43 1576.1 Q1296.95 1576.76 1299.56 1576.76 Q1305.32 1576.76 1308.18 1573.74 Q1311.05 1570.75 1311.05 1564.67 L1311.05 1561.77 Q1309.23 1564.92 1306.4 1566.48 Q1303.57 1568.04 1299.62 1568.04 Q1293.07 1568.04 1289.06 1563.05 Q1285.05 1558.05 1285.05 1549.81 Q1285.05 1541.53 1289.06 1536.53 Q1293.07 1531.54 1299.62 1531.54 Q1303.57 1531.54 1306.4 1533.1 Q1309.23 1534.66 1311.05 1537.81 L1311.05 1532.4 L1316.91 1532.4 L1316.91 1563.62 Z\" fill=\"#000000\" fill-rule=\"evenodd\" fill-opacity=\"1\" /><polyline clip-path=\"url(#clip962)\" style=\"stroke:#000000; stroke-width:2; stroke-opacity:0.1; fill:none\" points=\"\n",
       "  249.195,1393.32 2352.76,1393.32 \n",
       "  \"/>\n",
       "<polyline clip-path=\"url(#clip962)\" style=\"stroke:#000000; stroke-width:2; stroke-opacity:0.1; fill:none\" points=\"\n",
       "  249.195,1118.81 2352.76,1118.81 \n",
       "  \"/>\n",
       "<polyline clip-path=\"url(#clip962)\" style=\"stroke:#000000; stroke-width:2; stroke-opacity:0.1; fill:none\" points=\"\n",
       "  249.195,844.303 2352.76,844.303 \n",
       "  \"/>\n",
       "<polyline clip-path=\"url(#clip962)\" style=\"stroke:#000000; stroke-width:2; stroke-opacity:0.1; fill:none\" points=\"\n",
       "  249.195,569.794 2352.76,569.794 \n",
       "  \"/>\n",
       "<polyline clip-path=\"url(#clip962)\" style=\"stroke:#000000; stroke-width:2; stroke-opacity:0.1; fill:none\" points=\"\n",
       "  249.195,295.284 2352.76,295.284 \n",
       "  \"/>\n",
       "<polyline clip-path=\"url(#clip960)\" style=\"stroke:#000000; stroke-width:4; stroke-opacity:1; fill:none\" points=\"\n",
       "  249.195,1423.18 249.195,47.2441 \n",
       "  \"/>\n",
       "<polyline clip-path=\"url(#clip960)\" style=\"stroke:#000000; stroke-width:4; stroke-opacity:1; fill:none\" points=\"\n",
       "  249.195,1393.32 274.438,1393.32 \n",
       "  \"/>\n",
       "<polyline clip-path=\"url(#clip960)\" style=\"stroke:#000000; stroke-width:4; stroke-opacity:1; fill:none\" points=\"\n",
       "  249.195,1118.81 274.438,1118.81 \n",
       "  \"/>\n",
       "<polyline clip-path=\"url(#clip960)\" style=\"stroke:#000000; stroke-width:4; stroke-opacity:1; fill:none\" points=\"\n",
       "  249.195,844.303 274.438,844.303 \n",
       "  \"/>\n",
       "<polyline clip-path=\"url(#clip960)\" style=\"stroke:#000000; stroke-width:4; stroke-opacity:1; fill:none\" points=\"\n",
       "  249.195,569.794 274.438,569.794 \n",
       "  \"/>\n",
       "<polyline clip-path=\"url(#clip960)\" style=\"stroke:#000000; stroke-width:4; stroke-opacity:1; fill:none\" points=\"\n",
       "  249.195,295.284 274.438,295.284 \n",
       "  \"/>\n",
       "<path clip-path=\"url(#clip960)\" d=\"M 0 0 M116.668 1406.67 L124.306 1406.67 L124.306 1380.3 L115.996 1381.97 L115.996 1377.71 L124.26 1376.04 L128.936 1376.04 L128.936 1406.67 L136.575 1406.67 L136.575 1410.6 L116.668 1410.6 L116.668 1406.67 Z\" fill=\"#000000\" fill-rule=\"evenodd\" fill-opacity=\"1\" /><path clip-path=\"url(#clip960)\" d=\"M 0 0 M146.019 1404.72 L150.903 1404.72 L150.903 1410.6 L146.019 1410.6 L146.019 1404.72 Z\" fill=\"#000000\" fill-rule=\"evenodd\" fill-opacity=\"1\" /><path clip-path=\"url(#clip960)\" d=\"M 0 0 M161.135 1376.04 L179.491 1376.04 L179.491 1379.98 L165.417 1379.98 L165.417 1388.45 Q166.436 1388.1 167.454 1387.94 Q168.473 1387.75 169.491 1387.75 Q175.278 1387.75 178.658 1390.93 Q182.038 1394.1 182.038 1399.51 Q182.038 1405.09 178.565 1408.19 Q175.093 1411.27 168.774 1411.27 Q166.598 1411.27 164.329 1410.9 Q162.084 1410.53 159.677 1409.79 L159.677 1405.09 Q161.76 1406.23 163.982 1406.78 Q166.204 1407.34 168.681 1407.34 Q172.686 1407.34 175.024 1405.23 Q177.362 1403.12 177.362 1399.51 Q177.362 1395.9 175.024 1393.8 Q172.686 1391.69 168.681 1391.69 Q166.806 1391.69 164.931 1392.11 Q163.079 1392.52 161.135 1393.4 L161.135 1376.04 Z\" fill=\"#000000\" fill-rule=\"evenodd\" fill-opacity=\"1\" /><path clip-path=\"url(#clip960)\" d=\"M 0 0 M201.25 1379.12 Q197.639 1379.12 195.811 1382.69 Q194.005 1386.23 194.005 1393.36 Q194.005 1400.46 195.811 1404.03 Q197.639 1407.57 201.25 1407.57 Q204.885 1407.57 206.69 1404.03 Q208.519 1400.46 208.519 1393.36 Q208.519 1386.23 206.69 1382.69 Q204.885 1379.12 201.25 1379.12 M201.25 1375.42 Q207.061 1375.42 210.116 1380.02 Q213.195 1384.61 213.195 1393.36 Q213.195 1402.08 210.116 1406.69 Q207.061 1411.27 201.25 1411.27 Q195.44 1411.27 192.362 1406.69 Q189.306 1402.08 189.306 1393.36 Q189.306 1384.61 192.362 1380.02 Q195.44 1375.42 201.25 1375.42 Z\" fill=\"#000000\" fill-rule=\"evenodd\" fill-opacity=\"1\" /><path clip-path=\"url(#clip960)\" d=\"M 0 0 M117.663 1132.16 L125.302 1132.16 L125.302 1105.79 L116.992 1107.46 L116.992 1103.2 L125.255 1101.53 L129.931 1101.53 L129.931 1132.16 L137.57 1132.16 L137.57 1136.09 L117.663 1136.09 L117.663 1132.16 Z\" fill=\"#000000\" fill-rule=\"evenodd\" fill-opacity=\"1\" /><path clip-path=\"url(#clip960)\" d=\"M 0 0 M147.015 1130.21 L151.899 1130.21 L151.899 1136.09 L147.015 1136.09 L147.015 1130.21 Z\" fill=\"#000000\" fill-rule=\"evenodd\" fill-opacity=\"1\" /><path clip-path=\"url(#clip960)\" d=\"M 0 0 M160.903 1101.53 L183.126 1101.53 L183.126 1103.52 L170.579 1136.09 L165.695 1136.09 L177.501 1105.47 L160.903 1105.47 L160.903 1101.53 Z\" fill=\"#000000\" fill-rule=\"evenodd\" fill-opacity=\"1\" /><path clip-path=\"url(#clip960)\" d=\"M 0 0 M192.292 1101.53 L210.649 1101.53 L210.649 1105.47 L196.575 1105.47 L196.575 1113.94 Q197.593 1113.59 198.612 1113.43 Q199.63 1113.25 200.649 1113.25 Q206.436 1113.25 209.815 1116.42 Q213.195 1119.59 213.195 1125 Q213.195 1130.58 209.723 1133.68 Q206.25 1136.76 199.931 1136.76 Q197.755 1136.76 195.487 1136.39 Q193.241 1136.02 190.834 1135.28 L190.834 1130.58 Q192.917 1131.72 195.139 1132.27 Q197.362 1132.83 199.838 1132.83 Q203.843 1132.83 206.181 1130.72 Q208.519 1128.62 208.519 1125 Q208.519 1121.39 206.181 1119.29 Q203.843 1117.18 199.838 1117.18 Q197.963 1117.18 196.088 1117.6 Q194.237 1118.01 192.292 1118.89 L192.292 1101.53 Z\" fill=\"#000000\" fill-rule=\"evenodd\" fill-opacity=\"1\" /><path clip-path=\"url(#clip960)\" d=\"M 0 0 M119.885 857.648 L136.204 857.648 L136.204 861.583 L114.26 861.583 L114.26 857.648 Q116.922 854.893 121.505 850.264 Q126.112 845.611 127.292 844.268 Q129.538 841.745 130.417 840.009 Q131.32 838.25 131.32 836.56 Q131.32 833.805 129.376 832.069 Q127.455 830.333 124.353 830.333 Q122.154 830.333 119.7 831.097 Q117.269 831.861 114.492 833.412 L114.492 828.69 Q117.316 827.555 119.769 826.977 Q122.223 826.398 124.26 826.398 Q129.63 826.398 132.825 829.083 Q136.019 831.768 136.019 836.259 Q136.019 838.389 135.209 840.31 Q134.422 842.208 132.316 844.801 Q131.737 845.472 128.635 848.689 Q125.533 851.884 119.885 857.648 Z\" fill=\"#000000\" fill-rule=\"evenodd\" fill-opacity=\"1\" /><path clip-path=\"url(#clip960)\" d=\"M 0 0 M146.019 855.703 L150.903 855.703 L150.903 861.583 L146.019 861.583 L146.019 855.703 Z\" fill=\"#000000\" fill-rule=\"evenodd\" fill-opacity=\"1\" /><path clip-path=\"url(#clip960)\" d=\"M 0 0 M171.089 830.102 Q167.477 830.102 165.649 833.666 Q163.843 837.208 163.843 844.338 Q163.843 851.444 165.649 855.009 Q167.477 858.551 171.089 858.551 Q174.723 858.551 176.528 855.009 Q178.357 851.444 178.357 844.338 Q178.357 837.208 176.528 833.666 Q174.723 830.102 171.089 830.102 M171.089 826.398 Q176.899 826.398 179.954 831.004 Q183.033 835.588 183.033 844.338 Q183.033 853.064 179.954 857.671 Q176.899 862.254 171.089 862.254 Q165.278 862.254 162.2 857.671 Q159.144 853.064 159.144 844.338 Q159.144 835.588 162.2 831.004 Q165.278 826.398 171.089 826.398 Z\" fill=\"#000000\" fill-rule=\"evenodd\" fill-opacity=\"1\" /><path clip-path=\"url(#clip960)\" d=\"M 0 0 M201.25 830.102 Q197.639 830.102 195.811 833.666 Q194.005 837.208 194.005 844.338 Q194.005 851.444 195.811 855.009 Q197.639 858.551 201.25 858.551 Q204.885 858.551 206.69 855.009 Q208.519 851.444 208.519 844.338 Q208.519 837.208 206.69 833.666 Q204.885 830.102 201.25 830.102 M201.25 826.398 Q207.061 826.398 210.116 831.004 Q213.195 835.588 213.195 844.338 Q213.195 853.064 210.116 857.671 Q207.061 862.254 201.25 862.254 Q195.44 862.254 192.362 857.671 Q189.306 853.064 189.306 844.338 Q189.306 835.588 192.362 831.004 Q195.44 826.398 201.25 826.398 Z\" fill=\"#000000\" fill-rule=\"evenodd\" fill-opacity=\"1\" /><path clip-path=\"url(#clip960)\" d=\"M 0 0 M120.88 583.138 L137.2 583.138 L137.2 587.074 L115.256 587.074 L115.256 583.138 Q117.918 580.384 122.501 575.754 Q127.107 571.101 128.288 569.759 Q130.533 567.236 131.413 565.5 Q132.316 563.74 132.316 562.051 Q132.316 559.296 130.371 557.56 Q128.45 555.824 125.348 555.824 Q123.149 555.824 120.695 556.588 Q118.265 557.352 115.487 558.902 L115.487 554.18 Q118.311 553.046 120.765 552.467 Q123.218 551.889 125.255 551.889 Q130.626 551.889 133.82 554.574 Q137.015 557.259 137.015 561.75 Q137.015 563.879 136.204 565.801 Q135.417 567.699 133.311 570.291 Q132.732 570.963 129.63 574.18 Q126.529 577.375 120.88 583.138 Z\" fill=\"#000000\" fill-rule=\"evenodd\" fill-opacity=\"1\" /><path clip-path=\"url(#clip960)\" d=\"M 0 0 M147.015 581.194 L151.899 581.194 L151.899 587.074 L147.015 587.074 L147.015 581.194 Z\" fill=\"#000000\" fill-rule=\"evenodd\" fill-opacity=\"1\" /><path clip-path=\"url(#clip960)\" d=\"M 0 0 M166.112 583.138 L182.431 583.138 L182.431 587.074 L160.487 587.074 L160.487 583.138 Q163.149 580.384 167.732 575.754 Q172.339 571.101 173.519 569.759 Q175.764 567.236 176.644 565.5 Q177.547 563.74 177.547 562.051 Q177.547 559.296 175.602 557.56 Q173.681 555.824 170.579 555.824 Q168.38 555.824 165.927 556.588 Q163.496 557.352 160.718 558.902 L160.718 554.18 Q163.542 553.046 165.996 552.467 Q168.45 551.889 170.487 551.889 Q175.857 551.889 179.051 554.574 Q182.246 557.259 182.246 561.75 Q182.246 563.879 181.436 565.801 Q180.649 567.699 178.542 570.291 Q177.964 570.963 174.862 574.18 Q171.76 577.375 166.112 583.138 Z\" fill=\"#000000\" fill-rule=\"evenodd\" fill-opacity=\"1\" /><path clip-path=\"url(#clip960)\" d=\"M 0 0 M192.292 552.514 L210.649 552.514 L210.649 556.449 L196.575 556.449 L196.575 564.921 Q197.593 564.574 198.612 564.412 Q199.63 564.226 200.649 564.226 Q206.436 564.226 209.815 567.398 Q213.195 570.569 213.195 575.986 Q213.195 581.564 209.723 584.666 Q206.25 587.745 199.931 587.745 Q197.755 587.745 195.487 587.374 Q193.241 587.004 190.834 586.263 L190.834 581.564 Q192.917 582.699 195.139 583.254 Q197.362 583.81 199.838 583.81 Q203.843 583.81 206.181 581.703 Q208.519 579.597 208.519 575.986 Q208.519 572.375 206.181 570.268 Q203.843 568.162 199.838 568.162 Q197.963 568.162 196.088 568.578 Q194.237 568.995 192.292 569.875 L192.292 552.514 Z\" fill=\"#000000\" fill-rule=\"evenodd\" fill-opacity=\"1\" /><path clip-path=\"url(#clip960)\" d=\"M 0 0 M119.885 308.629 L136.204 308.629 L136.204 312.564 L114.26 312.564 L114.26 308.629 Q116.922 305.874 121.505 301.245 Q126.112 296.592 127.292 295.25 Q129.538 292.726 130.417 290.99 Q131.32 289.231 131.32 287.541 Q131.32 284.787 129.376 283.051 Q127.455 281.314 124.353 281.314 Q122.154 281.314 119.7 282.078 Q117.269 282.842 114.492 284.393 L114.492 279.671 Q117.316 278.537 119.769 277.958 Q122.223 277.379 124.26 277.379 Q129.63 277.379 132.825 280.064 Q136.019 282.75 136.019 287.24 Q136.019 289.37 135.209 291.291 Q134.422 293.189 132.316 295.782 Q131.737 296.453 128.635 299.671 Q125.533 302.865 119.885 308.629 Z\" fill=\"#000000\" fill-rule=\"evenodd\" fill-opacity=\"1\" /><path clip-path=\"url(#clip960)\" d=\"M 0 0 M146.019 306.685 L150.903 306.685 L150.903 312.564 L146.019 312.564 L146.019 306.685 Z\" fill=\"#000000\" fill-rule=\"evenodd\" fill-opacity=\"1\" /><path clip-path=\"url(#clip960)\" d=\"M 0 0 M161.135 278.004 L179.491 278.004 L179.491 281.939 L165.417 281.939 L165.417 290.412 Q166.436 290.064 167.454 289.902 Q168.473 289.717 169.491 289.717 Q175.278 289.717 178.658 292.888 Q182.038 296.06 182.038 301.476 Q182.038 307.055 178.565 310.157 Q175.093 313.236 168.774 313.236 Q166.598 313.236 164.329 312.865 Q162.084 312.495 159.677 311.754 L159.677 307.055 Q161.76 308.189 163.982 308.745 Q166.204 309.3 168.681 309.3 Q172.686 309.3 175.024 307.194 Q177.362 305.087 177.362 301.476 Q177.362 297.865 175.024 295.759 Q172.686 293.652 168.681 293.652 Q166.806 293.652 164.931 294.069 Q163.079 294.486 161.135 295.365 L161.135 278.004 Z\" fill=\"#000000\" fill-rule=\"evenodd\" fill-opacity=\"1\" /><path clip-path=\"url(#clip960)\" d=\"M 0 0 M201.25 281.083 Q197.639 281.083 195.811 284.648 Q194.005 288.189 194.005 295.319 Q194.005 302.425 195.811 305.99 Q197.639 309.532 201.25 309.532 Q204.885 309.532 206.69 305.99 Q208.519 302.425 208.519 295.319 Q208.519 288.189 206.69 284.648 Q204.885 281.083 201.25 281.083 M201.25 277.379 Q207.061 277.379 210.116 281.986 Q213.195 286.569 213.195 295.319 Q213.195 304.046 210.116 308.652 Q207.061 313.236 201.25 313.236 Q195.44 313.236 192.362 308.652 Q189.306 304.046 189.306 295.319 Q189.306 286.569 192.362 281.986 Q195.44 277.379 201.25 277.379 Z\" fill=\"#000000\" fill-rule=\"evenodd\" fill-opacity=\"1\" /><path clip-path=\"url(#clip960)\" d=\"M 0 0 M14.479 779.995 L14.479 774.106 L43.7294 774.106 L28.3562 756.633 L28.3562 749.153 L45.0344 768.059 L64.0042 748.357 L64.0042 755.996 L46.5939 774.106 L64.0042 774.106 L64.0042 779.995 L14.479 779.995 Z\" fill=\"#000000\" fill-rule=\"evenodd\" fill-opacity=\"1\" /><path clip-path=\"url(#clip960)\" d=\"M 0 0 M16.4842 731.615 L16.4842 726.204 L70.0516 742.755 L70.0516 748.166 L16.4842 731.615 Z\" fill=\"#000000\" fill-rule=\"evenodd\" fill-opacity=\"1\" /><path clip-path=\"url(#clip960)\" d=\"M 0 0 M42.4881 690.429 L64.0042 690.429 L64.0042 696.286 L42.679 696.286 Q37.6183 696.286 35.1038 698.259 Q32.5894 700.232 32.5894 704.179 Q32.5894 708.922 35.6131 711.659 Q38.6368 714.396 43.8567 714.396 L64.0042 714.396 L64.0042 720.284 L28.3562 720.284 L28.3562 714.396 L33.8944 714.396 Q30.6797 712.295 29.0883 709.463 Q27.4968 706.598 27.4968 702.874 Q27.4968 696.731 31.3163 693.58 Q35.1038 690.429 42.4881 690.429 Z\" fill=\"#000000\" fill-rule=\"evenodd\" fill-opacity=\"1\" /><polyline clip-path=\"url(#clip962)\" style=\"stroke:#009af9; stroke-width:4; stroke-opacity:1; fill:none\" points=\"\n",
       "  308.73,86.1857 705.628,461.528 1102.53,762.673 1499.42,1008.66 1896.32,1212.71 2293.22,1384.24 \n",
       "  \"/>\n",
       "<path clip-path=\"url(#clip960)\" d=\"\n",
       "M1996.48 214.069 L2282.64 214.069 L2282.64 93.1086 L1996.48 93.1086  Z\n",
       "  \" fill=\"#ffffff\" fill-rule=\"evenodd\" fill-opacity=\"1\"/>\n",
       "<polyline clip-path=\"url(#clip960)\" style=\"stroke:#000000; stroke-width:4; stroke-opacity:1; fill:none\" points=\"\n",
       "  1996.48,214.069 2282.64,214.069 2282.64,93.1086 1996.48,93.1086 1996.48,214.069 \n",
       "  \"/>\n",
       "<polyline clip-path=\"url(#clip960)\" style=\"stroke:#009af9; stroke-width:4; stroke-opacity:1; fill:none\" points=\"\n",
       "  2019.85,153.589 2160.09,153.589 \n",
       "  \"/>\n",
       "<path clip-path=\"url(#clip960)\" d=\"M 0 0 M2197.3 173.276 Q2195.5 177.906 2193.79 179.318 Q2192.07 180.73 2189.2 180.73 L2185.8 180.73 L2185.8 177.165 L2188.3 177.165 Q2190.06 177.165 2191.03 176.332 Q2192 175.498 2193.18 172.396 L2193.95 170.452 L2183.46 144.943 L2187.97 144.943 L2196.08 165.221 L2204.18 144.943 L2208.69 144.943 L2197.3 173.276 Z\" fill=\"#000000\" fill-rule=\"evenodd\" fill-opacity=\"1\" /><path clip-path=\"url(#clip960)\" d=\"M 0 0 M2215.98 166.933 L2223.62 166.933 L2223.62 140.568 L2215.31 142.235 L2215.31 137.975 L2223.58 136.309 L2228.25 136.309 L2228.25 166.933 L2235.89 166.933 L2235.89 170.869 L2215.98 170.869 L2215.98 166.933 Z\" fill=\"#000000\" fill-rule=\"evenodd\" fill-opacity=\"1\" /></svg>\n"
      ]
     },
     "execution_count": 625,
     "metadata": {},
     "output_type": "execute_result"
    }
   ],
   "source": [
    "gvec = range(1.0, 1.05; length=6)\n",
    "kbar_g = []\n",
    "for g in gvec\n",
    "    p0 = copy(p)\n",
    "    p0[:g] = g\n",
    "    kbar = steady_state(p0, 1.0)\n",
    "    push!(kbar_g, kbar)\n",
    "    \n",
    "end\n",
    "plot(gvec, kbar_g, xlabel=\"g\", ylabel=\"k/n\")"
   ]
  },
  {
   "cell_type": "code",
   "execution_count": 626,
   "id": "dbb8a94b-9585-438d-8d7a-3e901a032dd2",
   "metadata": {},
   "outputs": [
    {
     "data": {
      "image/svg+xml": [
       "<?xml version=\"1.0\" encoding=\"utf-8\"?>\n",
       "<svg xmlns=\"http://www.w3.org/2000/svg\" xmlns:xlink=\"http://www.w3.org/1999/xlink\" width=\"600\" height=\"400\" viewBox=\"0 0 2400 1600\">\n",
       "<defs>\n",
       "  <clipPath id=\"clip000\">\n",
       "    <rect x=\"0\" y=\"0\" width=\"2400\" height=\"1600\"/>\n",
       "  </clipPath>\n",
       "</defs>\n",
       "<path clip-path=\"url(#clip000)\" d=\"\n",
       "M0 1600 L2400 1600 L2400 0 L0 0  Z\n",
       "  \" fill=\"#ffffff\" fill-rule=\"evenodd\" fill-opacity=\"1\"/>\n",
       "<defs>\n",
       "  <clipPath id=\"clip001\">\n",
       "    <rect x=\"480\" y=\"0\" width=\"1681\" height=\"1600\"/>\n",
       "  </clipPath>\n",
       "</defs>\n",
       "<path clip-path=\"url(#clip000)\" d=\"\n",
       "M202.227 1423.18 L2352.76 1423.18 L2352.76 47.2441 L202.227 47.2441  Z\n",
       "  \" fill=\"#ffffff\" fill-rule=\"evenodd\" fill-opacity=\"1\"/>\n",
       "<defs>\n",
       "  <clipPath id=\"clip002\">\n",
       "    <rect x=\"202\" y=\"47\" width=\"2152\" height=\"1377\"/>\n",
       "  </clipPath>\n",
       "</defs>\n",
       "<polyline clip-path=\"url(#clip002)\" style=\"stroke:#000000; stroke-width:2; stroke-opacity:0.1; fill:none\" points=\"\n",
       "  263.091,1423.18 263.091,47.2441 \n",
       "  \"/>\n",
       "<polyline clip-path=\"url(#clip002)\" style=\"stroke:#000000; stroke-width:2; stroke-opacity:0.1; fill:none\" points=\"\n",
       "  770.292,1423.18 770.292,47.2441 \n",
       "  \"/>\n",
       "<polyline clip-path=\"url(#clip002)\" style=\"stroke:#000000; stroke-width:2; stroke-opacity:0.1; fill:none\" points=\"\n",
       "  1277.49,1423.18 1277.49,47.2441 \n",
       "  \"/>\n",
       "<polyline clip-path=\"url(#clip002)\" style=\"stroke:#000000; stroke-width:2; stroke-opacity:0.1; fill:none\" points=\"\n",
       "  1784.69,1423.18 1784.69,47.2441 \n",
       "  \"/>\n",
       "<polyline clip-path=\"url(#clip002)\" style=\"stroke:#000000; stroke-width:2; stroke-opacity:0.1; fill:none\" points=\"\n",
       "  2291.89,1423.18 2291.89,47.2441 \n",
       "  \"/>\n",
       "<polyline clip-path=\"url(#clip000)\" style=\"stroke:#000000; stroke-width:4; stroke-opacity:1; fill:none\" points=\"\n",
       "  202.227,1423.18 2352.76,1423.18 \n",
       "  \"/>\n",
       "<polyline clip-path=\"url(#clip000)\" style=\"stroke:#000000; stroke-width:4; stroke-opacity:1; fill:none\" points=\"\n",
       "  263.091,1423.18 263.091,1406.67 \n",
       "  \"/>\n",
       "<polyline clip-path=\"url(#clip000)\" style=\"stroke:#000000; stroke-width:4; stroke-opacity:1; fill:none\" points=\"\n",
       "  770.292,1423.18 770.292,1406.67 \n",
       "  \"/>\n",
       "<polyline clip-path=\"url(#clip000)\" style=\"stroke:#000000; stroke-width:4; stroke-opacity:1; fill:none\" points=\"\n",
       "  1277.49,1423.18 1277.49,1406.67 \n",
       "  \"/>\n",
       "<polyline clip-path=\"url(#clip000)\" style=\"stroke:#000000; stroke-width:4; stroke-opacity:1; fill:none\" points=\"\n",
       "  1784.69,1423.18 1784.69,1406.67 \n",
       "  \"/>\n",
       "<polyline clip-path=\"url(#clip000)\" style=\"stroke:#000000; stroke-width:4; stroke-opacity:1; fill:none\" points=\"\n",
       "  2291.89,1423.18 2291.89,1406.67 \n",
       "  \"/>\n",
       "<path clip-path=\"url(#clip000)\" d=\"M 0 0 M241.089 1452.37 Q237.478 1452.37 235.65 1455.94 Q233.844 1459.48 233.844 1466.61 Q233.844 1473.71 235.65 1477.28 Q237.478 1480.82 241.089 1480.82 Q244.724 1480.82 246.529 1477.28 Q248.358 1473.71 248.358 1466.61 Q248.358 1459.48 246.529 1455.94 Q244.724 1452.37 241.089 1452.37 M241.089 1448.67 Q246.899 1448.67 249.955 1453.27 Q253.034 1457.86 253.034 1466.61 Q253.034 1475.33 249.955 1479.94 Q246.899 1484.52 241.089 1484.52 Q235.279 1484.52 232.2 1479.94 Q229.145 1475.33 229.145 1466.61 Q229.145 1457.86 232.2 1453.27 Q235.279 1448.67 241.089 1448.67 Z\" fill=\"#000000\" fill-rule=\"evenodd\" fill-opacity=\"1\" /><path clip-path=\"url(#clip000)\" d=\"M 0 0 M261.251 1477.97 L266.135 1477.97 L266.135 1483.85 L261.251 1483.85 L261.251 1477.97 Z\" fill=\"#000000\" fill-rule=\"evenodd\" fill-opacity=\"1\" /><path clip-path=\"url(#clip000)\" d=\"M 0 0 M277.131 1479.92 L284.77 1479.92 L284.77 1453.55 L276.459 1455.22 L276.459 1450.96 L284.723 1449.29 L289.399 1449.29 L289.399 1479.92 L297.038 1479.92 L297.038 1483.85 L277.131 1483.85 L277.131 1479.92 Z\" fill=\"#000000\" fill-rule=\"evenodd\" fill-opacity=\"1\" /><path clip-path=\"url(#clip000)\" d=\"M 0 0 M748.475 1452.37 Q744.863 1452.37 743.035 1455.94 Q741.229 1459.48 741.229 1466.61 Q741.229 1473.71 743.035 1477.28 Q744.863 1480.82 748.475 1480.82 Q752.109 1480.82 753.914 1477.28 Q755.743 1473.71 755.743 1466.61 Q755.743 1459.48 753.914 1455.94 Q752.109 1452.37 748.475 1452.37 M748.475 1448.67 Q754.285 1448.67 757.34 1453.27 Q760.419 1457.86 760.419 1466.61 Q760.419 1475.33 757.34 1479.94 Q754.285 1484.52 748.475 1484.52 Q742.664 1484.52 739.586 1479.94 Q736.53 1475.33 736.53 1466.61 Q736.53 1457.86 739.586 1453.27 Q742.664 1448.67 748.475 1448.67 Z\" fill=\"#000000\" fill-rule=\"evenodd\" fill-opacity=\"1\" /><path clip-path=\"url(#clip000)\" d=\"M 0 0 M768.637 1477.97 L773.521 1477.97 L773.521 1483.85 L768.637 1483.85 L768.637 1477.97 Z\" fill=\"#000000\" fill-rule=\"evenodd\" fill-opacity=\"1\" /><path clip-path=\"url(#clip000)\" d=\"M 0 0 M787.734 1479.92 L804.053 1479.92 L804.053 1483.85 L782.109 1483.85 L782.109 1479.92 Q784.771 1477.16 789.354 1472.53 Q793.96 1467.88 795.141 1466.54 Q797.386 1464.01 798.266 1462.28 Q799.169 1460.52 799.169 1458.83 Q799.169 1456.07 797.224 1454.34 Q795.303 1452.6 792.201 1452.6 Q790.002 1452.6 787.548 1453.37 Q785.118 1454.13 782.34 1455.68 L782.34 1450.96 Q785.164 1449.82 787.618 1449.25 Q790.072 1448.67 792.109 1448.67 Q797.479 1448.67 800.673 1451.35 Q803.868 1454.04 803.868 1458.53 Q803.868 1460.66 803.058 1462.58 Q802.271 1464.48 800.164 1467.07 Q799.585 1467.74 796.484 1470.96 Q793.382 1474.15 787.734 1479.92 Z\" fill=\"#000000\" fill-rule=\"evenodd\" fill-opacity=\"1\" /><path clip-path=\"url(#clip000)\" d=\"M 0 0 M1255.2 1452.37 Q1251.59 1452.37 1249.76 1455.94 Q1247.95 1459.48 1247.95 1466.61 Q1247.95 1473.71 1249.76 1477.28 Q1251.59 1480.82 1255.2 1480.82 Q1258.83 1480.82 1260.64 1477.28 Q1262.47 1473.71 1262.47 1466.61 Q1262.47 1459.48 1260.64 1455.94 Q1258.83 1452.37 1255.2 1452.37 M1255.2 1448.67 Q1261.01 1448.67 1264.07 1453.27 Q1267.14 1457.86 1267.14 1466.61 Q1267.14 1475.33 1264.07 1479.94 Q1261.01 1484.52 1255.2 1484.52 Q1249.39 1484.52 1246.31 1479.94 Q1243.26 1475.33 1243.26 1466.61 Q1243.26 1457.86 1246.31 1453.27 Q1249.39 1448.67 1255.2 1448.67 Z\" fill=\"#000000\" fill-rule=\"evenodd\" fill-opacity=\"1\" /><path clip-path=\"url(#clip000)\" d=\"M 0 0 M1275.36 1477.97 L1280.25 1477.97 L1280.25 1483.85 L1275.36 1483.85 L1275.36 1477.97 Z\" fill=\"#000000\" fill-rule=\"evenodd\" fill-opacity=\"1\" /><path clip-path=\"url(#clip000)\" d=\"M 0 0 M1304.6 1465.22 Q1307.95 1465.94 1309.83 1468.2 Q1311.73 1470.47 1311.73 1473.81 Q1311.73 1478.92 1308.21 1481.72 Q1304.69 1484.52 1298.21 1484.52 Q1296.03 1484.52 1293.72 1484.08 Q1291.43 1483.67 1288.97 1482.81 L1288.97 1478.3 Q1290.92 1479.43 1293.23 1480.01 Q1295.55 1480.59 1298.07 1480.59 Q1302.47 1480.59 1304.76 1478.85 Q1307.07 1477.12 1307.07 1473.81 Q1307.07 1470.75 1304.92 1469.04 Q1302.79 1467.3 1298.97 1467.3 L1294.95 1467.3 L1294.95 1463.46 L1299.16 1463.46 Q1302.61 1463.46 1304.44 1462.09 Q1306.26 1460.7 1306.26 1458.11 Q1306.26 1455.45 1304.37 1454.04 Q1302.49 1452.6 1298.97 1452.6 Q1297.05 1452.6 1294.85 1453.02 Q1292.65 1453.44 1290.01 1454.31 L1290.01 1450.15 Q1292.68 1449.41 1294.99 1449.04 Q1297.33 1448.67 1299.39 1448.67 Q1304.71 1448.67 1307.82 1451.1 Q1310.92 1453.5 1310.92 1457.63 Q1310.92 1460.5 1309.27 1462.49 Q1307.63 1464.45 1304.6 1465.22 Z\" fill=\"#000000\" fill-rule=\"evenodd\" fill-opacity=\"1\" /><path clip-path=\"url(#clip000)\" d=\"M 0 0 M1761.83 1452.37 Q1758.22 1452.37 1756.39 1455.94 Q1754.59 1459.48 1754.59 1466.61 Q1754.59 1473.71 1756.39 1477.28 Q1758.22 1480.82 1761.83 1480.82 Q1765.47 1480.82 1767.27 1477.28 Q1769.1 1473.71 1769.1 1466.61 Q1769.1 1459.48 1767.27 1455.94 Q1765.47 1452.37 1761.83 1452.37 M1761.83 1448.67 Q1767.64 1448.67 1770.7 1453.27 Q1773.78 1457.86 1773.78 1466.61 Q1773.78 1475.33 1770.7 1479.94 Q1767.64 1484.52 1761.83 1484.52 Q1756.02 1484.52 1752.94 1479.94 Q1749.89 1475.33 1749.89 1466.61 Q1749.89 1457.86 1752.94 1453.27 Q1756.02 1448.67 1761.83 1448.67 Z\" fill=\"#000000\" fill-rule=\"evenodd\" fill-opacity=\"1\" /><path clip-path=\"url(#clip000)\" d=\"M 0 0 M1782 1477.97 L1786.88 1477.97 L1786.88 1483.85 L1782 1483.85 L1782 1477.97 Z\" fill=\"#000000\" fill-rule=\"evenodd\" fill-opacity=\"1\" /><path clip-path=\"url(#clip000)\" d=\"M 0 0 M1809.91 1453.37 L1798.11 1471.81 L1809.91 1471.81 L1809.91 1453.37 M1808.68 1449.29 L1814.56 1449.29 L1814.56 1471.81 L1819.49 1471.81 L1819.49 1475.7 L1814.56 1475.7 L1814.56 1483.85 L1809.91 1483.85 L1809.91 1475.7 L1794.31 1475.7 L1794.31 1471.19 L1808.68 1449.29 Z\" fill=\"#000000\" fill-rule=\"evenodd\" fill-opacity=\"1\" /><path clip-path=\"url(#clip000)\" d=\"M 0 0 M2269.77 1452.37 Q2266.16 1452.37 2264.33 1455.94 Q2262.53 1459.48 2262.53 1466.61 Q2262.53 1473.71 2264.33 1477.28 Q2266.16 1480.82 2269.77 1480.82 Q2273.41 1480.82 2275.21 1477.28 Q2277.04 1473.71 2277.04 1466.61 Q2277.04 1459.48 2275.21 1455.94 Q2273.41 1452.37 2269.77 1452.37 M2269.77 1448.67 Q2275.58 1448.67 2278.64 1453.27 Q2281.72 1457.86 2281.72 1466.61 Q2281.72 1475.33 2278.64 1479.94 Q2275.58 1484.52 2269.77 1484.52 Q2263.96 1484.52 2260.89 1479.94 Q2257.83 1475.33 2257.83 1466.61 Q2257.83 1457.86 2260.89 1453.27 Q2263.96 1448.67 2269.77 1448.67 Z\" fill=\"#000000\" fill-rule=\"evenodd\" fill-opacity=\"1\" /><path clip-path=\"url(#clip000)\" d=\"M 0 0 M2289.94 1477.97 L2294.82 1477.97 L2294.82 1483.85 L2289.94 1483.85 L2289.94 1477.97 Z\" fill=\"#000000\" fill-rule=\"evenodd\" fill-opacity=\"1\" /><path clip-path=\"url(#clip000)\" d=\"M 0 0 M2305.05 1449.29 L2323.41 1449.29 L2323.41 1453.23 L2309.33 1453.23 L2309.33 1461.7 Q2310.35 1461.35 2311.37 1461.19 Q2312.39 1461 2313.41 1461 Q2319.19 1461 2322.57 1464.18 Q2325.95 1467.35 2325.95 1472.76 Q2325.95 1478.34 2322.48 1481.44 Q2319.01 1484.52 2312.69 1484.52 Q2310.51 1484.52 2308.25 1484.15 Q2306 1483.78 2303.59 1483.04 L2303.59 1478.34 Q2305.68 1479.48 2307.9 1480.03 Q2310.12 1480.59 2312.6 1480.59 Q2316.6 1480.59 2318.94 1478.48 Q2321.28 1476.38 2321.28 1472.76 Q2321.28 1469.15 2318.94 1467.05 Q2316.6 1464.94 2312.6 1464.94 Q2310.72 1464.94 2308.85 1465.36 Q2307 1465.77 2305.05 1466.65 L2305.05 1449.29 Z\" fill=\"#000000\" fill-rule=\"evenodd\" fill-opacity=\"1\" /><path clip-path=\"url(#clip000)\" d=\"M 0 0 M1289.2 1533.45 L1289.2 1538.98 Q1286.72 1537.71 1284.05 1537.07 Q1281.37 1536.44 1278.51 1536.44 Q1274.15 1536.44 1271.95 1537.77 Q1269.79 1539.11 1269.79 1541.79 Q1269.79 1543.82 1271.35 1545 Q1272.91 1546.15 1277.62 1547.2 L1279.62 1547.64 Q1285.86 1548.98 1288.47 1551.43 Q1291.11 1553.85 1291.11 1558.21 Q1291.11 1563.17 1287.17 1566.07 Q1283.25 1568.97 1276.38 1568.97 Q1273.51 1568.97 1270.39 1568.39 Q1267.31 1567.85 1263.87 1566.74 L1263.87 1560.69 Q1267.12 1562.38 1270.27 1563.24 Q1273.42 1564.07 1276.51 1564.07 Q1280.64 1564.07 1282.87 1562.66 Q1285.1 1561.23 1285.1 1558.65 Q1285.1 1556.27 1283.48 1554.99 Q1281.88 1553.72 1276.44 1552.54 L1274.4 1552.07 Q1268.96 1550.92 1266.54 1548.56 Q1264.12 1546.18 1264.12 1542.04 Q1264.12 1537.01 1267.69 1534.27 Q1271.25 1531.54 1277.81 1531.54 Q1281.06 1531.54 1283.92 1532.01 Q1286.79 1532.49 1289.2 1533.45 Z\" fill=\"#000000\" fill-rule=\"evenodd\" fill-opacity=\"1\" /><polyline clip-path=\"url(#clip002)\" style=\"stroke:#000000; stroke-width:2; stroke-opacity:0.1; fill:none\" points=\"\n",
       "  202.227,1239.33 2352.76,1239.33 \n",
       "  \"/>\n",
       "<polyline clip-path=\"url(#clip002)\" style=\"stroke:#000000; stroke-width:2; stroke-opacity:0.1; fill:none\" points=\"\n",
       "  202.227,949.522 2352.76,949.522 \n",
       "  \"/>\n",
       "<polyline clip-path=\"url(#clip002)\" style=\"stroke:#000000; stroke-width:2; stroke-opacity:0.1; fill:none\" points=\"\n",
       "  202.227,659.711 2352.76,659.711 \n",
       "  \"/>\n",
       "<polyline clip-path=\"url(#clip002)\" style=\"stroke:#000000; stroke-width:2; stroke-opacity:0.1; fill:none\" points=\"\n",
       "  202.227,369.901 2352.76,369.901 \n",
       "  \"/>\n",
       "<polyline clip-path=\"url(#clip002)\" style=\"stroke:#000000; stroke-width:2; stroke-opacity:0.1; fill:none\" points=\"\n",
       "  202.227,80.0899 2352.76,80.0899 \n",
       "  \"/>\n",
       "<polyline clip-path=\"url(#clip000)\" style=\"stroke:#000000; stroke-width:4; stroke-opacity:1; fill:none\" points=\"\n",
       "  202.227,1423.18 202.227,47.2441 \n",
       "  \"/>\n",
       "<polyline clip-path=\"url(#clip000)\" style=\"stroke:#000000; stroke-width:4; stroke-opacity:1; fill:none\" points=\"\n",
       "  202.227,1239.33 228.034,1239.33 \n",
       "  \"/>\n",
       "<polyline clip-path=\"url(#clip000)\" style=\"stroke:#000000; stroke-width:4; stroke-opacity:1; fill:none\" points=\"\n",
       "  202.227,949.522 228.034,949.522 \n",
       "  \"/>\n",
       "<polyline clip-path=\"url(#clip000)\" style=\"stroke:#000000; stroke-width:4; stroke-opacity:1; fill:none\" points=\"\n",
       "  202.227,659.711 228.034,659.711 \n",
       "  \"/>\n",
       "<polyline clip-path=\"url(#clip000)\" style=\"stroke:#000000; stroke-width:4; stroke-opacity:1; fill:none\" points=\"\n",
       "  202.227,369.901 228.034,369.901 \n",
       "  \"/>\n",
       "<polyline clip-path=\"url(#clip000)\" style=\"stroke:#000000; stroke-width:4; stroke-opacity:1; fill:none\" points=\"\n",
       "  202.227,80.0899 228.034,80.0899 \n",
       "  \"/>\n",
       "<path clip-path=\"url(#clip000)\" d=\"M 0 0 M149.908 1252.68 L166.227 1252.68 L166.227 1256.61 L144.283 1256.61 L144.283 1252.68 Q146.945 1249.92 151.528 1245.29 Q156.135 1240.64 157.315 1239.3 Q159.561 1236.78 160.44 1235.04 Q161.343 1233.28 161.343 1231.59 Q161.343 1228.84 159.399 1227.1 Q157.478 1225.36 154.376 1225.36 Q152.177 1225.36 149.723 1226.13 Q147.292 1226.89 144.515 1228.44 L144.515 1223.72 Q147.339 1222.59 149.792 1222.01 Q152.246 1221.43 154.283 1221.43 Q159.653 1221.43 162.848 1224.11 Q166.042 1226.8 166.042 1231.29 Q166.042 1233.42 165.232 1235.34 Q164.445 1237.24 162.339 1239.83 Q161.76 1240.5 158.658 1243.72 Q155.556 1246.91 149.908 1252.68 Z\" fill=\"#000000\" fill-rule=\"evenodd\" fill-opacity=\"1\" /><path clip-path=\"url(#clip000)\" d=\"M 0 0 M156.644 936.316 L144.839 954.765 L156.644 954.765 L156.644 936.316 M155.417 932.242 L161.297 932.242 L161.297 954.765 L166.227 954.765 L166.227 958.654 L161.297 958.654 L161.297 966.802 L156.644 966.802 L156.644 958.654 L141.042 958.654 L141.042 954.14 L155.417 932.242 Z\" fill=\"#000000\" fill-rule=\"evenodd\" fill-opacity=\"1\" /><path clip-path=\"url(#clip000)\" d=\"M 0 0 M154.7 657.848 Q151.552 657.848 149.7 660.001 Q147.871 662.154 147.871 665.903 Q147.871 669.63 149.7 671.806 Q151.552 673.959 154.7 673.959 Q157.848 673.959 159.677 671.806 Q161.528 669.63 161.528 665.903 Q161.528 662.154 159.677 660.001 Q157.848 657.848 154.7 657.848 M163.982 643.195 L163.982 647.455 Q162.223 646.621 160.417 646.181 Q158.635 645.742 156.876 645.742 Q152.246 645.742 149.792 648.867 Q147.362 651.992 147.015 658.311 Q148.38 656.297 150.441 655.232 Q152.501 654.144 154.978 654.144 Q160.186 654.144 163.195 657.316 Q166.227 660.464 166.227 665.903 Q166.227 671.228 163.079 674.445 Q159.931 677.663 154.7 677.663 Q148.704 677.663 145.533 673.079 Q142.362 668.473 142.362 659.746 Q142.362 651.552 146.251 646.691 Q150.14 641.806 156.69 641.806 Q158.45 641.806 160.232 642.154 Q162.038 642.501 163.982 643.195 Z\" fill=\"#000000\" fill-rule=\"evenodd\" fill-opacity=\"1\" /><path clip-path=\"url(#clip000)\" d=\"M 0 0 M154.376 370.769 Q151.042 370.769 149.121 372.551 Q147.223 374.334 147.223 377.458 Q147.223 380.583 149.121 382.366 Q151.042 384.148 154.376 384.148 Q157.709 384.148 159.63 382.366 Q161.552 380.56 161.552 377.458 Q161.552 374.334 159.63 372.551 Q157.732 370.769 154.376 370.769 M149.7 368.778 Q146.691 368.037 145.001 365.977 Q143.334 363.917 143.334 360.954 Q143.334 356.81 146.274 354.403 Q149.237 351.996 154.376 351.996 Q159.538 351.996 162.477 354.403 Q165.417 356.81 165.417 360.954 Q165.417 363.917 163.727 365.977 Q162.061 368.037 159.075 368.778 Q162.454 369.565 164.329 371.857 Q166.227 374.148 166.227 377.458 Q166.227 382.482 163.149 385.167 Q160.093 387.852 154.376 387.852 Q148.658 387.852 145.579 385.167 Q142.524 382.482 142.524 377.458 Q142.524 374.148 144.422 371.857 Q146.32 369.565 149.7 368.778 M147.987 361.394 Q147.987 364.079 149.653 365.584 Q151.343 367.088 154.376 367.088 Q157.385 367.088 159.075 365.584 Q160.788 364.079 160.788 361.394 Q160.788 358.709 159.075 357.204 Q157.385 355.699 154.376 355.699 Q151.343 355.699 149.653 357.204 Q147.987 358.709 147.987 361.394 Z\" fill=\"#000000\" fill-rule=\"evenodd\" fill-opacity=\"1\" /><path clip-path=\"url(#clip000)\" d=\"M 0 0 M114.931 93.4347 L122.57 93.4347 L122.57 67.0691 L114.26 68.7358 L114.26 64.4766 L122.524 62.8099 L127.2 62.8099 L127.2 93.4347 L134.839 93.4347 L134.839 97.3699 L114.931 97.3699 L114.931 93.4347 Z\" fill=\"#000000\" fill-rule=\"evenodd\" fill-opacity=\"1\" /><path clip-path=\"url(#clip000)\" d=\"M 0 0 M154.283 65.8886 Q150.672 65.8886 148.843 69.4534 Q147.038 72.995 147.038 80.1246 Q147.038 87.2311 148.843 90.7959 Q150.672 94.3375 154.283 94.3375 Q157.917 94.3375 159.723 90.7959 Q161.552 87.2311 161.552 80.1246 Q161.552 72.995 159.723 69.4534 Q157.917 65.8886 154.283 65.8886 M154.283 62.1849 Q160.093 62.1849 163.149 66.7914 Q166.227 71.3747 166.227 80.1246 Q166.227 88.8514 163.149 93.4579 Q160.093 98.0412 154.283 98.0412 Q148.473 98.0412 145.394 93.4579 Q142.339 88.8514 142.339 80.1246 Q142.339 71.3747 145.394 66.7914 Q148.473 62.1849 154.283 62.1849 Z\" fill=\"#000000\" fill-rule=\"evenodd\" fill-opacity=\"1\" /><path clip-path=\"url(#clip000)\" d=\"M 0 0 M14.479 779.995 L14.479 774.106 L43.7294 774.106 L28.3562 756.633 L28.3562 749.153 L45.0344 768.059 L64.0042 748.357 L64.0042 755.996 L46.5939 774.106 L64.0042 774.106 L64.0042 779.995 L14.479 779.995 Z\" fill=\"#000000\" fill-rule=\"evenodd\" fill-opacity=\"1\" /><path clip-path=\"url(#clip000)\" d=\"M 0 0 M16.4842 731.615 L16.4842 726.204 L70.0516 742.755 L70.0516 748.166 L16.4842 731.615 Z\" fill=\"#000000\" fill-rule=\"evenodd\" fill-opacity=\"1\" /><path clip-path=\"url(#clip000)\" d=\"M 0 0 M42.4881 690.429 L64.0042 690.429 L64.0042 696.286 L42.679 696.286 Q37.6183 696.286 35.1038 698.259 Q32.5894 700.232 32.5894 704.179 Q32.5894 708.922 35.6131 711.659 Q38.6368 714.396 43.8567 714.396 L64.0042 714.396 L64.0042 720.284 L28.3562 720.284 L28.3562 714.396 L33.8944 714.396 Q30.6797 712.295 29.0883 709.463 Q27.4968 706.598 27.4968 702.874 Q27.4968 696.731 31.3163 693.58 Q35.1038 690.429 42.4881 690.429 Z\" fill=\"#000000\" fill-rule=\"evenodd\" fill-opacity=\"1\" /><polyline clip-path=\"url(#clip002)\" style=\"stroke:#009af9; stroke-width:4; stroke-opacity:1; fill:none\" points=\"\n",
       "  263.091,1384.24 668.852,1193.74 1074.61,962.082 1480.37,697.332 1886.13,404.281 2291.89,86.1857 \n",
       "  \"/>\n",
       "<path clip-path=\"url(#clip000)\" d=\"\n",
       "M1989.69 214.069 L2281.07 214.069 L2281.07 93.1086 L1989.69 93.1086  Z\n",
       "  \" fill=\"#ffffff\" fill-rule=\"evenodd\" fill-opacity=\"1\"/>\n",
       "<polyline clip-path=\"url(#clip000)\" style=\"stroke:#000000; stroke-width:4; stroke-opacity:1; fill:none\" points=\"\n",
       "  1989.69,214.069 2281.07,214.069 2281.07,93.1086 1989.69,93.1086 1989.69,214.069 \n",
       "  \"/>\n",
       "<polyline clip-path=\"url(#clip000)\" style=\"stroke:#009af9; stroke-width:4; stroke-opacity:1; fill:none\" points=\"\n",
       "  2013.59,153.589 2156.96,153.589 \n",
       "  \"/>\n",
       "<path clip-path=\"url(#clip000)\" d=\"M 0 0 M2194.69 173.276 Q2192.89 177.906 2191.18 179.318 Q2189.46 180.73 2186.59 180.73 L2183.19 180.73 L2183.19 177.165 L2185.69 177.165 Q2187.45 177.165 2188.42 176.332 Q2189.39 175.498 2190.57 172.396 L2191.34 170.452 L2180.85 144.943 L2185.37 144.943 L2193.47 165.221 L2201.57 144.943 L2206.08 144.943 L2194.69 173.276 Z\" fill=\"#000000\" fill-rule=\"evenodd\" fill-opacity=\"1\" /><path clip-path=\"url(#clip000)\" d=\"M 0 0 M2213.37 166.933 L2221.01 166.933 L2221.01 140.568 L2212.7 142.235 L2212.7 137.975 L2220.97 136.309 L2225.64 136.309 L2225.64 166.933 L2233.28 166.933 L2233.28 170.869 L2213.37 170.869 L2213.37 166.933 Z\" fill=\"#000000\" fill-rule=\"evenodd\" fill-opacity=\"1\" /></svg>\n"
      ]
     },
     "execution_count": 626,
     "metadata": {},
     "output_type": "execute_result"
    }
   ],
   "source": [
    "svec = range(0.1, 0.5; length=6)\n",
    "kbar_s = []\n",
    "for s in svec\n",
    "    p0 = copy(p)\n",
    "    p0[:s] = s\n",
    "    kbar = steady_state(p0, 1.0)\n",
    "    push!(kbar_s, kbar)\n",
    "    \n",
    "end\n",
    "plot(svec, kbar_s, xlabel=\"s\", ylabel=\"k/n\")"
   ]
  },
  {
   "cell_type": "markdown",
   "id": "a3b7934d",
   "metadata": {},
   "source": [
    "__Study the stability of $f$ around $\\overline{k}$ (hint: compute the right derivative). Which factors affect the speed of convergence towards the steady-state?__"
   ]
  },
  {
   "cell_type": "markdown",
   "id": "f0c8ae04-fda9-4a26-a3a5-11e2586646af",
   "metadata": {},
   "source": [
    "You study the sequence $k_t = f(k_{t-1})$ around steady state. Define $\\lambda=f^{\\prime}(\\overline{k}$).\n",
    "Convergence, is geometric with rate $\\lambda$. In particular, it converges if $|\\lambda|<1$\n"
   ]
  },
  {
   "cell_type": "code",
   "execution_count": 627,
   "id": "59468048-68ba-43bf-94ce-179d18cfaa86",
   "metadata": {},
   "outputs": [
    {
     "data": {
      "text/plain": [
       "f (generic function with 2 methods)"
      ]
     },
     "execution_count": 627,
     "metadata": {},
     "output_type": "execute_result"
    }
   ],
   "source": [
    "# we can differentiate automatically functions, whose arguments derive from Number\n",
    "\n",
    "function f(k::Number  ; p::Dict{Symbol, Float64})\n",
    "    y = p[:A]*k^(p[:α])\n",
    "    i = p[:s]*y\n",
    "    K = ((1-p[:δ])*k + i)/p[:g]\n",
    "    return K\n",
    "end"
   ]
  },
  {
   "cell_type": "code",
   "execution_count": 628,
   "id": "7bdd3e0e-1991-4123-b26a-459fb4ac78f4",
   "metadata": {},
   "outputs": [],
   "source": [
    "using ForwardDiff"
   ]
  },
  {
   "cell_type": "code",
   "execution_count": 629,
   "id": "9a900069-acb5-4a48-8f7e-6ba2d1c1d981",
   "metadata": {},
   "outputs": [
    {
     "data": {
      "text/plain": [
       "Dual{Nothing}(3.90314331330208,0.9227357484976559)"
      ]
     },
     "execution_count": 629,
     "metadata": {},
     "output_type": "execute_result"
    }
   ],
   "source": [
    "# when arguements derive from Number\n",
    "# they can be replaced with Dual numbers\n",
    "# which allows for automatic differentiation\n",
    "k_dual = ForwardDiff.Dual(4., 1)\n",
    "f(k_dual; p=p)"
   ]
  },
  {
   "cell_type": "code",
   "execution_count": 630,
   "id": "a782b905-a863-42cb-b9af-aec96fcdb6a5",
   "metadata": {},
   "outputs": [
    {
     "data": {
      "text/plain": [
       "0.9194478791603131"
      ]
     },
     "execution_count": 630,
     "metadata": {},
     "output_type": "execute_result"
    }
   ],
   "source": [
    "ForwardDiff.derivative(u->f(u;p=p), 5.0)"
   ]
  },
  {
   "cell_type": "code",
   "execution_count": 631,
   "id": "32cec80b-ac74-4b5a-b763-3e48a853aa8a",
   "metadata": {},
   "outputs": [
    {
     "data": {
      "text/plain": [
       "λ (generic function with 1 method)"
      ]
     },
     "execution_count": 631,
     "metadata": {},
     "output_type": "execute_result"
    }
   ],
   "source": [
    "# stability of the steady-state\n",
    "λ(p::Dict) = ForwardDiff.derivative(u->f(u;p=p), steady_state(p, 1.0))"
   ]
  },
  {
   "cell_type": "code",
   "execution_count": 632,
   "id": "96dae73d-8ec9-4760-8566-efe2c89be029",
   "metadata": {},
   "outputs": [
    {
     "data": {
      "text/plain": [
       "0.9300107005722584"
      ]
     },
     "execution_count": 632,
     "metadata": {},
     "output_type": "execute_result"
    }
   ],
   "source": [
    "λ(p)"
   ]
  },
  {
   "cell_type": "code",
   "execution_count": 633,
   "id": "cd413086-e2cc-4178-a1d8-eed0775c6b2e",
   "metadata": {},
   "outputs": [
    {
     "data": {
      "image/svg+xml": [
       "<?xml version=\"1.0\" encoding=\"utf-8\"?>\n",
       "<svg xmlns=\"http://www.w3.org/2000/svg\" xmlns:xlink=\"http://www.w3.org/1999/xlink\" width=\"600\" height=\"400\" viewBox=\"0 0 2400 1600\">\n",
       "<defs>\n",
       "  <clipPath id=\"clip040\">\n",
       "    <rect x=\"0\" y=\"0\" width=\"2400\" height=\"1600\"/>\n",
       "  </clipPath>\n",
       "</defs>\n",
       "<path clip-path=\"url(#clip040)\" d=\"\n",
       "M0 1600 L2400 1600 L2400 0 L0 0  Z\n",
       "  \" fill=\"#ffffff\" fill-rule=\"evenodd\" fill-opacity=\"1\"/>\n",
       "<defs>\n",
       "  <clipPath id=\"clip041\">\n",
       "    <rect x=\"480\" y=\"0\" width=\"1681\" height=\"1600\"/>\n",
       "  </clipPath>\n",
       "</defs>\n",
       "<path clip-path=\"url(#clip040)\" d=\"\n",
       "M279.704 1423.18 L2352.76 1423.18 L2352.76 47.2441 L279.704 47.2441  Z\n",
       "  \" fill=\"#ffffff\" fill-rule=\"evenodd\" fill-opacity=\"1\"/>\n",
       "<defs>\n",
       "  <clipPath id=\"clip042\">\n",
       "    <rect x=\"279\" y=\"47\" width=\"2074\" height=\"1377\"/>\n",
       "  </clipPath>\n",
       "</defs>\n",
       "<polyline clip-path=\"url(#clip042)\" style=\"stroke:#000000; stroke-width:2; stroke-opacity:0.1; fill:none\" points=\"\n",
       "  338.375,1423.18 338.375,47.2441 \n",
       "  \"/>\n",
       "<polyline clip-path=\"url(#clip042)\" style=\"stroke:#000000; stroke-width:2; stroke-opacity:0.1; fill:none\" points=\"\n",
       "  827.303,1423.18 827.303,47.2441 \n",
       "  \"/>\n",
       "<polyline clip-path=\"url(#clip042)\" style=\"stroke:#000000; stroke-width:2; stroke-opacity:0.1; fill:none\" points=\"\n",
       "  1316.23,1423.18 1316.23,47.2441 \n",
       "  \"/>\n",
       "<polyline clip-path=\"url(#clip042)\" style=\"stroke:#000000; stroke-width:2; stroke-opacity:0.1; fill:none\" points=\"\n",
       "  1805.16,1423.18 1805.16,47.2441 \n",
       "  \"/>\n",
       "<polyline clip-path=\"url(#clip042)\" style=\"stroke:#000000; stroke-width:2; stroke-opacity:0.1; fill:none\" points=\"\n",
       "  2294.08,1423.18 2294.08,47.2441 \n",
       "  \"/>\n",
       "<polyline clip-path=\"url(#clip040)\" style=\"stroke:#000000; stroke-width:4; stroke-opacity:1; fill:none\" points=\"\n",
       "  279.704,1423.18 2352.76,1423.18 \n",
       "  \"/>\n",
       "<polyline clip-path=\"url(#clip040)\" style=\"stroke:#000000; stroke-width:4; stroke-opacity:1; fill:none\" points=\"\n",
       "  338.375,1423.18 338.375,1406.67 \n",
       "  \"/>\n",
       "<polyline clip-path=\"url(#clip040)\" style=\"stroke:#000000; stroke-width:4; stroke-opacity:1; fill:none\" points=\"\n",
       "  827.303,1423.18 827.303,1406.67 \n",
       "  \"/>\n",
       "<polyline clip-path=\"url(#clip040)\" style=\"stroke:#000000; stroke-width:4; stroke-opacity:1; fill:none\" points=\"\n",
       "  1316.23,1423.18 1316.23,1406.67 \n",
       "  \"/>\n",
       "<polyline clip-path=\"url(#clip040)\" style=\"stroke:#000000; stroke-width:4; stroke-opacity:1; fill:none\" points=\"\n",
       "  1805.16,1423.18 1805.16,1406.67 \n",
       "  \"/>\n",
       "<polyline clip-path=\"url(#clip040)\" style=\"stroke:#000000; stroke-width:4; stroke-opacity:1; fill:none\" points=\"\n",
       "  2294.08,1423.18 2294.08,1406.67 \n",
       "  \"/>\n",
       "<path clip-path=\"url(#clip040)\" d=\"M 0 0 M300.679 1452.37 Q297.068 1452.37 295.239 1455.94 Q293.433 1459.48 293.433 1466.61 Q293.433 1473.71 295.239 1477.28 Q297.068 1480.82 300.679 1480.82 Q304.313 1480.82 306.118 1477.28 Q307.947 1473.71 307.947 1466.61 Q307.947 1459.48 306.118 1455.94 Q304.313 1452.37 300.679 1452.37 M300.679 1448.67 Q306.489 1448.67 309.544 1453.27 Q312.623 1457.86 312.623 1466.61 Q312.623 1475.33 309.544 1479.94 Q306.489 1484.52 300.679 1484.52 Q294.868 1484.52 291.79 1479.94 Q288.734 1475.33 288.734 1466.61 Q288.734 1457.86 291.79 1453.27 Q294.868 1448.67 300.679 1448.67 Z\" fill=\"#000000\" fill-rule=\"evenodd\" fill-opacity=\"1\" /><path clip-path=\"url(#clip040)\" d=\"M 0 0 M320.841 1477.97 L325.725 1477.97 L325.725 1483.85 L320.841 1483.85 L320.841 1477.97 Z\" fill=\"#000000\" fill-rule=\"evenodd\" fill-opacity=\"1\" /><path clip-path=\"url(#clip040)\" d=\"M 0 0 M339.938 1479.92 L356.257 1479.92 L356.257 1483.85 L334.313 1483.85 L334.313 1479.92 Q336.975 1477.16 341.558 1472.53 Q346.165 1467.88 347.345 1466.54 Q349.59 1464.01 350.47 1462.28 Q351.373 1460.52 351.373 1458.83 Q351.373 1456.07 349.428 1454.34 Q347.507 1452.6 344.405 1452.6 Q342.206 1452.6 339.752 1453.37 Q337.322 1454.13 334.544 1455.68 L334.544 1450.96 Q337.368 1449.82 339.822 1449.25 Q342.276 1448.67 344.313 1448.67 Q349.683 1448.67 352.877 1451.35 Q356.072 1454.04 356.072 1458.53 Q356.072 1460.66 355.262 1462.58 Q354.475 1464.48 352.368 1467.07 Q351.789 1467.74 348.688 1470.96 Q345.586 1474.15 339.938 1479.92 Z\" fill=\"#000000\" fill-rule=\"evenodd\" fill-opacity=\"1\" /><path clip-path=\"url(#clip040)\" d=\"M 0 0 M376.072 1452.37 Q372.461 1452.37 370.632 1455.94 Q368.826 1459.48 368.826 1466.61 Q368.826 1473.71 370.632 1477.28 Q372.461 1480.82 376.072 1480.82 Q379.706 1480.82 381.512 1477.28 Q383.34 1473.71 383.34 1466.61 Q383.34 1459.48 381.512 1455.94 Q379.706 1452.37 376.072 1452.37 M376.072 1448.67 Q381.882 1448.67 384.937 1453.27 Q388.016 1457.86 388.016 1466.61 Q388.016 1475.33 384.937 1479.94 Q381.882 1484.52 376.072 1484.52 Q370.262 1484.52 367.183 1479.94 Q364.127 1475.33 364.127 1466.61 Q364.127 1457.86 367.183 1453.27 Q370.262 1448.67 376.072 1448.67 Z\" fill=\"#000000\" fill-rule=\"evenodd\" fill-opacity=\"1\" /><path clip-path=\"url(#clip040)\" d=\"M 0 0 M790.104 1452.37 Q786.493 1452.37 784.664 1455.94 Q782.858 1459.48 782.858 1466.61 Q782.858 1473.71 784.664 1477.28 Q786.493 1480.82 790.104 1480.82 Q793.738 1480.82 795.543 1477.28 Q797.372 1473.71 797.372 1466.61 Q797.372 1459.48 795.543 1455.94 Q793.738 1452.37 790.104 1452.37 M790.104 1448.67 Q795.914 1448.67 798.969 1453.27 Q802.048 1457.86 802.048 1466.61 Q802.048 1475.33 798.969 1479.94 Q795.914 1484.52 790.104 1484.52 Q784.294 1484.52 781.215 1479.94 Q778.159 1475.33 778.159 1466.61 Q778.159 1457.86 781.215 1453.27 Q784.294 1448.67 790.104 1448.67 Z\" fill=\"#000000\" fill-rule=\"evenodd\" fill-opacity=\"1\" /><path clip-path=\"url(#clip040)\" d=\"M 0 0 M810.266 1477.97 L815.15 1477.97 L815.15 1483.85 L810.266 1483.85 L810.266 1477.97 Z\" fill=\"#000000\" fill-rule=\"evenodd\" fill-opacity=\"1\" /><path clip-path=\"url(#clip040)\" d=\"M 0 0 M829.363 1479.92 L845.682 1479.92 L845.682 1483.85 L823.738 1483.85 L823.738 1479.92 Q826.4 1477.16 830.983 1472.53 Q835.59 1467.88 836.77 1466.54 Q839.015 1464.01 839.895 1462.28 Q840.798 1460.52 840.798 1458.83 Q840.798 1456.07 838.853 1454.34 Q836.932 1452.6 833.83 1452.6 Q831.631 1452.6 829.178 1453.37 Q826.747 1454.13 823.969 1455.68 L823.969 1450.96 Q826.793 1449.82 829.247 1449.25 Q831.701 1448.67 833.738 1448.67 Q839.108 1448.67 842.302 1451.35 Q845.497 1454.04 845.497 1458.53 Q845.497 1460.66 844.687 1462.58 Q843.9 1464.48 841.793 1467.07 Q841.215 1467.74 838.113 1470.96 Q835.011 1474.15 829.363 1479.92 Z\" fill=\"#000000\" fill-rule=\"evenodd\" fill-opacity=\"1\" /><path clip-path=\"url(#clip040)\" d=\"M 0 0 M855.543 1449.29 L873.9 1449.29 L873.9 1453.23 L859.826 1453.23 L859.826 1461.7 Q860.844 1461.35 861.863 1461.19 Q862.881 1461 863.9 1461 Q869.687 1461 873.066 1464.18 Q876.446 1467.35 876.446 1472.76 Q876.446 1478.34 872.974 1481.44 Q869.501 1484.52 863.182 1484.52 Q861.006 1484.52 858.738 1484.15 Q856.492 1483.78 854.085 1483.04 L854.085 1478.34 Q856.168 1479.48 858.39 1480.03 Q860.613 1480.59 863.089 1480.59 Q867.094 1480.59 869.432 1478.48 Q871.77 1476.38 871.77 1472.76 Q871.77 1469.15 869.432 1467.05 Q867.094 1464.94 863.089 1464.94 Q861.214 1464.94 859.339 1465.36 Q857.488 1465.77 855.543 1466.65 L855.543 1449.29 Z\" fill=\"#000000\" fill-rule=\"evenodd\" fill-opacity=\"1\" /><path clip-path=\"url(#clip040)\" d=\"M 0 0 M1278.53 1452.37 Q1274.92 1452.37 1273.09 1455.94 Q1271.29 1459.48 1271.29 1466.61 Q1271.29 1473.71 1273.09 1477.28 Q1274.92 1480.82 1278.53 1480.82 Q1282.17 1480.82 1283.97 1477.28 Q1285.8 1473.71 1285.8 1466.61 Q1285.8 1459.48 1283.97 1455.94 Q1282.17 1452.37 1278.53 1452.37 M1278.53 1448.67 Q1284.34 1448.67 1287.4 1453.27 Q1290.48 1457.86 1290.48 1466.61 Q1290.48 1475.33 1287.4 1479.94 Q1284.34 1484.52 1278.53 1484.52 Q1272.72 1484.52 1269.64 1479.94 Q1266.59 1475.33 1266.59 1466.61 Q1266.59 1457.86 1269.64 1453.27 Q1272.72 1448.67 1278.53 1448.67 Z\" fill=\"#000000\" fill-rule=\"evenodd\" fill-opacity=\"1\" /><path clip-path=\"url(#clip040)\" d=\"M 0 0 M1298.7 1477.97 L1303.58 1477.97 L1303.58 1483.85 L1298.7 1483.85 L1298.7 1477.97 Z\" fill=\"#000000\" fill-rule=\"evenodd\" fill-opacity=\"1\" /><path clip-path=\"url(#clip040)\" d=\"M 0 0 M1327.93 1465.22 Q1331.29 1465.94 1333.16 1468.2 Q1335.06 1470.47 1335.06 1473.81 Q1335.06 1478.92 1331.54 1481.72 Q1328.02 1484.52 1321.54 1484.52 Q1319.37 1484.52 1317.05 1484.08 Q1314.76 1483.67 1312.31 1482.81 L1312.31 1478.3 Q1314.25 1479.43 1316.57 1480.01 Q1318.88 1480.59 1321.4 1480.59 Q1325.8 1480.59 1328.09 1478.85 Q1330.41 1477.12 1330.41 1473.81 Q1330.41 1470.75 1328.26 1469.04 Q1326.13 1467.3 1322.31 1467.3 L1318.28 1467.3 L1318.28 1463.46 L1322.49 1463.46 Q1325.94 1463.46 1327.77 1462.09 Q1329.6 1460.7 1329.6 1458.11 Q1329.6 1455.45 1327.7 1454.04 Q1325.82 1452.6 1322.31 1452.6 Q1320.38 1452.6 1318.19 1453.02 Q1315.99 1453.44 1313.35 1454.31 L1313.35 1450.15 Q1316.01 1449.41 1318.32 1449.04 Q1320.66 1448.67 1322.72 1448.67 Q1328.05 1448.67 1331.15 1451.1 Q1334.25 1453.5 1334.25 1457.63 Q1334.25 1460.5 1332.61 1462.49 Q1330.96 1464.45 1327.93 1465.22 Z\" fill=\"#000000\" fill-rule=\"evenodd\" fill-opacity=\"1\" /><path clip-path=\"url(#clip040)\" d=\"M 0 0 M1353.93 1452.37 Q1350.32 1452.37 1348.49 1455.94 Q1346.68 1459.48 1346.68 1466.61 Q1346.68 1473.71 1348.49 1477.28 Q1350.32 1480.82 1353.93 1480.82 Q1357.56 1480.82 1359.37 1477.28 Q1361.19 1473.71 1361.19 1466.61 Q1361.19 1459.48 1359.37 1455.94 Q1357.56 1452.37 1353.93 1452.37 M1353.93 1448.67 Q1359.74 1448.67 1362.79 1453.27 Q1365.87 1457.86 1365.87 1466.61 Q1365.87 1475.33 1362.79 1479.94 Q1359.74 1484.52 1353.93 1484.52 Q1348.12 1484.52 1345.04 1479.94 Q1341.98 1475.33 1341.98 1466.61 Q1341.98 1457.86 1345.04 1453.27 Q1348.12 1448.67 1353.93 1448.67 Z\" fill=\"#000000\" fill-rule=\"evenodd\" fill-opacity=\"1\" /><path clip-path=\"url(#clip040)\" d=\"M 0 0 M1767.96 1452.37 Q1764.35 1452.37 1762.52 1455.94 Q1760.71 1459.48 1760.71 1466.61 Q1760.71 1473.71 1762.52 1477.28 Q1764.35 1480.82 1767.96 1480.82 Q1771.59 1480.82 1773.4 1477.28 Q1775.23 1473.71 1775.23 1466.61 Q1775.23 1459.48 1773.4 1455.94 Q1771.59 1452.37 1767.96 1452.37 M1767.96 1448.67 Q1773.77 1448.67 1776.82 1453.27 Q1779.9 1457.86 1779.9 1466.61 Q1779.9 1475.33 1776.82 1479.94 Q1773.77 1484.52 1767.96 1484.52 Q1762.15 1484.52 1759.07 1479.94 Q1756.01 1475.33 1756.01 1466.61 Q1756.01 1457.86 1759.07 1453.27 Q1762.15 1448.67 1767.96 1448.67 Z\" fill=\"#000000\" fill-rule=\"evenodd\" fill-opacity=\"1\" /><path clip-path=\"url(#clip040)\" d=\"M 0 0 M1788.12 1477.97 L1793 1477.97 L1793 1483.85 L1788.12 1483.85 L1788.12 1477.97 Z\" fill=\"#000000\" fill-rule=\"evenodd\" fill-opacity=\"1\" /><path clip-path=\"url(#clip040)\" d=\"M 0 0 M1817.36 1465.22 Q1820.71 1465.94 1822.59 1468.2 Q1824.49 1470.47 1824.49 1473.81 Q1824.49 1478.92 1820.97 1481.72 Q1817.45 1484.52 1810.97 1484.52 Q1808.79 1484.52 1806.48 1484.08 Q1804.19 1483.67 1801.73 1482.81 L1801.73 1478.3 Q1803.68 1479.43 1805.99 1480.01 Q1808.31 1480.59 1810.83 1480.59 Q1815.23 1480.59 1817.52 1478.85 Q1819.83 1477.12 1819.83 1473.81 Q1819.83 1470.75 1817.68 1469.04 Q1815.55 1467.3 1811.73 1467.3 L1807.7 1467.3 L1807.7 1463.46 L1811.92 1463.46 Q1815.37 1463.46 1817.19 1462.09 Q1819.02 1460.7 1819.02 1458.11 Q1819.02 1455.45 1817.12 1454.04 Q1815.25 1452.6 1811.73 1452.6 Q1809.81 1452.6 1807.61 1453.02 Q1805.41 1453.44 1802.77 1454.31 L1802.77 1450.15 Q1805.44 1449.41 1807.75 1449.04 Q1810.09 1448.67 1812.15 1448.67 Q1817.47 1448.67 1820.57 1451.1 Q1823.68 1453.5 1823.68 1457.63 Q1823.68 1460.5 1822.03 1462.49 Q1820.39 1464.45 1817.36 1465.22 Z\" fill=\"#000000\" fill-rule=\"evenodd\" fill-opacity=\"1\" /><path clip-path=\"url(#clip040)\" d=\"M 0 0 M1833.4 1449.29 L1851.75 1449.29 L1851.75 1453.23 L1837.68 1453.23 L1837.68 1461.7 Q1838.7 1461.35 1839.72 1461.19 Q1840.74 1461 1841.75 1461 Q1847.54 1461 1850.92 1464.18 Q1854.3 1467.35 1854.3 1472.76 Q1854.3 1478.34 1850.83 1481.44 Q1847.36 1484.52 1841.04 1484.52 Q1838.86 1484.52 1836.59 1484.15 Q1834.35 1483.78 1831.94 1483.04 L1831.94 1478.34 Q1834.02 1479.48 1836.25 1480.03 Q1838.47 1480.59 1840.94 1480.59 Q1844.95 1480.59 1847.29 1478.48 Q1849.62 1476.38 1849.62 1472.76 Q1849.62 1469.15 1847.29 1467.05 Q1844.95 1464.94 1840.94 1464.94 Q1839.07 1464.94 1837.19 1465.36 Q1835.34 1465.77 1833.4 1466.65 L1833.4 1449.29 Z\" fill=\"#000000\" fill-rule=\"evenodd\" fill-opacity=\"1\" /><path clip-path=\"url(#clip040)\" d=\"M 0 0 M2256.39 1452.37 Q2252.78 1452.37 2250.95 1455.94 Q2249.14 1459.48 2249.14 1466.61 Q2249.14 1473.71 2250.95 1477.28 Q2252.78 1480.82 2256.39 1480.82 Q2260.02 1480.82 2261.83 1477.28 Q2263.66 1473.71 2263.66 1466.61 Q2263.66 1459.48 2261.83 1455.94 Q2260.02 1452.37 2256.39 1452.37 M2256.39 1448.67 Q2262.2 1448.67 2265.25 1453.27 Q2268.33 1457.86 2268.33 1466.61 Q2268.33 1475.33 2265.25 1479.94 Q2262.2 1484.52 2256.39 1484.52 Q2250.58 1484.52 2247.5 1479.94 Q2244.44 1475.33 2244.44 1466.61 Q2244.44 1457.86 2247.5 1453.27 Q2250.58 1448.67 2256.39 1448.67 Z\" fill=\"#000000\" fill-rule=\"evenodd\" fill-opacity=\"1\" /><path clip-path=\"url(#clip040)\" d=\"M 0 0 M2276.55 1477.97 L2281.43 1477.97 L2281.43 1483.85 L2276.55 1483.85 L2276.55 1477.97 Z\" fill=\"#000000\" fill-rule=\"evenodd\" fill-opacity=\"1\" /><path clip-path=\"url(#clip040)\" d=\"M 0 0 M2304.47 1453.37 L2292.66 1471.81 L2304.47 1471.81 L2304.47 1453.37 M2303.24 1449.29 L2309.12 1449.29 L2309.12 1471.81 L2314.05 1471.81 L2314.05 1475.7 L2309.12 1475.7 L2309.12 1483.85 L2304.47 1483.85 L2304.47 1475.7 L2288.86 1475.7 L2288.86 1471.19 L2303.24 1449.29 Z\" fill=\"#000000\" fill-rule=\"evenodd\" fill-opacity=\"1\" /><path clip-path=\"url(#clip040)\" d=\"M 0 0 M2331.78 1452.37 Q2328.17 1452.37 2326.34 1455.94 Q2324.54 1459.48 2324.54 1466.61 Q2324.54 1473.71 2326.34 1477.28 Q2328.17 1480.82 2331.78 1480.82 Q2335.42 1480.82 2337.22 1477.28 Q2339.05 1473.71 2339.05 1466.61 Q2339.05 1459.48 2337.22 1455.94 Q2335.42 1452.37 2331.78 1452.37 M2331.78 1448.67 Q2337.59 1448.67 2340.65 1453.27 Q2343.73 1457.86 2343.73 1466.61 Q2343.73 1475.33 2340.65 1479.94 Q2337.59 1484.52 2331.78 1484.52 Q2325.97 1484.52 2322.89 1479.94 Q2319.84 1475.33 2319.84 1466.61 Q2319.84 1457.86 2322.89 1453.27 Q2325.97 1448.67 2331.78 1448.67 Z\" fill=\"#000000\" fill-rule=\"evenodd\" fill-opacity=\"1\" /><path clip-path=\"url(#clip040)\" d=\"M 0 0 M1321.43 1551.46 L1320.03 1544.11 Q1318.6 1536.57 1312.94 1536.57 Q1308.67 1536.57 1306.73 1540.07 Q1304.28 1544.46 1304.28 1550.25 Q1304.28 1557.25 1306.67 1560.6 Q1309.08 1564 1312.94 1564 Q1317.2 1564 1319.49 1557.22 L1321.43 1551.46 M1324.71 1541.72 L1327.86 1532.4 L1333.08 1532.4 L1326.56 1551.72 L1327.83 1558.69 Q1328.12 1560.25 1329.23 1561.55 Q1330.54 1563.08 1331.56 1563.08 L1334.36 1563.08 L1334.36 1568.04 L1330.86 1568.04 Q1327.86 1568.04 1325.19 1565.37 Q1323.88 1564.03 1323.34 1561.23 Q1321.88 1564.77 1318.89 1567.53 Q1317.49 1568.84 1312.94 1568.84 Q1305.46 1568.84 1301.83 1564 Q1298.1 1559 1298.1 1550.25 Q1298.1 1540.89 1302.15 1536.5 Q1306.63 1531.6 1312.94 1531.6 Q1322.83 1531.6 1324.71 1541.72 Z\" fill=\"#000000\" fill-rule=\"evenodd\" fill-opacity=\"1\" /><polyline clip-path=\"url(#clip042)\" style=\"stroke:#000000; stroke-width:2; stroke-opacity:0.1; fill:none\" points=\"\n",
       "  279.704,1384.39 2352.76,1384.39 \n",
       "  \"/>\n",
       "<polyline clip-path=\"url(#clip042)\" style=\"stroke:#000000; stroke-width:2; stroke-opacity:0.1; fill:none\" points=\"\n",
       "  279.704,1060.52 2352.76,1060.52 \n",
       "  \"/>\n",
       "<polyline clip-path=\"url(#clip042)\" style=\"stroke:#000000; stroke-width:2; stroke-opacity:0.1; fill:none\" points=\"\n",
       "  279.704,736.642 2352.76,736.642 \n",
       "  \"/>\n",
       "<polyline clip-path=\"url(#clip042)\" style=\"stroke:#000000; stroke-width:2; stroke-opacity:0.1; fill:none\" points=\"\n",
       "  279.704,412.766 2352.76,412.766 \n",
       "  \"/>\n",
       "<polyline clip-path=\"url(#clip042)\" style=\"stroke:#000000; stroke-width:2; stroke-opacity:0.1; fill:none\" points=\"\n",
       "  279.704,88.8901 2352.76,88.8901 \n",
       "  \"/>\n",
       "<polyline clip-path=\"url(#clip040)\" style=\"stroke:#000000; stroke-width:4; stroke-opacity:1; fill:none\" points=\"\n",
       "  279.704,1423.18 279.704,47.2441 \n",
       "  \"/>\n",
       "<polyline clip-path=\"url(#clip040)\" style=\"stroke:#000000; stroke-width:4; stroke-opacity:1; fill:none\" points=\"\n",
       "  279.704,1384.39 304.581,1384.39 \n",
       "  \"/>\n",
       "<polyline clip-path=\"url(#clip040)\" style=\"stroke:#000000; stroke-width:4; stroke-opacity:1; fill:none\" points=\"\n",
       "  279.704,1060.52 304.581,1060.52 \n",
       "  \"/>\n",
       "<polyline clip-path=\"url(#clip040)\" style=\"stroke:#000000; stroke-width:4; stroke-opacity:1; fill:none\" points=\"\n",
       "  279.704,736.642 304.581,736.642 \n",
       "  \"/>\n",
       "<polyline clip-path=\"url(#clip040)\" style=\"stroke:#000000; stroke-width:4; stroke-opacity:1; fill:none\" points=\"\n",
       "  279.704,412.766 304.581,412.766 \n",
       "  \"/>\n",
       "<polyline clip-path=\"url(#clip040)\" style=\"stroke:#000000; stroke-width:4; stroke-opacity:1; fill:none\" points=\"\n",
       "  279.704,88.8901 304.581,88.8901 \n",
       "  \"/>\n",
       "<path clip-path=\"url(#clip040)\" d=\"M 0 0 M126.205 1370.19 Q122.593 1370.19 120.765 1373.76 Q118.959 1377.3 118.959 1384.43 Q118.959 1391.54 120.765 1395.1 Q122.593 1398.64 126.205 1398.64 Q129.839 1398.64 131.644 1395.1 Q133.473 1391.54 133.473 1384.43 Q133.473 1377.3 131.644 1373.76 Q129.839 1370.19 126.205 1370.19 M126.205 1366.49 Q132.015 1366.49 135.07 1371.1 Q138.149 1375.68 138.149 1384.43 Q138.149 1393.16 135.07 1397.76 Q132.015 1402.35 126.205 1402.35 Q120.394 1402.35 117.316 1397.76 Q114.26 1393.16 114.26 1384.43 Q114.26 1375.68 117.316 1371.1 Q120.394 1366.49 126.205 1366.49 Z\" fill=\"#000000\" fill-rule=\"evenodd\" fill-opacity=\"1\" /><path clip-path=\"url(#clip040)\" d=\"M 0 0 M146.366 1395.79 L151.251 1395.79 L151.251 1401.67 L146.366 1401.67 L146.366 1395.79 Z\" fill=\"#000000\" fill-rule=\"evenodd\" fill-opacity=\"1\" /><path clip-path=\"url(#clip040)\" d=\"M 0 0 M161.575 1400.96 L161.575 1396.7 Q163.334 1397.53 165.14 1397.97 Q166.945 1398.41 168.681 1398.41 Q173.311 1398.41 175.741 1395.31 Q178.195 1392.18 178.542 1385.84 Q177.2 1387.83 175.139 1388.9 Q173.079 1389.96 170.579 1389.96 Q165.394 1389.96 162.362 1386.84 Q159.353 1383.69 159.353 1378.25 Q159.353 1372.92 162.501 1369.71 Q165.649 1366.49 170.88 1366.49 Q176.876 1366.49 180.024 1371.1 Q183.195 1375.68 183.195 1384.43 Q183.195 1392.6 179.306 1397.48 Q175.44 1402.35 168.889 1402.35 Q167.13 1402.35 165.325 1402 Q163.519 1401.65 161.575 1400.96 M170.88 1386.3 Q174.028 1386.3 175.857 1384.15 Q177.709 1382 177.709 1378.25 Q177.709 1374.52 175.857 1372.37 Q174.028 1370.19 170.88 1370.19 Q167.732 1370.19 165.88 1372.37 Q164.052 1374.52 164.052 1378.25 Q164.052 1382 165.88 1384.15 Q167.732 1386.3 170.88 1386.3 Z\" fill=\"#000000\" fill-rule=\"evenodd\" fill-opacity=\"1\" /><path clip-path=\"url(#clip040)\" d=\"M 0 0 M195.625 1397.74 L211.945 1397.74 L211.945 1401.67 L190 1401.67 L190 1397.74 Q192.663 1394.98 197.246 1390.36 Q201.852 1385.7 203.033 1384.36 Q205.278 1381.84 206.158 1380.1 Q207.061 1378.34 207.061 1376.65 Q207.061 1373.9 205.116 1372.16 Q203.195 1370.42 200.093 1370.42 Q197.894 1370.42 195.44 1371.19 Q193.01 1371.95 190.232 1373.5 L190.232 1368.78 Q193.056 1367.65 195.51 1367.07 Q197.963 1366.49 200 1366.49 Q205.371 1366.49 208.565 1369.17 Q211.76 1371.86 211.76 1376.35 Q211.76 1378.48 210.949 1380.4 Q210.162 1382.3 208.056 1384.89 Q207.477 1385.56 204.375 1388.78 Q201.274 1391.98 195.625 1397.74 Z\" fill=\"#000000\" fill-rule=\"evenodd\" fill-opacity=\"1\" /><path clip-path=\"url(#clip040)\" d=\"M 0 0 M231.76 1370.19 Q228.148 1370.19 226.32 1373.76 Q224.514 1377.3 224.514 1384.43 Q224.514 1391.54 226.32 1395.1 Q228.148 1398.64 231.76 1398.64 Q235.394 1398.64 237.199 1395.1 Q239.028 1391.54 239.028 1384.43 Q239.028 1377.3 237.199 1373.76 Q235.394 1370.19 231.76 1370.19 M231.76 1366.49 Q237.57 1366.49 240.625 1371.1 Q243.704 1375.68 243.704 1384.43 Q243.704 1393.16 240.625 1397.76 Q237.57 1402.35 231.76 1402.35 Q225.949 1402.35 222.871 1397.76 Q219.815 1393.16 219.815 1384.43 Q219.815 1375.68 222.871 1371.1 Q225.949 1366.49 231.76 1366.49 Z\" fill=\"#000000\" fill-rule=\"evenodd\" fill-opacity=\"1\" /><path clip-path=\"url(#clip040)\" d=\"M 0 0 M127.2 1046.32 Q123.589 1046.32 121.76 1049.88 Q119.955 1053.42 119.955 1060.55 Q119.955 1067.66 121.76 1071.22 Q123.589 1074.77 127.2 1074.77 Q130.834 1074.77 132.64 1071.22 Q134.468 1067.66 134.468 1060.55 Q134.468 1053.42 132.64 1049.88 Q130.834 1046.32 127.2 1046.32 M127.2 1042.61 Q133.01 1042.61 136.066 1047.22 Q139.144 1051.8 139.144 1060.55 Q139.144 1069.28 136.066 1073.89 Q133.01 1078.47 127.2 1078.47 Q121.39 1078.47 118.311 1073.89 Q115.256 1069.28 115.256 1060.55 Q115.256 1051.8 118.311 1047.22 Q121.39 1042.61 127.2 1042.61 Z\" fill=\"#000000\" fill-rule=\"evenodd\" fill-opacity=\"1\" /><path clip-path=\"url(#clip040)\" d=\"M 0 0 M147.362 1071.92 L152.246 1071.92 L152.246 1077.8 L147.362 1077.8 L147.362 1071.92 Z\" fill=\"#000000\" fill-rule=\"evenodd\" fill-opacity=\"1\" /><path clip-path=\"url(#clip040)\" d=\"M 0 0 M162.57 1077.08 L162.57 1072.82 Q164.329 1073.65 166.135 1074.09 Q167.94 1074.53 169.677 1074.53 Q174.306 1074.53 176.737 1071.43 Q179.19 1068.31 179.538 1061.97 Q178.195 1063.96 176.135 1065.02 Q174.075 1066.09 171.575 1066.09 Q166.39 1066.09 163.357 1062.96 Q160.348 1059.81 160.348 1054.37 Q160.348 1049.05 163.496 1045.83 Q166.644 1042.61 171.876 1042.61 Q177.871 1042.61 181.019 1047.22 Q184.19 1051.8 184.19 1060.55 Q184.19 1068.72 180.301 1073.61 Q176.436 1078.47 169.885 1078.47 Q168.126 1078.47 166.32 1078.12 Q164.515 1077.78 162.57 1077.08 M171.876 1062.43 Q175.024 1062.43 176.852 1060.28 Q178.704 1058.12 178.704 1054.37 Q178.704 1050.65 176.852 1048.49 Q175.024 1046.32 171.876 1046.32 Q168.727 1046.32 166.876 1048.49 Q165.047 1050.65 165.047 1054.37 Q165.047 1058.12 166.876 1060.28 Q168.727 1062.43 171.876 1062.43 Z\" fill=\"#000000\" fill-rule=\"evenodd\" fill-opacity=\"1\" /><path clip-path=\"url(#clip040)\" d=\"M 0 0 M196.621 1073.86 L212.94 1073.86 L212.94 1077.8 L190.996 1077.8 L190.996 1073.86 Q193.658 1071.11 198.241 1066.48 Q202.848 1061.83 204.028 1060.48 Q206.274 1057.96 207.153 1056.22 Q208.056 1054.47 208.056 1052.78 Q208.056 1050.02 206.112 1048.28 Q204.19 1046.55 201.088 1046.55 Q198.889 1046.55 196.436 1047.31 Q194.005 1048.08 191.227 1049.63 L191.227 1044.9 Q194.051 1043.77 196.505 1043.19 Q198.959 1042.61 200.996 1042.61 Q206.366 1042.61 209.561 1045.3 Q212.755 1047.98 212.755 1052.47 Q212.755 1054.6 211.945 1056.53 Q211.158 1058.42 209.051 1061.02 Q208.473 1061.69 205.371 1064.9 Q202.269 1068.1 196.621 1073.86 Z\" fill=\"#000000\" fill-rule=\"evenodd\" fill-opacity=\"1\" /><path clip-path=\"url(#clip040)\" d=\"M 0 0 M222.801 1043.24 L241.158 1043.24 L241.158 1047.17 L227.084 1047.17 L227.084 1055.65 Q228.102 1055.3 229.121 1055.14 Q230.139 1054.95 231.158 1054.95 Q236.945 1054.95 240.324 1058.12 Q243.704 1061.29 243.704 1066.71 Q243.704 1072.29 240.232 1075.39 Q236.76 1078.47 230.44 1078.47 Q228.264 1078.47 225.996 1078.1 Q223.75 1077.73 221.343 1076.99 L221.343 1072.29 Q223.426 1073.42 225.648 1073.98 Q227.871 1074.53 230.347 1074.53 Q234.352 1074.53 236.69 1072.43 Q239.028 1070.32 239.028 1066.71 Q239.028 1063.1 236.69 1060.99 Q234.352 1058.89 230.347 1058.89 Q228.473 1058.89 226.598 1059.3 Q224.746 1059.72 222.801 1060.6 L222.801 1043.24 Z\" fill=\"#000000\" fill-rule=\"evenodd\" fill-opacity=\"1\" /><path clip-path=\"url(#clip040)\" d=\"M 0 0 M126.205 722.441 Q122.593 722.441 120.765 726.006 Q118.959 729.547 118.959 736.677 Q118.959 743.783 120.765 747.348 Q122.593 750.89 126.205 750.89 Q129.839 750.89 131.644 747.348 Q133.473 743.783 133.473 736.677 Q133.473 729.547 131.644 726.006 Q129.839 722.441 126.205 722.441 M126.205 718.737 Q132.015 718.737 135.07 723.344 Q138.149 727.927 138.149 736.677 Q138.149 745.404 135.07 750.01 Q132.015 754.594 126.205 754.594 Q120.394 754.594 117.316 750.01 Q114.26 745.404 114.26 736.677 Q114.26 727.927 117.316 723.344 Q120.394 718.737 126.205 718.737 Z\" fill=\"#000000\" fill-rule=\"evenodd\" fill-opacity=\"1\" /><path clip-path=\"url(#clip040)\" d=\"M 0 0 M146.366 748.043 L151.251 748.043 L151.251 753.922 L146.366 753.922 L146.366 748.043 Z\" fill=\"#000000\" fill-rule=\"evenodd\" fill-opacity=\"1\" /><path clip-path=\"url(#clip040)\" d=\"M 0 0 M161.575 753.205 L161.575 748.945 Q163.334 749.779 165.14 750.219 Q166.945 750.658 168.681 750.658 Q173.311 750.658 175.741 747.557 Q178.195 744.432 178.542 738.089 Q177.2 740.08 175.139 741.145 Q173.079 742.209 170.579 742.209 Q165.394 742.209 162.362 739.084 Q159.353 735.936 159.353 730.496 Q159.353 725.172 162.501 721.955 Q165.649 718.737 170.88 718.737 Q176.876 718.737 180.024 723.344 Q183.195 727.927 183.195 736.677 Q183.195 744.848 179.306 749.732 Q175.44 754.594 168.889 754.594 Q167.13 754.594 165.325 754.246 Q163.519 753.899 161.575 753.205 M170.88 738.552 Q174.028 738.552 175.857 736.399 Q177.709 734.246 177.709 730.496 Q177.709 726.77 175.857 724.617 Q174.028 722.441 170.88 722.441 Q167.732 722.441 165.88 724.617 Q164.052 726.77 164.052 730.496 Q164.052 734.246 165.88 736.399 Q167.732 738.552 170.88 738.552 Z\" fill=\"#000000\" fill-rule=\"evenodd\" fill-opacity=\"1\" /><path clip-path=\"url(#clip040)\" d=\"M 0 0 M205.764 735.288 Q209.121 736.006 210.996 738.274 Q212.894 740.543 212.894 743.876 Q212.894 748.992 209.375 751.793 Q205.857 754.594 199.375 754.594 Q197.2 754.594 194.885 754.154 Q192.593 753.737 190.139 752.881 L190.139 748.367 Q192.084 749.501 194.399 750.08 Q196.713 750.658 199.237 750.658 Q203.635 750.658 205.926 748.922 Q208.241 747.186 208.241 743.876 Q208.241 740.82 206.088 739.108 Q203.959 737.371 200.139 737.371 L196.112 737.371 L196.112 733.529 L200.325 733.529 Q203.774 733.529 205.602 732.163 Q207.431 730.774 207.431 728.182 Q207.431 725.52 205.533 724.108 Q203.658 722.672 200.139 722.672 Q198.218 722.672 196.019 723.089 Q193.82 723.506 191.181 724.385 L191.181 720.219 Q193.843 719.478 196.158 719.108 Q198.496 718.737 200.556 718.737 Q205.88 718.737 208.982 721.168 Q212.084 723.575 212.084 727.696 Q212.084 730.566 210.44 732.557 Q208.797 734.524 205.764 735.288 Z\" fill=\"#000000\" fill-rule=\"evenodd\" fill-opacity=\"1\" /><path clip-path=\"url(#clip040)\" d=\"M 0 0 M231.76 722.441 Q228.148 722.441 226.32 726.006 Q224.514 729.547 224.514 736.677 Q224.514 743.783 226.32 747.348 Q228.148 750.89 231.76 750.89 Q235.394 750.89 237.199 747.348 Q239.028 743.783 239.028 736.677 Q239.028 729.547 237.199 726.006 Q235.394 722.441 231.76 722.441 M231.76 718.737 Q237.57 718.737 240.625 723.344 Q243.704 727.927 243.704 736.677 Q243.704 745.404 240.625 750.01 Q237.57 754.594 231.76 754.594 Q225.949 754.594 222.871 750.01 Q219.815 745.404 219.815 736.677 Q219.815 727.927 222.871 723.344 Q225.949 718.737 231.76 718.737 Z\" fill=\"#000000\" fill-rule=\"evenodd\" fill-opacity=\"1\" /><path clip-path=\"url(#clip040)\" d=\"M 0 0 M127.2 398.565 Q123.589 398.565 121.76 402.13 Q119.955 405.671 119.955 412.801 Q119.955 419.907 121.76 423.472 Q123.589 427.014 127.2 427.014 Q130.834 427.014 132.64 423.472 Q134.468 419.907 134.468 412.801 Q134.468 405.671 132.64 402.13 Q130.834 398.565 127.2 398.565 M127.2 394.861 Q133.01 394.861 136.066 399.468 Q139.144 404.051 139.144 412.801 Q139.144 421.528 136.066 426.134 Q133.01 430.717 127.2 430.717 Q121.39 430.717 118.311 426.134 Q115.256 421.528 115.256 412.801 Q115.256 404.051 118.311 399.468 Q121.39 394.861 127.2 394.861 Z\" fill=\"#000000\" fill-rule=\"evenodd\" fill-opacity=\"1\" /><path clip-path=\"url(#clip040)\" d=\"M 0 0 M147.362 424.167 L152.246 424.167 L152.246 430.046 L147.362 430.046 L147.362 424.167 Z\" fill=\"#000000\" fill-rule=\"evenodd\" fill-opacity=\"1\" /><path clip-path=\"url(#clip040)\" d=\"M 0 0 M162.57 429.329 L162.57 425.069 Q164.329 425.903 166.135 426.343 Q167.94 426.782 169.677 426.782 Q174.306 426.782 176.737 423.68 Q179.19 420.556 179.538 414.213 Q178.195 416.204 176.135 417.268 Q174.075 418.333 171.575 418.333 Q166.39 418.333 163.357 415.208 Q160.348 412.06 160.348 406.62 Q160.348 401.296 163.496 398.079 Q166.644 394.861 171.876 394.861 Q177.871 394.861 181.019 399.468 Q184.19 404.051 184.19 412.801 Q184.19 420.972 180.301 425.856 Q176.436 430.717 169.885 430.717 Q168.126 430.717 166.32 430.37 Q164.515 430.023 162.57 429.329 M171.876 414.676 Q175.024 414.676 176.852 412.523 Q178.704 410.37 178.704 406.62 Q178.704 402.894 176.852 400.741 Q175.024 398.565 171.876 398.565 Q168.727 398.565 166.876 400.741 Q165.047 402.894 165.047 406.62 Q165.047 410.37 166.876 412.523 Q168.727 414.676 171.876 414.676 Z\" fill=\"#000000\" fill-rule=\"evenodd\" fill-opacity=\"1\" /><path clip-path=\"url(#clip040)\" d=\"M 0 0 M206.76 411.412 Q210.116 412.13 211.991 414.398 Q213.889 416.667 213.889 420 Q213.889 425.116 210.371 427.917 Q206.852 430.717 200.371 430.717 Q198.195 430.717 195.88 430.278 Q193.588 429.861 191.135 429.005 L191.135 424.491 Q193.079 425.625 195.394 426.204 Q197.709 426.782 200.232 426.782 Q204.63 426.782 206.922 425.046 Q209.237 423.31 209.237 420 Q209.237 416.944 207.084 415.231 Q204.954 413.495 201.135 413.495 L197.107 413.495 L197.107 409.653 L201.32 409.653 Q204.769 409.653 206.598 408.287 Q208.426 406.898 208.426 404.306 Q208.426 401.644 206.528 400.232 Q204.653 398.796 201.135 398.796 Q199.213 398.796 197.014 399.213 Q194.815 399.63 192.176 400.509 L192.176 396.343 Q194.838 395.602 197.153 395.232 Q199.491 394.861 201.551 394.861 Q206.875 394.861 209.977 397.292 Q213.079 399.699 213.079 403.819 Q213.079 406.69 211.436 408.681 Q209.792 410.648 206.76 411.412 Z\" fill=\"#000000\" fill-rule=\"evenodd\" fill-opacity=\"1\" /><path clip-path=\"url(#clip040)\" d=\"M 0 0 M222.801 395.486 L241.158 395.486 L241.158 399.421 L227.084 399.421 L227.084 407.894 Q228.102 407.546 229.121 407.384 Q230.139 407.199 231.158 407.199 Q236.945 407.199 240.324 410.37 Q243.704 413.542 243.704 418.958 Q243.704 424.537 240.232 427.639 Q236.76 430.717 230.44 430.717 Q228.264 430.717 225.996 430.347 Q223.75 429.977 221.343 429.236 L221.343 424.537 Q223.426 425.671 225.648 426.227 Q227.871 426.782 230.347 426.782 Q234.352 426.782 236.69 424.676 Q239.028 422.569 239.028 418.958 Q239.028 415.347 236.69 413.241 Q234.352 411.134 230.347 411.134 Q228.473 411.134 226.598 411.551 Q224.746 411.968 222.801 412.847 L222.801 395.486 Z\" fill=\"#000000\" fill-rule=\"evenodd\" fill-opacity=\"1\" /><path clip-path=\"url(#clip040)\" d=\"M 0 0 M126.205 74.6888 Q122.593 74.6888 120.765 78.2536 Q118.959 81.7953 118.959 88.9249 Q118.959 96.0313 120.765 99.5961 Q122.593 103.138 126.205 103.138 Q129.839 103.138 131.644 99.5961 Q133.473 96.0313 133.473 88.9249 Q133.473 81.7953 131.644 78.2536 Q129.839 74.6888 126.205 74.6888 M126.205 70.9851 Q132.015 70.9851 135.07 75.5916 Q138.149 80.1749 138.149 88.9249 Q138.149 97.6517 135.07 102.258 Q132.015 106.841 126.205 106.841 Q120.394 106.841 117.316 102.258 Q114.26 97.6517 114.26 88.9249 Q114.26 80.1749 117.316 75.5916 Q120.394 70.9851 126.205 70.9851 Z\" fill=\"#000000\" fill-rule=\"evenodd\" fill-opacity=\"1\" /><path clip-path=\"url(#clip040)\" d=\"M 0 0 M146.366 100.291 L151.251 100.291 L151.251 106.17 L146.366 106.17 L146.366 100.291 Z\" fill=\"#000000\" fill-rule=\"evenodd\" fill-opacity=\"1\" /><path clip-path=\"url(#clip040)\" d=\"M 0 0 M161.575 105.453 L161.575 101.193 Q163.334 102.027 165.14 102.466 Q166.945 102.906 168.681 102.906 Q173.311 102.906 175.741 99.8044 Q178.195 96.6794 178.542 90.3369 Q177.2 92.3276 175.139 93.3924 Q173.079 94.4572 170.579 94.4572 Q165.394 94.4572 162.362 91.3322 Q159.353 88.1841 159.353 82.7443 Q159.353 77.4203 162.501 74.2027 Q165.649 70.9851 170.88 70.9851 Q176.876 70.9851 180.024 75.5916 Q183.195 80.1749 183.195 88.9249 Q183.195 97.0961 179.306 101.98 Q175.44 106.841 168.889 106.841 Q167.13 106.841 165.325 106.494 Q163.519 106.147 161.575 105.453 M170.88 90.7998 Q174.028 90.7998 175.857 88.6471 Q177.709 86.4943 177.709 82.7443 Q177.709 79.0175 175.857 76.8647 Q174.028 74.6888 170.88 74.6888 Q167.732 74.6888 165.88 76.8647 Q164.052 79.0175 164.052 82.7443 Q164.052 86.4943 165.88 88.6471 Q167.732 90.7998 170.88 90.7998 Z\" fill=\"#000000\" fill-rule=\"evenodd\" fill-opacity=\"1\" /><path clip-path=\"url(#clip040)\" d=\"M 0 0 M204.445 75.6842 L192.639 94.1332 L204.445 94.1332 L204.445 75.6842 M203.218 71.6101 L209.098 71.6101 L209.098 94.1332 L214.028 94.1332 L214.028 98.022 L209.098 98.022 L209.098 106.17 L204.445 106.17 L204.445 98.022 L188.843 98.022 L188.843 93.5082 L203.218 71.6101 Z\" fill=\"#000000\" fill-rule=\"evenodd\" fill-opacity=\"1\" /><path clip-path=\"url(#clip040)\" d=\"M 0 0 M231.76 74.6888 Q228.148 74.6888 226.32 78.2536 Q224.514 81.7953 224.514 88.9249 Q224.514 96.0313 226.32 99.5961 Q228.148 103.138 231.76 103.138 Q235.394 103.138 237.199 99.5961 Q239.028 96.0313 239.028 88.9249 Q239.028 81.7953 237.199 78.2536 Q235.394 74.6888 231.76 74.6888 M231.76 70.9851 Q237.57 70.9851 240.625 75.5916 Q243.704 80.1749 243.704 88.9249 Q243.704 97.6517 240.625 102.258 Q237.57 106.841 231.76 106.841 Q225.949 106.841 222.871 102.258 Q219.815 97.6517 219.815 88.9249 Q219.815 80.1749 222.871 75.5916 Q225.949 70.9851 231.76 70.9851 Z\" fill=\"#000000\" fill-rule=\"evenodd\" fill-opacity=\"1\" /><path clip-path=\"url(#clip040)\" d=\"M 0 0 M14.479 779.995 L14.479 774.106 L43.7294 774.106 L28.3562 756.633 L28.3562 749.153 L45.0344 768.059 L64.0042 748.357 L64.0042 755.996 L46.5939 774.106 L64.0042 774.106 L64.0042 779.995 L14.479 779.995 Z\" fill=\"#000000\" fill-rule=\"evenodd\" fill-opacity=\"1\" /><path clip-path=\"url(#clip040)\" d=\"M 0 0 M16.4842 731.615 L16.4842 726.204 L70.0516 742.755 L70.0516 748.166 L16.4842 731.615 Z\" fill=\"#000000\" fill-rule=\"evenodd\" fill-opacity=\"1\" /><path clip-path=\"url(#clip040)\" d=\"M 0 0 M42.4881 690.429 L64.0042 690.429 L64.0042 696.286 L42.679 696.286 Q37.6183 696.286 35.1038 698.259 Q32.5894 700.232 32.5894 704.179 Q32.5894 708.922 35.6131 711.659 Q38.6368 714.396 43.8567 714.396 L64.0042 714.396 L64.0042 720.284 L28.3562 720.284 L28.3562 714.396 L33.8944 714.396 Q30.6797 712.295 29.0883 709.463 Q27.4968 706.598 27.4968 702.874 Q27.4968 696.731 31.3163 693.58 Q35.1038 690.429 42.4881 690.429 Z\" fill=\"#000000\" fill-rule=\"evenodd\" fill-opacity=\"1\" /><polyline clip-path=\"url(#clip042)\" style=\"stroke:#009af9; stroke-width:4; stroke-opacity:1; fill:none\" points=\"\n",
       "  338.375,1384.24 729.517,1125 1120.66,865.671 1511.8,606.175 1902.94,346.405 2294.08,86.1857 \n",
       "  \"/>\n",
       "<path clip-path=\"url(#clip040)\" d=\"\n",
       "M2000.88 214.069 L2283.65 214.069 L2283.65 93.1086 L2000.88 93.1086  Z\n",
       "  \" fill=\"#ffffff\" fill-rule=\"evenodd\" fill-opacity=\"1\"/>\n",
       "<polyline clip-path=\"url(#clip040)\" style=\"stroke:#000000; stroke-width:4; stroke-opacity:1; fill:none\" points=\"\n",
       "  2000.88,214.069 2283.65,214.069 2283.65,93.1086 2000.88,93.1086 2000.88,214.069 \n",
       "  \"/>\n",
       "<polyline clip-path=\"url(#clip040)\" style=\"stroke:#009af9; stroke-width:4; stroke-opacity:1; fill:none\" points=\"\n",
       "  2023.92,153.589 2162.12,153.589 \n",
       "  \"/>\n",
       "<path clip-path=\"url(#clip040)\" d=\"M 0 0 M2199 173.276 Q2197.19 177.906 2195.48 179.318 Q2193.77 180.73 2190.9 180.73 L2187.49 180.73 L2187.49 177.165 L2189.99 177.165 Q2191.75 177.165 2192.73 176.332 Q2193.7 175.498 2194.88 172.396 L2195.64 170.452 L2185.16 144.943 L2189.67 144.943 L2197.77 165.221 L2205.87 144.943 L2210.39 144.943 L2199 173.276 Z\" fill=\"#000000\" fill-rule=\"evenodd\" fill-opacity=\"1\" /><path clip-path=\"url(#clip040)\" d=\"M 0 0 M2217.68 166.933 L2225.32 166.933 L2225.32 140.568 L2217.01 142.235 L2217.01 137.975 L2225.27 136.309 L2229.95 136.309 L2229.95 166.933 L2237.59 166.933 L2237.59 170.869 L2217.68 170.869 L2217.68 166.933 Z\" fill=\"#000000\" fill-rule=\"evenodd\" fill-opacity=\"1\" /></svg>\n"
      ]
     },
     "execution_count": 633,
     "metadata": {},
     "output_type": "execute_result"
    }
   ],
   "source": [
    "# how does λ depend on the saving rate ?\n",
    "\n",
    "avec = range(0.2, 0.4; length=6)\n",
    "kbar_a = []\n",
    "λ_a = []\n",
    "for a in avec\n",
    "    p0 = copy(p)\n",
    "    p0[:α] = a\n",
    "    kbar = steady_state(p0, 1.0)\n",
    "    lam = λ(p0)\n",
    "    push!(kbar_a, kbar)\n",
    "    push!(λ_a, lam)\n",
    "    \n",
    "end\n",
    "plot(avec, λ_a, xlabel=\"α\", ylabel=\"k/n\")"
   ]
  },
  {
   "cell_type": "markdown",
   "id": "d053ec75",
   "metadata": {},
   "source": [
    "__Compute the steady-state directly using a Newton method and compare convergence speed.__"
   ]
  },
  {
   "cell_type": "code",
   "execution_count": 634,
   "id": "4e5d1d2d",
   "metadata": {},
   "outputs": [],
   "source": [
    "]add NLsolve"
   ]
  },
  {
   "cell_type": "code",
   "execution_count": 635,
   "id": "ce683225-11e5-468d-bb3f-7e63a68c4b35",
   "metadata": {},
   "outputs": [],
   "source": [
    "using NLsolve"
   ]
  },
  {
   "cell_type": "code",
   "execution_count": 636,
   "id": "76fc0f4b-dc24-47a4-a261-60428f554a34",
   "metadata": {},
   "outputs": [
    {
     "data": {
      "text/plain": [
       "Results of Nonlinear Solver Algorithm\n",
       " * Algorithm: Trust-region with dogleg and autoscaling\n",
       " * Starting Point: [1.0]\n",
       " * Zero: [2.69180038574329]\n",
       " * Inf-norm of residuals: 0.000000\n",
       " * Iterations: 4\n",
       " * Convergence: true\n",
       "   * |x - x'| < 0.0e+00: false\n",
       "   * |f(x)| < 1.0e-08: true\n",
       " * Function Calls (f): 5\n",
       " * Jacobian Calls (df/dx): 5"
      ]
     },
     "execution_count": 636,
     "metadata": {},
     "output_type": "execute_result"
    }
   ],
   "source": [
    "res = NLsolve.nlsolve(u->[f(u[1];p)-u[1]], [1.0])"
   ]
  },
  {
   "cell_type": "markdown",
   "id": "7ee92379",
   "metadata": {},
   "source": [
    "__Suppose one tries to maximize steady-state consumption by choosing saving rate $s$. Which value would one choose?__"
   ]
  },
  {
   "cell_type": "code",
   "execution_count": 637,
   "id": "c3d11a1e",
   "metadata": {},
   "outputs": [
    {
     "data": {
      "text/plain": [
       "steady_state_consumption (generic function with 2 methods)"
      ]
     },
     "execution_count": 637,
     "metadata": {},
     "output_type": "execute_result"
    }
   ],
   "source": [
    "function steady_state_consumption(p::Dict)\n",
    "    kbar = steady_state(p)\n",
    "    ybar = p[:A]*kbar^p[:α]\n",
    "    ibar = p[:s]*ybar\n",
    "    cbar = ybar - ibar\n",
    "    return cbar\n",
    "    \n",
    "end"
   ]
  },
  {
   "cell_type": "code",
   "execution_count": 638,
   "id": "814e6860-b71c-46bd-b216-ce2531e3d5bb",
   "metadata": {},
   "outputs": [
    {
     "data": {
      "text/plain": [
       "steady_state (generic function with 3 methods)"
      ]
     },
     "execution_count": 638,
     "metadata": {},
     "output_type": "execute_result"
    }
   ],
   "source": [
    "function steady_state_consumption(s::Float64; p=Dict())\n",
    "    p0 = copy(p)\n",
    "    p0[:s] = s\n",
    "    return steady_state_consumption(p0)\n",
    "end\n",
    "function steady_state(s::Float64; p=Dict())\n",
    "    p0 = copy(p)\n",
    "    p0[:s] = s\n",
    "    return steady_state(p0, 1.0)\n",
    "end"
   ]
  },
  {
   "cell_type": "code",
   "execution_count": 639,
   "id": "c817524f-eeb9-4c59-9aec-08f04e61b388",
   "metadata": {},
   "outputs": [
    {
     "data": {
      "image/svg+xml": [
       "<?xml version=\"1.0\" encoding=\"utf-8\"?>\n",
       "<svg xmlns=\"http://www.w3.org/2000/svg\" xmlns:xlink=\"http://www.w3.org/1999/xlink\" width=\"600\" height=\"400\" viewBox=\"0 0 2400 1600\">\n",
       "<defs>\n",
       "  <clipPath id=\"clip080\">\n",
       "    <rect x=\"0\" y=\"0\" width=\"2400\" height=\"1600\"/>\n",
       "  </clipPath>\n",
       "</defs>\n",
       "<path clip-path=\"url(#clip080)\" d=\"\n",
       "M0 1600 L2400 1600 L2400 0 L0 0  Z\n",
       "  \" fill=\"#ffffff\" fill-rule=\"evenodd\" fill-opacity=\"1\"/>\n",
       "<defs>\n",
       "  <clipPath id=\"clip081\">\n",
       "    <rect x=\"480\" y=\"0\" width=\"1681\" height=\"1600\"/>\n",
       "  </clipPath>\n",
       "</defs>\n",
       "<path clip-path=\"url(#clip080)\" d=\"\n",
       "M138.959 1486.45 L2352.76 1486.45 L2352.76 47.2441 L138.959 47.2441  Z\n",
       "  \" fill=\"#ffffff\" fill-rule=\"evenodd\" fill-opacity=\"1\"/>\n",
       "<defs>\n",
       "  <clipPath id=\"clip082\">\n",
       "    <rect x=\"138\" y=\"47\" width=\"2215\" height=\"1440\"/>\n",
       "  </clipPath>\n",
       "</defs>\n",
       "<polyline clip-path=\"url(#clip082)\" style=\"stroke:#000000; stroke-width:2; stroke-opacity:0.1; fill:none\" points=\"\n",
       "  201.614,1486.45 201.614,47.2441 \n",
       "  \"/>\n",
       "<polyline clip-path=\"url(#clip082)\" style=\"stroke:#000000; stroke-width:2; stroke-opacity:0.1; fill:none\" points=\"\n",
       "  723.736,1486.45 723.736,47.2441 \n",
       "  \"/>\n",
       "<polyline clip-path=\"url(#clip082)\" style=\"stroke:#000000; stroke-width:2; stroke-opacity:0.1; fill:none\" points=\"\n",
       "  1245.86,1486.45 1245.86,47.2441 \n",
       "  \"/>\n",
       "<polyline clip-path=\"url(#clip082)\" style=\"stroke:#000000; stroke-width:2; stroke-opacity:0.1; fill:none\" points=\"\n",
       "  1767.98,1486.45 1767.98,47.2441 \n",
       "  \"/>\n",
       "<polyline clip-path=\"url(#clip082)\" style=\"stroke:#000000; stroke-width:2; stroke-opacity:0.1; fill:none\" points=\"\n",
       "  2290.1,1486.45 2290.1,47.2441 \n",
       "  \"/>\n",
       "<polyline clip-path=\"url(#clip080)\" style=\"stroke:#000000; stroke-width:4; stroke-opacity:1; fill:none\" points=\"\n",
       "  138.959,1486.45 2352.76,1486.45 \n",
       "  \"/>\n",
       "<polyline clip-path=\"url(#clip080)\" style=\"stroke:#000000; stroke-width:4; stroke-opacity:1; fill:none\" points=\"\n",
       "  201.614,1486.45 201.614,1469.18 \n",
       "  \"/>\n",
       "<polyline clip-path=\"url(#clip080)\" style=\"stroke:#000000; stroke-width:4; stroke-opacity:1; fill:none\" points=\"\n",
       "  723.736,1486.45 723.736,1469.18 \n",
       "  \"/>\n",
       "<polyline clip-path=\"url(#clip080)\" style=\"stroke:#000000; stroke-width:4; stroke-opacity:1; fill:none\" points=\"\n",
       "  1245.86,1486.45 1245.86,1469.18 \n",
       "  \"/>\n",
       "<polyline clip-path=\"url(#clip080)\" style=\"stroke:#000000; stroke-width:4; stroke-opacity:1; fill:none\" points=\"\n",
       "  1767.98,1486.45 1767.98,1469.18 \n",
       "  \"/>\n",
       "<polyline clip-path=\"url(#clip080)\" style=\"stroke:#000000; stroke-width:4; stroke-opacity:1; fill:none\" points=\"\n",
       "  2290.1,1486.45 2290.1,1469.18 \n",
       "  \"/>\n",
       "<path clip-path=\"url(#clip080)\" d=\"M 0 0 M179.612 1515.64 Q176.001 1515.64 174.172 1519.2 Q172.367 1522.75 172.367 1529.87 Q172.367 1536.98 174.172 1540.55 Q176.001 1544.09 179.612 1544.09 Q183.246 1544.09 185.052 1540.55 Q186.88 1536.98 186.88 1529.87 Q186.88 1522.75 185.052 1519.2 Q183.246 1515.64 179.612 1515.64 M179.612 1511.93 Q185.422 1511.93 188.478 1516.54 Q191.556 1521.12 191.556 1529.87 Q191.556 1538.6 188.478 1543.21 Q185.422 1547.79 179.612 1547.79 Q173.802 1547.79 170.723 1543.21 Q167.667 1538.6 167.667 1529.87 Q167.667 1521.12 170.723 1516.54 Q173.802 1511.93 179.612 1511.93 Z\" fill=\"#000000\" fill-rule=\"evenodd\" fill-opacity=\"1\" /><path clip-path=\"url(#clip080)\" d=\"M 0 0 M199.774 1541.24 L204.658 1541.24 L204.658 1547.12 L199.774 1547.12 L199.774 1541.24 Z\" fill=\"#000000\" fill-rule=\"evenodd\" fill-opacity=\"1\" /><path clip-path=\"url(#clip080)\" d=\"M 0 0 M215.653 1543.18 L223.292 1543.18 L223.292 1516.82 L214.982 1518.49 L214.982 1514.23 L223.246 1512.56 L227.922 1512.56 L227.922 1543.18 L235.561 1543.18 L235.561 1547.12 L215.653 1547.12 L215.653 1543.18 Z\" fill=\"#000000\" fill-rule=\"evenodd\" fill-opacity=\"1\" /><path clip-path=\"url(#clip080)\" d=\"M 0 0 M701.919 1515.64 Q698.308 1515.64 696.479 1519.2 Q694.674 1522.75 694.674 1529.87 Q694.674 1536.98 696.479 1540.55 Q698.308 1544.09 701.919 1544.09 Q705.553 1544.09 707.359 1540.55 Q709.187 1536.98 709.187 1529.87 Q709.187 1522.75 707.359 1519.2 Q705.553 1515.64 701.919 1515.64 M701.919 1511.93 Q707.729 1511.93 710.785 1516.54 Q713.863 1521.12 713.863 1529.87 Q713.863 1538.6 710.785 1543.21 Q707.729 1547.79 701.919 1547.79 Q696.109 1547.79 693.03 1543.21 Q689.974 1538.6 689.974 1529.87 Q689.974 1521.12 693.03 1516.54 Q696.109 1511.93 701.919 1511.93 Z\" fill=\"#000000\" fill-rule=\"evenodd\" fill-opacity=\"1\" /><path clip-path=\"url(#clip080)\" d=\"M 0 0 M722.081 1541.24 L726.965 1541.24 L726.965 1547.12 L722.081 1547.12 L722.081 1541.24 Z\" fill=\"#000000\" fill-rule=\"evenodd\" fill-opacity=\"1\" /><path clip-path=\"url(#clip080)\" d=\"M 0 0 M741.178 1543.18 L757.497 1543.18 L757.497 1547.12 L735.553 1547.12 L735.553 1543.18 Q738.215 1540.43 742.798 1535.8 Q747.405 1531.15 748.585 1529.81 Q750.831 1527.28 751.71 1525.55 Q752.613 1523.79 752.613 1522.1 Q752.613 1519.34 750.669 1517.61 Q748.747 1515.87 745.645 1515.87 Q743.446 1515.87 740.993 1516.63 Q738.562 1517.4 735.784 1518.95 L735.784 1514.23 Q738.608 1513.09 741.062 1512.51 Q743.516 1511.93 745.553 1511.93 Q750.923 1511.93 754.118 1514.62 Q757.312 1517.31 757.312 1521.8 Q757.312 1523.93 756.502 1525.85 Q755.715 1527.74 753.608 1530.34 Q753.03 1531.01 749.928 1534.23 Q746.826 1537.42 741.178 1543.18 Z\" fill=\"#000000\" fill-rule=\"evenodd\" fill-opacity=\"1\" /><path clip-path=\"url(#clip080)\" d=\"M 0 0 M1223.57 1515.64 Q1219.96 1515.64 1218.13 1519.2 Q1216.32 1522.75 1216.32 1529.87 Q1216.32 1536.98 1218.13 1540.55 Q1219.96 1544.09 1223.57 1544.09 Q1227.2 1544.09 1229.01 1540.55 Q1230.83 1536.98 1230.83 1529.87 Q1230.83 1522.75 1229.01 1519.2 Q1227.2 1515.64 1223.57 1515.64 M1223.57 1511.93 Q1229.38 1511.93 1232.43 1516.54 Q1235.51 1521.12 1235.51 1529.87 Q1235.51 1538.6 1232.43 1543.21 Q1229.38 1547.79 1223.57 1547.79 Q1217.76 1547.79 1214.68 1543.21 Q1211.62 1538.6 1211.62 1529.87 Q1211.62 1521.12 1214.68 1516.54 Q1217.76 1511.93 1223.57 1511.93 Z\" fill=\"#000000\" fill-rule=\"evenodd\" fill-opacity=\"1\" /><path clip-path=\"url(#clip080)\" d=\"M 0 0 M1243.73 1541.24 L1248.61 1541.24 L1248.61 1547.12 L1243.73 1547.12 L1243.73 1541.24 Z\" fill=\"#000000\" fill-rule=\"evenodd\" fill-opacity=\"1\" /><path clip-path=\"url(#clip080)\" d=\"M 0 0 M1272.96 1528.49 Q1276.32 1529.2 1278.2 1531.47 Q1280.09 1533.74 1280.09 1537.07 Q1280.09 1542.19 1276.58 1544.99 Q1273.06 1547.79 1266.58 1547.79 Q1264.4 1547.79 1262.08 1547.35 Q1259.79 1546.93 1257.34 1546.08 L1257.34 1541.56 Q1259.28 1542.7 1261.6 1543.28 Q1263.91 1543.86 1266.44 1543.86 Q1270.83 1543.86 1273.13 1542.12 Q1275.44 1540.38 1275.44 1537.07 Q1275.44 1534.02 1273.29 1532.31 Q1271.16 1530.57 1267.34 1530.57 L1263.31 1530.57 L1263.31 1526.73 L1267.52 1526.73 Q1270.97 1526.73 1272.8 1525.36 Q1274.63 1523.97 1274.63 1521.38 Q1274.63 1518.72 1272.73 1517.31 Q1270.86 1515.87 1267.34 1515.87 Q1265.42 1515.87 1263.22 1516.29 Q1261.02 1516.7 1258.38 1517.58 L1258.38 1513.42 Q1261.04 1512.68 1263.36 1512.31 Q1265.7 1511.93 1267.76 1511.93 Q1273.08 1511.93 1276.18 1514.37 Q1279.28 1516.77 1279.28 1520.89 Q1279.28 1523.76 1277.64 1525.75 Q1276 1527.72 1272.96 1528.49 Z\" fill=\"#000000\" fill-rule=\"evenodd\" fill-opacity=\"1\" /><path clip-path=\"url(#clip080)\" d=\"M 0 0 M1745.12 1515.64 Q1741.51 1515.64 1739.68 1519.2 Q1737.88 1522.75 1737.88 1529.87 Q1737.88 1536.98 1739.68 1540.55 Q1741.51 1544.09 1745.12 1544.09 Q1748.76 1544.09 1750.56 1540.55 Q1752.39 1536.98 1752.39 1529.87 Q1752.39 1522.75 1750.56 1519.2 Q1748.76 1515.64 1745.12 1515.64 M1745.12 1511.93 Q1750.93 1511.93 1753.99 1516.54 Q1757.07 1521.12 1757.07 1529.87 Q1757.07 1538.6 1753.99 1543.21 Q1750.93 1547.79 1745.12 1547.79 Q1739.31 1547.79 1736.23 1543.21 Q1733.18 1538.6 1733.18 1529.87 Q1733.18 1521.12 1736.23 1516.54 Q1739.31 1511.93 1745.12 1511.93 Z\" fill=\"#000000\" fill-rule=\"evenodd\" fill-opacity=\"1\" /><path clip-path=\"url(#clip080)\" d=\"M 0 0 M1765.28 1541.24 L1770.17 1541.24 L1770.17 1547.12 L1765.28 1547.12 L1765.28 1541.24 Z\" fill=\"#000000\" fill-rule=\"evenodd\" fill-opacity=\"1\" /><path clip-path=\"url(#clip080)\" d=\"M 0 0 M1793.2 1516.63 L1781.39 1535.08 L1793.2 1535.08 L1793.2 1516.63 M1791.97 1512.56 L1797.85 1512.56 L1797.85 1535.08 L1802.78 1535.08 L1802.78 1538.97 L1797.85 1538.97 L1797.85 1547.12 L1793.2 1547.12 L1793.2 1538.97 L1777.6 1538.97 L1777.6 1534.46 L1791.97 1512.56 Z\" fill=\"#000000\" fill-rule=\"evenodd\" fill-opacity=\"1\" /><path clip-path=\"url(#clip080)\" d=\"M 0 0 M2267.98 1515.64 Q2264.37 1515.64 2262.54 1519.2 Q2260.74 1522.75 2260.74 1529.87 Q2260.74 1536.98 2262.54 1540.55 Q2264.37 1544.09 2267.98 1544.09 Q2271.62 1544.09 2273.42 1540.55 Q2275.25 1536.98 2275.25 1529.87 Q2275.25 1522.75 2273.42 1519.2 Q2271.62 1515.64 2267.98 1515.64 M2267.98 1511.93 Q2273.79 1511.93 2276.85 1516.54 Q2279.93 1521.12 2279.93 1529.87 Q2279.93 1538.6 2276.85 1543.21 Q2273.79 1547.79 2267.98 1547.79 Q2262.17 1547.79 2259.09 1543.21 Q2256.04 1538.6 2256.04 1529.87 Q2256.04 1521.12 2259.09 1516.54 Q2262.17 1511.93 2267.98 1511.93 Z\" fill=\"#000000\" fill-rule=\"evenodd\" fill-opacity=\"1\" /><path clip-path=\"url(#clip080)\" d=\"M 0 0 M2288.15 1541.24 L2293.03 1541.24 L2293.03 1547.12 L2288.15 1547.12 L2288.15 1541.24 Z\" fill=\"#000000\" fill-rule=\"evenodd\" fill-opacity=\"1\" /><path clip-path=\"url(#clip080)\" d=\"M 0 0 M2303.26 1512.56 L2321.62 1512.56 L2321.62 1516.5 L2307.54 1516.5 L2307.54 1524.97 Q2308.56 1524.62 2309.58 1524.46 Q2310.6 1524.27 2311.62 1524.27 Q2317.4 1524.27 2320.78 1527.44 Q2324.16 1530.62 2324.16 1536.03 Q2324.16 1541.61 2320.69 1544.71 Q2317.22 1547.79 2310.9 1547.79 Q2308.72 1547.79 2306.46 1547.42 Q2304.21 1547.05 2301.8 1546.31 L2301.8 1541.61 Q2303.89 1542.74 2306.11 1543.3 Q2308.33 1543.86 2310.81 1543.86 Q2314.81 1543.86 2317.15 1541.75 Q2319.49 1539.64 2319.49 1536.03 Q2319.49 1532.42 2317.15 1530.31 Q2314.81 1528.21 2310.81 1528.21 Q2308.93 1528.21 2307.06 1528.62 Q2305.21 1529.04 2303.26 1529.92 L2303.26 1512.56 Z\" fill=\"#000000\" fill-rule=\"evenodd\" fill-opacity=\"1\" /><polyline clip-path=\"url(#clip082)\" style=\"stroke:#000000; stroke-width:2; stroke-opacity:0.1; fill:none\" points=\"\n",
       "  138.959,1294.15 2352.76,1294.15 \n",
       "  \"/>\n",
       "<polyline clip-path=\"url(#clip082)\" style=\"stroke:#000000; stroke-width:2; stroke-opacity:0.1; fill:none\" points=\"\n",
       "  138.959,991.011 2352.76,991.011 \n",
       "  \"/>\n",
       "<polyline clip-path=\"url(#clip082)\" style=\"stroke:#000000; stroke-width:2; stroke-opacity:0.1; fill:none\" points=\"\n",
       "  138.959,687.874 2352.76,687.874 \n",
       "  \"/>\n",
       "<polyline clip-path=\"url(#clip082)\" style=\"stroke:#000000; stroke-width:2; stroke-opacity:0.1; fill:none\" points=\"\n",
       "  138.959,384.737 2352.76,384.737 \n",
       "  \"/>\n",
       "<polyline clip-path=\"url(#clip082)\" style=\"stroke:#000000; stroke-width:2; stroke-opacity:0.1; fill:none\" points=\"\n",
       "  138.959,81.6002 2352.76,81.6002 \n",
       "  \"/>\n",
       "<polyline clip-path=\"url(#clip080)\" style=\"stroke:#000000; stroke-width:4; stroke-opacity:1; fill:none\" points=\"\n",
       "  138.959,1486.45 138.959,47.2441 \n",
       "  \"/>\n",
       "<polyline clip-path=\"url(#clip080)\" style=\"stroke:#000000; stroke-width:4; stroke-opacity:1; fill:none\" points=\"\n",
       "  138.959,1294.15 165.525,1294.15 \n",
       "  \"/>\n",
       "<polyline clip-path=\"url(#clip080)\" style=\"stroke:#000000; stroke-width:4; stroke-opacity:1; fill:none\" points=\"\n",
       "  138.959,991.011 165.525,991.011 \n",
       "  \"/>\n",
       "<polyline clip-path=\"url(#clip080)\" style=\"stroke:#000000; stroke-width:4; stroke-opacity:1; fill:none\" points=\"\n",
       "  138.959,687.874 165.525,687.874 \n",
       "  \"/>\n",
       "<polyline clip-path=\"url(#clip080)\" style=\"stroke:#000000; stroke-width:4; stroke-opacity:1; fill:none\" points=\"\n",
       "  138.959,384.737 165.525,384.737 \n",
       "  \"/>\n",
       "<polyline clip-path=\"url(#clip080)\" style=\"stroke:#000000; stroke-width:4; stroke-opacity:1; fill:none\" points=\"\n",
       "  138.959,81.6002 165.525,81.6002 \n",
       "  \"/>\n",
       "<path clip-path=\"url(#clip080)\" d=\"M 0 0 M86.6401 1307.49 L102.959 1307.49 L102.959 1311.43 L81.0151 1311.43 L81.0151 1307.49 Q83.6771 1304.74 88.2604 1300.11 Q92.8669 1295.46 94.0475 1294.11 Q96.2928 1291.59 97.1724 1289.85 Q98.0752 1288.09 98.0752 1286.4 Q98.0752 1283.65 96.1308 1281.91 Q94.2095 1280.18 91.1077 1280.18 Q88.9086 1280.18 86.4549 1280.94 Q84.0244 1281.71 81.2466 1283.26 L81.2466 1278.53 Q84.0707 1277.4 86.5243 1276.82 Q88.978 1276.24 91.0151 1276.24 Q96.3854 1276.24 99.5798 1278.93 Q102.774 1281.61 102.774 1286.1 Q102.774 1288.23 101.964 1290.15 Q101.177 1292.05 99.0706 1294.64 Q98.4919 1295.32 95.39 1298.53 Q92.2882 1301.73 86.6401 1307.49 Z\" fill=\"#000000\" fill-rule=\"evenodd\" fill-opacity=\"1\" /><path clip-path=\"url(#clip080)\" d=\"M 0 0 M93.3762 977.805 L81.5707 996.254 L93.3762 996.254 L93.3762 977.805 M92.1493 973.731 L98.0289 973.731 L98.0289 996.254 L102.959 996.254 L102.959 1000.14 L98.0289 1000.14 L98.0289 1008.29 L93.3762 1008.29 L93.3762 1000.14 L77.7744 1000.14 L77.7744 995.629 L92.1493 973.731 Z\" fill=\"#000000\" fill-rule=\"evenodd\" fill-opacity=\"1\" /><path clip-path=\"url(#clip080)\" d=\"M 0 0 M91.4317 686.01 Q88.2836 686.01 86.4318 688.163 Q84.6031 690.316 84.6031 694.066 Q84.6031 697.793 86.4318 699.969 Q88.2836 702.121 91.4317 702.121 Q94.5799 702.121 96.4085 699.969 Q98.2604 697.793 98.2604 694.066 Q98.2604 690.316 96.4085 688.163 Q94.5799 686.01 91.4317 686.01 M100.714 671.358 L100.714 675.617 Q98.9548 674.784 97.1493 674.344 Q95.3669 673.904 93.6076 673.904 Q88.978 673.904 86.5243 677.029 Q84.0938 680.154 83.7466 686.473 Q85.1123 684.459 87.1725 683.395 Q89.2327 682.307 91.7095 682.307 Q96.9178 682.307 99.927 685.478 Q102.959 688.626 102.959 694.066 Q102.959 699.39 99.8113 702.607 Q96.6632 705.825 91.4317 705.825 Q85.4364 705.825 82.2651 701.242 Q79.0938 696.635 79.0938 687.908 Q79.0938 679.714 82.9827 674.853 Q86.8716 669.969 93.4225 669.969 Q95.1817 669.969 96.9641 670.316 Q98.7696 670.663 100.714 671.358 Z\" fill=\"#000000\" fill-rule=\"evenodd\" fill-opacity=\"1\" /><path clip-path=\"url(#clip080)\" d=\"M 0 0 M91.1077 385.605 Q87.7743 385.605 85.8531 387.387 Q83.9549 389.17 83.9549 392.295 Q83.9549 395.42 85.8531 397.202 Q87.7743 398.985 91.1077 398.985 Q94.441 398.985 96.3623 397.202 Q98.2835 395.397 98.2835 392.295 Q98.2835 389.17 96.3623 387.387 Q94.4641 385.605 91.1077 385.605 M86.4318 383.614 Q83.4225 382.874 81.7327 380.813 Q80.066 378.753 80.066 375.79 Q80.066 371.647 83.0058 369.239 Q85.9688 366.832 91.1077 366.832 Q96.2697 366.832 99.2095 369.239 Q102.149 371.647 102.149 375.79 Q102.149 378.753 100.459 380.813 Q98.7928 382.874 95.8067 383.614 Q99.1863 384.401 101.061 386.693 Q102.959 388.985 102.959 392.295 Q102.959 397.318 99.8808 400.003 Q96.8252 402.688 91.1077 402.688 Q85.3901 402.688 82.3114 400.003 Q79.2559 397.318 79.2559 392.295 Q79.2559 388.985 81.154 386.693 Q83.0521 384.401 86.4318 383.614 M84.7188 376.23 Q84.7188 378.915 86.3855 380.42 Q88.0753 381.925 91.1077 381.925 Q94.1169 381.925 95.8067 380.42 Q97.5197 378.915 97.5197 376.23 Q97.5197 373.545 95.8067 372.04 Q94.1169 370.536 91.1077 370.536 Q88.0753 370.536 86.3855 372.04 Q84.7188 373.545 84.7188 376.23 Z\" fill=\"#000000\" fill-rule=\"evenodd\" fill-opacity=\"1\" /><path clip-path=\"url(#clip080)\" d=\"M 0 0 M51.6634 94.9451 L59.3023 94.9451 L59.3023 68.5795 L50.9921 70.2461 L50.9921 65.9869 L59.256 64.3202 L63.9319 64.3202 L63.9319 94.9451 L71.5707 94.9451 L71.5707 98.8802 L51.6634 98.8802 L51.6634 94.9451 Z\" fill=\"#000000\" fill-rule=\"evenodd\" fill-opacity=\"1\" /><path clip-path=\"url(#clip080)\" d=\"M 0 0 M91.0151 67.3989 Q87.404 67.3989 85.5753 70.9637 Q83.7697 74.5054 83.7697 81.6349 Q83.7697 88.7414 85.5753 92.3062 Q87.404 95.8478 91.0151 95.8478 Q94.6493 95.8478 96.4548 92.3062 Q98.2835 88.7414 98.2835 81.6349 Q98.2835 74.5054 96.4548 70.9637 Q94.6493 67.3989 91.0151 67.3989 M91.0151 63.6952 Q96.8252 63.6952 99.8808 68.3017 Q102.959 72.885 102.959 81.6349 Q102.959 90.3617 99.8808 94.9682 Q96.8252 99.5515 91.0151 99.5515 Q85.2049 99.5515 82.1262 94.9682 Q79.0707 90.3617 79.0707 81.6349 Q79.0707 72.885 82.1262 68.3017 Q85.2049 63.6952 91.0151 63.6952 Z\" fill=\"#000000\" fill-rule=\"evenodd\" fill-opacity=\"1\" /><polyline clip-path=\"url(#clip082)\" style=\"stroke:#009af9; stroke-width:4; stroke-opacity:1; fill:none\" points=\"\n",
       "  201.614,1445.72 619.312,1246.46 1037.01,1004.15 1454.71,727.224 1872.4,420.699 2290.1,87.9763 \n",
       "  \"/>\n",
       "<path clip-path=\"url(#clip080)\" d=\"\n",
       "M1980.56 216.178 L2278.96 216.178 L2278.96 95.2176 L1980.56 95.2176  Z\n",
       "  \" fill=\"#ffffff\" fill-rule=\"evenodd\" fill-opacity=\"1\"/>\n",
       "<polyline clip-path=\"url(#clip080)\" style=\"stroke:#000000; stroke-width:4; stroke-opacity:1; fill:none\" points=\"\n",
       "  1980.56,216.178 2278.96,216.178 2278.96,95.2176 1980.56,95.2176 1980.56,216.178 \n",
       "  \"/>\n",
       "<polyline clip-path=\"url(#clip080)\" style=\"stroke:#009af9; stroke-width:4; stroke-opacity:1; fill:none\" points=\"\n",
       "  2005.15,155.698 2152.74,155.698 \n",
       "  \"/>\n",
       "<path clip-path=\"url(#clip080)\" d=\"M 0 0 M2191.18 175.385 Q2189.37 180.015 2187.66 181.427 Q2185.95 182.839 2183.08 182.839 L2179.67 182.839 L2179.67 179.274 L2182.17 179.274 Q2183.93 179.274 2184.91 178.44 Q2185.88 177.607 2187.06 174.505 L2187.82 172.561 L2177.34 147.052 L2181.85 147.052 L2189.95 167.329 L2198.05 147.052 L2202.57 147.052 L2191.18 175.385 Z\" fill=\"#000000\" fill-rule=\"evenodd\" fill-opacity=\"1\" /><path clip-path=\"url(#clip080)\" d=\"M 0 0 M2209.86 169.042 L2217.5 169.042 L2217.5 142.677 L2209.19 144.343 L2209.19 140.084 L2217.45 138.418 L2222.13 138.418 L2222.13 169.042 L2229.77 169.042 L2229.77 172.978 L2209.86 172.978 L2209.86 169.042 Z\" fill=\"#000000\" fill-rule=\"evenodd\" fill-opacity=\"1\" /></svg>\n"
      ]
     },
     "execution_count": 639,
     "metadata": {},
     "output_type": "execute_result"
    }
   ],
   "source": [
    "kvec = [steady_state(e; p=p) for e in svec];\n",
    "plot(svec, kvec)"
   ]
  },
  {
   "cell_type": "code",
   "execution_count": 640,
   "id": "8ce4aebe-ea36-445c-b214-2b8f7caa2aa8",
   "metadata": {},
   "outputs": [],
   "source": [
    "\n",
    "svec = range(0.1, 0.5; length=100);\n",
    "cvec = [steady_state_consumption(e; p=p) for e in svec];\n",
    "# ivec = [steady_state(e; p=p)*p[:δ]/p[:g] for e in svec];"
   ]
  },
  {
   "cell_type": "code",
   "execution_count": 641,
   "id": "272dbfd0-df56-417f-9124-51d012d19cf4",
   "metadata": {},
   "outputs": [
    {
     "data": {
      "image/svg+xml": [
       "<?xml version=\"1.0\" encoding=\"utf-8\"?>\n",
       "<svg xmlns=\"http://www.w3.org/2000/svg\" xmlns:xlink=\"http://www.w3.org/1999/xlink\" width=\"600\" height=\"400\" viewBox=\"0 0 2400 1600\">\n",
       "<defs>\n",
       "  <clipPath id=\"clip120\">\n",
       "    <rect x=\"0\" y=\"0\" width=\"2400\" height=\"1600\"/>\n",
       "  </clipPath>\n",
       "</defs>\n",
       "<path clip-path=\"url(#clip120)\" d=\"\n",
       "M0 1600 L2400 1600 L2400 0 L0 0  Z\n",
       "  \" fill=\"#ffffff\" fill-rule=\"evenodd\" fill-opacity=\"1\"/>\n",
       "<defs>\n",
       "  <clipPath id=\"clip121\">\n",
       "    <rect x=\"480\" y=\"0\" width=\"1681\" height=\"1600\"/>\n",
       "  </clipPath>\n",
       "</defs>\n",
       "<path clip-path=\"url(#clip120)\" d=\"\n",
       "M249.542 1423.18 L2352.76 1423.18 L2352.76 47.2441 L249.542 47.2441  Z\n",
       "  \" fill=\"#ffffff\" fill-rule=\"evenodd\" fill-opacity=\"1\"/>\n",
       "<defs>\n",
       "  <clipPath id=\"clip122\">\n",
       "    <rect x=\"249\" y=\"47\" width=\"2104\" height=\"1377\"/>\n",
       "  </clipPath>\n",
       "</defs>\n",
       "<polyline clip-path=\"url(#clip122)\" style=\"stroke:#000000; stroke-width:2; stroke-opacity:0.1; fill:none\" points=\"\n",
       "  309.067,1423.18 309.067,47.2441 \n",
       "  \"/>\n",
       "<polyline clip-path=\"url(#clip122)\" style=\"stroke:#000000; stroke-width:2; stroke-opacity:0.1; fill:none\" points=\"\n",
       "  805.108,1423.18 805.108,47.2441 \n",
       "  \"/>\n",
       "<polyline clip-path=\"url(#clip122)\" style=\"stroke:#000000; stroke-width:2; stroke-opacity:0.1; fill:none\" points=\"\n",
       "  1301.15,1423.18 1301.15,47.2441 \n",
       "  \"/>\n",
       "<polyline clip-path=\"url(#clip122)\" style=\"stroke:#000000; stroke-width:2; stroke-opacity:0.1; fill:none\" points=\"\n",
       "  1797.19,1423.18 1797.19,47.2441 \n",
       "  \"/>\n",
       "<polyline clip-path=\"url(#clip122)\" style=\"stroke:#000000; stroke-width:2; stroke-opacity:0.1; fill:none\" points=\"\n",
       "  2293.23,1423.18 2293.23,47.2441 \n",
       "  \"/>\n",
       "<polyline clip-path=\"url(#clip120)\" style=\"stroke:#000000; stroke-width:4; stroke-opacity:1; fill:none\" points=\"\n",
       "  249.542,1423.18 2352.76,1423.18 \n",
       "  \"/>\n",
       "<polyline clip-path=\"url(#clip120)\" style=\"stroke:#000000; stroke-width:4; stroke-opacity:1; fill:none\" points=\"\n",
       "  309.067,1423.18 309.067,1406.67 \n",
       "  \"/>\n",
       "<polyline clip-path=\"url(#clip120)\" style=\"stroke:#000000; stroke-width:4; stroke-opacity:1; fill:none\" points=\"\n",
       "  805.108,1423.18 805.108,1406.67 \n",
       "  \"/>\n",
       "<polyline clip-path=\"url(#clip120)\" style=\"stroke:#000000; stroke-width:4; stroke-opacity:1; fill:none\" points=\"\n",
       "  1301.15,1423.18 1301.15,1406.67 \n",
       "  \"/>\n",
       "<polyline clip-path=\"url(#clip120)\" style=\"stroke:#000000; stroke-width:4; stroke-opacity:1; fill:none\" points=\"\n",
       "  1797.19,1423.18 1797.19,1406.67 \n",
       "  \"/>\n",
       "<polyline clip-path=\"url(#clip120)\" style=\"stroke:#000000; stroke-width:4; stroke-opacity:1; fill:none\" points=\"\n",
       "  2293.23,1423.18 2293.23,1406.67 \n",
       "  \"/>\n",
       "<path clip-path=\"url(#clip120)\" d=\"M 0 0 M287.065 1452.37 Q283.454 1452.37 281.625 1455.94 Q279.819 1459.48 279.819 1466.61 Q279.819 1473.71 281.625 1477.28 Q283.454 1480.82 287.065 1480.82 Q290.699 1480.82 292.505 1477.28 Q294.333 1473.71 294.333 1466.61 Q294.333 1459.48 292.505 1455.94 Q290.699 1452.37 287.065 1452.37 M287.065 1448.67 Q292.875 1448.67 295.93 1453.27 Q299.009 1457.86 299.009 1466.61 Q299.009 1475.33 295.93 1479.94 Q292.875 1484.52 287.065 1484.52 Q281.255 1484.52 278.176 1479.94 Q275.12 1475.33 275.12 1466.61 Q275.12 1457.86 278.176 1453.27 Q281.255 1448.67 287.065 1448.67 Z\" fill=\"#000000\" fill-rule=\"evenodd\" fill-opacity=\"1\" /><path clip-path=\"url(#clip120)\" d=\"M 0 0 M307.227 1477.97 L312.111 1477.97 L312.111 1483.85 L307.227 1483.85 L307.227 1477.97 Z\" fill=\"#000000\" fill-rule=\"evenodd\" fill-opacity=\"1\" /><path clip-path=\"url(#clip120)\" d=\"M 0 0 M323.106 1479.92 L330.745 1479.92 L330.745 1453.55 L322.435 1455.22 L322.435 1450.96 L330.699 1449.29 L335.375 1449.29 L335.375 1479.92 L343.014 1479.92 L343.014 1483.85 L323.106 1483.85 L323.106 1479.92 Z\" fill=\"#000000\" fill-rule=\"evenodd\" fill-opacity=\"1\" /><path clip-path=\"url(#clip120)\" d=\"M 0 0 M783.291 1452.37 Q779.68 1452.37 777.851 1455.94 Q776.046 1459.48 776.046 1466.61 Q776.046 1473.71 777.851 1477.28 Q779.68 1480.82 783.291 1480.82 Q786.925 1480.82 788.731 1477.28 Q790.559 1473.71 790.559 1466.61 Q790.559 1459.48 788.731 1455.94 Q786.925 1452.37 783.291 1452.37 M783.291 1448.67 Q789.101 1448.67 792.157 1453.27 Q795.235 1457.86 795.235 1466.61 Q795.235 1475.33 792.157 1479.94 Q789.101 1484.52 783.291 1484.52 Q777.481 1484.52 774.402 1479.94 Q771.347 1475.33 771.347 1466.61 Q771.347 1457.86 774.402 1453.27 Q777.481 1448.67 783.291 1448.67 Z\" fill=\"#000000\" fill-rule=\"evenodd\" fill-opacity=\"1\" /><path clip-path=\"url(#clip120)\" d=\"M 0 0 M803.453 1477.97 L808.337 1477.97 L808.337 1483.85 L803.453 1483.85 L803.453 1477.97 Z\" fill=\"#000000\" fill-rule=\"evenodd\" fill-opacity=\"1\" /><path clip-path=\"url(#clip120)\" d=\"M 0 0 M822.55 1479.92 L838.869 1479.92 L838.869 1483.85 L816.925 1483.85 L816.925 1479.92 Q819.587 1477.16 824.17 1472.53 Q828.777 1467.88 829.957 1466.54 Q832.203 1464.01 833.082 1462.28 Q833.985 1460.52 833.985 1458.83 Q833.985 1456.07 832.041 1454.34 Q830.119 1452.6 827.018 1452.6 Q824.819 1452.6 822.365 1453.37 Q819.934 1454.13 817.157 1455.68 L817.157 1450.96 Q819.981 1449.82 822.434 1449.25 Q824.888 1448.67 826.925 1448.67 Q832.295 1448.67 835.49 1451.35 Q838.684 1454.04 838.684 1458.53 Q838.684 1460.66 837.874 1462.58 Q837.087 1464.48 834.98 1467.07 Q834.402 1467.74 831.3 1470.96 Q828.198 1474.15 822.55 1479.92 Z\" fill=\"#000000\" fill-rule=\"evenodd\" fill-opacity=\"1\" /><path clip-path=\"url(#clip120)\" d=\"M 0 0 M1278.86 1452.37 Q1275.25 1452.37 1273.42 1455.94 Q1271.61 1459.48 1271.61 1466.61 Q1271.61 1473.71 1273.42 1477.28 Q1275.25 1480.82 1278.86 1480.82 Q1282.49 1480.82 1284.3 1477.28 Q1286.13 1473.71 1286.13 1466.61 Q1286.13 1459.48 1284.3 1455.94 Q1282.49 1452.37 1278.86 1452.37 M1278.86 1448.67 Q1284.67 1448.67 1287.72 1453.27 Q1290.8 1457.86 1290.8 1466.61 Q1290.8 1475.33 1287.72 1479.94 Q1284.67 1484.52 1278.86 1484.52 Q1273.05 1484.52 1269.97 1479.94 Q1266.91 1475.33 1266.91 1466.61 Q1266.91 1457.86 1269.97 1453.27 Q1273.05 1448.67 1278.86 1448.67 Z\" fill=\"#000000\" fill-rule=\"evenodd\" fill-opacity=\"1\" /><path clip-path=\"url(#clip120)\" d=\"M 0 0 M1299.02 1477.97 L1303.9 1477.97 L1303.9 1483.85 L1299.02 1483.85 L1299.02 1477.97 Z\" fill=\"#000000\" fill-rule=\"evenodd\" fill-opacity=\"1\" /><path clip-path=\"url(#clip120)\" d=\"M 0 0 M1328.26 1465.22 Q1331.61 1465.94 1333.49 1468.2 Q1335.38 1470.47 1335.38 1473.81 Q1335.38 1478.92 1331.87 1481.72 Q1328.35 1484.52 1321.87 1484.52 Q1319.69 1484.52 1317.38 1484.08 Q1315.08 1483.67 1312.63 1482.81 L1312.63 1478.3 Q1314.57 1479.43 1316.89 1480.01 Q1319.2 1480.59 1321.73 1480.59 Q1326.13 1480.59 1328.42 1478.85 Q1330.73 1477.12 1330.73 1473.81 Q1330.73 1470.75 1328.58 1469.04 Q1326.45 1467.3 1322.63 1467.3 L1318.6 1467.3 L1318.6 1463.46 L1322.82 1463.46 Q1326.26 1463.46 1328.09 1462.09 Q1329.92 1460.7 1329.92 1458.11 Q1329.92 1455.45 1328.02 1454.04 Q1326.15 1452.6 1322.63 1452.6 Q1320.71 1452.6 1318.51 1453.02 Q1316.31 1453.44 1313.67 1454.31 L1313.67 1450.15 Q1316.33 1449.41 1318.65 1449.04 Q1320.99 1448.67 1323.05 1448.67 Q1328.37 1448.67 1331.47 1451.1 Q1334.57 1453.5 1334.57 1457.63 Q1334.57 1460.5 1332.93 1462.49 Q1331.29 1464.45 1328.26 1465.22 Z\" fill=\"#000000\" fill-rule=\"evenodd\" fill-opacity=\"1\" /><path clip-path=\"url(#clip120)\" d=\"M 0 0 M1774.33 1452.37 Q1770.72 1452.37 1768.89 1455.94 Q1767.09 1459.48 1767.09 1466.61 Q1767.09 1473.71 1768.89 1477.28 Q1770.72 1480.82 1774.33 1480.82 Q1777.97 1480.82 1779.77 1477.28 Q1781.6 1473.71 1781.6 1466.61 Q1781.6 1459.48 1779.77 1455.94 Q1777.97 1452.37 1774.33 1452.37 M1774.33 1448.67 Q1780.14 1448.67 1783.2 1453.27 Q1786.28 1457.86 1786.28 1466.61 Q1786.28 1475.33 1783.2 1479.94 Q1780.14 1484.52 1774.33 1484.52 Q1768.52 1484.52 1765.44 1479.94 Q1762.39 1475.33 1762.39 1466.61 Q1762.39 1457.86 1765.44 1453.27 Q1768.52 1448.67 1774.33 1448.67 Z\" fill=\"#000000\" fill-rule=\"evenodd\" fill-opacity=\"1\" /><path clip-path=\"url(#clip120)\" d=\"M 0 0 M1794.49 1477.97 L1799.38 1477.97 L1799.38 1483.85 L1794.49 1483.85 L1794.49 1477.97 Z\" fill=\"#000000\" fill-rule=\"evenodd\" fill-opacity=\"1\" /><path clip-path=\"url(#clip120)\" d=\"M 0 0 M1822.41 1453.37 L1810.6 1471.81 L1822.41 1471.81 L1822.41 1453.37 M1821.18 1449.29 L1827.06 1449.29 L1827.06 1471.81 L1831.99 1471.81 L1831.99 1475.7 L1827.06 1475.7 L1827.06 1483.85 L1822.41 1483.85 L1822.41 1475.7 L1806.81 1475.7 L1806.81 1471.19 L1821.18 1449.29 Z\" fill=\"#000000\" fill-rule=\"evenodd\" fill-opacity=\"1\" /><path clip-path=\"url(#clip120)\" d=\"M 0 0 M2271.11 1452.37 Q2267.5 1452.37 2265.67 1455.94 Q2263.87 1459.48 2263.87 1466.61 Q2263.87 1473.71 2265.67 1477.28 Q2267.5 1480.82 2271.11 1480.82 Q2274.75 1480.82 2276.55 1477.28 Q2278.38 1473.71 2278.38 1466.61 Q2278.38 1459.48 2276.55 1455.94 Q2274.75 1452.37 2271.11 1452.37 M2271.11 1448.67 Q2276.92 1448.67 2279.98 1453.27 Q2283.06 1457.86 2283.06 1466.61 Q2283.06 1475.33 2279.98 1479.94 Q2276.92 1484.52 2271.11 1484.52 Q2265.3 1484.52 2262.22 1479.94 Q2259.17 1475.33 2259.17 1466.61 Q2259.17 1457.86 2262.22 1453.27 Q2265.3 1448.67 2271.11 1448.67 Z\" fill=\"#000000\" fill-rule=\"evenodd\" fill-opacity=\"1\" /><path clip-path=\"url(#clip120)\" d=\"M 0 0 M2291.27 1477.97 L2296.16 1477.97 L2296.16 1483.85 L2291.27 1483.85 L2291.27 1477.97 Z\" fill=\"#000000\" fill-rule=\"evenodd\" fill-opacity=\"1\" /><path clip-path=\"url(#clip120)\" d=\"M 0 0 M2306.39 1449.29 L2324.75 1449.29 L2324.75 1453.23 L2310.67 1453.23 L2310.67 1461.7 Q2311.69 1461.35 2312.71 1461.19 Q2313.73 1461 2314.75 1461 Q2320.53 1461 2323.91 1464.18 Q2327.29 1467.35 2327.29 1472.76 Q2327.29 1478.34 2323.82 1481.44 Q2320.35 1484.52 2314.03 1484.52 Q2311.85 1484.52 2309.59 1484.15 Q2307.34 1483.78 2304.93 1483.04 L2304.93 1478.34 Q2307.02 1479.48 2309.24 1480.03 Q2311.46 1480.59 2313.94 1480.59 Q2317.94 1480.59 2320.28 1478.48 Q2322.62 1476.38 2322.62 1472.76 Q2322.62 1469.15 2320.28 1467.05 Q2317.94 1464.94 2313.94 1464.94 Q2312.06 1464.94 2310.19 1465.36 Q2308.34 1465.77 2306.39 1466.65 L2306.39 1449.29 Z\" fill=\"#000000\" fill-rule=\"evenodd\" fill-opacity=\"1\" /><path clip-path=\"url(#clip120)\" d=\"M 0 0 M1312.86 1533.45 L1312.86 1538.98 Q1310.38 1537.71 1307.71 1537.07 Q1305.03 1536.44 1302.17 1536.44 Q1297.81 1536.44 1295.61 1537.77 Q1293.45 1539.11 1293.45 1541.79 Q1293.45 1543.82 1295.01 1545 Q1296.57 1546.15 1301.28 1547.2 L1303.28 1547.64 Q1309.52 1548.98 1312.13 1551.43 Q1314.77 1553.85 1314.77 1558.21 Q1314.77 1563.17 1310.82 1566.07 Q1306.91 1568.97 1300.03 1568.97 Q1297.17 1568.97 1294.05 1568.39 Q1290.96 1567.85 1287.53 1566.74 L1287.53 1560.69 Q1290.77 1562.38 1293.92 1563.24 Q1297.07 1564.07 1300.16 1564.07 Q1304.3 1564.07 1306.53 1562.66 Q1308.76 1561.23 1308.76 1558.65 Q1308.76 1556.27 1307.13 1554.99 Q1305.54 1553.72 1300.1 1552.54 L1298.06 1552.07 Q1292.62 1550.92 1290.2 1548.56 Q1287.78 1546.18 1287.78 1542.04 Q1287.78 1537.01 1291.35 1534.27 Q1294.91 1531.54 1301.47 1531.54 Q1304.71 1531.54 1307.58 1532.01 Q1310.44 1532.49 1312.86 1533.45 Z\" fill=\"#000000\" fill-rule=\"evenodd\" fill-opacity=\"1\" /><polyline clip-path=\"url(#clip122)\" style=\"stroke:#000000; stroke-width:2; stroke-opacity:0.1; fill:none\" points=\"\n",
       "  249.542,1384.24 2352.76,1384.24 \n",
       "  \"/>\n",
       "<polyline clip-path=\"url(#clip122)\" style=\"stroke:#000000; stroke-width:2; stroke-opacity:0.1; fill:none\" points=\"\n",
       "  249.542,1090.14 2352.76,1090.14 \n",
       "  \"/>\n",
       "<polyline clip-path=\"url(#clip122)\" style=\"stroke:#000000; stroke-width:2; stroke-opacity:0.1; fill:none\" points=\"\n",
       "  249.542,796.047 2352.76,796.047 \n",
       "  \"/>\n",
       "<polyline clip-path=\"url(#clip122)\" style=\"stroke:#000000; stroke-width:2; stroke-opacity:0.1; fill:none\" points=\"\n",
       "  249.542,501.952 2352.76,501.952 \n",
       "  \"/>\n",
       "<polyline clip-path=\"url(#clip122)\" style=\"stroke:#000000; stroke-width:2; stroke-opacity:0.1; fill:none\" points=\"\n",
       "  249.542,207.856 2352.76,207.856 \n",
       "  \"/>\n",
       "<polyline clip-path=\"url(#clip120)\" style=\"stroke:#000000; stroke-width:4; stroke-opacity:1; fill:none\" points=\"\n",
       "  249.542,1423.18 249.542,47.2441 \n",
       "  \"/>\n",
       "<polyline clip-path=\"url(#clip120)\" style=\"stroke:#000000; stroke-width:4; stroke-opacity:1; fill:none\" points=\"\n",
       "  249.542,1384.24 274.781,1384.24 \n",
       "  \"/>\n",
       "<polyline clip-path=\"url(#clip120)\" style=\"stroke:#000000; stroke-width:4; stroke-opacity:1; fill:none\" points=\"\n",
       "  249.542,1090.14 274.781,1090.14 \n",
       "  \"/>\n",
       "<polyline clip-path=\"url(#clip120)\" style=\"stroke:#000000; stroke-width:4; stroke-opacity:1; fill:none\" points=\"\n",
       "  249.542,796.047 274.781,796.047 \n",
       "  \"/>\n",
       "<polyline clip-path=\"url(#clip120)\" style=\"stroke:#000000; stroke-width:4; stroke-opacity:1; fill:none\" points=\"\n",
       "  249.542,501.952 274.781,501.952 \n",
       "  \"/>\n",
       "<polyline clip-path=\"url(#clip120)\" style=\"stroke:#000000; stroke-width:4; stroke-opacity:1; fill:none\" points=\"\n",
       "  249.542,207.856 274.781,207.856 \n",
       "  \"/>\n",
       "<path clip-path=\"url(#clip120)\" d=\"M 0 0 M126.205 1370.04 Q122.593 1370.04 120.765 1373.6 Q118.959 1377.14 118.959 1384.27 Q118.959 1391.38 120.765 1394.94 Q122.593 1398.49 126.205 1398.49 Q129.839 1398.49 131.644 1394.94 Q133.473 1391.38 133.473 1384.27 Q133.473 1377.14 131.644 1373.6 Q129.839 1370.04 126.205 1370.04 M126.205 1366.33 Q132.015 1366.33 135.07 1370.94 Q138.149 1375.52 138.149 1384.27 Q138.149 1393 135.07 1397.61 Q132.015 1402.19 126.205 1402.19 Q120.394 1402.19 117.316 1397.61 Q114.26 1393 114.26 1384.27 Q114.26 1375.52 117.316 1370.94 Q120.394 1366.33 126.205 1366.33 Z\" fill=\"#000000\" fill-rule=\"evenodd\" fill-opacity=\"1\" /><path clip-path=\"url(#clip120)\" d=\"M 0 0 M146.366 1395.64 L151.251 1395.64 L151.251 1401.52 L146.366 1401.52 L146.366 1395.64 Z\" fill=\"#000000\" fill-rule=\"evenodd\" fill-opacity=\"1\" /><path clip-path=\"url(#clip120)\" d=\"M 0 0 M161.575 1400.8 L161.575 1396.54 Q163.334 1397.37 165.14 1397.81 Q166.945 1398.25 168.681 1398.25 Q173.311 1398.25 175.741 1395.15 Q178.195 1392.03 178.542 1385.69 Q177.2 1387.68 175.139 1388.74 Q173.079 1389.81 170.579 1389.81 Q165.394 1389.81 162.362 1386.68 Q159.353 1383.53 159.353 1378.09 Q159.353 1372.77 162.501 1369.55 Q165.649 1366.33 170.88 1366.33 Q176.876 1366.33 180.024 1370.94 Q183.195 1375.52 183.195 1384.27 Q183.195 1392.44 179.306 1397.33 Q175.44 1402.19 168.889 1402.19 Q167.13 1402.19 165.325 1401.84 Q163.519 1401.5 161.575 1400.8 M170.88 1386.15 Q174.028 1386.15 175.857 1384 Q177.709 1381.84 177.709 1378.09 Q177.709 1374.37 175.857 1372.21 Q174.028 1370.04 170.88 1370.04 Q167.732 1370.04 165.88 1372.21 Q164.052 1374.37 164.052 1378.09 Q164.052 1381.84 165.88 1384 Q167.732 1386.15 170.88 1386.15 Z\" fill=\"#000000\" fill-rule=\"evenodd\" fill-opacity=\"1\" /><path clip-path=\"url(#clip120)\" d=\"M 0 0 M201.598 1370.04 Q197.987 1370.04 196.158 1373.6 Q194.352 1377.14 194.352 1384.27 Q194.352 1391.38 196.158 1394.94 Q197.987 1398.49 201.598 1398.49 Q205.232 1398.49 207.037 1394.94 Q208.866 1391.38 208.866 1384.27 Q208.866 1377.14 207.037 1373.6 Q205.232 1370.04 201.598 1370.04 M201.598 1366.33 Q207.408 1366.33 210.463 1370.94 Q213.542 1375.52 213.542 1384.27 Q213.542 1393 210.463 1397.61 Q207.408 1402.19 201.598 1402.19 Q195.787 1402.19 192.709 1397.61 Q189.653 1393 189.653 1384.27 Q189.653 1375.52 192.709 1370.94 Q195.787 1366.33 201.598 1366.33 Z\" fill=\"#000000\" fill-rule=\"evenodd\" fill-opacity=\"1\" /><path clip-path=\"url(#clip120)\" d=\"M 0 0 M127.2 1075.94 Q123.589 1075.94 121.76 1079.51 Q119.955 1083.05 119.955 1090.18 Q119.955 1097.28 121.76 1100.85 Q123.589 1104.39 127.2 1104.39 Q130.834 1104.39 132.64 1100.85 Q134.468 1097.28 134.468 1090.18 Q134.468 1083.05 132.64 1079.51 Q130.834 1075.94 127.2 1075.94 M127.2 1072.24 Q133.01 1072.24 136.066 1076.84 Q139.144 1081.43 139.144 1090.18 Q139.144 1098.9 136.066 1103.51 Q133.01 1108.09 127.2 1108.09 Q121.39 1108.09 118.311 1103.51 Q115.256 1098.9 115.256 1090.18 Q115.256 1081.43 118.311 1076.84 Q121.39 1072.24 127.2 1072.24 Z\" fill=\"#000000\" fill-rule=\"evenodd\" fill-opacity=\"1\" /><path clip-path=\"url(#clip120)\" d=\"M 0 0 M147.362 1101.54 L152.246 1101.54 L152.246 1107.42 L147.362 1107.42 L147.362 1101.54 Z\" fill=\"#000000\" fill-rule=\"evenodd\" fill-opacity=\"1\" /><path clip-path=\"url(#clip120)\" d=\"M 0 0 M162.57 1106.71 L162.57 1102.45 Q164.329 1103.28 166.135 1103.72 Q167.94 1104.16 169.677 1104.16 Q174.306 1104.16 176.737 1101.06 Q179.19 1097.93 179.538 1091.59 Q178.195 1093.58 176.135 1094.64 Q174.075 1095.71 171.575 1095.71 Q166.39 1095.71 163.357 1092.58 Q160.348 1089.44 160.348 1084 Q160.348 1078.67 163.496 1075.46 Q166.644 1072.24 171.876 1072.24 Q177.871 1072.24 181.019 1076.84 Q184.19 1081.43 184.19 1090.18 Q184.19 1098.35 180.301 1103.23 Q176.436 1108.09 169.885 1108.09 Q168.126 1108.09 166.32 1107.75 Q164.515 1107.4 162.57 1106.71 M171.876 1092.05 Q175.024 1092.05 176.852 1089.9 Q178.704 1087.75 178.704 1084 Q178.704 1080.27 176.852 1078.12 Q175.024 1075.94 171.876 1075.94 Q168.727 1075.94 166.876 1078.12 Q165.047 1080.27 165.047 1084 Q165.047 1087.75 166.876 1089.9 Q168.727 1092.05 171.876 1092.05 Z\" fill=\"#000000\" fill-rule=\"evenodd\" fill-opacity=\"1\" /><path clip-path=\"url(#clip120)\" d=\"M 0 0 M192.639 1072.86 L210.996 1072.86 L210.996 1076.8 L196.922 1076.8 L196.922 1085.27 Q197.94 1084.92 198.959 1084.76 Q199.977 1084.58 200.996 1084.58 Q206.783 1084.58 210.162 1087.75 Q213.542 1090.92 213.542 1096.33 Q213.542 1101.91 210.07 1105.02 Q206.598 1108.09 200.278 1108.09 Q198.102 1108.09 195.834 1107.72 Q193.588 1107.35 191.181 1106.61 L191.181 1101.91 Q193.264 1103.05 195.487 1103.6 Q197.709 1104.16 200.186 1104.16 Q204.19 1104.16 206.528 1102.05 Q208.866 1099.95 208.866 1096.33 Q208.866 1092.72 206.528 1090.62 Q204.19 1088.51 200.186 1088.51 Q198.311 1088.51 196.436 1088.93 Q194.584 1089.34 192.639 1090.22 L192.639 1072.86 Z\" fill=\"#000000\" fill-rule=\"evenodd\" fill-opacity=\"1\" /><path clip-path=\"url(#clip120)\" d=\"M 0 0 M117.015 809.392 L124.654 809.392 L124.654 783.026 L116.343 784.693 L116.343 780.434 L124.607 778.767 L129.283 778.767 L129.283 809.392 L136.922 809.392 L136.922 813.327 L117.015 813.327 L117.015 809.392 Z\" fill=\"#000000\" fill-rule=\"evenodd\" fill-opacity=\"1\" /><path clip-path=\"url(#clip120)\" d=\"M 0 0 M146.366 807.448 L151.251 807.448 L151.251 813.327 L146.366 813.327 L146.366 807.448 Z\" fill=\"#000000\" fill-rule=\"evenodd\" fill-opacity=\"1\" /><path clip-path=\"url(#clip120)\" d=\"M 0 0 M171.436 781.846 Q167.825 781.846 165.996 785.411 Q164.19 788.952 164.19 796.082 Q164.19 803.188 165.996 806.753 Q167.825 810.295 171.436 810.295 Q175.07 810.295 176.876 806.753 Q178.704 803.188 178.704 796.082 Q178.704 788.952 176.876 785.411 Q175.07 781.846 171.436 781.846 M171.436 778.142 Q177.246 778.142 180.301 782.749 Q183.38 787.332 183.38 796.082 Q183.38 804.809 180.301 809.415 Q177.246 813.998 171.436 813.998 Q165.626 813.998 162.547 809.415 Q159.491 804.809 159.491 796.082 Q159.491 787.332 162.547 782.749 Q165.626 778.142 171.436 778.142 Z\" fill=\"#000000\" fill-rule=\"evenodd\" fill-opacity=\"1\" /><path clip-path=\"url(#clip120)\" d=\"M 0 0 M201.598 781.846 Q197.987 781.846 196.158 785.411 Q194.352 788.952 194.352 796.082 Q194.352 803.188 196.158 806.753 Q197.987 810.295 201.598 810.295 Q205.232 810.295 207.037 806.753 Q208.866 803.188 208.866 796.082 Q208.866 788.952 207.037 785.411 Q205.232 781.846 201.598 781.846 M201.598 778.142 Q207.408 778.142 210.463 782.749 Q213.542 787.332 213.542 796.082 Q213.542 804.809 210.463 809.415 Q207.408 813.998 201.598 813.998 Q195.787 813.998 192.709 809.415 Q189.653 804.809 189.653 796.082 Q189.653 787.332 192.709 782.749 Q195.787 778.142 201.598 778.142 Z\" fill=\"#000000\" fill-rule=\"evenodd\" fill-opacity=\"1\" /><path clip-path=\"url(#clip120)\" d=\"M 0 0 M118.01 515.296 L125.649 515.296 L125.649 488.931 L117.339 490.597 L117.339 486.338 L125.603 484.672 L130.279 484.672 L130.279 515.296 L137.917 515.296 L137.917 519.232 L118.01 519.232 L118.01 515.296 Z\" fill=\"#000000\" fill-rule=\"evenodd\" fill-opacity=\"1\" /><path clip-path=\"url(#clip120)\" d=\"M 0 0 M147.362 513.352 L152.246 513.352 L152.246 519.232 L147.362 519.232 L147.362 513.352 Z\" fill=\"#000000\" fill-rule=\"evenodd\" fill-opacity=\"1\" /><path clip-path=\"url(#clip120)\" d=\"M 0 0 M172.431 487.75 Q168.82 487.75 166.991 491.315 Q165.186 494.857 165.186 501.986 Q165.186 509.093 166.991 512.657 Q168.82 516.199 172.431 516.199 Q176.065 516.199 177.871 512.657 Q179.7 509.093 179.7 501.986 Q179.7 494.857 177.871 491.315 Q176.065 487.75 172.431 487.75 M172.431 484.047 Q178.241 484.047 181.297 488.653 Q184.376 493.236 184.376 501.986 Q184.376 510.713 181.297 515.32 Q178.241 519.903 172.431 519.903 Q166.621 519.903 163.542 515.32 Q160.487 510.713 160.487 501.986 Q160.487 493.236 163.542 488.653 Q166.621 484.047 172.431 484.047 Z\" fill=\"#000000\" fill-rule=\"evenodd\" fill-opacity=\"1\" /><path clip-path=\"url(#clip120)\" d=\"M 0 0 M192.639 484.672 L210.996 484.672 L210.996 488.607 L196.922 488.607 L196.922 497.079 Q197.94 496.732 198.959 496.57 Q199.977 496.384 200.996 496.384 Q206.783 496.384 210.162 499.556 Q213.542 502.727 213.542 508.144 Q213.542 513.722 210.07 516.824 Q206.598 519.903 200.278 519.903 Q198.102 519.903 195.834 519.532 Q193.588 519.162 191.181 518.421 L191.181 513.722 Q193.264 514.857 195.487 515.412 Q197.709 515.968 200.186 515.968 Q204.19 515.968 206.528 513.861 Q208.866 511.755 208.866 508.144 Q208.866 504.533 206.528 502.426 Q204.19 500.32 200.186 500.32 Q198.311 500.32 196.436 500.736 Q194.584 501.153 192.639 502.033 L192.639 484.672 Z\" fill=\"#000000\" fill-rule=\"evenodd\" fill-opacity=\"1\" /><path clip-path=\"url(#clip120)\" d=\"M 0 0 M117.015 221.201 L124.654 221.201 L124.654 194.835 L116.343 196.502 L116.343 192.243 L124.607 190.576 L129.283 190.576 L129.283 221.201 L136.922 221.201 L136.922 225.136 L117.015 225.136 L117.015 221.201 Z\" fill=\"#000000\" fill-rule=\"evenodd\" fill-opacity=\"1\" /><path clip-path=\"url(#clip120)\" d=\"M 0 0 M146.366 219.256 L151.251 219.256 L151.251 225.136 L146.366 225.136 L146.366 219.256 Z\" fill=\"#000000\" fill-rule=\"evenodd\" fill-opacity=\"1\" /><path clip-path=\"url(#clip120)\" d=\"M 0 0 M162.246 221.201 L169.885 221.201 L169.885 194.835 L161.575 196.502 L161.575 192.243 L169.839 190.576 L174.514 190.576 L174.514 221.201 L182.153 221.201 L182.153 225.136 L162.246 225.136 L162.246 221.201 Z\" fill=\"#000000\" fill-rule=\"evenodd\" fill-opacity=\"1\" /><path clip-path=\"url(#clip120)\" d=\"M 0 0 M201.598 193.655 Q197.987 193.655 196.158 197.219 Q194.352 200.761 194.352 207.891 Q194.352 214.997 196.158 218.562 Q197.987 222.104 201.598 222.104 Q205.232 222.104 207.037 218.562 Q208.866 214.997 208.866 207.891 Q208.866 200.761 207.037 197.219 Q205.232 193.655 201.598 193.655 M201.598 189.951 Q207.408 189.951 210.463 194.557 Q213.542 199.141 213.542 207.891 Q213.542 216.617 210.463 221.224 Q207.408 225.807 201.598 225.807 Q195.787 225.807 192.709 221.224 Q189.653 216.617 189.653 207.891 Q189.653 199.141 192.709 194.557 Q195.787 189.951 201.598 189.951 Z\" fill=\"#000000\" fill-rule=\"evenodd\" fill-opacity=\"1\" /><path clip-path=\"url(#clip120)\" d=\"M 0 0 M29.7248 721.112 L35.1993 721.112 Q33.8307 723.595 33.1623 726.109 Q32.4621 728.592 32.4621 731.138 Q32.4621 736.835 36.0905 739.986 Q39.6872 743.137 46.212 743.137 Q52.7369 743.137 56.3653 739.986 Q59.9619 736.835 59.9619 731.138 Q59.9619 728.592 59.2935 726.109 Q58.5933 723.595 57.2247 721.112 L62.6355 721.112 Q63.7814 723.563 64.3543 726.204 Q64.9272 728.814 64.9272 731.774 Q64.9272 739.827 59.8664 744.57 Q54.8057 749.312 46.212 749.312 Q37.491 749.312 32.4939 744.538 Q27.4968 739.732 27.4968 731.393 Q27.4968 728.687 28.0697 726.109 Q28.6108 723.531 29.7248 721.112 Z\" fill=\"#000000\" fill-rule=\"evenodd\" fill-opacity=\"1\" /><polyline clip-path=\"url(#clip122)\" style=\"stroke:#009af9; stroke-width:4; stroke-opacity:1; fill:none\" points=\"\n",
       "  309.067,1384.24 329.109,1317.84 349.151,1254.23 369.193,1193.26 389.235,1134.8 409.277,1078.74 429.319,1024.97 449.361,973.388 469.403,923.904 489.446,876.433 \n",
       "  509.488,830.899 529.53,787.226 549.572,745.349 569.614,705.203 589.656,666.728 609.698,629.871 629.74,594.578 649.782,560.8 669.824,528.491 689.866,497.607 \n",
       "  709.908,468.108 729.95,439.955 749.992,413.11 770.034,387.538 790.076,363.207 810.118,340.085 830.161,318.141 850.203,297.348 870.245,277.678 890.287,259.104 \n",
       "  910.329,241.603 930.371,225.149 950.413,209.721 970.455,195.297 990.497,181.855 1010.54,169.377 1030.58,157.841 1050.62,147.231 1070.67,137.527 1090.71,128.714 \n",
       "  1110.75,120.774 1130.79,113.692 1150.83,107.453 1170.88,102.041 1190.92,97.4421 1210.96,93.6433 1231,90.6308 1251.04,88.392 1271.09,86.9142 1291.13,86.1857 \n",
       "  1311.17,86.1946 1331.21,86.9298 1351.25,88.3803 1371.3,90.5356 1391.34,93.3853 1411.38,96.9196 1431.42,101.129 1451.46,106.003 1471.51,111.535 1491.55,117.713 \n",
       "  1511.59,124.531 1531.63,131.979 1551.67,140.049 1571.72,148.734 1591.76,158.025 1611.8,167.916 1631.84,178.399 1651.89,189.466 1671.93,201.112 1691.97,213.328 \n",
       "  1712.01,226.109 1732.05,239.448 1752.1,253.338 1772.14,267.774 1792.18,282.75 1812.22,298.259 1832.26,314.296 1852.31,330.855 1872.35,347.932 1892.39,365.519 \n",
       "  1912.43,383.614 1932.47,402.209 1952.52,421.301 1972.56,440.883 1992.6,460.953 2012.64,481.504 2032.68,502.532 2052.73,524.033 2072.77,546.002 2092.81,568.436 \n",
       "  2112.85,591.329 2132.89,614.678 2152.94,638.478 2172.98,662.726 2193.02,687.417 2213.06,712.548 2233.1,738.115 2253.15,764.115 2273.19,790.543 2293.23,817.397 \n",
       "  \n",
       "  \"/>\n",
       "<path clip-path=\"url(#clip120)\" d=\"\n",
       "M1996.53 214.069 L2282.65 214.069 L2282.65 93.1086 L1996.53 93.1086  Z\n",
       "  \" fill=\"#ffffff\" fill-rule=\"evenodd\" fill-opacity=\"1\"/>\n",
       "<polyline clip-path=\"url(#clip120)\" style=\"stroke:#000000; stroke-width:4; stroke-opacity:1; fill:none\" points=\"\n",
       "  1996.53,214.069 2282.65,214.069 2282.65,93.1086 1996.53,93.1086 1996.53,214.069 \n",
       "  \"/>\n",
       "<polyline clip-path=\"url(#clip120)\" style=\"stroke:#009af9; stroke-width:4; stroke-opacity:1; fill:none\" points=\"\n",
       "  2019.9,153.589 2160.11,153.589 \n",
       "  \"/>\n",
       "<path clip-path=\"url(#clip120)\" d=\"M 0 0 M2197.32 173.276 Q2195.52 177.906 2193.8 179.318 Q2192.09 180.73 2189.22 180.73 L2185.82 180.73 L2185.82 177.165 L2188.32 177.165 Q2190.08 177.165 2191.05 176.332 Q2192.02 175.498 2193.2 172.396 L2193.97 170.452 L2183.48 144.943 L2187.99 144.943 L2196.1 165.221 L2204.2 144.943 L2208.71 144.943 L2197.32 173.276 Z\" fill=\"#000000\" fill-rule=\"evenodd\" fill-opacity=\"1\" /><path clip-path=\"url(#clip120)\" d=\"M 0 0 M2216 166.933 L2223.64 166.933 L2223.64 140.568 L2215.33 142.235 L2215.33 137.975 L2223.6 136.309 L2228.27 136.309 L2228.27 166.933 L2235.91 166.933 L2235.91 170.869 L2216 170.869 L2216 166.933 Z\" fill=\"#000000\" fill-rule=\"evenodd\" fill-opacity=\"1\" /></svg>\n"
      ]
     },
     "execution_count": 641,
     "metadata": {},
     "output_type": "execute_result"
    }
   ],
   "source": [
    "pl = plot(svec, cvec;xlabel=\"s\", ylabel=\"c\")\n",
    "# plot!(pl, svec, ivec;xlabel=\"s\", ylabel=\"k\")"
   ]
  },
  {
   "cell_type": "markdown",
   "id": "dab78d98",
   "metadata": {},
   "source": [
    "__(Bonus) Suppose an agent is given the intertemporal utility from the Ramsey–Cass–Koopmans model see exercise 2) but chooses saving rate once for all. Which saving rate would one choose to maximize intertemporal utility? Is it the same for all initial levels of capital?__\n",
    "\n"
   ]
  },
  {
   "cell_type": "code",
   "execution_count": null,
   "id": "e520ef14",
   "metadata": {},
   "outputs": [],
   "source": []
  },
  {
   "cell_type": "markdown",
   "id": "d84f1662",
   "metadata": {},
   "source": [
    "## Deterministic Neoclassical Model: bruteforce"
   ]
  },
  {
   "cell_type": "markdown",
   "id": "3184364c",
   "metadata": {},
   "source": [
    "In the Ramsey–Cass–Koopmans  model (also called neoclassical growth model), a representative agent chooses $c_t$ in every period so as to maximize an intertemporal utility like $\\sum_{t \\geq 0} \\beta^t U(c_t)$ where $\\beta \\in [0,1[$ is a time discount and $U(x)=\\frac{x^{1-\\gamma}}{1-\\gamma}$ is the instantaneous felicity."
   ]
  },
  {
   "cell_type": "markdown",
   "id": "7511f861",
   "metadata": {},
   "source": [
    "The setup is exactly the same as in the the Solow model form session 3, but now we look for a time-dependent saving rule, that is a different $s_t \\in [0,1[$ for each date. We will try to choose $s_t$ to maximize\n",
    "\n",
    "$$\\sum_{t = 0}^T \\beta^t U(c_t) + \\sum_{t = T+1}^{\\infty} \\beta^t U(c_T) $$\n",
    "\n",
    "\n",
    "We need to choose vector $\\mathbf{s} = (s_0, s_1, ... s_T)$ to maximize intertemporal utility. We can assume $\\forall t>T s_t= s_T$\n",
    "\n",
    "\n",
    "In this exercise, we want to define a function `objective(s::AbstractVector)` and maximize objective numerically using a numerical optimization algorithm.\n",
    "\n",
    "\n",
    "__Explain why the second term is important__"
   ]
  },
  {
   "cell_type": "markdown",
   "id": "cdca624b-8666-41f4-ae7a-422b3a11e022",
   "metadata": {},
   "source": [
    "Suppose we approximate the objective by $\\sum_{t=0}^{T} \\beta^t U(c_t)$. In the last period $T$ it is optimal to consume *everything*, i.e. $c_{T}=y_T$. This is very unrealistic, and creates a distortion which propagates to all periods before.\n",
    "This distortion might be mitigated by choosing very high $T$.\n",
    "A better option consists in assuming $\\forall t>T\\; s_t = s_{T}$. This essentially amounts to the assumption that $T$ is high enough that economy can be considered to have converged to steady states levels. Hence, all other variables are also equal to their steady-state value. We can compute the corresponding consumption level as follows:\n",
    "\n",
    "$g \\overline{k} = (1-\\delta) \\overline{k} + \\overline{i} = (1-\\delta) \\overline{k} + \\overline{s} A \\overline{k}^\\alpha$\n",
    "\n",
    "from wich we can compute: $\\overline{k} = \\left( \\frac{\\overline{s}}{\\delta+ (g-1)} A\\right)^{\\frac{1}{1-\\alpha}}$\n",
    "\n",
    "and $\\overline{c} = A \\overline{k}^\\alpha (1-\\overline{s})$.\n",
    "\n",
    "The remaining term is equal to:\n",
    "\n",
    "$\\sum_{t = T+1}^{\\infty} \\beta^t U(c_T) = \\frac{1}{1-\\beta} U(\\overline{c})$\n",
    "\n",
    "which can be computed in closed from from $s_T$.\n"
   ]
  },
  {
   "cell_type": "markdown",
   "id": "c313a514",
   "metadata": {},
   "source": [
    "__Choose an horizon $T$ and write a function `objective(s::AbstractVector, k0::Float64, T::Int, p::Dict{Symbol, Float64})` to compute the objective approximated with $T$ periods as a function of initial state `k0::Float64` and of the vector of saving rates `s::Vector` representing $(s_0, s_1, \\cdots s_{T})$. Note that argument type of `s` is left unspecified to make it compatible with automatic differentiation.__"
   ]
  },
  {
   "cell_type": "code",
   "execution_count": 1,
   "id": "800c74d6-d01f-432c-bd03-7e6bb8894324",
   "metadata": {},
   "outputs": [
    {
     "data": {
      "text/plain": [
       "Dict{Symbol, Real} with 7 entries:\n",
       "  :α => 0.3\n",
       "  :γ => 4\n",
       "  :A => 1.0\n",
       "  :s => 0.21\n",
       "  :δ => 0.1\n",
       "  :g => 1.0\n",
       "  :β => 0.96"
      ]
     },
     "execution_count": 1,
     "metadata": {},
     "output_type": "execute_result"
    }
   ],
   "source": [
    "# we need to add $γ$ to the parameters\n",
    "p = Dict(\n",
    "    :A=> 1.0,\n",
    "    :α=>0.3, # capital share (30%)\n",
    "    :β=>0.96, # (1/r): 1/1.04\n",
    "    :δ=>0.1,  # depreciation rate of capital: literature\n",
    "    :g=>1.0, # growth rate of population: Census\n",
    "    :γ=>4,\n",
    "    :s=>0.21   # saving rate from national accounts (Y-C)/Y\n",
    ")"
   ]
  },
  {
   "cell_type": "code",
   "execution_count": 2,
   "id": "a16fc48d-0fb4-4030-b015-94553a033b0c",
   "metadata": {},
   "outputs": [
    {
     "ename": "LoadError",
     "evalue": "UndefVarError: steady_state not defined",
     "output_type": "error",
     "traceback": [
      "UndefVarError: steady_state not defined",
      "",
      "Stacktrace:",
      " [1] top-level scope",
      "   @ In[2]:1",
      " [2] eval",
      "   @ ./boot.jl:360 [inlined]",
      " [3] include_string(mapexpr::typeof(REPL.softscope), mod::Module, code::String, filename::String)",
      "   @ Base ./loading.jl:1094"
     ]
    }
   ],
   "source": [
    "steady_state(p)"
   ]
  },
  {
   "cell_type": "code",
   "execution_count": 3,
   "id": "fa4621ab-522b-4997-ab89-326cd74f13d7",
   "metadata": {},
   "outputs": [
    {
     "data": {
      "text/plain": [
       "objective (generic function with 1 method)"
      ]
     },
     "execution_count": 3,
     "metadata": {},
     "output_type": "execute_result"
    }
   ],
   "source": [
    "function objective(s; k0=1, p=Dict(), add_last_term=false, return_sim=false, K=500)\n",
    "    \n",
    "    T = length(s)\n",
    "    \n",
    "    A = p[:A]\n",
    "    α = p[:α]\n",
    "    g = p[:g]\n",
    "    β = p[:β]\n",
    "    γ = p[:γ]\n",
    "    δ = p[:δ]\n",
    "    \n",
    "    if return_sim\n",
    "        sim=[]\n",
    "    end\n",
    "    \n",
    "    U(x) = (x)^(1-γ)/(1-γ)\n",
    "\n",
    "    V = 0.0\n",
    "    \n",
    "    for t=1:T\n",
    "        y = A*k0^α\n",
    "        i = s[t]*y\n",
    "        c = y-i\n",
    "        V += β^t * U(c)\n",
    "        k1 = ((1-δ)*k0 + i)/g\n",
    "        if return_sim\n",
    "            push!(sim, (k0, c))\n",
    "        end\n",
    "        k0 = k1\n",
    "    end\n",
    "    \n",
    "#     sT = s[end]\n",
    "#     if add_last_term\n",
    "#         for t=T+1:T+K\n",
    "#             y = A*k0^α\n",
    "#             i = sT*y\n",
    "#             c = y-i\n",
    "#             V += β^t * U(c)\n",
    "#             k1 = ((1-δ)*k0 + i)/g\n",
    "#             if return_sim\n",
    "#                 push!(sim, (k0, c))\n",
    "#             end\n",
    "#             k0 = k1\n",
    "#         end\n",
    "#     end\n",
    "\n",
    "    if return_sim\n",
    "        return (V,sim)\n",
    "    else\n",
    "        return V\n",
    "    end\n",
    "end"
   ]
  },
  {
   "cell_type": "code",
   "execution_count": 4,
   "id": "8eb29306-811c-4bb0-bf5c-d925e5084a89",
   "metadata": {},
   "outputs": [
    {
     "data": {
      "text/plain": [
       "(-8.814033484089203, Any[(1, 0.8), (1.1, 0.8232046075368761), (1.195801151884219, 0.8440879048933525), (1.2872430129191352, 0.8629550010647116), (1.3742574618933996, 0.8800562227579498), (1.456845771393547, 0.8955999492773881), (1.5350611815735393, 0.909761792765307), (1.6089955116075123, 0.9226913235412422), (1.6787687913320717, 0.9345171010426799), (1.7445211874595348, 0.9453505071165671)  …  (2.688967852413511, 1.0763801249028708), (2.689166098397878, 1.0764039313456875), (2.689350471394512, 1.0764260707430688), (2.6895219419408285, 1.0764466598685405), (2.689681412713881, 1.0764658073106195), (2.689829723270148, 1.0764836140472336), (2.6899676544549416, 1.0765001739797329), (2.6900959325043807, 1.0765155744293484), (2.69021523286128, 1.0765298965987504), (2.6903261837248396, 1.0765432160011685)])"
      ]
     },
     "execution_count": 4,
     "metadata": {},
     "output_type": "execute_result"
    }
   ],
   "source": [
    "s0 = ones(100)* 0.2;\n",
    "lower = s0*0;\n",
    "upper = s0*0 .+ 1;\n",
    "V0, sim0 = objective(s0; p=p, return_sim=true, add_last_term=true)"
   ]
  },
  {
   "cell_type": "code",
   "execution_count": 5,
   "id": "05275e23-b79c-41d3-80f0-840ec91fd092",
   "metadata": {},
   "outputs": [
    {
     "ename": "LoadError",
     "evalue": "UndefVarError: plot not defined",
     "output_type": "error",
     "traceback": [
      "UndefVarError: plot not defined",
      "",
      "Stacktrace:",
      " [1] top-level scope",
      "   @ In[5]:1",
      " [2] eval",
      "   @ ./boot.jl:360 [inlined]",
      " [3] include_string(mapexpr::typeof(REPL.softscope), mod::Module, code::String, filename::String)",
      "   @ Base ./loading.jl:1094"
     ]
    }
   ],
   "source": [
    "pl1 = plot([e[1] for e in sim0])\n",
    "pl2 = plot( [e[2] for e in sim0])\n",
    "plot(pl1, pl2)"
   ]
  },
  {
   "cell_type": "code",
   "execution_count": 6,
   "id": "6ac3aa2b-17b8-4f60-a573-13d749b1a706",
   "metadata": {},
   "outputs": [],
   "source": [
    "using ForwardDiff"
   ]
  },
  {
   "cell_type": "code",
   "execution_count": 7,
   "id": "26431467",
   "metadata": {},
   "outputs": [],
   "source": [
    "G  = ForwardDiff.gradient(u->objective(u; p=p), s0);"
   ]
  },
  {
   "cell_type": "markdown",
   "id": "076a7b6f",
   "metadata": {},
   "source": [
    "__Use library `Optim.jl` to maximize the utility function. If possible, find a way to specify exact derivatives of the objective function.__"
   ]
  },
  {
   "cell_type": "code",
   "execution_count": 807,
   "id": "2b7ee1e1",
   "metadata": {},
   "outputs": [],
   "source": [
    "using Optim"
   ]
  },
  {
   "cell_type": "code",
   "execution_count": 808,
   "id": "44c7bfba-44b4-41a0-937d-e4947e4763d6",
   "metadata": {},
   "outputs": [
    {
     "data": {
      "text/plain": [
       " * Status: failure (reached maximum number of iterations)\n",
       "\n",
       " * Candidate solution\n",
       "    Final objective value:     -4.693989e+01\n",
       "\n",
       " * Found with\n",
       "    Algorithm:     Nelder-Mead\n",
       "\n",
       " * Convergence measures\n",
       "    √(Σ(yᵢ-ȳ)²)/n ≰ 1.0e-08\n",
       "\n",
       " * Work counters\n",
       "    Seconds run:   0  (vs limit Inf)\n",
       "    Iterations:    1000\n",
       "    f(x) calls:    1427\n"
      ]
     },
     "execution_count": 808,
     "metadata": {},
     "output_type": "execute_result"
    }
   ],
   "source": [
    "sol = optimize(u->-objective(u; p=p), s0)"
   ]
  },
  {
   "cell_type": "markdown",
   "id": "7626a575-6a0d-44fa-b28d-d7b91b62bbe0",
   "metadata": {},
   "source": [
    "The iteration failed. We see it uses Nelder-Mead, which doesn't use gradient information. Let's have a look at what it produced:"
   ]
  },
  {
   "cell_type": "code",
   "execution_count": 809,
   "id": "7d9537ea-05b1-426d-b3e3-11ce356334dd",
   "metadata": {},
   "outputs": [
    {
     "data": {
      "image/svg+xml": [
       "<?xml version=\"1.0\" encoding=\"utf-8\"?>\n",
       "<svg xmlns=\"http://www.w3.org/2000/svg\" xmlns:xlink=\"http://www.w3.org/1999/xlink\" width=\"600\" height=\"400\" viewBox=\"0 0 2400 1600\">\n",
       "<defs>\n",
       "  <clipPath id=\"clip920\">\n",
       "    <rect x=\"0\" y=\"0\" width=\"2400\" height=\"1600\"/>\n",
       "  </clipPath>\n",
       "</defs>\n",
       "<path clip-path=\"url(#clip920)\" d=\"\n",
       "M0 1600 L2400 1600 L2400 0 L0 0  Z\n",
       "  \" fill=\"#ffffff\" fill-rule=\"evenodd\" fill-opacity=\"1\"/>\n",
       "<defs>\n",
       "  <clipPath id=\"clip921\">\n",
       "    <rect x=\"480\" y=\"0\" width=\"1681\" height=\"1600\"/>\n",
       "  </clipPath>\n",
       "</defs>\n",
       "<path clip-path=\"url(#clip920)\" d=\"\n",
       "M186.274 1486.45 L2352.76 1486.45 L2352.76 47.2441 L186.274 47.2441  Z\n",
       "  \" fill=\"#ffffff\" fill-rule=\"evenodd\" fill-opacity=\"1\"/>\n",
       "<defs>\n",
       "  <clipPath id=\"clip922\">\n",
       "    <rect x=\"186\" y=\"47\" width=\"2167\" height=\"1440\"/>\n",
       "  </clipPath>\n",
       "</defs>\n",
       "<polyline clip-path=\"url(#clip922)\" style=\"stroke:#000000; stroke-width:2; stroke-opacity:0.1; fill:none\" points=\"\n",
       "  226.945,1486.45 226.945,47.2441 \n",
       "  \"/>\n",
       "<polyline clip-path=\"url(#clip922)\" style=\"stroke:#000000; stroke-width:2; stroke-opacity:0.1; fill:none\" points=\"\n",
       "  743.069,1486.45 743.069,47.2441 \n",
       "  \"/>\n",
       "<polyline clip-path=\"url(#clip922)\" style=\"stroke:#000000; stroke-width:2; stroke-opacity:0.1; fill:none\" points=\"\n",
       "  1259.19,1486.45 1259.19,47.2441 \n",
       "  \"/>\n",
       "<polyline clip-path=\"url(#clip922)\" style=\"stroke:#000000; stroke-width:2; stroke-opacity:0.1; fill:none\" points=\"\n",
       "  1775.32,1486.45 1775.32,47.2441 \n",
       "  \"/>\n",
       "<polyline clip-path=\"url(#clip922)\" style=\"stroke:#000000; stroke-width:2; stroke-opacity:0.1; fill:none\" points=\"\n",
       "  2291.44,1486.45 2291.44,47.2441 \n",
       "  \"/>\n",
       "<polyline clip-path=\"url(#clip920)\" style=\"stroke:#000000; stroke-width:4; stroke-opacity:1; fill:none\" points=\"\n",
       "  186.274,1486.45 2352.76,1486.45 \n",
       "  \"/>\n",
       "<polyline clip-path=\"url(#clip920)\" style=\"stroke:#000000; stroke-width:4; stroke-opacity:1; fill:none\" points=\"\n",
       "  226.945,1486.45 226.945,1469.18 \n",
       "  \"/>\n",
       "<polyline clip-path=\"url(#clip920)\" style=\"stroke:#000000; stroke-width:4; stroke-opacity:1; fill:none\" points=\"\n",
       "  743.069,1486.45 743.069,1469.18 \n",
       "  \"/>\n",
       "<polyline clip-path=\"url(#clip920)\" style=\"stroke:#000000; stroke-width:4; stroke-opacity:1; fill:none\" points=\"\n",
       "  1259.19,1486.45 1259.19,1469.18 \n",
       "  \"/>\n",
       "<polyline clip-path=\"url(#clip920)\" style=\"stroke:#000000; stroke-width:4; stroke-opacity:1; fill:none\" points=\"\n",
       "  1775.32,1486.45 1775.32,1469.18 \n",
       "  \"/>\n",
       "<polyline clip-path=\"url(#clip920)\" style=\"stroke:#000000; stroke-width:4; stroke-opacity:1; fill:none\" points=\"\n",
       "  2291.44,1486.45 2291.44,1469.18 \n",
       "  \"/>\n",
       "<path clip-path=\"url(#clip920)\" d=\"M 0 0 M226.945 1515.64 Q223.333 1515.64 221.505 1519.2 Q219.699 1522.75 219.699 1529.87 Q219.699 1536.98 221.505 1540.55 Q223.333 1544.09 226.945 1544.09 Q230.579 1544.09 232.384 1540.55 Q234.213 1536.98 234.213 1529.87 Q234.213 1522.75 232.384 1519.2 Q230.579 1515.64 226.945 1515.64 M226.945 1511.93 Q232.755 1511.93 235.81 1516.54 Q238.889 1521.12 238.889 1529.87 Q238.889 1538.6 235.81 1543.21 Q232.755 1547.79 226.945 1547.79 Q221.134 1547.79 218.056 1543.21 Q215 1538.6 215 1529.87 Q215 1521.12 218.056 1516.54 Q221.134 1511.93 226.945 1511.93 Z\" fill=\"#000000\" fill-rule=\"evenodd\" fill-opacity=\"1\" /><path clip-path=\"url(#clip920)\" d=\"M 0 0 M722.339 1543.18 L738.659 1543.18 L738.659 1547.12 L716.714 1547.12 L716.714 1543.18 Q719.377 1540.43 723.96 1535.8 Q728.566 1531.15 729.747 1529.81 Q731.992 1527.28 732.872 1525.55 Q733.775 1523.79 733.775 1522.1 Q733.775 1519.34 731.83 1517.61 Q729.909 1515.87 726.807 1515.87 Q724.608 1515.87 722.154 1516.63 Q719.724 1517.4 716.946 1518.95 L716.946 1514.23 Q719.77 1513.09 722.224 1512.51 Q724.677 1511.93 726.714 1511.93 Q732.085 1511.93 735.279 1514.62 Q738.474 1517.31 738.474 1521.8 Q738.474 1523.93 737.663 1525.85 Q736.876 1527.74 734.77 1530.34 Q734.191 1531.01 731.089 1534.23 Q727.988 1537.42 722.339 1543.18 Z\" fill=\"#000000\" fill-rule=\"evenodd\" fill-opacity=\"1\" /><path clip-path=\"url(#clip920)\" d=\"M 0 0 M748.52 1512.56 L766.876 1512.56 L766.876 1516.5 L752.802 1516.5 L752.802 1524.97 Q753.821 1524.62 754.839 1524.46 Q755.858 1524.27 756.876 1524.27 Q762.663 1524.27 766.043 1527.44 Q769.423 1530.62 769.423 1536.03 Q769.423 1541.61 765.95 1544.71 Q762.478 1547.79 756.159 1547.79 Q753.983 1547.79 751.714 1547.42 Q749.469 1547.05 747.062 1546.31 L747.062 1541.61 Q749.145 1542.74 751.367 1543.3 Q753.589 1543.86 756.066 1543.86 Q760.071 1543.86 762.409 1541.75 Q764.747 1539.64 764.747 1536.03 Q764.747 1532.42 762.409 1530.31 Q760.071 1528.21 756.066 1528.21 Q754.191 1528.21 752.316 1528.62 Q750.464 1529.04 748.52 1529.92 L748.52 1512.56 Z\" fill=\"#000000\" fill-rule=\"evenodd\" fill-opacity=\"1\" /><path clip-path=\"url(#clip920)\" d=\"M 0 0 M1233.89 1512.56 L1252.25 1512.56 L1252.25 1516.5 L1238.17 1516.5 L1238.17 1524.97 Q1239.19 1524.62 1240.21 1524.46 Q1241.23 1524.27 1242.25 1524.27 Q1248.04 1524.27 1251.41 1527.44 Q1254.79 1530.62 1254.79 1536.03 Q1254.79 1541.61 1251.32 1544.71 Q1247.85 1547.79 1241.53 1547.79 Q1239.35 1547.79 1237.09 1547.42 Q1234.84 1547.05 1232.43 1546.31 L1232.43 1541.61 Q1234.52 1542.74 1236.74 1543.3 Q1238.96 1543.86 1241.44 1543.86 Q1245.44 1543.86 1247.78 1541.75 Q1250.12 1539.64 1250.12 1536.03 Q1250.12 1532.42 1247.78 1530.31 Q1245.44 1528.21 1241.44 1528.21 Q1239.56 1528.21 1237.69 1528.62 Q1235.84 1529.04 1233.89 1529.92 L1233.89 1512.56 Z\" fill=\"#000000\" fill-rule=\"evenodd\" fill-opacity=\"1\" /><path clip-path=\"url(#clip920)\" d=\"M 0 0 M1274.01 1515.64 Q1270.4 1515.64 1268.57 1519.2 Q1266.76 1522.75 1266.76 1529.87 Q1266.76 1536.98 1268.57 1540.55 Q1270.4 1544.09 1274.01 1544.09 Q1277.64 1544.09 1279.45 1540.55 Q1281.28 1536.98 1281.28 1529.87 Q1281.28 1522.75 1279.45 1519.2 Q1277.64 1515.64 1274.01 1515.64 M1274.01 1511.93 Q1279.82 1511.93 1282.87 1516.54 Q1285.95 1521.12 1285.95 1529.87 Q1285.95 1538.6 1282.87 1543.21 Q1279.82 1547.79 1274.01 1547.79 Q1268.2 1547.79 1265.12 1543.21 Q1262.06 1538.6 1262.06 1529.87 Q1262.06 1521.12 1265.12 1516.54 Q1268.2 1511.93 1274.01 1511.93 Z\" fill=\"#000000\" fill-rule=\"evenodd\" fill-opacity=\"1\" /><path clip-path=\"url(#clip920)\" d=\"M 0 0 M1749.17 1512.56 L1771.39 1512.56 L1771.39 1514.55 L1758.85 1547.12 L1753.96 1547.12 L1765.77 1516.5 L1749.17 1516.5 L1749.17 1512.56 Z\" fill=\"#000000\" fill-rule=\"evenodd\" fill-opacity=\"1\" /><path clip-path=\"url(#clip920)\" d=\"M 0 0 M1780.56 1512.56 L1798.92 1512.56 L1798.92 1516.5 L1784.84 1516.5 L1784.84 1524.97 Q1785.86 1524.62 1786.88 1524.46 Q1787.9 1524.27 1788.92 1524.27 Q1794.7 1524.27 1798.08 1527.44 Q1801.46 1530.62 1801.46 1536.03 Q1801.46 1541.61 1797.99 1544.71 Q1794.52 1547.79 1788.2 1547.79 Q1786.02 1547.79 1783.75 1547.42 Q1781.51 1547.05 1779.1 1546.31 L1779.1 1541.61 Q1781.18 1542.74 1783.41 1543.3 Q1785.63 1543.86 1788.11 1543.86 Q1792.11 1543.86 1794.45 1541.75 Q1796.79 1539.64 1796.79 1536.03 Q1796.79 1532.42 1794.45 1530.31 Q1792.11 1528.21 1788.11 1528.21 Q1786.23 1528.21 1784.36 1528.62 Q1782.5 1529.04 1780.56 1529.92 L1780.56 1512.56 Z\" fill=\"#000000\" fill-rule=\"evenodd\" fill-opacity=\"1\" /><path clip-path=\"url(#clip920)\" d=\"M 0 0 M2251.05 1543.18 L2258.69 1543.18 L2258.69 1516.82 L2250.38 1518.49 L2250.38 1514.23 L2258.64 1512.56 L2263.32 1512.56 L2263.32 1543.18 L2270.95 1543.18 L2270.95 1547.12 L2251.05 1547.12 L2251.05 1543.18 Z\" fill=\"#000000\" fill-rule=\"evenodd\" fill-opacity=\"1\" /><path clip-path=\"url(#clip920)\" d=\"M 0 0 M2290.4 1515.64 Q2286.79 1515.64 2284.96 1519.2 Q2283.15 1522.75 2283.15 1529.87 Q2283.15 1536.98 2284.96 1540.55 Q2286.79 1544.09 2290.4 1544.09 Q2294.03 1544.09 2295.84 1540.55 Q2297.67 1536.98 2297.67 1529.87 Q2297.67 1522.75 2295.84 1519.2 Q2294.03 1515.64 2290.4 1515.64 M2290.4 1511.93 Q2296.21 1511.93 2299.26 1516.54 Q2302.34 1521.12 2302.34 1529.87 Q2302.34 1538.6 2299.26 1543.21 Q2296.21 1547.79 2290.4 1547.79 Q2284.59 1547.79 2281.51 1543.21 Q2278.45 1538.6 2278.45 1529.87 Q2278.45 1521.12 2281.51 1516.54 Q2284.59 1511.93 2290.4 1511.93 Z\" fill=\"#000000\" fill-rule=\"evenodd\" fill-opacity=\"1\" /><path clip-path=\"url(#clip920)\" d=\"M 0 0 M2320.56 1515.64 Q2316.95 1515.64 2315.12 1519.2 Q2313.32 1522.75 2313.32 1529.87 Q2313.32 1536.98 2315.12 1540.55 Q2316.95 1544.09 2320.56 1544.09 Q2324.19 1544.09 2326 1540.55 Q2327.83 1536.98 2327.83 1529.87 Q2327.83 1522.75 2326 1519.2 Q2324.19 1515.64 2320.56 1515.64 M2320.56 1511.93 Q2326.37 1511.93 2329.43 1516.54 Q2332.5 1521.12 2332.5 1529.87 Q2332.5 1538.6 2329.43 1543.21 Q2326.37 1547.79 2320.56 1547.79 Q2314.75 1547.79 2311.67 1543.21 Q2308.62 1538.6 2308.62 1529.87 Q2308.62 1521.12 2311.67 1516.54 Q2314.75 1511.93 2320.56 1511.93 Z\" fill=\"#000000\" fill-rule=\"evenodd\" fill-opacity=\"1\" /><polyline clip-path=\"url(#clip922)\" style=\"stroke:#000000; stroke-width:2; stroke-opacity:0.1; fill:none\" points=\"\n",
       "  186.274,1485.98 2352.76,1485.98 \n",
       "  \"/>\n",
       "<polyline clip-path=\"url(#clip922)\" style=\"stroke:#000000; stroke-width:2; stroke-opacity:0.1; fill:none\" points=\"\n",
       "  186.274,1233.8 2352.76,1233.8 \n",
       "  \"/>\n",
       "<polyline clip-path=\"url(#clip922)\" style=\"stroke:#000000; stroke-width:2; stroke-opacity:0.1; fill:none\" points=\"\n",
       "  186.274,981.623 2352.76,981.623 \n",
       "  \"/>\n",
       "<polyline clip-path=\"url(#clip922)\" style=\"stroke:#000000; stroke-width:2; stroke-opacity:0.1; fill:none\" points=\"\n",
       "  186.274,729.447 2352.76,729.447 \n",
       "  \"/>\n",
       "<polyline clip-path=\"url(#clip922)\" style=\"stroke:#000000; stroke-width:2; stroke-opacity:0.1; fill:none\" points=\"\n",
       "  186.274,477.27 2352.76,477.27 \n",
       "  \"/>\n",
       "<polyline clip-path=\"url(#clip922)\" style=\"stroke:#000000; stroke-width:2; stroke-opacity:0.1; fill:none\" points=\"\n",
       "  186.274,225.094 2352.76,225.094 \n",
       "  \"/>\n",
       "<polyline clip-path=\"url(#clip920)\" style=\"stroke:#000000; stroke-width:4; stroke-opacity:1; fill:none\" points=\"\n",
       "  186.274,1486.45 186.274,47.2441 \n",
       "  \"/>\n",
       "<polyline clip-path=\"url(#clip920)\" style=\"stroke:#000000; stroke-width:4; stroke-opacity:1; fill:none\" points=\"\n",
       "  186.274,1485.98 212.272,1485.98 \n",
       "  \"/>\n",
       "<polyline clip-path=\"url(#clip920)\" style=\"stroke:#000000; stroke-width:4; stroke-opacity:1; fill:none\" points=\"\n",
       "  186.274,1233.8 212.272,1233.8 \n",
       "  \"/>\n",
       "<polyline clip-path=\"url(#clip920)\" style=\"stroke:#000000; stroke-width:4; stroke-opacity:1; fill:none\" points=\"\n",
       "  186.274,981.623 212.272,981.623 \n",
       "  \"/>\n",
       "<polyline clip-path=\"url(#clip920)\" style=\"stroke:#000000; stroke-width:4; stroke-opacity:1; fill:none\" points=\"\n",
       "  186.274,729.447 212.272,729.447 \n",
       "  \"/>\n",
       "<polyline clip-path=\"url(#clip920)\" style=\"stroke:#000000; stroke-width:4; stroke-opacity:1; fill:none\" points=\"\n",
       "  186.274,477.27 212.272,477.27 \n",
       "  \"/>\n",
       "<polyline clip-path=\"url(#clip920)\" style=\"stroke:#000000; stroke-width:4; stroke-opacity:1; fill:none\" points=\"\n",
       "  186.274,225.094 212.272,225.094 \n",
       "  \"/>\n",
       "<path clip-path=\"url(#clip920)\" d=\"M 0 0 M63.9319 1471.78 Q60.3208 1471.78 58.4921 1475.34 Q56.6865 1478.88 56.6865 1486.01 Q56.6865 1493.12 58.4921 1496.68 Q60.3208 1500.22 63.9319 1500.22 Q67.5661 1500.22 69.3717 1496.68 Q71.2004 1493.12 71.2004 1486.01 Q71.2004 1478.88 69.3717 1475.34 Q67.5661 1471.78 63.9319 1471.78 M63.9319 1468.07 Q69.742 1468.07 72.7976 1472.68 Q75.8763 1477.26 75.8763 1486.01 Q75.8763 1494.74 72.7976 1499.34 Q69.742 1503.93 63.9319 1503.93 Q58.1217 1503.93 55.043 1499.34 Q51.9875 1494.74 51.9875 1486.01 Q51.9875 1477.26 55.043 1472.68 Q58.1217 1468.07 63.9319 1468.07 Z\" fill=\"#000000\" fill-rule=\"evenodd\" fill-opacity=\"1\" /><path clip-path=\"url(#clip920)\" d=\"M 0 0 M84.0938 1497.38 L88.978 1497.38 L88.978 1503.26 L84.0938 1503.26 L84.0938 1497.38 Z\" fill=\"#000000\" fill-rule=\"evenodd\" fill-opacity=\"1\" /><path clip-path=\"url(#clip920)\" d=\"M 0 0 M99.9733 1499.32 L107.612 1499.32 L107.612 1472.96 L99.3021 1474.62 L99.3021 1470.36 L107.566 1468.7 L112.242 1468.7 L112.242 1499.32 L119.881 1499.32 L119.881 1503.26 L99.9733 1503.26 L99.9733 1499.32 Z\" fill=\"#000000\" fill-rule=\"evenodd\" fill-opacity=\"1\" /><path clip-path=\"url(#clip920)\" d=\"M 0 0 M129.371 1468.7 L147.728 1468.7 L147.728 1472.63 L133.654 1472.63 L133.654 1481.1 Q134.672 1480.76 135.691 1480.59 Q136.709 1480.41 137.728 1480.41 Q143.515 1480.41 146.894 1483.58 Q150.274 1486.75 150.274 1492.17 Q150.274 1497.75 146.802 1500.85 Q143.33 1503.93 137.01 1503.93 Q134.834 1503.93 132.566 1503.56 Q130.32 1503.19 127.913 1502.45 L127.913 1497.75 Q129.996 1498.88 132.219 1499.44 Q134.441 1499.99 136.918 1499.99 Q140.922 1499.99 143.26 1497.89 Q145.598 1495.78 145.598 1492.17 Q145.598 1488.56 143.26 1486.45 Q140.922 1484.34 136.918 1484.34 Q135.043 1484.34 133.168 1484.76 Q131.316 1485.18 129.371 1486.06 L129.371 1468.7 Z\" fill=\"#000000\" fill-rule=\"evenodd\" fill-opacity=\"1\" /><path clip-path=\"url(#clip920)\" d=\"M 0 0 M62.9365 1219.6 Q59.3254 1219.6 57.4967 1223.16 Q55.6912 1226.7 55.6912 1233.83 Q55.6912 1240.94 57.4967 1244.51 Q59.3254 1248.05 62.9365 1248.05 Q66.5707 1248.05 68.3763 1244.51 Q70.205 1240.94 70.205 1233.83 Q70.205 1226.7 68.3763 1223.16 Q66.5707 1219.6 62.9365 1219.6 M62.9365 1215.89 Q68.7467 1215.89 71.8022 1220.5 Q74.8809 1225.08 74.8809 1233.83 Q74.8809 1242.56 71.8022 1247.17 Q68.7467 1251.75 62.9365 1251.75 Q57.1264 1251.75 54.0477 1247.17 Q50.9921 1242.56 50.9921 1233.83 Q50.9921 1225.08 54.0477 1220.5 Q57.1264 1215.89 62.9365 1215.89 Z\" fill=\"#000000\" fill-rule=\"evenodd\" fill-opacity=\"1\" /><path clip-path=\"url(#clip920)\" d=\"M 0 0 M83.0984 1245.2 L87.9827 1245.2 L87.9827 1251.08 L83.0984 1251.08 L83.0984 1245.2 Z\" fill=\"#000000\" fill-rule=\"evenodd\" fill-opacity=\"1\" /><path clip-path=\"url(#clip920)\" d=\"M 0 0 M102.196 1247.14 L118.515 1247.14 L118.515 1251.08 L96.5706 1251.08 L96.5706 1247.14 Q99.2326 1244.39 103.816 1239.76 Q108.422 1235.11 109.603 1233.77 Q111.848 1231.24 112.728 1229.51 Q113.631 1227.75 113.631 1226.06 Q113.631 1223.3 111.686 1221.57 Q109.765 1219.83 106.663 1219.83 Q104.464 1219.83 102.01 1220.59 Q99.5798 1221.36 96.8021 1222.91 L96.8021 1218.19 Q99.6261 1217.05 102.08 1216.47 Q104.534 1215.89 106.571 1215.89 Q111.941 1215.89 115.135 1218.58 Q118.33 1221.27 118.33 1225.76 Q118.33 1227.89 117.52 1229.81 Q116.733 1231.7 114.626 1234.3 Q114.047 1234.97 110.946 1238.19 Q107.844 1241.38 102.196 1247.14 Z\" fill=\"#000000\" fill-rule=\"evenodd\" fill-opacity=\"1\" /><path clip-path=\"url(#clip920)\" d=\"M 0 0 M138.33 1219.6 Q134.719 1219.6 132.89 1223.16 Q131.084 1226.7 131.084 1233.83 Q131.084 1240.94 132.89 1244.51 Q134.719 1248.05 138.33 1248.05 Q141.964 1248.05 143.769 1244.51 Q145.598 1240.94 145.598 1233.83 Q145.598 1226.7 143.769 1223.16 Q141.964 1219.6 138.33 1219.6 M138.33 1215.89 Q144.14 1215.89 147.195 1220.5 Q150.274 1225.08 150.274 1233.83 Q150.274 1242.56 147.195 1247.17 Q144.14 1251.75 138.33 1251.75 Q132.519 1251.75 129.441 1247.17 Q126.385 1242.56 126.385 1233.83 Q126.385 1225.08 129.441 1220.5 Q132.519 1215.89 138.33 1215.89 Z\" fill=\"#000000\" fill-rule=\"evenodd\" fill-opacity=\"1\" /><path clip-path=\"url(#clip920)\" d=\"M 0 0 M63.9319 967.422 Q60.3208 967.422 58.4921 970.987 Q56.6865 974.528 56.6865 981.658 Q56.6865 988.765 58.4921 992.329 Q60.3208 995.871 63.9319 995.871 Q67.5661 995.871 69.3717 992.329 Q71.2004 988.765 71.2004 981.658 Q71.2004 974.528 69.3717 970.987 Q67.5661 967.422 63.9319 967.422 M63.9319 963.718 Q69.742 963.718 72.7976 968.325 Q75.8763 972.908 75.8763 981.658 Q75.8763 990.385 72.7976 994.991 Q69.742 999.575 63.9319 999.575 Q58.1217 999.575 55.043 994.991 Q51.9875 990.385 51.9875 981.658 Q51.9875 972.908 55.043 968.325 Q58.1217 963.718 63.9319 963.718 Z\" fill=\"#000000\" fill-rule=\"evenodd\" fill-opacity=\"1\" /><path clip-path=\"url(#clip920)\" d=\"M 0 0 M84.0938 993.024 L88.978 993.024 L88.978 998.903 L84.0938 998.903 L84.0938 993.024 Z\" fill=\"#000000\" fill-rule=\"evenodd\" fill-opacity=\"1\" /><path clip-path=\"url(#clip920)\" d=\"M 0 0 M103.191 994.968 L119.51 994.968 L119.51 998.903 L97.566 998.903 L97.566 994.968 Q100.228 992.214 104.811 987.584 Q109.418 982.931 110.598 981.589 Q112.844 979.065 113.723 977.329 Q114.626 975.57 114.626 973.88 Q114.626 971.126 112.682 969.39 Q110.76 967.654 107.658 967.654 Q105.459 967.654 103.006 968.417 Q100.575 969.181 97.7974 970.732 L97.7974 966.01 Q100.621 964.876 103.075 964.297 Q105.529 963.718 107.566 963.718 Q112.936 963.718 116.131 966.404 Q119.325 969.089 119.325 973.579 Q119.325 975.709 118.515 977.63 Q117.728 979.528 115.621 982.121 Q115.043 982.792 111.941 986.01 Q108.839 989.204 103.191 994.968 Z\" fill=\"#000000\" fill-rule=\"evenodd\" fill-opacity=\"1\" /><path clip-path=\"url(#clip920)\" d=\"M 0 0 M129.371 964.343 L147.728 964.343 L147.728 968.279 L133.654 968.279 L133.654 976.751 Q134.672 976.403 135.691 976.241 Q136.709 976.056 137.728 976.056 Q143.515 976.056 146.894 979.228 Q150.274 982.399 150.274 987.815 Q150.274 993.394 146.802 996.496 Q143.33 999.575 137.01 999.575 Q134.834 999.575 132.566 999.204 Q130.32 998.834 127.913 998.093 L127.913 993.394 Q129.996 994.528 132.219 995.084 Q134.441 995.639 136.918 995.639 Q140.922 995.639 143.26 993.533 Q145.598 991.427 145.598 987.815 Q145.598 984.204 143.26 982.098 Q140.922 979.991 136.918 979.991 Q135.043 979.991 133.168 980.408 Q131.316 980.825 129.371 981.704 L129.371 964.343 Z\" fill=\"#000000\" fill-rule=\"evenodd\" fill-opacity=\"1\" /><path clip-path=\"url(#clip920)\" d=\"M 0 0 M62.9365 715.246 Q59.3254 715.246 57.4967 718.81 Q55.6912 722.352 55.6912 729.482 Q55.6912 736.588 57.4967 740.153 Q59.3254 743.694 62.9365 743.694 Q66.5707 743.694 68.3763 740.153 Q70.205 736.588 70.205 729.482 Q70.205 722.352 68.3763 718.81 Q66.5707 715.246 62.9365 715.246 M62.9365 711.542 Q68.7467 711.542 71.8022 716.148 Q74.8809 720.732 74.8809 729.482 Q74.8809 738.208 71.8022 742.815 Q68.7467 747.398 62.9365 747.398 Q57.1264 747.398 54.0477 742.815 Q50.9921 738.208 50.9921 729.482 Q50.9921 720.732 54.0477 716.148 Q57.1264 711.542 62.9365 711.542 Z\" fill=\"#000000\" fill-rule=\"evenodd\" fill-opacity=\"1\" /><path clip-path=\"url(#clip920)\" d=\"M 0 0 M83.0984 740.847 L87.9827 740.847 L87.9827 746.727 L83.0984 746.727 L83.0984 740.847 Z\" fill=\"#000000\" fill-rule=\"evenodd\" fill-opacity=\"1\" /><path clip-path=\"url(#clip920)\" d=\"M 0 0 M112.334 728.093 Q115.691 728.81 117.566 731.079 Q119.464 733.347 119.464 736.681 Q119.464 741.796 115.945 744.597 Q112.427 747.398 105.946 747.398 Q103.77 747.398 101.455 746.958 Q99.1632 746.542 96.7095 745.685 L96.7095 741.171 Q98.6539 742.306 100.969 742.884 Q103.284 743.463 105.807 743.463 Q110.205 743.463 112.496 741.727 Q114.811 739.991 114.811 736.681 Q114.811 733.625 112.658 731.912 Q110.529 730.176 106.709 730.176 L102.682 730.176 L102.682 726.333 L106.895 726.333 Q110.344 726.333 112.172 724.968 Q114.001 723.579 114.001 720.986 Q114.001 718.324 112.103 716.912 Q110.228 715.477 106.709 715.477 Q104.788 715.477 102.589 715.894 Q100.39 716.31 97.7511 717.19 L97.7511 713.023 Q100.413 712.283 102.728 711.912 Q105.066 711.542 107.126 711.542 Q112.45 711.542 115.552 713.972 Q118.654 716.38 118.654 720.5 Q118.654 723.371 117.01 725.361 Q115.367 727.329 112.334 728.093 Z\" fill=\"#000000\" fill-rule=\"evenodd\" fill-opacity=\"1\" /><path clip-path=\"url(#clip920)\" d=\"M 0 0 M138.33 715.246 Q134.719 715.246 132.89 718.81 Q131.084 722.352 131.084 729.482 Q131.084 736.588 132.89 740.153 Q134.719 743.694 138.33 743.694 Q141.964 743.694 143.769 740.153 Q145.598 736.588 145.598 729.482 Q145.598 722.352 143.769 718.81 Q141.964 715.246 138.33 715.246 M138.33 711.542 Q144.14 711.542 147.195 716.148 Q150.274 720.732 150.274 729.482 Q150.274 738.208 147.195 742.815 Q144.14 747.398 138.33 747.398 Q132.519 747.398 129.441 742.815 Q126.385 738.208 126.385 729.482 Q126.385 720.732 129.441 716.148 Q132.519 711.542 138.33 711.542 Z\" fill=\"#000000\" fill-rule=\"evenodd\" fill-opacity=\"1\" /><path clip-path=\"url(#clip920)\" d=\"M 0 0 M63.9319 463.069 Q60.3208 463.069 58.4921 466.634 Q56.6865 470.175 56.6865 477.305 Q56.6865 484.412 58.4921 487.976 Q60.3208 491.518 63.9319 491.518 Q67.5661 491.518 69.3717 487.976 Q71.2004 484.412 71.2004 477.305 Q71.2004 470.175 69.3717 466.634 Q67.5661 463.069 63.9319 463.069 M63.9319 459.365 Q69.742 459.365 72.7976 463.972 Q75.8763 468.555 75.8763 477.305 Q75.8763 486.032 72.7976 490.638 Q69.742 495.222 63.9319 495.222 Q58.1217 495.222 55.043 490.638 Q51.9875 486.032 51.9875 477.305 Q51.9875 468.555 55.043 463.972 Q58.1217 459.365 63.9319 459.365 Z\" fill=\"#000000\" fill-rule=\"evenodd\" fill-opacity=\"1\" /><path clip-path=\"url(#clip920)\" d=\"M 0 0 M84.0938 488.671 L88.978 488.671 L88.978 494.55 L84.0938 494.55 L84.0938 488.671 Z\" fill=\"#000000\" fill-rule=\"evenodd\" fill-opacity=\"1\" /><path clip-path=\"url(#clip920)\" d=\"M 0 0 M113.33 475.916 Q116.686 476.634 118.561 478.902 Q120.459 481.171 120.459 484.504 Q120.459 489.62 116.941 492.421 Q113.422 495.222 106.941 495.222 Q104.765 495.222 102.45 494.782 Q100.159 494.365 97.7048 493.509 L97.7048 488.995 Q99.6493 490.129 101.964 490.708 Q104.279 491.286 106.802 491.286 Q111.2 491.286 113.492 489.55 Q115.807 487.814 115.807 484.504 Q115.807 481.449 113.654 479.736 Q111.524 478 107.705 478 L103.677 478 L103.677 474.157 L107.89 474.157 Q111.339 474.157 113.168 472.791 Q114.996 471.402 114.996 468.81 Q114.996 466.148 113.098 464.736 Q111.223 463.301 107.705 463.301 Q105.783 463.301 103.584 463.717 Q101.385 464.134 98.7465 465.013 L98.7465 460.847 Q101.409 460.106 103.723 459.736 Q106.061 459.365 108.121 459.365 Q113.445 459.365 116.547 461.796 Q119.649 464.203 119.649 468.324 Q119.649 471.194 118.006 473.185 Q116.362 475.152 113.33 475.916 Z\" fill=\"#000000\" fill-rule=\"evenodd\" fill-opacity=\"1\" /><path clip-path=\"url(#clip920)\" d=\"M 0 0 M129.371 459.99 L147.728 459.99 L147.728 463.926 L133.654 463.926 L133.654 472.398 Q134.672 472.05 135.691 471.888 Q136.709 471.703 137.728 471.703 Q143.515 471.703 146.894 474.875 Q150.274 478.046 150.274 483.462 Q150.274 489.041 146.802 492.143 Q143.33 495.222 137.01 495.222 Q134.834 495.222 132.566 494.851 Q130.32 494.481 127.913 493.74 L127.913 489.041 Q129.996 490.175 132.219 490.731 Q134.441 491.286 136.918 491.286 Q140.922 491.286 143.26 489.18 Q145.598 487.074 145.598 483.462 Q145.598 479.851 143.26 477.745 Q140.922 475.638 136.918 475.638 Q135.043 475.638 133.168 476.055 Q131.316 476.472 129.371 477.351 L129.371 459.99 Z\" fill=\"#000000\" fill-rule=\"evenodd\" fill-opacity=\"1\" /><path clip-path=\"url(#clip920)\" d=\"M 0 0 M62.9365 210.893 Q59.3254 210.893 57.4967 214.457 Q55.6912 217.999 55.6912 225.129 Q55.6912 232.235 57.4967 235.8 Q59.3254 239.341 62.9365 239.341 Q66.5707 239.341 68.3763 235.8 Q70.205 232.235 70.205 225.129 Q70.205 217.999 68.3763 214.457 Q66.5707 210.893 62.9365 210.893 M62.9365 207.189 Q68.7467 207.189 71.8022 211.795 Q74.8809 216.379 74.8809 225.129 Q74.8809 233.855 71.8022 238.462 Q68.7467 243.045 62.9365 243.045 Q57.1264 243.045 54.0477 238.462 Q50.9921 233.855 50.9921 225.129 Q50.9921 216.379 54.0477 211.795 Q57.1264 207.189 62.9365 207.189 Z\" fill=\"#000000\" fill-rule=\"evenodd\" fill-opacity=\"1\" /><path clip-path=\"url(#clip920)\" d=\"M 0 0 M83.0984 236.494 L87.9827 236.494 L87.9827 242.374 L83.0984 242.374 L83.0984 236.494 Z\" fill=\"#000000\" fill-rule=\"evenodd\" fill-opacity=\"1\" /><path clip-path=\"url(#clip920)\" d=\"M 0 0 M111.015 211.888 L99.2095 230.337 L111.015 230.337 L111.015 211.888 M109.788 207.814 L115.668 207.814 L115.668 230.337 L120.598 230.337 L120.598 234.226 L115.668 234.226 L115.668 242.374 L111.015 242.374 L111.015 234.226 L95.4132 234.226 L95.4132 229.712 L109.788 207.814 Z\" fill=\"#000000\" fill-rule=\"evenodd\" fill-opacity=\"1\" /><path clip-path=\"url(#clip920)\" d=\"M 0 0 M138.33 210.893 Q134.719 210.893 132.89 214.457 Q131.084 217.999 131.084 225.129 Q131.084 232.235 132.89 235.8 Q134.719 239.341 138.33 239.341 Q141.964 239.341 143.769 235.8 Q145.598 232.235 145.598 225.129 Q145.598 217.999 143.769 214.457 Q141.964 210.893 138.33 210.893 M138.33 207.189 Q144.14 207.189 147.195 211.795 Q150.274 216.379 150.274 225.129 Q150.274 233.855 147.195 238.462 Q144.14 243.045 138.33 243.045 Q132.519 243.045 129.441 238.462 Q126.385 233.855 126.385 225.129 Q126.385 216.379 129.441 211.795 Q132.519 207.189 138.33 207.189 Z\" fill=\"#000000\" fill-rule=\"evenodd\" fill-opacity=\"1\" /><polyline clip-path=\"url(#clip922)\" style=\"stroke:#009af9; stroke-width:4; stroke-opacity:1; fill:none\" points=\"\n",
       "  247.59,87.9763 268.234,328.228 288.879,482.5 309.524,633.705 330.169,732.5 350.814,822.636 371.459,868.192 392.104,940.694 412.749,990.546 433.394,1005.65 \n",
       "  454.039,1053.68 474.684,1092.25 495.329,1100.41 515.974,1093.89 536.619,1147.34 557.264,1127.15 577.909,1132.03 598.554,1197.31 619.199,1222.79 639.844,1216.01 \n",
       "  660.489,1189.37 681.134,1200.77 701.779,1211.4 722.424,1215.51 743.069,1237.4 763.713,1201.16 784.358,1239.32 805.003,1235.58 825.648,1252.01 846.293,1254.53 \n",
       "  866.938,1261.32 887.583,1260.46 908.228,1232.72 928.873,1224.2 949.518,1240.58 970.163,1214.83 990.808,1258.98 1011.45,1206.28 1032.1,1226.44 1052.74,1239.39 \n",
       "  1073.39,1205.2 1094.03,1195.3 1114.68,1190.03 1135.32,1209.72 1155.97,1213.72 1176.61,1214.79 1197.26,1187.69 1217.9,1196.66 1238.55,1189.09 1259.19,1230.64 \n",
       "  1279.84,1186.79 1300.48,1239.65 1321.13,1185.72 1341.77,1227.38 1362.42,1220.17 1383.06,1220.83 1403.71,1212.35 1424.35,1214.37 1445,1253.4 1465.64,1251.42 \n",
       "  1486.29,1301.06 1506.93,1290.44 1527.58,1321.76 1548.22,1330.61 1568.87,1328.64 1589.51,1338.18 1610.16,1323.11 1630.8,1351.43 1651.45,1327.88 1672.09,1361.01 \n",
       "  1692.74,1342.99 1713.38,1324.15 1734.03,1362.32 1754.67,1344.45 1775.32,1366.88 1795.96,1355.54 1816.61,1348.97 1837.25,1346.66 1857.9,1379.45 1878.54,1373.13 \n",
       "  1899.19,1357.76 1919.83,1382.44 1940.48,1365.93 1961.12,1372.24 1981.77,1366.35 2002.41,1376.68 2023.06,1409.76 2043.7,1395.72 2064.35,1399.87 2084.99,1397.35 \n",
       "  2105.64,1405.98 2126.28,1408.39 2146.93,1432.1 2167.57,1402.23 2188.22,1430.92 2208.86,1406.49 2229.51,1437.99 2250.15,1425.97 2270.8,1445.72 2291.44,1445.39 \n",
       "  \n",
       "  \"/>\n",
       "<path clip-path=\"url(#clip920)\" d=\"\n",
       "M1987.39 216.178 L2280.54 216.178 L2280.54 95.2176 L1987.39 95.2176  Z\n",
       "  \" fill=\"#ffffff\" fill-rule=\"evenodd\" fill-opacity=\"1\"/>\n",
       "<polyline clip-path=\"url(#clip920)\" style=\"stroke:#000000; stroke-width:4; stroke-opacity:1; fill:none\" points=\"\n",
       "  1987.39,216.178 2280.54,216.178 2280.54,95.2176 1987.39,95.2176 1987.39,216.178 \n",
       "  \"/>\n",
       "<polyline clip-path=\"url(#clip920)\" style=\"stroke:#009af9; stroke-width:4; stroke-opacity:1; fill:none\" points=\"\n",
       "  2011.46,155.698 2155.89,155.698 \n",
       "  \"/>\n",
       "<path clip-path=\"url(#clip920)\" d=\"M 0 0 M2193.81 175.385 Q2192 180.015 2190.29 181.427 Q2188.58 182.839 2185.71 182.839 L2182.3 182.839 L2182.3 179.274 L2184.8 179.274 Q2186.56 179.274 2187.53 178.44 Q2188.51 177.607 2189.69 174.505 L2190.45 172.561 L2179.97 147.052 L2184.48 147.052 L2192.58 167.329 L2200.68 147.052 L2205.2 147.052 L2193.81 175.385 Z\" fill=\"#000000\" fill-rule=\"evenodd\" fill-opacity=\"1\" /><path clip-path=\"url(#clip920)\" d=\"M 0 0 M2212.49 169.042 L2220.13 169.042 L2220.13 142.677 L2211.82 144.343 L2211.82 140.084 L2220.08 138.418 L2224.76 138.418 L2224.76 169.042 L2232.4 169.042 L2232.4 172.978 L2212.49 172.978 L2212.49 169.042 Z\" fill=\"#000000\" fill-rule=\"evenodd\" fill-opacity=\"1\" /></svg>\n"
      ]
     },
     "execution_count": 809,
     "metadata": {},
     "output_type": "execute_result"
    }
   ],
   "source": [
    "plot( sol.minimizer )"
   ]
  },
  {
   "cell_type": "code",
   "execution_count": 810,
   "id": "937c34cc-71f7-4f53-8bcc-6a88a02bd58f",
   "metadata": {},
   "outputs": [
    {
     "data": {
      "text/plain": [
       " * Status: success\n",
       "\n",
       " * Candidate solution\n",
       "    Final objective value:     -4.696198e+01\n",
       "\n",
       " * Found with\n",
       "    Algorithm:     Fminbox with L-BFGS\n",
       "\n",
       " * Convergence measures\n",
       "    |x - x'|               = 8.31e-08 ≰ 0.0e+00\n",
       "    |x - x'|/|x'|          = 3.88e-08 ≰ 0.0e+00\n",
       "    |f(x) - f(x')|         = 0.00e+00 ≤ 0.0e+00\n",
       "    |f(x) - f(x')|/|f(x')| = 0.00e+00 ≤ 0.0e+00\n",
       "    |g(x)|                 = 8.80e-09 ≤ 1.0e-08\n",
       "\n",
       " * Work counters\n",
       "    Seconds run:   4  (vs limit Inf)\n",
       "    Iterations:    4\n",
       "    f(x) calls:    997\n",
       "    ∇f(x) calls:   997\n"
      ]
     },
     "execution_count": 810,
     "metadata": {},
     "output_type": "execute_result"
    }
   ],
   "source": [
    "sol = optimize(u->-objective(u; p=p), lower, upper, s0)"
   ]
  },
  {
   "cell_type": "code",
   "execution_count": 811,
   "id": "4c5b8620-eefc-45c0-946f-1cd5633955e5",
   "metadata": {},
   "outputs": [
    {
     "data": {
      "image/svg+xml": [
       "<?xml version=\"1.0\" encoding=\"utf-8\"?>\n",
       "<svg xmlns=\"http://www.w3.org/2000/svg\" xmlns:xlink=\"http://www.w3.org/1999/xlink\" width=\"600\" height=\"400\" viewBox=\"0 0 2400 1600\">\n",
       "<defs>\n",
       "  <clipPath id=\"clip960\">\n",
       "    <rect x=\"0\" y=\"0\" width=\"2400\" height=\"1600\"/>\n",
       "  </clipPath>\n",
       "</defs>\n",
       "<path clip-path=\"url(#clip960)\" d=\"\n",
       "M0 1600 L2400 1600 L2400 0 L0 0  Z\n",
       "  \" fill=\"#ffffff\" fill-rule=\"evenodd\" fill-opacity=\"1\"/>\n",
       "<defs>\n",
       "  <clipPath id=\"clip961\">\n",
       "    <rect x=\"480\" y=\"0\" width=\"1681\" height=\"1600\"/>\n",
       "  </clipPath>\n",
       "</defs>\n",
       "<path clip-path=\"url(#clip960)\" d=\"\n",
       "M156.598 1486.45 L2352.76 1486.45 L2352.76 47.2441 L156.598 47.2441  Z\n",
       "  \" fill=\"#ffffff\" fill-rule=\"evenodd\" fill-opacity=\"1\"/>\n",
       "<defs>\n",
       "  <clipPath id=\"clip962\">\n",
       "    <rect x=\"156\" y=\"47\" width=\"2197\" height=\"1440\"/>\n",
       "  </clipPath>\n",
       "</defs>\n",
       "<polyline clip-path=\"url(#clip962)\" style=\"stroke:#000000; stroke-width:2; stroke-opacity:0.1; fill:none\" points=\"\n",
       "  197.826,1486.45 197.826,47.2441 \n",
       "  \"/>\n",
       "<polyline clip-path=\"url(#clip962)\" style=\"stroke:#000000; stroke-width:2; stroke-opacity:0.1; fill:none\" points=\"\n",
       "  721.02,1486.45 721.02,47.2441 \n",
       "  \"/>\n",
       "<polyline clip-path=\"url(#clip962)\" style=\"stroke:#000000; stroke-width:2; stroke-opacity:0.1; fill:none\" points=\"\n",
       "  1244.21,1486.45 1244.21,47.2441 \n",
       "  \"/>\n",
       "<polyline clip-path=\"url(#clip962)\" style=\"stroke:#000000; stroke-width:2; stroke-opacity:0.1; fill:none\" points=\"\n",
       "  1767.41,1486.45 1767.41,47.2441 \n",
       "  \"/>\n",
       "<polyline clip-path=\"url(#clip962)\" style=\"stroke:#000000; stroke-width:2; stroke-opacity:0.1; fill:none\" points=\"\n",
       "  2290.6,1486.45 2290.6,47.2441 \n",
       "  \"/>\n",
       "<polyline clip-path=\"url(#clip960)\" style=\"stroke:#000000; stroke-width:4; stroke-opacity:1; fill:none\" points=\"\n",
       "  156.598,1486.45 2352.76,1486.45 \n",
       "  \"/>\n",
       "<polyline clip-path=\"url(#clip960)\" style=\"stroke:#000000; stroke-width:4; stroke-opacity:1; fill:none\" points=\"\n",
       "  197.826,1486.45 197.826,1469.18 \n",
       "  \"/>\n",
       "<polyline clip-path=\"url(#clip960)\" style=\"stroke:#000000; stroke-width:4; stroke-opacity:1; fill:none\" points=\"\n",
       "  721.02,1486.45 721.02,1469.18 \n",
       "  \"/>\n",
       "<polyline clip-path=\"url(#clip960)\" style=\"stroke:#000000; stroke-width:4; stroke-opacity:1; fill:none\" points=\"\n",
       "  1244.21,1486.45 1244.21,1469.18 \n",
       "  \"/>\n",
       "<polyline clip-path=\"url(#clip960)\" style=\"stroke:#000000; stroke-width:4; stroke-opacity:1; fill:none\" points=\"\n",
       "  1767.41,1486.45 1767.41,1469.18 \n",
       "  \"/>\n",
       "<polyline clip-path=\"url(#clip960)\" style=\"stroke:#000000; stroke-width:4; stroke-opacity:1; fill:none\" points=\"\n",
       "  2290.6,1486.45 2290.6,1469.18 \n",
       "  \"/>\n",
       "<path clip-path=\"url(#clip960)\" d=\"M 0 0 M197.826 1515.64 Q194.215 1515.64 192.386 1519.2 Q190.581 1522.75 190.581 1529.87 Q190.581 1536.98 192.386 1540.55 Q194.215 1544.09 197.826 1544.09 Q201.46 1544.09 203.266 1540.55 Q205.094 1536.98 205.094 1529.87 Q205.094 1522.75 203.266 1519.2 Q201.46 1515.64 197.826 1515.64 M197.826 1511.93 Q203.636 1511.93 206.692 1516.54 Q209.77 1521.12 209.77 1529.87 Q209.77 1538.6 206.692 1543.21 Q203.636 1547.79 197.826 1547.79 Q192.016 1547.79 188.937 1543.21 Q185.882 1538.6 185.882 1529.87 Q185.882 1521.12 188.937 1516.54 Q192.016 1511.93 197.826 1511.93 Z\" fill=\"#000000\" fill-rule=\"evenodd\" fill-opacity=\"1\" /><path clip-path=\"url(#clip960)\" d=\"M 0 0 M700.29 1543.18 L716.61 1543.18 L716.61 1547.12 L694.666 1547.12 L694.666 1543.18 Q697.328 1540.43 701.911 1535.8 Q706.517 1531.15 707.698 1529.81 Q709.943 1527.28 710.823 1525.55 Q711.726 1523.79 711.726 1522.1 Q711.726 1519.34 709.781 1517.61 Q707.86 1515.87 704.758 1515.87 Q702.559 1515.87 700.105 1516.63 Q697.675 1517.4 694.897 1518.95 L694.897 1514.23 Q697.721 1513.09 700.175 1512.51 Q702.628 1511.93 704.665 1511.93 Q710.036 1511.93 713.23 1514.62 Q716.425 1517.31 716.425 1521.8 Q716.425 1523.93 715.614 1525.85 Q714.827 1527.74 712.721 1530.34 Q712.142 1531.01 709.04 1534.23 Q705.939 1537.42 700.29 1543.18 Z\" fill=\"#000000\" fill-rule=\"evenodd\" fill-opacity=\"1\" /><path clip-path=\"url(#clip960)\" d=\"M 0 0 M726.471 1512.56 L744.827 1512.56 L744.827 1516.5 L730.753 1516.5 L730.753 1524.97 Q731.772 1524.62 732.79 1524.46 Q733.809 1524.27 734.827 1524.27 Q740.614 1524.27 743.994 1527.44 Q747.374 1530.62 747.374 1536.03 Q747.374 1541.61 743.901 1544.71 Q740.429 1547.79 734.11 1547.79 Q731.934 1547.79 729.665 1547.42 Q727.42 1547.05 725.013 1546.31 L725.013 1541.61 Q727.096 1542.74 729.318 1543.3 Q731.54 1543.86 734.017 1543.86 Q738.022 1543.86 740.36 1541.75 Q742.698 1539.64 742.698 1536.03 Q742.698 1532.42 740.36 1530.31 Q738.022 1528.21 734.017 1528.21 Q732.142 1528.21 730.267 1528.62 Q728.415 1529.04 726.471 1529.92 L726.471 1512.56 Z\" fill=\"#000000\" fill-rule=\"evenodd\" fill-opacity=\"1\" /><path clip-path=\"url(#clip960)\" d=\"M 0 0 M1218.91 1512.56 L1237.27 1512.56 L1237.27 1516.5 L1223.19 1516.5 L1223.19 1524.97 Q1224.21 1524.62 1225.23 1524.46 Q1226.25 1524.27 1227.27 1524.27 Q1233.06 1524.27 1236.44 1527.44 Q1239.82 1530.62 1239.82 1536.03 Q1239.82 1541.61 1236.34 1544.71 Q1232.87 1547.79 1226.55 1547.79 Q1224.38 1547.79 1222.11 1547.42 Q1219.86 1547.05 1217.45 1546.31 L1217.45 1541.61 Q1219.54 1542.74 1221.76 1543.3 Q1223.98 1543.86 1226.46 1543.86 Q1230.46 1543.86 1232.8 1541.75 Q1235.14 1539.64 1235.14 1536.03 Q1235.14 1532.42 1232.8 1530.31 Q1230.46 1528.21 1226.46 1528.21 Q1224.58 1528.21 1222.71 1528.62 Q1220.86 1529.04 1218.91 1529.92 L1218.91 1512.56 Z\" fill=\"#000000\" fill-rule=\"evenodd\" fill-opacity=\"1\" /><path clip-path=\"url(#clip960)\" d=\"M 0 0 M1259.03 1515.64 Q1255.42 1515.64 1253.59 1519.2 Q1251.78 1522.75 1251.78 1529.87 Q1251.78 1536.98 1253.59 1540.55 Q1255.42 1544.09 1259.03 1544.09 Q1262.66 1544.09 1264.47 1540.55 Q1266.3 1536.98 1266.3 1529.87 Q1266.3 1522.75 1264.47 1519.2 Q1262.66 1515.64 1259.03 1515.64 M1259.03 1511.93 Q1264.84 1511.93 1267.89 1516.54 Q1270.97 1521.12 1270.97 1529.87 Q1270.97 1538.6 1267.89 1543.21 Q1264.84 1547.79 1259.03 1547.79 Q1253.22 1547.79 1250.14 1543.21 Q1247.08 1538.6 1247.08 1529.87 Q1247.08 1521.12 1250.14 1516.54 Q1253.22 1511.93 1259.03 1511.93 Z\" fill=\"#000000\" fill-rule=\"evenodd\" fill-opacity=\"1\" /><path clip-path=\"url(#clip960)\" d=\"M 0 0 M1741.26 1512.56 L1763.48 1512.56 L1763.48 1514.55 L1750.94 1547.12 L1746.05 1547.12 L1757.86 1516.5 L1741.26 1516.5 L1741.26 1512.56 Z\" fill=\"#000000\" fill-rule=\"evenodd\" fill-opacity=\"1\" /><path clip-path=\"url(#clip960)\" d=\"M 0 0 M1772.65 1512.56 L1791.01 1512.56 L1791.01 1516.5 L1776.93 1516.5 L1776.93 1524.97 Q1777.95 1524.62 1778.97 1524.46 Q1779.99 1524.27 1781.01 1524.27 Q1786.79 1524.27 1790.17 1527.44 Q1793.55 1530.62 1793.55 1536.03 Q1793.55 1541.61 1790.08 1544.71 Q1786.61 1547.79 1780.29 1547.79 Q1778.11 1547.79 1775.84 1547.42 Q1773.6 1547.05 1771.19 1546.31 L1771.19 1541.61 Q1773.27 1542.74 1775.5 1543.3 Q1777.72 1543.86 1780.2 1543.86 Q1784.2 1543.86 1786.54 1541.75 Q1788.88 1539.64 1788.88 1536.03 Q1788.88 1532.42 1786.54 1530.31 Q1784.2 1528.21 1780.2 1528.21 Q1778.32 1528.21 1776.45 1528.62 Q1774.59 1529.04 1772.65 1529.92 L1772.65 1512.56 Z\" fill=\"#000000\" fill-rule=\"evenodd\" fill-opacity=\"1\" /><path clip-path=\"url(#clip960)\" d=\"M 0 0 M2250.21 1543.18 L2257.85 1543.18 L2257.85 1516.82 L2249.54 1518.49 L2249.54 1514.23 L2257.8 1512.56 L2262.48 1512.56 L2262.48 1543.18 L2270.11 1543.18 L2270.11 1547.12 L2250.21 1547.12 L2250.21 1543.18 Z\" fill=\"#000000\" fill-rule=\"evenodd\" fill-opacity=\"1\" /><path clip-path=\"url(#clip960)\" d=\"M 0 0 M2289.56 1515.64 Q2285.95 1515.64 2284.12 1519.2 Q2282.31 1522.75 2282.31 1529.87 Q2282.31 1536.98 2284.12 1540.55 Q2285.95 1544.09 2289.56 1544.09 Q2293.19 1544.09 2295 1540.55 Q2296.83 1536.98 2296.83 1529.87 Q2296.83 1522.75 2295 1519.2 Q2293.19 1515.64 2289.56 1515.64 M2289.56 1511.93 Q2295.37 1511.93 2298.42 1516.54 Q2301.5 1521.12 2301.5 1529.87 Q2301.5 1538.6 2298.42 1543.21 Q2295.37 1547.79 2289.56 1547.79 Q2283.75 1547.79 2280.67 1543.21 Q2277.61 1538.6 2277.61 1529.87 Q2277.61 1521.12 2280.67 1516.54 Q2283.75 1511.93 2289.56 1511.93 Z\" fill=\"#000000\" fill-rule=\"evenodd\" fill-opacity=\"1\" /><path clip-path=\"url(#clip960)\" d=\"M 0 0 M2319.72 1515.64 Q2316.11 1515.64 2314.28 1519.2 Q2312.48 1522.75 2312.48 1529.87 Q2312.48 1536.98 2314.28 1540.55 Q2316.11 1544.09 2319.72 1544.09 Q2323.35 1544.09 2325.16 1540.55 Q2326.99 1536.98 2326.99 1529.87 Q2326.99 1522.75 2325.16 1519.2 Q2323.35 1515.64 2319.72 1515.64 M2319.72 1511.93 Q2325.53 1511.93 2328.59 1516.54 Q2331.67 1521.12 2331.67 1529.87 Q2331.67 1538.6 2328.59 1543.21 Q2325.53 1547.79 2319.72 1547.79 Q2313.91 1547.79 2310.83 1543.21 Q2307.78 1538.6 2307.78 1529.87 Q2307.78 1521.12 2310.83 1516.54 Q2313.91 1511.93 2319.72 1511.93 Z\" fill=\"#000000\" fill-rule=\"evenodd\" fill-opacity=\"1\" /><polyline clip-path=\"url(#clip962)\" style=\"stroke:#000000; stroke-width:2; stroke-opacity:0.1; fill:none\" points=\"\n",
       "  156.598,1445.72 2352.76,1445.72 \n",
       "  \"/>\n",
       "<polyline clip-path=\"url(#clip962)\" style=\"stroke:#000000; stroke-width:2; stroke-opacity:0.1; fill:none\" points=\"\n",
       "  156.598,1147.19 2352.76,1147.19 \n",
       "  \"/>\n",
       "<polyline clip-path=\"url(#clip962)\" style=\"stroke:#000000; stroke-width:2; stroke-opacity:0.1; fill:none\" points=\"\n",
       "  156.598,848.655 2352.76,848.655 \n",
       "  \"/>\n",
       "<polyline clip-path=\"url(#clip962)\" style=\"stroke:#000000; stroke-width:2; stroke-opacity:0.1; fill:none\" points=\"\n",
       "  156.598,550.125 2352.76,550.125 \n",
       "  \"/>\n",
       "<polyline clip-path=\"url(#clip962)\" style=\"stroke:#000000; stroke-width:2; stroke-opacity:0.1; fill:none\" points=\"\n",
       "  156.598,251.595 2352.76,251.595 \n",
       "  \"/>\n",
       "<polyline clip-path=\"url(#clip960)\" style=\"stroke:#000000; stroke-width:4; stroke-opacity:1; fill:none\" points=\"\n",
       "  156.598,1486.45 156.598,47.2441 \n",
       "  \"/>\n",
       "<polyline clip-path=\"url(#clip960)\" style=\"stroke:#000000; stroke-width:4; stroke-opacity:1; fill:none\" points=\"\n",
       "  156.598,1445.72 182.952,1445.72 \n",
       "  \"/>\n",
       "<polyline clip-path=\"url(#clip960)\" style=\"stroke:#000000; stroke-width:4; stroke-opacity:1; fill:none\" points=\"\n",
       "  156.598,1147.19 182.952,1147.19 \n",
       "  \"/>\n",
       "<polyline clip-path=\"url(#clip960)\" style=\"stroke:#000000; stroke-width:4; stroke-opacity:1; fill:none\" points=\"\n",
       "  156.598,848.655 182.952,848.655 \n",
       "  \"/>\n",
       "<polyline clip-path=\"url(#clip960)\" style=\"stroke:#000000; stroke-width:4; stroke-opacity:1; fill:none\" points=\"\n",
       "  156.598,550.125 182.952,550.125 \n",
       "  \"/>\n",
       "<polyline clip-path=\"url(#clip960)\" style=\"stroke:#000000; stroke-width:4; stroke-opacity:1; fill:none\" points=\"\n",
       "  156.598,251.595 182.952,251.595 \n",
       "  \"/>\n",
       "<path clip-path=\"url(#clip960)\" d=\"M 0 0 M63.4226 1431.51 Q59.8115 1431.51 57.9828 1435.08 Q56.1773 1438.62 56.1773 1445.75 Q56.1773 1452.86 57.9828 1456.42 Q59.8115 1459.96 63.4226 1459.96 Q67.0569 1459.96 68.8624 1456.42 Q70.6911 1452.86 70.6911 1445.75 Q70.6911 1438.62 68.8624 1435.08 Q67.0569 1431.51 63.4226 1431.51 M63.4226 1427.81 Q69.2328 1427.81 72.2883 1432.42 Q75.367 1437 75.367 1445.75 Q75.367 1454.48 72.2883 1459.08 Q69.2328 1463.67 63.4226 1463.67 Q57.6125 1463.67 54.5338 1459.08 Q51.4782 1454.48 51.4782 1445.75 Q51.4782 1437 54.5338 1432.42 Q57.6125 1427.81 63.4226 1427.81 Z\" fill=\"#000000\" fill-rule=\"evenodd\" fill-opacity=\"1\" /><path clip-path=\"url(#clip960)\" d=\"M 0 0 M83.5845 1457.12 L88.4688 1457.12 L88.4688 1463 L83.5845 1463 L83.5845 1457.12 Z\" fill=\"#000000\" fill-rule=\"evenodd\" fill-opacity=\"1\" /><path clip-path=\"url(#clip960)\" d=\"M 0 0 M108.654 1431.51 Q105.043 1431.51 103.214 1435.08 Q101.409 1438.62 101.409 1445.75 Q101.409 1452.86 103.214 1456.42 Q105.043 1459.96 108.654 1459.96 Q112.288 1459.96 114.094 1456.42 Q115.922 1452.86 115.922 1445.75 Q115.922 1438.62 114.094 1435.08 Q112.288 1431.51 108.654 1431.51 M108.654 1427.81 Q114.464 1427.81 117.52 1432.42 Q120.598 1437 120.598 1445.75 Q120.598 1454.48 117.52 1459.08 Q114.464 1463.67 108.654 1463.67 Q102.844 1463.67 99.765 1459.08 Q96.7095 1454.48 96.7095 1445.75 Q96.7095 1437 99.765 1432.42 Q102.844 1427.81 108.654 1427.81 Z\" fill=\"#000000\" fill-rule=\"evenodd\" fill-opacity=\"1\" /><path clip-path=\"url(#clip960)\" d=\"M 0 0 M64.6495 1132.98 Q61.0384 1132.98 59.2097 1136.55 Q57.4041 1140.09 57.4041 1147.22 Q57.4041 1154.33 59.2097 1157.89 Q61.0384 1161.43 64.6495 1161.43 Q68.2837 1161.43 70.0892 1157.89 Q71.9179 1154.33 71.9179 1147.22 Q71.9179 1140.09 70.0892 1136.55 Q68.2837 1132.98 64.6495 1132.98 M64.6495 1129.28 Q70.4596 1129.28 73.5152 1133.89 Q76.5938 1138.47 76.5938 1147.22 Q76.5938 1155.95 73.5152 1160.55 Q70.4596 1165.14 64.6495 1165.14 Q58.8393 1165.14 55.7606 1160.55 Q52.7051 1155.95 52.7051 1147.22 Q52.7051 1138.47 55.7606 1133.89 Q58.8393 1129.28 64.6495 1129.28 Z\" fill=\"#000000\" fill-rule=\"evenodd\" fill-opacity=\"1\" /><path clip-path=\"url(#clip960)\" d=\"M 0 0 M84.8114 1158.59 L89.6956 1158.59 L89.6956 1164.47 L84.8114 1164.47 L84.8114 1158.59 Z\" fill=\"#000000\" fill-rule=\"evenodd\" fill-opacity=\"1\" /><path clip-path=\"url(#clip960)\" d=\"M 0 0 M100.691 1160.53 L108.33 1160.53 L108.33 1134.16 L100.02 1135.83 L100.02 1131.57 L108.283 1129.91 L112.959 1129.91 L112.959 1160.53 L120.598 1160.53 L120.598 1164.47 L100.691 1164.47 L100.691 1160.53 Z\" fill=\"#000000\" fill-rule=\"evenodd\" fill-opacity=\"1\" /><path clip-path=\"url(#clip960)\" d=\"M 0 0 M65.0198 834.454 Q61.4087 834.454 59.58 838.019 Q57.7745 841.56 57.7745 848.69 Q57.7745 855.796 59.58 859.361 Q61.4087 862.903 65.0198 862.903 Q68.6541 862.903 70.4596 859.361 Q72.2883 855.796 72.2883 848.69 Q72.2883 841.56 70.4596 838.019 Q68.6541 834.454 65.0198 834.454 M65.0198 830.75 Q70.83 830.75 73.8855 835.357 Q76.9642 839.94 76.9642 848.69 Q76.9642 857.417 73.8855 862.023 Q70.83 866.606 65.0198 866.606 Q59.2097 866.606 56.131 862.023 Q53.0754 857.417 53.0754 848.69 Q53.0754 839.94 56.131 835.357 Q59.2097 830.75 65.0198 830.75 Z\" fill=\"#000000\" fill-rule=\"evenodd\" fill-opacity=\"1\" /><path clip-path=\"url(#clip960)\" d=\"M 0 0 M85.1818 860.056 L90.066 860.056 L90.066 865.935 L85.1818 865.935 L85.1818 860.056 Z\" fill=\"#000000\" fill-rule=\"evenodd\" fill-opacity=\"1\" /><path clip-path=\"url(#clip960)\" d=\"M 0 0 M104.279 862 L120.598 862 L120.598 865.935 L98.6539 865.935 L98.6539 862 Q101.316 859.245 105.899 854.616 Q110.506 849.963 111.686 848.62 Q113.932 846.097 114.811 844.361 Q115.714 842.602 115.714 840.912 Q115.714 838.157 113.77 836.421 Q111.848 834.685 108.746 834.685 Q106.547 834.685 104.094 835.449 Q101.663 836.213 98.8854 837.764 L98.8854 833.042 Q101.709 831.908 104.163 831.329 Q106.617 830.75 108.654 830.75 Q114.024 830.75 117.219 833.435 Q120.413 836.12 120.413 840.611 Q120.413 842.741 119.603 844.662 Q118.816 846.56 116.709 849.153 Q116.131 849.824 113.029 853.042 Q109.927 856.236 104.279 862 Z\" fill=\"#000000\" fill-rule=\"evenodd\" fill-opacity=\"1\" /><path clip-path=\"url(#clip960)\" d=\"M 0 0 M64.0708 535.924 Q60.4597 535.924 58.631 539.488 Q56.8254 543.03 56.8254 550.16 Q56.8254 557.266 58.631 560.831 Q60.4597 564.372 64.0708 564.372 Q67.705 564.372 69.5105 560.831 Q71.3392 557.266 71.3392 550.16 Q71.3392 543.03 69.5105 539.488 Q67.705 535.924 64.0708 535.924 M64.0708 532.22 Q69.8809 532.22 72.9365 536.826 Q76.0151 541.41 76.0151 550.16 Q76.0151 558.886 72.9365 563.493 Q69.8809 568.076 64.0708 568.076 Q58.2606 568.076 55.1819 563.493 Q52.1264 558.886 52.1264 550.16 Q52.1264 541.41 55.1819 536.826 Q58.2606 532.22 64.0708 532.22 Z\" fill=\"#000000\" fill-rule=\"evenodd\" fill-opacity=\"1\" /><path clip-path=\"url(#clip960)\" d=\"M 0 0 M84.2327 561.525 L89.1169 561.525 L89.1169 567.405 L84.2327 567.405 L84.2327 561.525 Z\" fill=\"#000000\" fill-rule=\"evenodd\" fill-opacity=\"1\" /><path clip-path=\"url(#clip960)\" d=\"M 0 0 M113.469 548.771 Q116.825 549.488 118.7 551.757 Q120.598 554.025 120.598 557.359 Q120.598 562.474 117.08 565.275 Q113.561 568.076 107.08 568.076 Q104.904 568.076 102.589 567.636 Q100.297 567.22 97.8437 566.363 L97.8437 561.849 Q99.7882 562.984 102.103 563.562 Q104.418 564.141 106.941 564.141 Q111.339 564.141 113.631 562.405 Q115.945 560.669 115.945 557.359 Q115.945 554.303 113.793 552.59 Q111.663 550.854 107.844 550.854 L103.816 550.854 L103.816 547.011 L108.029 547.011 Q111.478 547.011 113.307 545.646 Q115.135 544.257 115.135 541.664 Q115.135 539.002 113.237 537.59 Q111.362 536.155 107.844 536.155 Q105.922 536.155 103.723 536.572 Q101.524 536.988 98.8854 537.868 L98.8854 533.701 Q101.547 532.961 103.862 532.59 Q106.2 532.22 108.26 532.22 Q113.584 532.22 116.686 534.65 Q119.788 537.058 119.788 541.178 Q119.788 544.048 118.145 546.039 Q116.501 548.007 113.469 548.771 Z\" fill=\"#000000\" fill-rule=\"evenodd\" fill-opacity=\"1\" /><path clip-path=\"url(#clip960)\" d=\"M 0 0 M62.9365 237.393 Q59.3254 237.393 57.4967 240.958 Q55.6912 244.5 55.6912 251.629 Q55.6912 258.736 57.4967 262.301 Q59.3254 265.842 62.9365 265.842 Q66.5707 265.842 68.3763 262.301 Q70.205 258.736 70.205 251.629 Q70.205 244.5 68.3763 240.958 Q66.5707 237.393 62.9365 237.393 M62.9365 233.69 Q68.7467 233.69 71.8022 238.296 Q74.8809 242.879 74.8809 251.629 Q74.8809 260.356 71.8022 264.963 Q68.7467 269.546 62.9365 269.546 Q57.1264 269.546 54.0477 264.963 Q50.9921 260.356 50.9921 251.629 Q50.9921 242.879 54.0477 238.296 Q57.1264 233.69 62.9365 233.69 Z\" fill=\"#000000\" fill-rule=\"evenodd\" fill-opacity=\"1\" /><path clip-path=\"url(#clip960)\" d=\"M 0 0 M83.0984 262.995 L87.9827 262.995 L87.9827 268.875 L83.0984 268.875 L83.0984 262.995 Z\" fill=\"#000000\" fill-rule=\"evenodd\" fill-opacity=\"1\" /><path clip-path=\"url(#clip960)\" d=\"M 0 0 M111.015 238.389 L99.2095 256.838 L111.015 256.838 L111.015 238.389 M109.788 234.315 L115.668 234.315 L115.668 256.838 L120.598 256.838 L120.598 260.726 L115.668 260.726 L115.668 268.875 L111.015 268.875 L111.015 260.726 L95.4132 260.726 L95.4132 256.213 L109.788 234.315 Z\" fill=\"#000000\" fill-rule=\"evenodd\" fill-opacity=\"1\" /><polyline clip-path=\"url(#clip962)\" style=\"stroke:#009af9; stroke-width:4; stroke-opacity:1; fill:none\" points=\"\n",
       "  218.754,87.9763 239.681,248.011 260.609,372.381 281.537,469.063 302.465,544.322 323.392,602.987 344.32,648.774 365.248,684.546 386.176,712.515 407.103,734.397 \n",
       "  428.031,751.526 448.959,764.939 469.887,775.446 490.814,783.678 511.742,790.128 532.67,795.184 553.598,799.147 574.525,802.254 595.453,804.689 616.381,806.599 \n",
       "  637.309,808.096 658.236,809.27 679.164,810.19 700.092,810.912 721.02,811.478 741.947,811.922 762.875,812.27 783.803,812.543 804.731,812.757 825.658,812.924 \n",
       "  846.586,813.056 867.514,813.159 888.442,813.24 909.369,813.303 930.297,813.353 951.225,813.392 972.152,813.423 993.08,813.447 1014.01,813.466 1034.94,813.48 \n",
       "  1055.86,813.492 1076.79,813.501 1097.72,813.508 1118.65,813.514 1139.57,813.519 1160.5,813.522 1181.43,813.525 1202.36,813.527 1223.29,813.53 1244.21,813.531 \n",
       "  1265.14,813.533 1286.07,813.535 1307,813.537 1327.92,813.539 1348.85,813.541 1369.78,813.545 1390.71,813.549 1411.64,813.554 1432.56,813.561 1453.49,813.57 \n",
       "  1474.42,813.582 1495.35,813.598 1516.27,813.62 1537.2,813.648 1558.13,813.685 1579.06,813.735 1599.98,813.801 1620.91,813.889 1641.84,814.006 1662.77,814.161 \n",
       "  1683.7,814.367 1704.62,814.641 1725.55,815.005 1746.48,815.488 1767.41,816.131 1788.33,816.985 1809.26,818.122 1830.19,819.633 1851.12,821.645 1872.05,824.324 \n",
       "  1892.97,827.894 1913.9,832.658 1934.83,839.025 1955.76,847.55 1976.68,858.996 1997.61,874.42 2018.54,895.304 2039.47,923.773 2060.4,962.937 2081.32,1017.51 \n",
       "  2102.25,1094.93 2123.18,1207.68 2144.11,1378.48 2165.03,1445.72 2185.96,1445.72 2206.89,1445.72 2227.82,1445.72 2248.75,1445.72 2269.67,1445.72 2290.6,1445.72 \n",
       "  \n",
       "  \"/>\n",
       "<path clip-path=\"url(#clip960)\" d=\"\n",
       "M1983.1 216.178 L2279.55 216.178 L2279.55 95.2176 L1983.1 95.2176  Z\n",
       "  \" fill=\"#ffffff\" fill-rule=\"evenodd\" fill-opacity=\"1\"/>\n",
       "<polyline clip-path=\"url(#clip960)\" style=\"stroke:#000000; stroke-width:4; stroke-opacity:1; fill:none\" points=\"\n",
       "  1983.1,216.178 2279.55,216.178 2279.55,95.2176 1983.1,95.2176 1983.1,216.178 \n",
       "  \"/>\n",
       "<polyline clip-path=\"url(#clip960)\" style=\"stroke:#009af9; stroke-width:4; stroke-opacity:1; fill:none\" points=\"\n",
       "  2007.5,155.698 2153.92,155.698 \n",
       "  \"/>\n",
       "<path clip-path=\"url(#clip960)\" d=\"M 0 0 M2192.16 175.385 Q2190.35 180.015 2188.64 181.427 Q2186.93 182.839 2184.06 182.839 L2180.65 182.839 L2180.65 179.274 L2183.15 179.274 Q2184.91 179.274 2185.89 178.44 Q2186.86 177.607 2188.04 174.505 L2188.8 172.561 L2178.32 147.052 L2182.83 147.052 L2190.93 167.329 L2199.03 147.052 L2203.55 147.052 L2192.16 175.385 Z\" fill=\"#000000\" fill-rule=\"evenodd\" fill-opacity=\"1\" /><path clip-path=\"url(#clip960)\" d=\"M 0 0 M2210.84 169.042 L2218.48 169.042 L2218.48 142.677 L2210.17 144.343 L2210.17 140.084 L2218.43 138.418 L2223.11 138.418 L2223.11 169.042 L2230.75 169.042 L2230.75 172.978 L2210.84 172.978 L2210.84 169.042 Z\" fill=\"#000000\" fill-rule=\"evenodd\" fill-opacity=\"1\" /></svg>\n"
      ]
     },
     "execution_count": 811,
     "metadata": {},
     "output_type": "execute_result"
    }
   ],
   "source": [
    "plot(sol.minimizer)"
   ]
  },
  {
   "cell_type": "code",
   "execution_count": 812,
   "id": "d2a608d3-86c8-417d-b0c4-1a9d819883fa",
   "metadata": {},
   "outputs": [
    {
     "name": "stdout",
     "output_type": "stream",
     "text": [
      "  1.544747 seconds (1.77 M allocations: 100.529 MiB, 1.81% gc time, 48.46% compilation time)\n"
     ]
    },
    {
     "data": {
      "text/plain": [
       " * Status: success\n",
       "\n",
       " * Candidate solution\n",
       "    Final objective value:     -4.778222e+01\n",
       "\n",
       " * Found with\n",
       "    Algorithm:     Fminbox with L-BFGS\n",
       "\n",
       " * Convergence measures\n",
       "    |x - x'|               = 1.84e-06 ≰ 0.0e+00\n",
       "    |x - x'|/|x'|          = 8.15e-07 ≰ 0.0e+00\n",
       "    |f(x) - f(x')|         = 0.00e+00 ≤ 0.0e+00\n",
       "    |f(x) - f(x')|/|f(x')| = 0.00e+00 ≤ 0.0e+00\n",
       "    |g(x)|                 = 6.94e-09 ≤ 1.0e-08\n",
       "\n",
       " * Work counters\n",
       "    Seconds run:   1  (vs limit Inf)\n",
       "    Iterations:    3\n",
       "    f(x) calls:    354\n",
       "    ∇f(x) calls:   354\n"
      ]
     },
     "execution_count": 812,
     "metadata": {},
     "output_type": "execute_result"
    }
   ],
   "source": [
    "@time sol = optimize(u->-objective(u; p=p, add_last_term=true), lower, upper, s0, autodiff=:forward)"
   ]
  },
  {
   "cell_type": "code",
   "execution_count": 813,
   "id": "7362a8ca-3576-4e60-9df3-9140a1ac4d5b",
   "metadata": {},
   "outputs": [
    {
     "data": {
      "image/svg+xml": [
       "<?xml version=\"1.0\" encoding=\"utf-8\"?>\n",
       "<svg xmlns=\"http://www.w3.org/2000/svg\" xmlns:xlink=\"http://www.w3.org/1999/xlink\" width=\"600\" height=\"400\" viewBox=\"0 0 2400 1600\">\n",
       "<defs>\n",
       "  <clipPath id=\"clip000\">\n",
       "    <rect x=\"0\" y=\"0\" width=\"2400\" height=\"1600\"/>\n",
       "  </clipPath>\n",
       "</defs>\n",
       "<path clip-path=\"url(#clip000)\" d=\"\n",
       "M0 1600 L2400 1600 L2400 0 L0 0  Z\n",
       "  \" fill=\"#ffffff\" fill-rule=\"evenodd\" fill-opacity=\"1\"/>\n",
       "<defs>\n",
       "  <clipPath id=\"clip001\">\n",
       "    <rect x=\"480\" y=\"0\" width=\"1681\" height=\"1600\"/>\n",
       "  </clipPath>\n",
       "</defs>\n",
       "<path clip-path=\"url(#clip000)\" d=\"\n",
       "M186.274 1486.45 L2352.76 1486.45 L2352.76 47.2441 L186.274 47.2441  Z\n",
       "  \" fill=\"#ffffff\" fill-rule=\"evenodd\" fill-opacity=\"1\"/>\n",
       "<defs>\n",
       "  <clipPath id=\"clip002\">\n",
       "    <rect x=\"186\" y=\"47\" width=\"2167\" height=\"1440\"/>\n",
       "  </clipPath>\n",
       "</defs>\n",
       "<polyline clip-path=\"url(#clip002)\" style=\"stroke:#000000; stroke-width:2; stroke-opacity:0.1; fill:none\" points=\"\n",
       "  226.945,1486.45 226.945,47.2441 \n",
       "  \"/>\n",
       "<polyline clip-path=\"url(#clip002)\" style=\"stroke:#000000; stroke-width:2; stroke-opacity:0.1; fill:none\" points=\"\n",
       "  743.069,1486.45 743.069,47.2441 \n",
       "  \"/>\n",
       "<polyline clip-path=\"url(#clip002)\" style=\"stroke:#000000; stroke-width:2; stroke-opacity:0.1; fill:none\" points=\"\n",
       "  1259.19,1486.45 1259.19,47.2441 \n",
       "  \"/>\n",
       "<polyline clip-path=\"url(#clip002)\" style=\"stroke:#000000; stroke-width:2; stroke-opacity:0.1; fill:none\" points=\"\n",
       "  1775.32,1486.45 1775.32,47.2441 \n",
       "  \"/>\n",
       "<polyline clip-path=\"url(#clip002)\" style=\"stroke:#000000; stroke-width:2; stroke-opacity:0.1; fill:none\" points=\"\n",
       "  2291.44,1486.45 2291.44,47.2441 \n",
       "  \"/>\n",
       "<polyline clip-path=\"url(#clip000)\" style=\"stroke:#000000; stroke-width:4; stroke-opacity:1; fill:none\" points=\"\n",
       "  186.274,1486.45 2352.76,1486.45 \n",
       "  \"/>\n",
       "<polyline clip-path=\"url(#clip000)\" style=\"stroke:#000000; stroke-width:4; stroke-opacity:1; fill:none\" points=\"\n",
       "  226.945,1486.45 226.945,1469.18 \n",
       "  \"/>\n",
       "<polyline clip-path=\"url(#clip000)\" style=\"stroke:#000000; stroke-width:4; stroke-opacity:1; fill:none\" points=\"\n",
       "  743.069,1486.45 743.069,1469.18 \n",
       "  \"/>\n",
       "<polyline clip-path=\"url(#clip000)\" style=\"stroke:#000000; stroke-width:4; stroke-opacity:1; fill:none\" points=\"\n",
       "  1259.19,1486.45 1259.19,1469.18 \n",
       "  \"/>\n",
       "<polyline clip-path=\"url(#clip000)\" style=\"stroke:#000000; stroke-width:4; stroke-opacity:1; fill:none\" points=\"\n",
       "  1775.32,1486.45 1775.32,1469.18 \n",
       "  \"/>\n",
       "<polyline clip-path=\"url(#clip000)\" style=\"stroke:#000000; stroke-width:4; stroke-opacity:1; fill:none\" points=\"\n",
       "  2291.44,1486.45 2291.44,1469.18 \n",
       "  \"/>\n",
       "<path clip-path=\"url(#clip000)\" d=\"M 0 0 M226.945 1515.64 Q223.333 1515.64 221.505 1519.2 Q219.699 1522.75 219.699 1529.87 Q219.699 1536.98 221.505 1540.55 Q223.333 1544.09 226.945 1544.09 Q230.579 1544.09 232.384 1540.55 Q234.213 1536.98 234.213 1529.87 Q234.213 1522.75 232.384 1519.2 Q230.579 1515.64 226.945 1515.64 M226.945 1511.93 Q232.755 1511.93 235.81 1516.54 Q238.889 1521.12 238.889 1529.87 Q238.889 1538.6 235.81 1543.21 Q232.755 1547.79 226.945 1547.79 Q221.134 1547.79 218.056 1543.21 Q215 1538.6 215 1529.87 Q215 1521.12 218.056 1516.54 Q221.134 1511.93 226.945 1511.93 Z\" fill=\"#000000\" fill-rule=\"evenodd\" fill-opacity=\"1\" /><path clip-path=\"url(#clip000)\" d=\"M 0 0 M722.339 1543.18 L738.659 1543.18 L738.659 1547.12 L716.714 1547.12 L716.714 1543.18 Q719.377 1540.43 723.96 1535.8 Q728.566 1531.15 729.747 1529.81 Q731.992 1527.28 732.872 1525.55 Q733.775 1523.79 733.775 1522.1 Q733.775 1519.34 731.83 1517.61 Q729.909 1515.87 726.807 1515.87 Q724.608 1515.87 722.154 1516.63 Q719.724 1517.4 716.946 1518.95 L716.946 1514.23 Q719.77 1513.09 722.224 1512.51 Q724.677 1511.93 726.714 1511.93 Q732.085 1511.93 735.279 1514.62 Q738.474 1517.31 738.474 1521.8 Q738.474 1523.93 737.663 1525.85 Q736.876 1527.74 734.77 1530.34 Q734.191 1531.01 731.089 1534.23 Q727.988 1537.42 722.339 1543.18 Z\" fill=\"#000000\" fill-rule=\"evenodd\" fill-opacity=\"1\" /><path clip-path=\"url(#clip000)\" d=\"M 0 0 M748.52 1512.56 L766.876 1512.56 L766.876 1516.5 L752.802 1516.5 L752.802 1524.97 Q753.821 1524.62 754.839 1524.46 Q755.858 1524.27 756.876 1524.27 Q762.663 1524.27 766.043 1527.44 Q769.423 1530.62 769.423 1536.03 Q769.423 1541.61 765.95 1544.71 Q762.478 1547.79 756.159 1547.79 Q753.983 1547.79 751.714 1547.42 Q749.469 1547.05 747.062 1546.31 L747.062 1541.61 Q749.145 1542.74 751.367 1543.3 Q753.589 1543.86 756.066 1543.86 Q760.071 1543.86 762.409 1541.75 Q764.747 1539.64 764.747 1536.03 Q764.747 1532.42 762.409 1530.31 Q760.071 1528.21 756.066 1528.21 Q754.191 1528.21 752.316 1528.62 Q750.464 1529.04 748.52 1529.92 L748.52 1512.56 Z\" fill=\"#000000\" fill-rule=\"evenodd\" fill-opacity=\"1\" /><path clip-path=\"url(#clip000)\" d=\"M 0 0 M1233.89 1512.56 L1252.25 1512.56 L1252.25 1516.5 L1238.17 1516.5 L1238.17 1524.97 Q1239.19 1524.62 1240.21 1524.46 Q1241.23 1524.27 1242.25 1524.27 Q1248.04 1524.27 1251.41 1527.44 Q1254.79 1530.62 1254.79 1536.03 Q1254.79 1541.61 1251.32 1544.71 Q1247.85 1547.79 1241.53 1547.79 Q1239.35 1547.79 1237.09 1547.42 Q1234.84 1547.05 1232.43 1546.31 L1232.43 1541.61 Q1234.52 1542.74 1236.74 1543.3 Q1238.96 1543.86 1241.44 1543.86 Q1245.44 1543.86 1247.78 1541.75 Q1250.12 1539.64 1250.12 1536.03 Q1250.12 1532.42 1247.78 1530.31 Q1245.44 1528.21 1241.44 1528.21 Q1239.56 1528.21 1237.69 1528.62 Q1235.84 1529.04 1233.89 1529.92 L1233.89 1512.56 Z\" fill=\"#000000\" fill-rule=\"evenodd\" fill-opacity=\"1\" /><path clip-path=\"url(#clip000)\" d=\"M 0 0 M1274.01 1515.64 Q1270.4 1515.64 1268.57 1519.2 Q1266.76 1522.75 1266.76 1529.87 Q1266.76 1536.98 1268.57 1540.55 Q1270.4 1544.09 1274.01 1544.09 Q1277.64 1544.09 1279.45 1540.55 Q1281.28 1536.98 1281.28 1529.87 Q1281.28 1522.75 1279.45 1519.2 Q1277.64 1515.64 1274.01 1515.64 M1274.01 1511.93 Q1279.82 1511.93 1282.87 1516.54 Q1285.95 1521.12 1285.95 1529.87 Q1285.95 1538.6 1282.87 1543.21 Q1279.82 1547.79 1274.01 1547.79 Q1268.2 1547.79 1265.12 1543.21 Q1262.06 1538.6 1262.06 1529.87 Q1262.06 1521.12 1265.12 1516.54 Q1268.2 1511.93 1274.01 1511.93 Z\" fill=\"#000000\" fill-rule=\"evenodd\" fill-opacity=\"1\" /><path clip-path=\"url(#clip000)\" d=\"M 0 0 M1749.17 1512.56 L1771.39 1512.56 L1771.39 1514.55 L1758.85 1547.12 L1753.96 1547.12 L1765.77 1516.5 L1749.17 1516.5 L1749.17 1512.56 Z\" fill=\"#000000\" fill-rule=\"evenodd\" fill-opacity=\"1\" /><path clip-path=\"url(#clip000)\" d=\"M 0 0 M1780.56 1512.56 L1798.92 1512.56 L1798.92 1516.5 L1784.84 1516.5 L1784.84 1524.97 Q1785.86 1524.62 1786.88 1524.46 Q1787.9 1524.27 1788.92 1524.27 Q1794.7 1524.27 1798.08 1527.44 Q1801.46 1530.62 1801.46 1536.03 Q1801.46 1541.61 1797.99 1544.71 Q1794.52 1547.79 1788.2 1547.79 Q1786.02 1547.79 1783.75 1547.42 Q1781.51 1547.05 1779.1 1546.31 L1779.1 1541.61 Q1781.18 1542.74 1783.41 1543.3 Q1785.63 1543.86 1788.11 1543.86 Q1792.11 1543.86 1794.45 1541.75 Q1796.79 1539.64 1796.79 1536.03 Q1796.79 1532.42 1794.45 1530.31 Q1792.11 1528.21 1788.11 1528.21 Q1786.23 1528.21 1784.36 1528.62 Q1782.5 1529.04 1780.56 1529.92 L1780.56 1512.56 Z\" fill=\"#000000\" fill-rule=\"evenodd\" fill-opacity=\"1\" /><path clip-path=\"url(#clip000)\" d=\"M 0 0 M2251.05 1543.18 L2258.69 1543.18 L2258.69 1516.82 L2250.38 1518.49 L2250.38 1514.23 L2258.64 1512.56 L2263.32 1512.56 L2263.32 1543.18 L2270.95 1543.18 L2270.95 1547.12 L2251.05 1547.12 L2251.05 1543.18 Z\" fill=\"#000000\" fill-rule=\"evenodd\" fill-opacity=\"1\" /><path clip-path=\"url(#clip000)\" d=\"M 0 0 M2290.4 1515.64 Q2286.79 1515.64 2284.96 1519.2 Q2283.15 1522.75 2283.15 1529.87 Q2283.15 1536.98 2284.96 1540.55 Q2286.79 1544.09 2290.4 1544.09 Q2294.03 1544.09 2295.84 1540.55 Q2297.67 1536.98 2297.67 1529.87 Q2297.67 1522.75 2295.84 1519.2 Q2294.03 1515.64 2290.4 1515.64 M2290.4 1511.93 Q2296.21 1511.93 2299.26 1516.54 Q2302.34 1521.12 2302.34 1529.87 Q2302.34 1538.6 2299.26 1543.21 Q2296.21 1547.79 2290.4 1547.79 Q2284.59 1547.79 2281.51 1543.21 Q2278.45 1538.6 2278.45 1529.87 Q2278.45 1521.12 2281.51 1516.54 Q2284.59 1511.93 2290.4 1511.93 Z\" fill=\"#000000\" fill-rule=\"evenodd\" fill-opacity=\"1\" /><path clip-path=\"url(#clip000)\" d=\"M 0 0 M2320.56 1515.64 Q2316.95 1515.64 2315.12 1519.2 Q2313.32 1522.75 2313.32 1529.87 Q2313.32 1536.98 2315.12 1540.55 Q2316.95 1544.09 2320.56 1544.09 Q2324.19 1544.09 2326 1540.55 Q2327.83 1536.98 2327.83 1529.87 Q2327.83 1522.75 2326 1519.2 Q2324.19 1515.64 2320.56 1515.64 M2320.56 1511.93 Q2326.37 1511.93 2329.43 1516.54 Q2332.5 1521.12 2332.5 1529.87 Q2332.5 1538.6 2329.43 1543.21 Q2326.37 1547.79 2320.56 1547.79 Q2314.75 1547.79 2311.67 1543.21 Q2308.62 1538.6 2308.62 1529.87 Q2308.62 1521.12 2311.67 1516.54 Q2314.75 1511.93 2320.56 1511.93 Z\" fill=\"#000000\" fill-rule=\"evenodd\" fill-opacity=\"1\" /><polyline clip-path=\"url(#clip002)\" style=\"stroke:#000000; stroke-width:2; stroke-opacity:0.1; fill:none\" points=\"\n",
       "  186.274,1232.12 2352.76,1232.12 \n",
       "  \"/>\n",
       "<polyline clip-path=\"url(#clip002)\" style=\"stroke:#000000; stroke-width:2; stroke-opacity:0.1; fill:none\" points=\"\n",
       "  186.274,952.797 2352.76,952.797 \n",
       "  \"/>\n",
       "<polyline clip-path=\"url(#clip002)\" style=\"stroke:#000000; stroke-width:2; stroke-opacity:0.1; fill:none\" points=\"\n",
       "  186.274,673.476 2352.76,673.476 \n",
       "  \"/>\n",
       "<polyline clip-path=\"url(#clip002)\" style=\"stroke:#000000; stroke-width:2; stroke-opacity:0.1; fill:none\" points=\"\n",
       "  186.274,394.156 2352.76,394.156 \n",
       "  \"/>\n",
       "<polyline clip-path=\"url(#clip002)\" style=\"stroke:#000000; stroke-width:2; stroke-opacity:0.1; fill:none\" points=\"\n",
       "  186.274,114.835 2352.76,114.835 \n",
       "  \"/>\n",
       "<polyline clip-path=\"url(#clip000)\" style=\"stroke:#000000; stroke-width:4; stroke-opacity:1; fill:none\" points=\"\n",
       "  186.274,1486.45 186.274,47.2441 \n",
       "  \"/>\n",
       "<polyline clip-path=\"url(#clip000)\" style=\"stroke:#000000; stroke-width:4; stroke-opacity:1; fill:none\" points=\"\n",
       "  186.274,1232.12 212.272,1232.12 \n",
       "  \"/>\n",
       "<polyline clip-path=\"url(#clip000)\" style=\"stroke:#000000; stroke-width:4; stroke-opacity:1; fill:none\" points=\"\n",
       "  186.274,952.797 212.272,952.797 \n",
       "  \"/>\n",
       "<polyline clip-path=\"url(#clip000)\" style=\"stroke:#000000; stroke-width:4; stroke-opacity:1; fill:none\" points=\"\n",
       "  186.274,673.476 212.272,673.476 \n",
       "  \"/>\n",
       "<polyline clip-path=\"url(#clip000)\" style=\"stroke:#000000; stroke-width:4; stroke-opacity:1; fill:none\" points=\"\n",
       "  186.274,394.156 212.272,394.156 \n",
       "  \"/>\n",
       "<polyline clip-path=\"url(#clip000)\" style=\"stroke:#000000; stroke-width:4; stroke-opacity:1; fill:none\" points=\"\n",
       "  186.274,114.835 212.272,114.835 \n",
       "  \"/>\n",
       "<path clip-path=\"url(#clip000)\" d=\"M 0 0 M63.9319 1217.92 Q60.3208 1217.92 58.4921 1221.48 Q56.6865 1225.02 56.6865 1232.15 Q56.6865 1239.26 58.4921 1242.82 Q60.3208 1246.36 63.9319 1246.36 Q67.5661 1246.36 69.3717 1242.82 Q71.2004 1239.26 71.2004 1232.15 Q71.2004 1225.02 69.3717 1221.48 Q67.5661 1217.92 63.9319 1217.92 M63.9319 1214.21 Q69.742 1214.21 72.7976 1218.82 Q75.8763 1223.4 75.8763 1232.15 Q75.8763 1240.88 72.7976 1245.49 Q69.742 1250.07 63.9319 1250.07 Q58.1217 1250.07 55.043 1245.49 Q51.9875 1240.88 51.9875 1232.15 Q51.9875 1223.4 55.043 1218.82 Q58.1217 1214.21 63.9319 1214.21 Z\" fill=\"#000000\" fill-rule=\"evenodd\" fill-opacity=\"1\" /><path clip-path=\"url(#clip000)\" d=\"M 0 0 M84.0938 1243.52 L88.978 1243.52 L88.978 1249.4 L84.0938 1249.4 L84.0938 1243.52 Z\" fill=\"#000000\" fill-rule=\"evenodd\" fill-opacity=\"1\" /><path clip-path=\"url(#clip000)\" d=\"M 0 0 M103.191 1245.46 L119.51 1245.46 L119.51 1249.4 L97.566 1249.4 L97.566 1245.46 Q100.228 1242.71 104.811 1238.08 Q109.418 1233.43 110.598 1232.08 Q112.844 1229.56 113.723 1227.82 Q114.626 1226.06 114.626 1224.37 Q114.626 1221.62 112.682 1219.88 Q110.76 1218.15 107.658 1218.15 Q105.459 1218.15 103.006 1218.91 Q100.575 1219.68 97.7974 1221.23 L97.7974 1216.5 Q100.621 1215.37 103.075 1214.79 Q105.529 1214.21 107.566 1214.21 Q112.936 1214.21 116.131 1216.9 Q119.325 1219.58 119.325 1224.07 Q119.325 1226.2 118.515 1228.12 Q117.728 1230.02 115.621 1232.61 Q115.043 1233.29 111.941 1236.5 Q108.839 1239.7 103.191 1245.46 Z\" fill=\"#000000\" fill-rule=\"evenodd\" fill-opacity=\"1\" /><path clip-path=\"url(#clip000)\" d=\"M 0 0 M129.371 1214.84 L147.728 1214.84 L147.728 1218.77 L133.654 1218.77 L133.654 1227.24 Q134.672 1226.9 135.691 1226.74 Q136.709 1226.55 137.728 1226.55 Q143.515 1226.55 146.894 1229.72 Q150.274 1232.89 150.274 1238.31 Q150.274 1243.89 146.802 1246.99 Q143.33 1250.07 137.01 1250.07 Q134.834 1250.07 132.566 1249.7 Q130.32 1249.33 127.913 1248.59 L127.913 1243.89 Q129.996 1245.02 132.219 1245.58 Q134.441 1246.13 136.918 1246.13 Q140.922 1246.13 143.26 1244.03 Q145.598 1241.92 145.598 1238.31 Q145.598 1234.7 143.26 1232.59 Q140.922 1230.49 136.918 1230.49 Q135.043 1230.49 133.168 1230.9 Q131.316 1231.32 129.371 1232.2 L129.371 1214.84 Z\" fill=\"#000000\" fill-rule=\"evenodd\" fill-opacity=\"1\" /><path clip-path=\"url(#clip000)\" d=\"M 0 0 M62.9365 938.596 Q59.3254 938.596 57.4967 942.16 Q55.6912 945.702 55.6912 952.832 Q55.6912 959.938 57.4967 963.503 Q59.3254 967.044 62.9365 967.044 Q66.5707 967.044 68.3763 963.503 Q70.205 959.938 70.205 952.832 Q70.205 945.702 68.3763 942.16 Q66.5707 938.596 62.9365 938.596 M62.9365 934.892 Q68.7467 934.892 71.8022 939.498 Q74.8809 944.082 74.8809 952.832 Q74.8809 961.558 71.8022 966.165 Q68.7467 970.748 62.9365 970.748 Q57.1264 970.748 54.0477 966.165 Q50.9921 961.558 50.9921 952.832 Q50.9921 944.082 54.0477 939.498 Q57.1264 934.892 62.9365 934.892 Z\" fill=\"#000000\" fill-rule=\"evenodd\" fill-opacity=\"1\" /><path clip-path=\"url(#clip000)\" d=\"M 0 0 M83.0984 964.197 L87.9827 964.197 L87.9827 970.077 L83.0984 970.077 L83.0984 964.197 Z\" fill=\"#000000\" fill-rule=\"evenodd\" fill-opacity=\"1\" /><path clip-path=\"url(#clip000)\" d=\"M 0 0 M112.334 951.443 Q115.691 952.16 117.566 954.429 Q119.464 956.697 119.464 960.031 Q119.464 965.146 115.945 967.947 Q112.427 970.748 105.946 970.748 Q103.77 970.748 101.455 970.308 Q99.1632 969.892 96.7095 969.035 L96.7095 964.521 Q98.6539 965.656 100.969 966.234 Q103.284 966.813 105.807 966.813 Q110.205 966.813 112.496 965.077 Q114.811 963.341 114.811 960.031 Q114.811 956.975 112.658 955.262 Q110.529 953.526 106.709 953.526 L102.682 953.526 L102.682 949.683 L106.895 949.683 Q110.344 949.683 112.172 948.318 Q114.001 946.929 114.001 944.336 Q114.001 941.674 112.103 940.262 Q110.228 938.827 106.709 938.827 Q104.788 938.827 102.589 939.244 Q100.39 939.66 97.7511 940.54 L97.7511 936.373 Q100.413 935.633 102.728 935.262 Q105.066 934.892 107.126 934.892 Q112.45 934.892 115.552 937.322 Q118.654 939.73 118.654 943.85 Q118.654 946.72 117.01 948.711 Q115.367 950.679 112.334 951.443 Z\" fill=\"#000000\" fill-rule=\"evenodd\" fill-opacity=\"1\" /><path clip-path=\"url(#clip000)\" d=\"M 0 0 M138.33 938.596 Q134.719 938.596 132.89 942.16 Q131.084 945.702 131.084 952.832 Q131.084 959.938 132.89 963.503 Q134.719 967.044 138.33 967.044 Q141.964 967.044 143.769 963.503 Q145.598 959.938 145.598 952.832 Q145.598 945.702 143.769 942.16 Q141.964 938.596 138.33 938.596 M138.33 934.892 Q144.14 934.892 147.195 939.498 Q150.274 944.082 150.274 952.832 Q150.274 961.558 147.195 966.165 Q144.14 970.748 138.33 970.748 Q132.519 970.748 129.441 966.165 Q126.385 961.558 126.385 952.832 Q126.385 944.082 129.441 939.498 Q132.519 934.892 138.33 934.892 Z\" fill=\"#000000\" fill-rule=\"evenodd\" fill-opacity=\"1\" /><path clip-path=\"url(#clip000)\" d=\"M 0 0 M63.9319 659.275 Q60.3208 659.275 58.4921 662.84 Q56.6865 666.381 56.6865 673.511 Q56.6865 680.617 58.4921 684.182 Q60.3208 687.724 63.9319 687.724 Q67.5661 687.724 69.3717 684.182 Q71.2004 680.617 71.2004 673.511 Q71.2004 666.381 69.3717 662.84 Q67.5661 659.275 63.9319 659.275 M63.9319 655.571 Q69.742 655.571 72.7976 660.178 Q75.8763 664.761 75.8763 673.511 Q75.8763 682.238 72.7976 686.844 Q69.742 691.428 63.9319 691.428 Q58.1217 691.428 55.043 686.844 Q51.9875 682.238 51.9875 673.511 Q51.9875 664.761 55.043 660.178 Q58.1217 655.571 63.9319 655.571 Z\" fill=\"#000000\" fill-rule=\"evenodd\" fill-opacity=\"1\" /><path clip-path=\"url(#clip000)\" d=\"M 0 0 M84.0938 684.877 L88.978 684.877 L88.978 690.756 L84.0938 690.756 L84.0938 684.877 Z\" fill=\"#000000\" fill-rule=\"evenodd\" fill-opacity=\"1\" /><path clip-path=\"url(#clip000)\" d=\"M 0 0 M113.33 672.122 Q116.686 672.84 118.561 675.108 Q120.459 677.377 120.459 680.71 Q120.459 685.826 116.941 688.627 Q113.422 691.428 106.941 691.428 Q104.765 691.428 102.45 690.988 Q100.159 690.571 97.7048 689.715 L97.7048 685.201 Q99.6493 686.335 101.964 686.914 Q104.279 687.492 106.802 687.492 Q111.2 687.492 113.492 685.756 Q115.807 684.02 115.807 680.71 Q115.807 677.655 113.654 675.942 Q111.524 674.205 107.705 674.205 L103.677 674.205 L103.677 670.363 L107.89 670.363 Q111.339 670.363 113.168 668.997 Q114.996 667.608 114.996 665.016 Q114.996 662.354 113.098 660.942 Q111.223 659.507 107.705 659.507 Q105.783 659.507 103.584 659.923 Q101.385 660.34 98.7465 661.219 L98.7465 657.053 Q101.409 656.312 103.723 655.942 Q106.061 655.571 108.121 655.571 Q113.445 655.571 116.547 658.002 Q119.649 660.409 119.649 664.53 Q119.649 667.4 118.006 669.391 Q116.362 671.358 113.33 672.122 Z\" fill=\"#000000\" fill-rule=\"evenodd\" fill-opacity=\"1\" /><path clip-path=\"url(#clip000)\" d=\"M 0 0 M129.371 656.196 L147.728 656.196 L147.728 660.131 L133.654 660.131 L133.654 668.604 Q134.672 668.256 135.691 668.094 Q136.709 667.909 137.728 667.909 Q143.515 667.909 146.894 671.081 Q150.274 674.252 150.274 679.668 Q150.274 685.247 146.802 688.349 Q143.33 691.428 137.01 691.428 Q134.834 691.428 132.566 691.057 Q130.32 690.687 127.913 689.946 L127.913 685.247 Q129.996 686.381 132.219 686.937 Q134.441 687.492 136.918 687.492 Q140.922 687.492 143.26 685.386 Q145.598 683.28 145.598 679.668 Q145.598 676.057 143.26 673.951 Q140.922 671.844 136.918 671.844 Q135.043 671.844 133.168 672.261 Q131.316 672.678 129.371 673.557 L129.371 656.196 Z\" fill=\"#000000\" fill-rule=\"evenodd\" fill-opacity=\"1\" /><path clip-path=\"url(#clip000)\" d=\"M 0 0 M62.9365 379.955 Q59.3254 379.955 57.4967 383.519 Q55.6912 387.061 55.6912 394.191 Q55.6912 401.297 57.4967 404.862 Q59.3254 408.403 62.9365 408.403 Q66.5707 408.403 68.3763 404.862 Q70.205 401.297 70.205 394.191 Q70.205 387.061 68.3763 383.519 Q66.5707 379.955 62.9365 379.955 M62.9365 376.251 Q68.7467 376.251 71.8022 380.857 Q74.8809 385.441 74.8809 394.191 Q74.8809 402.917 71.8022 407.524 Q68.7467 412.107 62.9365 412.107 Q57.1264 412.107 54.0477 407.524 Q50.9921 402.917 50.9921 394.191 Q50.9921 385.441 54.0477 380.857 Q57.1264 376.251 62.9365 376.251 Z\" fill=\"#000000\" fill-rule=\"evenodd\" fill-opacity=\"1\" /><path clip-path=\"url(#clip000)\" d=\"M 0 0 M83.0984 405.556 L87.9827 405.556 L87.9827 411.436 L83.0984 411.436 L83.0984 405.556 Z\" fill=\"#000000\" fill-rule=\"evenodd\" fill-opacity=\"1\" /><path clip-path=\"url(#clip000)\" d=\"M 0 0 M111.015 380.95 L99.2095 399.399 L111.015 399.399 L111.015 380.95 M109.788 376.876 L115.668 376.876 L115.668 399.399 L120.598 399.399 L120.598 403.288 L115.668 403.288 L115.668 411.436 L111.015 411.436 L111.015 403.288 L95.4132 403.288 L95.4132 398.774 L109.788 376.876 Z\" fill=\"#000000\" fill-rule=\"evenodd\" fill-opacity=\"1\" /><path clip-path=\"url(#clip000)\" d=\"M 0 0 M138.33 379.955 Q134.719 379.955 132.89 383.519 Q131.084 387.061 131.084 394.191 Q131.084 401.297 132.89 404.862 Q134.719 408.403 138.33 408.403 Q141.964 408.403 143.769 404.862 Q145.598 401.297 145.598 394.191 Q145.598 387.061 143.769 383.519 Q141.964 379.955 138.33 379.955 M138.33 376.251 Q144.14 376.251 147.195 380.857 Q150.274 385.441 150.274 394.191 Q150.274 402.917 147.195 407.524 Q144.14 412.107 138.33 412.107 Q132.519 412.107 129.441 407.524 Q126.385 402.917 126.385 394.191 Q126.385 385.441 129.441 380.857 Q132.519 376.251 138.33 376.251 Z\" fill=\"#000000\" fill-rule=\"evenodd\" fill-opacity=\"1\" /><path clip-path=\"url(#clip000)\" d=\"M 0 0 M63.9319 100.634 Q60.3208 100.634 58.4921 104.199 Q56.6865 107.74 56.6865 114.87 Q56.6865 121.977 58.4921 125.541 Q60.3208 129.083 63.9319 129.083 Q67.5661 129.083 69.3717 125.541 Q71.2004 121.977 71.2004 114.87 Q71.2004 107.74 69.3717 104.199 Q67.5661 100.634 63.9319 100.634 M63.9319 96.9304 Q69.742 96.9304 72.7976 101.537 Q75.8763 106.12 75.8763 114.87 Q75.8763 123.597 72.7976 128.203 Q69.742 132.787 63.9319 132.787 Q58.1217 132.787 55.043 128.203 Q51.9875 123.597 51.9875 114.87 Q51.9875 106.12 55.043 101.537 Q58.1217 96.9304 63.9319 96.9304 Z\" fill=\"#000000\" fill-rule=\"evenodd\" fill-opacity=\"1\" /><path clip-path=\"url(#clip000)\" d=\"M 0 0 M84.0938 126.236 L88.978 126.236 L88.978 132.115 L84.0938 132.115 L84.0938 126.236 Z\" fill=\"#000000\" fill-rule=\"evenodd\" fill-opacity=\"1\" /><path clip-path=\"url(#clip000)\" d=\"M 0 0 M112.01 101.629 L100.205 120.078 L112.01 120.078 L112.01 101.629 M110.783 97.5554 L116.663 97.5554 L116.663 120.078 L121.594 120.078 L121.594 123.967 L116.663 123.967 L116.663 132.115 L112.01 132.115 L112.01 123.967 L96.4085 123.967 L96.4085 119.453 L110.783 97.5554 Z\" fill=\"#000000\" fill-rule=\"evenodd\" fill-opacity=\"1\" /><path clip-path=\"url(#clip000)\" d=\"M 0 0 M129.371 97.5554 L147.728 97.5554 L147.728 101.491 L133.654 101.491 L133.654 109.963 Q134.672 109.615 135.691 109.453 Q136.709 109.268 137.728 109.268 Q143.515 109.268 146.894 112.44 Q150.274 115.611 150.274 121.027 Q150.274 126.606 146.802 129.708 Q143.33 132.787 137.01 132.787 Q134.834 132.787 132.566 132.416 Q130.32 132.046 127.913 131.305 L127.913 126.606 Q129.996 127.74 132.219 128.296 Q134.441 128.851 136.918 128.851 Q140.922 128.851 143.26 126.745 Q145.598 124.639 145.598 121.027 Q145.598 117.416 143.26 115.31 Q140.922 113.203 136.918 113.203 Q135.043 113.203 133.168 113.62 Q131.316 114.037 129.371 114.916 L129.371 97.5554 Z\" fill=\"#000000\" fill-rule=\"evenodd\" fill-opacity=\"1\" /><polyline clip-path=\"url(#clip002)\" style=\"stroke:#009af9; stroke-width:4; stroke-opacity:1; fill:none\" points=\"\n",
       "  247.59,87.9763 268.234,387.45 288.879,620.185 309.524,801.105 330.169,941.937 350.814,1051.72 371.459,1137.4 392.104,1204.34 412.749,1256.68 433.394,1297.63 \n",
       "  454.039,1329.68 474.684,1354.78 495.329,1374.44 515.974,1389.85 536.619,1401.92 557.264,1411.38 577.909,1418.79 598.554,1424.61 619.199,1429.16 639.844,1432.74 \n",
       "  660.489,1435.54 681.134,1437.74 701.779,1439.46 722.424,1440.81 743.069,1441.87 763.713,1442.7 784.358,1443.35 805.003,1443.86 825.648,1444.26 846.293,1444.57 \n",
       "  866.938,1444.82 887.583,1445.01 908.228,1445.17 928.873,1445.28 949.518,1445.38 970.163,1445.45 990.808,1445.51 1011.45,1445.55 1032.1,1445.59 1052.74,1445.62 \n",
       "  1073.39,1445.64 1094.03,1445.65 1114.68,1445.67 1135.32,1445.68 1155.97,1445.69 1176.61,1445.69 1197.26,1445.7 1217.9,1445.7 1238.55,1445.7 1259.19,1445.71 \n",
       "  1279.84,1445.71 1300.48,1445.71 1321.13,1445.71 1341.77,1445.71 1362.42,1445.71 1383.06,1445.71 1403.71,1445.71 1424.35,1445.71 1445,1445.71 1465.64,1445.71 \n",
       "  1486.29,1445.71 1506.93,1445.71 1527.58,1445.72 1548.22,1445.72 1568.87,1445.72 1589.51,1445.72 1610.16,1445.72 1630.8,1445.72 1651.45,1445.72 1672.09,1445.72 \n",
       "  1692.74,1445.72 1713.38,1445.72 1734.03,1445.72 1754.67,1445.72 1775.32,1445.72 1795.96,1445.72 1816.61,1445.72 1837.25,1445.72 1857.9,1445.72 1878.54,1445.72 \n",
       "  1899.19,1445.72 1919.83,1445.72 1940.48,1445.72 1961.12,1445.72 1981.77,1445.72 2002.41,1445.72 2023.06,1445.72 2043.7,1445.72 2064.35,1445.72 2084.99,1445.72 \n",
       "  2105.64,1445.72 2126.28,1445.72 2146.93,1445.72 2167.57,1445.72 2188.22,1445.72 2208.86,1445.72 2229.51,1445.72 2250.15,1445.72 2270.8,1445.71 2291.44,1445.72 \n",
       "  \n",
       "  \"/>\n",
       "<path clip-path=\"url(#clip000)\" d=\"\n",
       "M1987.39 216.178 L2280.54 216.178 L2280.54 95.2176 L1987.39 95.2176  Z\n",
       "  \" fill=\"#ffffff\" fill-rule=\"evenodd\" fill-opacity=\"1\"/>\n",
       "<polyline clip-path=\"url(#clip000)\" style=\"stroke:#000000; stroke-width:4; stroke-opacity:1; fill:none\" points=\"\n",
       "  1987.39,216.178 2280.54,216.178 2280.54,95.2176 1987.39,95.2176 1987.39,216.178 \n",
       "  \"/>\n",
       "<polyline clip-path=\"url(#clip000)\" style=\"stroke:#009af9; stroke-width:4; stroke-opacity:1; fill:none\" points=\"\n",
       "  2011.46,155.698 2155.89,155.698 \n",
       "  \"/>\n",
       "<path clip-path=\"url(#clip000)\" d=\"M 0 0 M2193.81 175.385 Q2192 180.015 2190.29 181.427 Q2188.58 182.839 2185.71 182.839 L2182.3 182.839 L2182.3 179.274 L2184.8 179.274 Q2186.56 179.274 2187.53 178.44 Q2188.51 177.607 2189.69 174.505 L2190.45 172.561 L2179.97 147.052 L2184.48 147.052 L2192.58 167.329 L2200.68 147.052 L2205.2 147.052 L2193.81 175.385 Z\" fill=\"#000000\" fill-rule=\"evenodd\" fill-opacity=\"1\" /><path clip-path=\"url(#clip000)\" d=\"M 0 0 M2212.49 169.042 L2220.13 169.042 L2220.13 142.677 L2211.82 144.343 L2211.82 140.084 L2220.08 138.418 L2224.76 138.418 L2224.76 169.042 L2232.4 169.042 L2232.4 172.978 L2212.49 172.978 L2212.49 169.042 Z\" fill=\"#000000\" fill-rule=\"evenodd\" fill-opacity=\"1\" /></svg>\n"
      ]
     },
     "execution_count": 813,
     "metadata": {},
     "output_type": "execute_result"
    }
   ],
   "source": [
    "plot(sol.minimizer)"
   ]
  }
 ],
 "metadata": {
  "kernelspec": {
   "display_name": "Julia 1.6.1",
   "language": "julia",
   "name": "julia-1.6"
  },
  "language_info": {
   "file_extension": ".jl",
   "mimetype": "application/julia",
   "name": "julia",
   "version": "1.6.1"
  }
 },
 "nbformat": 4,
 "nbformat_minor": 5
}
