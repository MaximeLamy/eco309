{
 "cells": [
  {
   "cell_type": "markdown",
   "id": "694fa386",
   "metadata": {},
   "source": [
    "# Tutorial: AR1 and Discretization\n",
    "\n",
    "## Computational Economics  (ECO309)\n",
    "\n",
    "---"
   ]
  },
  {
   "cell_type": "markdown",
   "id": "7e2a6566",
   "metadata": {},
   "source": [
    "### Simulating an AR1\n",
    "\n",
    "Choose a 2x2 matrix $P$ (with spectral radius <1) and a 2x2 matrix Q.\n",
    "\n",
    "Consider the VAR1 process $x_t = P x_{t-1} + Q \\epsilon_t$ where $\\epsilon_t= (\\eta_{1,t}, \\eta_{2,t})$ with $\\eta_1\\sim\\mathcal{N}(0,1)$ and $\\eta_1\\sim\\mathcal{N}(0,1)$"
   ]
  },
  {
   "cell_type": "markdown",
   "id": "4f4ae284",
   "metadata": {
    "tags": []
   },
   "source": [
    "__Compute impulse response functions.__"
   ]
  },
  {
   "cell_type": "code",
   "execution_count": null,
   "id": "14f6ab32",
   "metadata": {},
   "outputs": [],
   "source": []
  },
  {
   "cell_type": "markdown",
   "id": "173852f8",
   "metadata": {},
   "source": [
    "__Simulate the process for $T$ periods.__"
   ]
  },
  {
   "cell_type": "code",
   "execution_count": null,
   "id": "d77bfa3d",
   "metadata": {},
   "outputs": [],
   "source": []
  },
  {
   "cell_type": "markdown",
   "id": "b357c19b",
   "metadata": {},
   "source": [
    "__Simulate the process $N=1000$ times for $T=1000$ periods. How would you store the results?__"
   ]
  },
  {
   "cell_type": "code",
   "execution_count": null,
   "id": "d1f326bb",
   "metadata": {},
   "outputs": [],
   "source": []
  },
  {
   "cell_type": "markdown",
   "id": "9fc36f4a",
   "metadata": {},
   "source": [
    "__Make density plots to illustrate the ergodic property of the process__"
   ]
  },
  {
   "cell_type": "code",
   "execution_count": null,
   "id": "90bdc002",
   "metadata": {},
   "outputs": [],
   "source": []
  },
  {
   "cell_type": "markdown",
   "id": "48bf114e",
   "metadata": {},
   "source": [
    "__Compute the asymptotic variance of the process. Compare with the theoretical one.__"
   ]
  },
  {
   "cell_type": "code",
   "execution_count": null,
   "id": "23013401",
   "metadata": {},
   "outputs": [],
   "source": []
  },
  {
   "cell_type": "markdown",
   "id": "5b41098d",
   "metadata": {},
   "source": [
    "---\n",
    "\n",
    "### Pricing a stream of dividends.\n",
    "\n",
    "Let us define\n",
    "\n",
    "$$d_n = \\rho_d d_{n-1} + \\epsilon_{d,n}$$\n",
    "$$x_n = \\rho_x x_{n-1} + \\epsilon_{x,n}$$\n",
    "\n",
    "$$\\beta_n = \\beta^n \\exp(x_n)$$\n",
    "\n",
    "where $0<\\beta<1$.\n",
    "\n",
    "\n",
    "\n",
    "\n",
    "Define the price of the stream of dividend $$p(d, x) = \\mathbb{E}_0 \\sum_{t\\geq 0} \\beta_t d_t$$\n",
    "\n",
    "where $d_0 = d$, $x_0=x$.\n",
    "\n",
    "\n",
    "We want to compute $p(0,0)$."
   ]
  },
  {
   "cell_type": "markdown",
   "id": "4c67af25",
   "metadata": {},
   "source": [
    "__Use a Monte-Carlo approach to approximate $p(0,0)$__"
   ]
  },
  {
   "cell_type": "code",
   "execution_count": null,
   "id": "dfa5a6fc",
   "metadata": {},
   "outputs": [],
   "source": []
  },
  {
   "cell_type": "markdown",
   "id": "f07a4a86-4118-4d25-8d78-c4a6fd67dbfb",
   "metadata": {},
   "source": [
    "__Write down the recursive equation satisfied by $p()$.__"
   ]
  },
  {
   "cell_type": "code",
   "execution_count": null,
   "id": "b0cc180e-7e4e-49fd-b875-b1e6793776be",
   "metadata": {},
   "outputs": [],
   "source": []
  },
  {
   "cell_type": "markdown",
   "id": "b5068c3c-da3b-482b-9223-785cc966d9e5",
   "metadata": {},
   "source": [
    "__Discretize $d_n$ and $x_n$ as 3-states Markov Chains__"
   ]
  },
  {
   "cell_type": "code",
   "execution_count": null,
   "id": "95bf674c-c2ed-41ca-8764-575ddccd71ab",
   "metadata": {},
   "outputs": [],
   "source": []
  },
  {
   "cell_type": "markdown",
   "id": "89a447ff-352a-4692-8604-1f903b359581",
   "metadata": {},
   "source": [
    "__Approximate $p(s,x)$ using the Markov Chain discretization.__"
   ]
  },
  {
   "cell_type": "code",
   "execution_count": null,
   "id": "0af514c3-60c4-4a9a-9f40-0955c83b4497",
   "metadata": {},
   "outputs": [],
   "source": []
  }
 ],
 "metadata": {
  "kernelspec": {
   "display_name": "Julia 1.6.1",
   "language": "julia",
   "name": "julia-1.6"
  },
  "language_info": {
   "file_extension": ".jl",
   "mimetype": "application/julia",
   "name": "julia",
   "version": "1.6.1"
  }
 },
 "nbformat": 4,
 "nbformat_minor": 5
}
