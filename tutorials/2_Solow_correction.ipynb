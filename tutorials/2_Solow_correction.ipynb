{
 "cells": [
  {
   "cell_type": "markdown",
   "metadata": {},
   "source": [
    "# Tutorial: Recursive Sequences\n",
    "\n",
    "## Computational Economics  (ECO309)\n"
   ]
  },
  {
   "cell_type": "markdown",
   "metadata": {},
   "source": [
    "## Recursive sequence\n",
    "\n",
    "Take random $\\lambda_1, \\lambda_2$ such that $0<|\\lambda_1|<|\\lambda_2|$. Set $a=\\lambda_1+\\lambda_2$ and $b=\\lambda_1 \\lambda_2$. In this exercise, we consider an algorithm to determine $\\lambda_1$ from $a$ and $b$.\n",
    "\n",
    "Consider the function $f(x) = -\\frac{b}{x - a}$ and the recursive series $x_n=f(x_{t-1})$\n",
    "\n",
    "__Show mathematically that $f$ has two fixed points: $\\lambda_1$ and $\\lambda_2$.__"
   ]
  },
  {
   "cell_type": "markdown",
   "metadata": {},
   "source": [
    "If you consider the second order equation $x^2 - a x + b$, we know the roots $x_1$ and $x_2$ of this equation are such that $a=x_1+x_2$ and $b=x_1 x_2$.\n",
    "\n",
    "Consider the second order recursive sequence defined by  $x_{n+1} - a x_n + b x_{n-1} = 0$. \n"
   ]
  },
  {
   "cell_type": "markdown",
   "metadata": {},
   "source": [
    "Look for fundamental solutions $x_n = x_n(x_{n-1}) = \\lambda x_{n-1}$. These fundamental solutions are called decision rules. For these solutions $\\lambda$ is a root of the characteristic polynomial $X^2 - aX + b$. "
   ]
  },
  {
   "cell_type": "markdown",
   "metadata": {},
   "source": [
    "$x_{n+1}(x_n (x_{n-1})) - a x_n (x_{n-1}) + b x_{n-1} = 0$"
   ]
  },
  {
   "cell_type": "markdown",
   "metadata": {},
   "source": [
    "If the decision rule $\\varphi$ is invariant over time: \n",
    "$\\varphi(\\varphi (x_{n-1})) - \\varphi (x_{n-1}) + b x_{n-1} = 0$"
   ]
  },
  {
   "cell_type": "markdown",
   "metadata": {},
   "source": [
    "But if the decision for $x_{n+1}$ is $\\tilde{\\varphi}(x_n)$, we have a relationship between the decision today (n), and the decision rule tomorrow (n+1)\n",
    "\n",
    "$\\tilde{\\varphi}(\\varphi (x_{n-1})) - \\varphi (x_{n-1}) + b x_{n-1} = 0$"
   ]
  },
  {
   "cell_type": "markdown",
   "metadata": {},
   "source": [
    "When the decision rules are linear: $\\tilde{\\varphi}(s) = \\tilde{\\lambda} s$ and the decision rule today ${\\varphi}(s) = {\\lambda} s$. They are linked with :\n",
    "\n",
    "$\\tilde{\\lambda} \\lambda x_{n-1} - a \\lambda x_{n_1} + b x_{n-1} = 0$\n",
    "\n",
    "This must be true for all $x_{n-1}$ so that:\n",
    "\n",
    "$$\\tilde{\\lambda} \\lambda - a \\lambda + b  = 0$$\n",
    "\n",
    "\n",
    "The function which gives the decision rule today, as a function of the decision rule tomorrow ($\\tilde{\\lambda}$) is:"
   ]
  },
  {
   "cell_type": "markdown",
   "metadata": {},
   "source": [
    "$\\lambda = f(\\tilde{\\lambda}) = \\frac{-b}{\\tilde{\\lambda}-a}$"
   ]
  },
  {
   "cell_type": "markdown",
   "metadata": {},
   "source": [
    "This is called \"backward iteration\" and in this instance, can be used to select one of the solutions."
   ]
  },
  {
   "cell_type": "markdown",
   "metadata": {},
   "source": [
    "__Choose numerical values for $\\lambda_1$ and $\\lambda_2$__"
   ]
  },
  {
   "cell_type": "code",
   "execution_count": 4,
   "metadata": {},
   "outputs": [
    {
     "data": {
      "text/plain": [
       "1.1"
      ]
     },
     "execution_count": 4,
     "metadata": {},
     "output_type": "execute_result"
    }
   ],
   "source": [
    "λ1 = 0.5\n",
    "λ2 = 1.1"
   ]
  },
  {
   "cell_type": "code",
   "execution_count": 5,
   "metadata": {},
   "outputs": [
    {
     "data": {
      "text/plain": [
       "0.55"
      ]
     },
     "execution_count": 5,
     "metadata": {},
     "output_type": "execute_result"
    }
   ],
   "source": [
    "a = λ1 + λ2\n",
    "b = λ1*λ2"
   ]
  },
  {
   "cell_type": "markdown",
   "metadata": {},
   "source": [
    "__Choose initial $x_0$ and compute several of function $f$.__"
   ]
  },
  {
   "cell_type": "code",
   "execution_count": 10,
   "metadata": {},
   "outputs": [
    {
     "data": {
      "text/plain": [
       "f (generic function with 1 method)"
      ]
     },
     "execution_count": 10,
     "metadata": {},
     "output_type": "execute_result"
    }
   ],
   "source": [
    "f(x::Float64) = -b/(x - a)"
   ]
  },
  {
   "cell_type": "code",
   "execution_count": 11,
   "metadata": {},
   "outputs": [
    {
     "data": {
      "text/plain": [
       "1.1"
      ]
     },
     "execution_count": 11,
     "metadata": {},
     "output_type": "execute_result"
    }
   ],
   "source": [
    "f(λ2)"
   ]
  },
  {
   "cell_type": "code",
   "execution_count": 12,
   "metadata": {},
   "outputs": [
    {
     "data": {
      "text/plain": [
       "0.5"
      ]
     },
     "execution_count": 12,
     "metadata": {},
     "output_type": "execute_result"
    }
   ],
   "source": [
    "f(λ1)"
   ]
  },
  {
   "cell_type": "code",
   "execution_count": 13,
   "metadata": {},
   "outputs": [
    {
     "data": {
      "text/plain": [
       "1.9"
      ]
     },
     "execution_count": 13,
     "metadata": {},
     "output_type": "execute_result"
    }
   ],
   "source": [
    "x0 = 1.9"
   ]
  },
  {
   "cell_type": "code",
   "execution_count": 14,
   "metadata": {},
   "outputs": [
    {
     "data": {
      "text/plain": [
       "iterate (generic function with 1 method)"
      ]
     },
     "execution_count": 14,
     "metadata": {},
     "output_type": "execute_result"
    }
   ],
   "source": [
    "function iterate(f, x0::Float64, n::Int64)\n",
    "    for i in 1:n\n",
    "        x=f(x0)\n",
    "        x0 = x\n",
    "    end\n",
    "    return x0\n",
    "end"
   ]
  },
  {
   "cell_type": "code",
   "execution_count": 15,
   "metadata": {},
   "outputs": [
    {
     "name": "stdout",
     "output_type": "stream",
     "text": [
      "  0.191806 seconds (4.00 M allocations: 61.035 MiB, 10.41% gc time)\n"
     ]
    },
    {
     "data": {
      "text/plain": [
       "0.5"
      ]
     },
     "execution_count": 15,
     "metadata": {},
     "output_type": "execute_result"
    }
   ],
   "source": [
    "@time iterate(f, x0, 1000000)"
   ]
  },
  {
   "cell_type": "markdown",
   "metadata": {},
   "source": [
    "__Check that the iterations converge to a fixed point__"
   ]
  },
  {
   "cell_type": "code",
   "execution_count": 16,
   "metadata": {},
   "outputs": [
    {
     "data": {
      "text/plain": [
       "iterate (generic function with 1 method)"
      ]
     },
     "execution_count": 16,
     "metadata": {},
     "output_type": "execute_result"
    }
   ],
   "source": [
    "function iterate(f, x0::Float64, n::Int64; trace=false)\n",
    "    log = [x0]\n",
    "    for i in 1:n\n",
    "        x=f(x0)\n",
    "        x0 = x\n",
    "        if trace\n",
    "            push!(log, x)\n",
    "        end \n",
    "    end\n",
    "    if trace\n",
    "        return x0, log\n",
    "    else\n",
    "        return x0\n",
    "    end\n",
    "end"
   ]
  },
  {
   "cell_type": "code",
   "execution_count": 32,
   "metadata": {},
   "outputs": [
    {
     "data": {
      "text/plain": [
       "(0.49999985115447215, [1.9, -1.8333333333333346, 0.1601941747572815, 0.38199595414699933, 0.45155843436859877, 0.4789098692170861, 0.49059391827480203, 0.49576075799468716, 0.49808046941095196, 0.49912900600462995  …  0.49982024958645205, 0.4999183086157147, 0.49996287031003006, 0.4999831234378514, 0.4999923289530787, 0.49999651318480626, 0.49999841508902676, 0.4999992795869593, 0.49999967253974137, 0.49999985115447215])"
      ]
     },
     "execution_count": 32,
     "metadata": {},
     "output_type": "execute_result"
    }
   ],
   "source": [
    "xstar, trace = iterate(f, x0, 20; trace=true)"
   ]
  },
  {
   "cell_type": "code",
   "execution_count": 33,
   "metadata": {},
   "outputs": [],
   "source": [
    "using Plots"
   ]
  },
  {
   "cell_type": "code",
   "execution_count": 34,
   "metadata": {},
   "outputs": [
    {
     "data": {
      "image/svg+xml": [
       "<?xml version=\"1.0\" encoding=\"utf-8\"?>\n",
       "<svg xmlns=\"http://www.w3.org/2000/svg\" xmlns:xlink=\"http://www.w3.org/1999/xlink\" width=\"600\" height=\"400\" viewBox=\"0 0 2400 1600\">\n",
       "<defs>\n",
       "  <clipPath id=\"clip030\">\n",
       "    <rect x=\"0\" y=\"0\" width=\"2400\" height=\"1600\"/>\n",
       "  </clipPath>\n",
       "</defs>\n",
       "<path clip-path=\"url(#clip030)\" d=\"\n",
       "M0 1600 L2400 1600 L2400 0 L0 0  Z\n",
       "  \" fill=\"#ffffff\" fill-rule=\"evenodd\" fill-opacity=\"1\"/>\n",
       "<defs>\n",
       "  <clipPath id=\"clip031\">\n",
       "    <rect x=\"480\" y=\"0\" width=\"1681\" height=\"1600\"/>\n",
       "  </clipPath>\n",
       "</defs>\n",
       "<path clip-path=\"url(#clip030)\" d=\"\n",
       "M147.478 1486.45 L2352.76 1486.45 L2352.76 47.2441 L147.478 47.2441  Z\n",
       "  \" fill=\"#ffffff\" fill-rule=\"evenodd\" fill-opacity=\"1\"/>\n",
       "<defs>\n",
       "  <clipPath id=\"clip032\">\n",
       "    <rect x=\"147\" y=\"47\" width=\"2206\" height=\"1440\"/>\n",
       "  </clipPath>\n",
       "</defs>\n",
       "<polyline clip-path=\"url(#clip032)\" style=\"stroke:#000000; stroke-width:2; stroke-opacity:0.1; fill:none\" points=\"\n",
       "  625.982,1486.45 625.982,47.2441 \n",
       "  \"/>\n",
       "<polyline clip-path=\"url(#clip032)\" style=\"stroke:#000000; stroke-width:2; stroke-opacity:0.1; fill:none\" points=\"\n",
       "  1146.09,1486.45 1146.09,47.2441 \n",
       "  \"/>\n",
       "<polyline clip-path=\"url(#clip032)\" style=\"stroke:#000000; stroke-width:2; stroke-opacity:0.1; fill:none\" points=\"\n",
       "  1666.21,1486.45 1666.21,47.2441 \n",
       "  \"/>\n",
       "<polyline clip-path=\"url(#clip032)\" style=\"stroke:#000000; stroke-width:2; stroke-opacity:0.1; fill:none\" points=\"\n",
       "  2186.32,1486.45 2186.32,47.2441 \n",
       "  \"/>\n",
       "<polyline clip-path=\"url(#clip030)\" style=\"stroke:#000000; stroke-width:4; stroke-opacity:1; fill:none\" points=\"\n",
       "  147.478,1486.45 2352.76,1486.45 \n",
       "  \"/>\n",
       "<polyline clip-path=\"url(#clip030)\" style=\"stroke:#000000; stroke-width:4; stroke-opacity:1; fill:none\" points=\"\n",
       "  625.982,1486.45 625.982,1469.18 \n",
       "  \"/>\n",
       "<polyline clip-path=\"url(#clip030)\" style=\"stroke:#000000; stroke-width:4; stroke-opacity:1; fill:none\" points=\"\n",
       "  1146.09,1486.45 1146.09,1469.18 \n",
       "  \"/>\n",
       "<polyline clip-path=\"url(#clip030)\" style=\"stroke:#000000; stroke-width:4; stroke-opacity:1; fill:none\" points=\"\n",
       "  1666.21,1486.45 1666.21,1469.18 \n",
       "  \"/>\n",
       "<polyline clip-path=\"url(#clip030)\" style=\"stroke:#000000; stroke-width:4; stroke-opacity:1; fill:none\" points=\"\n",
       "  2186.32,1486.45 2186.32,1469.18 \n",
       "  \"/>\n",
       "<path clip-path=\"url(#clip030)\" d=\"M 0 0 M616.259 1512.56 L634.616 1512.56 L634.616 1516.5 L620.542 1516.5 L620.542 1524.97 Q621.56 1524.62 622.579 1524.46 Q623.597 1524.27 624.616 1524.27 Q630.403 1524.27 633.783 1527.44 Q637.162 1530.62 637.162 1536.03 Q637.162 1541.61 633.69 1544.71 Q630.218 1547.79 623.898 1547.79 Q621.722 1547.79 619.454 1547.42 Q617.209 1547.05 614.801 1546.31 L614.801 1541.61 Q616.884 1542.74 619.107 1543.3 Q621.329 1543.86 623.806 1543.86 Q627.81 1543.86 630.148 1541.75 Q632.486 1539.64 632.486 1536.03 Q632.486 1532.42 630.148 1530.31 Q627.81 1528.21 623.806 1528.21 Q621.931 1528.21 620.056 1528.62 Q618.204 1529.04 616.259 1529.92 L616.259 1512.56 Z\" fill=\"#000000\" fill-rule=\"evenodd\" fill-opacity=\"1\" /><path clip-path=\"url(#clip030)\" d=\"M 0 0 M1120.78 1543.18 L1128.42 1543.18 L1128.42 1516.82 L1120.11 1518.49 L1120.11 1514.23 L1128.37 1512.56 L1133.05 1512.56 L1133.05 1543.18 L1140.69 1543.18 L1140.69 1547.12 L1120.78 1547.12 L1120.78 1543.18 Z\" fill=\"#000000\" fill-rule=\"evenodd\" fill-opacity=\"1\" /><path clip-path=\"url(#clip030)\" d=\"M 0 0 M1160.13 1515.64 Q1156.52 1515.64 1154.69 1519.2 Q1152.89 1522.75 1152.89 1529.87 Q1152.89 1536.98 1154.69 1540.55 Q1156.52 1544.09 1160.13 1544.09 Q1163.77 1544.09 1165.57 1540.55 Q1167.4 1536.98 1167.4 1529.87 Q1167.4 1522.75 1165.57 1519.2 Q1163.77 1515.64 1160.13 1515.64 M1160.13 1511.93 Q1165.94 1511.93 1169 1516.54 Q1172.08 1521.12 1172.08 1529.87 Q1172.08 1538.6 1169 1543.21 Q1165.94 1547.79 1160.13 1547.79 Q1154.32 1547.79 1151.24 1543.21 Q1148.19 1538.6 1148.19 1529.87 Q1148.19 1521.12 1151.24 1516.54 Q1154.32 1511.93 1160.13 1511.93 Z\" fill=\"#000000\" fill-rule=\"evenodd\" fill-opacity=\"1\" /><path clip-path=\"url(#clip030)\" d=\"M 0 0 M1641.39 1543.18 L1649.03 1543.18 L1649.03 1516.82 L1640.72 1518.49 L1640.72 1514.23 L1648.98 1512.56 L1653.66 1512.56 L1653.66 1543.18 L1661.3 1543.18 L1661.3 1547.12 L1641.39 1547.12 L1641.39 1543.18 Z\" fill=\"#000000\" fill-rule=\"evenodd\" fill-opacity=\"1\" /><path clip-path=\"url(#clip030)\" d=\"M 0 0 M1670.79 1512.56 L1689.15 1512.56 L1689.15 1516.5 L1675.07 1516.5 L1675.07 1524.97 Q1676.09 1524.62 1677.11 1524.46 Q1678.13 1524.27 1679.15 1524.27 Q1684.93 1524.27 1688.31 1527.44 Q1691.69 1530.62 1691.69 1536.03 Q1691.69 1541.61 1688.22 1544.71 Q1684.75 1547.79 1678.43 1547.79 Q1676.25 1547.79 1673.98 1547.42 Q1671.74 1547.05 1669.33 1546.31 L1669.33 1541.61 Q1671.42 1542.74 1673.64 1543.3 Q1675.86 1543.86 1678.34 1543.86 Q1682.34 1543.86 1684.68 1541.75 Q1687.02 1539.64 1687.02 1536.03 Q1687.02 1532.42 1684.68 1530.31 Q1682.34 1528.21 1678.34 1528.21 Q1676.46 1528.21 1674.59 1528.62 Q1672.73 1529.04 1670.79 1529.92 L1670.79 1512.56 Z\" fill=\"#000000\" fill-rule=\"evenodd\" fill-opacity=\"1\" /><path clip-path=\"url(#clip030)\" d=\"M 0 0 M2165.09 1543.18 L2181.41 1543.18 L2181.41 1547.12 L2159.47 1547.12 L2159.47 1543.18 Q2162.13 1540.43 2166.71 1535.8 Q2171.32 1531.15 2172.5 1529.81 Q2174.75 1527.28 2175.63 1525.55 Q2176.53 1523.79 2176.53 1522.1 Q2176.53 1519.34 2174.58 1517.61 Q2172.66 1515.87 2169.56 1515.87 Q2167.36 1515.87 2164.91 1516.63 Q2162.48 1517.4 2159.7 1518.95 L2159.7 1514.23 Q2162.52 1513.09 2164.98 1512.51 Q2167.43 1511.93 2169.47 1511.93 Q2174.84 1511.93 2178.03 1514.62 Q2181.23 1517.31 2181.23 1521.8 Q2181.23 1523.93 2180.42 1525.85 Q2179.63 1527.74 2177.52 1530.34 Q2176.94 1531.01 2173.84 1534.23 Q2170.74 1537.42 2165.09 1543.18 Z\" fill=\"#000000\" fill-rule=\"evenodd\" fill-opacity=\"1\" /><path clip-path=\"url(#clip030)\" d=\"M 0 0 M2201.23 1515.64 Q2197.62 1515.64 2195.79 1519.2 Q2193.98 1522.75 2193.98 1529.87 Q2193.98 1536.98 2195.79 1540.55 Q2197.62 1544.09 2201.23 1544.09 Q2204.86 1544.09 2206.67 1540.55 Q2208.5 1536.98 2208.5 1529.87 Q2208.5 1522.75 2206.67 1519.2 Q2204.86 1515.64 2201.23 1515.64 M2201.23 1511.93 Q2207.04 1511.93 2210.09 1516.54 Q2213.17 1521.12 2213.17 1529.87 Q2213.17 1538.6 2210.09 1543.21 Q2207.04 1547.79 2201.23 1547.79 Q2195.42 1547.79 2192.34 1543.21 Q2189.28 1538.6 2189.28 1529.87 Q2189.28 1521.12 2192.34 1516.54 Q2195.42 1511.93 2201.23 1511.93 Z\" fill=\"#000000\" fill-rule=\"evenodd\" fill-opacity=\"1\" /><polyline clip-path=\"url(#clip032)\" style=\"stroke:#000000; stroke-width:2; stroke-opacity:0.1; fill:none\" points=\"\n",
       "  147.478,1142.65 2352.76,1142.65 \n",
       "  \"/>\n",
       "<polyline clip-path=\"url(#clip032)\" style=\"stroke:#000000; stroke-width:2; stroke-opacity:0.1; fill:none\" points=\"\n",
       "  147.478,778.969 2352.76,778.969 \n",
       "  \"/>\n",
       "<polyline clip-path=\"url(#clip032)\" style=\"stroke:#000000; stroke-width:2; stroke-opacity:0.1; fill:none\" points=\"\n",
       "  147.478,415.288 2352.76,415.288 \n",
       "  \"/>\n",
       "<polyline clip-path=\"url(#clip032)\" style=\"stroke:#000000; stroke-width:2; stroke-opacity:0.1; fill:none\" points=\"\n",
       "  147.478,51.6083 2352.76,51.6083 \n",
       "  \"/>\n",
       "<polyline clip-path=\"url(#clip030)\" style=\"stroke:#000000; stroke-width:4; stroke-opacity:1; fill:none\" points=\"\n",
       "  147.478,1486.45 147.478,47.2441 \n",
       "  \"/>\n",
       "<polyline clip-path=\"url(#clip030)\" style=\"stroke:#000000; stroke-width:4; stroke-opacity:1; fill:none\" points=\"\n",
       "  147.478,1142.65 173.941,1142.65 \n",
       "  \"/>\n",
       "<polyline clip-path=\"url(#clip030)\" style=\"stroke:#000000; stroke-width:4; stroke-opacity:1; fill:none\" points=\"\n",
       "  147.478,778.969 173.941,778.969 \n",
       "  \"/>\n",
       "<polyline clip-path=\"url(#clip030)\" style=\"stroke:#000000; stroke-width:4; stroke-opacity:1; fill:none\" points=\"\n",
       "  147.478,415.288 173.941,415.288 \n",
       "  \"/>\n",
       "<polyline clip-path=\"url(#clip030)\" style=\"stroke:#000000; stroke-width:4; stroke-opacity:1; fill:none\" points=\"\n",
       "  147.478,51.6083 173.941,51.6083 \n",
       "  \"/>\n",
       "<path clip-path=\"url(#clip030)\" d=\"M 0 0 M50.9921 1143.1 L80.6679 1143.1 L80.6679 1147.04 L50.9921 1147.04 L50.9921 1143.1 Z\" fill=\"#000000\" fill-rule=\"evenodd\" fill-opacity=\"1\" /><path clip-path=\"url(#clip030)\" d=\"M 0 0 M91.5706 1155.99 L99.2095 1155.99 L99.2095 1129.63 L90.8993 1131.29 L90.8993 1127.04 L99.1632 1125.37 L103.839 1125.37 L103.839 1155.99 L111.478 1155.99 L111.478 1159.93 L91.5706 1159.93 L91.5706 1155.99 Z\" fill=\"#000000\" fill-rule=\"evenodd\" fill-opacity=\"1\" /><path clip-path=\"url(#clip030)\" d=\"M 0 0 M99.5335 764.767 Q95.9224 764.767 94.0937 768.332 Q92.2882 771.874 92.2882 779.003 Q92.2882 786.11 94.0937 789.675 Q95.9224 793.216 99.5335 793.216 Q103.168 793.216 104.973 789.675 Q106.802 786.11 106.802 779.003 Q106.802 771.874 104.973 768.332 Q103.168 764.767 99.5335 764.767 M99.5335 761.064 Q105.344 761.064 108.399 765.67 Q111.478 770.253 111.478 779.003 Q111.478 787.73 108.399 792.337 Q105.344 796.92 99.5335 796.92 Q93.7234 796.92 90.6447 792.337 Q87.5892 787.73 87.5892 779.003 Q87.5892 770.253 90.6447 765.67 Q93.7234 761.064 99.5335 761.064 Z\" fill=\"#000000\" fill-rule=\"evenodd\" fill-opacity=\"1\" /><path clip-path=\"url(#clip030)\" d=\"M 0 0 M91.5706 428.633 L99.2095 428.633 L99.2095 402.268 L90.8993 403.934 L90.8993 399.675 L99.1632 398.008 L103.839 398.008 L103.839 428.633 L111.478 428.633 L111.478 432.568 L91.5706 432.568 L91.5706 428.633 Z\" fill=\"#000000\" fill-rule=\"evenodd\" fill-opacity=\"1\" /><path clip-path=\"url(#clip030)\" d=\"M 0 0 M95.1586 64.9531 L111.478 64.9531 L111.478 68.8883 L89.5336 68.8883 L89.5336 64.9531 Q92.1956 62.1985 96.7789 57.5689 Q101.385 52.9161 102.566 51.5735 Q104.811 49.0504 105.691 47.3143 Q106.594 45.555 106.594 43.8652 Q106.594 41.1106 104.649 39.3745 Q102.728 37.6384 99.6261 37.6384 Q97.4271 37.6384 94.9734 38.4023 Q92.5428 39.1662 89.7651 40.7171 L89.7651 35.9949 Q92.5891 34.8607 95.0428 34.282 Q97.4965 33.7033 99.5335 33.7033 Q104.904 33.7033 108.098 36.3884 Q111.293 39.0736 111.293 43.5643 Q111.293 45.6939 110.483 47.6152 Q109.696 49.5134 107.589 52.1059 Q107.01 52.7772 103.909 55.9948 Q100.807 59.1892 95.1586 64.9531 Z\" fill=\"#000000\" fill-rule=\"evenodd\" fill-opacity=\"1\" /><polyline clip-path=\"url(#clip032)\" style=\"stroke:#009af9; stroke-width:4; stroke-opacity:1; fill:none\" points=\"\n",
       "  209.891,87.9763 313.914,1445.72 417.937,720.709 521.959,640.044 625.982,614.746 730.004,604.799 834.027,600.549 938.049,598.67 1042.07,597.827 1146.09,597.445 \n",
       "  1250.12,597.272 1354.14,597.194 1458.16,597.158 1562.18,597.142 1666.21,597.135 1770.23,597.131 1874.25,597.13 1978.27,597.129 2082.3,597.129 2186.32,597.129 \n",
       "  2290.34,597.129 \n",
       "  \"/>\n",
       "<path clip-path=\"url(#clip030)\" d=\"\n",
       "M1981.79 216.178 L2279.25 216.178 L2279.25 95.2176 L1981.79 95.2176  Z\n",
       "  \" fill=\"#ffffff\" fill-rule=\"evenodd\" fill-opacity=\"1\"/>\n",
       "<polyline clip-path=\"url(#clip030)\" style=\"stroke:#000000; stroke-width:4; stroke-opacity:1; fill:none\" points=\"\n",
       "  1981.79,216.178 2279.25,216.178 2279.25,95.2176 1981.79,95.2176 1981.79,216.178 \n",
       "  \"/>\n",
       "<polyline clip-path=\"url(#clip030)\" style=\"stroke:#009af9; stroke-width:4; stroke-opacity:1; fill:none\" points=\"\n",
       "  2006.29,155.698 2153.31,155.698 \n",
       "  \"/>\n",
       "<path clip-path=\"url(#clip030)\" d=\"M 0 0 M2191.65 175.385 Q2189.85 180.015 2188.13 181.427 Q2186.42 182.839 2183.55 182.839 L2180.15 182.839 L2180.15 179.274 L2182.65 179.274 Q2184.41 179.274 2185.38 178.44 Q2186.35 177.607 2187.53 174.505 L2188.3 172.561 L2177.81 147.052 L2182.32 147.052 L2190.43 167.329 L2198.53 147.052 L2203.04 147.052 L2191.65 175.385 Z\" fill=\"#000000\" fill-rule=\"evenodd\" fill-opacity=\"1\" /><path clip-path=\"url(#clip030)\" d=\"M 0 0 M2210.33 169.042 L2217.97 169.042 L2217.97 142.677 L2209.66 144.343 L2209.66 140.084 L2217.93 138.418 L2222.6 138.418 L2222.6 169.042 L2230.24 169.042 L2230.24 172.978 L2210.33 172.978 L2210.33 169.042 Z\" fill=\"#000000\" fill-rule=\"evenodd\" fill-opacity=\"1\" /></svg>\n"
      ]
     },
     "execution_count": 34,
     "metadata": {},
     "output_type": "execute_result"
    }
   ],
   "source": [
    "plot(trace)"
   ]
  },
  {
   "cell_type": "markdown",
   "metadata": {},
   "source": [
    "Graphically the series is converging. To confirm it numerically, we can look at successive approximation errors $\\eta_n = |x_n - x_{n-1}|$, and ratio of successive approximation errors $\\lambda_n = \\frac{\\eta_n}{\\eta_{n-1}}$"
   ]
  },
  {
   "cell_type": "code",
   "execution_count": 35,
   "metadata": {},
   "outputs": [
    {
     "data": {
      "text/plain": [
       "19-element Array{Float64,1}:\n",
       " -0.533980582524272\n",
       "  0.11126095751854345\n",
       "  0.31362453634501447\n",
       "  0.3931923468133416\n",
       "  0.4271823077085149\n",
       "  0.4422131141663643\n",
       "  0.4489613655591342\n",
       "  0.45201165383163794\n",
       "  0.4533946381793901\n",
       "  0.4540225442515068\n",
       "  0.45430780688185646\n",
       "  0.45443744090135624\n",
       "  0.4544963590925194\n",
       "  0.4545231387726822\n",
       "  0.45453531108476297\n",
       "  0.4545408438979726\n",
       "  0.45454335880772956\n",
       "  0.45454450185518896\n",
       "  0.454545021498741"
      ]
     },
     "execution_count": 35,
     "metadata": {},
     "output_type": "execute_result"
    }
   ],
   "source": [
    "η_vec = trace[2:end] - trace[1:(end-1)]\n",
    "λ_vec = η_vec[2:end] ./ η_vec[1:(end-1)]"
   ]
  },
  {
   "cell_type": "code",
   "execution_count": 36,
   "metadata": {},
   "outputs": [
    {
     "data": {
      "text/plain": [
       "20-element Array{Float64,1}:\n",
       "   1.3173014896329394\n",
       "   0.6899056866357749\n",
       "  -1.505971181601577\n",
       "  -2.6655299342720284\n",
       "  -3.5989862890227093\n",
       "  -4.449530695756461\n",
       "  -5.265494050114648\n",
       "  -6.066312490581972\n",
       "  -6.860359807250891\n",
       "  -7.651352174035899\n",
       "  -8.440960599267909\n",
       "  -9.229940921212668\n",
       " -10.01863593983244\n",
       " -10.807201316026667\n",
       " -11.59570777229622\n",
       " -12.38418744852301\n",
       " -13.172654952363185\n",
       " -13.961116923361079\n",
       " -14.749576379646129\n",
       " -15.538034692713623"
      ]
     },
     "execution_count": 36,
     "metadata": {},
     "output_type": "execute_result"
    }
   ],
   "source": [
    "log.(abs.(η_vec))"
   ]
  },
  {
   "cell_type": "code",
   "execution_count": 38,
   "metadata": {},
   "outputs": [
    {
     "data": {
      "image/svg+xml": [
       "<?xml version=\"1.0\" encoding=\"utf-8\"?>\n",
       "<svg xmlns=\"http://www.w3.org/2000/svg\" xmlns:xlink=\"http://www.w3.org/1999/xlink\" width=\"600\" height=\"400\" viewBox=\"0 0 2400 1600\">\n",
       "<defs>\n",
       "  <clipPath id=\"clip110\">\n",
       "    <rect x=\"0\" y=\"0\" width=\"2400\" height=\"1600\"/>\n",
       "  </clipPath>\n",
       "</defs>\n",
       "<path clip-path=\"url(#clip110)\" d=\"\n",
       "M0 1600 L2400 1600 L2400 0 L0 0  Z\n",
       "  \" fill=\"#ffffff\" fill-rule=\"evenodd\" fill-opacity=\"1\"/>\n",
       "<defs>\n",
       "  <clipPath id=\"clip111\">\n",
       "    <rect x=\"480\" y=\"0\" width=\"1681\" height=\"1600\"/>\n",
       "  </clipPath>\n",
       "</defs>\n",
       "<path clip-path=\"url(#clip110)\" d=\"\n",
       "M194.422 686.448 L1155.22 686.448 L1155.22 47.2441 L194.422 47.2441  Z\n",
       "  \" fill=\"#ffffff\" fill-rule=\"evenodd\" fill-opacity=\"1\"/>\n",
       "<defs>\n",
       "  <clipPath id=\"clip112\">\n",
       "    <rect x=\"194\" y=\"47\" width=\"962\" height=\"640\"/>\n",
       "  </clipPath>\n",
       "</defs>\n",
       "<polyline clip-path=\"url(#clip112)\" style=\"stroke:#000000; stroke-width:2; stroke-opacity:0.1; fill:none\" points=\"\n",
       "  402.897,686.448 402.897,47.2441 \n",
       "  \"/>\n",
       "<polyline clip-path=\"url(#clip112)\" style=\"stroke:#000000; stroke-width:2; stroke-opacity:0.1; fill:none\" points=\"\n",
       "  629.5,686.448 629.5,47.2441 \n",
       "  \"/>\n",
       "<polyline clip-path=\"url(#clip112)\" style=\"stroke:#000000; stroke-width:2; stroke-opacity:0.1; fill:none\" points=\"\n",
       "  856.103,686.448 856.103,47.2441 \n",
       "  \"/>\n",
       "<polyline clip-path=\"url(#clip112)\" style=\"stroke:#000000; stroke-width:2; stroke-opacity:0.1; fill:none\" points=\"\n",
       "  1082.71,686.448 1082.71,47.2441 \n",
       "  \"/>\n",
       "<polyline clip-path=\"url(#clip110)\" style=\"stroke:#000000; stroke-width:4; stroke-opacity:1; fill:none\" points=\"\n",
       "  194.422,686.448 1155.22,686.448 \n",
       "  \"/>\n",
       "<polyline clip-path=\"url(#clip110)\" style=\"stroke:#000000; stroke-width:4; stroke-opacity:1; fill:none\" points=\"\n",
       "  402.897,686.448 402.897,678.777 \n",
       "  \"/>\n",
       "<polyline clip-path=\"url(#clip110)\" style=\"stroke:#000000; stroke-width:4; stroke-opacity:1; fill:none\" points=\"\n",
       "  629.5,686.448 629.5,678.777 \n",
       "  \"/>\n",
       "<polyline clip-path=\"url(#clip110)\" style=\"stroke:#000000; stroke-width:4; stroke-opacity:1; fill:none\" points=\"\n",
       "  856.103,686.448 856.103,678.777 \n",
       "  \"/>\n",
       "<polyline clip-path=\"url(#clip110)\" style=\"stroke:#000000; stroke-width:4; stroke-opacity:1; fill:none\" points=\"\n",
       "  1082.71,686.448 1082.71,678.777 \n",
       "  \"/>\n",
       "<path clip-path=\"url(#clip110)\" d=\"M 0 0 M393.175 712.56 L411.531 712.56 L411.531 716.495 L397.457 716.495 L397.457 724.967 Q398.476 724.62 399.494 724.458 Q400.513 724.273 401.531 724.273 Q407.318 724.273 410.698 727.444 Q414.077 730.615 414.077 736.032 Q414.077 741.611 410.605 744.712 Q407.133 747.791 400.814 747.791 Q398.638 747.791 396.369 747.421 Q394.124 747.05 391.716 746.31 L391.716 741.611 Q393.8 742.745 396.022 743.3 Q398.244 743.856 400.721 743.856 Q404.726 743.856 407.064 741.75 Q409.401 739.643 409.401 736.032 Q409.401 732.421 407.064 730.314 Q404.726 728.208 400.721 728.208 Q398.846 728.208 396.971 728.625 Q395.119 729.041 393.175 729.921 L393.175 712.56 Z\" fill=\"#000000\" fill-rule=\"evenodd\" fill-opacity=\"1\" /><path clip-path=\"url(#clip110)\" d=\"M 0 0 M604.188 743.185 L611.826 743.185 L611.826 716.819 L603.516 718.486 L603.516 714.227 L611.78 712.56 L616.456 712.56 L616.456 743.185 L624.095 743.185 L624.095 747.12 L604.188 747.12 L604.188 743.185 Z\" fill=\"#000000\" fill-rule=\"evenodd\" fill-opacity=\"1\" /><path clip-path=\"url(#clip110)\" d=\"M 0 0 M643.539 715.639 Q639.928 715.639 638.099 719.203 Q636.294 722.745 636.294 729.875 Q636.294 736.981 638.099 740.546 Q639.928 744.087 643.539 744.087 Q647.173 744.087 648.979 740.546 Q650.808 736.981 650.808 729.875 Q650.808 722.745 648.979 719.203 Q647.173 715.639 643.539 715.639 M643.539 711.935 Q649.349 711.935 652.405 716.541 Q655.484 721.125 655.484 729.875 Q655.484 738.601 652.405 743.208 Q649.349 747.791 643.539 747.791 Q637.729 747.791 634.65 743.208 Q631.595 738.601 631.595 729.875 Q631.595 721.125 634.65 716.541 Q637.729 711.935 643.539 711.935 Z\" fill=\"#000000\" fill-rule=\"evenodd\" fill-opacity=\"1\" /><path clip-path=\"url(#clip110)\" d=\"M 0 0 M831.288 743.185 L838.927 743.185 L838.927 716.819 L830.617 718.486 L830.617 714.227 L838.881 712.56 L843.557 712.56 L843.557 743.185 L851.196 743.185 L851.196 747.12 L831.288 747.12 L831.288 743.185 Z\" fill=\"#000000\" fill-rule=\"evenodd\" fill-opacity=\"1\" /><path clip-path=\"url(#clip110)\" d=\"M 0 0 M860.686 712.56 L879.043 712.56 L879.043 716.495 L864.969 716.495 L864.969 724.967 Q865.987 724.62 867.006 724.458 Q868.024 724.273 869.043 724.273 Q874.83 724.273 878.209 727.444 Q881.589 730.615 881.589 736.032 Q881.589 741.611 878.117 744.712 Q874.645 747.791 868.325 747.791 Q866.149 747.791 863.881 747.421 Q861.635 747.05 859.228 746.31 L859.228 741.611 Q861.311 742.745 863.534 743.3 Q865.756 743.856 868.233 743.856 Q872.237 743.856 874.575 741.75 Q876.913 739.643 876.913 736.032 Q876.913 732.421 874.575 730.314 Q872.237 728.208 868.233 728.208 Q866.358 728.208 864.483 728.625 Q862.631 729.041 860.686 729.921 L860.686 712.56 Z\" fill=\"#000000\" fill-rule=\"evenodd\" fill-opacity=\"1\" /><path clip-path=\"url(#clip110)\" d=\"M 0 0 M1061.48 743.185 L1077.8 743.185 L1077.8 747.12 L1055.85 747.12 L1055.85 743.185 Q1058.52 740.43 1063.1 735.8 Q1067.71 731.148 1068.89 729.805 Q1071.13 727.282 1072.01 725.546 Q1072.91 723.787 1072.91 722.097 Q1072.91 719.342 1070.97 717.606 Q1069.05 715.87 1065.95 715.87 Q1063.75 715.87 1061.29 716.634 Q1058.86 717.398 1056.09 718.949 L1056.09 714.227 Q1058.91 713.092 1061.36 712.514 Q1063.82 711.935 1065.85 711.935 Q1071.22 711.935 1074.42 714.62 Q1077.61 717.305 1077.61 721.796 Q1077.61 723.926 1076.8 725.847 Q1076.02 727.745 1073.91 730.338 Q1073.33 731.009 1070.23 734.226 Q1067.13 737.421 1061.48 743.185 Z\" fill=\"#000000\" fill-rule=\"evenodd\" fill-opacity=\"1\" /><path clip-path=\"url(#clip110)\" d=\"M 0 0 M1097.61 715.639 Q1094 715.639 1092.17 719.203 Q1090.37 722.745 1090.37 729.875 Q1090.37 736.981 1092.17 740.546 Q1094 744.087 1097.61 744.087 Q1101.25 744.087 1103.05 740.546 Q1104.88 736.981 1104.88 729.875 Q1104.88 722.745 1103.05 719.203 Q1101.25 715.639 1097.61 715.639 M1097.61 711.935 Q1103.42 711.935 1106.48 716.541 Q1109.56 721.125 1109.56 729.875 Q1109.56 738.601 1106.48 743.208 Q1103.42 747.791 1097.61 747.791 Q1091.8 747.791 1088.72 743.208 Q1085.67 738.601 1085.67 729.875 Q1085.67 721.125 1088.72 716.541 Q1091.8 711.935 1097.61 711.935 Z\" fill=\"#000000\" fill-rule=\"evenodd\" fill-opacity=\"1\" /><polyline clip-path=\"url(#clip112)\" style=\"stroke:#000000; stroke-width:2; stroke-opacity:0.1; fill:none\" points=\"\n",
       "  194.422,533.754 1155.22,533.754 \n",
       "  \"/>\n",
       "<polyline clip-path=\"url(#clip112)\" style=\"stroke:#000000; stroke-width:2; stroke-opacity:0.1; fill:none\" points=\"\n",
       "  194.422,372.23 1155.22,372.23 \n",
       "  \"/>\n",
       "<polyline clip-path=\"url(#clip112)\" style=\"stroke:#000000; stroke-width:2; stroke-opacity:0.1; fill:none\" points=\"\n",
       "  194.422,210.706 1155.22,210.706 \n",
       "  \"/>\n",
       "<polyline clip-path=\"url(#clip112)\" style=\"stroke:#000000; stroke-width:2; stroke-opacity:0.1; fill:none\" points=\"\n",
       "  194.422,49.1824 1155.22,49.1824 \n",
       "  \"/>\n",
       "<polyline clip-path=\"url(#clip110)\" style=\"stroke:#000000; stroke-width:4; stroke-opacity:1; fill:none\" points=\"\n",
       "  194.422,686.448 194.422,47.2441 \n",
       "  \"/>\n",
       "<polyline clip-path=\"url(#clip110)\" style=\"stroke:#000000; stroke-width:4; stroke-opacity:1; fill:none\" points=\"\n",
       "  194.422,533.754 205.952,533.754 \n",
       "  \"/>\n",
       "<polyline clip-path=\"url(#clip110)\" style=\"stroke:#000000; stroke-width:4; stroke-opacity:1; fill:none\" points=\"\n",
       "  194.422,372.23 205.952,372.23 \n",
       "  \"/>\n",
       "<polyline clip-path=\"url(#clip110)\" style=\"stroke:#000000; stroke-width:4; stroke-opacity:1; fill:none\" points=\"\n",
       "  194.422,210.706 205.952,210.706 \n",
       "  \"/>\n",
       "<polyline clip-path=\"url(#clip110)\" style=\"stroke:#000000; stroke-width:4; stroke-opacity:1; fill:none\" points=\"\n",
       "  194.422,49.1824 205.952,49.1824 \n",
       "  \"/>\n",
       "<path clip-path=\"url(#clip110)\" d=\"M 0 0 M97.9363 534.205 L127.612 534.205 L127.612 538.141 L97.9363 538.141 L97.9363 534.205 Z\" fill=\"#000000\" fill-rule=\"evenodd\" fill-opacity=\"1\" /><path clip-path=\"url(#clip110)\" d=\"M 0 0 M138.515 547.099 L146.154 547.099 L146.154 520.733 L137.844 522.4 L137.844 518.141 L146.107 516.474 L150.783 516.474 L150.783 547.099 L158.422 547.099 L158.422 551.034 L138.515 551.034 L138.515 547.099 Z\" fill=\"#000000\" fill-rule=\"evenodd\" fill-opacity=\"1\" /><path clip-path=\"url(#clip110)\" d=\"M 0 0 M146.478 358.029 Q142.867 358.029 141.038 361.594 Q139.232 365.135 139.232 372.265 Q139.232 379.371 141.038 382.936 Q142.867 386.478 146.478 386.478 Q150.112 386.478 151.918 382.936 Q153.746 379.371 153.746 372.265 Q153.746 365.135 151.918 361.594 Q150.112 358.029 146.478 358.029 M146.478 354.325 Q152.288 354.325 155.343 358.932 Q158.422 363.515 158.422 372.265 Q158.422 380.992 155.343 385.598 Q152.288 390.181 146.478 390.181 Q140.668 390.181 137.589 385.598 Q134.533 380.992 134.533 372.265 Q134.533 363.515 137.589 358.932 Q140.668 354.325 146.478 354.325 Z\" fill=\"#000000\" fill-rule=\"evenodd\" fill-opacity=\"1\" /><path clip-path=\"url(#clip110)\" d=\"M 0 0 M138.515 224.051 L146.154 224.051 L146.154 197.685 L137.844 199.352 L137.844 195.093 L146.107 193.426 L150.783 193.426 L150.783 224.051 L158.422 224.051 L158.422 227.986 L138.515 227.986 L138.515 224.051 Z\" fill=\"#000000\" fill-rule=\"evenodd\" fill-opacity=\"1\" /><path clip-path=\"url(#clip110)\" d=\"M 0 0 M142.103 62.5272 L158.422 62.5272 L158.422 66.4624 L136.478 66.4624 L136.478 62.5272 Q139.14 59.7726 143.723 55.143 Q148.33 50.4902 149.51 49.1477 Q151.755 46.6245 152.635 44.8884 Q153.538 43.1292 153.538 41.4394 Q153.538 38.6848 151.593 36.9487 Q149.672 35.2125 146.57 35.2125 Q144.371 35.2125 141.918 35.9764 Q139.487 36.7403 136.709 38.2912 L136.709 33.569 Q139.533 32.4348 141.987 31.8561 Q144.441 31.2774 146.478 31.2774 Q151.848 31.2774 155.042 33.9626 Q158.237 36.6477 158.237 41.1384 Q158.237 43.2681 157.427 45.1893 Q156.64 47.0875 154.533 49.6801 Q153.955 50.3514 150.853 53.5689 Q147.751 56.7634 142.103 62.5272 Z\" fill=\"#000000\" fill-rule=\"evenodd\" fill-opacity=\"1\" /><polyline clip-path=\"url(#clip112)\" style=\"stroke:#009af9; stroke-width:4; stroke-opacity:1; fill:none\" points=\"\n",
       "  221.614,65.3348 266.935,668.357 312.256,346.355 357.576,310.529 402.897,299.293 448.218,294.875 493.538,292.987 538.859,292.153 584.179,291.778 629.5,291.609 \n",
       "  674.821,291.532 720.141,291.497 765.462,291.481 810.782,291.474 856.103,291.471 901.424,291.469 946.744,291.469 992.065,291.468 1037.39,291.468 1082.71,291.468 \n",
       "  1128.03,291.468 \n",
       "  \"/>\n",
       "<path clip-path=\"url(#clip110)\" d=\"\n",
       "M882.734 189.511 L1123.19 189.511 L1123.19 68.5509 L882.734 68.5509  Z\n",
       "  \" fill=\"#ffffff\" fill-rule=\"evenodd\" fill-opacity=\"1\"/>\n",
       "<polyline clip-path=\"url(#clip110)\" style=\"stroke:#000000; stroke-width:4; stroke-opacity:1; fill:none\" points=\"\n",
       "  882.734,189.511 1123.19,189.511 1123.19,68.5509 882.734,68.5509 882.734,189.511 \n",
       "  \"/>\n",
       "<polyline clip-path=\"url(#clip110)\" style=\"stroke:#009af9; stroke-width:4; stroke-opacity:1; fill:none\" points=\"\n",
       "  893.41,129.031 957.463,129.031 \n",
       "  \"/>\n",
       "<path clip-path=\"url(#clip110)\" d=\"M 0 0 M975.546 113.024 L975.546 120.385 L984.319 120.385 L984.319 123.695 L975.546 123.695 L975.546 137.769 Q975.546 140.941 976.402 141.843 Q977.282 142.746 979.944 142.746 L984.319 142.746 L984.319 146.311 L979.944 146.311 Q975.013 146.311 973.138 144.482 Q971.263 142.63 971.263 137.769 L971.263 123.695 L968.138 123.695 L968.138 120.385 L971.263 120.385 L971.263 113.024 L975.546 113.024 Z\" fill=\"#000000\" fill-rule=\"evenodd\" fill-opacity=\"1\" /><path clip-path=\"url(#clip110)\" d=\"M 0 0 M1012.1 132.283 L1012.1 134.367 L992.513 134.367 Q992.791 138.765 995.152 141.079 Q997.536 143.371 1001.77 143.371 Q1004.23 143.371 1006.52 142.769 Q1008.83 142.167 1011.1 140.964 L1011.1 144.991 Q1008.81 145.964 1006.4 146.473 Q1003.99 146.982 1001.52 146.982 Q995.314 146.982 991.68 143.371 Q988.069 139.76 988.069 133.603 Q988.069 127.237 991.495 123.51 Q994.944 119.76 1000.78 119.76 Q1006.01 119.76 1009.04 123.14 Q1012.1 126.496 1012.1 132.283 M1007.84 131.033 Q1007.79 127.538 1005.87 125.455 Q1003.97 123.371 1000.82 123.371 Q997.259 123.371 995.106 125.385 Q992.976 127.399 992.652 131.056 L1007.84 131.033 Z\" fill=\"#000000\" fill-rule=\"evenodd\" fill-opacity=\"1\" /><path clip-path=\"url(#clip110)\" d=\"M 0 0 M1034.11 124.367 Q1033.39 123.95 1032.54 123.765 Q1031.7 123.556 1030.68 123.556 Q1027.07 123.556 1025.13 125.917 Q1023.21 128.255 1023.21 132.654 L1023.21 146.311 L1018.93 146.311 L1018.93 120.385 L1023.21 120.385 L1023.21 124.413 Q1024.55 122.052 1026.7 120.918 Q1028.86 119.76 1031.93 119.76 Q1032.37 119.76 1032.91 119.83 Q1033.44 119.876 1034.09 119.992 L1034.11 124.367 Z\" fill=\"#000000\" fill-rule=\"evenodd\" fill-opacity=\"1\" /><path clip-path=\"url(#clip110)\" d=\"M 0 0 M1057.93 125.362 Q1059.53 122.492 1061.75 121.126 Q1063.97 119.76 1066.98 119.76 Q1071.03 119.76 1073.23 122.607 Q1075.43 125.431 1075.43 130.663 L1075.43 146.311 L1071.15 146.311 L1071.15 130.802 Q1071.15 127.075 1069.83 125.269 Q1068.51 123.464 1065.8 123.464 Q1062.49 123.464 1060.57 125.663 Q1058.65 127.862 1058.65 131.658 L1058.65 146.311 L1054.36 146.311 L1054.36 130.802 Q1054.36 127.052 1053.05 125.269 Q1051.73 123.464 1048.97 123.464 Q1045.71 123.464 1043.79 125.686 Q1041.86 127.885 1041.86 131.658 L1041.86 146.311 L1037.58 146.311 L1037.58 120.385 L1041.86 120.385 L1041.86 124.413 Q1043.32 122.029 1045.36 120.894 Q1047.4 119.76 1050.2 119.76 Q1053.02 119.76 1054.99 121.195 Q1056.98 122.63 1057.93 125.362 Z\" fill=\"#000000\" fill-rule=\"evenodd\" fill-opacity=\"1\" /><path clip-path=\"url(#clip110)\" d=\"M 0 0 M1100.45 121.149 L1100.45 125.177 Q1098.65 124.251 1096.7 123.788 Q1094.76 123.325 1092.67 123.325 Q1089.5 123.325 1087.91 124.297 Q1086.33 125.269 1086.33 127.214 Q1086.33 128.695 1087.47 129.552 Q1088.6 130.385 1092.03 131.149 L1093.48 131.473 Q1098.02 132.445 1099.92 134.228 Q1101.84 135.987 1101.84 139.158 Q1101.84 142.769 1098.97 144.876 Q1096.12 146.982 1091.12 146.982 Q1089.04 146.982 1086.77 146.566 Q1084.53 146.172 1082.03 145.362 L1082.03 140.964 Q1084.39 142.191 1086.68 142.816 Q1088.97 143.417 1091.22 143.417 Q1094.23 143.417 1095.85 142.399 Q1097.47 141.357 1097.47 139.482 Q1097.47 137.746 1096.29 136.82 Q1095.13 135.894 1091.17 135.038 L1089.69 134.691 Q1085.73 133.857 1083.97 132.144 Q1082.21 130.408 1082.21 127.399 Q1082.21 123.742 1084.8 121.751 Q1087.4 119.76 1092.17 119.76 Q1094.53 119.76 1096.61 120.107 Q1098.69 120.455 1100.45 121.149 Z\" fill=\"#000000\" fill-rule=\"evenodd\" fill-opacity=\"1\" /><path clip-path=\"url(#clip110)\" d=\"\n",
       "M1391.96 686.448 L2352.76 686.448 L2352.76 47.2441 L1391.96 47.2441  Z\n",
       "  \" fill=\"#ffffff\" fill-rule=\"evenodd\" fill-opacity=\"1\"/>\n",
       "<defs>\n",
       "  <clipPath id=\"clip113\">\n",
       "    <rect x=\"1391\" y=\"47\" width=\"962\" height=\"640\"/>\n",
       "  </clipPath>\n",
       "</defs>\n",
       "<polyline clip-path=\"url(#clip113)\" style=\"stroke:#000000; stroke-width:2; stroke-opacity:0.1; fill:none\" points=\"\n",
       "  1609.97,686.448 1609.97,47.2441 \n",
       "  \"/>\n",
       "<polyline clip-path=\"url(#clip113)\" style=\"stroke:#000000; stroke-width:2; stroke-opacity:0.1; fill:none\" points=\"\n",
       "  1848.5,686.448 1848.5,47.2441 \n",
       "  \"/>\n",
       "<polyline clip-path=\"url(#clip113)\" style=\"stroke:#000000; stroke-width:2; stroke-opacity:0.1; fill:none\" points=\"\n",
       "  2087.03,686.448 2087.03,47.2441 \n",
       "  \"/>\n",
       "<polyline clip-path=\"url(#clip113)\" style=\"stroke:#000000; stroke-width:2; stroke-opacity:0.1; fill:none\" points=\"\n",
       "  2325.56,686.448 2325.56,47.2441 \n",
       "  \"/>\n",
       "<polyline clip-path=\"url(#clip110)\" style=\"stroke:#000000; stroke-width:4; stroke-opacity:1; fill:none\" points=\"\n",
       "  1391.96,686.448 2352.76,686.448 \n",
       "  \"/>\n",
       "<polyline clip-path=\"url(#clip110)\" style=\"stroke:#000000; stroke-width:4; stroke-opacity:1; fill:none\" points=\"\n",
       "  1609.97,686.448 1609.97,678.777 \n",
       "  \"/>\n",
       "<polyline clip-path=\"url(#clip110)\" style=\"stroke:#000000; stroke-width:4; stroke-opacity:1; fill:none\" points=\"\n",
       "  1848.5,686.448 1848.5,678.777 \n",
       "  \"/>\n",
       "<polyline clip-path=\"url(#clip110)\" style=\"stroke:#000000; stroke-width:4; stroke-opacity:1; fill:none\" points=\"\n",
       "  2087.03,686.448 2087.03,678.777 \n",
       "  \"/>\n",
       "<polyline clip-path=\"url(#clip110)\" style=\"stroke:#000000; stroke-width:4; stroke-opacity:1; fill:none\" points=\"\n",
       "  2325.56,686.448 2325.56,678.777 \n",
       "  \"/>\n",
       "<path clip-path=\"url(#clip110)\" d=\"M 0 0 M1600.25 712.56 L1618.61 712.56 L1618.61 716.495 L1604.54 716.495 L1604.54 724.967 Q1605.55 724.62 1606.57 724.458 Q1607.59 724.273 1608.61 724.273 Q1614.4 724.273 1617.78 727.444 Q1621.16 730.615 1621.16 736.032 Q1621.16 741.611 1617.68 744.712 Q1614.21 747.791 1607.89 747.791 Q1605.72 747.791 1603.45 747.421 Q1601.2 747.05 1598.79 746.31 L1598.79 741.611 Q1600.88 742.745 1603.1 743.3 Q1605.32 743.856 1607.8 743.856 Q1611.8 743.856 1614.14 741.75 Q1616.48 739.643 1616.48 736.032 Q1616.48 732.421 1614.14 730.314 Q1611.8 728.208 1607.8 728.208 Q1605.92 728.208 1604.05 728.625 Q1602.2 729.041 1600.25 729.921 L1600.25 712.56 Z\" fill=\"#000000\" fill-rule=\"evenodd\" fill-opacity=\"1\" /><path clip-path=\"url(#clip110)\" d=\"M 0 0 M1823.19 743.185 L1830.83 743.185 L1830.83 716.819 L1822.52 718.486 L1822.52 714.227 L1830.78 712.56 L1835.46 712.56 L1835.46 743.185 L1843.1 743.185 L1843.1 747.12 L1823.19 747.12 L1823.19 743.185 Z\" fill=\"#000000\" fill-rule=\"evenodd\" fill-opacity=\"1\" /><path clip-path=\"url(#clip110)\" d=\"M 0 0 M1862.54 715.639 Q1858.93 715.639 1857.1 719.203 Q1855.3 722.745 1855.3 729.875 Q1855.3 736.981 1857.1 740.546 Q1858.93 744.087 1862.54 744.087 Q1866.18 744.087 1867.98 740.546 Q1869.81 736.981 1869.81 729.875 Q1869.81 722.745 1867.98 719.203 Q1866.18 715.639 1862.54 715.639 M1862.54 711.935 Q1868.35 711.935 1871.41 716.541 Q1874.49 721.125 1874.49 729.875 Q1874.49 738.601 1871.41 743.208 Q1868.35 747.791 1862.54 747.791 Q1856.73 747.791 1853.65 743.208 Q1850.6 738.601 1850.6 729.875 Q1850.6 721.125 1853.65 716.541 Q1856.73 711.935 1862.54 711.935 Z\" fill=\"#000000\" fill-rule=\"evenodd\" fill-opacity=\"1\" /><path clip-path=\"url(#clip110)\" d=\"M 0 0 M2062.22 743.185 L2069.86 743.185 L2069.86 716.819 L2061.55 718.486 L2061.55 714.227 L2069.81 712.56 L2074.49 712.56 L2074.49 743.185 L2082.13 743.185 L2082.13 747.12 L2062.22 747.12 L2062.22 743.185 Z\" fill=\"#000000\" fill-rule=\"evenodd\" fill-opacity=\"1\" /><path clip-path=\"url(#clip110)\" d=\"M 0 0 M2091.62 712.56 L2109.97 712.56 L2109.97 716.495 L2095.9 716.495 L2095.9 724.967 Q2096.92 724.62 2097.94 724.458 Q2098.96 724.273 2099.97 724.273 Q2105.76 724.273 2109.14 727.444 Q2112.52 730.615 2112.52 736.032 Q2112.52 741.611 2109.05 744.712 Q2105.58 747.791 2099.26 747.791 Q2097.08 747.791 2094.81 747.421 Q2092.57 747.05 2090.16 746.31 L2090.16 741.611 Q2092.24 742.745 2094.46 743.3 Q2096.69 743.856 2099.16 743.856 Q2103.17 743.856 2105.51 741.75 Q2107.84 739.643 2107.84 736.032 Q2107.84 732.421 2105.51 730.314 Q2103.17 728.208 2099.16 728.208 Q2097.29 728.208 2095.41 728.625 Q2093.56 729.041 2091.62 729.921 L2091.62 712.56 Z\" fill=\"#000000\" fill-rule=\"evenodd\" fill-opacity=\"1\" /><path clip-path=\"url(#clip110)\" d=\"M 0 0 M2304.34 743.185 L2320.66 743.185 L2320.66 747.12 L2298.71 747.12 L2298.71 743.185 Q2301.37 740.43 2305.96 735.8 Q2310.56 731.148 2311.74 729.805 Q2313.99 727.282 2314.87 725.546 Q2315.77 723.787 2315.77 722.097 Q2315.77 719.342 2313.83 717.606 Q2311.91 715.87 2308.8 715.87 Q2306.61 715.87 2304.15 716.634 Q2301.72 717.398 2298.94 718.949 L2298.94 714.227 Q2301.77 713.092 2304.22 712.514 Q2306.67 711.935 2308.71 711.935 Q2314.08 711.935 2317.28 714.62 Q2320.47 717.305 2320.47 721.796 Q2320.47 723.926 2319.66 725.847 Q2318.87 727.745 2316.77 730.338 Q2316.19 731.009 2313.09 734.226 Q2309.98 737.421 2304.34 743.185 Z\" fill=\"#000000\" fill-rule=\"evenodd\" fill-opacity=\"1\" /><path clip-path=\"url(#clip110)\" d=\"M 0 0 M2340.47 715.639 Q2336.86 715.639 2335.03 719.203 Q2333.23 722.745 2333.23 729.875 Q2333.23 736.981 2335.03 740.546 Q2336.86 744.087 2340.47 744.087 Q2344.11 744.087 2345.91 740.546 Q2347.74 736.981 2347.74 729.875 Q2347.74 722.745 2345.91 719.203 Q2344.11 715.639 2340.47 715.639 M2340.47 711.935 Q2346.28 711.935 2349.34 716.541 Q2352.42 721.125 2352.42 729.875 Q2352.42 738.601 2349.34 743.208 Q2346.28 747.791 2340.47 747.791 Q2334.66 747.791 2331.58 743.208 Q2328.53 738.601 2328.53 729.875 Q2328.53 721.125 2331.58 716.541 Q2334.66 711.935 2340.47 711.935 Z\" fill=\"#000000\" fill-rule=\"evenodd\" fill-opacity=\"1\" /><polyline clip-path=\"url(#clip113)\" style=\"stroke:#000000; stroke-width:2; stroke-opacity:0.1; fill:none\" points=\"\n",
       "  1391.96,606.732 2352.76,606.732 \n",
       "  \"/>\n",
       "<polyline clip-path=\"url(#clip113)\" style=\"stroke:#000000; stroke-width:2; stroke-opacity:0.1; fill:none\" points=\"\n",
       "  1391.96,524.353 2352.76,524.353 \n",
       "  \"/>\n",
       "<polyline clip-path=\"url(#clip113)\" style=\"stroke:#000000; stroke-width:2; stroke-opacity:0.1; fill:none\" points=\"\n",
       "  1391.96,441.975 2352.76,441.975 \n",
       "  \"/>\n",
       "<polyline clip-path=\"url(#clip113)\" style=\"stroke:#000000; stroke-width:2; stroke-opacity:0.1; fill:none\" points=\"\n",
       "  1391.96,359.597 2352.76,359.597 \n",
       "  \"/>\n",
       "<polyline clip-path=\"url(#clip113)\" style=\"stroke:#000000; stroke-width:2; stroke-opacity:0.1; fill:none\" points=\"\n",
       "  1391.96,277.219 2352.76,277.219 \n",
       "  \"/>\n",
       "<polyline clip-path=\"url(#clip113)\" style=\"stroke:#000000; stroke-width:2; stroke-opacity:0.1; fill:none\" points=\"\n",
       "  1391.96,194.841 2352.76,194.841 \n",
       "  \"/>\n",
       "<polyline clip-path=\"url(#clip113)\" style=\"stroke:#000000; stroke-width:2; stroke-opacity:0.1; fill:none\" points=\"\n",
       "  1391.96,112.463 2352.76,112.463 \n",
       "  \"/>\n",
       "<polyline clip-path=\"url(#clip110)\" style=\"stroke:#000000; stroke-width:4; stroke-opacity:1; fill:none\" points=\"\n",
       "  1391.96,686.448 1391.96,47.2441 \n",
       "  \"/>\n",
       "<polyline clip-path=\"url(#clip110)\" style=\"stroke:#000000; stroke-width:4; stroke-opacity:1; fill:none\" points=\"\n",
       "  1391.96,606.732 1403.49,606.732 \n",
       "  \"/>\n",
       "<polyline clip-path=\"url(#clip110)\" style=\"stroke:#000000; stroke-width:4; stroke-opacity:1; fill:none\" points=\"\n",
       "  1391.96,524.353 1403.49,524.353 \n",
       "  \"/>\n",
       "<polyline clip-path=\"url(#clip110)\" style=\"stroke:#000000; stroke-width:4; stroke-opacity:1; fill:none\" points=\"\n",
       "  1391.96,441.975 1403.49,441.975 \n",
       "  \"/>\n",
       "<polyline clip-path=\"url(#clip110)\" style=\"stroke:#000000; stroke-width:4; stroke-opacity:1; fill:none\" points=\"\n",
       "  1391.96,359.597 1403.49,359.597 \n",
       "  \"/>\n",
       "<polyline clip-path=\"url(#clip110)\" style=\"stroke:#000000; stroke-width:4; stroke-opacity:1; fill:none\" points=\"\n",
       "  1391.96,277.219 1403.49,277.219 \n",
       "  \"/>\n",
       "<polyline clip-path=\"url(#clip110)\" style=\"stroke:#000000; stroke-width:4; stroke-opacity:1; fill:none\" points=\"\n",
       "  1391.96,194.841 1403.49,194.841 \n",
       "  \"/>\n",
       "<polyline clip-path=\"url(#clip110)\" style=\"stroke:#000000; stroke-width:4; stroke-opacity:1; fill:none\" points=\"\n",
       "  1391.96,112.463 1403.49,112.463 \n",
       "  \"/>\n",
       "<path clip-path=\"url(#clip110)\" d=\"M 0 0 M1254.39 626.524 L1262.03 626.524 L1262.03 600.158 L1253.72 601.825 L1253.72 597.566 L1261.98 595.899 L1266.66 595.899 L1266.66 626.524 L1274.3 626.524 L1274.3 630.459 L1254.39 630.459 L1254.39 626.524 Z\" fill=\"#000000\" fill-rule=\"evenodd\" fill-opacity=\"1\" /><path clip-path=\"url(#clip110)\" d=\"M 0 0 M1293.74 598.978 Q1290.13 598.978 1288.3 602.543 Q1286.5 606.084 1286.5 613.214 Q1286.5 620.32 1288.3 623.885 Q1290.13 627.427 1293.74 627.427 Q1297.38 627.427 1299.18 623.885 Q1301.01 620.32 1301.01 613.214 Q1301.01 606.084 1299.18 602.543 Q1297.38 598.978 1293.74 598.978 M1293.74 595.274 Q1299.55 595.274 1302.61 599.881 Q1305.69 604.464 1305.69 613.214 Q1305.69 621.941 1302.61 626.547 Q1299.55 631.13 1293.74 631.13 Q1287.93 631.13 1284.85 626.547 Q1281.8 621.941 1281.8 613.214 Q1281.8 604.464 1284.85 599.881 Q1287.93 595.274 1293.74 595.274 Z\" fill=\"#000000\" fill-rule=\"evenodd\" fill-opacity=\"1\" /><path clip-path=\"url(#clip110)\" d=\"M 0 0 M1305.69 589.376 L1329.8 589.376 L1329.8 592.573 L1305.69 592.573 L1305.69 589.376 Z\" fill=\"#000000\" fill-rule=\"evenodd\" fill-opacity=\"1\" /><path clip-path=\"url(#clip110)\" d=\"M 0 0 M1346.59 587.495 Q1344.03 587.495 1342.53 589.244 Q1341.04 590.993 1341.04 594.04 Q1341.04 597.068 1342.53 598.836 Q1344.03 600.585 1346.59 600.585 Q1349.15 600.585 1350.64 598.836 Q1352.14 597.068 1352.14 594.04 Q1352.14 590.993 1350.64 589.244 Q1349.15 587.495 1346.59 587.495 M1354.13 575.589 L1354.13 579.05 Q1352.71 578.373 1351.24 578.016 Q1349.79 577.658 1348.36 577.658 Q1344.6 577.658 1342.61 580.197 Q1340.63 582.736 1340.35 587.871 Q1341.46 586.235 1343.13 585.369 Q1344.81 584.486 1346.82 584.486 Q1351.05 584.486 1353.5 587.062 Q1355.96 589.62 1355.96 594.04 Q1355.96 598.366 1353.4 600.98 Q1350.84 603.594 1346.59 603.594 Q1341.72 603.594 1339.14 599.87 Q1336.57 596.128 1336.57 589.037 Q1336.57 582.379 1339.73 578.429 Q1342.89 574.461 1348.21 574.461 Q1349.64 574.461 1351.09 574.743 Q1352.55 575.025 1354.13 575.589 Z\" fill=\"#000000\" fill-rule=\"evenodd\" fill-opacity=\"1\" /><path clip-path=\"url(#clip110)\" d=\"M 0 0 M1255.33 544.146 L1262.97 544.146 L1262.97 517.78 L1254.66 519.447 L1254.66 515.188 L1262.92 513.521 L1267.6 513.521 L1267.6 544.146 L1275.24 544.146 L1275.24 548.081 L1255.33 548.081 L1255.33 544.146 Z\" fill=\"#000000\" fill-rule=\"evenodd\" fill-opacity=\"1\" /><path clip-path=\"url(#clip110)\" d=\"M 0 0 M1294.68 516.6 Q1291.07 516.6 1289.24 520.165 Q1287.44 523.706 1287.44 530.836 Q1287.44 537.942 1289.24 541.507 Q1291.07 545.049 1294.68 545.049 Q1298.32 545.049 1300.12 541.507 Q1301.95 537.942 1301.95 530.836 Q1301.95 523.706 1300.12 520.165 Q1298.32 516.6 1294.68 516.6 M1294.68 512.896 Q1300.49 512.896 1303.55 517.503 Q1306.63 522.086 1306.63 530.836 Q1306.63 539.563 1303.55 544.169 Q1300.49 548.752 1294.68 548.752 Q1288.87 548.752 1285.79 544.169 Q1282.74 539.563 1282.74 530.836 Q1282.74 522.086 1285.79 517.503 Q1288.87 512.896 1294.68 512.896 Z\" fill=\"#000000\" fill-rule=\"evenodd\" fill-opacity=\"1\" /><path clip-path=\"url(#clip110)\" d=\"M 0 0 M1306.63 506.997 L1330.74 506.997 L1330.74 510.195 L1306.63 510.195 L1306.63 506.997 Z\" fill=\"#000000\" fill-rule=\"evenodd\" fill-opacity=\"1\" /><path clip-path=\"url(#clip110)\" d=\"M 0 0 M1338.98 492.591 L1353.89 492.591 L1353.89 495.788 L1342.46 495.788 L1342.46 502.672 Q1343.28 502.39 1344.11 502.258 Q1344.94 502.107 1345.77 502.107 Q1350.47 502.107 1353.21 504.684 Q1355.96 507.261 1355.96 511.662 Q1355.96 516.194 1353.14 518.715 Q1350.32 521.216 1345.18 521.216 Q1343.41 521.216 1341.57 520.915 Q1339.75 520.614 1337.79 520.012 L1337.79 516.194 Q1339.48 517.116 1341.29 517.567 Q1343.09 518.019 1345.11 518.019 Q1348.36 518.019 1350.26 516.307 Q1352.16 514.596 1352.16 511.662 Q1352.16 508.728 1350.26 507.016 Q1348.36 505.305 1345.11 505.305 Q1343.58 505.305 1342.06 505.643 Q1340.56 505.982 1338.98 506.697 L1338.98 492.591 Z\" fill=\"#000000\" fill-rule=\"evenodd\" fill-opacity=\"1\" /><path clip-path=\"url(#clip110)\" d=\"M 0 0 M1254.13 461.768 L1261.77 461.768 L1261.77 435.402 L1253.46 437.069 L1253.46 432.81 L1261.72 431.143 L1266.39 431.143 L1266.39 461.768 L1274.03 461.768 L1274.03 465.703 L1254.13 465.703 L1254.13 461.768 Z\" fill=\"#000000\" fill-rule=\"evenodd\" fill-opacity=\"1\" /><path clip-path=\"url(#clip110)\" d=\"M 0 0 M1293.48 434.222 Q1289.87 434.222 1288.04 437.786 Q1286.23 441.328 1286.23 448.458 Q1286.23 455.564 1288.04 459.129 Q1289.87 462.671 1293.48 462.671 Q1297.11 462.671 1298.92 459.129 Q1300.75 455.564 1300.75 448.458 Q1300.75 441.328 1298.92 437.786 Q1297.11 434.222 1293.48 434.222 M1293.48 430.518 Q1299.29 430.518 1302.34 435.124 Q1305.42 439.708 1305.42 448.458 Q1305.42 457.185 1302.34 461.791 Q1299.29 466.374 1293.48 466.374 Q1287.67 466.374 1284.59 461.791 Q1281.53 457.185 1281.53 448.458 Q1281.53 439.708 1284.59 435.124 Q1287.67 430.518 1293.48 430.518 Z\" fill=\"#000000\" fill-rule=\"evenodd\" fill-opacity=\"1\" /><path clip-path=\"url(#clip110)\" d=\"M 0 0 M1305.42 424.619 L1329.53 424.619 L1329.53 427.817 L1305.42 427.817 L1305.42 424.619 Z\" fill=\"#000000\" fill-rule=\"evenodd\" fill-opacity=\"1\" /><path clip-path=\"url(#clip110)\" d=\"M 0 0 M1348.17 413.523 L1338.58 428.513 L1348.17 428.513 L1348.17 413.523 M1347.18 410.213 L1351.95 410.213 L1351.95 428.513 L1355.96 428.513 L1355.96 431.672 L1351.95 431.672 L1351.95 438.293 L1348.17 438.293 L1348.17 431.672 L1335.5 431.672 L1335.5 428.005 L1347.18 410.213 Z\" fill=\"#000000\" fill-rule=\"evenodd\" fill-opacity=\"1\" /><path clip-path=\"url(#clip110)\" d=\"M 0 0 M1255.05 379.39 L1262.69 379.39 L1262.69 353.024 L1254.38 354.691 L1254.38 350.432 L1262.64 348.765 L1267.32 348.765 L1267.32 379.39 L1274.96 379.39 L1274.96 383.325 L1255.05 383.325 L1255.05 379.39 Z\" fill=\"#000000\" fill-rule=\"evenodd\" fill-opacity=\"1\" /><path clip-path=\"url(#clip110)\" d=\"M 0 0 M1294.4 351.844 Q1290.79 351.844 1288.96 355.408 Q1287.15 358.95 1287.15 366.08 Q1287.15 373.186 1288.96 376.751 Q1290.79 380.292 1294.4 380.292 Q1298.03 380.292 1299.84 376.751 Q1301.67 373.186 1301.67 366.08 Q1301.67 358.95 1299.84 355.408 Q1298.03 351.844 1294.4 351.844 M1294.4 348.14 Q1300.21 348.14 1303.27 352.746 Q1306.34 357.33 1306.34 366.08 Q1306.34 374.806 1303.27 379.413 Q1300.21 383.996 1294.4 383.996 Q1288.59 383.996 1285.51 379.413 Q1282.46 374.806 1282.46 366.08 Q1282.46 357.33 1285.51 352.746 Q1288.59 348.14 1294.4 348.14 Z\" fill=\"#000000\" fill-rule=\"evenodd\" fill-opacity=\"1\" /><path clip-path=\"url(#clip110)\" d=\"M 0 0 M1306.34 342.241 L1330.46 342.241 L1330.46 345.439 L1306.34 345.439 L1306.34 342.241 Z\" fill=\"#000000\" fill-rule=\"evenodd\" fill-opacity=\"1\" /><path clip-path=\"url(#clip110)\" d=\"M 0 0 M1350.17 340.774 Q1352.89 341.357 1354.42 343.2 Q1355.96 345.044 1355.96 347.752 Q1355.96 351.908 1353.1 354.184 Q1350.24 356.46 1344.98 356.46 Q1343.21 356.46 1341.33 356.103 Q1339.46 355.764 1337.47 355.068 L1337.47 351.401 Q1339.05 352.322 1340.93 352.792 Q1342.81 353.263 1344.86 353.263 Q1348.44 353.263 1350.3 351.852 Q1352.18 350.441 1352.18 347.752 Q1352.18 345.269 1350.43 343.878 Q1348.7 342.467 1345.6 342.467 L1342.32 342.467 L1342.32 339.345 L1345.75 339.345 Q1348.55 339.345 1350.03 338.235 Q1351.52 337.107 1351.52 335 Q1351.52 332.837 1349.98 331.69 Q1348.45 330.524 1345.6 330.524 Q1344.03 330.524 1342.25 330.863 Q1340.46 331.201 1338.32 331.916 L1338.32 328.53 Q1340.48 327.929 1342.36 327.628 Q1344.26 327.327 1345.93 327.327 Q1350.26 327.327 1352.78 329.301 Q1355.3 331.258 1355.3 334.605 Q1355.3 336.937 1353.97 338.555 Q1352.63 340.154 1350.17 340.774 Z\" fill=\"#000000\" fill-rule=\"evenodd\" fill-opacity=\"1\" /><path clip-path=\"url(#clip110)\" d=\"M 0 0 M1255.82 297.012 L1263.46 297.012 L1263.46 270.646 L1255.15 272.313 L1255.15 268.053 L1263.41 266.387 L1268.09 266.387 L1268.09 297.012 L1275.73 297.012 L1275.73 300.947 L1255.82 300.947 L1255.82 297.012 Z\" fill=\"#000000\" fill-rule=\"evenodd\" fill-opacity=\"1\" /><path clip-path=\"url(#clip110)\" d=\"M 0 0 M1295.17 269.465 Q1291.56 269.465 1289.73 273.03 Q1287.93 276.572 1287.93 283.702 Q1287.93 290.808 1289.73 294.373 Q1291.56 297.914 1295.17 297.914 Q1298.81 297.914 1300.61 294.373 Q1302.44 290.808 1302.44 283.702 Q1302.44 276.572 1300.61 273.03 Q1298.81 269.465 1295.17 269.465 M1295.17 265.762 Q1300.98 265.762 1304.04 270.368 Q1307.12 274.952 1307.12 283.702 Q1307.12 292.428 1304.04 297.035 Q1300.98 301.618 1295.17 301.618 Q1289.36 301.618 1286.28 297.035 Q1283.23 292.428 1283.23 283.702 Q1283.23 274.952 1286.28 270.368 Q1289.36 265.762 1295.17 265.762 Z\" fill=\"#000000\" fill-rule=\"evenodd\" fill-opacity=\"1\" /><path clip-path=\"url(#clip110)\" d=\"M 0 0 M1307.12 259.863 L1331.23 259.863 L1331.23 263.06 L1307.12 263.06 L1307.12 259.863 Z\" fill=\"#000000\" fill-rule=\"evenodd\" fill-opacity=\"1\" /><path clip-path=\"url(#clip110)\" d=\"M 0 0 M1342.7 270.339 L1355.96 270.339 L1355.96 273.536 L1338.13 273.536 L1338.13 270.339 Q1340.29 268.101 1344.02 264.339 Q1347.76 260.559 1348.72 259.468 Q1350.54 257.418 1351.26 256.008 Q1351.99 254.578 1351.99 253.205 Q1351.99 250.967 1350.41 249.556 Q1348.85 248.146 1346.33 248.146 Q1344.54 248.146 1342.55 248.767 Q1340.57 249.387 1338.32 250.647 L1338.32 246.811 Q1340.61 245.889 1342.61 245.419 Q1344.6 244.949 1346.25 244.949 Q1350.62 244.949 1353.21 247.13 Q1355.81 249.312 1355.81 252.961 Q1355.81 254.691 1355.15 256.252 Q1354.51 257.794 1352.8 259.901 Q1352.33 260.446 1349.81 263.06 Q1347.29 265.656 1342.7 270.339 Z\" fill=\"#000000\" fill-rule=\"evenodd\" fill-opacity=\"1\" /><path clip-path=\"url(#clip110)\" d=\"M 0 0 M1255.52 214.634 L1263.16 214.634 L1263.16 188.268 L1254.85 189.935 L1254.85 185.675 L1263.11 184.009 L1267.79 184.009 L1267.79 214.634 L1275.43 214.634 L1275.43 218.569 L1255.52 218.569 L1255.52 214.634 Z\" fill=\"#000000\" fill-rule=\"evenodd\" fill-opacity=\"1\" /><path clip-path=\"url(#clip110)\" d=\"M 0 0 M1294.87 187.087 Q1291.26 187.087 1289.43 190.652 Q1287.62 194.194 1287.62 201.323 Q1287.62 208.43 1289.43 211.995 Q1291.26 215.536 1294.87 215.536 Q1298.5 215.536 1300.31 211.995 Q1302.14 208.43 1302.14 201.323 Q1302.14 194.194 1300.31 190.652 Q1298.5 187.087 1294.87 187.087 M1294.87 183.384 Q1300.68 183.384 1303.74 187.99 Q1306.81 192.573 1306.81 201.323 Q1306.81 210.05 1303.74 214.657 Q1300.68 219.24 1294.87 219.24 Q1289.06 219.24 1285.98 214.657 Q1282.93 210.05 1282.93 201.323 Q1282.93 192.573 1285.98 187.99 Q1289.06 183.384 1294.87 183.384 Z\" fill=\"#000000\" fill-rule=\"evenodd\" fill-opacity=\"1\" /><path clip-path=\"url(#clip110)\" d=\"M 0 0 M1306.81 177.485 L1330.93 177.485 L1330.93 180.682 L1306.81 180.682 L1306.81 177.485 Z\" fill=\"#000000\" fill-rule=\"evenodd\" fill-opacity=\"1\" /><path clip-path=\"url(#clip110)\" d=\"M 0 0 M1339.78 187.961 L1345.99 187.961 L1345.99 166.539 L1339.24 167.893 L1339.24 164.432 L1345.95 163.078 L1349.75 163.078 L1349.75 187.961 L1355.96 187.961 L1355.96 191.158 L1339.78 191.158 L1339.78 187.961 Z\" fill=\"#000000\" fill-rule=\"evenodd\" fill-opacity=\"1\" /><path clip-path=\"url(#clip110)\" d=\"M 0 0 M1285.25 132.255 L1292.89 132.255 L1292.89 105.89 L1284.58 107.557 L1284.58 103.297 L1292.85 101.631 L1297.52 101.631 L1297.52 132.255 L1305.16 132.255 L1305.16 136.191 L1285.25 136.191 L1285.25 132.255 Z\" fill=\"#000000\" fill-rule=\"evenodd\" fill-opacity=\"1\" /><path clip-path=\"url(#clip110)\" d=\"M 0 0 M1324.61 104.709 Q1320.99 104.709 1319.17 108.274 Q1317.36 111.816 1317.36 118.945 Q1317.36 126.052 1319.17 129.617 Q1320.99 133.158 1324.61 133.158 Q1328.24 133.158 1330.04 129.617 Q1331.87 126.052 1331.87 118.945 Q1331.87 111.816 1330.04 108.274 Q1328.24 104.709 1324.61 104.709 M1324.61 101.006 Q1330.42 101.006 1333.47 105.612 Q1336.55 110.195 1336.55 118.945 Q1336.55 127.672 1333.47 132.279 Q1330.42 136.862 1324.61 136.862 Q1318.79 136.862 1315.72 132.279 Q1312.66 127.672 1312.66 118.945 Q1312.66 110.195 1315.72 105.612 Q1318.79 101.006 1324.61 101.006 Z\" fill=\"#000000\" fill-rule=\"evenodd\" fill-opacity=\"1\" /><path clip-path=\"url(#clip110)\" d=\"M 0 0 M1346.25 83.2016 Q1343.32 83.2016 1341.83 86.098 Q1340.37 88.9756 1340.37 94.7684 Q1340.37 100.542 1341.83 103.439 Q1343.32 106.316 1346.25 106.316 Q1349.21 106.316 1350.67 103.439 Q1352.16 100.542 1352.16 94.7684 Q1352.16 88.9756 1350.67 86.098 Q1349.21 83.2016 1346.25 83.2016 M1346.25 80.1924 Q1350.97 80.1924 1353.46 83.9351 Q1355.96 87.6591 1355.96 94.7684 Q1355.96 101.859 1353.46 105.602 Q1350.97 109.326 1346.25 109.326 Q1341.53 109.326 1339.03 105.602 Q1336.55 101.859 1336.55 94.7684 Q1336.55 87.6591 1339.03 83.9351 Q1341.53 80.1924 1346.25 80.1924 Z\" fill=\"#000000\" fill-rule=\"evenodd\" fill-opacity=\"1\" /><polyline clip-path=\"url(#clip113)\" style=\"stroke:#009af9; stroke-width:4; stroke-opacity:1; fill:none\" points=\"\n",
       "  1419.15,65.3348 1466.86,87.7807 1514.56,166.341 1562.27,207.826 1609.97,241.222 1657.68,271.651 1705.39,300.843 1753.09,329.494 1800.8,357.902 1848.5,386.2 \n",
       "  1896.21,414.45 1943.92,442.677 1991.62,470.893 2039.33,499.105 2087.03,527.315 2134.74,555.524 2182.45,583.733 2230.15,611.941 2277.86,640.149 2325.56,668.357 \n",
       "  \n",
       "  \"/>\n",
       "<path clip-path=\"url(#clip110)\" d=\"\n",
       "M2150.48 189.511 L2320.73 189.511 L2320.73 68.5509 L2150.48 68.5509  Z\n",
       "  \" fill=\"#ffffff\" fill-rule=\"evenodd\" fill-opacity=\"1\"/>\n",
       "<polyline clip-path=\"url(#clip110)\" style=\"stroke:#000000; stroke-width:4; stroke-opacity:1; fill:none\" points=\"\n",
       "  2150.48,189.511 2320.73,189.511 2320.73,68.5509 2150.48,68.5509 2150.48,189.511 \n",
       "  \"/>\n",
       "<polyline clip-path=\"url(#clip110)\" style=\"stroke:#009af9; stroke-width:4; stroke-opacity:1; fill:none\" points=\"\n",
       "  2161.15,129.031 2225.21,129.031 \n",
       "  \"/>\n",
       "<path clip-path=\"url(#clip110)\" d=\"M 0 0 M2235.88 106.664 L2240.14 106.664 L2240.14 142.682 L2235.88 142.682 L2235.88 106.664 Z\" fill=\"#000000\" fill-rule=\"evenodd\" fill-opacity=\"1\" /><path clip-path=\"url(#clip110)\" d=\"M 0 0 M2259.1 119.742 Q2255.67 119.742 2253.68 122.428 Q2251.69 125.09 2251.69 129.742 Q2251.69 134.395 2253.66 137.08 Q2255.65 139.742 2259.1 139.742 Q2262.5 139.742 2264.49 137.057 Q2266.48 134.372 2266.48 129.742 Q2266.48 125.136 2264.49 122.451 Q2262.5 119.742 2259.1 119.742 M2259.1 116.131 Q2264.66 116.131 2267.83 119.742 Q2271 123.353 2271 129.742 Q2271 136.108 2267.83 139.742 Q2264.66 143.353 2259.1 143.353 Q2253.52 143.353 2250.35 139.742 Q2247.2 136.108 2247.2 129.742 Q2247.2 123.353 2250.35 119.742 Q2253.52 116.131 2259.1 116.131 Z\" fill=\"#000000\" fill-rule=\"evenodd\" fill-opacity=\"1\" /><path clip-path=\"url(#clip110)\" d=\"M 0 0 M2295.12 129.418 Q2295.12 124.789 2293.2 122.242 Q2291.3 119.696 2287.85 119.696 Q2284.42 119.696 2282.5 122.242 Q2280.61 124.789 2280.61 129.418 Q2280.61 134.025 2282.5 136.571 Q2284.42 139.117 2287.85 139.117 Q2291.3 139.117 2293.2 136.571 Q2295.12 134.025 2295.12 129.418 M2299.38 139.465 Q2299.38 146.085 2296.44 149.302 Q2293.5 152.543 2287.43 152.543 Q2285.19 152.543 2283.2 152.196 Q2281.21 151.872 2279.33 151.177 L2279.33 147.034 Q2281.21 148.052 2283.04 148.539 Q2284.86 149.025 2286.76 149.025 Q2290.95 149.025 2293.04 146.826 Q2295.12 144.65 2295.12 140.228 L2295.12 138.122 Q2293.8 140.414 2291.74 141.548 Q2289.68 142.682 2286.81 142.682 Q2282.04 142.682 2279.12 139.048 Q2276.21 135.414 2276.21 129.418 Q2276.21 123.4 2279.12 119.766 Q2282.04 116.131 2286.81 116.131 Q2289.68 116.131 2291.74 117.266 Q2293.8 118.4 2295.12 120.691 L2295.12 116.756 L2299.38 116.756 L2299.38 139.465 Z\" fill=\"#000000\" fill-rule=\"evenodd\" fill-opacity=\"1\" /><path clip-path=\"url(#clip110)\" d=\"\n",
       "M194.422 1486.45 L1155.22 1486.45 L1155.22 847.244 L194.422 847.244  Z\n",
       "  \" fill=\"#ffffff\" fill-rule=\"evenodd\" fill-opacity=\"1\"/>\n",
       "<defs>\n",
       "  <clipPath id=\"clip114\">\n",
       "    <rect x=\"194\" y=\"847\" width=\"962\" height=\"640\"/>\n",
       "  </clipPath>\n",
       "</defs>\n",
       "<polyline clip-path=\"url(#clip114)\" style=\"stroke:#000000; stroke-width:2; stroke-opacity:0.1; fill:none\" points=\"\n",
       "  297.149,1486.45 297.149,847.244 \n",
       "  \"/>\n",
       "<polyline clip-path=\"url(#clip114)\" style=\"stroke:#000000; stroke-width:2; stroke-opacity:0.1; fill:none\" points=\"\n",
       "  423.039,1486.45 423.039,847.244 \n",
       "  \"/>\n",
       "<polyline clip-path=\"url(#clip114)\" style=\"stroke:#000000; stroke-width:2; stroke-opacity:0.1; fill:none\" points=\"\n",
       "  548.93,1486.45 548.93,847.244 \n",
       "  \"/>\n",
       "<polyline clip-path=\"url(#clip114)\" style=\"stroke:#000000; stroke-width:2; stroke-opacity:0.1; fill:none\" points=\"\n",
       "  674.821,1486.45 674.821,847.244 \n",
       "  \"/>\n",
       "<polyline clip-path=\"url(#clip114)\" style=\"stroke:#000000; stroke-width:2; stroke-opacity:0.1; fill:none\" points=\"\n",
       "  800.711,1486.45 800.711,847.244 \n",
       "  \"/>\n",
       "<polyline clip-path=\"url(#clip114)\" style=\"stroke:#000000; stroke-width:2; stroke-opacity:0.1; fill:none\" points=\"\n",
       "  926.602,1486.45 926.602,847.244 \n",
       "  \"/>\n",
       "<polyline clip-path=\"url(#clip114)\" style=\"stroke:#000000; stroke-width:2; stroke-opacity:0.1; fill:none\" points=\"\n",
       "  1052.49,1486.45 1052.49,847.244 \n",
       "  \"/>\n",
       "<polyline clip-path=\"url(#clip110)\" style=\"stroke:#000000; stroke-width:4; stroke-opacity:1; fill:none\" points=\"\n",
       "  194.422,1486.45 1155.22,1486.45 \n",
       "  \"/>\n",
       "<polyline clip-path=\"url(#clip110)\" style=\"stroke:#000000; stroke-width:4; stroke-opacity:1; fill:none\" points=\"\n",
       "  297.149,1486.45 297.149,1478.78 \n",
       "  \"/>\n",
       "<polyline clip-path=\"url(#clip110)\" style=\"stroke:#000000; stroke-width:4; stroke-opacity:1; fill:none\" points=\"\n",
       "  423.039,1486.45 423.039,1478.78 \n",
       "  \"/>\n",
       "<polyline clip-path=\"url(#clip110)\" style=\"stroke:#000000; stroke-width:4; stroke-opacity:1; fill:none\" points=\"\n",
       "  548.93,1486.45 548.93,1478.78 \n",
       "  \"/>\n",
       "<polyline clip-path=\"url(#clip110)\" style=\"stroke:#000000; stroke-width:4; stroke-opacity:1; fill:none\" points=\"\n",
       "  674.821,1486.45 674.821,1478.78 \n",
       "  \"/>\n",
       "<polyline clip-path=\"url(#clip110)\" style=\"stroke:#000000; stroke-width:4; stroke-opacity:1; fill:none\" points=\"\n",
       "  800.711,1486.45 800.711,1478.78 \n",
       "  \"/>\n",
       "<polyline clip-path=\"url(#clip110)\" style=\"stroke:#000000; stroke-width:4; stroke-opacity:1; fill:none\" points=\"\n",
       "  926.602,1486.45 926.602,1478.78 \n",
       "  \"/>\n",
       "<polyline clip-path=\"url(#clip110)\" style=\"stroke:#000000; stroke-width:4; stroke-opacity:1; fill:none\" points=\"\n",
       "  1052.49,1486.45 1052.49,1478.78 \n",
       "  \"/>\n",
       "<path clip-path=\"url(#clip110)\" d=\"M 0 0 M268.885 1543.18 L285.204 1543.18 L285.204 1547.12 L263.26 1547.12 L263.26 1543.18 Q265.922 1540.43 270.505 1535.8 Q275.112 1531.15 276.292 1529.81 Q278.538 1527.28 279.417 1525.55 Q280.32 1523.79 280.32 1522.1 Q280.32 1519.34 278.376 1517.61 Q276.454 1515.87 273.353 1515.87 Q271.154 1515.87 268.7 1516.63 Q266.269 1517.4 263.492 1518.95 L263.492 1514.23 Q266.316 1513.09 268.769 1512.51 Q271.223 1511.93 273.26 1511.93 Q278.63 1511.93 281.825 1514.62 Q285.019 1517.31 285.019 1521.8 Q285.019 1523.93 284.209 1525.85 Q283.422 1527.74 281.316 1530.34 Q280.737 1531.01 277.635 1534.23 Q274.533 1537.42 268.885 1543.18 Z\" fill=\"#000000\" fill-rule=\"evenodd\" fill-opacity=\"1\" /><path clip-path=\"url(#clip110)\" d=\"M 0 0 M295.019 1541.24 L299.903 1541.24 L299.903 1547.12 L295.019 1547.12 L295.019 1541.24 Z\" fill=\"#000000\" fill-rule=\"evenodd\" fill-opacity=\"1\" /><path clip-path=\"url(#clip110)\" d=\"M 0 0 M310.135 1512.56 L328.491 1512.56 L328.491 1516.5 L314.417 1516.5 L314.417 1524.97 Q315.436 1524.62 316.454 1524.46 Q317.473 1524.27 318.491 1524.27 Q324.278 1524.27 327.658 1527.44 Q331.038 1530.62 331.038 1536.03 Q331.038 1541.61 327.565 1544.71 Q324.093 1547.79 317.774 1547.79 Q315.598 1547.79 313.329 1547.42 Q311.084 1547.05 308.677 1546.31 L308.677 1541.61 Q310.76 1542.74 312.982 1543.3 Q315.204 1543.86 317.681 1543.86 Q321.686 1543.86 324.024 1541.75 Q326.362 1539.64 326.362 1536.03 Q326.362 1532.42 324.024 1530.31 Q321.686 1528.21 317.681 1528.21 Q315.806 1528.21 313.931 1528.62 Q312.079 1529.04 310.135 1529.92 L310.135 1512.56 Z\" fill=\"#000000\" fill-rule=\"evenodd\" fill-opacity=\"1\" /><path clip-path=\"url(#clip110)\" d=\"M 0 0 M390.204 1512.56 L408.56 1512.56 L408.56 1516.5 L394.486 1516.5 L394.486 1524.97 Q395.505 1524.62 396.523 1524.46 Q397.542 1524.27 398.56 1524.27 Q404.347 1524.27 407.727 1527.44 Q411.107 1530.62 411.107 1536.03 Q411.107 1541.61 407.634 1544.71 Q404.162 1547.79 397.843 1547.79 Q395.667 1547.79 393.398 1547.42 Q391.153 1547.05 388.746 1546.31 L388.746 1541.61 Q390.829 1542.74 393.051 1543.3 Q395.273 1543.86 397.75 1543.86 Q401.755 1543.86 404.093 1541.75 Q406.431 1539.64 406.431 1536.03 Q406.431 1532.42 404.093 1530.31 Q401.755 1528.21 397.75 1528.21 Q395.875 1528.21 394 1528.62 Q392.148 1529.04 390.204 1529.92 L390.204 1512.56 Z\" fill=\"#000000\" fill-rule=\"evenodd\" fill-opacity=\"1\" /><path clip-path=\"url(#clip110)\" d=\"M 0 0 M420.32 1541.24 L425.204 1541.24 L425.204 1547.12 L420.32 1547.12 L420.32 1541.24 Z\" fill=\"#000000\" fill-rule=\"evenodd\" fill-opacity=\"1\" /><path clip-path=\"url(#clip110)\" d=\"M 0 0 M445.389 1515.64 Q441.778 1515.64 439.949 1519.2 Q438.143 1522.75 438.143 1529.87 Q438.143 1536.98 439.949 1540.55 Q441.778 1544.09 445.389 1544.09 Q449.023 1544.09 450.829 1540.55 Q452.657 1536.98 452.657 1529.87 Q452.657 1522.75 450.829 1519.2 Q449.023 1515.64 445.389 1515.64 M445.389 1511.93 Q451.199 1511.93 454.255 1516.54 Q457.333 1521.12 457.333 1529.87 Q457.333 1538.6 454.255 1543.21 Q451.199 1547.79 445.389 1547.79 Q439.579 1547.79 436.5 1543.21 Q433.444 1538.6 433.444 1529.87 Q433.444 1521.12 436.5 1516.54 Q439.579 1511.93 445.389 1511.93 Z\" fill=\"#000000\" fill-rule=\"evenodd\" fill-opacity=\"1\" /><path clip-path=\"url(#clip110)\" d=\"M 0 0 M515.25 1512.56 L537.472 1512.56 L537.472 1514.55 L524.925 1547.12 L520.041 1547.12 L531.847 1516.5 L515.25 1516.5 L515.25 1512.56 Z\" fill=\"#000000\" fill-rule=\"evenodd\" fill-opacity=\"1\" /><path clip-path=\"url(#clip110)\" d=\"M 0 0 M546.592 1541.24 L551.476 1541.24 L551.476 1547.12 L546.592 1547.12 L546.592 1541.24 Z\" fill=\"#000000\" fill-rule=\"evenodd\" fill-opacity=\"1\" /><path clip-path=\"url(#clip110)\" d=\"M 0 0 M561.708 1512.56 L580.064 1512.56 L580.064 1516.5 L565.99 1516.5 L565.99 1524.97 Q567.009 1524.62 568.027 1524.46 Q569.046 1524.27 570.064 1524.27 Q575.851 1524.27 579.231 1527.44 Q582.61 1530.62 582.61 1536.03 Q582.61 1541.61 579.138 1544.71 Q575.666 1547.79 569.347 1547.79 Q567.171 1547.79 564.902 1547.42 Q562.657 1547.05 560.249 1546.31 L560.249 1541.61 Q562.333 1542.74 564.555 1543.3 Q566.777 1543.86 569.254 1543.86 Q573.259 1543.86 575.596 1541.75 Q577.934 1539.64 577.934 1536.03 Q577.934 1532.42 575.596 1530.31 Q573.259 1528.21 569.254 1528.21 Q567.379 1528.21 565.504 1528.62 Q563.652 1529.04 561.708 1529.92 L561.708 1512.56 Z\" fill=\"#000000\" fill-rule=\"evenodd\" fill-opacity=\"1\" /><path clip-path=\"url(#clip110)\" d=\"M 0 0 M626.893 1543.18 L634.531 1543.18 L634.531 1516.82 L626.221 1518.49 L626.221 1514.23 L634.485 1512.56 L639.161 1512.56 L639.161 1543.18 L646.8 1543.18 L646.8 1547.12 L626.893 1547.12 L626.893 1543.18 Z\" fill=\"#000000\" fill-rule=\"evenodd\" fill-opacity=\"1\" /><path clip-path=\"url(#clip110)\" d=\"M 0 0 M666.244 1515.64 Q662.633 1515.64 660.804 1519.2 Q658.999 1522.75 658.999 1529.87 Q658.999 1536.98 660.804 1540.55 Q662.633 1544.09 666.244 1544.09 Q669.878 1544.09 671.684 1540.55 Q673.513 1536.98 673.513 1529.87 Q673.513 1522.75 671.684 1519.2 Q669.878 1515.64 666.244 1515.64 M666.244 1511.93 Q672.054 1511.93 675.11 1516.54 Q678.189 1521.12 678.189 1529.87 Q678.189 1538.6 675.11 1543.21 Q672.054 1547.79 666.244 1547.79 Q660.434 1547.79 657.355 1543.21 Q654.3 1538.6 654.3 1529.87 Q654.3 1521.12 657.355 1516.54 Q660.434 1511.93 666.244 1511.93 Z\" fill=\"#000000\" fill-rule=\"evenodd\" fill-opacity=\"1\" /><path clip-path=\"url(#clip110)\" d=\"M 0 0 M686.406 1541.24 L691.29 1541.24 L691.29 1547.12 L686.406 1547.12 L686.406 1541.24 Z\" fill=\"#000000\" fill-rule=\"evenodd\" fill-opacity=\"1\" /><path clip-path=\"url(#clip110)\" d=\"M 0 0 M711.475 1515.64 Q707.864 1515.64 706.036 1519.2 Q704.23 1522.75 704.23 1529.87 Q704.23 1536.98 706.036 1540.55 Q707.864 1544.09 711.475 1544.09 Q715.11 1544.09 716.915 1540.55 Q718.744 1536.98 718.744 1529.87 Q718.744 1522.75 716.915 1519.2 Q715.11 1515.64 711.475 1515.64 M711.475 1511.93 Q717.286 1511.93 720.341 1516.54 Q723.42 1521.12 723.42 1529.87 Q723.42 1538.6 720.341 1543.21 Q717.286 1547.79 711.475 1547.79 Q705.665 1547.79 702.587 1543.21 Q699.531 1538.6 699.531 1529.87 Q699.531 1521.12 702.587 1516.54 Q705.665 1511.93 711.475 1511.93 Z\" fill=\"#000000\" fill-rule=\"evenodd\" fill-opacity=\"1\" /><path clip-path=\"url(#clip110)\" d=\"M 0 0 M753.281 1543.18 L760.92 1543.18 L760.92 1516.82 L752.61 1518.49 L752.61 1514.23 L760.873 1512.56 L765.549 1512.56 L765.549 1543.18 L773.188 1543.18 L773.188 1547.12 L753.281 1547.12 L753.281 1543.18 Z\" fill=\"#000000\" fill-rule=\"evenodd\" fill-opacity=\"1\" /><path clip-path=\"url(#clip110)\" d=\"M 0 0 M786.66 1543.18 L802.98 1543.18 L802.98 1547.12 L781.035 1547.12 L781.035 1543.18 Q783.697 1540.43 788.281 1535.8 Q792.887 1531.15 794.068 1529.81 Q796.313 1527.28 797.193 1525.55 Q798.095 1523.79 798.095 1522.1 Q798.095 1519.34 796.151 1517.61 Q794.23 1515.87 791.128 1515.87 Q788.929 1515.87 786.475 1516.63 Q784.045 1517.4 781.267 1518.95 L781.267 1514.23 Q784.091 1513.09 786.545 1512.51 Q788.998 1511.93 791.035 1511.93 Q796.406 1511.93 799.6 1514.62 Q802.794 1517.31 802.794 1521.8 Q802.794 1523.93 801.984 1525.85 Q801.197 1527.74 799.091 1530.34 Q798.512 1531.01 795.41 1534.23 Q792.308 1537.42 786.66 1543.18 Z\" fill=\"#000000\" fill-rule=\"evenodd\" fill-opacity=\"1\" /><path clip-path=\"url(#clip110)\" d=\"M 0 0 M812.794 1541.24 L817.679 1541.24 L817.679 1547.12 L812.794 1547.12 L812.794 1541.24 Z\" fill=\"#000000\" fill-rule=\"evenodd\" fill-opacity=\"1\" /><path clip-path=\"url(#clip110)\" d=\"M 0 0 M827.91 1512.56 L846.266 1512.56 L846.266 1516.5 L832.192 1516.5 L832.192 1524.97 Q833.211 1524.62 834.229 1524.46 Q835.248 1524.27 836.266 1524.27 Q842.054 1524.27 845.433 1527.44 Q848.813 1530.62 848.813 1536.03 Q848.813 1541.61 845.341 1544.71 Q841.868 1547.79 835.549 1547.79 Q833.373 1547.79 831.104 1547.42 Q828.859 1547.05 826.452 1546.31 L826.452 1541.61 Q828.535 1542.74 830.757 1543.3 Q832.979 1543.86 835.456 1543.86 Q839.461 1543.86 841.799 1541.75 Q844.137 1539.64 844.137 1536.03 Q844.137 1532.42 841.799 1530.31 Q839.461 1528.21 835.456 1528.21 Q833.581 1528.21 831.706 1528.62 Q829.854 1529.04 827.91 1529.92 L827.91 1512.56 Z\" fill=\"#000000\" fill-rule=\"evenodd\" fill-opacity=\"1\" /><path clip-path=\"url(#clip110)\" d=\"M 0 0 M878.674 1543.18 L886.313 1543.18 L886.313 1516.82 L878.002 1518.49 L878.002 1514.23 L886.266 1512.56 L890.942 1512.56 L890.942 1543.18 L898.581 1543.18 L898.581 1547.12 L878.674 1547.12 L878.674 1543.18 Z\" fill=\"#000000\" fill-rule=\"evenodd\" fill-opacity=\"1\" /><path clip-path=\"url(#clip110)\" d=\"M 0 0 M908.072 1512.56 L926.428 1512.56 L926.428 1516.5 L912.354 1516.5 L912.354 1524.97 Q913.373 1524.62 914.391 1524.46 Q915.41 1524.27 916.428 1524.27 Q922.215 1524.27 925.595 1527.44 Q928.974 1530.62 928.974 1536.03 Q928.974 1541.61 925.502 1544.71 Q922.03 1547.79 915.711 1547.79 Q913.535 1547.79 911.266 1547.42 Q909.021 1547.05 906.613 1546.31 L906.613 1541.61 Q908.697 1542.74 910.919 1543.3 Q913.141 1543.86 915.618 1543.86 Q919.623 1543.86 921.961 1541.75 Q924.298 1539.64 924.298 1536.03 Q924.298 1532.42 921.961 1530.31 Q919.623 1528.21 915.618 1528.21 Q913.743 1528.21 911.868 1528.62 Q910.016 1529.04 908.072 1529.92 L908.072 1512.56 Z\" fill=\"#000000\" fill-rule=\"evenodd\" fill-opacity=\"1\" /><path clip-path=\"url(#clip110)\" d=\"M 0 0 M938.187 1541.24 L943.072 1541.24 L943.072 1547.12 L938.187 1547.12 L938.187 1541.24 Z\" fill=\"#000000\" fill-rule=\"evenodd\" fill-opacity=\"1\" /><path clip-path=\"url(#clip110)\" d=\"M 0 0 M963.257 1515.64 Q959.646 1515.64 957.817 1519.2 Q956.011 1522.75 956.011 1529.87 Q956.011 1536.98 957.817 1540.55 Q959.646 1544.09 963.257 1544.09 Q966.891 1544.09 968.696 1540.55 Q970.525 1536.98 970.525 1529.87 Q970.525 1522.75 968.696 1519.2 Q966.891 1515.64 963.257 1515.64 M963.257 1511.93 Q969.067 1511.93 972.122 1516.54 Q975.201 1521.12 975.201 1529.87 Q975.201 1538.6 972.122 1543.21 Q969.067 1547.79 963.257 1547.79 Q957.446 1547.79 954.368 1543.21 Q951.312 1538.6 951.312 1529.87 Q951.312 1521.12 954.368 1516.54 Q957.446 1511.93 963.257 1511.93 Z\" fill=\"#000000\" fill-rule=\"evenodd\" fill-opacity=\"1\" /><path clip-path=\"url(#clip110)\" d=\"M 0 0 M1005.06 1543.18 L1012.7 1543.18 L1012.7 1516.82 L1004.39 1518.49 L1004.39 1514.23 L1012.65 1512.56 L1017.33 1512.56 L1017.33 1543.18 L1024.97 1543.18 L1024.97 1547.12 L1005.06 1547.12 L1005.06 1543.18 Z\" fill=\"#000000\" fill-rule=\"evenodd\" fill-opacity=\"1\" /><path clip-path=\"url(#clip110)\" d=\"M 0 0 M1033.23 1512.56 L1055.46 1512.56 L1055.46 1514.55 L1042.91 1547.12 L1038.02 1547.12 L1049.83 1516.5 L1033.23 1516.5 L1033.23 1512.56 Z\" fill=\"#000000\" fill-rule=\"evenodd\" fill-opacity=\"1\" /><path clip-path=\"url(#clip110)\" d=\"M 0 0 M1064.58 1541.24 L1069.46 1541.24 L1069.46 1547.12 L1064.58 1547.12 L1064.58 1541.24 Z\" fill=\"#000000\" fill-rule=\"evenodd\" fill-opacity=\"1\" /><path clip-path=\"url(#clip110)\" d=\"M 0 0 M1079.69 1512.56 L1098.05 1512.56 L1098.05 1516.5 L1083.97 1516.5 L1083.97 1524.97 Q1084.99 1524.62 1086.01 1524.46 Q1087.03 1524.27 1088.05 1524.27 Q1093.83 1524.27 1097.21 1527.44 Q1100.59 1530.62 1100.59 1536.03 Q1100.59 1541.61 1097.12 1544.71 Q1093.65 1547.79 1087.33 1547.79 Q1085.15 1547.79 1082.89 1547.42 Q1080.64 1547.05 1078.23 1546.31 L1078.23 1541.61 Q1080.32 1542.74 1082.54 1543.3 Q1084.76 1543.86 1087.24 1543.86 Q1091.24 1543.86 1093.58 1541.75 Q1095.92 1539.64 1095.92 1536.03 Q1095.92 1532.42 1093.58 1530.31 Q1091.24 1528.21 1087.24 1528.21 Q1085.36 1528.21 1083.49 1528.62 Q1081.64 1529.04 1079.69 1529.92 L1079.69 1512.56 Z\" fill=\"#000000\" fill-rule=\"evenodd\" fill-opacity=\"1\" /><polyline clip-path=\"url(#clip114)\" style=\"stroke:#000000; stroke-width:2; stroke-opacity:0.1; fill:none\" points=\"\n",
       "  194.422,1386.63 1155.22,1386.63 \n",
       "  \"/>\n",
       "<polyline clip-path=\"url(#clip114)\" style=\"stroke:#000000; stroke-width:2; stroke-opacity:0.1; fill:none\" points=\"\n",
       "  194.422,1264.62 1155.22,1264.62 \n",
       "  \"/>\n",
       "<polyline clip-path=\"url(#clip114)\" style=\"stroke:#000000; stroke-width:2; stroke-opacity:0.1; fill:none\" points=\"\n",
       "  194.422,1142.62 1155.22,1142.62 \n",
       "  \"/>\n",
       "<polyline clip-path=\"url(#clip114)\" style=\"stroke:#000000; stroke-width:2; stroke-opacity:0.1; fill:none\" points=\"\n",
       "  194.422,1020.61 1155.22,1020.61 \n",
       "  \"/>\n",
       "<polyline clip-path=\"url(#clip114)\" style=\"stroke:#000000; stroke-width:2; stroke-opacity:0.1; fill:none\" points=\"\n",
       "  194.422,898.608 1155.22,898.608 \n",
       "  \"/>\n",
       "<polyline clip-path=\"url(#clip110)\" style=\"stroke:#000000; stroke-width:4; stroke-opacity:1; fill:none\" points=\"\n",
       "  194.422,1486.45 194.422,847.244 \n",
       "  \"/>\n",
       "<polyline clip-path=\"url(#clip110)\" style=\"stroke:#000000; stroke-width:4; stroke-opacity:1; fill:none\" points=\"\n",
       "  194.422,1386.63 205.952,1386.63 \n",
       "  \"/>\n",
       "<polyline clip-path=\"url(#clip110)\" style=\"stroke:#000000; stroke-width:4; stroke-opacity:1; fill:none\" points=\"\n",
       "  194.422,1264.62 205.952,1264.62 \n",
       "  \"/>\n",
       "<polyline clip-path=\"url(#clip110)\" style=\"stroke:#000000; stroke-width:4; stroke-opacity:1; fill:none\" points=\"\n",
       "  194.422,1142.62 205.952,1142.62 \n",
       "  \"/>\n",
       "<polyline clip-path=\"url(#clip110)\" style=\"stroke:#000000; stroke-width:4; stroke-opacity:1; fill:none\" points=\"\n",
       "  194.422,1020.61 205.952,1020.61 \n",
       "  \"/>\n",
       "<polyline clip-path=\"url(#clip110)\" style=\"stroke:#000000; stroke-width:4; stroke-opacity:1; fill:none\" points=\"\n",
       "  194.422,898.608 205.952,898.608 \n",
       "  \"/>\n",
       "<path clip-path=\"url(#clip110)\" d=\"M 0 0 M50.9921 1387.08 L80.6679 1387.08 L80.6679 1391.01 L50.9921 1391.01 L50.9921 1387.08 Z\" fill=\"#000000\" fill-rule=\"evenodd\" fill-opacity=\"1\" /><path clip-path=\"url(#clip110)\" d=\"M 0 0 M100.76 1372.42 Q97.1493 1372.42 95.3206 1375.99 Q93.515 1379.53 93.515 1386.66 Q93.515 1393.77 95.3206 1397.33 Q97.1493 1400.87 100.76 1400.87 Q104.395 1400.87 106.2 1397.33 Q108.029 1393.77 108.029 1386.66 Q108.029 1379.53 106.2 1375.99 Q104.395 1372.42 100.76 1372.42 M100.76 1368.72 Q106.571 1368.72 109.626 1373.33 Q112.705 1377.91 112.705 1386.66 Q112.705 1395.39 109.626 1399.99 Q106.571 1404.58 100.76 1404.58 Q94.9502 1404.58 91.8715 1399.99 Q88.816 1395.39 88.816 1386.66 Q88.816 1377.91 91.8715 1373.33 Q94.9502 1368.72 100.76 1368.72 Z\" fill=\"#000000\" fill-rule=\"evenodd\" fill-opacity=\"1\" /><path clip-path=\"url(#clip110)\" d=\"M 0 0 M120.922 1398.03 L125.807 1398.03 L125.807 1403.91 L120.922 1403.91 L120.922 1398.03 Z\" fill=\"#000000\" fill-rule=\"evenodd\" fill-opacity=\"1\" /><path clip-path=\"url(#clip110)\" d=\"M 0 0 M148.839 1373.42 L137.033 1391.87 L148.839 1391.87 L148.839 1373.42 M147.612 1369.35 L153.492 1369.35 L153.492 1391.87 L158.422 1391.87 L158.422 1395.76 L153.492 1395.76 L153.492 1403.91 L148.839 1403.91 L148.839 1395.76 L133.237 1395.76 L133.237 1391.24 L147.612 1369.35 Z\" fill=\"#000000\" fill-rule=\"evenodd\" fill-opacity=\"1\" /><path clip-path=\"url(#clip110)\" d=\"M 0 0 M53.0754 1265.07 L82.7512 1265.07 L82.7512 1269.01 L53.0754 1269.01 L53.0754 1265.07 Z\" fill=\"#000000\" fill-rule=\"evenodd\" fill-opacity=\"1\" /><path clip-path=\"url(#clip110)\" d=\"M 0 0 M102.844 1250.42 Q99.2326 1250.42 97.4039 1253.99 Q95.5984 1257.53 95.5984 1264.66 Q95.5984 1271.76 97.4039 1275.33 Q99.2326 1278.87 102.844 1278.87 Q106.478 1278.87 108.283 1275.33 Q110.112 1271.76 110.112 1264.66 Q110.112 1257.53 108.283 1253.99 Q106.478 1250.42 102.844 1250.42 M102.844 1246.72 Q108.654 1246.72 111.709 1251.32 Q114.788 1255.91 114.788 1264.66 Q114.788 1273.38 111.709 1277.99 Q108.654 1282.57 102.844 1282.57 Q97.0335 1282.57 93.9549 1277.99 Q90.8993 1273.38 90.8993 1264.66 Q90.8993 1255.91 93.9549 1251.32 Q97.0335 1246.72 102.844 1246.72 Z\" fill=\"#000000\" fill-rule=\"evenodd\" fill-opacity=\"1\" /><path clip-path=\"url(#clip110)\" d=\"M 0 0 M123.006 1276.02 L127.89 1276.02 L127.89 1281.9 L123.006 1281.9 L123.006 1276.02 Z\" fill=\"#000000\" fill-rule=\"evenodd\" fill-opacity=\"1\" /><path clip-path=\"url(#clip110)\" d=\"M 0 0 M142.103 1277.97 L158.422 1277.97 L158.422 1281.9 L136.478 1281.9 L136.478 1277.97 Q139.14 1275.21 143.723 1270.58 Q148.33 1265.93 149.51 1264.59 Q151.755 1262.06 152.635 1260.33 Q153.538 1258.57 153.538 1256.88 Q153.538 1254.12 151.593 1252.39 Q149.672 1250.65 146.57 1250.65 Q144.371 1250.65 141.918 1251.42 Q139.487 1252.18 136.709 1253.73 L136.709 1249.01 Q139.533 1247.87 141.987 1247.3 Q144.441 1246.72 146.478 1246.72 Q151.848 1246.72 155.042 1249.4 Q158.237 1252.09 158.237 1256.58 Q158.237 1258.71 157.427 1260.63 Q156.64 1262.53 154.533 1265.12 Q153.955 1265.79 150.853 1269.01 Q147.751 1272.2 142.103 1277.97 Z\" fill=\"#000000\" fill-rule=\"evenodd\" fill-opacity=\"1\" /><path clip-path=\"url(#clip110)\" d=\"M 0 0 M101.246 1128.42 Q97.6354 1128.42 95.8067 1131.98 Q94.0012 1135.52 94.0012 1142.65 Q94.0012 1149.76 95.8067 1153.32 Q97.6354 1156.86 101.246 1156.86 Q104.881 1156.86 106.686 1153.32 Q108.515 1149.76 108.515 1142.65 Q108.515 1135.52 106.686 1131.98 Q104.881 1128.42 101.246 1128.42 M101.246 1124.71 Q107.057 1124.71 110.112 1129.32 Q113.191 1133.9 113.191 1142.65 Q113.191 1151.38 110.112 1155.99 Q107.057 1160.57 101.246 1160.57 Q95.4363 1160.57 92.3576 1155.99 Q89.3021 1151.38 89.3021 1142.65 Q89.3021 1133.9 92.3576 1129.32 Q95.4363 1124.71 101.246 1124.71 Z\" fill=\"#000000\" fill-rule=\"evenodd\" fill-opacity=\"1\" /><path clip-path=\"url(#clip110)\" d=\"M 0 0 M121.408 1154.02 L126.293 1154.02 L126.293 1159.9 L121.408 1159.9 L121.408 1154.02 Z\" fill=\"#000000\" fill-rule=\"evenodd\" fill-opacity=\"1\" /><path clip-path=\"url(#clip110)\" d=\"M 0 0 M146.478 1128.42 Q142.867 1128.42 141.038 1131.98 Q139.232 1135.52 139.232 1142.65 Q139.232 1149.76 141.038 1153.32 Q142.867 1156.86 146.478 1156.86 Q150.112 1156.86 151.918 1153.32 Q153.746 1149.76 153.746 1142.65 Q153.746 1135.52 151.918 1131.98 Q150.112 1128.42 146.478 1128.42 M146.478 1124.71 Q152.288 1124.71 155.343 1129.32 Q158.422 1133.9 158.422 1142.65 Q158.422 1151.38 155.343 1155.99 Q152.288 1160.57 146.478 1160.57 Q140.668 1160.57 137.589 1155.99 Q134.533 1151.38 134.533 1142.65 Q134.533 1133.9 137.589 1129.32 Q140.668 1124.71 146.478 1124.71 Z\" fill=\"#000000\" fill-rule=\"evenodd\" fill-opacity=\"1\" /><path clip-path=\"url(#clip110)\" d=\"M 0 0 M102.844 1006.41 Q99.2326 1006.41 97.4039 1009.98 Q95.5984 1013.52 95.5984 1020.65 Q95.5984 1027.75 97.4039 1031.32 Q99.2326 1034.86 102.844 1034.86 Q106.478 1034.86 108.283 1031.32 Q110.112 1027.75 110.112 1020.65 Q110.112 1013.52 108.283 1009.98 Q106.478 1006.41 102.844 1006.41 M102.844 1002.71 Q108.654 1002.71 111.709 1007.31 Q114.788 1011.9 114.788 1020.65 Q114.788 1029.37 111.709 1033.98 Q108.654 1038.56 102.844 1038.56 Q97.0335 1038.56 93.9549 1033.98 Q90.8993 1029.37 90.8993 1020.65 Q90.8993 1011.9 93.9549 1007.31 Q97.0335 1002.71 102.844 1002.71 Z\" fill=\"#000000\" fill-rule=\"evenodd\" fill-opacity=\"1\" /><path clip-path=\"url(#clip110)\" d=\"M 0 0 M123.006 1032.01 L127.89 1032.01 L127.89 1037.89 L123.006 1037.89 L123.006 1032.01 Z\" fill=\"#000000\" fill-rule=\"evenodd\" fill-opacity=\"1\" /><path clip-path=\"url(#clip110)\" d=\"M 0 0 M142.103 1033.96 L158.422 1033.96 L158.422 1037.89 L136.478 1037.89 L136.478 1033.96 Q139.14 1031.2 143.723 1026.57 Q148.33 1021.92 149.51 1020.58 Q151.755 1018.05 152.635 1016.32 Q153.538 1014.56 153.538 1012.87 Q153.538 1010.12 151.593 1008.38 Q149.672 1006.64 146.57 1006.64 Q144.371 1006.64 141.918 1007.41 Q139.487 1008.17 136.709 1009.72 L136.709 1005 Q139.533 1003.87 141.987 1003.29 Q144.441 1002.71 146.478 1002.71 Q151.848 1002.71 155.042 1005.39 Q158.237 1008.08 158.237 1012.57 Q158.237 1014.7 157.427 1016.62 Q156.64 1018.52 154.533 1021.11 Q153.955 1021.78 150.853 1025 Q147.751 1028.19 142.103 1033.96 Z\" fill=\"#000000\" fill-rule=\"evenodd\" fill-opacity=\"1\" /><path clip-path=\"url(#clip110)\" d=\"M 0 0 M100.76 884.407 Q97.1493 884.407 95.3206 887.972 Q93.515 891.514 93.515 898.643 Q93.515 905.75 95.3206 909.314 Q97.1493 912.856 100.76 912.856 Q104.395 912.856 106.2 909.314 Q108.029 905.75 108.029 898.643 Q108.029 891.514 106.2 887.972 Q104.395 884.407 100.76 884.407 M100.76 880.703 Q106.571 880.703 109.626 885.31 Q112.705 889.893 112.705 898.643 Q112.705 907.37 109.626 911.976 Q106.571 916.56 100.76 916.56 Q94.9502 916.56 91.8715 911.976 Q88.816 907.37 88.816 898.643 Q88.816 889.893 91.8715 885.31 Q94.9502 880.703 100.76 880.703 Z\" fill=\"#000000\" fill-rule=\"evenodd\" fill-opacity=\"1\" /><path clip-path=\"url(#clip110)\" d=\"M 0 0 M120.922 910.009 L125.807 910.009 L125.807 915.888 L120.922 915.888 L120.922 910.009 Z\" fill=\"#000000\" fill-rule=\"evenodd\" fill-opacity=\"1\" /><path clip-path=\"url(#clip110)\" d=\"M 0 0 M148.839 885.402 L137.033 903.851 L148.839 903.851 L148.839 885.402 M147.612 881.328 L153.492 881.328 L153.492 903.851 L158.422 903.851 L158.422 907.74 L153.492 907.74 L153.492 915.888 L148.839 915.888 L148.839 907.74 L133.237 907.74 L133.237 903.226 L147.612 881.328 Z\" fill=\"#000000\" fill-rule=\"evenodd\" fill-opacity=\"1\" /><polyline clip-path=\"url(#clip114)\" style=\"stroke:#009af9; stroke-width:4; stroke-opacity:1; fill:none\" points=\"\n",
       "  221.614,1468.36 271.971,1074.75 322.327,951.299 372.683,902.761 423.039,882.027 473.396,872.858 523.752,868.741 574.108,866.88 624.464,866.037 674.821,865.653 \n",
       "  725.177,865.479 775.533,865.4 825.889,865.364 876.245,865.348 926.602,865.341 976.958,865.337 1027.31,865.336 1077.67,865.335 1128.03,865.335 \n",
       "  \"/>\n",
       "<path clip-path=\"url(#clip110)\" d=\"\n",
       "M991.206 989.511 L1123.19 989.511 L1123.19 868.551 L991.206 868.551  Z\n",
       "  \" fill=\"#ffffff\" fill-rule=\"evenodd\" fill-opacity=\"1\"/>\n",
       "<polyline clip-path=\"url(#clip110)\" style=\"stroke:#000000; stroke-width:4; stroke-opacity:1; fill:none\" points=\"\n",
       "  991.206,989.511 1123.19,989.511 1123.19,868.551 991.206,868.551 991.206,989.511 \n",
       "  \"/>\n",
       "<polyline clip-path=\"url(#clip110)\" style=\"stroke:#009af9; stroke-width:4; stroke-opacity:1; fill:none\" points=\"\n",
       "  1001.88,929.031 1065.93,929.031 \n",
       "  \"/>\n",
       "<path clip-path=\"url(#clip110)\" d=\"M 0 0 M1089.87 914.343 L1101.84 946.311 L1097.33 946.311 L1090.06 927.144 L1081.12 946.311 L1076.61 946.311 L1087.98 921.45 L1086.26 916.867 Q1085.17 913.95 1082.7 913.95 L1080.48 913.95 L1080.48 910.293 L1083.18 910.339 Q1088.42 910.408 1089.87 914.343 Z\" fill=\"#000000\" fill-rule=\"evenodd\" fill-opacity=\"1\" /></svg>\n"
      ]
     },
     "execution_count": 38,
     "metadata": {},
     "output_type": "execute_result"
    }
   ],
   "source": [
    "pl1 = plot(trace, label=\"terms\")\n",
    "pl2 = plot(abs.(η_vec), label=\"log(\\\\eta)\", yaxis=:log)\n",
    "pl3 = plot(λ_vec, label=\"λ\")\n",
    "\n",
    "plot(pl1, pl2, pl3)"
   ]
  },
  {
   "cell_type": "markdown",
   "metadata": {},
   "source": [
    "According to the graphs, it is clear, that the series converges geometrically."
   ]
  },
  {
   "cell_type": "markdown",
   "metadata": {},
   "source": [
    "__Accelerate the convergence__"
   ]
  },
  {
   "cell_type": "code",
   "execution_count": 42,
   "metadata": {},
   "outputs": [
    {
     "data": {
      "text/plain": [
       "iterate (generic function with 1 method)"
      ]
     },
     "execution_count": 42,
     "metadata": {},
     "output_type": "execute_result"
    }
   ],
   "source": [
    "function iterate(f, x0::Float64, n::Int64; trace=false, μ=1.0)\n",
    "    log = [x0]\n",
    "    for i in 1:n\n",
    "        Δ = f(x0) - x0\n",
    "        x= x0 + μ * Δ\n",
    "        x0 = x\n",
    "        if trace\n",
    "            push!(log, x)\n",
    "        end \n",
    "    end\n",
    "    if trace\n",
    "        return x0, log\n",
    "    else\n",
    "        return x0\n",
    "    end\n",
    "end"
   ]
  },
  {
   "cell_type": "code",
   "execution_count": 50,
   "metadata": {},
   "outputs": [
    {
     "data": {
      "text/plain": [
       "(0.49960440687413843, [1.9, -1.8333333333333344, 0.16019417475728148, 0.38199595414699933, 0.45155843436859877, 0.4789098692170861, 0.49059391827480203, 0.49576075799468716, 0.49808046941095196, 0.49912900600462995, 0.49960440687413843])"
      ]
     },
     "execution_count": 50,
     "metadata": {},
     "output_type": "execute_result"
    }
   ],
   "source": [
    "xstar , trace = iterate(f, x0, 10; trace=true)"
   ]
  },
  {
   "cell_type": "code",
   "execution_count": 54,
   "metadata": {},
   "outputs": [
    {
     "data": {
      "text/plain": [
       "0.49960440687413843"
      ]
     },
     "execution_count": 54,
     "metadata": {},
     "output_type": "execute_result"
    }
   ],
   "source": [
    "xstar"
   ]
  },
  {
   "cell_type": "code",
   "execution_count": 52,
   "metadata": {},
   "outputs": [
    {
     "data": {
      "text/plain": [
       "3-element Array{Float64,1}:\n",
       " 0.49808046941095196\n",
       " 0.49912900600462995\n",
       " 0.49960440687413843"
      ]
     },
     "execution_count": 52,
     "metadata": {},
     "output_type": "execute_result"
    }
   ],
   "source": [
    "x0, x1, x2 = trace[end-2:end]"
   ]
  },
  {
   "cell_type": "code",
   "execution_count": 53,
   "metadata": {},
   "outputs": [
    {
     "data": {
      "text/plain": [
       "0.4999987392760436"
      ]
     },
     "execution_count": 53,
     "metadata": {},
     "output_type": "execute_result"
    }
   ],
   "source": [
    "xaitken = x0 - (x1-x0)^2/(x2 - 2*x1 + x0)"
   ]
  },
  {
   "cell_type": "code",
   "execution_count": 47,
   "metadata": {},
   "outputs": [
    {
     "data": {
      "text/plain": [
       "0.49993597123775846"
      ]
     },
     "execution_count": 47,
     "metadata": {},
     "output_type": "execute_result"
    }
   ],
   "source": [
    "iterate(f, x0, 10; μ=1.1)"
   ]
  },
  {
   "cell_type": "code",
   "execution_count": 56,
   "metadata": {},
   "outputs": [
    {
     "data": {
      "text/plain": [
       "iterate_aitken (generic function with 2 methods)"
      ]
     },
     "execution_count": 56,
     "metadata": {},
     "output_type": "execute_result"
    }
   ],
   "source": [
    "function iterate_aitken(f, x0, n)\n",
    "    for i =1:n\n",
    "        x1 = f(x0)\n",
    "        x2 = f(x1)\n",
    "        xaitken = x0 - (x1-x0)^2/(x2 - 2*x1 + x0)\n",
    "        x0 = xaitken\n",
    "    end\n",
    "    return x0\n",
    "end"
   ]
  },
  {
   "cell_type": "code",
   "execution_count": 65,
   "metadata": {},
   "outputs": [
    {
     "data": {
      "text/plain": [
       "0.4999999999999999"
      ]
     },
     "execution_count": 65,
     "metadata": {},
     "output_type": "execute_result"
    }
   ],
   "source": [
    "iterate_aitken(f, 0.49, 3)"
   ]
  },
  {
   "cell_type": "code",
   "execution_count": null,
   "metadata": {},
   "outputs": [],
   "source": [
    "# when very close to the solution the aitken/stephensen's method makes divisions by 0\n",
    "# one has to to implement a check to avaid them"
   ]
  },
  {
   "cell_type": "markdown",
   "metadata": {},
   "source": [
    "__Write a function `iteration(f::Function, x0; accelerate=false)` which the fixed point of recursive function $f$ with optional acceleration__"
   ]
  },
  {
   "cell_type": "code",
   "execution_count": 66,
   "metadata": {},
   "outputs": [
    {
     "data": {
      "text/plain": [
       "iteration (generic function with 1 method)"
      ]
     },
     "execution_count": 66,
     "metadata": {},
     "output_type": "execute_result"
    }
   ],
   "source": [
    "function iteration(f, x0, n;accelerate=false)\n",
    "    if accelerate\n",
    "        return iterate_aitken(f, x0, n)\n",
    "    else\n",
    "        return iterate(f, x0, n)\n",
    "    end\n",
    "end\n"
   ]
  },
  {
   "cell_type": "markdown",
   "metadata": {},
   "source": [
    "__Bonus: show that $x_n$ always converges to $\\lambda_1$__ (always to the smaller eigenvalue)"
   ]
  },
  {
   "cell_type": "code",
   "execution_count": null,
   "metadata": {},
   "outputs": [],
   "source": []
  },
  {
   "cell_type": "markdown",
   "metadata": {
    "tags": []
   },
   "source": [
    "## Solow model\n",
    "\n",
    "This model tries to explain long-term growth, its relation to productivity and population growth and the speed of convergence.\n",
    "\n",
    "The setup is the following:\n",
    "\n",
    "- a country accumulates capital $k_t$\n",
    "- population $n_t$ grows at rate $g$ (so that $n_{t+1}=g n_t$)\n",
    "- capital and labour are combined to produce $y_t = A F(k_t, n_t)$ where $A>0$ is total factor productivity.\n",
    "- capital depreciates at rate $\\delta \\in ]0,1[$. Its law of motion is $k_{t+1}=(1-\\delta)k_{t}+i_{t}$ where $i_t$ is the amount invested at time $t$\n",
    "- production is either consumed or invested: $y_t = c_t + i_t$\n",
    "\n",
    "We choose a Cobb-Douglas specification with constant returns to scale $F(k_t, n_t) = k_t^{\\alpha} n_t^{1-\\alpha}$.\n",
    "\n",
    "In the Ramsey–Cass–Koopmans  model (also called neoclassical growth model), a representative agent would choose $c_t$ in every period so as to maximize an intertemporal utility like $\\sum_{t \\geq 0} \\beta^t U(c_t)$ where $\\beta \\in [0,1[$ is a time discount and $U(x)=\\frac{x^{1-\\gamma}}{1-\\gamma}$ is the instantaneous felicity.\n",
    "\n",
    "Here we follow the Solow-Swan specification and assume instead there is a fixed fraction $s\\in[0,1[$ of income in every period, which is saved and invested in every period. In other words investment (or savings) is given by:\n",
    "\n",
    "$$i_t = s y_t$$\n",
    "\n",
    "As a result, the dynamic of capital and all other variables will be backward looking and can be simulated easily."
   ]
  },
  {
   "cell_type": "markdown",
   "metadata": {},
   "source": [
    "__Create a dictionary to hold parameter values.__\n",
    "\n",
    " (note: such a dictionary can be defined as `p = Dict(:a=>0.9, :b=>4)` and accessed with brackets `p[:a]` or `p[:b]`) (note2: symbols like `:a` or `:b` are lightweight string. The content must be a valid julia identifier so that it is valid to write `a=p[:a]`)"
   ]
  },
  {
   "cell_type": "code",
   "execution_count": null,
   "metadata": {},
   "outputs": [],
   "source": [
    "# We'll create a dictionary of parameters\n",
    "p = Dict(\n",
    "    :α=>0.3,\n",
    "    :β=>0.96,\n",
    "    :δ=>0.1,\n",
    "    :g=>1.01,\n",
    "    :s=>0.2\n",
    ")"
   ]
  },
  {
   "cell_type": "markdown",
   "metadata": {},
   "source": [
    "__Detrend the equations of the model w.r.t. population growth. Denote the detrended variables with a hat (in the code we assume all variables are detrended and ignore the hat).__"
   ]
  },
  {
   "cell_type": "markdown",
   "metadata": {},
   "source": []
  },
  {
   "cell_type": "markdown",
   "metadata": {},
   "source": [
    "Our goal is to compute the steady-state and assess its stability.\n",
    "\n",
    "__Compute a function `f` which returns the capital $\\hat{k}_{t+1}$ as a function of $\\hat{k_t}$. It is suggested to define `f(k::Float64, p::Dict{Symbol, Float64})` where `p` is a dictionary of parameters.__"
   ]
  },
  {
   "cell_type": "markdown",
   "metadata": {},
   "source": []
  },
  {
   "cell_type": "markdown",
   "metadata": {},
   "source": [
    "__Starting from an initial level $\\hat{k}_0$ compute successive iterates of `f` to find the long-run level $\\overline{k}$ of capital per capita. (Bonus: produce a nice plot of the convergence)__"
   ]
  },
  {
   "cell_type": "code",
   "execution_count": 73,
   "metadata": {},
   "outputs": [
    {
     "data": {
      "text/plain": [
       "simulate (generic function with 4 methods)"
      ]
     },
     "execution_count": 73,
     "metadata": {},
     "output_type": "execute_result"
    }
   ],
   "source": []
  },
  {
   "cell_type": "markdown",
   "metadata": {},
   "source": [
    "__Propose and implement a way to accelerate convergence__"
   ]
  },
  {
   "cell_type": "code",
   "execution_count": null,
   "metadata": {},
   "outputs": [],
   "source": []
  },
  {
   "cell_type": "markdown",
   "metadata": {},
   "source": [
    "__What factors affect the steady-state level of capital?__"
   ]
  },
  {
   "cell_type": "code",
   "execution_count": null,
   "metadata": {},
   "outputs": [],
   "source": []
  },
  {
   "cell_type": "markdown",
   "metadata": {},
   "source": [
    "__Study the stability of $f$ around $\\overline{k}$. Which factors affect the speed of convergence towards the steady-state?__"
   ]
  },
  {
   "cell_type": "code",
   "execution_count": null,
   "metadata": {},
   "outputs": [],
   "source": []
  },
  {
   "cell_type": "markdown",
   "metadata": {},
   "source": [
    "__Compute the steady-state directly using a Newton method and compare convergence speed.__"
   ]
  },
  {
   "cell_type": "code",
   "execution_count": null,
   "metadata": {},
   "outputs": [],
   "source": []
  },
  {
   "cell_type": "markdown",
   "metadata": {},
   "source": [
    "__Suppose one tries to maximize steady-state consumption by choosing saving rate $s$. Which value would one choose?__"
   ]
  },
  {
   "cell_type": "code",
   "execution_count": null,
   "metadata": {},
   "outputs": [],
   "source": []
  },
  {
   "cell_type": "markdown",
   "metadata": {},
   "source": [
    "__(Bonus) Suppose an agent is given the intertemporal utility from the Ramsey–Cass–Koopmans model but chooses saving rate once for all. Which saving rate would one choose? Is it the same for all initial levels of capital?__\n",
    "\n"
   ]
  },
  {
   "cell_type": "code",
   "execution_count": null,
   "metadata": {},
   "outputs": [],
   "source": []
  }
 ],
 "metadata": {
  "kernelspec": {
   "display_name": "Julia 1.5.3",
   "language": "julia",
   "name": "julia-1.5"
  },
  "language_info": {
   "file_extension": ".jl",
   "mimetype": "application/julia",
   "name": "julia",
   "version": "1.5.3"
  }
 },
 "nbformat": 4,
 "nbformat_minor": 4
}
