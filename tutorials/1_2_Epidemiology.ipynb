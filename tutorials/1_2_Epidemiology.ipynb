{
 "cells": [
  {
   "cell_type": "markdown",
   "metadata": {},
   "source": [
    "# Tutorial: Epidemiology Models\n",
    "\n",
    "\n",
    "## Computational Economics  (ECO309)\n",
    "\n",
    "\n",
    "\n",
    "H.W. Heathcote: epidemiologic models are *deterministic models for infectious diseases which are spread by direct person-to-person contact in a population*.\n",
    "\n",
    "This kind of models has been used since by a few decades by economist, for matters that have nothing to do with health.\n",
    "\n",
    "- diffusion of information, or opinions on social medias\n",
    "- asset prices and fads\n",
    "- expectation formation for macroeconomic outcomes (ex: *The Epidemiology of Macroeconomic Expectations* by Chris Carroll)\n",
    "\n",
    "Epidemiologic models have two features that depart from standard economic models:\n",
    "\n",
    "- Agent's behaviour does not take the full system into account, an is irrational in the sense that it isn't forwards looking. Instead, an agent is given a behavioural heuristic.\n",
    "- The transitions of the whole system can be determined without solving for complex interactions first.\n",
    "\n",
    "Understanding why these two assumptions are very costly for economists will keep us busy during a big part of the course. Here we just consider two simple models as small programming exercises."
   ]
  },
  {
   "cell_type": "markdown",
   "metadata": {},
   "source": [
    "### Simple SIR model\n",
    "\n",
    "There is a continuum of agents of mass $1$. Each agent can be either \"Susceptible\" (S), \"Infected\" (I) or \"Recovered\" (R).\n",
    "In each period, one agent meets another agent drawn randomly.\n",
    "During a meeting Susceptible agents who meet an infected agent, will always catch the disease (or the fad) but are not contagious. Infected agents, have a probability $\\pi$ of being recovered. Nothing happens to Recovered agents who meet other people. No distinction is made between recovering as a healthy or a dead person.\n",
    "\n",
    "We're interested in the evolution in the number infected persons, both the speed of infection and the total amount of infected people in every period."
   ]
  },
  {
   "cell_type": "markdown",
   "metadata": {},
   "source": [
    "__Write down the transition equations for $n_I$, the number of infected people, for $n_R$ the number of recovered people and $n_S$ the number of susceptible people.__\n",
    "\n"
   ]
  },
  {
   "cell_type": "markdown",
   "metadata": {},
   "source": [
    "We have \n",
    "\n",
    "$$\\begin{aligned}\n",
    "n_{S, t+1} &= n_{S, t} - \\underbrace{n_{S, t} n_{I, t}}_{\\textrm{newly infected}}\\\\\n",
    "n_{I, t+1} &= (1-\\pi) n_{I, t} + \\underbrace{n_{S, t} n_{I, t}}_{\\textrm{newly infected}} \\\\\n",
    "n_{R, t+1} &= n_{R, t} + \\pi n_{I, t}\n",
    "\\end{aligned}\n",
    "$$"
   ]
  },
  {
   "cell_type": "markdown",
   "metadata": {},
   "source": [
    "__Compute the transition function `f` for the vector state $s_t$ returning $s_{t+1}$__\n",
    "\n"
   ]
  },
  {
   "cell_type": "code",
   "execution_count": 57,
   "metadata": {},
   "outputs": [
    {
     "data": {
      "text/plain": [
       "3-element Vector{Float64}:\n",
       " 0.9\n",
       " 0.1\n",
       " 0.0"
      ]
     },
     "metadata": {},
     "output_type": "display_data"
    }
   ],
   "source": [
    "s0 = [0.9, 0.1, 0.0]"
   ]
  },
  {
   "cell_type": "code",
   "execution_count": 72,
   "metadata": {},
   "outputs": [
    {
     "data": {
      "text/plain": [
       "f (generic function with 1 method)"
      ]
     },
     "metadata": {},
     "output_type": "display_data"
    }
   ],
   "source": [
    "function f(s; π=0.05)\n",
    "    # n_S = s[1]*(1-s[2])\n",
    "    # n_I = s[1]*s[2] - π*s[2]\n",
    "    # n_R = s[3] + π*s[2]\n",
    "    n_S = s[1] - s[1]s[2]\n",
    "    n_I = (1-π)s[2] + s[1]s[2]\n",
    "    n_R = s[3] + π*s[2]\n",
    "    S = [n_S, n_I, n_R]\n",
    "    return S\n",
    "end"
   ]
  },
  {
   "cell_type": "code",
   "execution_count": 73,
   "metadata": {},
   "outputs": [
    {
     "name": "stdout",
     "output_type": "stream",
     "text": [
      "New S: 0.81, New I: 0.185, New R: 0.005000000000000001, and S+I+R = 1.0\n"
     ]
    }
   ],
   "source": [
    "# sum(f(s0)), f(s0)\n",
    "println(\"New S: $(f(s0)[1]), New I: $(f(s0)[2]), New R: $(f(s0)[3]), and S+I+R = $(sum(f(s0)))\")"
   ]
  },
  {
   "cell_type": "markdown",
   "metadata": {},
   "source": [
    "__Compute the transitions over $T$ periods. Plot the result using Plots.jl. (bonus: check against closed form solution)__\n",
    "\n"
   ]
  },
  {
   "cell_type": "code",
   "execution_count": 77,
   "metadata": {},
   "outputs": [],
   "source": [
    "# s0 = [0.9, 0.1, 0.01]\n",
    "# s0 = [0.9, 0.06, 0.04]\n",
    "simulations = []\n",
    "for t in 1:50\n",
    "    s1 = f(s0)\n",
    "    push!(simulations, s1)\n",
    "s0 = s1\n",
    "end"
   ]
  },
  {
   "cell_type": "code",
   "execution_count": 78,
   "metadata": {},
   "outputs": [
    {
     "data": {
      "text/plain": [
       "50-element Vector{Any}:\n",
       " [0.81, 0.185, 0.005000000000000001]\n",
       " [0.66015, 0.3256, 0.01425]\n",
       " [0.44520516, 0.52426484, 0.03053]\n",
       " [0.21179974802542562, 0.7314570099745743, 0.056743242]\n",
       " [0.05687733762137956, 0.8498065698798917, 0.09331609249872871]\n",
       " [0.008542602433454477, 0.8556509765738222, 0.1358064209927233]\n",
       " [0.0012331163187872442, 0.8201779138597982, 0.17858896982141442]\n",
       " [0.0002217415488978483, 0.7801803929366977, 0.21959786551440433]\n",
       " [4.8743140148333033e-5, 0.7413443716986123, 0.2586068851612392]\n",
       " [1.2607687540449673e-5, 0.7043132885662895, 0.2956741037461698]\n",
       " ⋮\n",
       " [2.9344413937891553e-12, 0.1364362070066106, 0.8635637929904539]\n",
       " [2.534077340337371e-12, 0.12961439665668045, 0.8703856033407845]\n",
       " [2.205624434788177e-12, 0.12313367682417488, 0.8768663231736186]\n",
       " [1.9340377884394664e-12, 0.11697699298323772, 0.8830230070148273]\n",
       " [1.7077998636318664e-12, 0.11112814333430206, 0.8888718566639892]\n",
       " [1.5180152355998828e-12, 0.10557173616777672, 0.8944282638307043]\n",
       " [1.3577557316484666e-12, 0.10029314935954814, 0.8997068506390932]\n",
       " [1.2215821332604644e-12, 0.0952784918917069, 0.9047215081070705]\n",
       " [1.1051916298815533e-12, 0.09051456729723793, 0.9094854327016558]"
      ]
     },
     "metadata": {},
     "output_type": "display_data"
    }
   ],
   "source": [
    "simulations"
   ]
  },
  {
   "cell_type": "code",
   "execution_count": 79,
   "metadata": {},
   "outputs": [],
   "source": [
    "# import Pkg; Pkg.add(\"Plots\")"
   ]
  },
  {
   "cell_type": "code",
   "execution_count": 80,
   "metadata": {},
   "outputs": [
    {
     "data": {
      "image/png": "[encoded data removed]",
      "image/svg+xml": "<?xml version=\"1.0\" encoding=\"utf-8\"?>\n<svg xmlns=\"http://www.w3.org/2000/svg\" xmlns:xlink=\"http://www.w3.org/1999/xlink\" width=\"600\" height=\"400\" viewBox=\"0 0 2400 1600\">\n<defs>\n  <clipPath id=\"clip880\">\n    <rect x=\"0\" y=\"0\" width=\"2400\" height=\"1600\"/>\n  </clipPath>\n</defs>\n<path clip-path=\"url(#clip880)\" d=\"\nM0 1600 L2400 1600 L2400 0 L0 0  Z\n  \" fill=\"#ffffff\" fill-rule=\"evenodd\" fill-opacity=\"1\"/>\n<defs>\n  <clipPath id=\"clip881\">\n    <rect x=\"480\" y=\"0\" width=\"1681\" height=\"1600\"/>\n  </clipPath>\n</defs>\n<path clip-path=\"url(#clip880)\" d=\"\nM156.598 1486.45 L2352.76 1486.45 L2352.76 47.2441 L156.598 47.2441  Z\n  \" fill=\"#ffffff\" fill-rule=\"evenodd\" fill-opacity=\"1\"/>\n<defs>\n  <clipPath id=\"clip882\">\n    <rect x=\"156\" y=\"47\" width=\"2197\" height=\"1440\"/>\n  </clipPath>\n</defs>\n<polyline clip-path=\"url(#clip882)\" style=\"stroke:#000000; stroke-linecap:butt; stroke-linejoin:round; stroke-width:2; stroke-opacity:0.1; fill:none\" points=\"\n  176.471,1486.45 176.471,47.2441 \n  \"/>\n<polyline clip-path=\"url(#clip882)\" style=\"stroke:#000000; stroke-linecap:butt; stroke-linejoin:round; stroke-width:2; stroke-opacity:0.1; fill:none\" points=\"\n  599.297,1486.45 599.297,47.2441 \n  \"/>\n<polyline clip-path=\"url(#clip882)\" style=\"stroke:#000000; stroke-linecap:butt; stroke-linejoin:round; stroke-width:2; stroke-opacity:0.1; fill:none\" points=\"\n  1022.12,1486.45 1022.12,47.2441 \n  \"/>\n<polyline clip-path=\"url(#clip882)\" style=\"stroke:#000000; stroke-linecap:butt; stroke-linejoin:round; stroke-width:2; stroke-opacity:0.1; fill:none\" points=\"\n  1444.95,1486.45 1444.95,47.2441 \n  \"/>\n<polyline clip-path=\"url(#clip882)\" style=\"stroke:#000000; stroke-linecap:butt; stroke-linejoin:round; stroke-width:2; stroke-opacity:0.1; fill:none\" points=\"\n  1867.77,1486.45 1867.77,47.2441 \n  \"/>\n<polyline clip-path=\"url(#clip882)\" style=\"stroke:#000000; stroke-linecap:butt; stroke-linejoin:round; stroke-width:2; stroke-opacity:0.1; fill:none\" points=\"\n  2290.6,1486.45 2290.6,47.2441 \n  \"/>\n<polyline clip-path=\"url(#clip880)\" style=\"stroke:#000000; stroke-linecap:butt; stroke-linejoin:round; stroke-width:4; stroke-opacity:1; fill:none\" points=\"\n  156.598,1486.45 2352.76,1486.45 \n  \"/>\n<polyline clip-path=\"url(#clip880)\" style=\"stroke:#000000; stroke-linecap:butt; stroke-linejoin:round; stroke-width:4; stroke-opacity:1; fill:none\" points=\"\n  176.471,1486.45 176.471,1467.55 \n  \"/>\n<polyline clip-path=\"url(#clip880)\" style=\"stroke:#000000; stroke-linecap:butt; stroke-linejoin:round; stroke-width:4; stroke-opacity:1; fill:none\" points=\"\n  599.297,1486.45 599.297,1467.55 \n  \"/>\n<polyline clip-path=\"url(#clip880)\" style=\"stroke:#000000; stroke-linecap:butt; stroke-linejoin:round; stroke-width:4; stroke-opacity:1; fill:none\" points=\"\n  1022.12,1486.45 1022.12,1467.55 \n  \"/>\n<polyline clip-path=\"url(#clip880)\" style=\"stroke:#000000; stroke-linecap:butt; stroke-linejoin:round; stroke-width:4; stroke-opacity:1; fill:none\" points=\"\n  1444.95,1486.45 1444.95,1467.55 \n  \"/>\n<polyline clip-path=\"url(#clip880)\" style=\"stroke:#000000; stroke-linecap:butt; stroke-linejoin:round; stroke-width:4; stroke-opacity:1; fill:none\" points=\"\n  1867.77,1486.45 1867.77,1467.55 \n  \"/>\n<polyline clip-path=\"url(#clip880)\" style=\"stroke:#000000; stroke-linecap:butt; stroke-linejoin:round; stroke-width:4; stroke-opacity:1; fill:none\" points=\"\n  2290.6,1486.45 2290.6,1467.55 \n  \"/>\n<path clip-path=\"url(#clip880)\" d=\"M176.471 1517.37 Q172.86 1517.37 171.031 1520.93 Q169.226 1524.47 169.226 1531.6 Q169.226 1538.71 171.031 1542.27 Q172.86 1545.82 176.471 1545.82 Q180.105 1545.82 181.911 1542.27 Q183.74 1538.71 183.74 1531.6 Q183.74 1524.47 181.911 1520.93 Q180.105 1517.37 176.471 1517.37 M176.471 1513.66 Q182.281 1513.66 185.337 1518.27 Q188.415 1522.85 188.415 1531.6 Q188.415 1540.33 185.337 1544.94 Q182.281 1549.52 176.471 1549.52 Q170.661 1549.52 167.582 1544.94 Q164.527 1540.33 164.527 1531.6 Q164.527 1522.85 167.582 1518.27 Q170.661 1513.66 176.471 1513.66 Z\" fill=\"#000000\" fill-rule=\"evenodd\" fill-opacity=\"1\" /><path clip-path=\"url(#clip880)\" d=\"M573.985 1544.91 L581.623 1544.91 L581.623 1518.55 L573.313 1520.21 L573.313 1515.95 L581.577 1514.29 L586.253 1514.29 L586.253 1544.91 L593.892 1544.91 L593.892 1548.85 L573.985 1548.85 L573.985 1544.91 Z\" fill=\"#000000\" fill-rule=\"evenodd\" fill-opacity=\"1\" /><path clip-path=\"url(#clip880)\" d=\"M613.336 1517.37 Q609.725 1517.37 607.896 1520.93 Q606.091 1524.47 606.091 1531.6 Q606.091 1538.71 607.896 1542.27 Q609.725 1545.82 613.336 1545.82 Q616.97 1545.82 618.776 1542.27 Q620.605 1538.71 620.605 1531.6 Q620.605 1524.47 618.776 1520.93 Q616.97 1517.37 613.336 1517.37 M613.336 1513.66 Q619.146 1513.66 622.202 1518.27 Q625.281 1522.85 625.281 1531.6 Q625.281 1540.33 622.202 1544.94 Q619.146 1549.52 613.336 1549.52 Q607.526 1549.52 604.447 1544.94 Q601.392 1540.33 601.392 1531.6 Q601.392 1522.85 604.447 1518.27 Q607.526 1513.66 613.336 1513.66 Z\" fill=\"#000000\" fill-rule=\"evenodd\" fill-opacity=\"1\" /><path clip-path=\"url(#clip880)\" d=\"M1000.9 1544.91 L1017.22 1544.91 L1017.22 1548.85 L995.271 1548.85 L995.271 1544.91 Q997.933 1542.16 1002.52 1537.53 Q1007.12 1532.88 1008.3 1531.53 Q1010.55 1529.01 1011.43 1527.27 Q1012.33 1525.51 1012.33 1523.82 Q1012.33 1521.07 1010.39 1519.33 Q1008.47 1517.6 1005.36 1517.6 Q1003.16 1517.6 1000.71 1518.36 Q998.28 1519.13 995.503 1520.68 L995.503 1515.95 Q998.327 1514.82 1000.78 1514.24 Q1003.23 1513.66 1005.27 1513.66 Q1010.64 1513.66 1013.84 1516.35 Q1017.03 1519.03 1017.03 1523.52 Q1017.03 1525.65 1016.22 1527.57 Q1015.43 1529.47 1013.33 1532.07 Q1012.75 1532.74 1009.65 1535.95 Q1006.54 1539.15 1000.9 1544.91 Z\" fill=\"#000000\" fill-rule=\"evenodd\" fill-opacity=\"1\" /><path clip-path=\"url(#clip880)\" d=\"M1037.03 1517.37 Q1033.42 1517.37 1031.59 1520.93 Q1029.78 1524.47 1029.78 1531.6 Q1029.78 1538.71 1031.59 1542.27 Q1033.42 1545.82 1037.03 1545.82 Q1040.66 1545.82 1042.47 1542.27 Q1044.3 1538.71 1044.3 1531.6 Q1044.3 1524.47 1042.47 1520.93 Q1040.66 1517.37 1037.03 1517.37 M1037.03 1513.66 Q1042.84 1513.66 1045.9 1518.27 Q1048.97 1522.85 1048.97 1531.6 Q1048.97 1540.33 1045.9 1544.94 Q1042.84 1549.52 1037.03 1549.52 Q1031.22 1549.52 1028.14 1544.94 Q1025.09 1540.33 1025.09 1531.6 Q1025.09 1522.85 1028.14 1518.27 Q1031.22 1513.66 1037.03 1513.66 Z\" fill=\"#000000\" fill-rule=\"evenodd\" fill-opacity=\"1\" /><path clip-path=\"url(#clip880)\" d=\"M1433.79 1530.21 Q1437.15 1530.93 1439.02 1533.2 Q1440.92 1535.47 1440.92 1538.8 Q1440.92 1543.92 1437.4 1546.72 Q1433.88 1549.52 1427.4 1549.52 Q1425.23 1549.52 1422.91 1549.08 Q1420.62 1548.66 1418.17 1547.81 L1418.17 1543.29 Q1420.11 1544.43 1422.43 1545.01 Q1424.74 1545.58 1427.26 1545.58 Q1431.66 1545.58 1433.95 1543.85 Q1436.27 1542.11 1436.27 1538.8 Q1436.27 1535.75 1434.12 1534.03 Q1431.99 1532.3 1428.17 1532.3 L1424.14 1532.3 L1424.14 1528.45 L1428.35 1528.45 Q1431.8 1528.45 1433.63 1527.09 Q1435.46 1525.7 1435.46 1523.11 Q1435.46 1520.45 1433.56 1519.03 Q1431.68 1517.6 1428.17 1517.6 Q1426.25 1517.6 1424.05 1518.01 Q1421.85 1518.43 1419.21 1519.31 L1419.21 1515.14 Q1421.87 1514.4 1424.18 1514.03 Q1426.52 1513.66 1428.58 1513.66 Q1433.91 1513.66 1437.01 1516.09 Q1440.11 1518.5 1440.11 1522.62 Q1440.11 1525.49 1438.47 1527.48 Q1436.82 1529.45 1433.79 1530.21 Z\" fill=\"#000000\" fill-rule=\"evenodd\" fill-opacity=\"1\" /><path clip-path=\"url(#clip880)\" d=\"M1459.79 1517.37 Q1456.18 1517.37 1454.35 1520.93 Q1452.54 1524.47 1452.54 1531.6 Q1452.54 1538.71 1454.35 1542.27 Q1456.18 1545.82 1459.79 1545.82 Q1463.42 1545.82 1465.23 1542.27 Q1467.06 1538.71 1467.06 1531.6 Q1467.06 1524.47 1465.23 1520.93 Q1463.42 1517.37 1459.79 1517.37 M1459.79 1513.66 Q1465.6 1513.66 1468.65 1518.27 Q1471.73 1522.85 1471.73 1531.6 Q1471.73 1540.33 1468.65 1544.94 Q1465.6 1549.52 1459.79 1549.52 Q1453.98 1549.52 1450.9 1544.94 Q1447.84 1540.33 1447.84 1531.6 Q1447.84 1522.85 1450.9 1518.27 Q1453.98 1513.66 1459.79 1513.66 Z\" fill=\"#000000\" fill-rule=\"evenodd\" fill-opacity=\"1\" /><path clip-path=\"url(#clip880)\" d=\"M1855.95 1518.36 L1844.14 1536.81 L1855.95 1536.81 L1855.95 1518.36 M1854.72 1514.29 L1860.6 1514.29 L1860.6 1536.81 L1865.53 1536.81 L1865.53 1540.7 L1860.6 1540.7 L1860.6 1548.85 L1855.95 1548.85 L1855.95 1540.7 L1840.34 1540.7 L1840.34 1536.19 L1854.72 1514.29 Z\" fill=\"#000000\" fill-rule=\"evenodd\" fill-opacity=\"1\" /><path clip-path=\"url(#clip880)\" d=\"M1883.26 1517.37 Q1879.65 1517.37 1877.82 1520.93 Q1876.02 1524.47 1876.02 1531.6 Q1876.02 1538.71 1877.82 1542.27 Q1879.65 1545.82 1883.26 1545.82 Q1886.89 1545.82 1888.7 1542.27 Q1890.53 1538.71 1890.53 1531.6 Q1890.53 1524.47 1888.7 1520.93 Q1886.89 1517.37 1883.26 1517.37 M1883.26 1513.66 Q1889.07 1513.66 1892.13 1518.27 Q1895.21 1522.85 1895.21 1531.6 Q1895.21 1540.33 1892.13 1544.94 Q1889.07 1549.52 1883.26 1549.52 Q1877.45 1549.52 1874.37 1544.94 Q1871.32 1540.33 1871.32 1531.6 Q1871.32 1522.85 1874.37 1518.27 Q1877.45 1513.66 1883.26 1513.66 Z\" fill=\"#000000\" fill-rule=\"evenodd\" fill-opacity=\"1\" /><path clip-path=\"url(#clip880)\" d=\"M2265.3 1514.29 L2283.66 1514.29 L2283.66 1518.22 L2269.58 1518.22 L2269.58 1526.7 Q2270.6 1526.35 2271.62 1526.19 Q2272.64 1526 2273.66 1526 Q2279.44 1526 2282.82 1529.17 Q2286.2 1532.34 2286.2 1537.76 Q2286.2 1543.34 2282.73 1546.44 Q2279.26 1549.52 2272.94 1549.52 Q2270.76 1549.52 2268.49 1549.15 Q2266.25 1548.78 2263.84 1548.04 L2263.84 1543.34 Q2265.92 1544.47 2268.15 1545.03 Q2270.37 1545.58 2272.85 1545.58 Q2276.85 1545.58 2279.19 1543.48 Q2281.53 1541.37 2281.53 1537.76 Q2281.53 1534.15 2279.19 1532.04 Q2276.85 1529.94 2272.85 1529.94 Q2270.97 1529.94 2269.1 1530.35 Q2267.24 1530.77 2265.3 1531.65 L2265.3 1514.29 Z\" fill=\"#000000\" fill-rule=\"evenodd\" fill-opacity=\"1\" /><path clip-path=\"url(#clip880)\" d=\"M2305.42 1517.37 Q2301.8 1517.37 2299.98 1520.93 Q2298.17 1524.47 2298.17 1531.6 Q2298.17 1538.71 2299.98 1542.27 Q2301.8 1545.82 2305.42 1545.82 Q2309.05 1545.82 2310.86 1542.27 Q2312.68 1538.71 2312.68 1531.6 Q2312.68 1524.47 2310.86 1520.93 Q2309.05 1517.37 2305.42 1517.37 M2305.42 1513.66 Q2311.23 1513.66 2314.28 1518.27 Q2317.36 1522.85 2317.36 1531.6 Q2317.36 1540.33 2314.28 1544.94 Q2311.23 1549.52 2305.42 1549.52 Q2299.61 1549.52 2296.53 1544.94 Q2293.47 1540.33 2293.47 1531.6 Q2293.47 1522.85 2296.53 1518.27 Q2299.61 1513.66 2305.42 1513.66 Z\" fill=\"#000000\" fill-rule=\"evenodd\" fill-opacity=\"1\" /><polyline clip-path=\"url(#clip882)\" style=\"stroke:#000000; stroke-linecap:butt; stroke-linejoin:round; stroke-width:2; stroke-opacity:0.1; fill:none\" points=\"\n  156.598,1445.72 2352.76,1445.72 \n  \"/>\n<polyline clip-path=\"url(#clip882)\" style=\"stroke:#000000; stroke-linecap:butt; stroke-linejoin:round; stroke-width:2; stroke-opacity:0.1; fill:none\" points=\"\n  156.598,1147.14 2352.76,1147.14 \n  \"/>\n<polyline clip-path=\"url(#clip882)\" style=\"stroke:#000000; stroke-linecap:butt; stroke-linejoin:round; stroke-width:2; stroke-opacity:0.1; fill:none\" points=\"\n  156.598,848.569 2352.76,848.569 \n  \"/>\n<polyline clip-path=\"url(#clip882)\" style=\"stroke:#000000; stroke-linecap:butt; stroke-linejoin:round; stroke-width:2; stroke-opacity:0.1; fill:none\" points=\"\n  156.598,549.996 2352.76,549.996 \n  \"/>\n<polyline clip-path=\"url(#clip882)\" style=\"stroke:#000000; stroke-linecap:butt; stroke-linejoin:round; stroke-width:2; stroke-opacity:0.1; fill:none\" points=\"\n  156.598,251.423 2352.76,251.423 \n  \"/>\n<polyline clip-path=\"url(#clip880)\" style=\"stroke:#000000; stroke-linecap:butt; stroke-linejoin:round; stroke-width:4; stroke-opacity:1; fill:none\" points=\"\n  156.598,1486.45 156.598,47.2441 \n  \"/>\n<polyline clip-path=\"url(#clip880)\" style=\"stroke:#000000; stroke-linecap:butt; stroke-linejoin:round; stroke-width:4; stroke-opacity:1; fill:none\" points=\"\n  156.598,1445.72 175.496,1445.72 \n  \"/>\n<polyline clip-path=\"url(#clip880)\" style=\"stroke:#000000; stroke-linecap:butt; stroke-linejoin:round; stroke-width:4; stroke-opacity:1; fill:none\" points=\"\n  156.598,1147.14 175.496,1147.14 \n  \"/>\n<polyline clip-path=\"url(#clip880)\" style=\"stroke:#000000; stroke-linecap:butt; stroke-linejoin:round; stroke-width:4; stroke-opacity:1; fill:none\" points=\"\n  156.598,848.569 175.496,848.569 \n  \"/>\n<polyline clip-path=\"url(#clip880)\" style=\"stroke:#000000; stroke-linecap:butt; stroke-linejoin:round; stroke-width:4; stroke-opacity:1; fill:none\" points=\"\n  156.598,549.996 175.496,549.996 \n  \"/>\n<polyline clip-path=\"url(#clip880)\" style=\"stroke:#000000; stroke-linecap:butt; stroke-linejoin:round; stroke-width:4; stroke-opacity:1; fill:none\" points=\"\n  156.598,251.423 175.496,251.423 \n  \"/>\n<path clip-path=\"url(#clip880)\" d=\"M63.4226 1431.51 Q59.8115 1431.51 57.9828 1435.08 Q56.1773 1438.62 56.1773 1445.75 Q56.1773 1452.86 57.9828 1456.42 Q59.8115 1459.96 63.4226 1459.96 Q67.0569 1459.96 68.8624 1456.42 Q70.6911 1452.86 70.6911 1445.75 Q70.6911 1438.62 68.8624 1435.08 Q67.0569 1431.51 63.4226 1431.51 M63.4226 1427.81 Q69.2328 1427.81 72.2883 1432.42 Q75.367 1437 75.367 1445.75 Q75.367 1454.48 72.2883 1459.08 Q69.2328 1463.67 63.4226 1463.67 Q57.6125 1463.67 54.5338 1459.08 Q51.4782 1454.48 51.4782 1445.75 Q51.4782 1437 54.5338 1432.42 Q57.6125 1427.81 63.4226 1427.81 Z\" fill=\"#000000\" fill-rule=\"evenodd\" fill-opacity=\"1\" /><path clip-path=\"url(#clip880)\" d=\"M83.5845 1457.12 L88.4688 1457.12 L88.4688 1463 L83.5845 1463 L83.5845 1457.12 Z\" fill=\"#000000\" fill-rule=\"evenodd\" fill-opacity=\"1\" /><path clip-path=\"url(#clip880)\" d=\"M108.654 1431.51 Q105.043 1431.51 103.214 1435.08 Q101.409 1438.62 101.409 1445.75 Q101.409 1452.86 103.214 1456.42 Q105.043 1459.96 108.654 1459.96 Q112.288 1459.96 114.094 1456.42 Q115.922 1452.86 115.922 1445.75 Q115.922 1438.62 114.094 1435.08 Q112.288 1431.51 108.654 1431.51 M108.654 1427.81 Q114.464 1427.81 117.52 1432.42 Q120.598 1437 120.598 1445.75 Q120.598 1454.48 117.52 1459.08 Q114.464 1463.67 108.654 1463.67 Q102.844 1463.67 99.765 1459.08 Q96.7095 1454.48 96.7095 1445.75 Q96.7095 1437 99.765 1432.42 Q102.844 1427.81 108.654 1427.81 Z\" fill=\"#000000\" fill-rule=\"evenodd\" fill-opacity=\"1\" /><path clip-path=\"url(#clip880)\" d=\"M65.0198 1132.94 Q61.4087 1132.94 59.58 1136.51 Q57.7745 1140.05 57.7745 1147.18 Q57.7745 1154.28 59.58 1157.85 Q61.4087 1161.39 65.0198 1161.39 Q68.6541 1161.39 70.4596 1157.85 Q72.2883 1154.28 72.2883 1147.18 Q72.2883 1140.05 70.4596 1136.51 Q68.6541 1132.94 65.0198 1132.94 M65.0198 1129.24 Q70.83 1129.24 73.8855 1133.84 Q76.9642 1138.43 76.9642 1147.18 Q76.9642 1155.9 73.8855 1160.51 Q70.83 1165.09 65.0198 1165.09 Q59.2097 1165.09 56.131 1160.51 Q53.0754 1155.9 53.0754 1147.18 Q53.0754 1138.43 56.131 1133.84 Q59.2097 1129.24 65.0198 1129.24 Z\" fill=\"#000000\" fill-rule=\"evenodd\" fill-opacity=\"1\" /><path clip-path=\"url(#clip880)\" d=\"M85.1818 1158.54 L90.066 1158.54 L90.066 1164.42 L85.1818 1164.42 L85.1818 1158.54 Z\" fill=\"#000000\" fill-rule=\"evenodd\" fill-opacity=\"1\" /><path clip-path=\"url(#clip880)\" d=\"M104.279 1160.49 L120.598 1160.49 L120.598 1164.42 L98.6539 1164.42 L98.6539 1160.49 Q101.316 1157.73 105.899 1153.1 Q110.506 1148.45 111.686 1147.11 Q113.932 1144.58 114.811 1142.85 Q115.714 1141.09 115.714 1139.4 Q115.714 1136.64 113.77 1134.91 Q111.848 1133.17 108.746 1133.17 Q106.547 1133.17 104.094 1133.94 Q101.663 1134.7 98.8854 1136.25 L98.8854 1131.53 Q101.709 1130.39 104.163 1129.82 Q106.617 1129.24 108.654 1129.24 Q114.024 1129.24 117.219 1131.92 Q120.413 1134.61 120.413 1139.1 Q120.413 1141.23 119.603 1143.15 Q118.816 1145.05 116.709 1147.64 Q116.131 1148.31 113.029 1151.53 Q109.927 1154.72 104.279 1160.49 Z\" fill=\"#000000\" fill-rule=\"evenodd\" fill-opacity=\"1\" /><path clip-path=\"url(#clip880)\" d=\"M62.9365 834.368 Q59.3254 834.368 57.4967 837.933 Q55.6912 841.475 55.6912 848.604 Q55.6912 855.711 57.4967 859.275 Q59.3254 862.817 62.9365 862.817 Q66.5707 862.817 68.3763 859.275 Q70.205 855.711 70.205 848.604 Q70.205 841.475 68.3763 837.933 Q66.5707 834.368 62.9365 834.368 M62.9365 830.664 Q68.7467 830.664 71.8022 835.271 Q74.8809 839.854 74.8809 848.604 Q74.8809 857.331 71.8022 861.937 Q68.7467 866.521 62.9365 866.521 Q57.1264 866.521 54.0477 861.937 Q50.9921 857.331 50.9921 848.604 Q50.9921 839.854 54.0477 835.271 Q57.1264 830.664 62.9365 830.664 Z\" fill=\"#000000\" fill-rule=\"evenodd\" fill-opacity=\"1\" /><path clip-path=\"url(#clip880)\" d=\"M83.0984 859.97 L87.9827 859.97 L87.9827 865.849 L83.0984 865.849 L83.0984 859.97 Z\" fill=\"#000000\" fill-rule=\"evenodd\" fill-opacity=\"1\" /><path clip-path=\"url(#clip880)\" d=\"M111.015 835.364 L99.2095 853.813 L111.015 853.813 L111.015 835.364 M109.788 831.289 L115.668 831.289 L115.668 853.813 L120.598 853.813 L120.598 857.701 L115.668 857.701 L115.668 865.849 L111.015 865.849 L111.015 857.701 L95.4132 857.701 L95.4132 853.188 L109.788 831.289 Z\" fill=\"#000000\" fill-rule=\"evenodd\" fill-opacity=\"1\" /><path clip-path=\"url(#clip880)\" d=\"M63.2606 535.795 Q59.6495 535.795 57.8208 539.36 Q56.0152 542.902 56.0152 550.031 Q56.0152 557.138 57.8208 560.702 Q59.6495 564.244 63.2606 564.244 Q66.8948 564.244 68.7004 560.702 Q70.5291 557.138 70.5291 550.031 Q70.5291 542.902 68.7004 539.36 Q66.8948 535.795 63.2606 535.795 M63.2606 532.091 Q69.0707 532.091 72.1263 536.698 Q75.205 541.281 75.205 550.031 Q75.205 558.758 72.1263 563.364 Q69.0707 567.948 63.2606 567.948 Q57.4504 567.948 54.3717 563.364 Q51.3162 558.758 51.3162 550.031 Q51.3162 541.281 54.3717 536.698 Q57.4504 532.091 63.2606 532.091 Z\" fill=\"#000000\" fill-rule=\"evenodd\" fill-opacity=\"1\" /><path clip-path=\"url(#clip880)\" d=\"M83.4225 561.397 L88.3067 561.397 L88.3067 567.276 L83.4225 567.276 L83.4225 561.397 Z\" fill=\"#000000\" fill-rule=\"evenodd\" fill-opacity=\"1\" /><path clip-path=\"url(#clip880)\" d=\"M109.071 548.133 Q105.922 548.133 104.071 550.286 Q102.242 552.439 102.242 556.188 Q102.242 559.915 104.071 562.091 Q105.922 564.244 109.071 564.244 Q112.219 564.244 114.047 562.091 Q115.899 559.915 115.899 556.188 Q115.899 552.439 114.047 550.286 Q112.219 548.133 109.071 548.133 M118.353 533.48 L118.353 537.74 Q116.594 536.906 114.788 536.466 Q113.006 536.027 111.246 536.027 Q106.617 536.027 104.163 539.152 Q101.733 542.277 101.385 548.596 Q102.751 546.582 104.811 545.517 Q106.871 544.429 109.348 544.429 Q114.557 544.429 117.566 547.601 Q120.598 550.749 120.598 556.188 Q120.598 561.513 117.45 564.73 Q114.302 567.948 109.071 567.948 Q103.075 567.948 99.9039 563.364 Q96.7326 558.758 96.7326 550.031 Q96.7326 541.837 100.621 536.976 Q104.51 532.091 111.061 532.091 Q112.82 532.091 114.603 532.439 Q116.408 532.786 118.353 533.48 Z\" fill=\"#000000\" fill-rule=\"evenodd\" fill-opacity=\"1\" /><path clip-path=\"url(#clip880)\" d=\"M63.5152 237.222 Q59.9041 237.222 58.0754 240.787 Q56.2699 244.328 56.2699 251.458 Q56.2699 258.564 58.0754 262.129 Q59.9041 265.671 63.5152 265.671 Q67.1494 265.671 68.955 262.129 Q70.7837 258.564 70.7837 251.458 Q70.7837 244.328 68.955 240.787 Q67.1494 237.222 63.5152 237.222 M63.5152 233.518 Q69.3254 233.518 72.3809 238.125 Q75.4596 242.708 75.4596 251.458 Q75.4596 260.185 72.3809 264.791 Q69.3254 269.375 63.5152 269.375 Q57.7051 269.375 54.6264 264.791 Q51.5708 260.185 51.5708 251.458 Q51.5708 242.708 54.6264 238.125 Q57.7051 233.518 63.5152 233.518 Z\" fill=\"#000000\" fill-rule=\"evenodd\" fill-opacity=\"1\" /><path clip-path=\"url(#clip880)\" d=\"M83.6771 262.824 L88.5614 262.824 L88.5614 268.703 L83.6771 268.703 L83.6771 262.824 Z\" fill=\"#000000\" fill-rule=\"evenodd\" fill-opacity=\"1\" /><path clip-path=\"url(#clip880)\" d=\"M108.746 252.291 Q105.413 252.291 103.492 254.074 Q101.594 255.856 101.594 258.981 Q101.594 262.106 103.492 263.889 Q105.413 265.671 108.746 265.671 Q112.08 265.671 114.001 263.889 Q115.922 262.083 115.922 258.981 Q115.922 255.856 114.001 254.074 Q112.103 252.291 108.746 252.291 M104.071 250.301 Q101.061 249.56 99.3715 247.5 Q97.7048 245.44 97.7048 242.477 Q97.7048 238.333 100.645 235.926 Q103.608 233.518 108.746 233.518 Q113.908 233.518 116.848 235.926 Q119.788 238.333 119.788 242.477 Q119.788 245.44 118.098 247.5 Q116.432 249.56 113.445 250.301 Q116.825 251.088 118.7 253.379 Q120.598 255.671 120.598 258.981 Q120.598 264.004 117.52 266.689 Q114.464 269.375 108.746 269.375 Q103.029 269.375 99.9502 266.689 Q96.8947 264.004 96.8947 258.981 Q96.8947 255.671 98.7928 253.379 Q100.691 251.088 104.071 250.301 M102.358 242.916 Q102.358 245.602 104.024 247.106 Q105.714 248.611 108.746 248.611 Q111.756 248.611 113.445 247.106 Q115.158 245.602 115.158 242.916 Q115.158 240.231 113.445 238.727 Q111.756 237.222 108.746 237.222 Q105.714 237.222 104.024 238.727 Q102.358 240.231 102.358 242.916 Z\" fill=\"#000000\" fill-rule=\"evenodd\" fill-opacity=\"1\" /><polyline clip-path=\"url(#clip882)\" style=\"stroke:#009af9; stroke-linecap:butt; stroke-linejoin:round; stroke-width:4; stroke-opacity:1; fill:none\" points=\"\n  218.754,236.495 261.036,460.201 303.319,781.084 345.601,1129.53 387.884,1360.81 430.167,1432.96 472.449,1443.87 514.732,1445.38 557.014,1445.64 599.297,1445.7 \n  641.58,1445.71 683.862,1445.71 726.145,1445.72 768.427,1445.72 810.71,1445.72 852.992,1445.72 895.275,1445.72 937.558,1445.72 979.84,1445.72 1022.12,1445.72 \n  1064.41,1445.72 1106.69,1445.72 1148.97,1445.72 1191.25,1445.72 1233.54,1445.72 1275.82,1445.72 1318.1,1445.72 1360.38,1445.72 1402.67,1445.72 1444.95,1445.72 \n  1487.23,1445.72 1529.51,1445.72 1571.8,1445.72 1614.08,1445.72 1656.36,1445.72 1698.64,1445.72 1740.93,1445.72 1783.21,1445.72 1825.49,1445.72 1867.77,1445.72 \n  1910.06,1445.72 1952.34,1445.72 1994.62,1445.72 2036.9,1445.72 2079.19,1445.72 2121.47,1445.72 2163.75,1445.72 2206.04,1445.72 2248.32,1445.72 2290.6,1445.72 \n  \n  \"/>\n<polyline clip-path=\"url(#clip882)\" style=\"stroke:#e26f46; stroke-linecap:butt; stroke-linejoin:round; stroke-width:4; stroke-opacity:1; fill:none\" points=\"\n  218.754,1169.54 261.036,959.639 303.319,663.059 345.601,353.749 387.884,177.069 430.167,168.344 472.449,221.3 514.732,281.011 557.014,338.988 599.297,394.271 \n  641.58,446.83 683.862,496.77 726.145,544.216 768.427,589.291 810.71,632.112 852.992,672.792 895.275,711.438 937.558,748.152 979.84,783.03 1022.12,816.165 \n  1064.41,847.642 1106.69,877.546 1148.97,905.954 1191.25,932.942 1233.54,958.581 1275.82,982.938 1318.1,1006.08 1360.38,1028.06 1402.67,1048.94 1444.95,1068.78 \n  1487.23,1087.63 1529.51,1105.53 1571.8,1122.54 1614.08,1138.7 1656.36,1154.05 1698.64,1168.63 1740.93,1182.49 1783.21,1195.65 1825.49,1208.15 1867.77,1220.03 \n  1910.06,1231.31 1952.34,1242.03 1994.62,1252.22 2036.9,1261.89 2079.19,1271.08 2121.47,1279.82 2163.75,1288.11 2206.04,1295.99 2248.32,1303.48 2290.6,1310.59 \n  \n  \"/>\n<polyline clip-path=\"url(#clip882)\" style=\"stroke:#3da44d; stroke-linecap:butt; stroke-linejoin:round; stroke-width:4; stroke-opacity:1; fill:none\" points=\"\n  218.754,1438.25 261.036,1424.44 303.319,1400.14 345.601,1361.01 387.884,1306.41 430.167,1242.97 472.449,1179.11 514.732,1117.89 557.014,1059.65 599.297,1004.31 \n  641.58,951.742 683.862,901.797 726.145,854.35 768.427,809.275 810.71,766.454 852.992,725.774 895.275,687.128 937.558,650.414 979.84,615.536 1022.12,582.401 \n  1064.41,550.924 1106.69,521.02 1148.97,492.612 1191.25,465.624 1233.54,439.985 1275.82,415.628 1318.1,392.489 1360.38,370.507 1402.67,349.624 1444.95,329.786 \n  1487.23,310.939 1529.51,293.035 1571.8,276.025 1614.08,259.867 1656.36,244.516 1698.64,229.932 1740.93,216.078 1783.21,202.917 1825.49,190.414 1867.77,178.535 \n  1910.06,167.251 1952.34,156.531 1994.62,146.347 2036.9,136.672 2079.19,127.481 2121.47,118.75 2163.75,110.455 2206.04,102.574 2248.32,95.0882 2290.6,87.9763 \n  \n  \"/>\n<path clip-path=\"url(#clip880)\" d=\"\nM1982.52 302.578 L2279.55 302.578 L2279.55 95.2176 L1982.52 95.2176  Z\n  \" fill=\"#ffffff\" fill-rule=\"evenodd\" fill-opacity=\"1\"/>\n<polyline clip-path=\"url(#clip880)\" style=\"stroke:#000000; stroke-linecap:butt; stroke-linejoin:round; stroke-width:4; stroke-opacity:1; fill:none\" points=\"\n  1982.52,302.578 2279.55,302.578 2279.55,95.2176 1982.52,95.2176 1982.52,302.578 \n  \"/>\n<polyline clip-path=\"url(#clip880)\" style=\"stroke:#009af9; stroke-linecap:butt; stroke-linejoin:round; stroke-width:4; stroke-opacity:1; fill:none\" points=\"\n  2006.93,147.058 2153.34,147.058 \n  \"/>\n<path clip-path=\"url(#clip880)\" d=\"M2191.58 166.745 Q2189.78 171.375 2188.06 172.787 Q2186.35 174.199 2183.48 174.199 L2180.08 174.199 L2180.08 170.634 L2182.58 170.634 Q2184.34 170.634 2185.31 169.8 Q2186.28 168.967 2187.46 165.865 L2188.22 163.921 L2177.74 138.412 L2182.25 138.412 L2190.35 158.689 L2198.46 138.412 L2202.97 138.412 L2191.58 166.745 Z\" fill=\"#000000\" fill-rule=\"evenodd\" fill-opacity=\"1\" /><path clip-path=\"url(#clip880)\" d=\"M2210.26 160.402 L2217.9 160.402 L2217.9 134.037 L2209.59 135.703 L2209.59 131.444 L2217.85 129.778 L2222.53 129.778 L2222.53 160.402 L2230.17 160.402 L2230.17 164.338 L2210.26 164.338 L2210.26 160.402 Z\" fill=\"#000000\" fill-rule=\"evenodd\" fill-opacity=\"1\" /><polyline clip-path=\"url(#clip880)\" style=\"stroke:#e26f46; stroke-linecap:butt; stroke-linejoin:round; stroke-width:4; stroke-opacity:1; fill:none\" points=\"\n  2006.93,198.898 2153.34,198.898 \n  \"/>\n<path clip-path=\"url(#clip880)\" d=\"M2191.58 218.585 Q2189.78 223.215 2188.06 224.627 Q2186.35 226.039 2183.48 226.039 L2180.08 226.039 L2180.08 222.474 L2182.58 222.474 Q2184.34 222.474 2185.31 221.64 Q2186.28 220.807 2187.46 217.705 L2188.22 215.761 L2177.74 190.252 L2182.25 190.252 L2190.35 210.529 L2198.46 190.252 L2202.97 190.252 L2191.58 218.585 Z\" fill=\"#000000\" fill-rule=\"evenodd\" fill-opacity=\"1\" /><path clip-path=\"url(#clip880)\" d=\"M2213.48 212.242 L2229.8 212.242 L2229.8 216.178 L2207.85 216.178 L2207.85 212.242 Q2210.52 209.488 2215.1 204.858 Q2219.71 200.205 2220.89 198.863 Q2223.13 196.34 2224.01 194.604 Q2224.91 192.844 2224.91 191.155 Q2224.91 188.4 2222.97 186.664 Q2221.05 184.928 2217.95 184.928 Q2215.75 184.928 2213.29 185.692 Q2210.86 186.455 2208.09 188.006 L2208.09 183.284 Q2210.91 182.15 2213.36 181.571 Q2215.82 180.993 2217.85 180.993 Q2223.22 180.993 2226.42 183.678 Q2229.61 186.363 2229.61 190.854 Q2229.61 192.983 2228.8 194.905 Q2228.02 196.803 2225.91 199.395 Q2225.33 200.067 2222.23 203.284 Q2219.13 206.479 2213.48 212.242 Z\" fill=\"#000000\" fill-rule=\"evenodd\" fill-opacity=\"1\" /><polyline clip-path=\"url(#clip880)\" style=\"stroke:#3da44d; stroke-linecap:butt; stroke-linejoin:round; stroke-width:4; stroke-opacity:1; fill:none\" points=\"\n  2006.93,250.738 2153.34,250.738 \n  \"/>\n<path clip-path=\"url(#clip880)\" d=\"M2191.58 270.425 Q2189.78 275.055 2188.06 276.467 Q2186.35 277.879 2183.48 277.879 L2180.08 277.879 L2180.08 274.314 L2182.58 274.314 Q2184.34 274.314 2185.31 273.48 Q2186.28 272.647 2187.46 269.545 L2188.22 267.601 L2177.74 242.092 L2182.25 242.092 L2190.35 262.369 L2198.46 242.092 L2202.97 242.092 L2191.58 270.425 Z\" fill=\"#000000\" fill-rule=\"evenodd\" fill-opacity=\"1\" /><path clip-path=\"url(#clip880)\" d=\"M2223.62 249.383 Q2226.97 250.101 2228.85 252.369 Q2230.75 254.638 2230.75 257.971 Q2230.75 263.087 2227.23 265.888 Q2223.71 268.689 2217.23 268.689 Q2215.05 268.689 2212.74 268.249 Q2210.45 267.832 2207.99 266.976 L2207.99 262.462 Q2209.94 263.596 2212.25 264.175 Q2214.57 264.754 2217.09 264.754 Q2221.49 264.754 2223.78 263.018 Q2226.09 261.281 2226.09 257.971 Q2226.09 254.916 2223.94 253.203 Q2221.81 251.467 2217.99 251.467 L2213.96 251.467 L2213.96 247.624 L2218.18 247.624 Q2221.63 247.624 2223.46 246.258 Q2225.28 244.87 2225.28 242.277 Q2225.28 239.615 2223.39 238.203 Q2221.51 236.768 2217.99 236.768 Q2216.07 236.768 2213.87 237.184 Q2211.67 237.601 2209.03 238.481 L2209.03 234.314 Q2211.7 233.573 2214.01 233.203 Q2216.35 232.833 2218.41 232.833 Q2223.73 232.833 2226.84 235.263 Q2229.94 237.67 2229.94 241.791 Q2229.94 244.661 2228.29 246.652 Q2226.65 248.62 2223.62 249.383 Z\" fill=\"#000000\" fill-rule=\"evenodd\" fill-opacity=\"1\" /></svg>\n",
      "text/html": [
       "<?xml version=\"1.0\" encoding=\"utf-8\"?>\n",
       "<svg xmlns=\"http://www.w3.org/2000/svg\" xmlns:xlink=\"http://www.w3.org/1999/xlink\" width=\"600\" height=\"400\" viewBox=\"0 0 2400 1600\">\n",
       "<defs>\n",
       "  <clipPath id=\"clip930\">\n",
       "    <rect x=\"0\" y=\"0\" width=\"2400\" height=\"1600\"/>\n",
       "  </clipPath>\n",
       "</defs>\n",
       "<path clip-path=\"url(#clip930)\" d=\"\n",
       "M0 1600 L2400 1600 L2400 0 L0 0  Z\n",
       "  \" fill=\"#ffffff\" fill-rule=\"evenodd\" fill-opacity=\"1\"/>\n",
       "<defs>\n",
       "  <clipPath id=\"clip931\">\n",
       "    <rect x=\"480\" y=\"0\" width=\"1681\" height=\"1600\"/>\n",
       "  </clipPath>\n",
       "</defs>\n",
       "<path clip-path=\"url(#clip930)\" d=\"\n",
       "M156.598 1486.45 L2352.76 1486.45 L2352.76 47.2441 L156.598 47.2441  Z\n",
       "  \" fill=\"#ffffff\" fill-rule=\"evenodd\" fill-opacity=\"1\"/>\n",
       "<defs>\n",
       "  <clipPath id=\"clip932\">\n",
       "    <rect x=\"156\" y=\"47\" width=\"2197\" height=\"1440\"/>\n",
       "  </clipPath>\n",
       "</defs>\n",
       "<polyline clip-path=\"url(#clip932)\" style=\"stroke:#000000; stroke-linecap:butt; stroke-linejoin:round; stroke-width:2; stroke-opacity:0.1; fill:none\" points=\"\n",
       "  176.471,1486.45 176.471,47.2441 \n",
       "  \"/>\n",
       "<polyline clip-path=\"url(#clip932)\" style=\"stroke:#000000; stroke-linecap:butt; stroke-linejoin:round; stroke-width:2; stroke-opacity:0.1; fill:none\" points=\"\n",
       "  599.297,1486.45 599.297,47.2441 \n",
       "  \"/>\n",
       "<polyline clip-path=\"url(#clip932)\" style=\"stroke:#000000; stroke-linecap:butt; stroke-linejoin:round; stroke-width:2; stroke-opacity:0.1; fill:none\" points=\"\n",
       "  1022.12,1486.45 1022.12,47.2441 \n",
       "  \"/>\n",
       "<polyline clip-path=\"url(#clip932)\" style=\"stroke:#000000; stroke-linecap:butt; stroke-linejoin:round; stroke-width:2; stroke-opacity:0.1; fill:none\" points=\"\n",
       "  1444.95,1486.45 1444.95,47.2441 \n",
       "  \"/>\n",
       "<polyline clip-path=\"url(#clip932)\" style=\"stroke:#000000; stroke-linecap:butt; stroke-linejoin:round; stroke-width:2; stroke-opacity:0.1; fill:none\" points=\"\n",
       "  1867.77,1486.45 1867.77,47.2441 \n",
       "  \"/>\n",
       "<polyline clip-path=\"url(#clip932)\" style=\"stroke:#000000; stroke-linecap:butt; stroke-linejoin:round; stroke-width:2; stroke-opacity:0.1; fill:none\" points=\"\n",
       "  2290.6,1486.45 2290.6,47.2441 \n",
       "  \"/>\n",
       "<polyline clip-path=\"url(#clip930)\" style=\"stroke:#000000; stroke-linecap:butt; stroke-linejoin:round; stroke-width:4; stroke-opacity:1; fill:none\" points=\"\n",
       "  156.598,1486.45 2352.76,1486.45 \n",
       "  \"/>\n",
       "<polyline clip-path=\"url(#clip930)\" style=\"stroke:#000000; stroke-linecap:butt; stroke-linejoin:round; stroke-width:4; stroke-opacity:1; fill:none\" points=\"\n",
       "  176.471,1486.45 176.471,1467.55 \n",
       "  \"/>\n",
       "<polyline clip-path=\"url(#clip930)\" style=\"stroke:#000000; stroke-linecap:butt; stroke-linejoin:round; stroke-width:4; stroke-opacity:1; fill:none\" points=\"\n",
       "  599.297,1486.45 599.297,1467.55 \n",
       "  \"/>\n",
       "<polyline clip-path=\"url(#clip930)\" style=\"stroke:#000000; stroke-linecap:butt; stroke-linejoin:round; stroke-width:4; stroke-opacity:1; fill:none\" points=\"\n",
       "  1022.12,1486.45 1022.12,1467.55 \n",
       "  \"/>\n",
       "<polyline clip-path=\"url(#clip930)\" style=\"stroke:#000000; stroke-linecap:butt; stroke-linejoin:round; stroke-width:4; stroke-opacity:1; fill:none\" points=\"\n",
       "  1444.95,1486.45 1444.95,1467.55 \n",
       "  \"/>\n",
       "<polyline clip-path=\"url(#clip930)\" style=\"stroke:#000000; stroke-linecap:butt; stroke-linejoin:round; stroke-width:4; stroke-opacity:1; fill:none\" points=\"\n",
       "  1867.77,1486.45 1867.77,1467.55 \n",
       "  \"/>\n",
       "<polyline clip-path=\"url(#clip930)\" style=\"stroke:#000000; stroke-linecap:butt; stroke-linejoin:round; stroke-width:4; stroke-opacity:1; fill:none\" points=\"\n",
       "  2290.6,1486.45 2290.6,1467.55 \n",
       "  \"/>\n",
       "<path clip-path=\"url(#clip930)\" d=\"M176.471 1517.37 Q172.86 1517.37 171.031 1520.93 Q169.226 1524.47 169.226 1531.6 Q169.226 1538.71 171.031 1542.27 Q172.86 1545.82 176.471 1545.82 Q180.105 1545.82 181.911 1542.27 Q183.74 1538.71 183.74 1531.6 Q183.74 1524.47 181.911 1520.93 Q180.105 1517.37 176.471 1517.37 M176.471 1513.66 Q182.281 1513.66 185.337 1518.27 Q188.415 1522.85 188.415 1531.6 Q188.415 1540.33 185.337 1544.94 Q182.281 1549.52 176.471 1549.52 Q170.661 1549.52 167.582 1544.94 Q164.527 1540.33 164.527 1531.6 Q164.527 1522.85 167.582 1518.27 Q170.661 1513.66 176.471 1513.66 Z\" fill=\"#000000\" fill-rule=\"evenodd\" fill-opacity=\"1\" /><path clip-path=\"url(#clip930)\" d=\"M573.985 1544.91 L581.623 1544.91 L581.623 1518.55 L573.313 1520.21 L573.313 1515.95 L581.577 1514.29 L586.253 1514.29 L586.253 1544.91 L593.892 1544.91 L593.892 1548.85 L573.985 1548.85 L573.985 1544.91 Z\" fill=\"#000000\" fill-rule=\"evenodd\" fill-opacity=\"1\" /><path clip-path=\"url(#clip930)\" d=\"M613.336 1517.37 Q609.725 1517.37 607.896 1520.93 Q606.091 1524.47 606.091 1531.6 Q606.091 1538.71 607.896 1542.27 Q609.725 1545.82 613.336 1545.82 Q616.97 1545.82 618.776 1542.27 Q620.605 1538.71 620.605 1531.6 Q620.605 1524.47 618.776 1520.93 Q616.97 1517.37 613.336 1517.37 M613.336 1513.66 Q619.146 1513.66 622.202 1518.27 Q625.281 1522.85 625.281 1531.6 Q625.281 1540.33 622.202 1544.94 Q619.146 1549.52 613.336 1549.52 Q607.526 1549.52 604.447 1544.94 Q601.392 1540.33 601.392 1531.6 Q601.392 1522.85 604.447 1518.27 Q607.526 1513.66 613.336 1513.66 Z\" fill=\"#000000\" fill-rule=\"evenodd\" fill-opacity=\"1\" /><path clip-path=\"url(#clip930)\" d=\"M1000.9 1544.91 L1017.22 1544.91 L1017.22 1548.85 L995.271 1548.85 L995.271 1544.91 Q997.933 1542.16 1002.52 1537.53 Q1007.12 1532.88 1008.3 1531.53 Q1010.55 1529.01 1011.43 1527.27 Q1012.33 1525.51 1012.33 1523.82 Q1012.33 1521.07 1010.39 1519.33 Q1008.47 1517.6 1005.36 1517.6 Q1003.16 1517.6 1000.71 1518.36 Q998.28 1519.13 995.503 1520.68 L995.503 1515.95 Q998.327 1514.82 1000.78 1514.24 Q1003.23 1513.66 1005.27 1513.66 Q1010.64 1513.66 1013.84 1516.35 Q1017.03 1519.03 1017.03 1523.52 Q1017.03 1525.65 1016.22 1527.57 Q1015.43 1529.47 1013.33 1532.07 Q1012.75 1532.74 1009.65 1535.95 Q1006.54 1539.15 1000.9 1544.91 Z\" fill=\"#000000\" fill-rule=\"evenodd\" fill-opacity=\"1\" /><path clip-path=\"url(#clip930)\" d=\"M1037.03 1517.37 Q1033.42 1517.37 1031.59 1520.93 Q1029.78 1524.47 1029.78 1531.6 Q1029.78 1538.71 1031.59 1542.27 Q1033.42 1545.82 1037.03 1545.82 Q1040.66 1545.82 1042.47 1542.27 Q1044.3 1538.71 1044.3 1531.6 Q1044.3 1524.47 1042.47 1520.93 Q1040.66 1517.37 1037.03 1517.37 M1037.03 1513.66 Q1042.84 1513.66 1045.9 1518.27 Q1048.97 1522.85 1048.97 1531.6 Q1048.97 1540.33 1045.9 1544.94 Q1042.84 1549.52 1037.03 1549.52 Q1031.22 1549.52 1028.14 1544.94 Q1025.09 1540.33 1025.09 1531.6 Q1025.09 1522.85 1028.14 1518.27 Q1031.22 1513.66 1037.03 1513.66 Z\" fill=\"#000000\" fill-rule=\"evenodd\" fill-opacity=\"1\" /><path clip-path=\"url(#clip930)\" d=\"M1433.79 1530.21 Q1437.15 1530.93 1439.02 1533.2 Q1440.92 1535.47 1440.92 1538.8 Q1440.92 1543.92 1437.4 1546.72 Q1433.88 1549.52 1427.4 1549.52 Q1425.23 1549.52 1422.91 1549.08 Q1420.62 1548.66 1418.17 1547.81 L1418.17 1543.29 Q1420.11 1544.43 1422.43 1545.01 Q1424.74 1545.58 1427.26 1545.58 Q1431.66 1545.58 1433.95 1543.85 Q1436.27 1542.11 1436.27 1538.8 Q1436.27 1535.75 1434.12 1534.03 Q1431.99 1532.3 1428.17 1532.3 L1424.14 1532.3 L1424.14 1528.45 L1428.35 1528.45 Q1431.8 1528.45 1433.63 1527.09 Q1435.46 1525.7 1435.46 1523.11 Q1435.46 1520.45 1433.56 1519.03 Q1431.68 1517.6 1428.17 1517.6 Q1426.25 1517.6 1424.05 1518.01 Q1421.85 1518.43 1419.21 1519.31 L1419.21 1515.14 Q1421.87 1514.4 1424.18 1514.03 Q1426.52 1513.66 1428.58 1513.66 Q1433.91 1513.66 1437.01 1516.09 Q1440.11 1518.5 1440.11 1522.62 Q1440.11 1525.49 1438.47 1527.48 Q1436.82 1529.45 1433.79 1530.21 Z\" fill=\"#000000\" fill-rule=\"evenodd\" fill-opacity=\"1\" /><path clip-path=\"url(#clip930)\" d=\"M1459.79 1517.37 Q1456.18 1517.37 1454.35 1520.93 Q1452.54 1524.47 1452.54 1531.6 Q1452.54 1538.71 1454.35 1542.27 Q1456.18 1545.82 1459.79 1545.82 Q1463.42 1545.82 1465.23 1542.27 Q1467.06 1538.71 1467.06 1531.6 Q1467.06 1524.47 1465.23 1520.93 Q1463.42 1517.37 1459.79 1517.37 M1459.79 1513.66 Q1465.6 1513.66 1468.65 1518.27 Q1471.73 1522.85 1471.73 1531.6 Q1471.73 1540.33 1468.65 1544.94 Q1465.6 1549.52 1459.79 1549.52 Q1453.98 1549.52 1450.9 1544.94 Q1447.84 1540.33 1447.84 1531.6 Q1447.84 1522.85 1450.9 1518.27 Q1453.98 1513.66 1459.79 1513.66 Z\" fill=\"#000000\" fill-rule=\"evenodd\" fill-opacity=\"1\" /><path clip-path=\"url(#clip930)\" d=\"M1855.95 1518.36 L1844.14 1536.81 L1855.95 1536.81 L1855.95 1518.36 M1854.72 1514.29 L1860.6 1514.29 L1860.6 1536.81 L1865.53 1536.81 L1865.53 1540.7 L1860.6 1540.7 L1860.6 1548.85 L1855.95 1548.85 L1855.95 1540.7 L1840.34 1540.7 L1840.34 1536.19 L1854.72 1514.29 Z\" fill=\"#000000\" fill-rule=\"evenodd\" fill-opacity=\"1\" /><path clip-path=\"url(#clip930)\" d=\"M1883.26 1517.37 Q1879.65 1517.37 1877.82 1520.93 Q1876.02 1524.47 1876.02 1531.6 Q1876.02 1538.71 1877.82 1542.27 Q1879.65 1545.82 1883.26 1545.82 Q1886.89 1545.82 1888.7 1542.27 Q1890.53 1538.71 1890.53 1531.6 Q1890.53 1524.47 1888.7 1520.93 Q1886.89 1517.37 1883.26 1517.37 M1883.26 1513.66 Q1889.07 1513.66 1892.13 1518.27 Q1895.21 1522.85 1895.21 1531.6 Q1895.21 1540.33 1892.13 1544.94 Q1889.07 1549.52 1883.26 1549.52 Q1877.45 1549.52 1874.37 1544.94 Q1871.32 1540.33 1871.32 1531.6 Q1871.32 1522.85 1874.37 1518.27 Q1877.45 1513.66 1883.26 1513.66 Z\" fill=\"#000000\" fill-rule=\"evenodd\" fill-opacity=\"1\" /><path clip-path=\"url(#clip930)\" d=\"M2265.3 1514.29 L2283.66 1514.29 L2283.66 1518.22 L2269.58 1518.22 L2269.58 1526.7 Q2270.6 1526.35 2271.62 1526.19 Q2272.64 1526 2273.66 1526 Q2279.44 1526 2282.82 1529.17 Q2286.2 1532.34 2286.2 1537.76 Q2286.2 1543.34 2282.73 1546.44 Q2279.26 1549.52 2272.94 1549.52 Q2270.76 1549.52 2268.49 1549.15 Q2266.25 1548.78 2263.84 1548.04 L2263.84 1543.34 Q2265.92 1544.47 2268.15 1545.03 Q2270.37 1545.58 2272.85 1545.58 Q2276.85 1545.58 2279.19 1543.48 Q2281.53 1541.37 2281.53 1537.76 Q2281.53 1534.15 2279.19 1532.04 Q2276.85 1529.94 2272.85 1529.94 Q2270.97 1529.94 2269.1 1530.35 Q2267.24 1530.77 2265.3 1531.65 L2265.3 1514.29 Z\" fill=\"#000000\" fill-rule=\"evenodd\" fill-opacity=\"1\" /><path clip-path=\"url(#clip930)\" d=\"M2305.42 1517.37 Q2301.8 1517.37 2299.98 1520.93 Q2298.17 1524.47 2298.17 1531.6 Q2298.17 1538.71 2299.98 1542.27 Q2301.8 1545.82 2305.42 1545.82 Q2309.05 1545.82 2310.86 1542.27 Q2312.68 1538.71 2312.68 1531.6 Q2312.68 1524.47 2310.86 1520.93 Q2309.05 1517.37 2305.42 1517.37 M2305.42 1513.66 Q2311.23 1513.66 2314.28 1518.27 Q2317.36 1522.85 2317.36 1531.6 Q2317.36 1540.33 2314.28 1544.94 Q2311.23 1549.52 2305.42 1549.52 Q2299.61 1549.52 2296.53 1544.94 Q2293.47 1540.33 2293.47 1531.6 Q2293.47 1522.85 2296.53 1518.27 Q2299.61 1513.66 2305.42 1513.66 Z\" fill=\"#000000\" fill-rule=\"evenodd\" fill-opacity=\"1\" /><polyline clip-path=\"url(#clip932)\" style=\"stroke:#000000; stroke-linecap:butt; stroke-linejoin:round; stroke-width:2; stroke-opacity:0.1; fill:none\" points=\"\n",
       "  156.598,1445.72 2352.76,1445.72 \n",
       "  \"/>\n",
       "<polyline clip-path=\"url(#clip932)\" style=\"stroke:#000000; stroke-linecap:butt; stroke-linejoin:round; stroke-width:2; stroke-opacity:0.1; fill:none\" points=\"\n",
       "  156.598,1147.14 2352.76,1147.14 \n",
       "  \"/>\n",
       "<polyline clip-path=\"url(#clip932)\" style=\"stroke:#000000; stroke-linecap:butt; stroke-linejoin:round; stroke-width:2; stroke-opacity:0.1; fill:none\" points=\"\n",
       "  156.598,848.569 2352.76,848.569 \n",
       "  \"/>\n",
       "<polyline clip-path=\"url(#clip932)\" style=\"stroke:#000000; stroke-linecap:butt; stroke-linejoin:round; stroke-width:2; stroke-opacity:0.1; fill:none\" points=\"\n",
       "  156.598,549.996 2352.76,549.996 \n",
       "  \"/>\n",
       "<polyline clip-path=\"url(#clip932)\" style=\"stroke:#000000; stroke-linecap:butt; stroke-linejoin:round; stroke-width:2; stroke-opacity:0.1; fill:none\" points=\"\n",
       "  156.598,251.423 2352.76,251.423 \n",
       "  \"/>\n",
       "<polyline clip-path=\"url(#clip930)\" style=\"stroke:#000000; stroke-linecap:butt; stroke-linejoin:round; stroke-width:4; stroke-opacity:1; fill:none\" points=\"\n",
       "  156.598,1486.45 156.598,47.2441 \n",
       "  \"/>\n",
       "<polyline clip-path=\"url(#clip930)\" style=\"stroke:#000000; stroke-linecap:butt; stroke-linejoin:round; stroke-width:4; stroke-opacity:1; fill:none\" points=\"\n",
       "  156.598,1445.72 175.496,1445.72 \n",
       "  \"/>\n",
       "<polyline clip-path=\"url(#clip930)\" style=\"stroke:#000000; stroke-linecap:butt; stroke-linejoin:round; stroke-width:4; stroke-opacity:1; fill:none\" points=\"\n",
       "  156.598,1147.14 175.496,1147.14 \n",
       "  \"/>\n",
       "<polyline clip-path=\"url(#clip930)\" style=\"stroke:#000000; stroke-linecap:butt; stroke-linejoin:round; stroke-width:4; stroke-opacity:1; fill:none\" points=\"\n",
       "  156.598,848.569 175.496,848.569 \n",
       "  \"/>\n",
       "<polyline clip-path=\"url(#clip930)\" style=\"stroke:#000000; stroke-linecap:butt; stroke-linejoin:round; stroke-width:4; stroke-opacity:1; fill:none\" points=\"\n",
       "  156.598,549.996 175.496,549.996 \n",
       "  \"/>\n",
       "<polyline clip-path=\"url(#clip930)\" style=\"stroke:#000000; stroke-linecap:butt; stroke-linejoin:round; stroke-width:4; stroke-opacity:1; fill:none\" points=\"\n",
       "  156.598,251.423 175.496,251.423 \n",
       "  \"/>\n",
       "<path clip-path=\"url(#clip930)\" d=\"M63.4226 1431.51 Q59.8115 1431.51 57.9828 1435.08 Q56.1773 1438.62 56.1773 1445.75 Q56.1773 1452.86 57.9828 1456.42 Q59.8115 1459.96 63.4226 1459.96 Q67.0569 1459.96 68.8624 1456.42 Q70.6911 1452.86 70.6911 1445.75 Q70.6911 1438.62 68.8624 1435.08 Q67.0569 1431.51 63.4226 1431.51 M63.4226 1427.81 Q69.2328 1427.81 72.2883 1432.42 Q75.367 1437 75.367 1445.75 Q75.367 1454.48 72.2883 1459.08 Q69.2328 1463.67 63.4226 1463.67 Q57.6125 1463.67 54.5338 1459.08 Q51.4782 1454.48 51.4782 1445.75 Q51.4782 1437 54.5338 1432.42 Q57.6125 1427.81 63.4226 1427.81 Z\" fill=\"#000000\" fill-rule=\"evenodd\" fill-opacity=\"1\" /><path clip-path=\"url(#clip930)\" d=\"M83.5845 1457.12 L88.4688 1457.12 L88.4688 1463 L83.5845 1463 L83.5845 1457.12 Z\" fill=\"#000000\" fill-rule=\"evenodd\" fill-opacity=\"1\" /><path clip-path=\"url(#clip930)\" d=\"M108.654 1431.51 Q105.043 1431.51 103.214 1435.08 Q101.409 1438.62 101.409 1445.75 Q101.409 1452.86 103.214 1456.42 Q105.043 1459.96 108.654 1459.96 Q112.288 1459.96 114.094 1456.42 Q115.922 1452.86 115.922 1445.75 Q115.922 1438.62 114.094 1435.08 Q112.288 1431.51 108.654 1431.51 M108.654 1427.81 Q114.464 1427.81 117.52 1432.42 Q120.598 1437 120.598 1445.75 Q120.598 1454.48 117.52 1459.08 Q114.464 1463.67 108.654 1463.67 Q102.844 1463.67 99.765 1459.08 Q96.7095 1454.48 96.7095 1445.75 Q96.7095 1437 99.765 1432.42 Q102.844 1427.81 108.654 1427.81 Z\" fill=\"#000000\" fill-rule=\"evenodd\" fill-opacity=\"1\" /><path clip-path=\"url(#clip930)\" d=\"M65.0198 1132.94 Q61.4087 1132.94 59.58 1136.51 Q57.7745 1140.05 57.7745 1147.18 Q57.7745 1154.28 59.58 1157.85 Q61.4087 1161.39 65.0198 1161.39 Q68.6541 1161.39 70.4596 1157.85 Q72.2883 1154.28 72.2883 1147.18 Q72.2883 1140.05 70.4596 1136.51 Q68.6541 1132.94 65.0198 1132.94 M65.0198 1129.24 Q70.83 1129.24 73.8855 1133.84 Q76.9642 1138.43 76.9642 1147.18 Q76.9642 1155.9 73.8855 1160.51 Q70.83 1165.09 65.0198 1165.09 Q59.2097 1165.09 56.131 1160.51 Q53.0754 1155.9 53.0754 1147.18 Q53.0754 1138.43 56.131 1133.84 Q59.2097 1129.24 65.0198 1129.24 Z\" fill=\"#000000\" fill-rule=\"evenodd\" fill-opacity=\"1\" /><path clip-path=\"url(#clip930)\" d=\"M85.1818 1158.54 L90.066 1158.54 L90.066 1164.42 L85.1818 1164.42 L85.1818 1158.54 Z\" fill=\"#000000\" fill-rule=\"evenodd\" fill-opacity=\"1\" /><path clip-path=\"url(#clip930)\" d=\"M104.279 1160.49 L120.598 1160.49 L120.598 1164.42 L98.6539 1164.42 L98.6539 1160.49 Q101.316 1157.73 105.899 1153.1 Q110.506 1148.45 111.686 1147.11 Q113.932 1144.58 114.811 1142.85 Q115.714 1141.09 115.714 1139.4 Q115.714 1136.64 113.77 1134.91 Q111.848 1133.17 108.746 1133.17 Q106.547 1133.17 104.094 1133.94 Q101.663 1134.7 98.8854 1136.25 L98.8854 1131.53 Q101.709 1130.39 104.163 1129.82 Q106.617 1129.24 108.654 1129.24 Q114.024 1129.24 117.219 1131.92 Q120.413 1134.61 120.413 1139.1 Q120.413 1141.23 119.603 1143.15 Q118.816 1145.05 116.709 1147.64 Q116.131 1148.31 113.029 1151.53 Q109.927 1154.72 104.279 1160.49 Z\" fill=\"#000000\" fill-rule=\"evenodd\" fill-opacity=\"1\" /><path clip-path=\"url(#clip930)\" d=\"M62.9365 834.368 Q59.3254 834.368 57.4967 837.933 Q55.6912 841.475 55.6912 848.604 Q55.6912 855.711 57.4967 859.275 Q59.3254 862.817 62.9365 862.817 Q66.5707 862.817 68.3763 859.275 Q70.205 855.711 70.205 848.604 Q70.205 841.475 68.3763 837.933 Q66.5707 834.368 62.9365 834.368 M62.9365 830.664 Q68.7467 830.664 71.8022 835.271 Q74.8809 839.854 74.8809 848.604 Q74.8809 857.331 71.8022 861.937 Q68.7467 866.521 62.9365 866.521 Q57.1264 866.521 54.0477 861.937 Q50.9921 857.331 50.9921 848.604 Q50.9921 839.854 54.0477 835.271 Q57.1264 830.664 62.9365 830.664 Z\" fill=\"#000000\" fill-rule=\"evenodd\" fill-opacity=\"1\" /><path clip-path=\"url(#clip930)\" d=\"M83.0984 859.97 L87.9827 859.97 L87.9827 865.849 L83.0984 865.849 L83.0984 859.97 Z\" fill=\"#000000\" fill-rule=\"evenodd\" fill-opacity=\"1\" /><path clip-path=\"url(#clip930)\" d=\"M111.015 835.364 L99.2095 853.813 L111.015 853.813 L111.015 835.364 M109.788 831.289 L115.668 831.289 L115.668 853.813 L120.598 853.813 L120.598 857.701 L115.668 857.701 L115.668 865.849 L111.015 865.849 L111.015 857.701 L95.4132 857.701 L95.4132 853.188 L109.788 831.289 Z\" fill=\"#000000\" fill-rule=\"evenodd\" fill-opacity=\"1\" /><path clip-path=\"url(#clip930)\" d=\"M63.2606 535.795 Q59.6495 535.795 57.8208 539.36 Q56.0152 542.902 56.0152 550.031 Q56.0152 557.138 57.8208 560.702 Q59.6495 564.244 63.2606 564.244 Q66.8948 564.244 68.7004 560.702 Q70.5291 557.138 70.5291 550.031 Q70.5291 542.902 68.7004 539.36 Q66.8948 535.795 63.2606 535.795 M63.2606 532.091 Q69.0707 532.091 72.1263 536.698 Q75.205 541.281 75.205 550.031 Q75.205 558.758 72.1263 563.364 Q69.0707 567.948 63.2606 567.948 Q57.4504 567.948 54.3717 563.364 Q51.3162 558.758 51.3162 550.031 Q51.3162 541.281 54.3717 536.698 Q57.4504 532.091 63.2606 532.091 Z\" fill=\"#000000\" fill-rule=\"evenodd\" fill-opacity=\"1\" /><path clip-path=\"url(#clip930)\" d=\"M83.4225 561.397 L88.3067 561.397 L88.3067 567.276 L83.4225 567.276 L83.4225 561.397 Z\" fill=\"#000000\" fill-rule=\"evenodd\" fill-opacity=\"1\" /><path clip-path=\"url(#clip930)\" d=\"M109.071 548.133 Q105.922 548.133 104.071 550.286 Q102.242 552.439 102.242 556.188 Q102.242 559.915 104.071 562.091 Q105.922 564.244 109.071 564.244 Q112.219 564.244 114.047 562.091 Q115.899 559.915 115.899 556.188 Q115.899 552.439 114.047 550.286 Q112.219 548.133 109.071 548.133 M118.353 533.48 L118.353 537.74 Q116.594 536.906 114.788 536.466 Q113.006 536.027 111.246 536.027 Q106.617 536.027 104.163 539.152 Q101.733 542.277 101.385 548.596 Q102.751 546.582 104.811 545.517 Q106.871 544.429 109.348 544.429 Q114.557 544.429 117.566 547.601 Q120.598 550.749 120.598 556.188 Q120.598 561.513 117.45 564.73 Q114.302 567.948 109.071 567.948 Q103.075 567.948 99.9039 563.364 Q96.7326 558.758 96.7326 550.031 Q96.7326 541.837 100.621 536.976 Q104.51 532.091 111.061 532.091 Q112.82 532.091 114.603 532.439 Q116.408 532.786 118.353 533.48 Z\" fill=\"#000000\" fill-rule=\"evenodd\" fill-opacity=\"1\" /><path clip-path=\"url(#clip930)\" d=\"M63.5152 237.222 Q59.9041 237.222 58.0754 240.787 Q56.2699 244.328 56.2699 251.458 Q56.2699 258.564 58.0754 262.129 Q59.9041 265.671 63.5152 265.671 Q67.1494 265.671 68.955 262.129 Q70.7837 258.564 70.7837 251.458 Q70.7837 244.328 68.955 240.787 Q67.1494 237.222 63.5152 237.222 M63.5152 233.518 Q69.3254 233.518 72.3809 238.125 Q75.4596 242.708 75.4596 251.458 Q75.4596 260.185 72.3809 264.791 Q69.3254 269.375 63.5152 269.375 Q57.7051 269.375 54.6264 264.791 Q51.5708 260.185 51.5708 251.458 Q51.5708 242.708 54.6264 238.125 Q57.7051 233.518 63.5152 233.518 Z\" fill=\"#000000\" fill-rule=\"evenodd\" fill-opacity=\"1\" /><path clip-path=\"url(#clip930)\" d=\"M83.6771 262.824 L88.5614 262.824 L88.5614 268.703 L83.6771 268.703 L83.6771 262.824 Z\" fill=\"#000000\" fill-rule=\"evenodd\" fill-opacity=\"1\" /><path clip-path=\"url(#clip930)\" d=\"M108.746 252.291 Q105.413 252.291 103.492 254.074 Q101.594 255.856 101.594 258.981 Q101.594 262.106 103.492 263.889 Q105.413 265.671 108.746 265.671 Q112.08 265.671 114.001 263.889 Q115.922 262.083 115.922 258.981 Q115.922 255.856 114.001 254.074 Q112.103 252.291 108.746 252.291 M104.071 250.301 Q101.061 249.56 99.3715 247.5 Q97.7048 245.44 97.7048 242.477 Q97.7048 238.333 100.645 235.926 Q103.608 233.518 108.746 233.518 Q113.908 233.518 116.848 235.926 Q119.788 238.333 119.788 242.477 Q119.788 245.44 118.098 247.5 Q116.432 249.56 113.445 250.301 Q116.825 251.088 118.7 253.379 Q120.598 255.671 120.598 258.981 Q120.598 264.004 117.52 266.689 Q114.464 269.375 108.746 269.375 Q103.029 269.375 99.9502 266.689 Q96.8947 264.004 96.8947 258.981 Q96.8947 255.671 98.7928 253.379 Q100.691 251.088 104.071 250.301 M102.358 242.916 Q102.358 245.602 104.024 247.106 Q105.714 248.611 108.746 248.611 Q111.756 248.611 113.445 247.106 Q115.158 245.602 115.158 242.916 Q115.158 240.231 113.445 238.727 Q111.756 237.222 108.746 237.222 Q105.714 237.222 104.024 238.727 Q102.358 240.231 102.358 242.916 Z\" fill=\"#000000\" fill-rule=\"evenodd\" fill-opacity=\"1\" /><polyline clip-path=\"url(#clip932)\" style=\"stroke:#009af9; stroke-linecap:butt; stroke-linejoin:round; stroke-width:4; stroke-opacity:1; fill:none\" points=\"\n",
       "  218.754,236.495 261.036,460.201 303.319,781.084 345.601,1129.53 387.884,1360.81 430.167,1432.96 472.449,1443.87 514.732,1445.38 557.014,1445.64 599.297,1445.7 \n",
       "  641.58,1445.71 683.862,1445.71 726.145,1445.72 768.427,1445.72 810.71,1445.72 852.992,1445.72 895.275,1445.72 937.558,1445.72 979.84,1445.72 1022.12,1445.72 \n",
       "  1064.41,1445.72 1106.69,1445.72 1148.97,1445.72 1191.25,1445.72 1233.54,1445.72 1275.82,1445.72 1318.1,1445.72 1360.38,1445.72 1402.67,1445.72 1444.95,1445.72 \n",
       "  1487.23,1445.72 1529.51,1445.72 1571.8,1445.72 1614.08,1445.72 1656.36,1445.72 1698.64,1445.72 1740.93,1445.72 1783.21,1445.72 1825.49,1445.72 1867.77,1445.72 \n",
       "  1910.06,1445.72 1952.34,1445.72 1994.62,1445.72 2036.9,1445.72 2079.19,1445.72 2121.47,1445.72 2163.75,1445.72 2206.04,1445.72 2248.32,1445.72 2290.6,1445.72 \n",
       "  \n",
       "  \"/>\n",
       "<polyline clip-path=\"url(#clip932)\" style=\"stroke:#e26f46; stroke-linecap:butt; stroke-linejoin:round; stroke-width:4; stroke-opacity:1; fill:none\" points=\"\n",
       "  218.754,1169.54 261.036,959.639 303.319,663.059 345.601,353.749 387.884,177.069 430.167,168.344 472.449,221.3 514.732,281.011 557.014,338.988 599.297,394.271 \n",
       "  641.58,446.83 683.862,496.77 726.145,544.216 768.427,589.291 810.71,632.112 852.992,672.792 895.275,711.438 937.558,748.152 979.84,783.03 1022.12,816.165 \n",
       "  1064.41,847.642 1106.69,877.546 1148.97,905.954 1191.25,932.942 1233.54,958.581 1275.82,982.938 1318.1,1006.08 1360.38,1028.06 1402.67,1048.94 1444.95,1068.78 \n",
       "  1487.23,1087.63 1529.51,1105.53 1571.8,1122.54 1614.08,1138.7 1656.36,1154.05 1698.64,1168.63 1740.93,1182.49 1783.21,1195.65 1825.49,1208.15 1867.77,1220.03 \n",
       "  1910.06,1231.31 1952.34,1242.03 1994.62,1252.22 2036.9,1261.89 2079.19,1271.08 2121.47,1279.82 2163.75,1288.11 2206.04,1295.99 2248.32,1303.48 2290.6,1310.59 \n",
       "  \n",
       "  \"/>\n",
       "<polyline clip-path=\"url(#clip932)\" style=\"stroke:#3da44d; stroke-linecap:butt; stroke-linejoin:round; stroke-width:4; stroke-opacity:1; fill:none\" points=\"\n",
       "  218.754,1438.25 261.036,1424.44 303.319,1400.14 345.601,1361.01 387.884,1306.41 430.167,1242.97 472.449,1179.11 514.732,1117.89 557.014,1059.65 599.297,1004.31 \n",
       "  641.58,951.742 683.862,901.797 726.145,854.35 768.427,809.275 810.71,766.454 852.992,725.774 895.275,687.128 937.558,650.414 979.84,615.536 1022.12,582.401 \n",
       "  1064.41,550.924 1106.69,521.02 1148.97,492.612 1191.25,465.624 1233.54,439.985 1275.82,415.628 1318.1,392.489 1360.38,370.507 1402.67,349.624 1444.95,329.786 \n",
       "  1487.23,310.939 1529.51,293.035 1571.8,276.025 1614.08,259.867 1656.36,244.516 1698.64,229.932 1740.93,216.078 1783.21,202.917 1825.49,190.414 1867.77,178.535 \n",
       "  1910.06,167.251 1952.34,156.531 1994.62,146.347 2036.9,136.672 2079.19,127.481 2121.47,118.75 2163.75,110.455 2206.04,102.574 2248.32,95.0882 2290.6,87.9763 \n",
       "  \n",
       "  \"/>\n",
       "<path clip-path=\"url(#clip930)\" d=\"\n",
       "M1982.52 302.578 L2279.55 302.578 L2279.55 95.2176 L1982.52 95.2176  Z\n",
       "  \" fill=\"#ffffff\" fill-rule=\"evenodd\" fill-opacity=\"1\"/>\n",
       "<polyline clip-path=\"url(#clip930)\" style=\"stroke:#000000; stroke-linecap:butt; stroke-linejoin:round; stroke-width:4; stroke-opacity:1; fill:none\" points=\"\n",
       "  1982.52,302.578 2279.55,302.578 2279.55,95.2176 1982.52,95.2176 1982.52,302.578 \n",
       "  \"/>\n",
       "<polyline clip-path=\"url(#clip930)\" style=\"stroke:#009af9; stroke-linecap:butt; stroke-linejoin:round; stroke-width:4; stroke-opacity:1; fill:none\" points=\"\n",
       "  2006.93,147.058 2153.34,147.058 \n",
       "  \"/>\n",
       "<path clip-path=\"url(#clip930)\" d=\"M2191.58 166.745 Q2189.78 171.375 2188.06 172.787 Q2186.35 174.199 2183.48 174.199 L2180.08 174.199 L2180.08 170.634 L2182.58 170.634 Q2184.34 170.634 2185.31 169.8 Q2186.28 168.967 2187.46 165.865 L2188.22 163.921 L2177.74 138.412 L2182.25 138.412 L2190.35 158.689 L2198.46 138.412 L2202.97 138.412 L2191.58 166.745 Z\" fill=\"#000000\" fill-rule=\"evenodd\" fill-opacity=\"1\" /><path clip-path=\"url(#clip930)\" d=\"M2210.26 160.402 L2217.9 160.402 L2217.9 134.037 L2209.59 135.703 L2209.59 131.444 L2217.85 129.778 L2222.53 129.778 L2222.53 160.402 L2230.17 160.402 L2230.17 164.338 L2210.26 164.338 L2210.26 160.402 Z\" fill=\"#000000\" fill-rule=\"evenodd\" fill-opacity=\"1\" /><polyline clip-path=\"url(#clip930)\" style=\"stroke:#e26f46; stroke-linecap:butt; stroke-linejoin:round; stroke-width:4; stroke-opacity:1; fill:none\" points=\"\n",
       "  2006.93,198.898 2153.34,198.898 \n",
       "  \"/>\n",
       "<path clip-path=\"url(#clip930)\" d=\"M2191.58 218.585 Q2189.78 223.215 2188.06 224.627 Q2186.35 226.039 2183.48 226.039 L2180.08 226.039 L2180.08 222.474 L2182.58 222.474 Q2184.34 222.474 2185.31 221.64 Q2186.28 220.807 2187.46 217.705 L2188.22 215.761 L2177.74 190.252 L2182.25 190.252 L2190.35 210.529 L2198.46 190.252 L2202.97 190.252 L2191.58 218.585 Z\" fill=\"#000000\" fill-rule=\"evenodd\" fill-opacity=\"1\" /><path clip-path=\"url(#clip930)\" d=\"M2213.48 212.242 L2229.8 212.242 L2229.8 216.178 L2207.85 216.178 L2207.85 212.242 Q2210.52 209.488 2215.1 204.858 Q2219.71 200.205 2220.89 198.863 Q2223.13 196.34 2224.01 194.604 Q2224.91 192.844 2224.91 191.155 Q2224.91 188.4 2222.97 186.664 Q2221.05 184.928 2217.95 184.928 Q2215.75 184.928 2213.29 185.692 Q2210.86 186.455 2208.09 188.006 L2208.09 183.284 Q2210.91 182.15 2213.36 181.571 Q2215.82 180.993 2217.85 180.993 Q2223.22 180.993 2226.42 183.678 Q2229.61 186.363 2229.61 190.854 Q2229.61 192.983 2228.8 194.905 Q2228.02 196.803 2225.91 199.395 Q2225.33 200.067 2222.23 203.284 Q2219.13 206.479 2213.48 212.242 Z\" fill=\"#000000\" fill-rule=\"evenodd\" fill-opacity=\"1\" /><polyline clip-path=\"url(#clip930)\" style=\"stroke:#3da44d; stroke-linecap:butt; stroke-linejoin:round; stroke-width:4; stroke-opacity:1; fill:none\" points=\"\n",
       "  2006.93,250.738 2153.34,250.738 \n",
       "  \"/>\n",
       "<path clip-path=\"url(#clip930)\" d=\"M2191.58 270.425 Q2189.78 275.055 2188.06 276.467 Q2186.35 277.879 2183.48 277.879 L2180.08 277.879 L2180.08 274.314 L2182.58 274.314 Q2184.34 274.314 2185.31 273.48 Q2186.28 272.647 2187.46 269.545 L2188.22 267.601 L2177.74 242.092 L2182.25 242.092 L2190.35 262.369 L2198.46 242.092 L2202.97 242.092 L2191.58 270.425 Z\" fill=\"#000000\" fill-rule=\"evenodd\" fill-opacity=\"1\" /><path clip-path=\"url(#clip930)\" d=\"M2223.62 249.383 Q2226.97 250.101 2228.85 252.369 Q2230.75 254.638 2230.75 257.971 Q2230.75 263.087 2227.23 265.888 Q2223.71 268.689 2217.23 268.689 Q2215.05 268.689 2212.74 268.249 Q2210.45 267.832 2207.99 266.976 L2207.99 262.462 Q2209.94 263.596 2212.25 264.175 Q2214.57 264.754 2217.09 264.754 Q2221.49 264.754 2223.78 263.018 Q2226.09 261.281 2226.09 257.971 Q2226.09 254.916 2223.94 253.203 Q2221.81 251.467 2217.99 251.467 L2213.96 251.467 L2213.96 247.624 L2218.18 247.624 Q2221.63 247.624 2223.46 246.258 Q2225.28 244.87 2225.28 242.277 Q2225.28 239.615 2223.39 238.203 Q2221.51 236.768 2217.99 236.768 Q2216.07 236.768 2213.87 237.184 Q2211.67 237.601 2209.03 238.481 L2209.03 234.314 Q2211.7 233.573 2214.01 233.203 Q2216.35 232.833 2218.41 232.833 Q2223.73 232.833 2226.84 235.263 Q2229.94 237.67 2229.94 241.791 Q2229.94 244.661 2228.29 246.652 Q2226.65 248.62 2223.62 249.383 Z\" fill=\"#000000\" fill-rule=\"evenodd\" fill-opacity=\"1\" /></svg>\n"
      ]
     },
     "metadata": {},
     "output_type": "display_data"
    }
   ],
   "source": [
    "# Not sure why plotting doesn't work\n",
    "\n",
    "using Plots\n",
    "x = 1:50\n",
    "susc = [e[1] for e in simulations]\n",
    "inf = [e[2] for e in simulations]\n",
    "rec = [e[3] for e in simulations]\n",
    "plot(x, susc)\n",
    "plot!(x, inf)\n",
    "plot!(x, rec)"
   ]
  },
  {
   "cell_type": "markdown",
   "metadata": {},
   "source": [
    "__We now assume a Susceptible person who meets an infected one has a probability $\\mu$ of catching the disease. Update the transition function. Update function $f$ and write a function of $\\mu$, $\\pi$ which returns the simulation. Compare different values of the parameters. How would you interpret \"social distancing\"? How would you choose parameters $\\Pi$ and $\\mu$__ "
   ]
  },
  {
   "cell_type": "code",
   "execution_count": null,
   "metadata": {},
   "outputs": [],
   "source": []
  },
  {
   "cell_type": "markdown",
   "metadata": {},
   "source": [
    "### A Spatial SIR model\n",
    "\n",
    "We now consider another version of the model where agents evolve in the space $\\mathcal{S}=[0,1]\\times[0,1]$. There are $N\\in\\mathbb{N}$ agent. At any date, each agent $n \\in [0,1]$  is located at $(x_n,y_n)\\in \\mathcal{S}$.\n",
    "\n",
    "Each agent moves follows a random walk bounded by $\\mathcal{S}$:\n",
    "$$x_t = \\min(\\max( x_{t-1} + \\epsilon_t, 0), 1)$$\n",
    "$$y_t = \\min(\\max( y_{t-1} + \\eta_t, 0), 1)$$\n",
    "where $\\epsilon_t$ and $\\eta_t$ are both normally distributed with standard deviation $\\sigma$.\n",
    "\n",
    "At any date, the individual state of an agent is $s_t=(x_t, y_t, h_t)$ where $h_t$ is either \"S\", \"I\" or \"R\". $v_t$ denotes the states of all agents (for instance $v_t=(s_{n,t})_n$. The health status of each agent is updated in the following way:\n",
    "\n",
    "- Agents $R$ stay $R$.\n",
    "- Agents $I$ have probability $\\pi$ to become $R$. They stay $I$ otherwise.\n",
    "- An agent of type $S$ in position $(x,y)$ has a probability $prob(x,y,S)$ to be infected that is $\\mu$ if there is another infected agent within a radius $r>0$.\n"
   ]
  },
  {
   "cell_type": "markdown",
   "metadata": {},
   "source": [
    "__Define a type `Agent`, which holds the type of an agent. The state of the whole system will be held in a `Vector[Agent]` type.__\n",
    "\n"
   ]
  },
  {
   "cell_type": "code",
   "execution_count": null,
   "metadata": {},
   "outputs": [],
   "source": []
  },
  {
   "cell_type": "markdown",
   "metadata": {},
   "source": [
    "__Write a function `spatial_transition(S::Vector{Agent})::Vector{Agent}` to compute the transition of the positions. Write another function `random_guess(T=100)` which simulates for $T$ periods in order to find a good initial guess.__\n",
    "\n"
   ]
  },
  {
   "cell_type": "code",
   "execution_count": null,
   "metadata": {},
   "outputs": [],
   "source": []
  },
  {
   "cell_type": "markdown",
   "metadata": {},
   "source": [
    "__Write a function `show_population` to plot all agents with different colors for different health status.__\n",
    "\n"
   ]
  },
  {
   "cell_type": "code",
   "execution_count": null,
   "metadata": {},
   "outputs": [],
   "source": []
  },
  {
   "cell_type": "markdown",
   "metadata": {},
   "source": [
    "__Write a function `evolve(S::Vector[Agent])::Vector[Agent]` which takes the population in a given state and returns the same population with updated health status.__\n",
    "\n"
   ]
  },
  {
   "cell_type": "code",
   "execution_count": null,
   "metadata": {},
   "outputs": [],
   "source": []
  },
  {
   "cell_type": "markdown",
   "metadata": {},
   "source": [
    "__Write a function `simulate(S0::Vector[Agent], k=1)` to simulate the economy starting from an initially random position with `k` infected individuals. The returned object should be of type `Vector[Vector[Agent]]`.__\n",
    "\n"
   ]
  },
  {
   "cell_type": "code",
   "execution_count": null,
   "metadata": {},
   "outputs": [],
   "source": []
  },
  {
   "cell_type": "markdown",
   "metadata": {},
   "source": [
    "__Compute statistics along a simulated path for $n_I$, $n_S$, $n_R$. Plot and compare with the basic SIR model__"
   ]
  },
  {
   "cell_type": "code",
   "execution_count": null,
   "metadata": {},
   "outputs": [],
   "source": []
  },
  {
   "cell_type": "markdown",
   "metadata": {},
   "source": [
    "### Additional questions\n",
    "\n",
    "Have fun by trying to answer one of these questions:\n",
    "- change probability of infection so that it depends on the number of infected people in the vincinity (with some suitable functional formulation for)\n",
    "- compute an animation of the transition\n",
    "- compute an interactive visualisation (with `Interact.jl` if available)"
   ]
  },
  {
   "cell_type": "code",
   "execution_count": null,
   "metadata": {},
   "outputs": [],
   "source": []
  }
 ],
 "metadata": {
  "kernelspec": {
   "display_name": "Julia 1.7.2",
   "language": "julia",
   "name": "julia-1.7"
  },
  "language_info": {
   "file_extension": ".jl",
   "mimetype": "application/julia",
   "name": "julia",
   "version": "1.7.2"
  }
 },
 "nbformat": 4,
 "nbformat_minor": 4
}
