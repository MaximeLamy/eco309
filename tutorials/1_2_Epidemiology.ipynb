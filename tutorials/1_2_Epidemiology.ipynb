{
 "cells": [
  {
   "cell_type": "markdown",
   "metadata": {},
   "source": [
    "# Tutorial: Epidemiology Models\n",
    "\n",
    "\n",
    "## Computational Economics  (ECO309)\n",
    "\n",
    "\n",
    "\n",
    "H.W. Heathcote: epidemiologic models are *deterministic models for infectious diseases which are spread by direct person-to-person contact in a population*.\n",
    "\n",
    "This kind of models has been used since by a few decades by economist, for matters that have nothing to do with health.\n",
    "\n",
    "- diffusion of information, or opinions on social medias\n",
    "- asset prices and fads\n",
    "- expectation formation for macroeconomic outcomes (ex: *The Epidemiology of Macroeconomic Expectations* by Chris Carroll)\n",
    "\n",
    "Epidemiologic models have two features that depart from standard economic models:\n",
    "\n",
    "- Agent's behaviour does not take the full system into account, an is irrational in the sense that it isn't forwards looking. Instead, an agent is given a behavioural heuristic.\n",
    "- The transitions of the whole system can be determined without solving for complex interactions first.\n",
    "\n",
    "Understanding why these two assumptions are very costly for economists will keep us busy during a big part of the course. Here we just consider two simple models as small programming exercises."
   ]
  },
  {
   "cell_type": "markdown",
   "metadata": {},
   "source": [
    "### Simple SIR model\n",
    "\n",
    "There is a continuum of agents of mass $1$. Each agent can be either \"Susceptible\" (S), \"Infected\" (I) or \"Recovered\" (R).\n",
    "In each period, one agent meets another agent drawn randomly.\n",
    "During a meeting Susceptible agents who meet an infected agent, will always catch the disease (or the fad) but are not contagious. Infected agents, have a probability $\\pi$ of being recovered. Nothing happens to Recovered agents who meet other people. No distinction is made between recovering as a healthy or a dead person.\n",
    "\n",
    "We're interested in the evolution in the number infected persons, both the speed of infection and the total amount of infected people in every period."
   ]
  },
  {
   "cell_type": "markdown",
   "metadata": {},
   "source": [
    "__Write down the transition equations for $n_I$, the number of infected people, for $n_R$ the number of recovered people and $n_S$ the number of susceptible people.__\n",
    "\n"
   ]
  },
  {
   "cell_type": "markdown",
   "metadata": {},
   "source": [
    "We have \n",
    "\n",
    "$$\\begin{aligned}\n",
    "n_{S, t+1} &= n_{S, t} - \\underbrace{n_{S, t} n_{I, t}}_{\\textrm{newly infected}}\\\\\n",
    "n_{I, t+1} &= (1-\\pi) n_{I, t} + \\underbrace{n_{S, t} n_{I, t}}_{\\textrm{newly infected}} \\\\\n",
    "n_{R, t+1} &= n_{R, t} + \\pi n_{I, t}\n",
    "\\end{aligned}\n",
    "$$"
   ]
  },
  {
   "cell_type": "markdown",
   "metadata": {},
   "source": [
    "__Compute the transition function `f` for the vector state $s_t$ returning $s_{t+1}$__\n",
    "\n"
   ]
  },
  {
   "cell_type": "code",
   "execution_count": 57,
   "metadata": {},
   "outputs": [
    {
     "data": {
      "text/plain": [
       "3-element Vector{Float64}:\n",
       " 0.9\n",
       " 0.1\n",
       " 0.0"
      ]
     },
     "metadata": {},
     "output_type": "display_data"
    }
   ],
   "source": [
    "s0 = [0.9, 0.1, 0.0]"
   ]
  },
  {
   "cell_type": "code",
   "execution_count": 72,
   "metadata": {},
   "outputs": [
    {
     "data": {
      "text/plain": [
       "f (generic function with 1 method)"
      ]
     },
     "metadata": {},
     "output_type": "display_data"
    }
   ],
   "source": [
    "function f(s; π=0.05)\n",
    "    # n_S = s[1]*(1-s[2])\n",
    "    # n_I = s[1]*s[2] - π*s[2]\n",
    "    # n_R = s[3] + π*s[2]\n",
    "    n_S = s[1] - s[1]s[2]\n",
    "    n_I = (1-π)s[2] + s[1]s[2]\n",
    "    n_R = s[3] + π*s[2]\n",
    "    S = [n_S, n_I, n_R]\n",
    "    return S\n",
    "end"
   ]
  },
  {
   "cell_type": "code",
   "execution_count": 73,
   "metadata": {},
   "outputs": [
    {
     "name": "stdout",
     "output_type": "stream",
     "text": [
      "New S: 0.81, New I: 0.185, New R: 0.005000000000000001, and S+I+R = 1.0\n"
     ]
    }
   ],
   "source": [
    "# sum(f(s0)), f(s0)\n",
    "println(\"New S: $(f(s0)[1]), New I: $(f(s0)[2]), New R: $(f(s0)[3]), and S+I+R = $(sum(f(s0)))\")"
   ]
  },
  {
   "cell_type": "markdown",
   "metadata": {},
   "source": [
    "__Compute the transitions over $T$ periods. Plot the result using Plots.jl. (bonus: check against closed form solution)__\n",
    "\n"
   ]
  },
  {
   "cell_type": "code",
   "execution_count": 74,
   "metadata": {},
   "outputs": [],
   "source": [
    "# s0 = [0.9, 0.1, 0.01]\n",
    "# s0 = [0.9, 0.06, 0.04]\n",
    "simulations = []\n",
    "for t in 1:50\n",
    "    s1 = f(s0)\n",
    "    push!(simulations, s1)\n",
    "end"
   ]
  },
  {
   "cell_type": "code",
   "execution_count": 75,
   "metadata": {},
   "outputs": [
    {
     "data": {
      "text/plain": [
       "50-element Vector{Any}:\n",
       " [0.81, 0.185, 0.005000000000000001]\n",
       " [0.81, 0.185, 0.005000000000000001]\n",
       " [0.81, 0.185, 0.005000000000000001]\n",
       " [0.81, 0.185, 0.005000000000000001]\n",
       " [0.81, 0.185, 0.005000000000000001]\n",
       " [0.81, 0.185, 0.005000000000000001]\n",
       " [0.81, 0.185, 0.005000000000000001]\n",
       " [0.81, 0.185, 0.005000000000000001]\n",
       " [0.81, 0.185, 0.005000000000000001]\n",
       " [0.81, 0.185, 0.005000000000000001]\n",
       " ⋮\n",
       " [0.81, 0.185, 0.005000000000000001]\n",
       " [0.81, 0.185, 0.005000000000000001]\n",
       " [0.81, 0.185, 0.005000000000000001]\n",
       " [0.81, 0.185, 0.005000000000000001]\n",
       " [0.81, 0.185, 0.005000000000000001]\n",
       " [0.81, 0.185, 0.005000000000000001]\n",
       " [0.81, 0.185, 0.005000000000000001]\n",
       " [0.81, 0.185, 0.005000000000000001]\n",
       " [0.81, 0.185, 0.005000000000000001]"
      ]
     },
     "metadata": {},
     "output_type": "display_data"
    }
   ],
   "source": [
    "simulations"
   ]
  },
  {
   "cell_type": "code",
   "execution_count": 70,
   "metadata": {},
   "outputs": [],
   "source": [
    "# import Pkg; Pkg.add(\"Plots\")"
   ]
  },
  {
   "cell_type": "code",
   "execution_count": 76,
   "metadata": {},
   "outputs": [
    {
     "data": {
      "image/png": "[encoded data removed]",
      "image/svg+xml": "<?xml version=\"1.0\" encoding=\"utf-8\"?>\n<svg xmlns=\"http://www.w3.org/2000/svg\" xmlns:xlink=\"http://www.w3.org/1999/xlink\" width=\"600\" height=\"400\" viewBox=\"0 0 2400 1600\">\n<defs>\n  <clipPath id=\"clip790\">\n    <rect x=\"0\" y=\"0\" width=\"2400\" height=\"1600\"/>\n  </clipPath>\n</defs>\n<path clip-path=\"url(#clip790)\" d=\"\nM0 1600 L2400 1600 L2400 0 L0 0  Z\n  \" fill=\"#ffffff\" fill-rule=\"evenodd\" fill-opacity=\"1\"/>\n<defs>\n  <clipPath id=\"clip791\">\n    <rect x=\"480\" y=\"0\" width=\"1681\" height=\"1600\"/>\n  </clipPath>\n</defs>\n<path clip-path=\"url(#clip790)\" d=\"\nM156.598 1486.45 L2352.76 1486.45 L2352.76 47.2441 L156.598 47.2441  Z\n  \" fill=\"#ffffff\" fill-rule=\"evenodd\" fill-opacity=\"1\"/>\n<defs>\n  <clipPath id=\"clip792\">\n    <rect x=\"156\" y=\"47\" width=\"2197\" height=\"1440\"/>\n  </clipPath>\n</defs>\n<polyline clip-path=\"url(#clip792)\" style=\"stroke:#000000; stroke-linecap:butt; stroke-linejoin:round; stroke-width:2; stroke-opacity:0.1; fill:none\" points=\"\n  176.471,1486.45 176.471,47.2441 \n  \"/>\n<polyline clip-path=\"url(#clip792)\" style=\"stroke:#000000; stroke-linecap:butt; stroke-linejoin:round; stroke-width:2; stroke-opacity:0.1; fill:none\" points=\"\n  599.297,1486.45 599.297,47.2441 \n  \"/>\n<polyline clip-path=\"url(#clip792)\" style=\"stroke:#000000; stroke-linecap:butt; stroke-linejoin:round; stroke-width:2; stroke-opacity:0.1; fill:none\" points=\"\n  1022.12,1486.45 1022.12,47.2441 \n  \"/>\n<polyline clip-path=\"url(#clip792)\" style=\"stroke:#000000; stroke-linecap:butt; stroke-linejoin:round; stroke-width:2; stroke-opacity:0.1; fill:none\" points=\"\n  1444.95,1486.45 1444.95,47.2441 \n  \"/>\n<polyline clip-path=\"url(#clip792)\" style=\"stroke:#000000; stroke-linecap:butt; stroke-linejoin:round; stroke-width:2; stroke-opacity:0.1; fill:none\" points=\"\n  1867.77,1486.45 1867.77,47.2441 \n  \"/>\n<polyline clip-path=\"url(#clip792)\" style=\"stroke:#000000; stroke-linecap:butt; stroke-linejoin:round; stroke-width:2; stroke-opacity:0.1; fill:none\" points=\"\n  2290.6,1486.45 2290.6,47.2441 \n  \"/>\n<polyline clip-path=\"url(#clip790)\" style=\"stroke:#000000; stroke-linecap:butt; stroke-linejoin:round; stroke-width:4; stroke-opacity:1; fill:none\" points=\"\n  156.598,1486.45 2352.76,1486.45 \n  \"/>\n<polyline clip-path=\"url(#clip790)\" style=\"stroke:#000000; stroke-linecap:butt; stroke-linejoin:round; stroke-width:4; stroke-opacity:1; fill:none\" points=\"\n  176.471,1486.45 176.471,1467.55 \n  \"/>\n<polyline clip-path=\"url(#clip790)\" style=\"stroke:#000000; stroke-linecap:butt; stroke-linejoin:round; stroke-width:4; stroke-opacity:1; fill:none\" points=\"\n  599.297,1486.45 599.297,1467.55 \n  \"/>\n<polyline clip-path=\"url(#clip790)\" style=\"stroke:#000000; stroke-linecap:butt; stroke-linejoin:round; stroke-width:4; stroke-opacity:1; fill:none\" points=\"\n  1022.12,1486.45 1022.12,1467.55 \n  \"/>\n<polyline clip-path=\"url(#clip790)\" style=\"stroke:#000000; stroke-linecap:butt; stroke-linejoin:round; stroke-width:4; stroke-opacity:1; fill:none\" points=\"\n  1444.95,1486.45 1444.95,1467.55 \n  \"/>\n<polyline clip-path=\"url(#clip790)\" style=\"stroke:#000000; stroke-linecap:butt; stroke-linejoin:round; stroke-width:4; stroke-opacity:1; fill:none\" points=\"\n  1867.77,1486.45 1867.77,1467.55 \n  \"/>\n<polyline clip-path=\"url(#clip790)\" style=\"stroke:#000000; stroke-linecap:butt; stroke-linejoin:round; stroke-width:4; stroke-opacity:1; fill:none\" points=\"\n  2290.6,1486.45 2290.6,1467.55 \n  \"/>\n<path clip-path=\"url(#clip790)\" d=\"M176.471 1517.37 Q172.86 1517.37 171.031 1520.93 Q169.226 1524.47 169.226 1531.6 Q169.226 1538.71 171.031 1542.27 Q172.86 1545.82 176.471 1545.82 Q180.105 1545.82 181.911 1542.27 Q183.74 1538.71 183.74 1531.6 Q183.74 1524.47 181.911 1520.93 Q180.105 1517.37 176.471 1517.37 M176.471 1513.66 Q182.281 1513.66 185.337 1518.27 Q188.415 1522.85 188.415 1531.6 Q188.415 1540.33 185.337 1544.94 Q182.281 1549.52 176.471 1549.52 Q170.661 1549.52 167.582 1544.94 Q164.527 1540.33 164.527 1531.6 Q164.527 1522.85 167.582 1518.27 Q170.661 1513.66 176.471 1513.66 Z\" fill=\"#000000\" fill-rule=\"evenodd\" fill-opacity=\"1\" /><path clip-path=\"url(#clip790)\" d=\"M573.985 1544.91 L581.623 1544.91 L581.623 1518.55 L573.313 1520.21 L573.313 1515.95 L581.577 1514.29 L586.253 1514.29 L586.253 1544.91 L593.892 1544.91 L593.892 1548.85 L573.985 1548.85 L573.985 1544.91 Z\" fill=\"#000000\" fill-rule=\"evenodd\" fill-opacity=\"1\" /><path clip-path=\"url(#clip790)\" d=\"M613.336 1517.37 Q609.725 1517.37 607.896 1520.93 Q606.091 1524.47 606.091 1531.6 Q606.091 1538.71 607.896 1542.27 Q609.725 1545.82 613.336 1545.82 Q616.97 1545.82 618.776 1542.27 Q620.605 1538.71 620.605 1531.6 Q620.605 1524.47 618.776 1520.93 Q616.97 1517.37 613.336 1517.37 M613.336 1513.66 Q619.146 1513.66 622.202 1518.27 Q625.281 1522.85 625.281 1531.6 Q625.281 1540.33 622.202 1544.94 Q619.146 1549.52 613.336 1549.52 Q607.526 1549.52 604.447 1544.94 Q601.392 1540.33 601.392 1531.6 Q601.392 1522.85 604.447 1518.27 Q607.526 1513.66 613.336 1513.66 Z\" fill=\"#000000\" fill-rule=\"evenodd\" fill-opacity=\"1\" /><path clip-path=\"url(#clip790)\" d=\"M1000.9 1544.91 L1017.22 1544.91 L1017.22 1548.85 L995.271 1548.85 L995.271 1544.91 Q997.933 1542.16 1002.52 1537.53 Q1007.12 1532.88 1008.3 1531.53 Q1010.55 1529.01 1011.43 1527.27 Q1012.33 1525.51 1012.33 1523.82 Q1012.33 1521.07 1010.39 1519.33 Q1008.47 1517.6 1005.36 1517.6 Q1003.16 1517.6 1000.71 1518.36 Q998.28 1519.13 995.503 1520.68 L995.503 1515.95 Q998.327 1514.82 1000.78 1514.24 Q1003.23 1513.66 1005.27 1513.66 Q1010.64 1513.66 1013.84 1516.35 Q1017.03 1519.03 1017.03 1523.52 Q1017.03 1525.65 1016.22 1527.57 Q1015.43 1529.47 1013.33 1532.07 Q1012.75 1532.74 1009.65 1535.95 Q1006.54 1539.15 1000.9 1544.91 Z\" fill=\"#000000\" fill-rule=\"evenodd\" fill-opacity=\"1\" /><path clip-path=\"url(#clip790)\" d=\"M1037.03 1517.37 Q1033.42 1517.37 1031.59 1520.93 Q1029.78 1524.47 1029.78 1531.6 Q1029.78 1538.71 1031.59 1542.27 Q1033.42 1545.82 1037.03 1545.82 Q1040.66 1545.82 1042.47 1542.27 Q1044.3 1538.71 1044.3 1531.6 Q1044.3 1524.47 1042.47 1520.93 Q1040.66 1517.37 1037.03 1517.37 M1037.03 1513.66 Q1042.84 1513.66 1045.9 1518.27 Q1048.97 1522.85 1048.97 1531.6 Q1048.97 1540.33 1045.9 1544.94 Q1042.84 1549.52 1037.03 1549.52 Q1031.22 1549.52 1028.14 1544.94 Q1025.09 1540.33 1025.09 1531.6 Q1025.09 1522.85 1028.14 1518.27 Q1031.22 1513.66 1037.03 1513.66 Z\" fill=\"#000000\" fill-rule=\"evenodd\" fill-opacity=\"1\" /><path clip-path=\"url(#clip790)\" d=\"M1433.79 1530.21 Q1437.15 1530.93 1439.02 1533.2 Q1440.92 1535.47 1440.92 1538.8 Q1440.92 1543.92 1437.4 1546.72 Q1433.88 1549.52 1427.4 1549.52 Q1425.23 1549.52 1422.91 1549.08 Q1420.62 1548.66 1418.17 1547.81 L1418.17 1543.29 Q1420.11 1544.43 1422.43 1545.01 Q1424.74 1545.58 1427.26 1545.58 Q1431.66 1545.58 1433.95 1543.85 Q1436.27 1542.11 1436.27 1538.8 Q1436.27 1535.75 1434.12 1534.03 Q1431.99 1532.3 1428.17 1532.3 L1424.14 1532.3 L1424.14 1528.45 L1428.35 1528.45 Q1431.8 1528.45 1433.63 1527.09 Q1435.46 1525.7 1435.46 1523.11 Q1435.46 1520.45 1433.56 1519.03 Q1431.68 1517.6 1428.17 1517.6 Q1426.25 1517.6 1424.05 1518.01 Q1421.85 1518.43 1419.21 1519.31 L1419.21 1515.14 Q1421.87 1514.4 1424.18 1514.03 Q1426.52 1513.66 1428.58 1513.66 Q1433.91 1513.66 1437.01 1516.09 Q1440.11 1518.5 1440.11 1522.62 Q1440.11 1525.49 1438.47 1527.48 Q1436.82 1529.45 1433.79 1530.21 Z\" fill=\"#000000\" fill-rule=\"evenodd\" fill-opacity=\"1\" /><path clip-path=\"url(#clip790)\" d=\"M1459.79 1517.37 Q1456.18 1517.37 1454.35 1520.93 Q1452.54 1524.47 1452.54 1531.6 Q1452.54 1538.71 1454.35 1542.27 Q1456.18 1545.82 1459.79 1545.82 Q1463.42 1545.82 1465.23 1542.27 Q1467.06 1538.71 1467.06 1531.6 Q1467.06 1524.47 1465.23 1520.93 Q1463.42 1517.37 1459.79 1517.37 M1459.79 1513.66 Q1465.6 1513.66 1468.65 1518.27 Q1471.73 1522.85 1471.73 1531.6 Q1471.73 1540.33 1468.65 1544.94 Q1465.6 1549.52 1459.79 1549.52 Q1453.98 1549.52 1450.9 1544.94 Q1447.84 1540.33 1447.84 1531.6 Q1447.84 1522.85 1450.9 1518.27 Q1453.98 1513.66 1459.79 1513.66 Z\" fill=\"#000000\" fill-rule=\"evenodd\" fill-opacity=\"1\" /><path clip-path=\"url(#clip790)\" d=\"M1855.95 1518.36 L1844.14 1536.81 L1855.95 1536.81 L1855.95 1518.36 M1854.72 1514.29 L1860.6 1514.29 L1860.6 1536.81 L1865.53 1536.81 L1865.53 1540.7 L1860.6 1540.7 L1860.6 1548.85 L1855.95 1548.85 L1855.95 1540.7 L1840.34 1540.7 L1840.34 1536.19 L1854.72 1514.29 Z\" fill=\"#000000\" fill-rule=\"evenodd\" fill-opacity=\"1\" /><path clip-path=\"url(#clip790)\" d=\"M1883.26 1517.37 Q1879.65 1517.37 1877.82 1520.93 Q1876.02 1524.47 1876.02 1531.6 Q1876.02 1538.71 1877.82 1542.27 Q1879.65 1545.82 1883.26 1545.82 Q1886.89 1545.82 1888.7 1542.27 Q1890.53 1538.71 1890.53 1531.6 Q1890.53 1524.47 1888.7 1520.93 Q1886.89 1517.37 1883.26 1517.37 M1883.26 1513.66 Q1889.07 1513.66 1892.13 1518.27 Q1895.21 1522.85 1895.21 1531.6 Q1895.21 1540.33 1892.13 1544.94 Q1889.07 1549.52 1883.26 1549.52 Q1877.45 1549.52 1874.37 1544.94 Q1871.32 1540.33 1871.32 1531.6 Q1871.32 1522.85 1874.37 1518.27 Q1877.45 1513.66 1883.26 1513.66 Z\" fill=\"#000000\" fill-rule=\"evenodd\" fill-opacity=\"1\" /><path clip-path=\"url(#clip790)\" d=\"M2265.3 1514.29 L2283.66 1514.29 L2283.66 1518.22 L2269.58 1518.22 L2269.58 1526.7 Q2270.6 1526.35 2271.62 1526.19 Q2272.64 1526 2273.66 1526 Q2279.44 1526 2282.82 1529.17 Q2286.2 1532.34 2286.2 1537.76 Q2286.2 1543.34 2282.73 1546.44 Q2279.26 1549.52 2272.94 1549.52 Q2270.76 1549.52 2268.49 1549.15 Q2266.25 1548.78 2263.84 1548.04 L2263.84 1543.34 Q2265.92 1544.47 2268.15 1545.03 Q2270.37 1545.58 2272.85 1545.58 Q2276.85 1545.58 2279.19 1543.48 Q2281.53 1541.37 2281.53 1537.76 Q2281.53 1534.15 2279.19 1532.04 Q2276.85 1529.94 2272.85 1529.94 Q2270.97 1529.94 2269.1 1530.35 Q2267.24 1530.77 2265.3 1531.65 L2265.3 1514.29 Z\" fill=\"#000000\" fill-rule=\"evenodd\" fill-opacity=\"1\" /><path clip-path=\"url(#clip790)\" d=\"M2305.42 1517.37 Q2301.8 1517.37 2299.98 1520.93 Q2298.17 1524.47 2298.17 1531.6 Q2298.17 1538.71 2299.98 1542.27 Q2301.8 1545.82 2305.42 1545.82 Q2309.05 1545.82 2310.86 1542.27 Q2312.68 1538.71 2312.68 1531.6 Q2312.68 1524.47 2310.86 1520.93 Q2309.05 1517.37 2305.42 1517.37 M2305.42 1513.66 Q2311.23 1513.66 2314.28 1518.27 Q2317.36 1522.85 2317.36 1531.6 Q2317.36 1540.33 2314.28 1544.94 Q2311.23 1549.52 2305.42 1549.52 Q2299.61 1549.52 2296.53 1544.94 Q2293.47 1540.33 2293.47 1531.6 Q2293.47 1522.85 2296.53 1518.27 Q2299.61 1513.66 2305.42 1513.66 Z\" fill=\"#000000\" fill-rule=\"evenodd\" fill-opacity=\"1\" /><polyline clip-path=\"url(#clip792)\" style=\"stroke:#000000; stroke-linecap:butt; stroke-linejoin:round; stroke-width:2; stroke-opacity:0.1; fill:none\" points=\"\n  156.598,1454.15 2352.76,1454.15 \n  \"/>\n<polyline clip-path=\"url(#clip792)\" style=\"stroke:#000000; stroke-linecap:butt; stroke-linejoin:round; stroke-width:2; stroke-opacity:0.1; fill:none\" points=\"\n  156.598,1116.82 2352.76,1116.82 \n  \"/>\n<polyline clip-path=\"url(#clip792)\" style=\"stroke:#000000; stroke-linecap:butt; stroke-linejoin:round; stroke-width:2; stroke-opacity:0.1; fill:none\" points=\"\n  156.598,779.496 2352.76,779.496 \n  \"/>\n<polyline clip-path=\"url(#clip792)\" style=\"stroke:#000000; stroke-linecap:butt; stroke-linejoin:round; stroke-width:2; stroke-opacity:0.1; fill:none\" points=\"\n  156.598,442.169 2352.76,442.169 \n  \"/>\n<polyline clip-path=\"url(#clip792)\" style=\"stroke:#000000; stroke-linecap:butt; stroke-linejoin:round; stroke-width:2; stroke-opacity:0.1; fill:none\" points=\"\n  156.598,104.843 2352.76,104.843 \n  \"/>\n<polyline clip-path=\"url(#clip790)\" style=\"stroke:#000000; stroke-linecap:butt; stroke-linejoin:round; stroke-width:4; stroke-opacity:1; fill:none\" points=\"\n  156.598,1486.45 156.598,47.2441 \n  \"/>\n<polyline clip-path=\"url(#clip790)\" style=\"stroke:#000000; stroke-linecap:butt; stroke-linejoin:round; stroke-width:4; stroke-opacity:1; fill:none\" points=\"\n  156.598,1454.15 175.496,1454.15 \n  \"/>\n<polyline clip-path=\"url(#clip790)\" style=\"stroke:#000000; stroke-linecap:butt; stroke-linejoin:round; stroke-width:4; stroke-opacity:1; fill:none\" points=\"\n  156.598,1116.82 175.496,1116.82 \n  \"/>\n<polyline clip-path=\"url(#clip790)\" style=\"stroke:#000000; stroke-linecap:butt; stroke-linejoin:round; stroke-width:4; stroke-opacity:1; fill:none\" points=\"\n  156.598,779.496 175.496,779.496 \n  \"/>\n<polyline clip-path=\"url(#clip790)\" style=\"stroke:#000000; stroke-linecap:butt; stroke-linejoin:round; stroke-width:4; stroke-opacity:1; fill:none\" points=\"\n  156.598,442.169 175.496,442.169 \n  \"/>\n<polyline clip-path=\"url(#clip790)\" style=\"stroke:#000000; stroke-linecap:butt; stroke-linejoin:round; stroke-width:4; stroke-opacity:1; fill:none\" points=\"\n  156.598,104.843 175.496,104.843 \n  \"/>\n<path clip-path=\"url(#clip790)\" d=\"M63.4226 1439.95 Q59.8115 1439.95 57.9828 1443.51 Q56.1773 1447.05 56.1773 1454.18 Q56.1773 1461.29 57.9828 1464.85 Q59.8115 1468.4 63.4226 1468.4 Q67.0569 1468.4 68.8624 1464.85 Q70.6911 1461.29 70.6911 1454.18 Q70.6911 1447.05 68.8624 1443.51 Q67.0569 1439.95 63.4226 1439.95 M63.4226 1436.24 Q69.2328 1436.24 72.2883 1440.85 Q75.367 1445.43 75.367 1454.18 Q75.367 1462.91 72.2883 1467.52 Q69.2328 1472.1 63.4226 1472.1 Q57.6125 1472.1 54.5338 1467.52 Q51.4782 1462.91 51.4782 1454.18 Q51.4782 1445.43 54.5338 1440.85 Q57.6125 1436.24 63.4226 1436.24 Z\" fill=\"#000000\" fill-rule=\"evenodd\" fill-opacity=\"1\" /><path clip-path=\"url(#clip790)\" d=\"M83.5845 1465.55 L88.4688 1465.55 L88.4688 1471.43 L83.5845 1471.43 L83.5845 1465.55 Z\" fill=\"#000000\" fill-rule=\"evenodd\" fill-opacity=\"1\" /><path clip-path=\"url(#clip790)\" d=\"M108.654 1439.95 Q105.043 1439.95 103.214 1443.51 Q101.409 1447.05 101.409 1454.18 Q101.409 1461.29 103.214 1464.85 Q105.043 1468.4 108.654 1468.4 Q112.288 1468.4 114.094 1464.85 Q115.922 1461.29 115.922 1454.18 Q115.922 1447.05 114.094 1443.51 Q112.288 1439.95 108.654 1439.95 M108.654 1436.24 Q114.464 1436.24 117.52 1440.85 Q120.598 1445.43 120.598 1454.18 Q120.598 1462.91 117.52 1467.52 Q114.464 1472.1 108.654 1472.1 Q102.844 1472.1 99.765 1467.52 Q96.7095 1462.91 96.7095 1454.18 Q96.7095 1445.43 99.765 1440.85 Q102.844 1436.24 108.654 1436.24 Z\" fill=\"#000000\" fill-rule=\"evenodd\" fill-opacity=\"1\" /><path clip-path=\"url(#clip790)\" d=\"M65.0198 1102.62 Q61.4087 1102.62 59.58 1106.19 Q57.7745 1109.73 57.7745 1116.86 Q57.7745 1123.96 59.58 1127.53 Q61.4087 1131.07 65.0198 1131.07 Q68.6541 1131.07 70.4596 1127.53 Q72.2883 1123.96 72.2883 1116.86 Q72.2883 1109.73 70.4596 1106.19 Q68.6541 1102.62 65.0198 1102.62 M65.0198 1098.92 Q70.83 1098.92 73.8855 1103.52 Q76.9642 1108.11 76.9642 1116.86 Q76.9642 1125.58 73.8855 1130.19 Q70.83 1134.77 65.0198 1134.77 Q59.2097 1134.77 56.131 1130.19 Q53.0754 1125.58 53.0754 1116.86 Q53.0754 1108.11 56.131 1103.52 Q59.2097 1098.92 65.0198 1098.92 Z\" fill=\"#000000\" fill-rule=\"evenodd\" fill-opacity=\"1\" /><path clip-path=\"url(#clip790)\" d=\"M85.1818 1128.22 L90.066 1128.22 L90.066 1134.1 L85.1818 1134.1 L85.1818 1128.22 Z\" fill=\"#000000\" fill-rule=\"evenodd\" fill-opacity=\"1\" /><path clip-path=\"url(#clip790)\" d=\"M104.279 1130.17 L120.598 1130.17 L120.598 1134.1 L98.6539 1134.1 L98.6539 1130.17 Q101.316 1127.41 105.899 1122.78 Q110.506 1118.13 111.686 1116.79 Q113.932 1114.26 114.811 1112.53 Q115.714 1110.77 115.714 1109.08 Q115.714 1106.32 113.77 1104.59 Q111.848 1102.85 108.746 1102.85 Q106.547 1102.85 104.094 1103.62 Q101.663 1104.38 98.8854 1105.93 L98.8854 1101.21 Q101.709 1100.07 104.163 1099.5 Q106.617 1098.92 108.654 1098.92 Q114.024 1098.92 117.219 1101.6 Q120.413 1104.29 120.413 1108.78 Q120.413 1110.91 119.603 1112.83 Q118.816 1114.73 116.709 1117.32 Q116.131 1117.99 113.029 1121.21 Q109.927 1124.4 104.279 1130.17 Z\" fill=\"#000000\" fill-rule=\"evenodd\" fill-opacity=\"1\" /><path clip-path=\"url(#clip790)\" d=\"M62.9365 765.294 Q59.3254 765.294 57.4967 768.859 Q55.6912 772.401 55.6912 779.53 Q55.6912 786.637 57.4967 790.202 Q59.3254 793.743 62.9365 793.743 Q66.5707 793.743 68.3763 790.202 Q70.205 786.637 70.205 779.53 Q70.205 772.401 68.3763 768.859 Q66.5707 765.294 62.9365 765.294 M62.9365 761.591 Q68.7467 761.591 71.8022 766.197 Q74.8809 770.78 74.8809 779.53 Q74.8809 788.257 71.8022 792.864 Q68.7467 797.447 62.9365 797.447 Q57.1264 797.447 54.0477 792.864 Q50.9921 788.257 50.9921 779.53 Q50.9921 770.78 54.0477 766.197 Q57.1264 761.591 62.9365 761.591 Z\" fill=\"#000000\" fill-rule=\"evenodd\" fill-opacity=\"1\" /><path clip-path=\"url(#clip790)\" d=\"M83.0984 790.896 L87.9827 790.896 L87.9827 796.776 L83.0984 796.776 L83.0984 790.896 Z\" fill=\"#000000\" fill-rule=\"evenodd\" fill-opacity=\"1\" /><path clip-path=\"url(#clip790)\" d=\"M111.015 766.29 L99.2095 784.739 L111.015 784.739 L111.015 766.29 M109.788 762.216 L115.668 762.216 L115.668 784.739 L120.598 784.739 L120.598 788.628 L115.668 788.628 L115.668 796.776 L111.015 796.776 L111.015 788.628 L95.4132 788.628 L95.4132 784.114 L109.788 762.216 Z\" fill=\"#000000\" fill-rule=\"evenodd\" fill-opacity=\"1\" /><path clip-path=\"url(#clip790)\" d=\"M63.2606 427.968 Q59.6495 427.968 57.8208 431.533 Q56.0152 435.074 56.0152 442.204 Q56.0152 449.31 57.8208 452.875 Q59.6495 456.417 63.2606 456.417 Q66.8948 456.417 68.7004 452.875 Q70.5291 449.31 70.5291 442.204 Q70.5291 435.074 68.7004 431.533 Q66.8948 427.968 63.2606 427.968 M63.2606 424.264 Q69.0707 424.264 72.1263 428.871 Q75.205 433.454 75.205 442.204 Q75.205 450.931 72.1263 455.537 Q69.0707 460.12 63.2606 460.12 Q57.4504 460.12 54.3717 455.537 Q51.3162 450.931 51.3162 442.204 Q51.3162 433.454 54.3717 428.871 Q57.4504 424.264 63.2606 424.264 Z\" fill=\"#000000\" fill-rule=\"evenodd\" fill-opacity=\"1\" /><path clip-path=\"url(#clip790)\" d=\"M83.4225 453.57 L88.3067 453.57 L88.3067 459.449 L83.4225 459.449 L83.4225 453.57 Z\" fill=\"#000000\" fill-rule=\"evenodd\" fill-opacity=\"1\" /><path clip-path=\"url(#clip790)\" d=\"M109.071 440.306 Q105.922 440.306 104.071 442.459 Q102.242 444.611 102.242 448.361 Q102.242 452.088 104.071 454.264 Q105.922 456.417 109.071 456.417 Q112.219 456.417 114.047 454.264 Q115.899 452.088 115.899 448.361 Q115.899 444.611 114.047 442.459 Q112.219 440.306 109.071 440.306 M118.353 425.653 L118.353 429.912 Q116.594 429.079 114.788 428.639 Q113.006 428.199 111.246 428.199 Q106.617 428.199 104.163 431.324 Q101.733 434.449 101.385 440.769 Q102.751 438.755 104.811 437.69 Q106.871 436.602 109.348 436.602 Q114.557 436.602 117.566 439.773 Q120.598 442.921 120.598 448.361 Q120.598 453.685 117.45 456.903 Q114.302 460.12 109.071 460.12 Q103.075 460.12 99.9039 455.537 Q96.7326 450.931 96.7326 442.204 Q96.7326 434.009 100.621 429.148 Q104.51 424.264 111.061 424.264 Q112.82 424.264 114.603 424.611 Q116.408 424.959 118.353 425.653 Z\" fill=\"#000000\" fill-rule=\"evenodd\" fill-opacity=\"1\" /><path clip-path=\"url(#clip790)\" d=\"M63.5152 90.6413 Q59.9041 90.6413 58.0754 94.2061 Q56.2699 97.7477 56.2699 104.877 Q56.2699 111.984 58.0754 115.549 Q59.9041 119.09 63.5152 119.09 Q67.1494 119.09 68.955 115.549 Q70.7837 111.984 70.7837 104.877 Q70.7837 97.7477 68.955 94.2061 Q67.1494 90.6413 63.5152 90.6413 M63.5152 86.9376 Q69.3254 86.9376 72.3809 91.5441 Q75.4596 96.1274 75.4596 104.877 Q75.4596 113.604 72.3809 118.211 Q69.3254 122.794 63.5152 122.794 Q57.7051 122.794 54.6264 118.211 Q51.5708 113.604 51.5708 104.877 Q51.5708 96.1274 54.6264 91.5441 Q57.7051 86.9376 63.5152 86.9376 Z\" fill=\"#000000\" fill-rule=\"evenodd\" fill-opacity=\"1\" /><path clip-path=\"url(#clip790)\" d=\"M83.6771 116.243 L88.5614 116.243 L88.5614 122.123 L83.6771 122.123 L83.6771 116.243 Z\" fill=\"#000000\" fill-rule=\"evenodd\" fill-opacity=\"1\" /><path clip-path=\"url(#clip790)\" d=\"M108.746 105.711 Q105.413 105.711 103.492 107.493 Q101.594 109.275 101.594 112.4 Q101.594 115.525 103.492 117.308 Q105.413 119.09 108.746 119.09 Q112.08 119.09 114.001 117.308 Q115.922 115.502 115.922 112.4 Q115.922 109.275 114.001 107.493 Q112.103 105.711 108.746 105.711 M104.071 103.72 Q101.061 102.979 99.3715 100.919 Q97.7048 98.8588 97.7048 95.8959 Q97.7048 91.7524 100.645 89.345 Q103.608 86.9376 108.746 86.9376 Q113.908 86.9376 116.848 89.345 Q119.788 91.7524 119.788 95.8959 Q119.788 98.8588 118.098 100.919 Q116.432 102.979 113.445 103.72 Q116.825 104.507 118.7 106.799 Q120.598 109.09 120.598 112.4 Q120.598 117.424 117.52 120.109 Q114.464 122.794 108.746 122.794 Q103.029 122.794 99.9502 120.109 Q96.8947 117.424 96.8947 112.4 Q96.8947 109.09 98.7928 106.799 Q100.691 104.507 104.071 103.72 M102.358 96.3357 Q102.358 99.0209 104.024 100.525 Q105.714 102.03 108.746 102.03 Q111.756 102.03 113.445 100.525 Q115.158 99.0209 115.158 96.3357 Q115.158 93.6505 113.445 92.1459 Q111.756 90.6413 108.746 90.6413 Q105.714 90.6413 104.024 92.1459 Q102.358 93.6505 102.358 96.3357 Z\" fill=\"#000000\" fill-rule=\"evenodd\" fill-opacity=\"1\" /><polyline clip-path=\"url(#clip792)\" style=\"stroke:#009af9; stroke-linecap:butt; stroke-linejoin:round; stroke-width:4; stroke-opacity:1; fill:none\" points=\"\n  218.754,87.9763 261.036,87.9763 303.319,87.9763 345.601,87.9763 387.884,87.9763 430.167,87.9763 472.449,87.9763 514.732,87.9763 557.014,87.9763 599.297,87.9763 \n  641.58,87.9763 683.862,87.9763 726.145,87.9763 768.427,87.9763 810.71,87.9763 852.992,87.9763 895.275,87.9763 937.558,87.9763 979.84,87.9763 1022.12,87.9763 \n  1064.41,87.9763 1106.69,87.9763 1148.97,87.9763 1191.25,87.9763 1233.54,87.9763 1275.82,87.9763 1318.1,87.9763 1360.38,87.9763 1402.67,87.9763 1444.95,87.9763 \n  1487.23,87.9763 1529.51,87.9763 1571.8,87.9763 1614.08,87.9763 1656.36,87.9763 1698.64,87.9763 1740.93,87.9763 1783.21,87.9763 1825.49,87.9763 1867.77,87.9763 \n  1910.06,87.9763 1952.34,87.9763 1994.62,87.9763 2036.9,87.9763 2079.19,87.9763 2121.47,87.9763 2163.75,87.9763 2206.04,87.9763 2248.32,87.9763 2290.6,87.9763 \n  \n  \"/>\n<polyline clip-path=\"url(#clip792)\" style=\"stroke:#e26f46; stroke-linecap:butt; stroke-linejoin:round; stroke-width:4; stroke-opacity:1; fill:none\" points=\"\n  218.754,1142.12 261.036,1142.12 303.319,1142.12 345.601,1142.12 387.884,1142.12 430.167,1142.12 472.449,1142.12 514.732,1142.12 557.014,1142.12 599.297,1142.12 \n  641.58,1142.12 683.862,1142.12 726.145,1142.12 768.427,1142.12 810.71,1142.12 852.992,1142.12 895.275,1142.12 937.558,1142.12 979.84,1142.12 1022.12,1142.12 \n  1064.41,1142.12 1106.69,1142.12 1148.97,1142.12 1191.25,1142.12 1233.54,1142.12 1275.82,1142.12 1318.1,1142.12 1360.38,1142.12 1402.67,1142.12 1444.95,1142.12 \n  1487.23,1142.12 1529.51,1142.12 1571.8,1142.12 1614.08,1142.12 1656.36,1142.12 1698.64,1142.12 1740.93,1142.12 1783.21,1142.12 1825.49,1142.12 1867.77,1142.12 \n  1910.06,1142.12 1952.34,1142.12 1994.62,1142.12 2036.9,1142.12 2079.19,1142.12 2121.47,1142.12 2163.75,1142.12 2206.04,1142.12 2248.32,1142.12 2290.6,1142.12 \n  \n  \"/>\n<polyline clip-path=\"url(#clip792)\" style=\"stroke:#3da44d; stroke-linecap:butt; stroke-linejoin:round; stroke-width:4; stroke-opacity:1; fill:none\" points=\"\n  218.754,1445.72 261.036,1445.72 303.319,1445.72 345.601,1445.72 387.884,1445.72 430.167,1445.72 472.449,1445.72 514.732,1445.72 557.014,1445.72 599.297,1445.72 \n  641.58,1445.72 683.862,1445.72 726.145,1445.72 768.427,1445.72 810.71,1445.72 852.992,1445.72 895.275,1445.72 937.558,1445.72 979.84,1445.72 1022.12,1445.72 \n  1064.41,1445.72 1106.69,1445.72 1148.97,1445.72 1191.25,1445.72 1233.54,1445.72 1275.82,1445.72 1318.1,1445.72 1360.38,1445.72 1402.67,1445.72 1444.95,1445.72 \n  1487.23,1445.72 1529.51,1445.72 1571.8,1445.72 1614.08,1445.72 1656.36,1445.72 1698.64,1445.72 1740.93,1445.72 1783.21,1445.72 1825.49,1445.72 1867.77,1445.72 \n  1910.06,1445.72 1952.34,1445.72 1994.62,1445.72 2036.9,1445.72 2079.19,1445.72 2121.47,1445.72 2163.75,1445.72 2206.04,1445.72 2248.32,1445.72 2290.6,1445.72 \n  \n  \"/>\n<path clip-path=\"url(#clip790)\" d=\"\nM1982.52 302.578 L2279.55 302.578 L2279.55 95.2176 L1982.52 95.2176  Z\n  \" fill=\"#ffffff\" fill-rule=\"evenodd\" fill-opacity=\"1\"/>\n<polyline clip-path=\"url(#clip790)\" style=\"stroke:#000000; stroke-linecap:butt; stroke-linejoin:round; stroke-width:4; stroke-opacity:1; fill:none\" points=\"\n  1982.52,302.578 2279.55,302.578 2279.55,95.2176 1982.52,95.2176 1982.52,302.578 \n  \"/>\n<polyline clip-path=\"url(#clip790)\" style=\"stroke:#009af9; stroke-linecap:butt; stroke-linejoin:round; stroke-width:4; stroke-opacity:1; fill:none\" points=\"\n  2006.93,147.058 2153.34,147.058 \n  \"/>\n<path clip-path=\"url(#clip790)\" d=\"M2191.58 166.745 Q2189.78 171.375 2188.06 172.787 Q2186.35 174.199 2183.48 174.199 L2180.08 174.199 L2180.08 170.634 L2182.58 170.634 Q2184.34 170.634 2185.31 169.8 Q2186.28 168.967 2187.46 165.865 L2188.22 163.921 L2177.74 138.412 L2182.25 138.412 L2190.35 158.689 L2198.46 138.412 L2202.97 138.412 L2191.58 166.745 Z\" fill=\"#000000\" fill-rule=\"evenodd\" fill-opacity=\"1\" /><path clip-path=\"url(#clip790)\" d=\"M2210.26 160.402 L2217.9 160.402 L2217.9 134.037 L2209.59 135.703 L2209.59 131.444 L2217.85 129.778 L2222.53 129.778 L2222.53 160.402 L2230.17 160.402 L2230.17 164.338 L2210.26 164.338 L2210.26 160.402 Z\" fill=\"#000000\" fill-rule=\"evenodd\" fill-opacity=\"1\" /><polyline clip-path=\"url(#clip790)\" style=\"stroke:#e26f46; stroke-linecap:butt; stroke-linejoin:round; stroke-width:4; stroke-opacity:1; fill:none\" points=\"\n  2006.93,198.898 2153.34,198.898 \n  \"/>\n<path clip-path=\"url(#clip790)\" d=\"M2191.58 218.585 Q2189.78 223.215 2188.06 224.627 Q2186.35 226.039 2183.48 226.039 L2180.08 226.039 L2180.08 222.474 L2182.58 222.474 Q2184.34 222.474 2185.31 221.64 Q2186.28 220.807 2187.46 217.705 L2188.22 215.761 L2177.74 190.252 L2182.25 190.252 L2190.35 210.529 L2198.46 190.252 L2202.97 190.252 L2191.58 218.585 Z\" fill=\"#000000\" fill-rule=\"evenodd\" fill-opacity=\"1\" /><path clip-path=\"url(#clip790)\" d=\"M2213.48 212.242 L2229.8 212.242 L2229.8 216.178 L2207.85 216.178 L2207.85 212.242 Q2210.52 209.488 2215.1 204.858 Q2219.71 200.205 2220.89 198.863 Q2223.13 196.34 2224.01 194.604 Q2224.91 192.844 2224.91 191.155 Q2224.91 188.4 2222.97 186.664 Q2221.05 184.928 2217.95 184.928 Q2215.75 184.928 2213.29 185.692 Q2210.86 186.455 2208.09 188.006 L2208.09 183.284 Q2210.91 182.15 2213.36 181.571 Q2215.82 180.993 2217.85 180.993 Q2223.22 180.993 2226.42 183.678 Q2229.61 186.363 2229.61 190.854 Q2229.61 192.983 2228.8 194.905 Q2228.02 196.803 2225.91 199.395 Q2225.33 200.067 2222.23 203.284 Q2219.13 206.479 2213.48 212.242 Z\" fill=\"#000000\" fill-rule=\"evenodd\" fill-opacity=\"1\" /><polyline clip-path=\"url(#clip790)\" style=\"stroke:#3da44d; stroke-linecap:butt; stroke-linejoin:round; stroke-width:4; stroke-opacity:1; fill:none\" points=\"\n  2006.93,250.738 2153.34,250.738 \n  \"/>\n<path clip-path=\"url(#clip790)\" d=\"M2191.58 270.425 Q2189.78 275.055 2188.06 276.467 Q2186.35 277.879 2183.48 277.879 L2180.08 277.879 L2180.08 274.314 L2182.58 274.314 Q2184.34 274.314 2185.31 273.48 Q2186.28 272.647 2187.46 269.545 L2188.22 267.601 L2177.74 242.092 L2182.25 242.092 L2190.35 262.369 L2198.46 242.092 L2202.97 242.092 L2191.58 270.425 Z\" fill=\"#000000\" fill-rule=\"evenodd\" fill-opacity=\"1\" /><path clip-path=\"url(#clip790)\" d=\"M2223.62 249.383 Q2226.97 250.101 2228.85 252.369 Q2230.75 254.638 2230.75 257.971 Q2230.75 263.087 2227.23 265.888 Q2223.71 268.689 2217.23 268.689 Q2215.05 268.689 2212.74 268.249 Q2210.45 267.832 2207.99 266.976 L2207.99 262.462 Q2209.94 263.596 2212.25 264.175 Q2214.57 264.754 2217.09 264.754 Q2221.49 264.754 2223.78 263.018 Q2226.09 261.281 2226.09 257.971 Q2226.09 254.916 2223.94 253.203 Q2221.81 251.467 2217.99 251.467 L2213.96 251.467 L2213.96 247.624 L2218.18 247.624 Q2221.63 247.624 2223.46 246.258 Q2225.28 244.87 2225.28 242.277 Q2225.28 239.615 2223.39 238.203 Q2221.51 236.768 2217.99 236.768 Q2216.07 236.768 2213.87 237.184 Q2211.67 237.601 2209.03 238.481 L2209.03 234.314 Q2211.7 233.573 2214.01 233.203 Q2216.35 232.833 2218.41 232.833 Q2223.73 232.833 2226.84 235.263 Q2229.94 237.67 2229.94 241.791 Q2229.94 244.661 2228.29 246.652 Q2226.65 248.62 2223.62 249.383 Z\" fill=\"#000000\" fill-rule=\"evenodd\" fill-opacity=\"1\" /></svg>\n",
      "text/html": [
       "<?xml version=\"1.0\" encoding=\"utf-8\"?>\n",
       "<svg xmlns=\"http://www.w3.org/2000/svg\" xmlns:xlink=\"http://www.w3.org/1999/xlink\" width=\"600\" height=\"400\" viewBox=\"0 0 2400 1600\">\n",
       "<defs>\n",
       "  <clipPath id=\"clip840\">\n",
       "    <rect x=\"0\" y=\"0\" width=\"2400\" height=\"1600\"/>\n",
       "  </clipPath>\n",
       "</defs>\n",
       "<path clip-path=\"url(#clip840)\" d=\"\n",
       "M0 1600 L2400 1600 L2400 0 L0 0  Z\n",
       "  \" fill=\"#ffffff\" fill-rule=\"evenodd\" fill-opacity=\"1\"/>\n",
       "<defs>\n",
       "  <clipPath id=\"clip841\">\n",
       "    <rect x=\"480\" y=\"0\" width=\"1681\" height=\"1600\"/>\n",
       "  </clipPath>\n",
       "</defs>\n",
       "<path clip-path=\"url(#clip840)\" d=\"\n",
       "M156.598 1486.45 L2352.76 1486.45 L2352.76 47.2441 L156.598 47.2441  Z\n",
       "  \" fill=\"#ffffff\" fill-rule=\"evenodd\" fill-opacity=\"1\"/>\n",
       "<defs>\n",
       "  <clipPath id=\"clip842\">\n",
       "    <rect x=\"156\" y=\"47\" width=\"2197\" height=\"1440\"/>\n",
       "  </clipPath>\n",
       "</defs>\n",
       "<polyline clip-path=\"url(#clip842)\" style=\"stroke:#000000; stroke-linecap:butt; stroke-linejoin:round; stroke-width:2; stroke-opacity:0.1; fill:none\" points=\"\n",
       "  176.471,1486.45 176.471,47.2441 \n",
       "  \"/>\n",
       "<polyline clip-path=\"url(#clip842)\" style=\"stroke:#000000; stroke-linecap:butt; stroke-linejoin:round; stroke-width:2; stroke-opacity:0.1; fill:none\" points=\"\n",
       "  599.297,1486.45 599.297,47.2441 \n",
       "  \"/>\n",
       "<polyline clip-path=\"url(#clip842)\" style=\"stroke:#000000; stroke-linecap:butt; stroke-linejoin:round; stroke-width:2; stroke-opacity:0.1; fill:none\" points=\"\n",
       "  1022.12,1486.45 1022.12,47.2441 \n",
       "  \"/>\n",
       "<polyline clip-path=\"url(#clip842)\" style=\"stroke:#000000; stroke-linecap:butt; stroke-linejoin:round; stroke-width:2; stroke-opacity:0.1; fill:none\" points=\"\n",
       "  1444.95,1486.45 1444.95,47.2441 \n",
       "  \"/>\n",
       "<polyline clip-path=\"url(#clip842)\" style=\"stroke:#000000; stroke-linecap:butt; stroke-linejoin:round; stroke-width:2; stroke-opacity:0.1; fill:none\" points=\"\n",
       "  1867.77,1486.45 1867.77,47.2441 \n",
       "  \"/>\n",
       "<polyline clip-path=\"url(#clip842)\" style=\"stroke:#000000; stroke-linecap:butt; stroke-linejoin:round; stroke-width:2; stroke-opacity:0.1; fill:none\" points=\"\n",
       "  2290.6,1486.45 2290.6,47.2441 \n",
       "  \"/>\n",
       "<polyline clip-path=\"url(#clip840)\" style=\"stroke:#000000; stroke-linecap:butt; stroke-linejoin:round; stroke-width:4; stroke-opacity:1; fill:none\" points=\"\n",
       "  156.598,1486.45 2352.76,1486.45 \n",
       "  \"/>\n",
       "<polyline clip-path=\"url(#clip840)\" style=\"stroke:#000000; stroke-linecap:butt; stroke-linejoin:round; stroke-width:4; stroke-opacity:1; fill:none\" points=\"\n",
       "  176.471,1486.45 176.471,1467.55 \n",
       "  \"/>\n",
       "<polyline clip-path=\"url(#clip840)\" style=\"stroke:#000000; stroke-linecap:butt; stroke-linejoin:round; stroke-width:4; stroke-opacity:1; fill:none\" points=\"\n",
       "  599.297,1486.45 599.297,1467.55 \n",
       "  \"/>\n",
       "<polyline clip-path=\"url(#clip840)\" style=\"stroke:#000000; stroke-linecap:butt; stroke-linejoin:round; stroke-width:4; stroke-opacity:1; fill:none\" points=\"\n",
       "  1022.12,1486.45 1022.12,1467.55 \n",
       "  \"/>\n",
       "<polyline clip-path=\"url(#clip840)\" style=\"stroke:#000000; stroke-linecap:butt; stroke-linejoin:round; stroke-width:4; stroke-opacity:1; fill:none\" points=\"\n",
       "  1444.95,1486.45 1444.95,1467.55 \n",
       "  \"/>\n",
       "<polyline clip-path=\"url(#clip840)\" style=\"stroke:#000000; stroke-linecap:butt; stroke-linejoin:round; stroke-width:4; stroke-opacity:1; fill:none\" points=\"\n",
       "  1867.77,1486.45 1867.77,1467.55 \n",
       "  \"/>\n",
       "<polyline clip-path=\"url(#clip840)\" style=\"stroke:#000000; stroke-linecap:butt; stroke-linejoin:round; stroke-width:4; stroke-opacity:1; fill:none\" points=\"\n",
       "  2290.6,1486.45 2290.6,1467.55 \n",
       "  \"/>\n",
       "<path clip-path=\"url(#clip840)\" d=\"M176.471 1517.37 Q172.86 1517.37 171.031 1520.93 Q169.226 1524.47 169.226 1531.6 Q169.226 1538.71 171.031 1542.27 Q172.86 1545.82 176.471 1545.82 Q180.105 1545.82 181.911 1542.27 Q183.74 1538.71 183.74 1531.6 Q183.74 1524.47 181.911 1520.93 Q180.105 1517.37 176.471 1517.37 M176.471 1513.66 Q182.281 1513.66 185.337 1518.27 Q188.415 1522.85 188.415 1531.6 Q188.415 1540.33 185.337 1544.94 Q182.281 1549.52 176.471 1549.52 Q170.661 1549.52 167.582 1544.94 Q164.527 1540.33 164.527 1531.6 Q164.527 1522.85 167.582 1518.27 Q170.661 1513.66 176.471 1513.66 Z\" fill=\"#000000\" fill-rule=\"evenodd\" fill-opacity=\"1\" /><path clip-path=\"url(#clip840)\" d=\"M573.985 1544.91 L581.623 1544.91 L581.623 1518.55 L573.313 1520.21 L573.313 1515.95 L581.577 1514.29 L586.253 1514.29 L586.253 1544.91 L593.892 1544.91 L593.892 1548.85 L573.985 1548.85 L573.985 1544.91 Z\" fill=\"#000000\" fill-rule=\"evenodd\" fill-opacity=\"1\" /><path clip-path=\"url(#clip840)\" d=\"M613.336 1517.37 Q609.725 1517.37 607.896 1520.93 Q606.091 1524.47 606.091 1531.6 Q606.091 1538.71 607.896 1542.27 Q609.725 1545.82 613.336 1545.82 Q616.97 1545.82 618.776 1542.27 Q620.605 1538.71 620.605 1531.6 Q620.605 1524.47 618.776 1520.93 Q616.97 1517.37 613.336 1517.37 M613.336 1513.66 Q619.146 1513.66 622.202 1518.27 Q625.281 1522.85 625.281 1531.6 Q625.281 1540.33 622.202 1544.94 Q619.146 1549.52 613.336 1549.52 Q607.526 1549.52 604.447 1544.94 Q601.392 1540.33 601.392 1531.6 Q601.392 1522.85 604.447 1518.27 Q607.526 1513.66 613.336 1513.66 Z\" fill=\"#000000\" fill-rule=\"evenodd\" fill-opacity=\"1\" /><path clip-path=\"url(#clip840)\" d=\"M1000.9 1544.91 L1017.22 1544.91 L1017.22 1548.85 L995.271 1548.85 L995.271 1544.91 Q997.933 1542.16 1002.52 1537.53 Q1007.12 1532.88 1008.3 1531.53 Q1010.55 1529.01 1011.43 1527.27 Q1012.33 1525.51 1012.33 1523.82 Q1012.33 1521.07 1010.39 1519.33 Q1008.47 1517.6 1005.36 1517.6 Q1003.16 1517.6 1000.71 1518.36 Q998.28 1519.13 995.503 1520.68 L995.503 1515.95 Q998.327 1514.82 1000.78 1514.24 Q1003.23 1513.66 1005.27 1513.66 Q1010.64 1513.66 1013.84 1516.35 Q1017.03 1519.03 1017.03 1523.52 Q1017.03 1525.65 1016.22 1527.57 Q1015.43 1529.47 1013.33 1532.07 Q1012.75 1532.74 1009.65 1535.95 Q1006.54 1539.15 1000.9 1544.91 Z\" fill=\"#000000\" fill-rule=\"evenodd\" fill-opacity=\"1\" /><path clip-path=\"url(#clip840)\" d=\"M1037.03 1517.37 Q1033.42 1517.37 1031.59 1520.93 Q1029.78 1524.47 1029.78 1531.6 Q1029.78 1538.71 1031.59 1542.27 Q1033.42 1545.82 1037.03 1545.82 Q1040.66 1545.82 1042.47 1542.27 Q1044.3 1538.71 1044.3 1531.6 Q1044.3 1524.47 1042.47 1520.93 Q1040.66 1517.37 1037.03 1517.37 M1037.03 1513.66 Q1042.84 1513.66 1045.9 1518.27 Q1048.97 1522.85 1048.97 1531.6 Q1048.97 1540.33 1045.9 1544.94 Q1042.84 1549.52 1037.03 1549.52 Q1031.22 1549.52 1028.14 1544.94 Q1025.09 1540.33 1025.09 1531.6 Q1025.09 1522.85 1028.14 1518.27 Q1031.22 1513.66 1037.03 1513.66 Z\" fill=\"#000000\" fill-rule=\"evenodd\" fill-opacity=\"1\" /><path clip-path=\"url(#clip840)\" d=\"M1433.79 1530.21 Q1437.15 1530.93 1439.02 1533.2 Q1440.92 1535.47 1440.92 1538.8 Q1440.92 1543.92 1437.4 1546.72 Q1433.88 1549.52 1427.4 1549.52 Q1425.23 1549.52 1422.91 1549.08 Q1420.62 1548.66 1418.17 1547.81 L1418.17 1543.29 Q1420.11 1544.43 1422.43 1545.01 Q1424.74 1545.58 1427.26 1545.58 Q1431.66 1545.58 1433.95 1543.85 Q1436.27 1542.11 1436.27 1538.8 Q1436.27 1535.75 1434.12 1534.03 Q1431.99 1532.3 1428.17 1532.3 L1424.14 1532.3 L1424.14 1528.45 L1428.35 1528.45 Q1431.8 1528.45 1433.63 1527.09 Q1435.46 1525.7 1435.46 1523.11 Q1435.46 1520.45 1433.56 1519.03 Q1431.68 1517.6 1428.17 1517.6 Q1426.25 1517.6 1424.05 1518.01 Q1421.85 1518.43 1419.21 1519.31 L1419.21 1515.14 Q1421.87 1514.4 1424.18 1514.03 Q1426.52 1513.66 1428.58 1513.66 Q1433.91 1513.66 1437.01 1516.09 Q1440.11 1518.5 1440.11 1522.62 Q1440.11 1525.49 1438.47 1527.48 Q1436.82 1529.45 1433.79 1530.21 Z\" fill=\"#000000\" fill-rule=\"evenodd\" fill-opacity=\"1\" /><path clip-path=\"url(#clip840)\" d=\"M1459.79 1517.37 Q1456.18 1517.37 1454.35 1520.93 Q1452.54 1524.47 1452.54 1531.6 Q1452.54 1538.71 1454.35 1542.27 Q1456.18 1545.82 1459.79 1545.82 Q1463.42 1545.82 1465.23 1542.27 Q1467.06 1538.71 1467.06 1531.6 Q1467.06 1524.47 1465.23 1520.93 Q1463.42 1517.37 1459.79 1517.37 M1459.79 1513.66 Q1465.6 1513.66 1468.65 1518.27 Q1471.73 1522.85 1471.73 1531.6 Q1471.73 1540.33 1468.65 1544.94 Q1465.6 1549.52 1459.79 1549.52 Q1453.98 1549.52 1450.9 1544.94 Q1447.84 1540.33 1447.84 1531.6 Q1447.84 1522.85 1450.9 1518.27 Q1453.98 1513.66 1459.79 1513.66 Z\" fill=\"#000000\" fill-rule=\"evenodd\" fill-opacity=\"1\" /><path clip-path=\"url(#clip840)\" d=\"M1855.95 1518.36 L1844.14 1536.81 L1855.95 1536.81 L1855.95 1518.36 M1854.72 1514.29 L1860.6 1514.29 L1860.6 1536.81 L1865.53 1536.81 L1865.53 1540.7 L1860.6 1540.7 L1860.6 1548.85 L1855.95 1548.85 L1855.95 1540.7 L1840.34 1540.7 L1840.34 1536.19 L1854.72 1514.29 Z\" fill=\"#000000\" fill-rule=\"evenodd\" fill-opacity=\"1\" /><path clip-path=\"url(#clip840)\" d=\"M1883.26 1517.37 Q1879.65 1517.37 1877.82 1520.93 Q1876.02 1524.47 1876.02 1531.6 Q1876.02 1538.71 1877.82 1542.27 Q1879.65 1545.82 1883.26 1545.82 Q1886.89 1545.82 1888.7 1542.27 Q1890.53 1538.71 1890.53 1531.6 Q1890.53 1524.47 1888.7 1520.93 Q1886.89 1517.37 1883.26 1517.37 M1883.26 1513.66 Q1889.07 1513.66 1892.13 1518.27 Q1895.21 1522.85 1895.21 1531.6 Q1895.21 1540.33 1892.13 1544.94 Q1889.07 1549.52 1883.26 1549.52 Q1877.45 1549.52 1874.37 1544.94 Q1871.32 1540.33 1871.32 1531.6 Q1871.32 1522.85 1874.37 1518.27 Q1877.45 1513.66 1883.26 1513.66 Z\" fill=\"#000000\" fill-rule=\"evenodd\" fill-opacity=\"1\" /><path clip-path=\"url(#clip840)\" d=\"M2265.3 1514.29 L2283.66 1514.29 L2283.66 1518.22 L2269.58 1518.22 L2269.58 1526.7 Q2270.6 1526.35 2271.62 1526.19 Q2272.64 1526 2273.66 1526 Q2279.44 1526 2282.82 1529.17 Q2286.2 1532.34 2286.2 1537.76 Q2286.2 1543.34 2282.73 1546.44 Q2279.26 1549.52 2272.94 1549.52 Q2270.76 1549.52 2268.49 1549.15 Q2266.25 1548.78 2263.84 1548.04 L2263.84 1543.34 Q2265.92 1544.47 2268.15 1545.03 Q2270.37 1545.58 2272.85 1545.58 Q2276.85 1545.58 2279.19 1543.48 Q2281.53 1541.37 2281.53 1537.76 Q2281.53 1534.15 2279.19 1532.04 Q2276.85 1529.94 2272.85 1529.94 Q2270.97 1529.94 2269.1 1530.35 Q2267.24 1530.77 2265.3 1531.65 L2265.3 1514.29 Z\" fill=\"#000000\" fill-rule=\"evenodd\" fill-opacity=\"1\" /><path clip-path=\"url(#clip840)\" d=\"M2305.42 1517.37 Q2301.8 1517.37 2299.98 1520.93 Q2298.17 1524.47 2298.17 1531.6 Q2298.17 1538.71 2299.98 1542.27 Q2301.8 1545.82 2305.42 1545.82 Q2309.05 1545.82 2310.86 1542.27 Q2312.68 1538.71 2312.68 1531.6 Q2312.68 1524.47 2310.86 1520.93 Q2309.05 1517.37 2305.42 1517.37 M2305.42 1513.66 Q2311.23 1513.66 2314.28 1518.27 Q2317.36 1522.85 2317.36 1531.6 Q2317.36 1540.33 2314.28 1544.94 Q2311.23 1549.52 2305.42 1549.52 Q2299.61 1549.52 2296.53 1544.94 Q2293.47 1540.33 2293.47 1531.6 Q2293.47 1522.85 2296.53 1518.27 Q2299.61 1513.66 2305.42 1513.66 Z\" fill=\"#000000\" fill-rule=\"evenodd\" fill-opacity=\"1\" /><polyline clip-path=\"url(#clip842)\" style=\"stroke:#000000; stroke-linecap:butt; stroke-linejoin:round; stroke-width:2; stroke-opacity:0.1; fill:none\" points=\"\n",
       "  156.598,1454.15 2352.76,1454.15 \n",
       "  \"/>\n",
       "<polyline clip-path=\"url(#clip842)\" style=\"stroke:#000000; stroke-linecap:butt; stroke-linejoin:round; stroke-width:2; stroke-opacity:0.1; fill:none\" points=\"\n",
       "  156.598,1116.82 2352.76,1116.82 \n",
       "  \"/>\n",
       "<polyline clip-path=\"url(#clip842)\" style=\"stroke:#000000; stroke-linecap:butt; stroke-linejoin:round; stroke-width:2; stroke-opacity:0.1; fill:none\" points=\"\n",
       "  156.598,779.496 2352.76,779.496 \n",
       "  \"/>\n",
       "<polyline clip-path=\"url(#clip842)\" style=\"stroke:#000000; stroke-linecap:butt; stroke-linejoin:round; stroke-width:2; stroke-opacity:0.1; fill:none\" points=\"\n",
       "  156.598,442.169 2352.76,442.169 \n",
       "  \"/>\n",
       "<polyline clip-path=\"url(#clip842)\" style=\"stroke:#000000; stroke-linecap:butt; stroke-linejoin:round; stroke-width:2; stroke-opacity:0.1; fill:none\" points=\"\n",
       "  156.598,104.843 2352.76,104.843 \n",
       "  \"/>\n",
       "<polyline clip-path=\"url(#clip840)\" style=\"stroke:#000000; stroke-linecap:butt; stroke-linejoin:round; stroke-width:4; stroke-opacity:1; fill:none\" points=\"\n",
       "  156.598,1486.45 156.598,47.2441 \n",
       "  \"/>\n",
       "<polyline clip-path=\"url(#clip840)\" style=\"stroke:#000000; stroke-linecap:butt; stroke-linejoin:round; stroke-width:4; stroke-opacity:1; fill:none\" points=\"\n",
       "  156.598,1454.15 175.496,1454.15 \n",
       "  \"/>\n",
       "<polyline clip-path=\"url(#clip840)\" style=\"stroke:#000000; stroke-linecap:butt; stroke-linejoin:round; stroke-width:4; stroke-opacity:1; fill:none\" points=\"\n",
       "  156.598,1116.82 175.496,1116.82 \n",
       "  \"/>\n",
       "<polyline clip-path=\"url(#clip840)\" style=\"stroke:#000000; stroke-linecap:butt; stroke-linejoin:round; stroke-width:4; stroke-opacity:1; fill:none\" points=\"\n",
       "  156.598,779.496 175.496,779.496 \n",
       "  \"/>\n",
       "<polyline clip-path=\"url(#clip840)\" style=\"stroke:#000000; stroke-linecap:butt; stroke-linejoin:round; stroke-width:4; stroke-opacity:1; fill:none\" points=\"\n",
       "  156.598,442.169 175.496,442.169 \n",
       "  \"/>\n",
       "<polyline clip-path=\"url(#clip840)\" style=\"stroke:#000000; stroke-linecap:butt; stroke-linejoin:round; stroke-width:4; stroke-opacity:1; fill:none\" points=\"\n",
       "  156.598,104.843 175.496,104.843 \n",
       "  \"/>\n",
       "<path clip-path=\"url(#clip840)\" d=\"M63.4226 1439.95 Q59.8115 1439.95 57.9828 1443.51 Q56.1773 1447.05 56.1773 1454.18 Q56.1773 1461.29 57.9828 1464.85 Q59.8115 1468.4 63.4226 1468.4 Q67.0569 1468.4 68.8624 1464.85 Q70.6911 1461.29 70.6911 1454.18 Q70.6911 1447.05 68.8624 1443.51 Q67.0569 1439.95 63.4226 1439.95 M63.4226 1436.24 Q69.2328 1436.24 72.2883 1440.85 Q75.367 1445.43 75.367 1454.18 Q75.367 1462.91 72.2883 1467.52 Q69.2328 1472.1 63.4226 1472.1 Q57.6125 1472.1 54.5338 1467.52 Q51.4782 1462.91 51.4782 1454.18 Q51.4782 1445.43 54.5338 1440.85 Q57.6125 1436.24 63.4226 1436.24 Z\" fill=\"#000000\" fill-rule=\"evenodd\" fill-opacity=\"1\" /><path clip-path=\"url(#clip840)\" d=\"M83.5845 1465.55 L88.4688 1465.55 L88.4688 1471.43 L83.5845 1471.43 L83.5845 1465.55 Z\" fill=\"#000000\" fill-rule=\"evenodd\" fill-opacity=\"1\" /><path clip-path=\"url(#clip840)\" d=\"M108.654 1439.95 Q105.043 1439.95 103.214 1443.51 Q101.409 1447.05 101.409 1454.18 Q101.409 1461.29 103.214 1464.85 Q105.043 1468.4 108.654 1468.4 Q112.288 1468.4 114.094 1464.85 Q115.922 1461.29 115.922 1454.18 Q115.922 1447.05 114.094 1443.51 Q112.288 1439.95 108.654 1439.95 M108.654 1436.24 Q114.464 1436.24 117.52 1440.85 Q120.598 1445.43 120.598 1454.18 Q120.598 1462.91 117.52 1467.52 Q114.464 1472.1 108.654 1472.1 Q102.844 1472.1 99.765 1467.52 Q96.7095 1462.91 96.7095 1454.18 Q96.7095 1445.43 99.765 1440.85 Q102.844 1436.24 108.654 1436.24 Z\" fill=\"#000000\" fill-rule=\"evenodd\" fill-opacity=\"1\" /><path clip-path=\"url(#clip840)\" d=\"M65.0198 1102.62 Q61.4087 1102.62 59.58 1106.19 Q57.7745 1109.73 57.7745 1116.86 Q57.7745 1123.96 59.58 1127.53 Q61.4087 1131.07 65.0198 1131.07 Q68.6541 1131.07 70.4596 1127.53 Q72.2883 1123.96 72.2883 1116.86 Q72.2883 1109.73 70.4596 1106.19 Q68.6541 1102.62 65.0198 1102.62 M65.0198 1098.92 Q70.83 1098.92 73.8855 1103.52 Q76.9642 1108.11 76.9642 1116.86 Q76.9642 1125.58 73.8855 1130.19 Q70.83 1134.77 65.0198 1134.77 Q59.2097 1134.77 56.131 1130.19 Q53.0754 1125.58 53.0754 1116.86 Q53.0754 1108.11 56.131 1103.52 Q59.2097 1098.92 65.0198 1098.92 Z\" fill=\"#000000\" fill-rule=\"evenodd\" fill-opacity=\"1\" /><path clip-path=\"url(#clip840)\" d=\"M85.1818 1128.22 L90.066 1128.22 L90.066 1134.1 L85.1818 1134.1 L85.1818 1128.22 Z\" fill=\"#000000\" fill-rule=\"evenodd\" fill-opacity=\"1\" /><path clip-path=\"url(#clip840)\" d=\"M104.279 1130.17 L120.598 1130.17 L120.598 1134.1 L98.6539 1134.1 L98.6539 1130.17 Q101.316 1127.41 105.899 1122.78 Q110.506 1118.13 111.686 1116.79 Q113.932 1114.26 114.811 1112.53 Q115.714 1110.77 115.714 1109.08 Q115.714 1106.32 113.77 1104.59 Q111.848 1102.85 108.746 1102.85 Q106.547 1102.85 104.094 1103.62 Q101.663 1104.38 98.8854 1105.93 L98.8854 1101.21 Q101.709 1100.07 104.163 1099.5 Q106.617 1098.92 108.654 1098.92 Q114.024 1098.92 117.219 1101.6 Q120.413 1104.29 120.413 1108.78 Q120.413 1110.91 119.603 1112.83 Q118.816 1114.73 116.709 1117.32 Q116.131 1117.99 113.029 1121.21 Q109.927 1124.4 104.279 1130.17 Z\" fill=\"#000000\" fill-rule=\"evenodd\" fill-opacity=\"1\" /><path clip-path=\"url(#clip840)\" d=\"M62.9365 765.294 Q59.3254 765.294 57.4967 768.859 Q55.6912 772.401 55.6912 779.53 Q55.6912 786.637 57.4967 790.202 Q59.3254 793.743 62.9365 793.743 Q66.5707 793.743 68.3763 790.202 Q70.205 786.637 70.205 779.53 Q70.205 772.401 68.3763 768.859 Q66.5707 765.294 62.9365 765.294 M62.9365 761.591 Q68.7467 761.591 71.8022 766.197 Q74.8809 770.78 74.8809 779.53 Q74.8809 788.257 71.8022 792.864 Q68.7467 797.447 62.9365 797.447 Q57.1264 797.447 54.0477 792.864 Q50.9921 788.257 50.9921 779.53 Q50.9921 770.78 54.0477 766.197 Q57.1264 761.591 62.9365 761.591 Z\" fill=\"#000000\" fill-rule=\"evenodd\" fill-opacity=\"1\" /><path clip-path=\"url(#clip840)\" d=\"M83.0984 790.896 L87.9827 790.896 L87.9827 796.776 L83.0984 796.776 L83.0984 790.896 Z\" fill=\"#000000\" fill-rule=\"evenodd\" fill-opacity=\"1\" /><path clip-path=\"url(#clip840)\" d=\"M111.015 766.29 L99.2095 784.739 L111.015 784.739 L111.015 766.29 M109.788 762.216 L115.668 762.216 L115.668 784.739 L120.598 784.739 L120.598 788.628 L115.668 788.628 L115.668 796.776 L111.015 796.776 L111.015 788.628 L95.4132 788.628 L95.4132 784.114 L109.788 762.216 Z\" fill=\"#000000\" fill-rule=\"evenodd\" fill-opacity=\"1\" /><path clip-path=\"url(#clip840)\" d=\"M63.2606 427.968 Q59.6495 427.968 57.8208 431.533 Q56.0152 435.074 56.0152 442.204 Q56.0152 449.31 57.8208 452.875 Q59.6495 456.417 63.2606 456.417 Q66.8948 456.417 68.7004 452.875 Q70.5291 449.31 70.5291 442.204 Q70.5291 435.074 68.7004 431.533 Q66.8948 427.968 63.2606 427.968 M63.2606 424.264 Q69.0707 424.264 72.1263 428.871 Q75.205 433.454 75.205 442.204 Q75.205 450.931 72.1263 455.537 Q69.0707 460.12 63.2606 460.12 Q57.4504 460.12 54.3717 455.537 Q51.3162 450.931 51.3162 442.204 Q51.3162 433.454 54.3717 428.871 Q57.4504 424.264 63.2606 424.264 Z\" fill=\"#000000\" fill-rule=\"evenodd\" fill-opacity=\"1\" /><path clip-path=\"url(#clip840)\" d=\"M83.4225 453.57 L88.3067 453.57 L88.3067 459.449 L83.4225 459.449 L83.4225 453.57 Z\" fill=\"#000000\" fill-rule=\"evenodd\" fill-opacity=\"1\" /><path clip-path=\"url(#clip840)\" d=\"M109.071 440.306 Q105.922 440.306 104.071 442.459 Q102.242 444.611 102.242 448.361 Q102.242 452.088 104.071 454.264 Q105.922 456.417 109.071 456.417 Q112.219 456.417 114.047 454.264 Q115.899 452.088 115.899 448.361 Q115.899 444.611 114.047 442.459 Q112.219 440.306 109.071 440.306 M118.353 425.653 L118.353 429.912 Q116.594 429.079 114.788 428.639 Q113.006 428.199 111.246 428.199 Q106.617 428.199 104.163 431.324 Q101.733 434.449 101.385 440.769 Q102.751 438.755 104.811 437.69 Q106.871 436.602 109.348 436.602 Q114.557 436.602 117.566 439.773 Q120.598 442.921 120.598 448.361 Q120.598 453.685 117.45 456.903 Q114.302 460.12 109.071 460.12 Q103.075 460.12 99.9039 455.537 Q96.7326 450.931 96.7326 442.204 Q96.7326 434.009 100.621 429.148 Q104.51 424.264 111.061 424.264 Q112.82 424.264 114.603 424.611 Q116.408 424.959 118.353 425.653 Z\" fill=\"#000000\" fill-rule=\"evenodd\" fill-opacity=\"1\" /><path clip-path=\"url(#clip840)\" d=\"M63.5152 90.6413 Q59.9041 90.6413 58.0754 94.2061 Q56.2699 97.7477 56.2699 104.877 Q56.2699 111.984 58.0754 115.549 Q59.9041 119.09 63.5152 119.09 Q67.1494 119.09 68.955 115.549 Q70.7837 111.984 70.7837 104.877 Q70.7837 97.7477 68.955 94.2061 Q67.1494 90.6413 63.5152 90.6413 M63.5152 86.9376 Q69.3254 86.9376 72.3809 91.5441 Q75.4596 96.1274 75.4596 104.877 Q75.4596 113.604 72.3809 118.211 Q69.3254 122.794 63.5152 122.794 Q57.7051 122.794 54.6264 118.211 Q51.5708 113.604 51.5708 104.877 Q51.5708 96.1274 54.6264 91.5441 Q57.7051 86.9376 63.5152 86.9376 Z\" fill=\"#000000\" fill-rule=\"evenodd\" fill-opacity=\"1\" /><path clip-path=\"url(#clip840)\" d=\"M83.6771 116.243 L88.5614 116.243 L88.5614 122.123 L83.6771 122.123 L83.6771 116.243 Z\" fill=\"#000000\" fill-rule=\"evenodd\" fill-opacity=\"1\" /><path clip-path=\"url(#clip840)\" d=\"M108.746 105.711 Q105.413 105.711 103.492 107.493 Q101.594 109.275 101.594 112.4 Q101.594 115.525 103.492 117.308 Q105.413 119.09 108.746 119.09 Q112.08 119.09 114.001 117.308 Q115.922 115.502 115.922 112.4 Q115.922 109.275 114.001 107.493 Q112.103 105.711 108.746 105.711 M104.071 103.72 Q101.061 102.979 99.3715 100.919 Q97.7048 98.8588 97.7048 95.8959 Q97.7048 91.7524 100.645 89.345 Q103.608 86.9376 108.746 86.9376 Q113.908 86.9376 116.848 89.345 Q119.788 91.7524 119.788 95.8959 Q119.788 98.8588 118.098 100.919 Q116.432 102.979 113.445 103.72 Q116.825 104.507 118.7 106.799 Q120.598 109.09 120.598 112.4 Q120.598 117.424 117.52 120.109 Q114.464 122.794 108.746 122.794 Q103.029 122.794 99.9502 120.109 Q96.8947 117.424 96.8947 112.4 Q96.8947 109.09 98.7928 106.799 Q100.691 104.507 104.071 103.72 M102.358 96.3357 Q102.358 99.0209 104.024 100.525 Q105.714 102.03 108.746 102.03 Q111.756 102.03 113.445 100.525 Q115.158 99.0209 115.158 96.3357 Q115.158 93.6505 113.445 92.1459 Q111.756 90.6413 108.746 90.6413 Q105.714 90.6413 104.024 92.1459 Q102.358 93.6505 102.358 96.3357 Z\" fill=\"#000000\" fill-rule=\"evenodd\" fill-opacity=\"1\" /><polyline clip-path=\"url(#clip842)\" style=\"stroke:#009af9; stroke-linecap:butt; stroke-linejoin:round; stroke-width:4; stroke-opacity:1; fill:none\" points=\"\n",
       "  218.754,87.9763 261.036,87.9763 303.319,87.9763 345.601,87.9763 387.884,87.9763 430.167,87.9763 472.449,87.9763 514.732,87.9763 557.014,87.9763 599.297,87.9763 \n",
       "  641.58,87.9763 683.862,87.9763 726.145,87.9763 768.427,87.9763 810.71,87.9763 852.992,87.9763 895.275,87.9763 937.558,87.9763 979.84,87.9763 1022.12,87.9763 \n",
       "  1064.41,87.9763 1106.69,87.9763 1148.97,87.9763 1191.25,87.9763 1233.54,87.9763 1275.82,87.9763 1318.1,87.9763 1360.38,87.9763 1402.67,87.9763 1444.95,87.9763 \n",
       "  1487.23,87.9763 1529.51,87.9763 1571.8,87.9763 1614.08,87.9763 1656.36,87.9763 1698.64,87.9763 1740.93,87.9763 1783.21,87.9763 1825.49,87.9763 1867.77,87.9763 \n",
       "  1910.06,87.9763 1952.34,87.9763 1994.62,87.9763 2036.9,87.9763 2079.19,87.9763 2121.47,87.9763 2163.75,87.9763 2206.04,87.9763 2248.32,87.9763 2290.6,87.9763 \n",
       "  \n",
       "  \"/>\n",
       "<polyline clip-path=\"url(#clip842)\" style=\"stroke:#e26f46; stroke-linecap:butt; stroke-linejoin:round; stroke-width:4; stroke-opacity:1; fill:none\" points=\"\n",
       "  218.754,1142.12 261.036,1142.12 303.319,1142.12 345.601,1142.12 387.884,1142.12 430.167,1142.12 472.449,1142.12 514.732,1142.12 557.014,1142.12 599.297,1142.12 \n",
       "  641.58,1142.12 683.862,1142.12 726.145,1142.12 768.427,1142.12 810.71,1142.12 852.992,1142.12 895.275,1142.12 937.558,1142.12 979.84,1142.12 1022.12,1142.12 \n",
       "  1064.41,1142.12 1106.69,1142.12 1148.97,1142.12 1191.25,1142.12 1233.54,1142.12 1275.82,1142.12 1318.1,1142.12 1360.38,1142.12 1402.67,1142.12 1444.95,1142.12 \n",
       "  1487.23,1142.12 1529.51,1142.12 1571.8,1142.12 1614.08,1142.12 1656.36,1142.12 1698.64,1142.12 1740.93,1142.12 1783.21,1142.12 1825.49,1142.12 1867.77,1142.12 \n",
       "  1910.06,1142.12 1952.34,1142.12 1994.62,1142.12 2036.9,1142.12 2079.19,1142.12 2121.47,1142.12 2163.75,1142.12 2206.04,1142.12 2248.32,1142.12 2290.6,1142.12 \n",
       "  \n",
       "  \"/>\n",
       "<polyline clip-path=\"url(#clip842)\" style=\"stroke:#3da44d; stroke-linecap:butt; stroke-linejoin:round; stroke-width:4; stroke-opacity:1; fill:none\" points=\"\n",
       "  218.754,1445.72 261.036,1445.72 303.319,1445.72 345.601,1445.72 387.884,1445.72 430.167,1445.72 472.449,1445.72 514.732,1445.72 557.014,1445.72 599.297,1445.72 \n",
       "  641.58,1445.72 683.862,1445.72 726.145,1445.72 768.427,1445.72 810.71,1445.72 852.992,1445.72 895.275,1445.72 937.558,1445.72 979.84,1445.72 1022.12,1445.72 \n",
       "  1064.41,1445.72 1106.69,1445.72 1148.97,1445.72 1191.25,1445.72 1233.54,1445.72 1275.82,1445.72 1318.1,1445.72 1360.38,1445.72 1402.67,1445.72 1444.95,1445.72 \n",
       "  1487.23,1445.72 1529.51,1445.72 1571.8,1445.72 1614.08,1445.72 1656.36,1445.72 1698.64,1445.72 1740.93,1445.72 1783.21,1445.72 1825.49,1445.72 1867.77,1445.72 \n",
       "  1910.06,1445.72 1952.34,1445.72 1994.62,1445.72 2036.9,1445.72 2079.19,1445.72 2121.47,1445.72 2163.75,1445.72 2206.04,1445.72 2248.32,1445.72 2290.6,1445.72 \n",
       "  \n",
       "  \"/>\n",
       "<path clip-path=\"url(#clip840)\" d=\"\n",
       "M1982.52 302.578 L2279.55 302.578 L2279.55 95.2176 L1982.52 95.2176  Z\n",
       "  \" fill=\"#ffffff\" fill-rule=\"evenodd\" fill-opacity=\"1\"/>\n",
       "<polyline clip-path=\"url(#clip840)\" style=\"stroke:#000000; stroke-linecap:butt; stroke-linejoin:round; stroke-width:4; stroke-opacity:1; fill:none\" points=\"\n",
       "  1982.52,302.578 2279.55,302.578 2279.55,95.2176 1982.52,95.2176 1982.52,302.578 \n",
       "  \"/>\n",
       "<polyline clip-path=\"url(#clip840)\" style=\"stroke:#009af9; stroke-linecap:butt; stroke-linejoin:round; stroke-width:4; stroke-opacity:1; fill:none\" points=\"\n",
       "  2006.93,147.058 2153.34,147.058 \n",
       "  \"/>\n",
       "<path clip-path=\"url(#clip840)\" d=\"M2191.58 166.745 Q2189.78 171.375 2188.06 172.787 Q2186.35 174.199 2183.48 174.199 L2180.08 174.199 L2180.08 170.634 L2182.58 170.634 Q2184.34 170.634 2185.31 169.8 Q2186.28 168.967 2187.46 165.865 L2188.22 163.921 L2177.74 138.412 L2182.25 138.412 L2190.35 158.689 L2198.46 138.412 L2202.97 138.412 L2191.58 166.745 Z\" fill=\"#000000\" fill-rule=\"evenodd\" fill-opacity=\"1\" /><path clip-path=\"url(#clip840)\" d=\"M2210.26 160.402 L2217.9 160.402 L2217.9 134.037 L2209.59 135.703 L2209.59 131.444 L2217.85 129.778 L2222.53 129.778 L2222.53 160.402 L2230.17 160.402 L2230.17 164.338 L2210.26 164.338 L2210.26 160.402 Z\" fill=\"#000000\" fill-rule=\"evenodd\" fill-opacity=\"1\" /><polyline clip-path=\"url(#clip840)\" style=\"stroke:#e26f46; stroke-linecap:butt; stroke-linejoin:round; stroke-width:4; stroke-opacity:1; fill:none\" points=\"\n",
       "  2006.93,198.898 2153.34,198.898 \n",
       "  \"/>\n",
       "<path clip-path=\"url(#clip840)\" d=\"M2191.58 218.585 Q2189.78 223.215 2188.06 224.627 Q2186.35 226.039 2183.48 226.039 L2180.08 226.039 L2180.08 222.474 L2182.58 222.474 Q2184.34 222.474 2185.31 221.64 Q2186.28 220.807 2187.46 217.705 L2188.22 215.761 L2177.74 190.252 L2182.25 190.252 L2190.35 210.529 L2198.46 190.252 L2202.97 190.252 L2191.58 218.585 Z\" fill=\"#000000\" fill-rule=\"evenodd\" fill-opacity=\"1\" /><path clip-path=\"url(#clip840)\" d=\"M2213.48 212.242 L2229.8 212.242 L2229.8 216.178 L2207.85 216.178 L2207.85 212.242 Q2210.52 209.488 2215.1 204.858 Q2219.71 200.205 2220.89 198.863 Q2223.13 196.34 2224.01 194.604 Q2224.91 192.844 2224.91 191.155 Q2224.91 188.4 2222.97 186.664 Q2221.05 184.928 2217.95 184.928 Q2215.75 184.928 2213.29 185.692 Q2210.86 186.455 2208.09 188.006 L2208.09 183.284 Q2210.91 182.15 2213.36 181.571 Q2215.82 180.993 2217.85 180.993 Q2223.22 180.993 2226.42 183.678 Q2229.61 186.363 2229.61 190.854 Q2229.61 192.983 2228.8 194.905 Q2228.02 196.803 2225.91 199.395 Q2225.33 200.067 2222.23 203.284 Q2219.13 206.479 2213.48 212.242 Z\" fill=\"#000000\" fill-rule=\"evenodd\" fill-opacity=\"1\" /><polyline clip-path=\"url(#clip840)\" style=\"stroke:#3da44d; stroke-linecap:butt; stroke-linejoin:round; stroke-width:4; stroke-opacity:1; fill:none\" points=\"\n",
       "  2006.93,250.738 2153.34,250.738 \n",
       "  \"/>\n",
       "<path clip-path=\"url(#clip840)\" d=\"M2191.58 270.425 Q2189.78 275.055 2188.06 276.467 Q2186.35 277.879 2183.48 277.879 L2180.08 277.879 L2180.08 274.314 L2182.58 274.314 Q2184.34 274.314 2185.31 273.48 Q2186.28 272.647 2187.46 269.545 L2188.22 267.601 L2177.74 242.092 L2182.25 242.092 L2190.35 262.369 L2198.46 242.092 L2202.97 242.092 L2191.58 270.425 Z\" fill=\"#000000\" fill-rule=\"evenodd\" fill-opacity=\"1\" /><path clip-path=\"url(#clip840)\" d=\"M2223.62 249.383 Q2226.97 250.101 2228.85 252.369 Q2230.75 254.638 2230.75 257.971 Q2230.75 263.087 2227.23 265.888 Q2223.71 268.689 2217.23 268.689 Q2215.05 268.689 2212.74 268.249 Q2210.45 267.832 2207.99 266.976 L2207.99 262.462 Q2209.94 263.596 2212.25 264.175 Q2214.57 264.754 2217.09 264.754 Q2221.49 264.754 2223.78 263.018 Q2226.09 261.281 2226.09 257.971 Q2226.09 254.916 2223.94 253.203 Q2221.81 251.467 2217.99 251.467 L2213.96 251.467 L2213.96 247.624 L2218.18 247.624 Q2221.63 247.624 2223.46 246.258 Q2225.28 244.87 2225.28 242.277 Q2225.28 239.615 2223.39 238.203 Q2221.51 236.768 2217.99 236.768 Q2216.07 236.768 2213.87 237.184 Q2211.67 237.601 2209.03 238.481 L2209.03 234.314 Q2211.7 233.573 2214.01 233.203 Q2216.35 232.833 2218.41 232.833 Q2223.73 232.833 2226.84 235.263 Q2229.94 237.67 2229.94 241.791 Q2229.94 244.661 2228.29 246.652 Q2226.65 248.62 2223.62 249.383 Z\" fill=\"#000000\" fill-rule=\"evenodd\" fill-opacity=\"1\" /></svg>\n"
      ]
     },
     "metadata": {},
     "output_type": "display_data"
    }
   ],
   "source": [
    "# Not sure why plotting doesn't work\n",
    "\n",
    "using Plots\n",
    "x = 1:50\n",
    "susc = [e[1] for e in simulations]\n",
    "inf = [e[2] for e in simulations]\n",
    "rec = [e[3] for e in simulations]\n",
    "plot(x, susc)\n",
    "plot!(x, inf)\n",
    "plot!(x, rec)"
   ]
  },
  {
   "cell_type": "markdown",
   "metadata": {},
   "source": [
    "__We now assume a Susceptible person who meets an infected one has a probability $\\mu$ of catching the disease. Update the transition function. Update function $f$ and write a function of $\\mu$, $\\pi$ which returns the simulation. Compare different values of the parameters. How would you interpret \"social distancing\"? How would you choose parameters $\\Pi$ and $\\mu$__ "
   ]
  },
  {
   "cell_type": "code",
   "execution_count": null,
   "metadata": {},
   "outputs": [],
   "source": []
  },
  {
   "cell_type": "markdown",
   "metadata": {},
   "source": [
    "### A Spatial SIR model\n",
    "\n",
    "We now consider another version of the model where agents evolve in the space $\\mathcal{S}=[0,1]\\times[0,1]$. There are $N\\in\\mathbb{N}$ agent. At any date, each agent $n \\in [0,1]$  is located at $(x_n,y_n)\\in \\mathcal{S}$.\n",
    "\n",
    "Each agent moves follows a random walk bounded by $\\mathcal{S}$:\n",
    "$$x_t = \\min(\\max( x_{t-1} + \\epsilon_t, 0), 1)$$\n",
    "$$y_t = \\min(\\max( y_{t-1} + \\eta_t, 0), 1)$$\n",
    "where $\\epsilon_t$ and $\\eta_t$ are both normally distributed with standard deviation $\\sigma$.\n",
    "\n",
    "At any date, the individual state of an agent is $s_t=(x_t, y_t, h_t)$ where $h_t$ is either \"S\", \"I\" or \"R\". $v_t$ denotes the states of all agents (for instance $v_t=(s_{n,t})_n$. The health status of each agent is updated in the following way:\n",
    "\n",
    "- Agents $R$ stay $R$.\n",
    "- Agents $I$ have probability $\\pi$ to become $R$. They stay $I$ otherwise.\n",
    "- An agent of type $S$ in position $(x,y)$ has a probability $prob(x,y,S)$ to be infected that is $\\mu$ if there is another infected agent within a radius $r>0$.\n"
   ]
  },
  {
   "cell_type": "markdown",
   "metadata": {},
   "source": [
    "__Define a type `Agent`, which holds the type of an agent. The state of the whole system will be held in a `Vector[Agent]` type.__\n",
    "\n"
   ]
  },
  {
   "cell_type": "code",
   "execution_count": null,
   "metadata": {},
   "outputs": [],
   "source": []
  },
  {
   "cell_type": "markdown",
   "metadata": {},
   "source": [
    "__Write a function `spatial_transition(S::Vector{Agent})::Vector{Agent}` to compute the transition of the positions. Write another function `random_guess(T=100)` which simulates for $T$ periods in order to find a good initial guess.__\n",
    "\n"
   ]
  },
  {
   "cell_type": "code",
   "execution_count": null,
   "metadata": {},
   "outputs": [],
   "source": []
  },
  {
   "cell_type": "markdown",
   "metadata": {},
   "source": [
    "__Write a function `show_population` to plot all agents with different colors for different health status.__\n",
    "\n"
   ]
  },
  {
   "cell_type": "code",
   "execution_count": null,
   "metadata": {},
   "outputs": [],
   "source": []
  },
  {
   "cell_type": "markdown",
   "metadata": {},
   "source": [
    "__Write a function `evolve(S::Vector[Agent])::Vector[Agent]` which takes the population in a given state and returns the same population with updated health status.__\n",
    "\n"
   ]
  },
  {
   "cell_type": "code",
   "execution_count": null,
   "metadata": {},
   "outputs": [],
   "source": []
  },
  {
   "cell_type": "markdown",
   "metadata": {},
   "source": [
    "__Write a function `simulate(S0::Vector[Agent], k=1)` to simulate the economy starting from an initially random position with `k` infected individuals. The returned object should be of type `Vector[Vector[Agent]]`.__\n",
    "\n"
   ]
  },
  {
   "cell_type": "code",
   "execution_count": null,
   "metadata": {},
   "outputs": [],
   "source": []
  },
  {
   "cell_type": "markdown",
   "metadata": {},
   "source": [
    "__Compute statistics along a simulated path for $n_I$, $n_S$, $n_R$. Plot and compare with the basic SIR model__"
   ]
  },
  {
   "cell_type": "code",
   "execution_count": null,
   "metadata": {},
   "outputs": [],
   "source": []
  },
  {
   "cell_type": "markdown",
   "metadata": {},
   "source": [
    "### Additional questions\n",
    "\n",
    "Have fun by trying to answer one of these questions:\n",
    "- change probability of infection so that it depends on the number of infected people in the vincinity (with some suitable functional formulation for)\n",
    "- compute an animation of the transition\n",
    "- compute an interactive visualisation (with `Interact.jl` if available)"
   ]
  },
  {
   "cell_type": "code",
   "execution_count": null,
   "metadata": {},
   "outputs": [],
   "source": []
  }
 ],
 "metadata": {
  "kernelspec": {
   "display_name": "Julia 1.7.2",
   "language": "julia",
   "name": "julia-1.7"
  },
  "language_info": {
   "file_extension": ".jl",
   "mimetype": "application/julia",
   "name": "julia",
   "version": "1.7.2"
  }
 },
 "nbformat": 4,
 "nbformat_minor": 4
}
